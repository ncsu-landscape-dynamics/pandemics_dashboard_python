{
 "metadata": {
  "language_info": {
   "codemirror_mode": {
    "name": "ipython",
    "version": 3
   },
   "file_extension": ".py",
   "mimetype": "text/x-python",
   "name": "python",
   "nbconvert_exporter": "python",
   "pygments_lexer": "ipython3",
   "version": "3.7.9-final"
  },
  "orig_nbformat": 2,
  "kernelspec": {
   "name": "python3",
   "display_name": "Python 3.7.9 64-bit",
   "metadata": {
    "interpreter": {
     "hash": "bb7966aca5b9fc14511bbf201f0548cc70f99052f45c746f9d637a8f88e745d3"
    }
   }
  }
 },
 "nbformat": 4,
 "nbformat_minor": 2,
 "cells": [
  {
   "cell_type": "code",
   "execution_count": 1,
   "metadata": {},
   "outputs": [],
   "source": [
    "import networkx as nx\n",
    "import plotly.graph_objects as go\n",
    "import pandas as pd\n",
    "import chart_studio.plotly as py\n",
    "import plotly\n",
    "import math\n",
    "from addEdge import addEdge\n",
    "from ast import literal_eval\n",
    "import pickle\n"
   ]
  },
  {
   "cell_type": "code",
   "execution_count": 2,
   "metadata": {},
   "outputs": [],
   "source": [
    "filepath = r\"H:\\Shared drives\\Pandemic Data\\slf_model\\outputs\\slf_scenarios\"\n",
    "header_path = os.path.join(filepath, \"header.csv\")\n",
    "header = pd.read_csv(header_path)\n",
    "\n",
    "countries_list = literal_eval(\n",
    "                        header[\n",
    "                            header.attributes.str.contains(\"starting_countries\")\n",
    "                        ].values[0, 2]\n",
    "                    )\n",
    "\n",
    "starting_countries = countries_list[0]\n",
    "starting_countries\n",
    "\n",
    "viz_data_path = os.path.join(filepath, \"summary_data\")\n",
    "\n",
    "summary_data = pickle.load(open(os.path.join(viz_data_path, \"summary_data.p\"), \"rb\"))\n",
    "def country_codes():\n",
    "    # takes custom data file made from probability file\n",
    "    names_data = pd.read_csv(\"country_names.csv\")\n",
    "\n",
    "    country_codes_dict = {}\n",
    "    country_codes_dict[\"Origin\"] = \"ORG\"\n",
    "    for index, row in names_data.iterrows():\n",
    "\n",
    "        country_codes_dict[row[\"NAME\"]] = row[\"ISO3\"]\n",
    "    country_codes_dict[\"Taiwan\"] = \"TWN\"\n",
    "    return country_codes_dict\n",
    "\n",
    "prop_dict = summary_data['BAU_alpha0.2_lamda3.64_6801-6804']['network']['prop_dict']\n",
    "prop_countries = starting_countries\n",
    "for country in prop_dict:\n",
    "    if prop_dict[country] > 0:\n",
    "        prop_countries.append(country)\n",
    "\n",
    "\n"
   ]
  },
  {
   "cell_type": "code",
   "execution_count": 3,
   "metadata": {
    "tags": []
   },
   "outputs": [
    {
     "output_type": "execute_result",
     "data": {
      "text/plain": [
       "{'Japan': 0.55,\n",
       " 'China': 1.0333333333333332,\n",
       " 'United States': 0.6333333333333333,\n",
       " 'Korea, Republic of': 0.48333333333333334,\n",
       " 'Romania': 0.31666666666666665,\n",
       " 'Germany': 0.8666666666666667,\n",
       " 'Serbia': 0.15,\n",
       " 'France': 0.6,\n",
       " 'Australia': 0.08333333333333333,\n",
       " 'New Zealand': 0.11666666666666667,\n",
       " 'Spain': 0.7666666666666666,\n",
       " 'Belgium': 0.4,\n",
       " 'Portugal': 0.13333333333333333,\n",
       " 'Austria': 0.3,\n",
       " 'Italy': 0.9333333333333333,\n",
       " 'Netherlands': 0.43333333333333335,\n",
       " 'Ireland': 0.25,\n",
       " 'Luxembourg': 0.23333333333333334,\n",
       " 'Morocco': 0.08333333333333333,\n",
       " 'Switzerland': 0.26666666666666666,\n",
       " 'Poland': 0.2,\n",
       " 'United Kingdom': 0.3333333333333333,\n",
       " 'Slovakia': 0.21666666666666667,\n",
       " 'Slovenia': 0.21666666666666667,\n",
       " 'Uruguay': 0.1,\n",
       " 'The former Yugoslav Republic of Macedonia': 0.16666666666666666,\n",
       " 'India': 0.21666666666666667,\n",
       " 'Denmark': 0.2,\n",
       " 'Bosnia and Herzegovina': 0.15,\n",
       " 'Czech Republic': 0.25,\n",
       " 'Turkey': 0.75,\n",
       " 'Hungary': 0.31666666666666665,\n",
       " 'Albania': 0.08333333333333333,\n",
       " 'Algeria': 0.13333333333333333,\n",
       " 'Uzbekistan': 0.03333333333333333,\n",
       " 'Republic of Moldova': 0.1,\n",
       " 'Montenegro': 0.08333333333333333,\n",
       " 'Lebanon': 0.1,\n",
       " 'Georgia': 0.06666666666666667,\n",
       " 'Canada': 0.05,\n",
       " 'Bulgaria': 0.15,\n",
       " 'Azerbaijan': 0.08333333333333333,\n",
       " 'Taiwan': 0.06666666666666667,\n",
       " 'Russia': 0.016666666666666666,\n",
       " 'Argentina': 0.08333333333333333,\n",
       " 'Croatia': 0.11666666666666667,\n",
       " 'Greece': 0.26666666666666666,\n",
       " 'Viet Nam': 0.016666666666666666,\n",
       " 'Ukraine': 0.03333333333333333,\n",
       " 'Mexico': 0.03333333333333333,\n",
       " 'Tunisia': 0.05,\n",
       " 'Iran (Islamic Republic of)': 0.03333333333333333,\n",
       " 'South Africa': 0.03333333333333333,\n",
       " 'Cyprus': 0.06666666666666667,\n",
       " 'Brazil': 0.016666666666666666,\n",
       " 'Kazakhstan': 0.016666666666666666,\n",
       " 'Pakistan': 0.016666666666666666,\n",
       " 'Sweden': 0.03333333333333333,\n",
       " 'Chile': 0.03333333333333333,\n",
       " 'Kyrgyzstan': 0.016666666666666666,\n",
       " 'Armenia': 0.016666666666666666}"
      ]
     },
     "metadata": {},
     "execution_count": 3
    }
   ],
   "source": [
    "G = summary_data['BAU_alpha0.2_lamda3.64_6801-6804']['network']['diGraph']\n",
    "\n",
    "cent = summary_data['BAU_alpha0.2_lamda3.64_6801-6804']['network']['degree_cent']\n",
    "cent\n",
    "#prop50countries = summary_data['BAU_alpha0.2_lamda3.64_6801-6804']['cartographic']['data']['fi_prop50']['countries']\n",
    "\n",
    "#G = G.subgraph(prop_countries)\n",
    "#country_codes_dict = country_codes()\n",
    "\n"
   ]
  },
  {
   "cell_type": "code",
   "execution_count": 4,
   "metadata": {},
   "outputs": [
    {
     "output_type": "execute_result",
     "data": {
      "text/plain": [
       "OutDegreeView({'Japan': 25, 'China': 59, 'United States': 28, 'Korea, Republic of': 25, 'Romania': 4, 'Germany': 29, 'Serbia': 0, 'France': 20, 'Australia': 1, 'New Zealand': 0, 'Spain': 33, 'Belgium': 11, 'Portugal': 3, 'Austria': 7, 'Italy': 43, 'Netherlands': 11, 'Ireland': 4, 'Luxembourg': 5, 'Morocco': 0, 'Switzerland': 3, 'Poland': 5, 'United Kingdom': 7, 'Slovakia': 2, 'Slovenia': 5, 'Uruguay': 0, 'The former Yugoslav Republic of Macedonia': 2, 'India': 11, 'Denmark': 1, 'Bosnia and Herzegovina': 2, 'Czech Republic': 5, 'Turkey': 35, 'Hungary': 4, 'Albania': 2, 'Algeria': 0, 'Uzbekistan': 0, 'Republic of Moldova': 0, 'Montenegro': 0, 'Lebanon': 0, 'Georgia': 0, 'Canada': 0, 'Bulgaria': 3, 'Azerbaijan': 0, 'Taiwan': 1, 'Russia': 0, 'Argentina': 1, 'Croatia': 1, 'Greece': 9, 'Viet Nam': 0, 'Ukraine': 0, 'Mexico': 0, 'Tunisia': 1, 'Iran (Islamic Republic of)': 0, 'South Africa': 0, 'Cyprus': 0, 'Brazil': 0, 'Kazakhstan': 0, 'Pakistan': 0, 'Sweden': 0, 'Chile': 0, 'Kyrgyzstan': 0, 'Armenia': 0})"
      ]
     },
     "metadata": {},
     "execution_count": 4
    }
   ],
   "source": [
    "G.out_degree(weight= )"
   ]
  },
  {
   "cell_type": "code",
   "execution_count": 17,
   "metadata": {},
   "outputs": [
    {
     "output_type": "execute_result",
     "data": {
      "text/plain": [
       "{'num_intros': 2118, 'log_intros': 7.658227526161352}"
      ]
     },
     "metadata": {},
     "execution_count": 17
    }
   ],
   "source": [
    "G['China']['United States'\n",
    "\n",
    "]\n"
   ]
  },
  {
   "cell_type": "code",
   "execution_count": 7,
   "metadata": {},
   "outputs": [
    {
     "output_type": "execute_result",
     "data": {
      "text/plain": [
       "{'num_intros': 41, 'log_intros': 3.713572066704308}"
      ]
     },
     "metadata": {},
     "execution_count": 7
    }
   ],
   "source": [
    "G['France']['Italy']"
   ]
  },
  {
   "cell_type": "code",
   "execution_count": 6,
   "metadata": {},
   "outputs": [
    {
     "output_type": "stream",
     "name": "stdout",
     "text": [
      "{'Japan': 0.55, 'China': 1.0333333333333332, 'United States': 0.6333333333333333, 'Korea, Republic of': 0.48333333333333334, 'Romania': 0.31666666666666665, 'Germany': 0.8666666666666667, 'Serbia': 0.15, 'France': 0.6, 'Australia': 0.08333333333333333, 'New Zealand': 0.11666666666666667, 'Spain': 0.7666666666666666, 'Belgium': 0.4, 'Portugal': 0.13333333333333333, 'Austria': 0.3, 'Italy': 0.9333333333333333, 'Netherlands': 0.43333333333333335, 'Ireland': 0.25, 'Luxembourg': 0.23333333333333334, 'Morocco': 0.08333333333333333, 'Switzerland': 0.26666666666666666, 'Poland': 0.2, 'United Kingdom': 0.3333333333333333, 'Slovakia': 0.21666666666666667, 'Slovenia': 0.21666666666666667, 'Uruguay': 0.1, 'The former Yugoslav Republic of Macedonia': 0.16666666666666666, 'India': 0.21666666666666667, 'Denmark': 0.2, 'Bosnia and Herzegovina': 0.15, 'Czech Republic': 0.25, 'Turkey': 0.75, 'Hungary': 0.31666666666666665, 'Albania': 0.08333333333333333, 'Algeria': 0.13333333333333333, 'Uzbekistan': 0.03333333333333333, 'Republic of Moldova': 0.1, 'Montenegro': 0.08333333333333333, 'Lebanon': 0.1, 'Georgia': 0.06666666666666667, 'Canada': 0.05, 'Bulgaria': 0.15, 'Azerbaijan': 0.08333333333333333, 'Taiwan': 0.06666666666666667, 'Russia': 0.016666666666666666, 'Argentina': 0.08333333333333333, 'Croatia': 0.11666666666666667, 'Greece': 0.26666666666666666, 'Viet Nam': 0.016666666666666666, 'Ukraine': 0.03333333333333333, 'Mexico': 0.03333333333333333, 'Tunisia': 0.05, 'Iran (Islamic Republic of)': 0.03333333333333333, 'South Africa': 0.03333333333333333, 'Cyprus': 0.06666666666666667, 'Brazil': 0.016666666666666666, 'Kazakhstan': 0.016666666666666666, 'Pakistan': 0.016666666666666666, 'Sweden': 0.03333333333333333, 'Chile': 0.03333333333333333, 'Kyrgyzstan': 0.016666666666666666, 'Armenia': 0.016666666666666666}\n"
     ]
    }
   ],
   "source": [
    "cent = nx.degree_centrality(G)\n",
    "print(cent)\n",
    "\n",
    "\n",
    "t0 = []\n",
    "t1 = []\n",
    "t2 = []\n",
    "t3 = []\n",
    "for country in cent:\n",
    "    if country == 'China':\n",
    "        t0.append(country)\n",
    "    elif cent[country] > 0.5:\n",
    "       t1.append(country)\n",
    "    elif cent[country] > 0.1 :\n",
    "        t2.append(country)\n",
    "    else:\n",
    "        t3.append(country)\n"
   ]
  },
  {
   "cell_type": "code",
   "execution_count": 7,
   "metadata": {},
   "outputs": [],
   "source": [
    "shells = [t0,t1,t2,t3]\n",
    "#pos = nx.shell_layout(G, shells)\n",
    "pos = nx.spring_layout(G, iterations = 1000, weight = 'num_intros', k = 10)"
   ]
  },
  {
   "cell_type": "code",
   "execution_count": 8,
   "metadata": {},
   "outputs": [],
   "source": [
    "\n",
    "x_pos = []\n",
    "y_pos = []\n",
    "iso_labels = []\n",
    "hover_labels = []\n",
    "for country in pos:\n",
    "    x_pos.append(pos[country][0])\n",
    "    y_pos.append(pos[country][1])\n",
    "    iso_labels.append(country_codes_dict[country])\n",
    "    G.nodes[country]['pos'] = pos[country]\n",
    "    hover_labels.append(country + '<br> degree centrality: ' + str(cent[country]))\n"
   ]
  },
  {
   "cell_type": "code",
   "execution_count": 9,
   "metadata": {},
   "outputs": [
    {
     "output_type": "display_data",
     "data": {
      "application/vnd.plotly.v1+json": {
       "config": {
        "plotlyServerURL": "https://plot.ly"
       },
       "data": [
        {
         "hoverinfo": "text",
         "line": {
          "color": "white",
          "width": 2
         },
         "mode": "lines",
         "opacity": 0.5,
         "text": [
          "Japan to Korea, Republic of",
          "Japan to Korea, Republic of",
          "Japan to Korea, Republic of",
          "Japan to Korea, Republic of",
          "Japan to Korea, Republic of",
          "Japan to Korea, Republic of",
          "Japan to Korea, Republic of",
          "Japan to Korea, Republic of",
          "Japan to Korea, Republic of"
         ],
         "type": "scatter",
         "x": [
          0.18269975794669197,
          0.10104901791492428,
          null,
          0.10104901791492428,
          0.14091271571030176,
          null,
          0.10104901791492428,
          0.13721735176294755,
          null
         ],
         "y": [
          -0.033339377468107424,
          -0.04814992885123582,
          null,
          -0.04814992885123582,
          -0.05144064658811714,
          null,
          -0.04814992885123582,
          -0.031067925110370334,
          null
         ]
        },
        {
         "hoverinfo": "text",
         "line": {
          "color": "white",
          "width": 2
         },
         "mode": "lines",
         "opacity": 0.5,
         "text": [
          "Japan to Netherlands",
          "Japan to Netherlands",
          "Japan to Netherlands",
          "Japan to Netherlands",
          "Japan to Netherlands",
          "Japan to Netherlands",
          "Japan to Netherlands",
          "Japan to Netherlands",
          "Japan to Netherlands"
         ],
         "type": "scatter",
         "x": [
          0.05042103711140092,
          0.02785560009708117,
          null,
          0.02785560009708117,
          0.05746204285558228,
          null,
          0.02785560009708117,
          0.06694123196219814,
          null
         ],
         "y": [
          -0.013608562266855945,
          -0.0019873318126896536,
          null,
          -0.0019873318126896536,
          -0.028878732453820034,
          null,
          -0.0019873318126896536,
          -0.010472746532003162,
          null
         ]
        },
        {
         "hoverinfo": "text",
         "line": {
          "color": "white",
          "width": 2
         },
         "mode": "lines",
         "opacity": 0.5,
         "text": [
          "Japan to Germany",
          "Japan to Germany",
          "Japan to Germany",
          "Japan to Germany",
          "Japan to Germany",
          "Japan to Germany",
          "Japan to Germany",
          "Japan to Germany",
          "Japan to Germany"
         ],
         "type": "scatter",
         "x": [
          0.10023904644275423,
          0.12152730103704179,
          null,
          0.12152730103704179,
          0.12460893342335393,
          null,
          0.12152730103704179,
          0.10425361185463283,
          null
         ],
         "y": [
          0.023479610402610956,
          -0.09047203780901694,
          null,
          -0.09047203780901694,
          -0.050587115580856684,
          null,
          -0.09047203780901694,
          -0.054389865738307466,
          null
         ]
        },
        {
         "hoverinfo": "text",
         "line": {
          "color": "white",
          "width": 2
         },
         "mode": "lines",
         "opacity": 0.5,
         "text": [
          "Japan to Italy",
          "Japan to Italy",
          "Japan to Italy",
          "Japan to Italy",
          "Japan to Italy",
          "Japan to Italy",
          "Japan to Italy",
          "Japan to Italy",
          "Japan to Italy"
         ],
         "type": "scatter",
         "x": [
          0.04630183963611326,
          0.10834470160385143,
          null,
          0.10834470160385143,
          0.07505533304598874,
          null,
          0.10834470160385143,
          0.06842544353924182,
          null
         ],
         "y": [
          -0.0233309752569817,
          -0.044300349594634164,
          null,
          -0.044300349594634164,
          -0.02212071115951899,
          null,
          -0.044300349594634164,
          -0.04173690354200204,
          null
         ]
        },
        {
         "hoverinfo": "text",
         "line": {
          "color": "white",
          "width": 2
         },
         "mode": "lines",
         "opacity": 0.5,
         "text": [
          "Japan to Spain",
          "Japan to Spain",
          "Japan to Spain",
          "Japan to Spain",
          "Japan to Spain",
          "Japan to Spain",
          "Japan to Spain",
          "Japan to Spain",
          "Japan to Spain"
         ],
         "type": "scatter",
         "x": [
          0.048747318009134885,
          0.013174126107297707,
          null,
          0.013174126107297707,
          0.05266706842583814,
          null,
          0.013174126107297707,
          0.04420790668936306,
          null
         ],
         "y": [
          -0.07479945798224438,
          -0.09072325871669004,
          null,
          -0.09072325871669004,
          -0.08438703724472169,
          null,
          -0.09072325871669004,
          -0.0654894587986908,
          null
         ]
        },
        {
         "hoverinfo": "text",
         "line": {
          "color": "white",
          "width": 2
         },
         "mode": "lines",
         "opacity": 0.5,
         "text": [
          "Japan to United States",
          "Japan to United States",
          "Japan to United States",
          "Japan to United States",
          "Japan to United States",
          "Japan to United States",
          "Japan to United States",
          "Japan to United States",
          "Japan to United States"
         ],
         "type": "scatter",
         "x": [
          0.09840456235107595,
          0.1032053559686358,
          null,
          0.1032053559686358,
          0.10522998781617343,
          null,
          0.1032053559686358,
          0.08497593988606623,
          null
         ],
         "y": [
          0.02311168266438826,
          0.0007177120588933439,
          null,
          0.0007177120588933439,
          0.040683309450589705,
          null,
          0.0007177120588933439,
          0.03634125060129231,
          null
         ]
        },
        {
         "hoverinfo": "text",
         "line": {
          "color": "white",
          "width": 2
         },
         "mode": "lines",
         "opacity": 0.5,
         "text": [
          "Japan to France",
          "Japan to France",
          "Japan to France",
          "Japan to France",
          "Japan to France",
          "Japan to France",
          "Japan to France",
          "Japan to France",
          "Japan to France"
         ],
         "type": "scatter",
         "x": [
          0.04894256542606197,
          0.08644086748795118,
          null,
          0.08644086748795118,
          0.055573894139569396,
          null,
          0.08644086748795118,
          0.04698706597210523,
          null
         ],
         "y": [
          -0.016656854704501543,
          -0.03374562518294344,
          null,
          -0.03374562518294344,
          -0.008301188266523232,
          null,
          -0.03374562518294344,
          -0.027143583102523846,
          null
         ]
        },
        {
         "hoverinfo": "text",
         "line": {
          "color": "white",
          "width": 2
         },
         "mode": "lines",
         "opacity": 0.5,
         "text": [
          "Japan to United Kingdom",
          "Japan to United Kingdom",
          "Japan to United Kingdom",
          "Japan to United Kingdom",
          "Japan to United Kingdom",
          "Japan to United Kingdom",
          "Japan to United Kingdom",
          "Japan to United Kingdom",
          "Japan to United Kingdom"
         ],
         "type": "scatter",
         "x": [
          0.04986326343702378,
          -0.10820469286239026,
          null,
          -0.10820469286239026,
          -0.07812832245857493,
          null,
          -0.10820469286239026,
          -0.06897288258980389,
          null
         ],
         "y": [
          -0.014715367942152252,
          0.06321119906994854,
          null,
          0.06321119906994854,
          0.036841380171444796,
          null,
          0.06321119906994854,
          0.055412451212556973,
          null
         ]
        },
        {
         "hoverinfo": "text",
         "line": {
          "color": "white",
          "width": 2
         },
         "mode": "lines",
         "opacity": 0.5,
         "text": [
          "Japan to Taiwan",
          "Japan to Taiwan",
          "Japan to Taiwan",
          "Japan to Taiwan",
          "Japan to Taiwan",
          "Japan to Taiwan",
          "Japan to Taiwan",
          "Japan to Taiwan",
          "Japan to Taiwan"
         ],
         "type": "scatter",
         "x": [
          0.11800755695488334,
          0.14308150657527063,
          null,
          0.14308150657527063,
          0.15078563389410438,
          null,
          0.14308150657527063,
          0.13012631066677544,
          null
         ],
         "y": [
          -0.11640606913115618,
          -0.4845679447106899,
          null,
          -0.4845679447106899,
          -0.4453136129495001,
          null,
          -0.4845679447106899,
          -0.44672063253750033,
          null
         ]
        },
        {
         "hoverinfo": "text",
         "line": {
          "color": "white",
          "width": 2
         },
         "mode": "lines",
         "opacity": 0.5,
         "text": [
          "Japan to Czech Republic",
          "Japan to Czech Republic",
          "Japan to Czech Republic",
          "Japan to Czech Republic",
          "Japan to Czech Republic",
          "Japan to Czech Republic",
          "Japan to Czech Republic",
          "Japan to Czech Republic",
          "Japan to Czech Republic"
         ],
         "type": "scatter",
         "x": [
          0.17573549738870867,
          0.2694010391631813,
          null,
          0.2694010391631813,
          0.24000715820485016,
          null,
          0.2694010391631813,
          0.23037984416015123,
          null
         ],
         "y": [
          -0.07878163097760571,
          -0.1279721726840468,
          null,
          -0.1279721726840468,
          -0.10084147792944752,
          null,
          -0.1279721726840468,
          -0.11917324228340817,
          null
         ]
        },
        {
         "hoverinfo": "text",
         "line": {
          "color": "white",
          "width": 2
         },
         "mode": "lines",
         "opacity": 0.5,
         "text": [
          "Japan to Romania",
          "Japan to Romania",
          "Japan to Romania",
          "Japan to Romania",
          "Japan to Romania",
          "Japan to Romania",
          "Japan to Romania",
          "Japan to Romania",
          "Japan to Romania"
         ],
         "type": "scatter",
         "x": [
          0.10942597523225285,
          0.10487448981537577,
          null,
          0.10487448981537577,
          0.11727638650601337,
          null,
          0.10487448981537577,
          0.0966096417761193,
          null
         ],
         "y": [
          -0.11646791926284854,
          -0.20132393999071352,
          null,
          -0.20132393999071352,
          -0.16331352873379595,
          null,
          -0.20132393999071352,
          -0.1622050098886101,
          null
         ]
        },
        {
         "hoverinfo": "text",
         "line": {
          "color": "white",
          "width": 2
         },
         "mode": "lines",
         "opacity": 0.5,
         "text": [
          "Japan to China",
          "Japan to China",
          "Japan to China",
          "Japan to China",
          "Japan to China",
          "Japan to China",
          "Japan to China",
          "Japan to China",
          "Japan to China"
         ],
         "type": "scatter",
         "x": [
          0.0837511126342385,
          0.11702429569435731,
          null,
          0.11702429569435731,
          0.11031763303793736,
          null,
          0.11702429569435731,
          0.09149803275619378,
          null
         ],
         "y": [
          0.018244029427333663,
          -0.05425850116914134,
          null,
          -0.05425850116914134,
          -0.014822255762958474,
          null,
          -0.05425850116914134,
          -0.02345904214571958,
          null
         ]
        },
        {
         "hoverinfo": "text",
         "line": {
          "color": "white",
          "width": 2
         },
         "mode": "lines",
         "opacity": 0.5,
         "text": [
          "Japan to Ireland",
          "Japan to Ireland",
          "Japan to Ireland",
          "Japan to Ireland",
          "Japan to Ireland",
          "Japan to Ireland",
          "Japan to Ireland",
          "Japan to Ireland",
          "Japan to Ireland"
         ],
         "type": "scatter",
         "x": [
          0.056551316695431286,
          -0.11245909931323979,
          null,
          -0.11245909931323979,
          -0.08764447246433184,
          null,
          -0.11245909931323979,
          -0.07528306981790299,
          null
         ],
         "y": [
          -0.0037799595794099916,
          0.12199731828324967,
          null,
          0.12199731828324967,
          0.09062545376574743,
          null,
          0.12199731828324967,
          0.10723580007146305,
          null
         ]
        },
        {
         "hoverinfo": "text",
         "line": {
          "color": "white",
          "width": 2
         },
         "mode": "lines",
         "opacity": 0.5,
         "text": [
          "Japan to Belgium",
          "Japan to Belgium",
          "Japan to Belgium",
          "Japan to Belgium",
          "Japan to Belgium",
          "Japan to Belgium",
          "Japan to Belgium",
          "Japan to Belgium",
          "Japan to Belgium"
         ],
         "type": "scatter",
         "x": [
          0.07550324734254804,
          0.07802862819810007,
          null,
          0.07802862819810007,
          0.06614471946549313,
          null,
          0.07802862819810007,
          0.048622798247283744,
          null
         ],
         "y": [
          0.01377328391456574,
          0.009773607299989065,
          null,
          0.009773607299989065,
          0.04800173348423506,
          null,
          0.009773607299989065,
          0.03693818134831971,
          null
         ]
        },
        {
         "hoverinfo": "text",
         "line": {
          "color": "white",
          "width": 2
         },
         "mode": "lines",
         "opacity": 0.5,
         "text": [
          "Japan to New Zealand",
          "Japan to New Zealand",
          "Japan to New Zealand",
          "Japan to New Zealand",
          "Japan to New Zealand",
          "Japan to New Zealand",
          "Japan to New Zealand",
          "Japan to New Zealand",
          "Japan to New Zealand"
         ],
         "type": "scatter",
         "x": [
          0.1818517497686155,
          0.7012563730114363,
          null,
          0.7012563730114363,
          0.6612680913129517,
          null,
          0.7012563730114363,
          0.666138909077082,
          null
         ],
         "y": [
          -0.02933036126060213,
          0.0963830850366651,
          null,
          0.0963830850366651,
          0.09735627729622179,
          null,
          0.0963830850366651,
          0.07723175340696528,
          null
         ]
        },
        {
         "hoverinfo": "text",
         "line": {
          "color": "white",
          "width": 2
         },
         "mode": "lines",
         "opacity": 0.5,
         "text": [
          "Japan to Hungary",
          "Japan to Hungary",
          "Japan to Hungary",
          "Japan to Hungary",
          "Japan to Hungary",
          "Japan to Hungary",
          "Japan to Hungary",
          "Japan to Hungary",
          "Japan to Hungary"
         ],
         "type": "scatter",
         "x": [
          0.1826693466666962,
          0.4040904558838235,
          null,
          0.4040904558838235,
          0.3642180105240004,
          null,
          0.4040904558838235,
          0.36796231763263654,
          null
         ],
         "y": [
          -0.0331728563568113,
          0.007538918673833652,
          null,
          0.007538918673833652,
          0.010734093990980001,
          null,
          0.007538918673833652,
          -0.009630201011884143,
          null
         ]
        },
        {
         "hoverinfo": "text",
         "line": {
          "color": "white",
          "width": 2
         },
         "mode": "lines",
         "opacity": 0.5,
         "text": [
          "Japan to Poland",
          "Japan to Poland",
          "Japan to Poland",
          "Japan to Poland",
          "Japan to Poland",
          "Japan to Poland",
          "Japan to Poland",
          "Japan to Poland",
          "Japan to Poland"
         ],
         "type": "scatter",
         "x": [
          0.1832943263298744,
          0.1970721485705158,
          null,
          0.1970721485705158,
          0.15999958944183879,
          null,
          0.1970721485705158,
          0.15744511940065317,
          null
         ],
         "y": [
          -0.05465612959299029,
          -0.056368750592419935,
          null,
          -0.056368750592419935,
          -0.041326248230164626,
          null,
          -0.056368750592419935,
          -0.06187784097455792,
          null
         ]
        },
        {
         "hoverinfo": "text",
         "line": {
          "color": "white",
          "width": 2
         },
         "mode": "lines",
         "opacity": 0.5,
         "text": [
          "Japan to Turkey",
          "Japan to Turkey",
          "Japan to Turkey",
          "Japan to Turkey",
          "Japan to Turkey",
          "Japan to Turkey",
          "Japan to Turkey",
          "Japan to Turkey",
          "Japan to Turkey"
         ],
         "type": "scatter",
         "x": [
          0.042761271072719334,
          0.017812511219564064,
          null,
          0.017812511219564064,
          0.057085109294781125,
          null,
          0.017812511219564064,
          0.05561788582189521,
          null
         ],
         "y": [
          -0.050949284743170495,
          -0.05272178781192563,
          null,
          -0.05272178781192563,
          -0.06031040180508026,
          null,
          -0.05272178781192563,
          -0.03965742127190308,
          null
         ]
        },
        {
         "hoverinfo": "text",
         "line": {
          "color": "white",
          "width": 2
         },
         "mode": "lines",
         "opacity": 0.5,
         "text": [
          "Japan to Slovakia",
          "Japan to Slovakia",
          "Japan to Slovakia",
          "Japan to Slovakia",
          "Japan to Slovakia",
          "Japan to Slovakia",
          "Japan to Slovakia",
          "Japan to Slovakia",
          "Japan to Slovakia"
         ],
         "type": "scatter",
         "x": [
          0.17878818458658685,
          0.48239744444361243,
          null,
          0.48239744444361243,
          0.45036322187312433,
          null,
          0.48239744444361243,
          0.44267759539047014,
          null
         ],
         "y": [
          -0.07215921915423328,
          -0.19352482909474045,
          null,
          -0.19352482909474045,
          -0.16957003206151097,
          null,
          -0.19352482909474045,
          -0.18879647760670767,
          null
         ]
        },
        {
         "hoverinfo": "text",
         "line": {
          "color": "white",
          "width": 2
         },
         "mode": "lines",
         "opacity": 0.5,
         "text": [
          "Japan to Switzerland",
          "Japan to Switzerland",
          "Japan to Switzerland",
          "Japan to Switzerland",
          "Japan to Switzerland",
          "Japan to Switzerland",
          "Japan to Switzerland",
          "Japan to Switzerland",
          "Japan to Switzerland"
         ],
         "type": "scatter",
         "x": [
          0.1635136471325656,
          0.26212058622694207,
          null,
          0.26212058622694207,
          0.22733291719120374,
          null,
          0.26212058622694207,
          0.24186626685120835,
          null
         ],
         "y": [
          0.0036268988233852037,
          0.10079555270999183,
          null,
          0.10079555270999183,
          0.08105018121466984,
          null,
          0.10079555270999183,
          0.0663017248700127,
          null
         ]
        },
        {
         "hoverinfo": "text",
         "line": {
          "color": "white",
          "width": 2
         },
         "mode": "lines",
         "opacity": 0.5,
         "text": [
          "Japan to Denmark",
          "Japan to Denmark",
          "Japan to Denmark",
          "Japan to Denmark",
          "Japan to Denmark",
          "Japan to Denmark",
          "Japan to Denmark",
          "Japan to Denmark",
          "Japan to Denmark"
         ],
         "type": "scatter",
         "x": [
          0.04888509494901447,
          -0.23289250980997112,
          null,
          -0.23289250980997112,
          -0.19342839904183595,
          null,
          -0.23289250980997112,
          -0.2019776324694329,
          null
         ],
         "y": [
          -0.07510529692009969,
          -0.2028487105483058,
          null,
          -0.2028487105483058,
          -0.19632462030344616,
          null,
          -0.2028487105483058,
          -0.17746662727560752,
          null
         ]
        },
        {
         "hoverinfo": "text",
         "line": {
          "color": "white",
          "width": 2
         },
         "mode": "lines",
         "opacity": 0.5,
         "text": [
          "Japan to Slovenia",
          "Japan to Slovenia",
          "Japan to Slovenia",
          "Japan to Slovenia",
          "Japan to Slovenia",
          "Japan to Slovenia",
          "Japan to Slovenia",
          "Japan to Slovenia",
          "Japan to Slovenia"
         ],
         "type": "scatter",
         "x": [
          0.08916206660458582,
          0.035269306323770275,
          null,
          0.035269306323770275,
          0.03869024504725238,
          null,
          0.035269306323770275,
          0.05815789087876288,
          null
         ],
         "y": [
          0.020460899859072262,
          0.1692866709566657,
          null,
          0.1692866709566657,
          0.1294347415253313,
          null,
          0.1692866709566657,
          0.13648435704104644,
          null
         ]
        },
        {
         "hoverinfo": "text",
         "line": {
          "color": "white",
          "width": 2
         },
         "mode": "lines",
         "opacity": 0.5,
         "text": [
          "Japan to Austria",
          "Japan to Austria",
          "Japan to Austria",
          "Japan to Austria",
          "Japan to Austria",
          "Japan to Austria",
          "Japan to Austria",
          "Japan to Austria",
          "Japan to Austria"
         ],
         "type": "scatter",
         "x": [
          0.1687185852487189,
          0.21101547349497785,
          null,
          0.21101547349497785,
          0.1742453021884035,
          null,
          0.21101547349497785,
          0.18704710599917168,
          null
         ],
         "y": [
          -0.0022803094344278907,
          0.030990356027350008,
          null,
          0.030990356027350008,
          0.015239286112964316,
          null,
          0.030990356027350008,
          -0.0010355563085799532,
          null
         ]
        },
        {
         "hoverinfo": "text",
         "line": {
          "color": "white",
          "width": 2
         },
         "mode": "lines",
         "opacity": 0.5,
         "text": [
          "Japan to Sweden",
          "Japan to Sweden",
          "Japan to Sweden",
          "Japan to Sweden",
          "Japan to Sweden",
          "Japan to Sweden",
          "Japan to Sweden",
          "Japan to Sweden",
          "Japan to Sweden"
         ],
         "type": "scatter",
         "x": [
          0.0777768072546024,
          -0.38091314883346167,
          null,
          -0.38091314883346167,
          -0.3704849900175579,
          null,
          -0.38091314883346167,
          -0.3525738155345356,
          null
         ],
         "y": [
          0.01514966037286488,
          0.8060524011283546,
          null,
          0.8060524011283546,
          0.7674358354290451,
          null,
          0.8060524011283546,
          0.7778235536337936,
          null
         ]
        },
        {
         "hoverinfo": "text",
         "line": {
          "color": "white",
          "width": 2
         },
         "mode": "lines",
         "opacity": 0.5,
         "text": [
          "Japan to Bulgaria",
          "Japan to Bulgaria",
          "Japan to Bulgaria",
          "Japan to Bulgaria",
          "Japan to Bulgaria",
          "Japan to Bulgaria",
          "Japan to Bulgaria",
          "Japan to Bulgaria",
          "Japan to Bulgaria"
         ],
         "type": "scatter",
         "x": [
          0.048712095354416965,
          -0.16410838102630576,
          null,
          -0.16410838102630576,
          -0.1246060923164093,
          null,
          -0.16410838102630576,
          -0.13304253626653065,
          null
         ],
         "y": [
          -0.07472064271617321,
          -0.16967441238424605,
          null,
          -0.16967441238424605,
          -0.16338613084300116,
          null,
          -0.16967441238424605,
          -0.14447745646843096,
          null
         ]
        },
        {
         "hoverinfo": "text",
         "line": {
          "color": "white",
          "width": 2
         },
         "mode": "lines",
         "opacity": 0.5,
         "text": [
          "China to Japan",
          "China to Japan",
          "China to Japan",
          "China to Japan",
          "China to Japan",
          "China to Japan",
          "China to Japan",
          "China to Japan",
          "China to Japan"
         ],
         "type": "scatter",
         "x": [
          0.11702429569435731,
          0.0837511126342385,
          null,
          0.0837511126342385,
          0.09045690935247439,
          null,
          0.0837511126342385,
          0.10927420445806592,
          null
         ],
         "y": [
          -0.05425850116914134,
          0.018244029427333663,
          null,
          0.018244029427333663,
          -0.021187373599108,
          null,
          0.018244029427333663,
          -0.012551668941309477,
          null
         ]
        },
        {
         "hoverinfo": "text",
         "line": {
          "color": "white",
          "width": 2
         },
         "mode": "lines",
         "opacity": 0.5,
         "text": [
          "China to United States",
          "China to United States",
          "China to United States",
          "China to United States",
          "China to United States",
          "China to United States",
          "China to United States",
          "China to United States",
          "China to United States"
         ],
         "type": "scatter",
         "x": [
          0.08855145993344446,
          0.08741646019685577,
          null,
          0.08741646019685577,
          0.09828779744988576,
          null,
          0.08741646019685577,
          0.07762069513732575,
          null
         ],
         "y": [
          0.08054795739051335,
          -0.0008444446147604784,
          null,
          -0.0008444446147604784,
          0.03757679397276376,
          null,
          -0.0008444446147604784,
          0.03786499267341346,
          null
         ]
        },
        {
         "hoverinfo": "text",
         "line": {
          "color": "white",
          "width": 2
         },
         "mode": "lines",
         "opacity": 0.5,
         "text": [
          "China to Korea, Republic of",
          "China to Korea, Republic of",
          "China to Korea, Republic of",
          "China to Korea, Republic of",
          "China to Korea, Republic of",
          "China to Korea, Republic of",
          "China to Korea, Republic of",
          "China to Korea, Republic of",
          "China to Korea, Republic of"
         ],
         "type": "scatter",
         "x": [
          0.14949997853116392,
          0.1086067991410408,
          null,
          0.1086067991410408,
          0.13751152809699027,
          null,
          0.1086067991410408,
          0.14746243161368003,
          null
         ],
         "y": [
          -0.02401366316140016,
          -0.0016015251054718183,
          null,
          -0.0016015251054718183,
          -0.029248330920038455,
          null,
          -0.0016015251054718183,
          -0.011091996796407112,
          null
         ]
        },
        {
         "hoverinfo": "text",
         "line": {
          "color": "white",
          "width": 2
         },
         "mode": "lines",
         "opacity": 0.5,
         "text": [
          "China to Romania",
          "China to Romania",
          "China to Romania",
          "China to Romania",
          "China to Romania",
          "China to Romania",
          "China to Romania",
          "China to Romania",
          "China to Romania"
         ],
         "type": "scatter",
         "x": [
          0.0909527421120046,
          0.0977057247462125,
          null,
          0.0977057247462125,
          0.10619669087934401,
          null,
          0.0977057247462125,
          0.08550883674932089,
          null
         ],
         "y": [
          -0.06061396025715192,
          -0.2013037809439389,
          null,
          -0.2013037809439389,
          -0.16220322020222525,
          null,
          -0.2013037809439389,
          -0.1631962189728326,
          null
         ]
        },
        {
         "hoverinfo": "text",
         "line": {
          "color": "white",
          "width": 2
         },
         "mode": "lines",
         "opacity": 0.5,
         "text": [
          "China to Germany",
          "China to Germany",
          "China to Germany",
          "China to Germany",
          "China to Germany",
          "China to Germany",
          "China to Germany",
          "China to Germany",
          "China to Germany"
         ],
         "type": "scatter",
         "x": [
          0.12718420207235775,
          0.06894014721802676,
          null,
          0.06894014721802676,
          0.0820428354049257,
          null,
          0.06894014721802676,
          0.09918321420696415,
          null
         ],
         "y": [
          -0.048536787454792174,
          0.03741847810085745,
          null,
          0.03741847810085745,
          -0.00037313422157583126,
          null,
          0.03741847810085745,
          0.01124132587310668,
          null
         ]
        },
        {
         "hoverinfo": "text",
         "line": {
          "color": "white",
          "width": 2
         },
         "mode": "lines",
         "opacity": 0.5,
         "text": [
          "China to Serbia",
          "China to Serbia",
          "China to Serbia",
          "China to Serbia",
          "China to Serbia",
          "China to Serbia",
          "China to Serbia",
          "China to Serbia",
          "China to Serbia"
         ],
         "type": "scatter",
         "x": [
          0.14413530415799047,
          0.6148345082928734,
          null,
          0.6148345082928734,
          0.577688981182649,
          null,
          0.6148345082928734,
          0.590085486005803,
          null
         ],
         "y": [
          0.05221320313111027,
          0.4040471467582141,
          null,
          0.4040471467582141,
          0.3892072511035191,
          null,
          0.4040471467582141,
          0.3726226565766257,
          null
         ]
        },
        {
         "hoverinfo": "text",
         "line": {
          "color": "white",
          "width": 2
         },
         "mode": "lines",
         "opacity": 0.5,
         "text": [
          "China to France",
          "China to France",
          "China to France",
          "China to France",
          "China to France",
          "China to France",
          "China to France",
          "China to France",
          "China to France"
         ],
         "type": "scatter",
         "x": [
          0.01859158219358764,
          0.09114985253101401,
          null,
          0.09114985253101401,
          0.051189894806485337,
          null,
          0.09114985253101401,
          0.05563936501074819,
          null
         ],
         "y": [
          -0.005246574613575108,
          0.01071821277860139,
          null,
          0.01071821277860139,
          0.01252651077194494,
          null,
          0.01071821277860139,
          -0.007695734083815013,
          null
         ]
        },
        {
         "hoverinfo": "text",
         "line": {
          "color": "white",
          "width": 2
         },
         "mode": "lines",
         "opacity": 0.5,
         "text": [
          "China to Australia",
          "China to Australia",
          "China to Australia",
          "China to Australia",
          "China to Australia",
          "China to Australia",
          "China to Australia",
          "China to Australia",
          "China to Australia"
         ],
         "type": "scatter",
         "x": [
          0.1305552790477071,
          0.466465743410991,
          null,
          0.466465743410991,
          0.43473369158294156,
          null,
          0.466465743410991,
          0.4511617534752416,
          null
         ],
         "y": [
          0.06596439402303933,
          0.5038155944408842,
          null,
          0.5038155944408842,
          0.4794620483177925,
          null,
          0.5038155944408842,
          0.46685877891202604,
          null
         ]
        },
        {
         "hoverinfo": "text",
         "line": {
          "color": "white",
          "width": 2
         },
         "mode": "lines",
         "opacity": 0.5,
         "text": [
          "China to New Zealand",
          "China to New Zealand",
          "China to New Zealand",
          "China to New Zealand",
          "China to New Zealand",
          "China to New Zealand",
          "China to New Zealand",
          "China to New Zealand",
          "China to New Zealand"
         ],
         "type": "scatter",
         "x": [
          0.15739952884869063,
          0.7000665957419496,
          null,
          0.7000665957419496,
          0.660316585303764,
          null,
          0.7000665957419496,
          0.6634091102675848,
          null
         ],
         "y": [
          0.0204781570539806,
          0.10244868477455363,
          null,
          0.10244868477455363,
          0.10691461804295274,
          null,
          0.10244868477455363,
          0.08644129121750053,
          null
         ]
        },
        {
         "hoverinfo": "text",
         "line": {
          "color": "white",
          "width": 2
         },
         "mode": "lines",
         "opacity": 0.5,
         "text": [
          "China to Spain",
          "China to Spain",
          "China to Spain",
          "China to Spain",
          "China to Spain",
          "China to Spain",
          "China to Spain",
          "China to Spain",
          "China to Spain"
         ],
         "type": "scatter",
         "x": [
          0.035919456418347956,
          0.0003599895086731225,
          null,
          0.0003599895086731225,
          0.035674245669184854,
          null,
          0.0003599895086731225,
          0.02155243887266924,
          null
         ],
         "y": [
          -0.03824125044445997,
          -0.07140734820200319,
          null,
          -0.07140734820200319,
          -0.052626161028486884,
          null,
          -0.07140734820200319,
          -0.03748523491625175,
          null
         ]
        },
        {
         "hoverinfo": "text",
         "line": {
          "color": "white",
          "width": 2
         },
         "mode": "lines",
         "opacity": 0.5,
         "text": [
          "China to Belgium",
          "China to Belgium",
          "China to Belgium",
          "China to Belgium",
          "China to Belgium",
          "China to Belgium",
          "China to Belgium",
          "China to Belgium",
          "China to Belgium"
         ],
         "type": "scatter",
         "x": [
          0.043677732254457285,
          0.08421214509677931,
          null,
          0.08421214509677931,
          0.0683118403374873,
          null,
          0.08421214509677931,
          0.052088981654644616,
          null
         ],
         "y": [
          0.06526199002264646,
          0.014159019244379616,
          null,
          0.014159019244379616,
          0.05086521042972603,
          null,
          0.014159019244379616,
          0.03799736090741204,
          null
         ]
        },
        {
         "hoverinfo": "text",
         "line": {
          "color": "white",
          "width": 2
         },
         "mode": "lines",
         "opacity": 0.5,
         "text": [
          "China to Austria",
          "China to Austria",
          "China to Austria",
          "China to Austria",
          "China to Austria",
          "China to Austria",
          "China to Austria",
          "China to Austria",
          "China to Austria"
         ],
         "type": "scatter",
         "x": [
          0.15398139399854355,
          0.2001106665557417,
          null,
          0.2001106665557417,
          0.16025440119035336,
          null,
          0.2001106665557417,
          0.1672968963858531,
          null
         ],
         "y": [
          0.03395022530580844,
          0.05063393933958494,
          null,
          0.05063393933958494,
          0.047228403066561814,
          null,
          0.05063393933958494,
          0.02775652573094337,
          null
         ]
        },
        {
         "hoverinfo": "text",
         "line": {
          "color": "white",
          "width": 2
         },
         "mode": "lines",
         "opacity": 0.5,
         "text": [
          "China to Italy",
          "China to Italy",
          "China to Italy",
          "China to Italy",
          "China to Italy",
          "China to Italy",
          "China to Italy",
          "China to Italy",
          "China to Italy"
         ],
         "type": "scatter",
         "x": [
          0.029311767064825363,
          0.0996927759857278,
          null,
          0.0996927759857278,
          0.061969118555747174,
          null,
          0.0996927759857278,
          0.0736753850772253,
          null
         ],
         "y": [
          -0.02999827250500215,
          0.01824106570585755,
          null,
          0.01824106570585755,
          0.004936556206812928,
          null,
          0.01824106570585755,
          -0.012142806220196787,
          null
         ]
        },
        {
         "hoverinfo": "text",
         "line": {
          "color": "white",
          "width": 2
         },
         "mode": "lines",
         "opacity": 0.5,
         "text": [
          "China to Netherlands",
          "China to Netherlands",
          "China to Netherlands",
          "China to Netherlands",
          "China to Netherlands",
          "China to Netherlands",
          "China to Netherlands",
          "China to Netherlands",
          "China to Netherlands"
         ],
         "type": "scatter",
         "x": [
          0.017902829328820674,
          0.0347318096902499,
          null,
          0.0347318096902499,
          -0.0016829842942261974,
          null,
          0.0347318096902499,
          -0.005087702527324316,
          null
         ],
         "y": [
          0.021541672352352517,
          0.018736551620573152,
          null,
          0.018736551620573152,
          0.035303302727455466,
          null,
          0.018736551620573152,
          0.014876381945069158,
          null
         ]
        },
        {
         "hoverinfo": "text",
         "line": {
          "color": "white",
          "width": 2
         },
         "mode": "lines",
         "opacity": 0.5,
         "text": [
          "China to Ireland",
          "China to Ireland",
          "China to Ireland",
          "China to Ireland",
          "China to Ireland",
          "China to Ireland",
          "China to Ireland",
          "China to Ireland",
          "China to Ireland"
         ],
         "type": "scatter",
         "x": [
          0.027029369559799413,
          -0.10857915036701943,
          null,
          -0.10857915036701943,
          -0.08079335817457863,
          null,
          -0.10857915036701943,
          -0.07012933462234461,
          null
         ],
         "y": [
          0.046304562114873354,
          0.1277869146414376,
          null,
          0.1277869146414376,
          0.09901368695794607,
          null,
          0.1277869146414376,
          0.11676146461488067,
          null
         ]
        },
        {
         "hoverinfo": "text",
         "line": {
          "color": "white",
          "width": 2
         },
         "mode": "lines",
         "opacity": 0.5,
         "text": [
          "China to Luxembourg",
          "China to Luxembourg",
          "China to Luxembourg",
          "China to Luxembourg",
          "China to Luxembourg",
          "China to Luxembourg",
          "China to Luxembourg",
          "China to Luxembourg",
          "China to Luxembourg"
         ],
         "type": "scatter",
         "x": [
          0.07880014439731663,
          0.07453194197678642,
          null,
          0.07453194197678642,
          0.06905776268983792,
          null,
          0.07453194197678642,
          0.08959347038837759,
          null
         ],
         "y": [
          0.08000862193912454,
          0.11412810274563731,
          null,
          0.11412810274563731,
          0.07452348926771901,
          null,
          0.11412810274563731,
          0.07709241172322223,
          null
         ]
        },
        {
         "hoverinfo": "text",
         "line": {
          "color": "white",
          "width": 2
         },
         "mode": "lines",
         "opacity": 0.5,
         "text": [
          "China to Switzerland",
          "China to Switzerland",
          "China to Switzerland",
          "China to Switzerland",
          "China to Switzerland",
          "China to Switzerland",
          "China to Switzerland",
          "China to Switzerland",
          "China to Switzerland"
         ],
         "type": "scatter",
         "x": [
          0.14746853628463064,
          0.2525236988854655,
          null,
          0.2525236988854655,
          0.21426821154080708,
          null,
          0.2525236988854655,
          0.22523671325214828,
          null
         ],
         "y": [
          0.0473418699061451,
          0.1129546996797032,
          null,
          0.1129546996797032,
          0.10126822319708102,
          null,
          0.1129546996797032,
          0.08370617049269377,
          null
         ]
        },
        {
         "hoverinfo": "text",
         "line": {
          "color": "white",
          "width": 2
         },
         "mode": "lines",
         "opacity": 0.5,
         "text": [
          "China to Poland",
          "China to Poland",
          "China to Poland",
          "China to Poland",
          "China to Poland",
          "China to Poland",
          "China to Poland",
          "China to Poland",
          "China to Poland"
         ],
         "type": "scatter",
         "x": [
          0.15273569646472052,
          0.20198878024625816,
          null,
          0.20198878024625816,
          0.1703251249570988,
          null,
          0.20198878024625816,
          0.16234474616384148,
          null
         ],
         "y": [
          -0.017289529988005106,
          -0.03786123214493385,
          null,
          -0.03786123214493385,
          -0.013416223694271517,
          null,
          -0.03786123214493385,
          -0.03252306147551467,
          null
         ]
        },
        {
         "hoverinfo": "text",
         "line": {
          "color": "white",
          "width": 2
         },
         "mode": "lines",
         "opacity": 0.5,
         "text": [
          "China to United Kingdom",
          "China to United Kingdom",
          "China to United Kingdom",
          "China to United Kingdom",
          "China to United Kingdom",
          "China to United Kingdom",
          "China to United Kingdom",
          "China to United Kingdom",
          "China to United Kingdom"
         ],
         "type": "scatter",
         "x": [
          0.020422607982826538,
          -0.10440603559760453,
          null,
          -0.10440603559760453,
          -0.07088405373658191,
          null,
          -0.10440603559760453,
          -0.06446394243504128,
          null
         ],
         "y": [
          0.031828701012496005,
          0.07254124816777155,
          null,
          0.07254124816777155,
          0.05071883759633857,
          null,
          0.07254124816777155,
          0.07040347717160782,
          null
         ]
        },
        {
         "hoverinfo": "text",
         "line": {
          "color": "white",
          "width": 2
         },
         "mode": "lines",
         "opacity": 0.5,
         "text": [
          "China to Slovenia",
          "China to Slovenia",
          "China to Slovenia",
          "China to Slovenia",
          "China to Slovenia",
          "China to Slovenia",
          "China to Slovenia",
          "China to Slovenia",
          "China to Slovenia"
         ],
         "type": "scatter",
         "x": [
          0.06494261023960826,
          0.03384676449933632,
          null,
          0.03384676449933632,
          0.03641642099697249,
          null,
          0.03384676449933632,
          0.05602952930772406,
          null
         ],
         "y": [
          0.07683304399053448,
          0.16878864487767475,
          null,
          0.16878864487767475,
          0.12887389087280463,
          null,
          0.16878864487767475,
          0.13550628217246863,
          null
         ]
        },
        {
         "hoverinfo": "text",
         "line": {
          "color": "white",
          "width": 2
         },
         "mode": "lines",
         "opacity": 0.5,
         "text": [
          "China to Uruguay",
          "China to Uruguay",
          "China to Uruguay",
          "China to Uruguay",
          "China to Uruguay",
          "China to Uruguay",
          "China to Uruguay",
          "China to Uruguay",
          "China to Uruguay"
         ],
         "type": "scatter",
         "x": [
          0.08176551442320946,
          0.022985860001032143,
          null,
          0.022985860001032143,
          0.03647685537131465,
          null,
          0.022985860001032143,
          0.01584200037884412,
          null
         ],
         "y": [
          -0.060456516514268324,
          -0.7736350645078389,
          null,
          -0.7736350645078389,
          -0.7359802558374571,
          null,
          -0.7736350645078389,
          -0.7342795459395045,
          null
         ]
        },
        {
         "hoverinfo": "text",
         "line": {
          "color": "white",
          "width": 2
         },
         "mode": "lines",
         "opacity": 0.5,
         "text": [
          "China to The former Yugoslav Republic of Macedonia",
          "China to The former Yugoslav Republic of Macedonia",
          "China to The former Yugoslav Republic of Macedonia",
          "China to The former Yugoslav Republic of Macedonia",
          "China to The former Yugoslav Republic of Macedonia",
          "China to The former Yugoslav Republic of Macedonia",
          "China to The former Yugoslav Republic of Macedonia",
          "China to The former Yugoslav Republic of Macedonia",
          "China to The former Yugoslav Republic of Macedonia"
         ],
         "type": "scatter",
         "x": [
          0.07790856067644328,
          0.02477442965314729,
          null,
          0.02477442965314729,
          0.040313060632532996,
          null,
          0.02477442965314729,
          0.019802827079471598,
          null
         ],
         "y": [
          -0.06003167248249093,
          -0.44492375159064423,
          null,
          -0.44492375159064423,
          -0.40806684810693306,
          null,
          -0.44492375159064423,
          -0.40523542137922636,
          null
         ]
        },
        {
         "hoverinfo": "text",
         "line": {
          "color": "white",
          "width": 2
         },
         "mode": "lines",
         "opacity": 0.5,
         "text": [
          "China to India",
          "China to India",
          "China to India",
          "China to India",
          "China to India",
          "China to India",
          "China to India",
          "China to India",
          "China to India"
         ],
         "type": "scatter",
         "x": [
          0.017741875193914236,
          -0.16977188574082408,
          null,
          -0.16977188574082408,
          -0.13312712682384184,
          null,
          -0.16977188574082408,
          -0.13001917080000286,
          null
         ],
         "y": [
          0.020530943748582185,
          0.04900012865175249,
          null,
          0.04900012865175249,
          0.03296528304543597,
          null,
          0.04900012865175249,
          0.05343592446941222,
          null
         ]
        },
        {
         "hoverinfo": "text",
         "line": {
          "color": "white",
          "width": 2
         },
         "mode": "lines",
         "opacity": 0.5,
         "text": [
          "China to Denmark",
          "China to Denmark",
          "China to Denmark",
          "China to Denmark",
          "China to Denmark",
          "China to Denmark",
          "China to Denmark",
          "China to Denmark",
          "China to Denmark"
         ],
         "type": "scatter",
         "x": [
          0.027778323296258768,
          -0.23742773634662692,
          null,
          -0.23742773634662692,
          -0.1992087002536898,
          null,
          -0.23742773634662692,
          -0.2102299925510674,
          null
         ],
         "y": [
          -0.027663261713113597,
          -0.19441662770282064,
          null,
          -0.19441662770282064,
          -0.1826148029646639,
          null,
          -0.19441662770282064,
          -0.16508642962209671,
          null
         ]
        },
        {
         "hoverinfo": "text",
         "line": {
          "color": "white",
          "width": 2
         },
         "mode": "lines",
         "opacity": 0.5,
         "text": [
          "China to Bosnia and Herzegovina",
          "China to Bosnia and Herzegovina",
          "China to Bosnia and Herzegovina",
          "China to Bosnia and Herzegovina",
          "China to Bosnia and Herzegovina",
          "China to Bosnia and Herzegovina",
          "China to Bosnia and Herzegovina",
          "China to Bosnia and Herzegovina",
          "China to Bosnia and Herzegovina"
         ],
         "type": "scatter",
         "x": [
          0.10896788660432691,
          0.268312716675506,
          null,
          0.268312716675506,
          0.24673844278665358,
          null,
          0.268312716675506,
          0.2664706869322266,
          null
         ],
         "y": [
          0.07723420677123996,
          0.5783563318705471,
          null,
          0.5783563318705471,
          0.5446726528452069,
          null,
          0.5783563318705471,
          0.5383982731972552,
          null
         ]
        },
        {
         "hoverinfo": "text",
         "line": {
          "color": "white",
          "width": 2
         },
         "mode": "lines",
         "opacity": 0.5,
         "text": [
          "China to Hungary",
          "China to Hungary",
          "China to Hungary",
          "China to Hungary",
          "China to Hungary",
          "China to Hungary",
          "China to Hungary",
          "China to Hungary",
          "China to Hungary"
         ],
         "type": "scatter",
         "x": [
          0.1581661784760739,
          0.40295162588503425,
          null,
          0.40295162588503425,
          0.3640505039684941,
          null,
          0.40295162588503425,
          0.3646071546098043,
          null
         ],
         "y": [
          0.011828501571356268,
          0.018411678798137345,
          null,
          0.018411678798137345,
          0.02772190171771844,
          null,
          0.018411678798137345,
          0.007024007403120619,
          null
         ]
        },
        {
         "hoverinfo": "text",
         "line": {
          "color": "white",
          "width": 2
         },
         "mode": "lines",
         "opacity": 0.5,
         "text": [
          "China to Czech Republic",
          "China to Czech Republic",
          "China to Czech Republic",
          "China to Czech Republic",
          "China to Czech Republic",
          "China to Czech Republic",
          "China to Czech Republic",
          "China to Czech Republic",
          "China to Czech Republic"
         ],
         "type": "scatter",
         "x": [
          0.14545982676612948,
          0.274034711596349,
          null,
          0.274034711596349,
          0.24829211151305955,
          null,
          0.274034711596349,
          0.2364327011997392,
          null
         ],
         "y": [
          -0.030521098777671403,
          -0.12035858683150982,
          null,
          -0.12035858683150982,
          -0.08974205730147435,
          null,
          -0.12035858683150982,
          -0.10671519452442739,
          null
         ]
        },
        {
         "hoverinfo": "text",
         "line": {
          "color": "white",
          "width": 2
         },
         "mode": "lines",
         "opacity": 0.5,
         "text": [
          "China to Uzbekistan",
          "China to Uzbekistan",
          "China to Uzbekistan",
          "China to Uzbekistan",
          "China to Uzbekistan",
          "China to Uzbekistan",
          "China to Uzbekistan",
          "China to Uzbekistan",
          "China to Uzbekistan"
         ],
         "type": "scatter",
         "x": [
          0.07264840673137708,
          -0.08982953871717438,
          null,
          -0.08982953871717438,
          -0.09178727710143372,
          null,
          -0.08982953871717438,
          -0.07154920802080073,
          null
         ],
         "y": [
          0.07896122904925816,
          0.830795033869933,
          null,
          0.830795033869933,
          0.7908434701277207,
          null,
          0.830795033869933,
          0.7952170955561342,
          null
         ]
        },
        {
         "hoverinfo": "text",
         "line": {
          "color": "white",
          "width": 2
         },
         "mode": "lines",
         "opacity": 0.5,
         "text": [
          "China to Republic of Moldova",
          "China to Republic of Moldova",
          "China to Republic of Moldova",
          "China to Republic of Moldova",
          "China to Republic of Moldova",
          "China to Republic of Moldova",
          "China to Republic of Moldova",
          "China to Republic of Moldova",
          "China to Republic of Moldova"
         ],
         "type": "scatter",
         "x": [
          0.041045762754858876,
          -0.5172592257222267,
          null,
          -0.5172592257222267,
          -0.4840195406782663,
          null,
          -0.5172592257222267,
          -0.49959837445909533,
          null
         ],
         "y": [
          -0.04320860504074171,
          -0.6809310600371773,
          null,
          -0.6809310600371773,
          -0.6586799392397134,
          null,
          -0.6809310600371773,
          -0.645041181641917,
          null
         ]
        },
        {
         "hoverinfo": "text",
         "line": {
          "color": "white",
          "width": 2
         },
         "mode": "lines",
         "opacity": 0.5,
         "text": [
          "China to Turkey",
          "China to Turkey",
          "China to Turkey",
          "China to Turkey",
          "China to Turkey",
          "China to Turkey",
          "China to Turkey",
          "China to Turkey",
          "China to Turkey"
         ],
         "type": "scatter",
         "x": [
          0.023960460922153676,
          0.01097132318071821,
          null,
          0.01097132318071821,
          0.050262607982636875,
          null,
          0.01097132318071821,
          0.041265165620209154,
          null
         ],
         "y": [
          -0.020764416213912236,
          -0.027032538288712625,
          null,
          -0.027032538288712625,
          -0.019565721596112532,
          null,
          -0.027032538288712625,
          -0.0009204429465599108,
          null
         ]
        },
        {
         "hoverinfo": "text",
         "line": {
          "color": "white",
          "width": 2
         },
         "mode": "lines",
         "opacity": 0.5,
         "text": [
          "China to Montenegro",
          "China to Montenegro",
          "China to Montenegro",
          "China to Montenegro",
          "China to Montenegro",
          "China to Montenegro",
          "China to Montenegro",
          "China to Montenegro",
          "China to Montenegro"
         ],
         "type": "scatter",
         "x": [
          0.09842216698592285,
          0.20851024654741093,
          null,
          0.20851024654741093,
          0.1923414887731688,
          null,
          0.20851024654741093,
          0.21280133087477282,
          null
         ],
         "y": [
          0.07971556361556548,
          0.7874310166527201,
          null,
          0.7874310166527201,
          0.7508437380377346,
          null,
          0.7874310166527201,
          0.7476611250296825,
          null
         ]
        },
        {
         "hoverinfo": "text",
         "line": {
          "color": "white",
          "width": 2
         },
         "mode": "lines",
         "opacity": 0.5,
         "text": [
          "China to Algeria",
          "China to Algeria",
          "China to Algeria",
          "China to Algeria",
          "China to Algeria",
          "China to Algeria",
          "China to Algeria",
          "China to Algeria",
          "China to Algeria"
         ],
         "type": "scatter",
         "x": [
          0.029875501784776853,
          -0.7202708169111125,
          null,
          -0.7202708169111125,
          -0.6946813398090974,
          null,
          -0.7202708169111125,
          -0.6827378749145512,
          null
         ],
         "y": [
          0.05066820418047957,
          0.5803806181298796,
          null,
          0.5803806181298796,
          0.5496370086165675,
          null,
          0.5803806181298796,
          0.5665506098383299,
          null
         ]
        },
        {
         "hoverinfo": "text",
         "line": {
          "color": "white",
          "width": 2
         },
         "mode": "lines",
         "opacity": 0.5,
         "text": [
          "China to Canada",
          "China to Canada",
          "China to Canada",
          "China to Canada",
          "China to Canada",
          "China to Canada",
          "China to Canada",
          "China to Canada",
          "China to Canada"
         ],
         "type": "scatter",
         "x": [
          0.12346142788031841,
          0.448839385725795,
          null,
          0.448839385725795,
          0.42028624757314176,
          null,
          0.448839385725795,
          0.43811822502704173,
          null
         ],
         "y": [
          0.07075300540799867,
          0.6221020974567626,
          null,
          0.6221020974567626,
          0.5940889328583404,
          null,
          0.6221020974567626,
          0.5835654161978074,
          null
         ]
        },
        {
         "hoverinfo": "text",
         "line": {
          "color": "white",
          "width": 2
         },
         "mode": "lines",
         "opacity": 0.5,
         "text": [
          "China to Bulgaria",
          "China to Bulgaria",
          "China to Bulgaria",
          "China to Bulgaria",
          "China to Bulgaria",
          "China to Bulgaria",
          "China to Bulgaria",
          "China to Bulgaria",
          "China to Bulgaria"
         ],
         "type": "scatter",
         "x": [
          0.02859732716217548,
          -0.1696356110234758,
          null,
          -0.1696356110234758,
          -0.13167824196139086,
          null,
          -0.1696356110234758,
          -0.14307245369177266,
          null
         ],
         "y": [
          -0.0289353681372925,
          -0.1595855689106555,
          null,
          -0.1595855689106555,
          -0.14696779183688768,
          null,
          -0.1595855689106555,
          -0.1296795688944412,
          null
         ]
        },
        {
         "hoverinfo": "text",
         "line": {
          "color": "white",
          "width": 2
         },
         "mode": "lines",
         "opacity": 0.5,
         "text": [
          "China to Azerbaijan",
          "China to Azerbaijan",
          "China to Azerbaijan",
          "China to Azerbaijan",
          "China to Azerbaijan",
          "China to Azerbaijan",
          "China to Azerbaijan",
          "China to Azerbaijan",
          "China to Azerbaijan"
         ],
         "type": "scatter",
         "x": [
          0.032391035108734055,
          -0.6576705383544673,
          null,
          -0.6576705383544673,
          -0.6210231119281535,
          null,
          -0.6576705383544673,
          -0.6339478821588426,
          null
         ],
         "y": [
          -0.03415573082066424,
          -0.5855173502673164,
          null,
          -0.5855173502673164,
          -0.569487458121548,
          null,
          -0.5855173502673164,
          -0.5533113432359994,
          null
         ]
        },
        {
         "hoverinfo": "text",
         "line": {
          "color": "white",
          "width": 2
         },
         "mode": "lines",
         "opacity": 0.5,
         "text": [
          "China to Morocco",
          "China to Morocco",
          "China to Morocco",
          "China to Morocco",
          "China to Morocco",
          "China to Morocco",
          "China to Morocco",
          "China to Morocco",
          "China to Morocco"
         ],
         "type": "scatter",
         "x": [
          0.09725674863206676,
          0.1899146748832253,
          null,
          0.1899146748832253,
          0.19486847377325828,
          null,
          0.1899146748832253,
          0.17435832093109982,
          null
         ],
         "y": [
          -0.06002726140911631,
          -0.7289693915994291,
          null,
          -0.7289693915994291,
          -0.6892764523271626,
          null,
          -0.7289693915994291,
          -0.6921173983937569,
          null
         ]
        },
        {
         "hoverinfo": "text",
         "line": {
          "color": "white",
          "width": 2
         },
         "mode": "lines",
         "opacity": 0.5,
         "text": [
          "China to Slovakia",
          "China to Slovakia",
          "China to Slovakia",
          "China to Slovakia",
          "China to Slovakia",
          "China to Slovakia",
          "China to Slovakia",
          "China to Slovakia",
          "China to Slovakia"
         ],
         "type": "scatter",
         "x": [
          0.15076500212198196,
          0.4847786287188058,
          null,
          0.4847786287188058,
          0.45482561417093187,
          null,
          0.4847786287188058,
          0.4455830111807813,
          null
         ],
         "y": [
          -0.02159581521533243,
          -0.18821411498117005,
          null,
          -0.18821411498117005,
          -0.16170302294188837,
          null,
          -0.18821411498117005,
          -0.18023134306702168,
          null
         ]
        },
        {
         "hoverinfo": "text",
         "line": {
          "color": "white",
          "width": 2
         },
         "mode": "lines",
         "opacity": 0.5,
         "text": [
          "China to Russia",
          "China to Russia",
          "China to Russia",
          "China to Russia",
          "China to Russia",
          "China to Russia",
          "China to Russia",
          "China to Russia",
          "China to Russia"
         ],
         "type": "scatter",
         "x": [
          0.1361360389807999,
          0.5388373964956057,
          null,
          0.5388373964956057,
          0.5197823010574156,
          null,
          0.5388373964956057,
          0.5047502631571974,
          null
         ],
         "y": [
          -0.041343078346549364,
          -0.46646043894856226,
          null,
          -0.46646043894856226,
          -0.4312905657137648,
          null,
          -0.46646043894856226,
          -0.44552998299844426,
          null
         ]
        },
        {
         "hoverinfo": "text",
         "line": {
          "color": "white",
          "width": 2
         },
         "mode": "lines",
         "opacity": 0.5,
         "text": [
          "China to Taiwan",
          "China to Taiwan",
          "China to Taiwan",
          "China to Taiwan",
          "China to Taiwan",
          "China to Taiwan",
          "China to Taiwan",
          "China to Taiwan",
          "China to Taiwan"
         ],
         "type": "scatter",
         "x": [
          0.09506384983442782,
          0.14038321550631463,
          null,
          0.14038321550631463,
          0.14657626886792496,
          null,
          0.14038321550631463,
          0.12598682481124307,
          null
         ],
         "y": [
          -0.06029612251558886,
          -0.484803773273786,
          null,
          -0.484803773273786,
          -0.4452843088073486,
          null,
          -0.484803773273786,
          -0.4474823864210896,
          null
         ]
        },
        {
         "hoverinfo": "text",
         "line": {
          "color": "white",
          "width": 2
         },
         "mode": "lines",
         "opacity": 0.5,
         "text": [
          "China to Croatia",
          "China to Croatia",
          "China to Croatia",
          "China to Croatia",
          "China to Croatia",
          "China to Croatia",
          "China to Croatia",
          "China to Croatia",
          "China to Croatia"
         ],
         "type": "scatter",
         "x": [
          0.15234244915654904,
          0.653328593236345,
          null,
          0.653328593236345,
          0.6137660625169968,
          null,
          0.653328593236345,
          0.6220167530080807,
          null
         ],
         "y": [
          0.03807220405995802,
          0.2557299568710524,
          null,
          0.2557299568710524,
          0.24982932404566555,
          null,
          0.2557299568710524,
          0.230838593586189,
          null
         ]
        },
        {
         "hoverinfo": "text",
         "line": {
          "color": "white",
          "width": 2
         },
         "mode": "lines",
         "opacity": 0.5,
         "text": [
          "China to Viet Nam",
          "China to Viet Nam",
          "China to Viet Nam",
          "China to Viet Nam",
          "China to Viet Nam",
          "China to Viet Nam",
          "China to Viet Nam",
          "China to Viet Nam",
          "China to Viet Nam"
         ],
         "type": "scatter",
         "x": [
          0.08508620720806548,
          0.058958092434668444,
          null,
          0.058958092434668444,
          0.04996942056100741,
          null,
          0.058958092434668444,
          0.07066058282667631,
          null
         ],
         "y": [
          0.08051124957446108,
          0.8239747449286039,
          null,
          0.8239747449286039,
          0.7850009277668419,
          null,
          0.8239747449286039,
          0.7857280932472376,
          null
         ]
        },
        {
         "hoverinfo": "text",
         "line": {
          "color": "white",
          "width": 2
         },
         "mode": "lines",
         "opacity": 0.5,
         "text": [
          "China to Ukraine",
          "China to Ukraine",
          "China to Ukraine",
          "China to Ukraine",
          "China to Ukraine",
          "China to Ukraine",
          "China to Ukraine",
          "China to Ukraine",
          "China to Ukraine"
         ],
         "type": "scatter",
         "x": [
          0.025913956793843125,
          -0.7628999395930244,
          null,
          -0.7628999395930244,
          -0.7241214662268627,
          null,
          -0.7628999395930244,
          -0.7342214528959436,
          null
         ],
         "y": [
          -0.024520565159564335,
          -0.4652948339264773,
          null,
          -0.4652948339264773,
          -0.45548552121049013,
          null,
          -0.4652948339264773,
          -0.4374104832376858,
          null
         ]
        },
        {
         "hoverinfo": "text",
         "line": {
          "color": "white",
          "width": 2
         },
         "mode": "lines",
         "opacity": 0.5,
         "text": [
          "China to Georgia",
          "China to Georgia",
          "China to Georgia",
          "China to Georgia",
          "China to Georgia",
          "China to Georgia",
          "China to Georgia",
          "China to Georgia",
          "China to Georgia"
         ],
         "type": "scatter",
         "x": [
          0.060110601043716,
          -0.24364438140676284,
          null,
          -0.24364438140676284,
          -0.21908563577166165,
          null,
          -0.24364438140676284,
          -0.23816232884086927,
          null
         ],
         "y": [
          -0.0551397778632719,
          -0.7750239790899937,
          null,
          -0.7750239790899937,
          -0.7434510890116252,
          null,
          -0.7750239790899937,
          -0.7354016813936822,
          null
         ]
        },
        {
         "hoverinfo": "text",
         "line": {
          "color": "white",
          "width": 2
         },
         "mode": "lines",
         "opacity": 0.5,
         "text": [
          "China to Greece",
          "China to Greece",
          "China to Greece",
          "China to Greece",
          "China to Greece",
          "China to Greece",
          "China to Greece",
          "China to Greece",
          "China to Greece"
         ],
         "type": "scatter",
         "x": [
          0.11048799812980285,
          0.14814641941324175,
          null,
          0.14814641941324175,
          0.1453989927474565,
          null,
          0.14814641941324175,
          0.12581322810437173,
          null
         ],
         "y": [
          -0.05687215996978162,
          -0.16662413672285803,
          null,
          -0.16662413672285803,
          -0.12671643668032762,
          null,
          -0.16662413672285803,
          -0.13343676801231,
          null
         ]
        },
        {
         "hoverinfo": "text",
         "line": {
          "color": "white",
          "width": 2
         },
         "mode": "lines",
         "opacity": 0.5,
         "text": [
          "China to Argentina",
          "China to Argentina",
          "China to Argentina",
          "China to Argentina",
          "China to Argentina",
          "China to Argentina",
          "China to Argentina",
          "China to Argentina",
          "China to Argentina"
         ],
         "type": "scatter",
         "x": [
          0.1213260666170644,
          0.24438148320218175,
          null,
          0.24438148320218175,
          0.2350058844625788,
          null,
          0.24438148320218175,
          0.21681877993374088,
          null
         ],
         "y": [
          -0.052104007396287816,
          -0.27822199396323766,
          null,
          -0.27822199396323766,
          -0.23933560079472693,
          null,
          -0.27822199396323766,
          -0.2492331889875592,
          null
         ]
        },
        {
         "hoverinfo": "text",
         "line": {
          "color": "white",
          "width": 2
         },
         "mode": "lines",
         "opacity": 0.5,
         "text": [
          "China to Iran (Islamic Republic of)",
          "China to Iran (Islamic Republic of)",
          "China to Iran (Islamic Republic of)",
          "China to Iran (Islamic Republic of)",
          "China to Iran (Islamic Republic of)",
          "China to Iran (Islamic Republic of)",
          "China to Iran (Islamic Republic of)",
          "China to Iran (Islamic Republic of)",
          "China to Iran (Islamic Republic of)"
         ],
         "type": "scatter",
         "x": [
          0.023889216374378602,
          -0.8180389589503431,
          null,
          -0.8180389589503431,
          -0.7876804982536156,
          null,
          -0.8180389589503431,
          -0.7787251317101673,
          null
         ],
         "y": [
          0.040475985900772525,
          0.4443498758799486,
          null,
          0.4443498758799486,
          0.4183046177659119,
          null,
          0.4443498758799486,
          0.4369732510534337,
          null
         ]
        },
        {
         "hoverinfo": "text",
         "line": {
          "color": "white",
          "width": 2
         },
         "mode": "lines",
         "opacity": 0.5,
         "text": [
          "China to South Africa",
          "China to South Africa",
          "China to South Africa",
          "China to South Africa",
          "China to South Africa",
          "China to South Africa",
          "China to South Africa",
          "China to South Africa",
          "China to South Africa"
         ],
         "type": "scatter",
         "x": [
          0.018223329138146935,
          -0.908981404280282,
          null,
          -0.908981404280282,
          -0.8730089415537445,
          null,
          -0.908981404280282,
          -0.8690822923858681,
          null
         ],
         "y": [
          0.023323360381556447,
          0.20241113836411034,
          null,
          0.20241113836411034,
          0.18491904769102313,
          null,
          0.20241113836411034,
          0.20524877483918466,
          null
         ]
        },
        {
         "hoverinfo": "text",
         "line": {
          "color": "white",
          "width": 2
         },
         "mode": "lines",
         "opacity": 0.5,
         "text": [
          "China to Cyprus",
          "China to Cyprus",
          "China to Cyprus",
          "China to Cyprus",
          "China to Cyprus",
          "China to Cyprus",
          "China to Cyprus",
          "China to Cyprus",
          "China to Cyprus"
         ],
         "type": "scatter",
         "x": [
          0.1468236596614077,
          0.6215614799821689,
          null,
          0.6215614799821689,
          0.5947761519438824,
          null,
          0.6215614799821689,
          0.583510743669579,
          null
         ],
         "y": [
          -0.028495480454444777,
          -0.33634027279192247,
          null,
          -0.33634027279192247,
          -0.3066323492264541,
          null,
          -0.33634027279192247,
          -0.32400512030968376,
          null
         ]
        },
        {
         "hoverinfo": "text",
         "line": {
          "color": "white",
          "width": 2
         },
         "mode": "lines",
         "opacity": 0.5,
         "text": [
          "China to Brazil",
          "China to Brazil",
          "China to Brazil",
          "China to Brazil",
          "China to Brazil",
          "China to Brazil",
          "China to Brazil",
          "China to Brazil",
          "China to Brazil"
         ],
         "type": "scatter",
         "x": [
          0.11410691189696437,
          0.34821967840841234,
          null,
          0.34821967840841234,
          0.34329415389503104,
          null,
          0.34821967840841234,
          0.3241060825316835,
          null
         ],
         "y": [
          -0.05551869131642918,
          -0.632843988240861,
          null,
          -0.632843988240861,
          -0.5931480551985057,
          null,
          -0.632843988240861,
          -0.6009290640559458,
          null
         ]
        },
        {
         "hoverinfo": "text",
         "line": {
          "color": "white",
          "width": 2
         },
         "mode": "lines",
         "opacity": 0.5,
         "text": [
          "China to Mexico",
          "China to Mexico",
          "China to Mexico",
          "China to Mexico",
          "China to Mexico",
          "China to Mexico",
          "China to Mexico",
          "China to Mexico",
          "China to Mexico"
         ],
         "type": "scatter",
         "x": [
          0.13459929572503437,
          0.5457112188633146,
          null,
          0.5457112188633146,
          0.5122576640819935,
          null,
          0.5457112188633146,
          0.5277040165213883,
          null
         ],
         "y": [
          0.0626159317726667,
          0.5231452612119875,
          null,
          0.5231452612119875,
          0.5012164093208031,
          null,
          0.5231452612119875,
          0.4874275410077348,
          null
         ]
        },
        {
         "hoverinfo": "text",
         "line": {
          "color": "white",
          "width": 2
         },
         "mode": "lines",
         "opacity": 0.5,
         "text": [
          "China to Kazakhstan",
          "China to Kazakhstan",
          "China to Kazakhstan",
          "China to Kazakhstan",
          "China to Kazakhstan",
          "China to Kazakhstan",
          "China to Kazakhstan",
          "China to Kazakhstan",
          "China to Kazakhstan"
         ],
         "type": "scatter",
         "x": [
          0.03781139074730728,
          -0.5905495083527378,
          null,
          -0.5905495083527378,
          -0.5706771827734693,
          null,
          -0.5905495083527378,
          -0.5559824385749091,
          null
         ],
         "y": [
          0.060052665469895634,
          0.6930550832261582,
          null,
          0.6930550832261582,
          0.6583408212383445,
          null,
          0.6930550832261582,
          0.6729278132607172,
          null
         ]
        },
        {
         "hoverinfo": "text",
         "line": {
          "color": "white",
          "width": 2
         },
         "mode": "lines",
         "opacity": 0.5,
         "text": [
          "China to Pakistan",
          "China to Pakistan",
          "China to Pakistan",
          "China to Pakistan",
          "China to Pakistan",
          "China to Pakistan",
          "China to Pakistan",
          "China to Pakistan",
          "China to Pakistan"
         ],
         "type": "scatter",
         "x": [
          0.15434949025366707,
          0.6713618380122719,
          null,
          0.6713618380122719,
          0.6381947981922012,
          null,
          0.6713618380122719,
          0.631458427875527,
          null
         ],
         "y": [
          -0.013047344382415364,
          -0.1909297028493433,
          null,
          -0.1909297028493433,
          -0.16856988068087608,
          null,
          -0.1909297028493433,
          -0.1881490487373836,
          null
         ]
        },
        {
         "hoverinfo": "text",
         "line": {
          "color": "white",
          "width": 2
         },
         "mode": "lines",
         "opacity": 0.5,
         "text": [
          "China to Albania",
          "China to Albania",
          "China to Albania",
          "China to Albania",
          "China to Albania",
          "China to Albania",
          "China to Albania",
          "China to Albania",
          "China to Albania"
         ],
         "type": "scatter",
         "x": [
          0.05165178963054562,
          -0.08047062410770825,
          null,
          -0.08047062410770825,
          -0.05190876882298176,
          null,
          -0.08047062410770825,
          -0.06973688010617224,
          null
         ],
         "y": [
          -0.05088143792356821,
          -0.2745915733364529,
          null,
          -0.2745915733364529,
          -0.246588476827949,
          null,
          -0.2745915733364529,
          -0.23605925273309797,
          null
         ]
        },
        {
         "hoverinfo": "text",
         "line": {
          "color": "white",
          "width": 2
         },
         "mode": "lines",
         "opacity": 0.5,
         "text": [
          "China to Portugal",
          "China to Portugal",
          "China to Portugal",
          "China to Portugal",
          "China to Portugal",
          "China to Portugal",
          "China to Portugal",
          "China to Portugal",
          "China to Portugal"
         ],
         "type": "scatter",
         "x": [
          0.0169507895176437,
          -0.24879302050623697,
          null,
          -0.24879302050623697,
          -0.21032819885207435,
          null,
          -0.24879302050623697,
          -0.20999611021137415,
          null
         ],
         "y": [
          0.011062561324585178,
          0.015325313630549776,
          null,
          0.015325313630549776,
          0.004354518449909367,
          null,
          0.015325313630549776,
          0.025056737131480607,
          null
         ]
        },
        {
         "hoverinfo": "text",
         "line": {
          "color": "white",
          "width": 2
         },
         "mode": "lines",
         "opacity": 0.5,
         "text": [
          "China to Lebanon",
          "China to Lebanon",
          "China to Lebanon",
          "China to Lebanon",
          "China to Lebanon",
          "China to Lebanon",
          "China to Lebanon",
          "China to Lebanon",
          "China to Lebanon"
         ],
         "type": "scatter",
         "x": [
          0.01698140238507416,
          -0.929414697315482,
          null,
          -0.929414697315482,
          -0.8911466498060034,
          null,
          -0.929414697315482,
          -0.8904525201513653,
          null
         ],
         "y": [
          0.012297452757905045,
          0.044042240074689806,
          null,
          0.044042240074689806,
          0.03240008833933298,
          null,
          0.044042240074689806,
          0.05309386467189701,
          null
         ]
        },
        {
         "hoverinfo": "text",
         "line": {
          "color": "white",
          "width": 2
         },
         "mode": "lines",
         "opacity": 0.5,
         "text": [
          "China to Sweden",
          "China to Sweden",
          "China to Sweden",
          "China to Sweden",
          "China to Sweden",
          "China to Sweden",
          "China to Sweden",
          "China to Sweden",
          "China to Sweden"
         ],
         "type": "scatter",
         "x": [
          0.051775995831835356,
          -0.38055433560010615,
          null,
          -0.38055433560010615,
          -0.3698991723565885,
          null,
          -0.38055433560010615,
          -0.3520494254747648,
          null
         ],
         "y": [
          0.07081426909399786,
          0.806261910459693,
          null,
          0.806261910459693,
          0.7677073743097232,
          null,
          0.806261910459693,
          0.7782002843444525,
          null
         ]
        },
        {
         "hoverinfo": "text",
         "line": {
          "color": "white",
          "width": 2
         },
         "mode": "lines",
         "opacity": 0.5,
         "text": [
          "China to Kyrgyzstan",
          "China to Kyrgyzstan",
          "China to Kyrgyzstan",
          "China to Kyrgyzstan",
          "China to Kyrgyzstan",
          "China to Kyrgyzstan",
          "China to Kyrgyzstan",
          "China to Kyrgyzstan",
          "China to Kyrgyzstan"
         ],
         "type": "scatter",
         "x": [
          0.017498471416953224,
          -0.916058654021836,
          null,
          -0.916058654021836,
          -0.8764288737674427,
          null,
          -0.916058654021836,
          -0.8790236500910614,
          null
         ],
         "y": [
          0.0010792153909352162,
          -0.11684223791524659,
          null,
          -0.11684223791524659,
          -0.12227145288339669,
          null,
          -0.11684223791524659,
          -0.10172918587307468,
          null
         ]
        },
        {
         "hoverinfo": "text",
         "line": {
          "color": "white",
          "width": 2
         },
         "mode": "lines",
         "opacity": 0.5,
         "text": [
          "China to Armenia",
          "China to Armenia",
          "China to Armenia",
          "China to Armenia",
          "China to Armenia",
          "China to Armenia",
          "China to Armenia",
          "China to Armenia",
          "China to Armenia"
         ],
         "type": "scatter",
         "x": [
          0.021070186030302848,
          -0.8429175278827102,
          null,
          -0.8429175278827102,
          -0.8030514015623729,
          null,
          -0.8429175278827102,
          -0.8100268915274481,
          null
         ],
         "y": [
          -0.01386310816170932,
          -0.323004107313165,
          null,
          -0.323004107313165,
          -0.319735223735906,
          null,
          -0.323004107313165,
          -0.30024010793307626,
          null
         ]
        },
        {
         "hoverinfo": "text",
         "line": {
          "color": "white",
          "width": 2
         },
         "mode": "lines",
         "opacity": 0.5,
         "text": [
          "China to Chile",
          "China to Chile",
          "China to Chile",
          "China to Chile",
          "China to Chile",
          "China to Chile",
          "China to Chile",
          "China to Chile",
          "China to Chile"
         ],
         "type": "scatter",
         "x": [
          0.1579411277990227,
          0.6991325373272976,
          null,
          0.6991325373272976,
          0.6615036836381663,
          null,
          0.6991325373272976,
          0.6597610388454378,
          null
         ],
         "y": [
          0.003985813523828102,
          -0.04172464243388509,
          null,
          -0.04172464243388509,
          -0.028156731890316616,
          null,
          -0.04172464243388509,
          -0.048788914071445776,
          null
         ]
        },
        {
         "hoverinfo": "text",
         "line": {
          "color": "white",
          "width": 2
         },
         "mode": "lines",
         "opacity": 0.5,
         "text": [
          "United States to China",
          "United States to China",
          "United States to China",
          "United States to China",
          "United States to China",
          "United States to China",
          "United States to China",
          "United States to China",
          "United States to China"
         ],
         "type": "scatter",
         "x": [
          0.08741646019685577,
          0.08855145993344446,
          null,
          0.08855145993344446,
          0.07764177011587993,
          null,
          0.08855145993344446,
          0.09838178560957933,
          null
         ],
         "y": [
          -0.0008444446147604784,
          0.08054795739051335,
          null,
          0.08054795739051335,
          0.04199116897940501,
          null,
          0.08054795739051335,
          0.04170195422936982,
          null
         ]
        },
        {
         "hoverinfo": "text",
         "line": {
          "color": "white",
          "width": 2
         },
         "mode": "lines",
         "opacity": 0.5,
         "text": [
          "United States to Czech Republic",
          "United States to Czech Republic",
          "United States to Czech Republic",
          "United States to Czech Republic",
          "United States to Czech Republic",
          "United States to Czech Republic",
          "United States to Czech Republic",
          "United States to Czech Republic",
          "United States to Czech Republic"
         ],
         "type": "scatter",
         "x": [
          0.13968489321708644,
          0.280644155136508,
          null,
          0.280644155136508,
          0.2597059148913308,
          null,
          0.280644155136508,
          0.24546970247001446,
          null
         ],
         "y": [
          0.021215734764877536,
          -0.11225155390896949,
          null,
          -0.11225155390896949,
          -0.07816874450171268,
          null,
          -0.11225155390896949,
          -0.09320409525253041,
          null
         ]
        },
        {
         "hoverinfo": "text",
         "line": {
          "color": "white",
          "width": 2
         },
         "mode": "lines",
         "opacity": 0.5,
         "text": [
          "United States to India",
          "United States to India",
          "United States to India",
          "United States to India",
          "United States to India",
          "United States to India",
          "United States to India",
          "United States to India",
          "United States to India"
         ],
         "type": "scatter",
         "x": [
          0.017810155964790547,
          -0.16900565652058444,
          null,
          -0.16900565652058444,
          -0.13006601781065383,
          null,
          -0.16900565652058444,
          -0.13070785793225395,
          null
         ],
         "y": [
          0.0675843973337038,
          0.06179054153172015,
          null,
          0.06179054153172015,
          0.0526403770290348,
          null,
          0.06179054153172015,
          0.07333608597855334,
          null
         ]
        },
        {
         "hoverinfo": "text",
         "line": {
          "color": "white",
          "width": 2
         },
         "mode": "lines",
         "opacity": 0.5,
         "text": [
          "United States to Netherlands",
          "United States to Netherlands",
          "United States to Netherlands",
          "United States to Netherlands",
          "United States to Netherlands",
          "United States to Netherlands",
          "United States to Netherlands",
          "United States to Netherlands",
          "United States to Netherlands"
         ],
         "type": "scatter",
         "x": [
          0.021129714090725435,
          0.03233943491946108,
          null,
          0.03233943491946108,
          -0.007621258683976451,
          null,
          0.03233943491946108,
          -0.0013156090271970733,
          null
         ],
         "y": [
          0.048269369537107004,
          0.05185272090090795,
          null,
          0.05185272090090795,
          0.04994885716737781,
          null,
          0.05185272090090795,
          0.030223579740608197,
          null
         ]
        },
        {
         "hoverinfo": "text",
         "line": {
          "color": "white",
          "width": 2
         },
         "mode": "lines",
         "opacity": 0.5,
         "text": [
          "United States to Italy",
          "United States to Italy",
          "United States to Italy",
          "United States to Italy",
          "United States to Italy",
          "United States to Italy",
          "United States to Italy",
          "United States to Italy",
          "United States to Italy"
         ],
         "type": "scatter",
         "x": [
          0.056140981444437583,
          0.07369807159723152,
          null,
          0.07369807159723152,
          0.046836826015859784,
          null,
          0.07369807159723152,
          0.06525807312102197,
          null
         ],
         "y": [
          0.006947198774412092,
          0.04113946089153259,
          null,
          0.04113946089153259,
          0.011494415742430843,
          null,
          0.04113946089153259,
          0.002035475905387968,
          null
         ]
        },
        {
         "hoverinfo": "text",
         "line": {
          "color": "white",
          "width": 2
         },
         "mode": "lines",
         "opacity": 0.5,
         "text": [
          "United States to Australia",
          "United States to Australia",
          "United States to Australia",
          "United States to Australia",
          "United States to Australia",
          "United States to Australia",
          "United States to Australia",
          "United States to Australia",
          "United States to Australia"
         ],
         "type": "scatter",
         "x": [
          0.1344255531265592,
          0.4634299793232548,
          null,
          0.4634299793232548,
          0.4303985370994193,
          null,
          0.4634299793232548,
          0.4461037875820927,
          null
         ],
         "y": [
          0.12334281254212147,
          0.5062810423868914,
          null,
          0.5062810423868914,
          0.48372128969025663,
          null,
          0.5062810423868914,
          0.47022800233659345,
          null
         ]
        },
        {
         "hoverinfo": "text",
         "line": {
          "color": "white",
          "width": 2
         },
         "mode": "lines",
         "opacity": 0.5,
         "text": [
          "United States to Ireland",
          "United States to Ireland",
          "United States to Ireland",
          "United States to Ireland",
          "United States to Ireland",
          "United States to Ireland",
          "United States to Ireland",
          "United States to Ireland",
          "United States to Ireland"
         ],
         "type": "scatter",
         "x": [
          0.022090146702568036,
          -0.10280541751867212,
          null,
          -0.10280541751867212,
          -0.07009184708133373,
          null,
          -0.10280541751867212,
          -0.06296633227868641,
          null
         ],
         "y": [
          0.09407868577763287,
          0.13985665744376735,
          null,
          0.13985665744376735,
          0.11684005305824924,
          null,
          0.13985665744376735,
          0.13628047855572153,
          null
         ]
        },
        {
         "hoverinfo": "text",
         "line": {
          "color": "white",
          "width": 2
         },
         "mode": "lines",
         "opacity": 0.5,
         "text": [
          "United States to Turkey",
          "United States to Turkey",
          "United States to Turkey",
          "United States to Turkey",
          "United States to Turkey",
          "United States to Turkey",
          "United States to Turkey",
          "United States to Turkey",
          "United States to Turkey"
         ],
         "type": "scatter",
         "x": [
          0.03601109866456242,
          -0.00024480457057459576,
          null,
          -0.00024480457057459576,
          0.03535728931710463,
          null,
          -0.00024480457057459576,
          0.02147263299313804,
          null
         ],
         "y": [
          0.022411612712853878,
          -0.010364700750389456,
          null,
          -0.010364700750389456,
          0.007865059591483058,
          null,
          -0.010364700750389456,
          0.023223781754413843,
          null
         ]
        },
        {
         "hoverinfo": "text",
         "line": {
          "color": "white",
          "width": 2
         },
         "mode": "lines",
         "opacity": 0.5,
         "text": [
          "United States to Germany",
          "United States to Germany",
          "United States to Germany",
          "United States to Germany",
          "United States to Germany",
          "United States to Germany",
          "United States to Germany",
          "United States to Germany",
          "United States to Germany"
         ],
         "type": "scatter",
         "x": [
          0.10370297577468349,
          0.09325588350681696,
          null,
          0.09325588350681696,
          0.09152053303473032,
          null,
          0.09325588350681696,
          0.11173032114668609,
          null
         ],
         "y": [
          0.0008262694797643161,
          0.047899287631390244,
          null,
          0.047899287631390244,
          0.007944697165059293,
          null,
          0.047899287631390244,
          0.012429922053700776,
          null
         ]
        },
        {
         "hoverinfo": "text",
         "line": {
          "color": "white",
          "width": 2
         },
         "mode": "lines",
         "opacity": 0.5,
         "text": [
          "United States to Korea, Republic of",
          "United States to Korea, Republic of",
          "United States to Korea, Republic of",
          "United States to Korea, Republic of",
          "United States to Korea, Republic of",
          "United States to Korea, Republic of",
          "United States to Korea, Republic of",
          "United States to Korea, Republic of",
          "United States to Korea, Republic of"
         ],
         "type": "scatter",
         "x": [
          0.13183463715922492,
          0.12710665050409575,
          null,
          0.12710665050409575,
          0.14269721462157922,
          null,
          0.12710665050409575,
          0.15901722738527763,
          null
         ],
         "y": [
          0.01408321943195822,
          0.020145458766259082,
          null,
          0.020145458766259082,
          -0.0166720458259631,
          null,
          0.020145458766259082,
          -0.0039441534558138265,
          null
         ]
        },
        {
         "hoverinfo": "text",
         "line": {
          "color": "white",
          "width": 2
         },
         "mode": "lines",
         "opacity": 0.5,
         "text": [
          "United States to Switzerland",
          "United States to Switzerland",
          "United States to Switzerland",
          "United States to Switzerland",
          "United States to Switzerland",
          "United States to Switzerland",
          "United States to Switzerland",
          "United States to Switzerland",
          "United States to Switzerland"
         ],
         "type": "scatter",
         "x": [
          0.15485665244185132,
          0.24597009271936077,
          null,
          0.24597009271936077,
          0.20610882698782776,
          null,
          0.24597009271936077,
          0.21311805404858114,
          null
         ],
         "y": [
          0.09368112502200593,
          0.12645931102893165,
          null,
          0.12645931102893165,
          0.12312165086947155,
          null,
          0.12645931102893165,
          0.10363817967587348,
          null
         ]
        },
        {
         "hoverinfo": "text",
         "line": {
          "color": "white",
          "width": 2
         },
         "mode": "lines",
         "opacity": 0.5,
         "text": [
          "United States to Mexico",
          "United States to Mexico",
          "United States to Mexico",
          "United States to Mexico",
          "United States to Mexico",
          "United States to Mexico",
          "United States to Mexico",
          "United States to Mexico",
          "United States to Mexico"
         ],
         "type": "scatter",
         "x": [
          0.13825579089658835,
          0.5428892336828766,
          null,
          0.5428892336828766,
          0.5082820559671405,
          null,
          0.5428892336828766,
          0.5229479737971476,
          null
         ],
         "y": [
          0.1197978027382412,
          0.5258072567115022,
          null,
          0.5258072567115022,
          0.5057483863727398,
          null,
          0.5258072567115022,
          0.49113217656904773,
          null
         ]
        },
        {
         "hoverinfo": "text",
         "line": {
          "color": "white",
          "width": 2
         },
         "mode": "lines",
         "opacity": 0.5,
         "text": [
          "United States to United Kingdom",
          "United States to United Kingdom",
          "United States to United Kingdom",
          "United States to United Kingdom",
          "United States to United Kingdom",
          "United States to United Kingdom",
          "United States to United Kingdom",
          "United States to United Kingdom",
          "United States to United Kingdom"
         ],
         "type": "scatter",
         "x": [
          0.018092032733736954,
          -0.10124095035739901,
          null,
          -0.10124095035739901,
          -0.06375563040648013,
          null,
          -0.10124095035739901,
          -0.06179972958743511,
          null
         ],
         "y": [
          0.07644523408274248,
          0.08776858156261436,
          null,
          0.08776858156261436,
          0.07381261871565335,
          null,
          0.08776858156261436,
          0.09442502317833378,
          null
         ]
        },
        {
         "hoverinfo": "text",
         "line": {
          "color": "white",
          "width": 2
         },
         "mode": "lines",
         "opacity": 0.5,
         "text": [
          "United States to France",
          "United States to France",
          "United States to France",
          "United States to France",
          "United States to France",
          "United States to France",
          "United States to France",
          "United States to France",
          "United States to France"
         ],
         "type": "scatter",
         "x": [
          0.04138438608158209,
          0.0691915586341355,
          null,
          0.0691915586341355,
          0.0357424543647553,
          null,
          0.0691915586341355,
          0.05119394107984063,
          null
         ],
         "y": [
          0.01707351487927227,
          0.04824198975084329,
          null,
          0.04824198975084329,
          0.026301676797197488,
          null,
          0.04824198975084329,
          0.012516569231315139,
          null
         ]
        },
        {
         "hoverinfo": "text",
         "line": {
          "color": "white",
          "width": 2
         },
         "mode": "lines",
         "opacity": 0.5,
         "text": [
          "United States to Japan",
          "United States to Japan",
          "United States to Japan",
          "United States to Japan",
          "United States to Japan",
          "United States to Japan",
          "United States to Japan",
          "United States to Japan",
          "United States to Japan"
         ],
         "type": "scatter",
         "x": [
          0.1032053559686358,
          0.09840456235107595,
          null,
          0.09840456235107595,
          0.09638156168719715,
          null,
          0.09840456235107595,
          0.11661856826673284,
          null
         ],
         "y": [
          0.0007177120588933439,
          0.02311168266438826,
          null,
          0.02311168266438826,
          -0.01682026910050914,
          null,
          0.02311168266438826,
          -0.012481902318647133,
          null
         ]
        },
        {
         "hoverinfo": "text",
         "line": {
          "color": "white",
          "width": 2
         },
         "mode": "lines",
         "opacity": 0.5,
         "text": [
          "United States to Romania",
          "United States to Romania",
          "United States to Romania",
          "United States to Romania",
          "United States to Romania",
          "United States to Romania",
          "United States to Romania",
          "United States to Romania",
          "United States to Romania"
         ],
         "type": "scatter",
         "x": [
          0.0910229842773372,
          0.09846999257199585,
          null,
          0.09846999257199585,
          0.10738371671935153,
          null,
          0.09846999257199585,
          0.08668689652436289,
          null
         ],
         "y": [
          -0.0008026304251490118,
          -0.20127124431085253,
          null,
          -0.20127124431085253,
          -0.16226602910771298,
          null,
          -0.20127124431085253,
          -0.16303487499117683,
          null
         ]
        },
        {
         "hoverinfo": "text",
         "line": {
          "color": "white",
          "width": 2
         },
         "mode": "lines",
         "opacity": 0.5,
         "text": [
          "United States to Slovenia",
          "United States to Slovenia",
          "United States to Slovenia",
          "United States to Slovenia",
          "United States to Slovenia",
          "United States to Slovenia",
          "United States to Slovenia",
          "United States to Slovenia",
          "United States to Slovenia"
         ],
         "type": "scatter",
         "x": [
          0.058614164326044486,
          0.041009720404016035,
          null,
          0.041009720404016035,
          0.047917660006939505,
          null,
          0.041009720404016035,
          0.06668930605037729,
          null
         ],
         "y": [
          0.1338097906379766,
          0.1716557646953219,
          null,
          0.1716557646953219,
          0.13226149577048002,
          null,
          0.1716557646953219,
          0.1409932968443547,
          null
         ]
        },
        {
         "hoverinfo": "text",
         "line": {
          "color": "white",
          "width": 2
         },
         "mode": "lines",
         "opacity": 0.5,
         "text": [
          "United States to New Zealand",
          "United States to New Zealand",
          "United States to New Zealand",
          "United States to New Zealand",
          "United States to New Zealand",
          "United States to New Zealand",
          "United States to New Zealand",
          "United States to New Zealand",
          "United States to New Zealand"
         ],
         "type": "scatter",
         "x": [
          0.1588845940714015,
          0.6994160405103547,
          null,
          0.6994160405103547,
          0.6602011556288498,
          null,
          0.6994160405103547,
          0.6615117538433731,
          null
         ],
         "y": [
          0.07424402609936098,
          0.10852668219426252,
          null,
          0.10852668219426252,
          0.11641308250049444,
          null,
          0.10852668219426252,
          0.09574906276312031,
          null
         ]
        },
        {
         "hoverinfo": "text",
         "line": {
          "color": "white",
          "width": 2
         },
         "mode": "lines",
         "opacity": 0.5,
         "text": [
          "United States to Azerbaijan",
          "United States to Azerbaijan",
          "United States to Azerbaijan",
          "United States to Azerbaijan",
          "United States to Azerbaijan",
          "United States to Azerbaijan",
          "United States to Azerbaijan",
          "United States to Azerbaijan",
          "United States to Azerbaijan"
         ],
         "type": "scatter",
         "x": [
          0.03519408968778461,
          -0.6596390829424019,
          null,
          -0.6596390829424019,
          -0.6237231136693936,
          null,
          -0.6596390829424019,
          -0.6373388389802469,
          null
         ],
         "y": [
          0.02333133358037929,
          -0.5831605482032707,
          null,
          -0.5831605482032707,
          -0.5655527525436477,
          null,
          -0.5831605482032707,
          -0.5499537652208877,
          null
         ]
        },
        {
         "hoverinfo": "text",
         "line": {
          "color": "white",
          "width": 2
         },
         "mode": "lines",
         "opacity": 0.5,
         "text": [
          "United States to Poland",
          "United States to Poland",
          "United States to Poland",
          "United States to Poland",
          "United States to Poland",
          "United States to Poland",
          "United States to Poland",
          "United States to Poland",
          "United States to Poland"
         ],
         "type": "scatter",
         "x": [
          0.14478186611397076,
          0.21077712058812387,
          null,
          0.21077712058812387,
          0.18616687674011878,
          null,
          0.21077712058812387,
          0.17369665835267037,
          null
         ],
         "y": [
          0.027240022816226624,
          -0.0225469184840763,
          null,
          -0.0225469184840763,
          0.008987813255426517,
          null,
          -0.0225469184840763,
          -0.00754216162014195,
          null
         ]
        },
        {
         "hoverinfo": "text",
         "line": {
          "color": "white",
          "width": 2
         },
         "mode": "lines",
         "opacity": 0.5,
         "text": [
          "United States to Bosnia and Herzegovina",
          "United States to Bosnia and Herzegovina",
          "United States to Bosnia and Herzegovina",
          "United States to Bosnia and Herzegovina",
          "United States to Bosnia and Herzegovina",
          "United States to Bosnia and Herzegovina",
          "United States to Bosnia and Herzegovina",
          "United States to Bosnia and Herzegovina",
          "United States to Bosnia and Herzegovina"
         ],
         "type": "scatter",
         "x": [
          0.1117066580896194,
          0.26640845518132944,
          null,
          0.26640845518132944,
          0.24388554089616205,
          null,
          0.26640845518132944,
          0.2634314918293625,
          null
         ],
         "y": [
          0.13644262504184634,
          0.57899178006503,
          null,
          0.57899178006503,
          0.5459348748925352,
          null,
          0.57899178006503,
          0.5391022032725725,
          null
         ]
        },
        {
         "hoverinfo": "text",
         "line": {
          "color": "white",
          "width": 2
         },
         "mode": "lines",
         "opacity": 0.5,
         "text": [
          "United States to Spain",
          "United States to Spain",
          "United States to Spain",
          "United States to Spain",
          "United States to Spain",
          "United States to Spain",
          "United States to Spain",
          "United States to Spain",
          "United States to Spain"
         ],
         "type": "scatter",
         "x": [
          0.04647427401965856,
          -0.009360318101521548,
          null,
          -0.009360318101521548,
          0.02190678270816268,
          null,
          -0.009360318101521548,
          0.0052452354870860685,
          null
         ],
         "y": [
          0.012940405007085917,
          -0.0627451371884598,
          null,
          -0.0627451371884598,
          -0.03780003715792395,
          null,
          -0.0627451371884598,
          -0.025508496457229662,
          null
         ]
        },
        {
         "hoverinfo": "text",
         "line": {
          "color": "white",
          "width": 2
         },
         "mode": "lines",
         "opacity": 0.5,
         "text": [
          "United States to Chile",
          "United States to Chile",
          "United States to Chile",
          "United States to Chile",
          "United States to Chile",
          "United States to Chile",
          "United States to Chile",
          "United States to Chile",
          "United States to Chile"
         ],
         "type": "scatter",
         "x": [
          0.15799915921644586,
          0.6999090159009904,
          null,
          0.6999090159009904,
          0.6635928374130484,
          null,
          0.6999090159009904,
          0.6600745125060489,
          null
         ],
         "y": [
          0.0577729898785391,
          -0.0356679523235068,
          null,
          -0.0356679523235068,
          -0.01890041181147913,
          null,
          -0.0356679523235068,
          -0.039304925525077104,
          null
         ]
        },
        {
         "hoverinfo": "text",
         "line": {
          "color": "white",
          "width": 2
         },
         "mode": "lines",
         "opacity": 0.5,
         "text": [
          "United States to Canada",
          "United States to Canada",
          "United States to Canada",
          "United States to Canada",
          "United States to Canada",
          "United States to Canada",
          "United States to Canada",
          "United States to Canada",
          "United States to Canada"
         ],
         "type": "scatter",
         "x": [
          0.1267402224137477,
          0.44639510118348164,
          null,
          0.44639510118348164,
          0.4167261518148436,
          null,
          0.44639510118348164,
          0.4341153283815153,
          null
         ],
         "y": [
          0.12908651403625526,
          0.6236124552935953,
          null,
          0.6236124552935953,
          0.5967838731838584,
          null,
          0.6236124552935953,
          0.5855437469547274,
          null
         ]
        },
        {
         "hoverinfo": "text",
         "line": {
          "color": "white",
          "width": 2
         },
         "mode": "lines",
         "opacity": 0.5,
         "text": [
          "United States to Denmark",
          "United States to Denmark",
          "United States to Denmark",
          "United States to Denmark",
          "United States to Denmark",
          "United States to Denmark",
          "United States to Denmark",
          "United States to Denmark",
          "United States to Denmark"
         ],
         "type": "scatter",
         "x": [
          0.03278338904221202,
          -0.24159829210146422,
          null,
          -0.24159829210146422,
          -0.2047910876812581,
          null,
          -0.24159829210146422,
          -0.2175518752989046,
          null
         ],
         "y": [
          0.026247283221818574,
          -0.18848330617266354,
          null,
          -0.18848330617266354,
          -0.17282419163741197,
          null,
          -0.18848330617266354,
          -0.15651851297426247,
          null
         ]
        },
        {
         "hoverinfo": "text",
         "line": {
          "color": "white",
          "width": 2
         },
         "mode": "lines",
         "opacity": 0.5,
         "text": [
          "United States to Argentina",
          "United States to Argentina",
          "United States to Argentina",
          "United States to Argentina",
          "United States to Argentina",
          "United States to Argentina",
          "United States to Argentina",
          "United States to Argentina",
          "United States to Argentina"
         ],
         "type": "scatter",
         "x": [
          0.11806100425937603,
          0.24848105555098604,
          null,
          0.24848105555098604,
          0.2416504369505346,
          null,
          0.24848105555098604,
          0.2228590137409167,
          null
         ],
         "y": [
          0.005678545266963389,
          -0.27616068016139955,
          null,
          -0.27616068016139955,
          -0.23674757500436783,
          null,
          -0.27616068016139955,
          -0.24544323915360833,
          null
         ]
        },
        {
         "hoverinfo": "text",
         "line": {
          "color": "white",
          "width": 2
         },
         "mode": "lines",
         "opacity": 0.5,
         "text": [
          "United States to Luxembourg",
          "United States to Luxembourg",
          "United States to Luxembourg",
          "United States to Luxembourg",
          "United States to Luxembourg",
          "United States to Luxembourg",
          "United States to Luxembourg",
          "United States to Luxembourg",
          "United States to Luxembourg"
         ],
         "type": "scatter",
         "x": [
          0.0746965532473392,
          0.07947004311787978,
          null,
          0.07947004311787978,
          0.08212966218267463,
          null,
          0.07947004311787978,
          0.06180911567148101,
          null
         ],
         "y": [
          0.1390562478120842,
          0.11492434333776692,
          null,
          0.11492434333776692,
          0.15485279357956797,
          null,
          0.11492434333776692,
          0.15083320511330697,
          null
         ]
        },
        {
         "hoverinfo": "text",
         "line": {
          "color": "white",
          "width": 2
         },
         "mode": "lines",
         "opacity": 0.5,
         "text": [
          "United States to Austria",
          "United States to Austria",
          "United States to Austria",
          "United States to Austria",
          "United States to Austria",
          "United States to Austria",
          "United States to Austria",
          "United States to Austria",
          "United States to Austria"
         ],
         "type": "scatter",
         "x": [
          0.15899971821937642,
          0.19592685232602475,
          null,
          0.19592685232602475,
          0.157022465408185,
          null,
          0.19592685232602475,
          0.1575896204396699,
          null
         ],
         "y": [
          0.07170810859145449,
          0.07271992251902817,
          null,
          0.07271992251902817,
          0.0820100115127215,
          null,
          0.07271992251902817,
          0.061313182132064936,
          null
         ]
        },
        {
         "hoverinfo": "text",
         "line": {
          "color": "white",
          "width": 2
         },
         "mode": "lines",
         "opacity": 0.5,
         "text": [
          "Korea, Republic of to Japan",
          "Korea, Republic of to Japan",
          "Korea, Republic of to Japan",
          "Korea, Republic of to Japan",
          "Korea, Republic of to Japan",
          "Korea, Republic of to Japan",
          "Korea, Republic of to Japan",
          "Korea, Republic of to Japan",
          "Korea, Republic of to Japan"
         ],
         "type": "scatter",
         "x": [
          0.10104901791492428,
          0.18269975794669197,
          null,
          0.18269975794669197,
          0.14283463774867414,
          null,
          0.18269975794669197,
          0.14653018114354016,
          null
         ],
         "y": [
          -0.04814992885123582,
          -0.033339377468107424,
          null,
          -0.033339377468107424,
          -0.030048637494610987,
          null,
          -0.033339377468107424,
          -0.05042207315281949,
          null
         ]
        },
        {
         "hoverinfo": "text",
         "line": {
          "color": "white",
          "width": 2
         },
         "mode": "lines",
         "opacity": 0.5,
         "text": [
          "Korea, Republic of to Poland",
          "Korea, Republic of to Poland",
          "Korea, Republic of to Poland",
          "Korea, Republic of to Poland",
          "Korea, Republic of to Poland",
          "Korea, Republic of to Poland",
          "Korea, Republic of to Poland",
          "Korea, Republic of to Poland",
          "Korea, Republic of to Poland"
         ],
         "type": "scatter",
         "x": [
          0.2380797646089664,
          0.19961807963503275,
          null,
          0.19961807963503275,
          0.23353858706532168,
          null,
          0.19961807963503275,
          0.23959133595792248,
          null
         ],
         "y": [
          -0.0561915759956835,
          -0.04443402071479102,
          null,
          -0.04443402071479102,
          -0.06562849107279242,
          null,
          -0.04443402071479102,
          -0.04582871674943204,
          null
         ]
        },
        {
         "hoverinfo": "text",
         "line": {
          "color": "white",
          "width": 2
         },
         "mode": "lines",
         "opacity": 0.5,
         "text": [
          "Korea, Republic of to Turkey",
          "Korea, Republic of to Turkey",
          "Korea, Republic of to Turkey",
          "Korea, Republic of to Turkey",
          "Korea, Republic of to Turkey",
          "Korea, Republic of to Turkey",
          "Korea, Republic of to Turkey",
          "Korea, Republic of to Turkey",
          "Korea, Republic of to Turkey"
         ],
         "type": "scatter",
         "x": [
          0.10026135181469038,
          0.01764379982120194,
          null,
          0.01764379982120194,
          0.05711484482043293,
          null,
          0.01764379982120194,
          0.05506702502777751,
          null
         ],
         "y": [
          -0.04253014058445079,
          -0.05074164849570964,
          null,
          -0.05074164849570964,
          -0.057222243542355236,
          null,
          -0.05074164849570964,
          -0.03661848593812883,
          null
         ]
        },
        {
         "hoverinfo": "text",
         "line": {
          "color": "white",
          "width": 2
         },
         "mode": "lines",
         "opacity": 0.5,
         "text": [
          "Korea, Republic of to Germany",
          "Korea, Republic of to Germany",
          "Korea, Republic of to Germany",
          "Korea, Republic of to Germany",
          "Korea, Republic of to Germany",
          "Korea, Republic of to Germany",
          "Korea, Republic of to Germany",
          "Korea, Republic of to Germany",
          "Korea, Republic of to Germany"
         ],
         "type": "scatter",
         "x": [
          0.10177097081903269,
          0.17732674600437226,
          null,
          0.17732674600437226,
          0.14206161420640318,
          null,
          0.17732674600437226,
          0.13734599577681667,
          null
         ],
         "y": [
          -0.01946081840919781,
          -0.03713232552227248,
          null,
          -0.03713232552227248,
          -0.018251825076856566,
          null,
          -0.03713232552227248,
          -0.03841389839936344,
          null
         ]
        },
        {
         "hoverinfo": "text",
         "line": {
          "color": "white",
          "width": 2
         },
         "mode": "lines",
         "opacity": 0.5,
         "text": [
          "Korea, Republic of to Italy",
          "Korea, Republic of to Italy",
          "Korea, Republic of to Italy",
          "Korea, Republic of to Italy",
          "Korea, Republic of to Italy",
          "Korea, Republic of to Italy",
          "Korea, Republic of to Italy",
          "Korea, Republic of to Italy",
          "Korea, Republic of to Italy"
         ],
         "type": "scatter",
         "x": [
          0.10031846487906756,
          0.11165944570450603,
          null,
          0.11165944570450603,
          0.07433825538093838,
          null,
          0.11165944570450603,
          0.07212800364613459,
          null
         ],
         "y": [
          -0.028007343764329583,
          -0.029224697612350584,
          null,
          -0.029224697612350584,
          -0.014804011334974814,
          null,
          -0.029224697612350584,
          -0.03539661211792135,
          null
         ]
        },
        {
         "hoverinfo": "text",
         "line": {
          "color": "white",
          "width": 2
         },
         "mode": "lines",
         "opacity": 0.5,
         "text": [
          "Korea, Republic of to Czech Republic",
          "Korea, Republic of to Czech Republic",
          "Korea, Republic of to Czech Republic",
          "Korea, Republic of to Czech Republic",
          "Korea, Republic of to Czech Republic",
          "Korea, Republic of to Czech Republic",
          "Korea, Republic of to Czech Republic",
          "Korea, Republic of to Czech Republic",
          "Korea, Republic of to Czech Republic"
         ],
         "type": "scatter",
         "x": [
          0.22633148841037637,
          0.2761364174851225,
          null,
          0.2761364174851225,
          0.25196115505238426,
          null,
          0.2761364174851225,
          0.23926505296028233,
          null
         ],
         "y": [
          -0.07884868963970865,
          -0.11750583054700814,
          null,
          -0.11750583054700814,
          -0.08563588431714161,
          null,
          -0.11750583054700814,
          -0.10199327871106875,
          null
         ]
        },
        {
         "hoverinfo": "text",
         "line": {
          "color": "white",
          "width": 2
         },
         "mode": "lines",
         "opacity": 0.5,
         "text": [
          "Korea, Republic of to United States",
          "Korea, Republic of to United States",
          "Korea, Republic of to United States",
          "Korea, Republic of to United States",
          "Korea, Republic of to United States",
          "Korea, Republic of to United States",
          "Korea, Republic of to United States",
          "Korea, Republic of to United States",
          "Korea, Republic of to United States"
         ],
         "type": "scatter",
         "x": [
          0.12710665050409575,
          0.13183463715922492,
          null,
          0.13183463715922492,
          0.11622977309426473,
          null,
          0.13183463715922492,
          0.09989561226282323,
          null
         ],
         "y": [
          0.020145458766259082,
          0.01408321943195822,
          null,
          0.01408321943195822,
          0.05093285181904476,
          null,
          0.01408321943195822,
          0.03819350516681287,
          null
         ]
        },
        {
         "hoverinfo": "text",
         "line": {
          "color": "white",
          "width": 2
         },
         "mode": "lines",
         "opacity": 0.5,
         "text": [
          "Korea, Republic of to Austria",
          "Korea, Republic of to Austria",
          "Korea, Republic of to Austria",
          "Korea, Republic of to Austria",
          "Korea, Republic of to Austria",
          "Korea, Republic of to Austria",
          "Korea, Republic of to Austria",
          "Korea, Republic of to Austria",
          "Korea, Republic of to Austria"
         ],
         "type": "scatter",
         "x": [
          0.21692664203349027,
          0.22013878605381543,
          null,
          0.22013878605381543,
          0.1869358296740719,
          null,
          0.22013878605381543,
          0.20255860404692208,
          null
         ],
         "y": [
          0.01771075635401336,
          0.021398573713844453,
          null,
          0.021398573713844453,
          -0.0009502696835778056,
          null,
          0.021398573713844453,
          -0.014557570603395097,
          null
         ]
        },
        {
         "hoverinfo": "text",
         "line": {
          "color": "white",
          "width": 2
         },
         "mode": "lines",
         "opacity": 0.5,
         "text": [
          "Korea, Republic of to China",
          "Korea, Republic of to China",
          "Korea, Republic of to China",
          "Korea, Republic of to China",
          "Korea, Republic of to China",
          "Korea, Republic of to China",
          "Korea, Republic of to China",
          "Korea, Republic of to China",
          "Korea, Republic of to China"
         ],
         "type": "scatter",
         "x": [
          0.1086067991410408,
          0.14949997853116392,
          null,
          0.14949997853116392,
          0.12059206014033606,
          null,
          0.14949997853116392,
          0.11064016270632732,
          null
         ],
         "y": [
          -0.0016015251054718183,
          -0.02401366316140016,
          null,
          -0.02401366316140016,
          0.0036359850943044753,
          null,
          -0.02401366316140016,
          -0.014522324561669782,
          null
         ]
        },
        {
         "hoverinfo": "text",
         "line": {
          "color": "white",
          "width": 2
         },
         "mode": "lines",
         "opacity": 0.5,
         "text": [
          "Korea, Republic of to Switzerland",
          "Korea, Republic of to Switzerland",
          "Korea, Republic of to Switzerland",
          "Korea, Republic of to Switzerland",
          "Korea, Republic of to Switzerland",
          "Korea, Republic of to Switzerland",
          "Korea, Republic of to Switzerland",
          "Korea, Republic of to Switzerland",
          "Korea, Republic of to Switzerland"
         ],
         "type": "scatter",
         "x": [
          0.21338741236723166,
          0.2695781903358849,
          null,
          0.2695781903358849,
          0.23790667296953347,
          null,
          0.2695781903358849,
          0.25436689456936346,
          null
         ],
         "y": [
          0.02059762923617009,
          0.09422410577214264,
          null,
          0.09422410577214264,
          0.06979002007386485,
          null,
          0.09422410577214264,
          0.05722780815601232,
          null
         ]
        },
        {
         "hoverinfo": "text",
         "line": {
          "color": "white",
          "width": 2
         },
         "mode": "lines",
         "opacity": 0.5,
         "text": [
          "Korea, Republic of to Argentina",
          "Korea, Republic of to Argentina",
          "Korea, Republic of to Argentina",
          "Korea, Republic of to Argentina",
          "Korea, Republic of to Argentina",
          "Korea, Republic of to Argentina",
          "Korea, Republic of to Argentina",
          "Korea, Republic of to Argentina",
          "Korea, Republic of to Argentina"
         ],
         "type": "scatter",
         "x": [
          0.19405633338252923,
          0.25462458396973736,
          null,
          0.25462458396973736,
          0.25152135358516337,
          null,
          0.25462458396973736,
          0.23199671208239117,
          null
         ],
         "y": [
          -0.1021398768694059,
          -0.27366095906765514,
          null,
          -0.27366095906765514,
          -0.23378016798663642,
          null,
          -0.27366095906765514,
          -0.24067479606076006,
          null
         ]
        },
        {
         "hoverinfo": "text",
         "line": {
          "color": "white",
          "width": 2
         },
         "mode": "lines",
         "opacity": 0.5,
         "text": [
          "Korea, Republic of to Uruguay",
          "Korea, Republic of to Uruguay",
          "Korea, Republic of to Uruguay",
          "Korea, Republic of to Uruguay",
          "Korea, Republic of to Uruguay",
          "Korea, Republic of to Uruguay",
          "Korea, Republic of to Uruguay",
          "Korea, Republic of to Uruguay",
          "Korea, Republic of to Uruguay"
         ],
         "type": "scatter",
         "x": [
          0.1573782972458611,
          0.03034644471140094,
          null,
          0.03034644471140094,
          0.04771802160469246,
          null,
          0.03034644471140094,
          0.027375550081622586,
          null
         ],
         "y": [
          -0.10493275021270197,
          -0.7746336653869409,
          null,
          -0.7746336653869409,
          -0.7386034223406137,
          null,
          -0.7746336653869409,
          -0.7347447711576482,
          null
         ]
        },
        {
         "hoverinfo": "text",
         "line": {
          "color": "white",
          "width": 2
         },
         "mode": "lines",
         "opacity": 0.5,
         "text": [
          "Korea, Republic of to Hungary",
          "Korea, Republic of to Hungary",
          "Korea, Republic of to Hungary",
          "Korea, Republic of to Hungary",
          "Korea, Republic of to Hungary",
          "Korea, Republic of to Hungary",
          "Korea, Republic of to Hungary",
          "Korea, Republic of to Hungary",
          "Korea, Republic of to Hungary"
         ],
         "type": "scatter",
         "x": [
          0.23999492016024854,
          0.4040962517338801,
          null,
          0.4040962517338801,
          0.3642222698274109,
          null,
          0.4040962517338801,
          0.36797581852367384,
          null
         ],
         "y": [
          -0.02274209082784113,
          0.007507436619799173,
          null,
          0.007507436619799173,
          0.010684540478124857,
          null,
          0.007507436619799173,
          -0.009678101681663838,
          null
         ]
        },
        {
         "hoverinfo": "text",
         "line": {
          "color": "white",
          "width": 2
         },
         "mode": "lines",
         "opacity": 0.5,
         "text": [
          "Korea, Republic of to Romania",
          "Korea, Republic of to Romania",
          "Korea, Republic of to Romania",
          "Korea, Republic of to Romania",
          "Korea, Republic of to Romania",
          "Korea, Republic of to Romania",
          "Korea, Republic of to Romania",
          "Korea, Republic of to Romania",
          "Korea, Republic of to Romania"
         ],
         "type": "scatter",
         "x": [
          0.15062591624046823,
          0.1210059181507693,
          null,
          0.1210059181507693,
          0.1418317187138517,
          null,
          0.1210059181507693,
          0.1219676838395022,
          null
         ],
         "y": [
          -0.10330426910249473,
          -0.20408830667613165,
          null,
          -0.20408830667613165,
          -0.1699404933700422,
          null,
          -0.20408830667613165,
          -0.1641025325878287,
          null
         ]
        },
        {
         "hoverinfo": "text",
         "line": {
          "color": "white",
          "width": 2
         },
         "mode": "lines",
         "opacity": 0.5,
         "text": [
          "Korea, Republic of to Serbia",
          "Korea, Republic of to Serbia",
          "Korea, Republic of to Serbia",
          "Korea, Republic of to Serbia",
          "Korea, Republic of to Serbia",
          "Korea, Republic of to Serbia",
          "Korea, Republic of to Serbia",
          "Korea, Republic of to Serbia",
          "Korea, Republic of to Serbia"
         ],
         "type": "scatter",
         "x": [
          0.22143487006641643,
          0.6205083099174679,
          null,
          0.6205083099174679,
          0.5854872458586007,
          null,
          0.6205083099174679,
          0.5998427738095443,
          null
         ],
         "y": [
          0.013420386729127438,
          0.3973651285826614,
          null,
          0.3973651285826614,
          0.37803793851342615,
          null,
          0.3973651285826614,
          0.36311675896949974,
          null
         ]
        },
        {
         "hoverinfo": "text",
         "line": {
          "color": "white",
          "width": 2
         },
         "mode": "lines",
         "opacity": 0.5,
         "text": [
          "Korea, Republic of to Canada",
          "Korea, Republic of to Canada",
          "Korea, Republic of to Canada",
          "Korea, Republic of to Canada",
          "Korea, Republic of to Canada",
          "Korea, Republic of to Canada",
          "Korea, Republic of to Canada",
          "Korea, Republic of to Canada",
          "Korea, Republic of to Canada"
         ],
         "type": "scatter",
         "x": [
          0.19883756738401598,
          0.45643661375511785,
          null,
          0.45643661375511785,
          0.4314702084186595,
          null,
          0.45643661375511785,
          0.4504411957032109,
          null
         ],
         "y": [
          0.029163121096796113,
          0.6182171471904296,
          null,
          0.6182171471904296,
          0.586964900769139,
          null,
          0.6182171471904296,
          0.5786687051960315,
          null
         ]
        },
        {
         "hoverinfo": "text",
         "line": {
          "color": "white",
          "width": 2
         },
         "mode": "lines",
         "opacity": 0.5,
         "text": [
          "Korea, Republic of to Croatia",
          "Korea, Republic of to Croatia",
          "Korea, Republic of to Croatia",
          "Korea, Republic of to Croatia",
          "Korea, Republic of to Croatia",
          "Korea, Republic of to Croatia",
          "Korea, Republic of to Croatia",
          "Korea, Republic of to Croatia",
          "Korea, Republic of to Croatia"
         ],
         "type": "scatter",
         "x": [
          0.23154422174901818,
          0.6571001881768962,
          null,
          0.6571001881768962,
          0.6185097832771093,
          null,
          0.6571001881768962,
          0.6289428631308226,
          null
         ],
         "y": [
          0.00004128386015321561,
          0.24828604249332162,
          null,
          0.24828604249332162,
          0.23776015061438296,
          null,
          0.24828604249332162,
          0.219875150278779,
          null
         ]
        },
        {
         "hoverinfo": "text",
         "line": {
          "color": "white",
          "width": 2
         },
         "mode": "lines",
         "opacity": 0.5,
         "text": [
          "Korea, Republic of to Slovakia",
          "Korea, Republic of to Slovakia",
          "Korea, Republic of to Slovakia",
          "Korea, Republic of to Slovakia",
          "Korea, Republic of to Slovakia",
          "Korea, Republic of to Slovakia",
          "Korea, Republic of to Slovakia",
          "Korea, Republic of to Slovakia",
          "Korea, Republic of to Slovakia"
         ],
         "type": "scatter",
         "x": [
          0.23401034492254008,
          0.48450665345126814,
          null,
          0.48450665345126814,
          0.45432397733494156,
          null,
          0.48450665345126814,
          0.4452429584239444,
          null
         ],
         "y": [
          -0.06651943888477763,
          -0.18876532588926043,
          null,
          -0.18876532588926043,
          -0.16251586437648627,
          null,
          -0.18876532588926043,
          -0.1811239634416994,
          null
         ]
        },
        {
         "hoverinfo": "text",
         "line": {
          "color": "white",
          "width": 2
         },
         "mode": "lines",
         "opacity": 0.5,
         "text": [
          "Korea, Republic of to Denmark",
          "Korea, Republic of to Denmark",
          "Korea, Republic of to Denmark",
          "Korea, Republic of to Denmark",
          "Korea, Republic of to Denmark",
          "Korea, Republic of to Denmark",
          "Korea, Republic of to Denmark",
          "Korea, Republic of to Denmark",
          "Korea, Republic of to Denmark"
         ],
         "type": "scatter",
         "x": [
          0.10542543931899384,
          -0.23210148483634155,
          null,
          -0.23210148483634155,
          -0.19247018149033449,
          null,
          -0.23210148483634155,
          -0.20048823252469586,
          null
         ],
         "y": [
          -0.06289414591197973,
          -0.20466057808149007,
          null,
          -0.20466057808149007,
          -0.19924365173932276,
          null,
          -0.20466057808149007,
          -0.18015373058574055,
          null
         ]
        },
        {
         "hoverinfo": "text",
         "line": {
          "color": "white",
          "width": 2
         },
         "mode": "lines",
         "opacity": 0.5,
         "text": [
          "Korea, Republic of to Taiwan",
          "Korea, Republic of to Taiwan",
          "Korea, Republic of to Taiwan",
          "Korea, Republic of to Taiwan",
          "Korea, Republic of to Taiwan",
          "Korea, Republic of to Taiwan",
          "Korea, Republic of to Taiwan",
          "Korea, Republic of to Taiwan",
          "Korea, Republic of to Taiwan"
         ],
         "type": "scatter",
         "x": [
          0.16746236527337482,
          0.15095806760038807,
          null,
          0.15095806760038807,
          0.16298327153698036,
          null,
          0.15095806760038807,
          0.14229991878306236,
          null
         ],
         "y": [
          -0.10610291914767106,
          -0.4844718112192394,
          null,
          -0.4844718112192394,
          -0.4463272493950329,
          null,
          -0.4844718112192394,
          -0.4454250496949543,
          null
         ]
        },
        {
         "hoverinfo": "text",
         "line": {
          "color": "white",
          "width": 2
         },
         "mode": "lines",
         "opacity": 0.5,
         "text": [
          "Korea, Republic of to Netherlands",
          "Korea, Republic of to Netherlands",
          "Korea, Republic of to Netherlands",
          "Korea, Republic of to Netherlands",
          "Korea, Republic of to Netherlands",
          "Korea, Republic of to Netherlands",
          "Korea, Republic of to Netherlands",
          "Korea, Republic of to Netherlands",
          "Korea, Republic of to Netherlands"
         ],
         "type": "scatter",
         "x": [
          0.10328865273876149,
          0.032319353813329524,
          null,
          0.032319353813329524,
          0.06594820475008888,
          null,
          0.032319353813329524,
          0.07227095247963138,
          null
         ],
         "y": [
          -0.013977972884286354,
          0.008781362279676453,
          null,
          0.008781362279676453,
          -0.012874956630299823,
          null,
          0.008781362279676453,
          0.006840865419559354,
          null
         ]
        },
        {
         "hoverinfo": "text",
         "line": {
          "color": "white",
          "width": 2
         },
         "mode": "lines",
         "opacity": 0.5,
         "text": [
          "Korea, Republic of to France",
          "Korea, Republic of to France",
          "Korea, Republic of to France",
          "Korea, Republic of to France",
          "Korea, Republic of to France",
          "Korea, Republic of to France",
          "Korea, Republic of to France",
          "Korea, Republic of to France",
          "Korea, Republic of to France"
         ],
         "type": "scatter",
         "x": [
          0.10141612671793834,
          0.09129867553968374,
          null,
          0.09129867553968374,
          0.12698251471242533,
          null,
          0.09129867553968374,
          0.13122786464656583,
          null
         ],
         "y": [
          -0.021061547391364135,
          -0.01894164902114515,
          null,
          -0.01894164902114515,
          -0.03699380477860428,
          null,
          -0.01894164902114515,
          -0.016733354913807466,
          null
         ]
        },
        {
         "hoverinfo": "text",
         "line": {
          "color": "white",
          "width": 2
         },
         "mode": "lines",
         "opacity": 0.5,
         "text": [
          "Korea, Republic of to Spain",
          "Korea, Republic of to Spain",
          "Korea, Republic of to Spain",
          "Korea, Republic of to Spain",
          "Korea, Republic of to Spain",
          "Korea, Republic of to Spain",
          "Korea, Republic of to Spain",
          "Korea, Republic of to Spain",
          "Korea, Republic of to Spain"
         ],
         "type": "scatter",
         "x": [
          0.10449521654127872,
          0.0147575969187628,
          null,
          0.0147575969187628,
          0.0545557208635563,
          null,
          0.0147575969187628,
          0.04722082132871524,
          null
         ],
         "y": [
          -0.060564356194553276,
          -0.09455907702944545,
          null,
          -0.09455907702944545,
          -0.09055315313104448,
          null,
          -0.09455907702944545,
          -0.07119078319540625,
          null
         ]
        },
        {
         "hoverinfo": "text",
         "line": {
          "color": "white",
          "width": 2
         },
         "mode": "lines",
         "opacity": 0.5,
         "text": [
          "Korea, Republic of to Belgium",
          "Korea, Republic of to Belgium",
          "Korea, Republic of to Belgium",
          "Korea, Republic of to Belgium",
          "Korea, Republic of to Belgium",
          "Korea, Republic of to Belgium",
          "Korea, Republic of to Belgium",
          "Korea, Republic of to Belgium",
          "Korea, Republic of to Belgium"
         ],
         "type": "scatter",
         "x": [
          0.11556930743232682,
          0.09529393745193021,
          null,
          0.09529393745193021,
          0.11886457717366238,
          null,
          0.09529393745193021,
          0.13186289918637079,
          null
         ],
         "y": [
          0.008795777943720898,
          0.025150396745769604,
          null,
          0.025150396745769604,
          -0.007161981158170294,
          null,
          0.025150396745769604,
          0.008952376485140755,
          null
         ]
        },
        {
         "hoverinfo": "text",
         "line": {
          "color": "white",
          "width": 2
         },
         "mode": "lines",
         "opacity": 0.5,
         "text": [
          "Korea, Republic of to Ireland",
          "Korea, Republic of to Ireland",
          "Korea, Republic of to Ireland",
          "Korea, Republic of to Ireland",
          "Korea, Republic of to Ireland",
          "Korea, Republic of to Ireland",
          "Korea, Republic of to Ireland",
          "Korea, Republic of to Ireland",
          "Korea, Republic of to Ireland"
         ],
         "type": "scatter",
         "x": [
          0.10965881727235041,
          -0.10823523054654999,
          null,
          -0.10823523054654999,
          -0.08017630270180023,
          null,
          -0.10823523054654999,
          -0.06968184898592464,
          null
         ],
         "y": [
          0.00025112488342875217,
          0.12836551729534662,
          null,
          0.12836551729534662,
          0.0998582428071116,
          null,
          0.12836551729534662,
          0.11770695731825394,
          null
         ]
        },
        {
         "hoverinfo": "text",
         "line": {
          "color": "white",
          "width": 2
         },
         "mode": "lines",
         "opacity": 0.5,
         "text": [
          "Romania to Italy",
          "Romania to Italy",
          "Romania to Italy",
          "Romania to Italy",
          "Romania to Italy",
          "Romania to Italy",
          "Romania to Italy",
          "Romania to Italy",
          "Romania to Italy"
         ],
         "type": "scatter",
         "x": [
          0.08470968165161272,
          0.057819918117973254,
          null,
          0.057819918117973254,
          0.05671179090202863,
          null,
          0.057819918117973254,
          0.07685106987833275,
          null
         ],
         "y": [
          -0.20314881563867293,
          -0.09038577867222605,
          null,
          -0.09038577867222605,
          -0.13036741483221098,
          null,
          -0.09038577867222605,
          -0.12556495487961183,
          null
         ]
        },
        {
         "hoverinfo": "text",
         "line": {
          "color": "white",
          "width": 2
         },
         "mode": "lines",
         "opacity": 0.5,
         "text": [
          "Romania to Hungary",
          "Romania to Hungary",
          "Romania to Hungary",
          "Romania to Hungary",
          "Romania to Hungary",
          "Romania to Hungary",
          "Romania to Hungary",
          "Romania to Hungary",
          "Romania to Hungary"
         ],
         "type": "scatter",
         "x": [
          0.15666089704122876,
          0.4179819640389122,
          null,
          0.4179819640389122,
          0.3811917797793274,
          null,
          0.4179819640389122,
          0.3939709730440321,
          null
         ],
         "y": [
          -0.2282590127370142,
          -0.023278194405246557,
          null,
          -0.023278194405246557,
          -0.038978680772908086,
          null,
          -0.023278194405246557,
          -0.0552703065812051,
          null
         ]
        },
        {
         "hoverinfo": "text",
         "line": {
          "color": "white",
          "width": 2
         },
         "mode": "lines",
         "opacity": 0.5,
         "text": [
          "Romania to Republic of Moldova",
          "Romania to Republic of Moldova",
          "Romania to Republic of Moldova",
          "Romania to Republic of Moldova",
          "Romania to Republic of Moldova",
          "Romania to Republic of Moldova",
          "Romania to Republic of Moldova",
          "Romania to Republic of Moldova",
          "Romania to Republic of Moldova"
         ],
         "type": "scatter",
         "x": [
          0.043103163400818455,
          -0.5057915696491535,
          null,
          -0.5057915696491535,
          -0.46815816712074554,
          null,
          -0.5057915696491535,
          -0.47997718436043235,
          null
         ],
         "y": [
          -0.31216149596843096,
          -0.6937555566212424,
          null,
          -0.6937555566212424,
          -0.6802013619577911,
          null,
          -0.6937555566212424,
          -0.6632005784506501,
          null
         ]
        },
        {
         "hoverinfo": "text",
         "line": {
          "color": "white",
          "width": 2
         },
         "mode": "lines",
         "opacity": 0.5,
         "text": [
          "Romania to Bulgaria",
          "Romania to Bulgaria",
          "Romania to Bulgaria",
          "Romania to Bulgaria",
          "Romania to Bulgaria",
          "Romania to Bulgaria",
          "Romania to Bulgaria",
          "Romania to Bulgaria",
          "Romania to Bulgaria"
         ],
         "type": "scatter",
         "x": [
          0.0321543498714624,
          -0.1596675770137299,
          null,
          -0.1596675770137299,
          -0.12420389125350581,
          null,
          -0.1596675770137299,
          -0.11970463593479055,
          null
         ],
         "y": [
          -0.25650077761901546,
          -0.21379754694068692,
          null,
          -0.21379754694068692,
          -0.2322985235382006,
          null,
          -0.21379754694068692,
          -0.21208801978884312,
          null
         ]
        },
        {
         "hoverinfo": "text",
         "line": {
          "color": "white",
          "width": 2
         },
         "mode": "lines",
         "opacity": 0.5,
         "text": [
          "Germany to France",
          "Germany to France",
          "Germany to France",
          "Germany to France",
          "Germany to France",
          "Germany to France",
          "Germany to France",
          "Germany to France",
          "Germany to France"
         ],
         "type": "scatter",
         "x": [
          0.03920014270339528,
          0.09153223117240658,
          null,
          0.09153223117240658,
          0.05553942440515231,
          null,
          0.09153223117240658,
          0.05163411805706137,
          null
         ],
         "y": [
          -0.007727937005285979,
          -0.01777838049428605,
          null,
          -0.01777838049428605,
          -0.00032352429148892886,
          null,
          -0.01777838049428605,
          -0.020658434986886496,
          null
         ]
        },
        {
         "hoverinfo": "text",
         "line": {
          "color": "white",
          "width": 2
         },
         "mode": "lines",
         "opacity": 0.5,
         "text": [
          "Germany to Romania",
          "Germany to Romania",
          "Germany to Romania",
          "Germany to Romania",
          "Germany to Romania",
          "Germany to Romania",
          "Germany to Romania",
          "Germany to Romania",
          "Germany to Romania"
         ],
         "type": "scatter",
         "x": [
          0.10645618620185554,
          0.10319321980756178,
          null,
          0.10319321980756178,
          0.11468401589302195,
          null,
          0.10319321980756178,
          0.09400032125829516,
          null
         ],
         "y": [
          -0.09164186097854804,
          -0.20125383588714107,
          null,
          -0.20125383588714107,
          -0.16296539614917727,
          null,
          -0.20125383588714107,
          -0.16234967636006475,
          null
         ]
        },
        {
         "hoverinfo": "text",
         "line": {
          "color": "white",
          "width": 2
         },
         "mode": "lines",
         "opacity": 0.5,
         "text": [
          "Germany to Netherlands",
          "Germany to Netherlands",
          "Germany to Netherlands",
          "Germany to Netherlands",
          "Germany to Netherlands",
          "Germany to Netherlands",
          "Germany to Netherlands",
          "Germany to Netherlands",
          "Germany to Netherlands"
         ],
         "type": "scatter",
         "x": [
          0.04206919611195177,
          0.031556382058319024,
          null,
          0.031556382058319024,
          0.06443204149823685,
          null,
          0.031556382058319024,
          0.07141280768304122,
          null
         ],
         "y": [
          0.0027673434061547576,
          0.0065329249021725995,
          null,
          0.0065329249021725995,
          -0.016237613865002738,
          null,
          0.0065329249021725995,
          0.0032508895918992816,
          null
         ]
        },
        {
         "hoverinfo": "text",
         "line": {
          "color": "white",
          "width": 2
         },
         "mode": "lines",
         "opacity": 0.5,
         "text": [
          "Germany to United Kingdom",
          "Germany to United Kingdom",
          "Germany to United Kingdom",
          "Germany to United Kingdom",
          "Germany to United Kingdom",
          "Germany to United Kingdom",
          "Germany to United Kingdom",
          "Germany to United Kingdom",
          "Germany to United Kingdom"
         ],
         "type": "scatter",
         "x": [
          0.04326455097567328,
          -0.10625703943925105,
          null,
          -0.10625703943925105,
          -0.07448362631078141,
          null,
          -0.10625703943925105,
          -0.066591359572957,
          null
         ],
         "y": [
          0.0058721683710019484,
          0.0675198251446673,
          null,
          0.0675198251446673,
          0.04322163128046462,
          null,
          0.0675198251446673,
          0.06236367855642342,
          null
         ]
        },
        {
         "hoverinfo": "text",
         "line": {
          "color": "white",
          "width": 2
         },
         "mode": "lines",
         "opacity": 0.5,
         "text": [
          "Germany to Slovakia",
          "Germany to Slovakia",
          "Germany to Slovakia",
          "Germany to Slovakia",
          "Germany to Slovakia",
          "Germany to Slovakia",
          "Germany to Slovakia",
          "Germany to Slovakia",
          "Germany to Slovakia"
         ],
         "type": "scatter",
         "x": [
          0.17290977093217688,
          0.4836247990598111,
          null,
          0.4836247990598111,
          0.4526846710763864,
          null,
          0.4836247990598111,
          0.4441537887459896,
          null
         ],
         "y": [
          -0.050146146405783826,
          -0.19064173945531696,
          null,
          -0.19064173945531696,
          -0.16528959248764918,
          null,
          -0.19064173945531696,
          -0.1841562001325524,
          null
         ]
        },
        {
         "hoverinfo": "text",
         "line": {
          "color": "white",
          "width": 2
         },
         "mode": "lines",
         "opacity": 0.5,
         "text": [
          "Germany to Czech Republic",
          "Germany to Czech Republic",
          "Germany to Czech Republic",
          "Germany to Czech Republic",
          "Germany to Czech Republic",
          "Germany to Czech Republic",
          "Germany to Czech Republic",
          "Germany to Czech Republic",
          "Germany to Czech Republic"
         ],
         "type": "scatter",
         "x": [
          0.16842884386040136,
          0.27205663365327737,
          null,
          0.27205663365327737,
          0.2447934579813738,
          null,
          0.27205663365327737,
          0.2338105778422757,
          null
         ],
         "y": [
          -0.05850917999480924,
          -0.1233484612789703,
          null,
          -0.1233484612789703,
          -0.09407755509637972,
          null,
          -0.1233484612789703,
          -0.11163070076900766,
          null
         ]
        },
        {
         "hoverinfo": "text",
         "line": {
          "color": "white",
          "width": 2
         },
         "mode": "lines",
         "opacity": 0.5,
         "text": [
          "Germany to Poland",
          "Germany to Poland",
          "Germany to Poland",
          "Germany to Poland",
          "Germany to Poland",
          "Germany to Poland",
          "Germany to Poland",
          "Germany to Poland",
          "Germany to Poland"
         ],
         "type": "scatter",
         "x": [
          0.1766086561835289,
          0.19910675967865002,
          null,
          0.19910675967865002,
          0.16464368905909818,
          null,
          0.19910675967865002,
          0.15910418613020588,
          null
         ],
         "y": [
          -0.03994126342628215,
          -0.04618745437125511,
          null,
          -0.04618745437125511,
          -0.02587409657226483,
          null,
          -0.04618745437125511,
          -0.04582710579094269,
          null
         ]
        },
        {
         "hoverinfo": "text",
         "line": {
          "color": "white",
          "width": 2
         },
         "mode": "lines",
         "opacity": 0.5,
         "text": [
          "Germany to Denmark",
          "Germany to Denmark",
          "Germany to Denmark",
          "Germany to Denmark",
          "Germany to Denmark",
          "Germany to Denmark",
          "Germany to Denmark",
          "Germany to Denmark",
          "Germany to Denmark"
         ],
         "type": "scatter",
         "x": [
          0.045895380361057475,
          -0.2345538542602254,
          null,
          -0.2345538542602254,
          -0.1954977203577558,
          null,
          -0.2345538542602254,
          -0.20504875041488727,
          null
         ],
         "y": [
          -0.05362621276229809,
          -0.19943163231823446,
          null,
          -0.19943163231823446,
          -0.19079463174262007,
          null,
          -0.19943163231823446,
          -0.1724237034560168,
          null
         ]
        },
        {
         "hoverinfo": "text",
         "line": {
          "color": "white",
          "width": 2
         },
         "mode": "lines",
         "opacity": 0.5,
         "text": [
          "Germany to Slovenia",
          "Germany to Slovenia",
          "Germany to Slovenia",
          "Germany to Slovenia",
          "Germany to Slovenia",
          "Germany to Slovenia",
          "Germany to Slovenia",
          "Germany to Slovenia",
          "Germany to Slovenia"
         ],
         "type": "scatter",
         "x": [
          0.08352124431018992,
          0.03625906957995489,
          null,
          0.03625906957995489,
          0.040275203865490855,
          null,
          0.03625906957995489,
          0.0596352134698423,
          null
         ],
         "y": [
          0.04499026014619102,
          0.1696534730574199,
          null,
          0.1696534730574199,
          0.1298573339102127,
          null,
          0.1696534730574199,
          0.13719707272616605,
          null
         ]
        },
        {
         "hoverinfo": "text",
         "line": {
          "color": "white",
          "width": 2
         },
         "mode": "lines",
         "opacity": 0.5,
         "text": [
          "Germany to Austria",
          "Germany to Austria",
          "Germany to Austria",
          "Germany to Austria",
          "Germany to Austria",
          "Germany to Austria",
          "Germany to Austria",
          "Germany to Austria",
          "Germany to Austria"
         ],
         "type": "scatter",
         "x": [
          0.16896201278756937,
          0.20612098691791608,
          null,
          0.20612098691791608,
          0.1677091134408074,
          null,
          0.20612098691791608,
          0.17843847305804283,
          null
         ],
         "y": [
          0.01554698851866513,
          0.03805922046212994,
          null,
          0.03805922046212994,
          0.026892931705616838,
          null,
          0.03805922046212994,
          0.009182993994442706,
          null
         ]
        },
        {
         "hoverinfo": "text",
         "line": {
          "color": "white",
          "width": 2
         },
         "mode": "lines",
         "opacity": 0.5,
         "text": [
          "Germany to Ireland",
          "Germany to Ireland",
          "Germany to Ireland",
          "Germany to Ireland",
          "Germany to Ireland",
          "Germany to Ireland",
          "Germany to Ireland",
          "Germany to Ireland",
          "Germany to Ireland"
         ],
         "type": "scatter",
         "x": [
          0.04980324438645826,
          -0.11036208604247805,
          null,
          -0.11036208604247805,
          -0.08396419647016046,
          null,
          -0.11036208604247805,
          -0.07247496145570329,
          null
         ],
         "y": [
          0.01814129368080674,
          0.12497222741090588,
          null,
          0.12497222741090588,
          0.09492046418920308,
          null,
          0.12497222741090588,
          0.11214558181855516,
          null
         ]
        },
        {
         "hoverinfo": "text",
         "line": {
          "color": "white",
          "width": 2
         },
         "mode": "lines",
         "opacity": 0.5,
         "text": [
          "Germany to Spain",
          "Germany to Spain",
          "Germany to Spain",
          "Germany to Spain",
          "Germany to Spain",
          "Germany to Spain",
          "Germany to Spain",
          "Germany to Spain",
          "Germany to Spain"
         ],
         "type": "scatter",
         "x": [
          0.0484368575993252,
          0.008833527478896097,
          null,
          0.008833527478896097,
          0.04715465183347178,
          null,
          0.008833527478896097,
          0.03629034723109334,
          null
         ],
         "y": [
          -0.05810729657183026,
          -0.08251925773923122,
          null,
          -0.08251925773923122,
          -0.0710587628583355,
          null,
          -0.08251925773923122,
          -0.053433615855146166,
          null
         ]
        },
        {
         "hoverinfo": "text",
         "line": {
          "color": "white",
          "width": 2
         },
         "mode": "lines",
         "opacity": 0.5,
         "text": [
          "Germany to Hungary",
          "Germany to Hungary",
          "Germany to Hungary",
          "Germany to Hungary",
          "Germany to Hungary",
          "Germany to Hungary",
          "Germany to Hungary",
          "Germany to Hungary",
          "Germany to Hungary"
         ],
         "type": "scatter",
         "x": [
          0.1787335578581778,
          0.4033751856541306,
          null,
          0.4033751856541306,
          0.3638179935990684,
          null,
          0.4033751856541306,
          0.36614929954664616,
          null
         ],
         "y": [
          -0.013096291831899805,
          0.012358516536795108,
          null,
          0.012358516536795108,
          0.018295222307636402,
          null,
          0.012358516536795108,
          -0.0022787414783937334,
          null
         ]
        },
        {
         "hoverinfo": "text",
         "line": {
          "color": "white",
          "width": 2
         },
         "mode": "lines",
         "opacity": 0.5,
         "text": [
          "Germany to Belgium",
          "Germany to Belgium",
          "Germany to Belgium",
          "Germany to Belgium",
          "Germany to Belgium",
          "Germany to Belgium",
          "Germany to Belgium",
          "Germany to Belgium",
          "Germany to Belgium"
         ],
         "type": "scatter",
         "x": [
          0.06605119952448749,
          0.08282961697794933,
          null,
          0.08282961697794933,
          0.06784127656796647,
          null,
          0.08282961697794933,
          0.051303811536091544,
          null
         ],
         "y": [
          0.03535304464405162,
          0.013090008958376143,
          null,
          0.013090008958376143,
          0.05018105273086368,
          null,
          0.013090008958376143,
          0.03771762491323952,
          null
         ]
        },
        {
         "hoverinfo": "text",
         "line": {
          "color": "white",
          "width": 2
         },
         "mode": "lines",
         "opacity": 0.5,
         "text": [
          "Germany to Switzerland",
          "Germany to Switzerland",
          "Germany to Switzerland",
          "Germany to Switzerland",
          "Germany to Switzerland",
          "Germany to Switzerland",
          "Germany to Switzerland",
          "Germany to Switzerland",
          "Germany to Switzerland"
         ],
         "type": "scatter",
         "x": [
          0.16261388570978966,
          0.2583692886115067,
          null,
          0.2583692886115067,
          0.22213328177684938,
          null,
          0.2583692886115067,
          0.2354587398565504,
          null
         ],
         "y": [
          0.02440308728826157,
          0.10491552663298842,
          null,
          0.10491552663298842,
          0.08797401924186149,
          null,
          0.10491552663298842,
          0.07212574743654201,
          null
         ]
        },
        {
         "hoverinfo": "text",
         "line": {
          "color": "white",
          "width": 2
         },
         "mode": "lines",
         "opacity": 0.5,
         "text": [
          "Germany to Luxembourg",
          "Germany to Luxembourg",
          "Germany to Luxembourg",
          "Germany to Luxembourg",
          "Germany to Luxembourg",
          "Germany to Luxembourg",
          "Germany to Luxembourg",
          "Germany to Luxembourg",
          "Germany to Luxembourg"
         ],
         "type": "scatter",
         "x": [
          0.09414343282437512,
          0.08017959270092814,
          null,
          0.08017959270092814,
          0.07793068526723335,
          null,
          0.08017959270092814,
          0.09819744813371636,
          null
         ],
         "y": [
          0.04809028759720828,
          0.11506848142295527,
          null,
          0.11506848142295527,
          0.0751375486207001,
          null,
          0.11506848142295527,
          0.07936282550254556,
          null
         ]
        },
        {
         "hoverinfo": "text",
         "line": {
          "color": "white",
          "width": 2
         },
         "mode": "lines",
         "opacity": 0.5,
         "text": [
          "Germany to New Zealand",
          "Germany to New Zealand",
          "Germany to New Zealand",
          "Germany to New Zealand",
          "Germany to New Zealand",
          "Germany to New Zealand",
          "Germany to New Zealand",
          "Germany to New Zealand",
          "Germany to New Zealand"
         ],
         "type": "scatter",
         "x": [
          0.17777516139086214,
          0.7006819023509784,
          null,
          0.7006819023509784,
          0.6607582013400548,
          null,
          0.7006819023509784,
          0.6648713136738724,
          null
         ],
         "y": [
          -0.00701866559811499,
          0.09896755176205091,
          null,
          0.09896755176205091,
          0.10143885053915419,
          null,
          0.09896755176205091,
          0.08114590877790197,
          null
         ]
        },
        {
         "hoverinfo": "text",
         "line": {
          "color": "white",
          "width": 2
         },
         "mode": "lines",
         "opacity": 0.5,
         "text": [
          "Germany to Italy",
          "Germany to Italy",
          "Germany to Italy",
          "Germany to Italy",
          "Germany to Italy",
          "Germany to Italy",
          "Germany to Italy",
          "Germany to Italy",
          "Germany to Italy"
         ],
         "type": "scatter",
         "x": [
          0.03793584355690857,
          0.1120596386448448,
          null,
          0.1120596386448448,
          0.07333024537095365,
          null,
          0.1120596386448448,
          0.07352733270430489,
          null
         ],
         "y": [
          -0.021720364605096087,
          -0.021014797858646822,
          null,
          -0.021014797858646822,
          -0.011031462874262831,
          null,
          -0.021014797858646822,
          -0.031733672784625945,
          null
         ]
        },
        {
         "hoverinfo": "text",
         "line": {
          "color": "white",
          "width": 2
         },
         "mode": "lines",
         "opacity": 0.5,
         "text": [
          "Germany to Turkey",
          "Germany to Turkey",
          "Germany to Turkey",
          "Germany to Turkey",
          "Germany to Turkey",
          "Germany to Turkey",
          "Germany to Turkey",
          "Germany to Turkey",
          "Germany to Turkey"
         ],
         "type": "scatter",
         "x": [
          0.039692948309473466,
          0.016229774944598638,
          null,
          0.016229774944598638,
          0.05619813751547356,
          null,
          0.016229774944598638,
          0.051604507093585,
          null
         ],
         "y": [
          -0.03671798515827314,
          -0.04205692500895003,
          null,
          -0.04205692500895003,
          -0.04357915463883316,
          null,
          -0.04205692500895003,
          -0.023391033253384742,
          null
         ]
        },
        {
         "hoverinfo": "text",
         "line": {
          "color": "white",
          "width": 2
         },
         "mode": "lines",
         "opacity": 0.5,
         "text": [
          "Germany to Bulgaria",
          "Germany to Bulgaria",
          "Germany to Bulgaria",
          "Germany to Bulgaria",
          "Germany to Bulgaria",
          "Germany to Bulgaria",
          "Germany to Bulgaria",
          "Germany to Bulgaria",
          "Germany to Bulgaria"
         ],
         "type": "scatter",
         "x": [
          0.04605636895387551,
          -0.16610371366397558,
          null,
          -0.16610371366397558,
          -0.1270906125982828,
          null,
          -0.16610371366397558,
          -0.1367318602193609,
          null
         ],
         "y": [
          -0.05393401420657074,
          -0.16556487850597557,
          null,
          -0.16556487850597557,
          -0.1567359121886055,
          null,
          -0.16556487850597557,
          -0.13841221885312957,
          null
         ]
        },
        {
         "hoverinfo": "text",
         "line": {
          "color": "white",
          "width": 2
         },
         "mode": "lines",
         "opacity": 0.5,
         "text": [
          "Germany to Republic of Moldova",
          "Germany to Republic of Moldova",
          "Germany to Republic of Moldova",
          "Germany to Republic of Moldova",
          "Germany to Republic of Moldova",
          "Germany to Republic of Moldova",
          "Germany to Republic of Moldova",
          "Germany to Republic of Moldova",
          "Germany to Republic of Moldova"
         ],
         "type": "scatter",
         "x": [
          0.060105676035265995,
          -0.5153281998514336,
          null,
          -0.5153281998514336,
          -0.48128930498350586,
          null,
          -0.5153281998514336,
          -0.4963537351774065,
          null
         ],
         "y": [
          -0.07243195685067522,
          -0.6826856638918422,
          null,
          -0.6826856638918422,
          -0.66167749789515,
          null,
          -0.6826856638918422,
          -0.6474726110178224,
          null
         ]
        },
        {
         "hoverinfo": "text",
         "line": {
          "color": "white",
          "width": 2
         },
         "mode": "lines",
         "opacity": 0.5,
         "text": [
          "Germany to Croatia",
          "Germany to Croatia",
          "Germany to Croatia",
          "Germany to Croatia",
          "Germany to Croatia",
          "Germany to Croatia",
          "Germany to Croatia",
          "Germany to Croatia",
          "Germany to Croatia"
         ],
         "type": "scatter",
         "x": [
          0.17172046526948517,
          0.6549415162746091,
          null,
          0.6549415162746091,
          0.6157550118873543,
          null,
          0.6549415162746091,
          0.6250184165976276,
          null
         ],
         "y": [
          0.010548523360790492,
          0.2522756819056216,
          null,
          0.2522756819056216,
          0.2442488646898387,
          null,
          0.2522756819056216,
          0.22573100209159194,
          null
         ]
        },
        {
         "hoverinfo": "text",
         "line": {
          "color": "white",
          "width": 2
         },
         "mode": "lines",
         "opacity": 0.5,
         "text": [
          "Germany to Algeria",
          "Germany to Algeria",
          "Germany to Algeria",
          "Germany to Algeria",
          "Germany to Algeria",
          "Germany to Algeria",
          "Germany to Algeria",
          "Germany to Algeria",
          "Germany to Algeria"
         ],
         "type": "scatter",
         "x": [
          0.051361753666850384,
          -0.7207661296419857,
          null,
          -0.7207661296419857,
          -0.6955491384878781,
          null,
          -0.7207661296419857,
          -0.6834026391381436,
          null
         ],
         "y": [
          0.02038278262353612,
          0.5796880840222248,
          null,
          0.5796880840222248,
          0.5486382129074698,
          null,
          0.5796880840222248,
          0.5654066024296681,
          null
         ]
        },
        {
         "hoverinfo": "text",
         "line": {
          "color": "white",
          "width": 2
         },
         "mode": "lines",
         "opacity": 0.5,
         "text": [
          "Germany to Greece",
          "Germany to Greece",
          "Germany to Greece",
          "Germany to Greece",
          "Germany to Greece",
          "Germany to Greece",
          "Germany to Greece",
          "Germany to Greece",
          "Germany to Greece"
         ],
         "type": "scatter",
         "x": [
          0.12849913326242474,
          0.15112622343182008,
          null,
          0.15112622343182008,
          0.15014817129705357,
          null,
          0.15112622343182008,
          0.13028339052857932,
          null
         ],
         "y": [
          -0.08879935124223438,
          -0.16567490111500355,
          null,
          -0.16567490111500355,
          -0.1256832712983888,
          null,
          -0.16567490111500355,
          -0.13153015982245525,
          null
         ]
        },
        {
         "hoverinfo": "text",
         "line": {
          "color": "white",
          "width": 2
         },
         "mode": "lines",
         "opacity": 0.5,
         "text": [
          "Germany to Bosnia and Herzegovina",
          "Germany to Bosnia and Herzegovina",
          "Germany to Bosnia and Herzegovina",
          "Germany to Bosnia and Herzegovina",
          "Germany to Bosnia and Herzegovina",
          "Germany to Bosnia and Herzegovina",
          "Germany to Bosnia and Herzegovina",
          "Germany to Bosnia and Herzegovina",
          "Germany to Bosnia and Herzegovina"
         ],
         "type": "scatter",
         "x": [
          0.12707622757121265,
          0.27119531485982046,
          null,
          0.27119531485982046,
          0.2510734962271911,
          null,
          0.27119531485982046,
          0.27105482451155904,
          null
         ],
         "y": [
          0.04710575729677126,
          0.5775068256804176,
          null,
          0.5775068256804176,
          0.5429357941645403,
          null,
          0.5775068256804176,
          0.5375065248363207,
          null
         ]
        },
        {
         "hoverinfo": "text",
         "line": {
          "color": "white",
          "width": 2
         },
         "mode": "lines",
         "opacity": 0.5,
         "text": [
          "Germany to Japan",
          "Germany to Japan",
          "Germany to Japan",
          "Germany to Japan",
          "Germany to Japan",
          "Germany to Japan",
          "Germany to Japan",
          "Germany to Japan",
          "Germany to Japan"
         ],
         "type": "scatter",
         "x": [
          0.12152730103704179,
          0.10023904644275423,
          null,
          0.10023904644275423,
          0.09715798580484206,
          null,
          0.10023904644275423,
          0.11750944851332237,
          null
         ],
         "y": [
          -0.09047203780901694,
          0.023479610402610956,
          null,
          0.023479610402610956,
          -0.01639774730458981,
          null,
          0.023479610402610956,
          -0.01259572472658018,
          null
         ]
        },
        {
         "hoverinfo": "text",
         "line": {
          "color": "white",
          "width": 2
         },
         "mode": "lines",
         "opacity": 0.5,
         "text": [
          "Germany to The former Yugoslav Republic of Macedonia",
          "Germany to The former Yugoslav Republic of Macedonia",
          "Germany to The former Yugoslav Republic of Macedonia",
          "Germany to The former Yugoslav Republic of Macedonia",
          "Germany to The former Yugoslav Republic of Macedonia",
          "Germany to The former Yugoslav Republic of Macedonia",
          "Germany to The former Yugoslav Republic of Macedonia",
          "Germany to The former Yugoslav Republic of Macedonia",
          "Germany to The former Yugoslav Republic of Macedonia"
         ],
         "type": "scatter",
         "x": [
          0.09542732011533459,
          0.028246609365456192,
          null,
          0.028246609365456192,
          0.04560161355406833,
          null,
          0.028246609365456192,
          0.02525767794298003,
          null
         ],
         "y": [
          -0.09044182972944378,
          -0.44549155000828966,
          null,
          -0.44549155000828966,
          -0.40945393814309045,
          null,
          -0.44549155000828966,
          -0.40560456054699756,
          null
         ]
        },
        {
         "hoverinfo": "text",
         "line": {
          "color": "white",
          "width": 2
         },
         "mode": "lines",
         "opacity": 0.5,
         "text": [
          "Germany to United States",
          "Germany to United States",
          "Germany to United States",
          "Germany to United States",
          "Germany to United States",
          "Germany to United States",
          "Germany to United States",
          "Germany to United States",
          "Germany to United States"
         ],
         "type": "scatter",
         "x": [
          0.09325588350681696,
          0.10370297577468349,
          null,
          0.10370297577468349,
          0.10543896226379436,
          null,
          0.10370297577468349,
          0.08522135284664523,
          null
         ],
         "y": [
          0.047899287631390244,
          0.0008262694797643161,
          null,
          0.0008262694797643161,
          0.040796332136233966,
          null,
          0.0008262694797643161,
          0.036309352375678186,
          null
         ]
        },
        {
         "hoverinfo": "text",
         "line": {
          "color": "white",
          "width": 2
         },
         "mode": "lines",
         "opacity": 0.5,
         "text": [
          "Germany to Azerbaijan",
          "Germany to Azerbaijan",
          "Germany to Azerbaijan",
          "Germany to Azerbaijan",
          "Germany to Azerbaijan",
          "Germany to Azerbaijan",
          "Germany to Azerbaijan",
          "Germany to Azerbaijan",
          "Germany to Azerbaijan"
         ],
         "type": "scatter",
         "x": [
          0.051809968987708996,
          -0.6560985330822421,
          null,
          -0.6560985330822421,
          -0.6188905550703494,
          null,
          -0.6560985330822421,
          -0.6312164247135199,
          null
         ],
         "y": [
          -0.06309087243711259,
          -0.5875601643154664,
          null,
          -0.5875601643154664,
          -0.5728782726894069,
          null,
          -0.5875601643154664,
          -0.5562412841857426,
          null
         ]
        },
        {
         "hoverinfo": "text",
         "line": {
          "color": "white",
          "width": 2
         },
         "mode": "lines",
         "opacity": 0.5,
         "text": [
          "France to Romania",
          "France to Romania",
          "France to Romania",
          "France to Romania",
          "France to Romania",
          "France to Romania",
          "France to Romania",
          "France to Romania",
          "France to Romania"
         ],
         "type": "scatter",
         "x": [
          0.042166391661346045,
          0.08110009978228842,
          null,
          0.08110009978228842,
          0.08009247271606532,
          null,
          0.08110009978228842,
          0.060232772934533975,
          null
         ],
         "y": [
          -0.07219461592096793,
          -0.20411113342576018,
          null,
          -0.20411113342576018,
          -0.16412174100403126,
          null,
          -0.20411113342576018,
          -0.16998311723974957,
          null
         ]
        },
        {
         "hoverinfo": "text",
         "line": {
          "color": "white",
          "width": 2
         },
         "mode": "lines",
         "opacity": 0.5,
         "text": [
          "France to Netherlands",
          "France to Netherlands",
          "France to Netherlands",
          "France to Netherlands",
          "France to Netherlands",
          "France to Netherlands",
          "France to Netherlands",
          "France to Netherlands",
          "France to Netherlands"
         ],
         "type": "scatter",
         "x": [
          -0.03813149197382624,
          0.02537415557831417,
          null,
          0.02537415557831417,
          -0.0022306524654605205,
          null,
          0.02537415557831417,
          -0.013007146440582637,
          null
         ],
         "y": [
          0.03229845057191297,
          -0.006408234744624611,
          null,
          -0.006408234744624611,
          0.022541439228165223,
          null,
          -0.006408234744624611,
          0.004860514325201206,
          null
         ]
        },
        {
         "hoverinfo": "text",
         "line": {
          "color": "white",
          "width": 2
         },
         "mode": "lines",
         "opacity": 0.5,
         "text": [
          "France to Germany",
          "France to Germany",
          "France to Germany",
          "France to Germany",
          "France to Germany",
          "France to Germany",
          "France to Germany",
          "France to Germany",
          "France to Germany"
         ],
         "type": "scatter",
         "x": [
          0.09153223117240658,
          0.03920014270339528,
          null,
          0.03920014270339528,
          0.07518941795733103,
          null,
          0.03920014270339528,
          0.07909442305076783,
          null
         ],
         "y": [
          -0.01777838049428605,
          -0.007727937005285979,
          null,
          -0.007727937005285979,
          -0.025181244432633074,
          null,
          -0.007727937005285979,
          -0.004848306990460327,
          null
         ]
        },
        {
         "hoverinfo": "text",
         "line": {
          "color": "white",
          "width": 2
         },
         "mode": "lines",
         "opacity": 0.5,
         "text": [
          "France to Spain",
          "France to Spain",
          "France to Spain",
          "France to Spain",
          "France to Spain",
          "France to Spain",
          "France to Spain",
          "France to Spain",
          "France to Spain"
         ],
         "type": "scatter",
         "x": [
          -0.015817037406633448,
          -0.013295492080928117,
          null,
          -0.013295492080928117,
          -0.04282935373922961,
          null,
          -0.013295492080928117,
          -0.025361362388022425,
          null
         ],
         "y": [
          -0.0639940251249157,
          -0.06004258166718476,
          null,
          -0.06004258166718476,
          -0.08706498998888476,
          null,
          -0.06004258166718476,
          -0.09821160457436373,
          null
         ]
        },
        {
         "hoverinfo": "text",
         "line": {
          "color": "white",
          "width": 2
         },
         "mode": "lines",
         "opacity": 0.5,
         "text": [
          "France to Italy",
          "France to Italy",
          "France to Italy",
          "France to Italy",
          "France to Italy",
          "France to Italy",
          "France to Italy",
          "France to Italy",
          "France to Italy"
         ],
         "type": "scatter",
         "x": [
          0.07481631531681257,
          -0.011203747680842042,
          null,
          -0.011203747680842042,
          0.010692778108831933,
          null,
          -0.011203747680842042,
          0.02449586325608131,
          null
         ],
         "y": [
          -0.0515406029827053,
          0.025395388037923388,
          null,
          0.025395388037923388,
          -0.008077938658965746,
          null,
          0.025395388037923388,
          0.007354899664078526,
          null
         ]
        },
        {
         "hoverinfo": "text",
         "line": {
          "color": "white",
          "width": 2
         },
         "mode": "lines",
         "opacity": 0.5,
         "text": [
          "France to Turkey",
          "France to Turkey",
          "France to Turkey",
          "France to Turkey",
          "France to Turkey",
          "France to Turkey",
          "France to Turkey",
          "France to Turkey",
          "France to Turkey"
         ],
         "type": "scatter",
         "x": [
          -0.035355830047648605,
          0.004895638735937846,
          null,
          0.004895638735937846,
          -0.032584445357313946,
          null,
          0.004895638735937846,
          -0.02057394716905195,
          null
         ],
         "y": [
          -0.0454231129811966,
          -0.01676184966706557,
          null,
          -0.01676184966706557,
          -0.030740087778552173,
          null,
          -0.01676184966706557,
          -0.047607401018386675,
          null
         ]
        },
        {
         "hoverinfo": "text",
         "line": {
          "color": "white",
          "width": 2
         },
         "mode": "lines",
         "opacity": 0.5,
         "text": [
          "France to Hungary",
          "France to Hungary",
          "France to Hungary",
          "France to Hungary",
          "France to Hungary",
          "France to Hungary",
          "France to Hungary",
          "France to Hungary",
          "France to Hungary"
         ],
         "type": "scatter",
         "x": [
          0.0926936401809805,
          0.40303218876554503,
          null,
          0.40303218876554503,
          0.36388593179468637,
          null,
          0.40303218876554503,
          0.36502041421087167,
          null
         ],
         "y": [
          -0.0005885747734876803,
          0.016440746997343984,
          null,
          0.016440746997343984,
          0.024660990107016192,
          null,
          0.016440746997343984,
          0.003986557870174786,
          null
         ]
        },
        {
         "hoverinfo": "text",
         "line": {
          "color": "white",
          "width": 2
         },
         "mode": "lines",
         "opacity": 0.5,
         "text": [
          "France to Bosnia and Herzegovina",
          "France to Bosnia and Herzegovina",
          "France to Bosnia and Herzegovina",
          "France to Bosnia and Herzegovina",
          "France to Bosnia and Herzegovina",
          "France to Bosnia and Herzegovina",
          "France to Bosnia and Herzegovina",
          "France to Bosnia and Herzegovina",
          "France to Bosnia and Herzegovina"
         ],
         "type": "scatter",
         "x": [
          0.04905171131131243,
          0.2628369165539378,
          null,
          0.2628369165539378,
          0.23855923924293154,
          null,
          0.2628369165539378,
          0.25770698543542037,
          null
         ],
         "y": [
          0.060852751934889156,
          0.5803497785612607,
          null,
          0.5803497785612607,
          0.5485594702058706,
          null,
          0.5803497785612607,
          0.5406797252758491,
          null
         ]
        },
        {
         "hoverinfo": "text",
         "line": {
          "color": "white",
          "width": 2
         },
         "mode": "lines",
         "opacity": 0.5,
         "text": [
          "France to Greece",
          "France to Greece",
          "France to Greece",
          "France to Greece",
          "France to Greece",
          "France to Greece",
          "France to Greece",
          "France to Greece",
          "France to Greece"
         ],
         "type": "scatter",
         "x": [
          0.06067613342053997,
          0.132566308707922,
          null,
          0.132566308707922,
          0.12018195885820239,
          null,
          0.132566308707922,
          0.10282326211692704,
          null
         ],
         "y": [
          -0.06366572279659836,
          -0.17421858204167856,
          null,
          -0.17421858204167856,
          -0.13618281201811097,
          null,
          -0.17421858204167856,
          -0.1474708138736262,
          null
         ]
        },
        {
         "hoverinfo": "text",
         "line": {
          "color": "white",
          "width": 2
         },
         "mode": "lines",
         "opacity": 0.5,
         "text": [
          "France to Belgium",
          "France to Belgium",
          "France to Belgium",
          "France to Belgium",
          "France to Belgium",
          "France to Belgium",
          "France to Belgium",
          "France to Belgium",
          "France to Belgium"
         ],
         "type": "scatter",
         "x": [
          0.03900780171690901,
          0.023490100219744934,
          null,
          0.023490100219744934,
          0.04275098328072874,
          null,
          0.023490100219744934,
          0.022644739819505412,
          null
         ],
         "y": [
          0.0641314520546512,
          0.0009015490667375614,
          null,
          0.0009015490667375614,
          0.03595309792748331,
          null,
          0.0009015490667375614,
          0.040887522352626784,
          null
         ]
        },
        {
         "hoverinfo": "text",
         "line": {
          "color": "white",
          "width": 2
         },
         "mode": "lines",
         "opacity": 0.5,
         "text": [
          "France to Portugal",
          "France to Portugal",
          "France to Portugal",
          "France to Portugal",
          "France to Portugal",
          "France to Portugal",
          "France to Portugal",
          "France to Portugal",
          "France to Portugal"
         ],
         "type": "scatter",
         "x": [
          -0.04831823743970825,
          -0.24891596896346768,
          null,
          -0.24891596896346768,
          -0.2109846077241318,
          null,
          -0.24891596896346768,
          -0.209719126636374,
          null
         ],
         "y": [
          -0.00014168001717705311,
          0.0121415468266747,
          null,
          0.0121415468266747,
          -0.0005530929607341951,
          null,
          0.0121415468266747,
          0.020113346898553847,
          null
         ]
        },
        {
         "hoverinfo": "text",
         "line": {
          "color": "white",
          "width": 2
         },
         "mode": "lines",
         "opacity": 0.5,
         "text": [
          "France to Japan",
          "France to Japan",
          "France to Japan",
          "France to Japan",
          "France to Japan",
          "France to Japan",
          "France to Japan",
          "France to Japan",
          "France to Japan"
         ],
         "type": "scatter",
         "x": [
          0.08644086748795118,
          0.04894256542606197,
          null,
          0.04894256542606197,
          0.07980577275083311,
          null,
          0.04894256542606197,
          0.08839166771704507,
          null
         ],
         "y": [
          -0.03374562518294344,
          -0.016656854704501543,
          null,
          -0.016656854704501543,
          -0.04209841611543219,
          null,
          -0.016656854704501543,
          -0.02325828953592378,
          null
         ]
        },
        {
         "hoverinfo": "text",
         "line": {
          "color": "white",
          "width": 2
         },
         "mode": "lines",
         "opacity": 0.5,
         "text": [
          "France to Czech Republic",
          "France to Czech Republic",
          "France to Czech Republic",
          "France to Czech Republic",
          "France to Czech Republic",
          "France to Czech Republic",
          "France to Czech Republic",
          "France to Czech Republic",
          "France to Czech Republic"
         ],
         "type": "scatter",
         "x": [
          0.0852231211428624,
          0.2688794418050334,
          null,
          0.2688794418050334,
          0.23905206307239213,
          null,
          0.2688794418050334,
          0.22972183008988267,
          null
         ],
         "y": [
          -0.036282561744523996,
          -0.12898513201029455,
          null,
          -0.12898513201029455,
          -0.1023324440015271,
          null,
          -0.12898513201029455,
          -0.1208169164818817,
          null
         ]
        },
        {
         "hoverinfo": "text",
         "line": {
          "color": "white",
          "width": 2
         },
         "mode": "lines",
         "opacity": 0.5,
         "text": [
          "France to United Kingdom",
          "France to United Kingdom",
          "France to United Kingdom",
          "France to United Kingdom",
          "France to United Kingdom",
          "France to United Kingdom",
          "France to United Kingdom",
          "France to United Kingdom",
          "France to United Kingdom"
         ],
         "type": "scatter",
         "x": [
          -0.04072755766346876,
          -0.10864784536589188,
          null,
          -0.10864784536589188,
          -0.07894394667053298,
          null,
          -0.10864784536589188,
          -0.06952971977120484,
          null
         ],
         "y": [
          0.027654007010609192,
          0.06232793402402106,
          null,
          0.06232793402402106,
          0.03554034455788749,
          null,
          0.06232793402402106,
          0.053981150387880414,
          null
         ]
        },
        {
         "hoverinfo": "text",
         "line": {
          "color": "white",
          "width": 2
         },
         "mode": "lines",
         "opacity": 0.5,
         "text": [
          "France to Austria",
          "France to Austria",
          "France to Austria",
          "France to Austria",
          "France to Austria",
          "France to Austria",
          "France to Austria",
          "France to Austria",
          "France to Austria"
         ],
         "type": "scatter",
         "x": [
          0.08936583332979472,
          0.19933425180990788,
          null,
          0.19933425180990788,
          0.15938629501115031,
          null,
          0.19933425180990788,
          0.16576421567642585,
          null
         ],
         "y": [
          0.01729603786329846,
          0.05290011863645762,
          null,
          0.05290011863645762,
          0.05084830006940701,
          null,
          0.05290011863645762,
          0.03114921323405642,
          null
         ]
        },
        {
         "hoverinfo": "text",
         "line": {
          "color": "white",
          "width": 2
         },
         "mode": "lines",
         "opacity": 0.5,
         "text": [
          "France to Switzerland",
          "France to Switzerland",
          "France to Switzerland",
          "France to Switzerland",
          "France to Switzerland",
          "France to Switzerland",
          "France to Switzerland",
          "France to Switzerland",
          "France to Switzerland"
         ],
         "type": "scatter",
         "x": [
          0.0844887215431025,
          0.250111538212411,
          null,
          0.250111538212411,
          0.21114832314206133,
          null,
          0.250111538212411,
          0.22089341497119205,
          null
         ],
         "y": [
          0.02878120489535094,
          0.11712735654486006,
          null,
          0.11712735654486006,
          0.10807733489921896,
          null,
          0.11712735654486006,
          0.08980820035976099,
          null
         ]
        },
        {
         "hoverinfo": "text",
         "line": {
          "color": "white",
          "width": 2
         },
         "mode": "lines",
         "opacity": 0.5,
         "text": [
          "France to Luxembourg",
          "France to Luxembourg",
          "France to Luxembourg",
          "France to Luxembourg",
          "France to Luxembourg",
          "France to Luxembourg",
          "France to Luxembourg",
          "France to Luxembourg",
          "France to Luxembourg"
         ],
         "type": "scatter",
         "x": [
          0.03807363096934692,
          0.04986647999017348,
          null,
          0.04986647999017348,
          0.031078461620509326,
          null,
          0.04986647999017348,
          0.051255893847431726,
          null
         ],
         "y": [
          0.06435399098166154,
          0.11539472555746301,
          null,
          0.11539472555746301,
          0.0800740954531508,
          null,
          0.11539472555746301,
          0.07541215342462317,
          null
         ]
        },
        {
         "hoverinfo": "text",
         "line": {
          "color": "white",
          "width": 2
         },
         "mode": "lines",
         "opacity": 0.5,
         "text": [
          "France to Algeria",
          "France to Algeria",
          "France to Algeria",
          "France to Algeria",
          "France to Algeria",
          "France to Algeria",
          "France to Algeria",
          "France to Algeria",
          "France to Algeria"
         ],
         "type": "scatter",
         "x": [
          -0.033463620882191424,
          -0.7223236696587269,
          null,
          -0.7223236696587269,
          -0.6982620984985038,
          null,
          -0.7223236696587269,
          -0.6855089506452551,
          null
         ],
         "y": [
          0.0390419825323553,
          0.5776188316323666,
          null,
          0.5776188316323666,
          0.5456652573648633,
          null,
          0.5776188316323666,
          0.5619770101551075,
          null
         ]
        },
        {
         "hoverinfo": "text",
         "line": {
          "color": "white",
          "width": 2
         },
         "mode": "lines",
         "opacity": 0.5,
         "text": [
          "France to Morocco",
          "France to Morocco",
          "France to Morocco",
          "France to Morocco",
          "France to Morocco",
          "France to Morocco",
          "France to Morocco",
          "France to Morocco",
          "France to Morocco"
         ],
         "type": "scatter",
         "x": [
          0.037568311773008775,
          0.18421113632770064,
          null,
          0.18421113632770064,
          0.18589359704482877,
          null,
          0.18421113632770064,
          0.1656856135296721,
          null
         ],
         "y": [
          -0.07338516268827523,
          -0.7299994984659074,
          null,
          -0.7299994984659074,
          -0.6900343454260457,
          null,
          -0.7299994984659074,
          -0.6945474303086902,
          null
         ]
        },
        {
         "hoverinfo": "text",
         "line": {
          "color": "white",
          "width": 2
         },
         "mode": "lines",
         "opacity": 0.5,
         "text": [
          "France to United States",
          "France to United States",
          "France to United States",
          "France to United States",
          "France to United States",
          "France to United States",
          "France to United States",
          "France to United States",
          "France to United States"
         ],
         "type": "scatter",
         "x": [
          0.0691915586341355,
          0.04138438608158209,
          null,
          0.04138438608158209,
          0.07482896364870377,
          null,
          0.04138438608158209,
          0.05937964423693139,
          null
         ],
         "y": [
          0.04824198975084329,
          0.01707351487927227,
          null,
          0.01707351487927227,
          0.03901070615250672,
          null,
          0.01707351487927227,
          0.05279396859313244,
          null
         ]
        },
        {
         "hoverinfo": "text",
         "line": {
          "color": "white",
          "width": 2
         },
         "mode": "lines",
         "opacity": 0.5,
         "text": [
          "Australia to New Zealand",
          "Australia to New Zealand",
          "Australia to New Zealand",
          "Australia to New Zealand",
          "Australia to New Zealand",
          "Australia to New Zealand",
          "Australia to New Zealand",
          "Australia to New Zealand",
          "Australia to New Zealand"
         ],
         "type": "scatter",
         "x": [
          0.5450178704149908,
          0.7343358664951632,
          null,
          0.7343358664951632,
          0.7238242927110463,
          null,
          0.7343358664951632,
          0.7059352865488573,
          null
         ],
         "y": [
          0.4988327553244317,
          0.1740144286573625,
          null,
          0.1740144286573625,
          0.21260900868837482,
          null,
          0.1740144286573625,
          0.2021825285205523,
          null
         ]
        },
        {
         "hoverinfo": "text",
         "line": {
          "color": "white",
          "width": 2
         },
         "mode": "lines",
         "opacity": 0.5,
         "text": [
          "Spain to Portugal",
          "Spain to Portugal",
          "Spain to Portugal",
          "Spain to Portugal",
          "Spain to Portugal",
          "Spain to Portugal",
          "Spain to Portugal",
          "Spain to Portugal",
          "Spain to Portugal"
         ],
         "type": "scatter",
         "x": [
          -0.11426945657705109,
          -0.2564267386237054,
          null,
          -0.2564267386237054,
          -0.22665559043451494,
          null,
          -0.2564267386237054,
          -0.2172872476958639,
          null
         ],
         "y": [
          -0.08762324332749785,
          -0.015497126674493936,
          null,
          -0.015497126674493936,
          -0.042210967266836874,
          null,
          -0.015497126674493936,
          -0.023746417165515638,
          null
         ]
        },
        {
         "hoverinfo": "text",
         "line": {
          "color": "white",
          "width": 2
         },
         "mode": "lines",
         "opacity": 0.5,
         "text": [
          "Spain to France",
          "Spain to France",
          "Spain to France",
          "Spain to France",
          "Spain to France",
          "Spain to France",
          "Spain to France",
          "Spain to France",
          "Spain to France"
         ],
         "type": "scatter",
         "x": [
          -0.013295492080928117,
          -0.015817037406633448,
          null,
          -0.015817037406633448,
          0.013672122747041812,
          null,
          -0.015817037406633448,
          -0.0037688078929064336,
          null
         ],
         "y": [
          -0.06004258166718476,
          -0.0639940251249157,
          null,
          -0.0639940251249157,
          -0.037013760493668536,
          null,
          -0.0639940251249157,
          -0.02588385047659123,
          null
         ]
        },
        {
         "hoverinfo": "text",
         "line": {
          "color": "white",
          "width": 2
         },
         "mode": "lines",
         "opacity": 0.5,
         "text": [
          "Spain to Germany",
          "Spain to Germany",
          "Spain to Germany",
          "Spain to Germany",
          "Spain to Germany",
          "Spain to Germany",
          "Spain to Germany",
          "Spain to Germany",
          "Spain to Germany"
         ],
         "type": "scatter",
         "x": [
          0.008833527478896097,
          0.0484368575993252,
          null,
          0.0484368575993252,
          0.010112218482912647,
          null,
          0.0484368575993252,
          0.020977595942731006,
          null
         ],
         "y": [
          -0.08251925773923122,
          -0.05810729657183026,
          null,
          -0.05810729657183026,
          -0.06956899539001003,
          null,
          -0.05810729657183026,
          -0.0871957384771063,
          null
         ]
        },
        {
         "hoverinfo": "text",
         "line": {
          "color": "white",
          "width": 2
         },
         "mode": "lines",
         "opacity": 0.5,
         "text": [
          "Spain to Morocco",
          "Spain to Morocco",
          "Spain to Morocco",
          "Spain to Morocco",
          "Spain to Morocco",
          "Spain to Morocco",
          "Spain to Morocco",
          "Spain to Morocco",
          "Spain to Morocco"
         ],
         "type": "scatter",
         "x": [
          -0.02681980308709123,
          0.17513726239022007,
          null,
          0.17513726239022007,
          0.17146336779252314,
          null,
          0.17513726239022007,
          0.1520399118122982,
          null
         ],
         "y": [
          -0.1858297177828787,
          -0.7326751801827933,
          null,
          -0.7326751801827933,
          -0.6928438511318135,
          null,
          -0.7326751801827933,
          -0.7000171846569961,
          null
         ]
        },
        {
         "hoverinfo": "text",
         "line": {
          "color": "white",
          "width": 2
         },
         "mode": "lines",
         "opacity": 0.5,
         "text": [
          "Spain to United Kingdom",
          "Spain to United Kingdom",
          "Spain to United Kingdom",
          "Spain to United Kingdom",
          "Spain to United Kingdom",
          "Spain to United Kingdom",
          "Spain to United Kingdom",
          "Spain to United Kingdom",
          "Spain to United Kingdom"
         ],
         "type": "scatter",
         "x": [
          -0.08588517189387773,
          -0.13695221993306347,
          null,
          -0.13695221993306347,
          -0.12705047329705882,
          null,
          -0.13695221993306347,
          -0.1090003521803205,
          null
         ],
         "y": [
          -0.058008339308322755,
          0.03287004353146356,
          null,
          0.03287004353146356,
          -0.005883363716788131,
          null,
          0.03287004353146356,
          0.00425948168927592,
          null
         ]
        },
        {
         "hoverinfo": "text",
         "line": {
          "color": "white",
          "width": 2
         },
         "mode": "lines",
         "opacity": 0.5,
         "text": [
          "Spain to Netherlands",
          "Spain to Netherlands",
          "Spain to Netherlands",
          "Spain to Netherlands",
          "Spain to Netherlands",
          "Spain to Netherlands",
          "Spain to Netherlands",
          "Spain to Netherlands",
          "Spain to Netherlands"
         ],
         "type": "scatter",
         "x": [
          -0.043628366745881,
          -0.04259095844721164,
          null,
          -0.04259095844721164,
          -0.05710040285699026,
          null,
          -0.04259095844721164,
          -0.036477464439641526,
          null
         ],
         "y": [
          -0.04936993234178788,
          -0.0398600886424132,
          null,
          -0.0398600886424132,
          -0.07721817156488622,
          null,
          -0.0398600886424132,
          -0.07946785969484975,
          null
         ]
        },
        {
         "hoverinfo": "text",
         "line": {
          "color": "white",
          "width": 2
         },
         "mode": "lines",
         "opacity": 0.5,
         "text": [
          "Spain to Turkey",
          "Spain to Turkey",
          "Spain to Turkey",
          "Spain to Turkey",
          "Spain to Turkey",
          "Spain to Turkey",
          "Spain to Turkey",
          "Spain to Turkey",
          "Spain to Turkey"
         ],
         "type": "scatter",
         "x": [
          -0.052825715119886964,
          -0.051096464989404365,
          null,
          -0.051096464989404365,
          -0.0415767896367516,
          null,
          -0.051096464989404365,
          -0.0623013886877057,
          null
         ],
         "y": [
          -0.048970180227557586,
          -0.12833501923219404,
          null,
          -0.12833501923219404,
          -0.08943661045323562,
          null,
          -0.12833501923219404,
          -0.08988817138649802,
          null
         ]
        },
        {
         "hoverinfo": "text",
         "line": {
          "color": "white",
          "width": 2
         },
         "mode": "lines",
         "opacity": 0.5,
         "text": [
          "Spain to Ireland",
          "Spain to Ireland",
          "Spain to Ireland",
          "Spain to Ireland",
          "Spain to Ireland",
          "Spain to Ireland",
          "Spain to Ireland",
          "Spain to Ireland",
          "Spain to Ireland"
         ],
         "type": "scatter",
         "x": [
          -0.07837317550181401,
          -0.1420305695175692,
          null,
          -0.1420305695175692,
          -0.13677389671874363,
          null,
          -0.1420305695175692,
          -0.1176522603217144,
          null
         ],
         "y": [
          -0.05435385771754754,
          0.09893708951673173,
          null,
          0.09893708951673173,
          0.05928529549135333,
          null,
          0.09893708951673173,
          0.0672259649845388,
          null
         ]
        },
        {
         "hoverinfo": "text",
         "line": {
          "color": "white",
          "width": 2
         },
         "mode": "lines",
         "opacity": 0.5,
         "text": [
          "Spain to Algeria",
          "Spain to Algeria",
          "Spain to Algeria",
          "Spain to Algeria",
          "Spain to Algeria",
          "Spain to Algeria",
          "Spain to Algeria",
          "Spain to Algeria",
          "Spain to Algeria"
         ],
         "type": "scatter",
         "x": [
          -0.10074718077724462,
          -0.7285020985612543,
          null,
          -0.7285020985612543,
          -0.7088341052756585,
          null,
          -0.7285020985612543,
          -0.6940538982101588,
          null
         ],
         "y": [
          -0.0691640708995771,
          0.5707046482528095,
          null,
          0.5707046482528095,
          0.535874211204194,
          null,
          0.5707046482528095,
          0.5503746015865917,
          null
         ]
        },
        {
         "hoverinfo": "text",
         "line": {
          "color": "white",
          "width": 2
         },
         "mode": "lines",
         "opacity": 0.5,
         "text": [
          "Spain to United States",
          "Spain to United States",
          "Spain to United States",
          "Spain to United States",
          "Spain to United States",
          "Spain to United States",
          "Spain to United States",
          "Spain to United States",
          "Spain to United States"
         ],
         "type": "scatter",
         "x": [
          -0.009360318101521548,
          0.04647427401965856,
          null,
          0.04647427401965856,
          0.015205047271479477,
          null,
          0.04647427401965856,
          0.031867759657908036,
          null
         ],
         "y": [
          -0.0627451371884598,
          0.012940405007085917,
          null,
          0.012940405007085917,
          -0.012006455710650954,
          null,
          0.012940405007085917,
          -0.024298823493235845,
          null
         ]
        },
        {
         "hoverinfo": "text",
         "line": {
          "color": "white",
          "width": 2
         },
         "mode": "lines",
         "opacity": 0.5,
         "text": [
          "Spain to Belgium",
          "Spain to Belgium",
          "Spain to Belgium",
          "Spain to Belgium",
          "Spain to Belgium",
          "Spain to Belgium",
          "Spain to Belgium",
          "Spain to Belgium",
          "Spain to Belgium"
         ],
         "type": "scatter",
         "x": [
          -0.02049168759077246,
          0.00952760072984584,
          null,
          0.00952760072984584,
          -0.016638223199689703,
          null,
          0.00952760072984584,
          0.0019964245572377855,
          null
         ],
         "y": [
          -0.056021176756103644,
          0.005933941066002965,
          null,
          0.005933941066002965,
          -0.024324243056638026,
          null,
          0.005933941066002965,
          -0.03335332702135886,
          null
         ]
        },
        {
         "hoverinfo": "text",
         "line": {
          "color": "white",
          "width": 2
         },
         "mode": "lines",
         "opacity": 0.5,
         "text": [
          "Spain to Czech Republic",
          "Spain to Czech Republic",
          "Spain to Czech Republic",
          "Spain to Czech Republic",
          "Spain to Czech Republic",
          "Spain to Czech Republic",
          "Spain to Czech Republic",
          "Spain to Czech Republic",
          "Spain to Czech Republic"
         ],
         "type": "scatter",
         "x": [
          0.018932473067621455,
          0.2617081010826938,
          null,
          0.2617081010826938,
          0.22439981126474157,
          null,
          0.2617081010826938,
          0.22218481651229602,
          null
         ],
         "y": [
          -0.12713354147846806,
          -0.15325438908783992,
          null,
          -0.15325438908783992,
          -0.13882767345524222,
          null,
          -0.15325438908783992,
          -0.15941463176581233,
          null
         ]
        },
        {
         "hoverinfo": "text",
         "line": {
          "color": "white",
          "width": 2
         },
         "mode": "lines",
         "opacity": 0.5,
         "text": [
          "Spain to Greece",
          "Spain to Greece",
          "Spain to Greece",
          "Spain to Greece",
          "Spain to Greece",
          "Spain to Greece",
          "Spain to Greece",
          "Spain to Greece",
          "Spain to Greece"
         ],
         "type": "scatter",
         "x": [
          0.011576805814407051,
          0.10820364751647434,
          null,
          0.10820364751647434,
          0.07852993054339476,
          null,
          0.10820364751647434,
          0.06909330335065837,
          null
         ],
         "y": [
          -0.15176537509167373,
          -0.20123916655809265,
          null,
          -0.20123916655809265,
          -0.1744148636732535,
          null,
          -0.20123916655809265,
          -0.19284549730755354,
          null
         ]
        },
        {
         "hoverinfo": "text",
         "line": {
          "color": "white",
          "width": 2
         },
         "mode": "lines",
         "opacity": 0.5,
         "text": [
          "Spain to Japan",
          "Spain to Japan",
          "Spain to Japan",
          "Spain to Japan",
          "Spain to Japan",
          "Spain to Japan",
          "Spain to Japan",
          "Spain to Japan",
          "Spain to Japan"
         ],
         "type": "scatter",
         "x": [
          0.013174126107297707,
          0.048747318009134885,
          null,
          0.048747318009134885,
          0.009250460444738678,
          null,
          0.048747318009134885,
          0.017710555681215153,
          null
         ],
         "y": [
          -0.09072325871669004,
          -0.07479945798224438,
          null,
          -0.07479945798224438,
          -0.08113649736725029,
          null,
          -0.07479945798224438,
          -0.10003592385664012,
          null
         ]
        },
        {
         "hoverinfo": "text",
         "line": {
          "color": "white",
          "width": 2
         },
         "mode": "lines",
         "opacity": 0.5,
         "text": [
          "Spain to Italy",
          "Spain to Italy",
          "Spain to Italy",
          "Spain to Italy",
          "Spain to Italy",
          "Spain to Italy",
          "Spain to Italy",
          "Spain to Italy",
          "Spain to Italy"
         ],
         "type": "scatter",
         "x": [
          -0.00271919014493667,
          -0.007130231016673379,
          null,
          -0.007130231016673379,
          0.0269417123580181,
          null,
          -0.007130231016673379,
          0.01191604308007923,
          null
         ],
         "y": [
          -0.06830432211354079,
          -0.07296112964273055,
          null,
          -0.07296112964273055,
          -0.05203934079866032,
          null,
          -0.07296112964273055,
          -0.03780635732380613,
          null
         ]
        },
        {
         "hoverinfo": "text",
         "line": {
          "color": "white",
          "width": 2
         },
         "mode": "lines",
         "opacity": 0.5,
         "text": [
          "Spain to Lebanon",
          "Spain to Lebanon",
          "Spain to Lebanon",
          "Spain to Lebanon",
          "Spain to Lebanon",
          "Spain to Lebanon",
          "Spain to Lebanon",
          "Spain to Lebanon",
          "Spain to Lebanon"
         ],
         "type": "scatter",
         "x": [
          -0.12085548953858527,
          -0.9304317696039858,
          null,
          -0.9304317696039858,
          -0.8941572164225375,
          null,
          -0.9304317696039858,
          -0.8905887603677793,
          null
         ],
         "y": [
          -0.10740665345996848,
          0.03423810133543659,
          null,
          0.03423810133543659,
          0.017381451995151325,
          null,
          0.03423810133543659,
          0.03777709137478744,
          null
         ]
        },
        {
         "hoverinfo": "text",
         "line": {
          "color": "white",
          "width": 2
         },
         "mode": "lines",
         "opacity": 0.5,
         "text": [
          "Spain to Luxembourg",
          "Spain to Luxembourg",
          "Spain to Luxembourg",
          "Spain to Luxembourg",
          "Spain to Luxembourg",
          "Spain to Luxembourg",
          "Spain to Luxembourg",
          "Spain to Luxembourg",
          "Spain to Luxembourg"
         ],
         "type": "scatter",
         "x": [
          -0.02589427760027446,
          0.040372399762214295,
          null,
          0.040372399762214295,
          0.016819450697757317,
          null,
          0.040372399762214295,
          0.03614090956271207,
          null
         ],
         "y": [
          -0.053676319305800316,
          0.11830479903343542,
          null,
          0.11830479903343542,
          0.08597287498471853,
          null,
          0.11830479903343542,
          0.07852805692178907,
          null
         ]
        },
        {
         "hoverinfo": "text",
         "line": {
          "color": "white",
          "width": 2
         },
         "mode": "lines",
         "opacity": 0.5,
         "text": [
          "Spain to Serbia",
          "Spain to Serbia",
          "Spain to Serbia",
          "Spain to Serbia",
          "Spain to Serbia",
          "Spain to Serbia",
          "Spain to Serbia",
          "Spain to Serbia",
          "Spain to Serbia"
         ],
         "type": "scatter",
         "x": [
          0.004318135874958592,
          0.615797712363742,
          null,
          0.615797712363742,
          0.5789946221427132,
          null,
          0.615797712363742,
          0.5917601967682502,
          null
         ],
         "y": [
          -0.07603613580364728,
          0.4027882407358449,
          null,
          0.4027882407358449,
          0.38711844978846544,
          null,
          0.4027882407358449,
          0.37081625859290845,
          null
         ]
        },
        {
         "hoverinfo": "text",
         "line": {
          "color": "white",
          "width": 2
         },
         "mode": "lines",
         "opacity": 0.5,
         "text": [
          "Spain to Switzerland",
          "Spain to Switzerland",
          "Spain to Switzerland",
          "Spain to Switzerland",
          "Spain to Switzerland",
          "Spain to Switzerland",
          "Spain to Switzerland",
          "Spain to Switzerland",
          "Spain to Switzerland"
         ],
         "type": "scatter",
         "x": [
          0.005424543741587982,
          0.25571372721634494,
          null,
          0.25571372721634494,
          0.21851791257546724,
          null,
          0.25571372721634494,
          0.2308580951125607,
          null
         ],
         "y": [
          -0.07748730589085374,
          0.1082756305195753,
          null,
          0.1082756305195753,
          0.09356185394022928,
          null,
          0.1082756305195753,
          0.07693521889581428,
          null
         ]
        },
        {
         "hoverinfo": "text",
         "line": {
          "color": "white",
          "width": 2
         },
         "mode": "lines",
         "opacity": 0.5,
         "text": [
          "Spain to Hungary",
          "Spain to Hungary",
          "Spain to Hungary",
          "Spain to Hungary",
          "Spain to Hungary",
          "Spain to Hungary",
          "Spain to Hungary",
          "Spain to Hungary",
          "Spain to Hungary"
         ],
         "type": "scatter",
         "x": [
          0.01695528800651437,
          0.40530855214243056,
          null,
          0.40530855214243056,
          0.3653084195260904,
          null,
          0.40530855214243056,
          0.3706410624619914,
          null
         ],
         "y": [
          -0.10138926614231332,
          0.002121201554680187,
          null,
          0.002121201554680187,
          0.0021739189145642567,
          null,
          0.002121201554680187,
          -0.01783321018060986,
          null
         ]
        },
        {
         "hoverinfo": "text",
         "line": {
          "color": "white",
          "width": 2
         },
         "mode": "lines",
         "opacity": 0.5,
         "text": [
          "Spain to Republic of Moldova",
          "Spain to Republic of Moldova",
          "Spain to Republic of Moldova",
          "Spain to Republic of Moldova",
          "Spain to Republic of Moldova",
          "Spain to Republic of Moldova",
          "Spain to Republic of Moldova",
          "Spain to Republic of Moldova",
          "Spain to Republic of Moldova"
         ],
         "type": "scatter",
         "x": [
          -0.09652200145576839,
          -0.5185454257237626,
          null,
          -0.5185454257237626,
          -0.4858483065277305,
          null,
          -0.5185454257237626,
          -0.501749348451021,
          null
         ],
         "y": [
          -0.1738159430657561,
          -0.6798319669692896,
          null,
          -0.6798319669692896,
          -0.6567910498061094,
          null,
          -0.6798319669692896,
          -0.6435293877814665,
          null
         ]
        },
        {
         "hoverinfo": "text",
         "line": {
          "color": "white",
          "width": 2
         },
         "mode": "lines",
         "opacity": 0.5,
         "text": [
          "Spain to Tunisia",
          "Spain to Tunisia",
          "Spain to Tunisia",
          "Spain to Tunisia",
          "Spain to Tunisia",
          "Spain to Tunisia",
          "Spain to Tunisia",
          "Spain to Tunisia",
          "Spain to Tunisia"
         ],
         "type": "scatter",
         "x": [
          -0.12032907374746446,
          -0.524385518946543,
          null,
          -0.524385518946543,
          -0.48879459326655295,
          null,
          -0.524385518946543,
          -0.4844350791680321,
          null
         ],
         "y": [
          -0.10470836931152017,
          -0.01768370775637194,
          null,
          -0.01768370775637194,
          -0.03593929574724314,
          null,
          -0.01768370775637194,
          -0.015698047877493508,
          null
         ]
        },
        {
         "hoverinfo": "text",
         "line": {
          "color": "white",
          "width": 2
         },
         "mode": "lines",
         "opacity": 0.5,
         "text": [
          "Spain to Austria",
          "Spain to Austria",
          "Spain to Austria",
          "Spain to Austria",
          "Spain to Austria",
          "Spain to Austria",
          "Spain to Austria",
          "Spain to Austria",
          "Spain to Austria"
         ],
         "type": "scatter",
         "x": [
          0.008974593968239096,
          0.2062635023738829,
          null,
          0.2062635023738829,
          0.16789678468081326,
          null,
          0.2062635023738829,
          0.178694351529635,
          null
         ],
         "y": [
          -0.08274908994997959,
          0.03782500963824623,
          null,
          0.03782500963824623,
          0.02651020696269367,
          null,
          0.03782500963824623,
          0.00884274423587476,
          null
         ]
        },
        {
         "hoverinfo": "text",
         "line": {
          "color": "white",
          "width": 2
         },
         "mode": "lines",
         "opacity": 0.5,
         "text": [
          "Spain to Montenegro",
          "Spain to Montenegro",
          "Spain to Montenegro",
          "Spain to Montenegro",
          "Spain to Montenegro",
          "Spain to Montenegro",
          "Spain to Montenegro",
          "Spain to Montenegro",
          "Spain to Montenegro"
         ],
         "type": "scatter",
         "x": [
          -0.03242883889332187,
          0.20050728821449243,
          null,
          0.20050728821449243,
          0.18021332639449802,
          null,
          0.20050728821449243,
          0.20016721122604464,
          null
         ],
         "y": [
          -0.051517782584236116,
          0.789156117895395,
          null,
          0.789156117895395,
          0.7546860989131973,
          null,
          0.789156117895395,
          0.7491572248778827,
          null
         ]
        },
        {
         "hoverinfo": "text",
         "line": {
          "color": "white",
          "width": 2
         },
         "mode": "lines",
         "opacity": 0.5,
         "text": [
          "Spain to The former Yugoslav Republic of Macedonia",
          "Spain to The former Yugoslav Republic of Macedonia",
          "Spain to The former Yugoslav Republic of Macedonia",
          "Spain to The former Yugoslav Republic of Macedonia",
          "Spain to The former Yugoslav Republic of Macedonia",
          "Spain to The former Yugoslav Republic of Macedonia",
          "Spain to The former Yugoslav Republic of Macedonia",
          "Spain to The former Yugoslav Republic of Macedonia",
          "Spain to The former Yugoslav Republic of Macedonia"
         ],
         "type": "scatter",
         "x": [
          -0.039587606253869756,
          0.003416632371297105,
          null,
          0.003416632371297105,
          0.007225962886258668,
          null,
          0.003416632371297105,
          -0.013194432584423406,
          null
         ],
         "y": [
          -0.18922760519459508,
          -0.44523606383566683,
          null,
          -0.44523606383566683,
          -0.40541597992948986,
          null,
          -0.44523606383566683,
          -0.4088461943346089,
          null
         ]
        },
        {
         "hoverinfo": "text",
         "line": {
          "color": "white",
          "width": 2
         },
         "mode": "lines",
         "opacity": 0.5,
         "text": [
          "Spain to Denmark",
          "Spain to Denmark",
          "Spain to Denmark",
          "Spain to Denmark",
          "Spain to Denmark",
          "Spain to Denmark",
          "Spain to Denmark",
          "Spain to Denmark",
          "Spain to Denmark"
         ],
         "type": "scatter",
         "x": [
          -0.11551823530244557,
          -0.2329851419600858,
          null,
          -0.2329851419600858,
          -0.19354222739107482,
          null,
          -0.2329851419600858,
          -0.20215102953132572,
          null
         ],
         "y": [
          -0.14894289568691052,
          -0.20264523868615048,
          null,
          -0.20264523868615048,
          -0.19599633151154497,
          null,
          -0.20264523868615048,
          -0.177165658881032,
          null
         ]
        },
        {
         "hoverinfo": "text",
         "line": {
          "color": "white",
          "width": 2
         },
         "mode": "lines",
         "opacity": 0.5,
         "text": [
          "Spain to Albania",
          "Spain to Albania",
          "Spain to Albania",
          "Spain to Albania",
          "Spain to Albania",
          "Spain to Albania",
          "Spain to Albania",
          "Spain to Albania",
          "Spain to Albania"
         ],
         "type": "scatter",
         "x": [
          -0.07168205442435013,
          -0.09599074426497571,
          null,
          -0.09599074426497571,
          -0.07492329696769537,
          null,
          -0.09599074426497571,
          -0.0947450892645713,
          null
         ],
         "y": [
          -0.18719456595697676,
          -0.2677866902601711,
          null,
          -0.2677866902601711,
          -0.23378811115631076,
          null,
          -0.2677866902601711,
          -0.2278093334150131,
          null
         ]
        },
        {
         "hoverinfo": "text",
         "line": {
          "color": "white",
          "width": 2
         },
         "mode": "lines",
         "opacity": 0.5,
         "text": [
          "Spain to Bosnia and Herzegovina",
          "Spain to Bosnia and Herzegovina",
          "Spain to Bosnia and Herzegovina",
          "Spain to Bosnia and Herzegovina",
          "Spain to Bosnia and Herzegovina",
          "Spain to Bosnia and Herzegovina",
          "Spain to Bosnia and Herzegovina",
          "Spain to Bosnia and Herzegovina",
          "Spain to Bosnia and Herzegovina"
         ],
         "type": "scatter",
         "x": [
          -0.02254074886983077,
          0.26096738793750046,
          null,
          0.26096738793750046,
          0.2357844107845784,
          null,
          0.26096738793750046,
          0.25469727107000817,
          null
         ],
         "y": [
          -0.05506850960111655,
          0.581150803285777,
          null,
          0.581150803285777,
          0.5500728411060543,
          null,
          0.581150803285777,
          0.541645009963824,
          null
         ]
        },
        {
         "hoverinfo": "text",
         "line": {
          "color": "white",
          "width": 2
         },
         "mode": "lines",
         "opacity": 0.5,
         "text": [
          "Spain to Georgia",
          "Spain to Georgia",
          "Spain to Georgia",
          "Spain to Georgia",
          "Spain to Georgia",
          "Spain to Georgia",
          "Spain to Georgia",
          "Spain to Georgia",
          "Spain to Georgia"
         ],
         "type": "scatter",
         "x": [
          -0.07189567809231512,
          -0.2504920664828949,
          null,
          -0.2504920664828949,
          -0.22931578711523068,
          null,
          -0.2504920664828949,
          -0.24911997040591222,
          null
         ],
         "y": [
          -0.1871297629682872,
          -0.772542238942105,
          null,
          -0.772542238942105,
          -0.7386080393160034,
          null,
          -0.772542238942105,
          -0.7325662203249765,
          null
         ]
        },
        {
         "hoverinfo": "text",
         "line": {
          "color": "white",
          "width": 2
         },
         "mode": "lines",
         "opacity": 0.5,
         "text": [
          "Spain to Slovakia",
          "Spain to Slovakia",
          "Spain to Slovakia",
          "Spain to Slovakia",
          "Spain to Slovakia",
          "Spain to Slovakia",
          "Spain to Slovakia",
          "Spain to Slovakia",
          "Spain to Slovakia"
         ],
         "type": "scatter",
         "x": [
          0.01837145159768243,
          0.47831821503094213,
          null,
          0.47831821503094213,
          0.4419162948729927,
          null,
          0.47831821503094213,
          0.43850289742590925,
          null
         ],
         "y": [
          -0.13122121541010448,
          -0.20809695974352474,
          null,
          -0.20809695974352474,
          -0.19151629974009307,
          null,
          -0.20809695974352474,
          -0.21193864704801504,
          null
         ]
        },
        {
         "hoverinfo": "text",
         "line": {
          "color": "white",
          "width": 2
         },
         "mode": "lines",
         "opacity": 0.5,
         "text": [
          "Spain to Uruguay",
          "Spain to Uruguay",
          "Spain to Uruguay",
          "Spain to Uruguay",
          "Spain to Uruguay",
          "Spain to Uruguay",
          "Spain to Uruguay",
          "Spain to Uruguay",
          "Spain to Uruguay"
         ],
         "type": "scatter",
         "x": [
          -0.04464163826841227,
          0.010539048480490663,
          null,
          0.010539048480490663,
          0.017210477485371887,
          null,
          0.010539048480490663,
          -0.0034039265095747624,
          null
         ],
         "y": [
          -0.1898900591614593,
          -0.7737097668177748,
          null,
          -0.7737097668177748,
          -0.734268562842101,
          null,
          -0.7737097668177748,
          -0.7362169677165569,
          null
         ]
        },
        {
         "hoverinfo": "text",
         "line": {
          "color": "white",
          "width": 2
         },
         "mode": "lines",
         "opacity": 0.5,
         "text": [
          "Spain to Bulgaria",
          "Spain to Bulgaria",
          "Spain to Bulgaria",
          "Spain to Bulgaria",
          "Spain to Bulgaria",
          "Spain to Bulgaria",
          "Spain to Bulgaria",
          "Spain to Bulgaria",
          "Spain to Bulgaria"
         ],
         "type": "scatter",
         "x": [
          -0.11581649085932216,
          -0.16407575721414136,
          null,
          -0.16407575721414136,
          -0.12456747109095781,
          null,
          -0.16407575721414136,
          -0.13298218086726926,
          null
         ],
         "y": [
          -0.14828153799230367,
          -0.16974764401277107,
          null,
          -0.16974764401277107,
          -0.16350443782119292,
          null,
          -0.16974764401277107,
          -0.1445867257882083,
          null
         ]
        },
        {
         "hoverinfo": "text",
         "line": {
          "color": "white",
          "width": 2
         },
         "mode": "lines",
         "opacity": 0.5,
         "text": [
          "Spain to Cyprus",
          "Spain to Cyprus",
          "Spain to Cyprus",
          "Spain to Cyprus",
          "Spain to Cyprus",
          "Spain to Cyprus",
          "Spain to Cyprus",
          "Spain to Cyprus",
          "Spain to Cyprus"
         ],
         "type": "scatter",
         "x": [
          0.015402501582560263,
          0.6141286738488532,
          null,
          0.6141286738488532,
          0.5810519221094262,
          null,
          0.6141286738488532,
          0.5742368035693177,
          null
         ],
         "y": [
          -0.14282420506295285,
          -0.35151979314054116,
          null,
          -0.35151979314054116,
          -0.32902666714349993,
          null,
          -0.35151979314054116,
          -0.34857855048629277,
          null
         ]
        },
        {
         "hoverinfo": "text",
         "line": {
          "color": "white",
          "width": 2
         },
         "mode": "lines",
         "opacity": 0.5,
         "text": [
          "Belgium to Luxembourg",
          "Belgium to Luxembourg",
          "Belgium to Luxembourg",
          "Belgium to Luxembourg",
          "Belgium to Luxembourg",
          "Belgium to Luxembourg",
          "Belgium to Luxembourg",
          "Belgium to Luxembourg",
          "Belgium to Luxembourg"
         ],
         "type": "scatter",
         "x": [
          0.05561514777087619,
          0.050473405815279156,
          null,
          0.050473405815279156,
          0.06893932916536388,
          null,
          0.050473405815279156,
          0.048732771965675076,
          null
         ],
         "y": [
          0.1384407771955922,
          0.11525731044553214,
          null,
          0.11525731044553214,
          0.1507224955957595,
          null,
          0.11525731044553214,
          0.15520402341059003,
          null
         ]
        },
        {
         "hoverinfo": "text",
         "line": {
          "color": "white",
          "width": 2
         },
         "mode": "lines",
         "opacity": 0.5,
         "text": [
          "Belgium to Netherlands",
          "Belgium to Netherlands",
          "Belgium to Netherlands",
          "Belgium to Netherlands",
          "Belgium to Netherlands",
          "Belgium to Netherlands",
          "Belgium to Netherlands",
          "Belgium to Netherlands",
          "Belgium to Netherlands"
         ],
         "type": "scatter",
         "x": [
          -0.022333085117801285,
          0.027724191348924163,
          null,
          0.027724191348924163,
          -0.011331995913542094,
          null,
          0.027724191348924163,
          -0.001777138869411242,
          null
         ],
         "y": [
          0.03690155534216264,
          0.0629380315871255,
          null,
          0.0629380315871255,
          0.05429339133528034,
          null,
          0.0629380315871255,
          0.03592345989121696,
          null
         ]
        },
        {
         "hoverinfo": "text",
         "line": {
          "color": "white",
          "width": 2
         },
         "mode": "lines",
         "opacity": 0.5,
         "text": [
          "Belgium to France",
          "Belgium to France",
          "Belgium to France",
          "Belgium to France",
          "Belgium to France",
          "Belgium to France",
          "Belgium to France",
          "Belgium to France",
          "Belgium to France"
         ],
         "type": "scatter",
         "x": [
          0.023490100219744934,
          0.03900780171690901,
          null,
          0.03900780171690901,
          0.019742039744758567,
          null,
          0.03900780171690901,
          0.03985340666330886,
          null
         ],
         "y": [
          0.0009015490667375614,
          0.0641314520546512,
          null,
          0.0641314520546512,
          0.029070963579558566,
          null,
          0.0641314520546512,
          0.024135297380054217,
          null
         ]
        },
        {
         "hoverinfo": "text",
         "line": {
          "color": "white",
          "width": 2
         },
         "mode": "lines",
         "opacity": 0.5,
         "text": [
          "Belgium to Spain",
          "Belgium to Spain",
          "Belgium to Spain",
          "Belgium to Spain",
          "Belgium to Spain",
          "Belgium to Spain",
          "Belgium to Spain",
          "Belgium to Spain",
          "Belgium to Spain"
         ],
         "type": "scatter",
         "x": [
          0.00952760072984584,
          -0.02049168759077246,
          null,
          -0.02049168759077246,
          0.005670772816473525,
          null,
          -0.02049168759077246,
          -0.012961440793938612,
          null
         ],
         "y": [
          0.005933941066002965,
          -0.056021176756103644,
          null,
          -0.056021176756103644,
          -0.02576695967341216,
          null,
          -0.056021176756103644,
          -0.016739025987260688,
          null
         ]
        },
        {
         "hoverinfo": "text",
         "line": {
          "color": "white",
          "width": 2
         },
         "mode": "lines",
         "opacity": 0.5,
         "text": [
          "Belgium to Romania",
          "Belgium to Romania",
          "Belgium to Romania",
          "Belgium to Romania",
          "Belgium to Romania",
          "Belgium to Romania",
          "Belgium to Romania",
          "Belgium to Romania",
          "Belgium to Romania"
         ],
         "type": "scatter",
         "x": [
          0.052701911548439735,
          0.08871302252182967,
          null,
          0.08871302252182967,
          0.09213363386159752,
          null,
          0.08871302252182967,
          0.0717474968389093,
          null
         ],
         "y": [
          -0.000040514853870354806,
          -0.20231586339085797,
          null,
          -0.20231586339085797,
          -0.16246013939159304,
          null,
          -0.20231586339085797,
          -0.1660894882513895,
          null
         ]
        },
        {
         "hoverinfo": "text",
         "line": {
          "color": "white",
          "width": 2
         },
         "mode": "lines",
         "opacity": 0.5,
         "text": [
          "Belgium to Slovenia",
          "Belgium to Slovenia",
          "Belgium to Slovenia",
          "Belgium to Slovenia",
          "Belgium to Slovenia",
          "Belgium to Slovenia",
          "Belgium to Slovenia",
          "Belgium to Slovenia",
          "Belgium to Slovenia"
         ],
         "type": "scatter",
         "x": [
          0.02814256358626445,
          0.023403278364732442,
          null,
          0.023403278364732442,
          0.01987081436542347,
          null,
          0.023403278364732442,
          0.040257388083668466,
          null
         ],
         "y": [
          0.13905786920647775,
          0.16612518261809395,
          null,
          0.16612518261809395,
          0.1262985560575108,
          null,
          0.16612518261809395,
          0.1298680802699384,
          null
         ]
        },
        {
         "hoverinfo": "text",
         "line": {
          "color": "white",
          "width": 2
         },
         "mode": "lines",
         "opacity": 0.5,
         "text": [
          "Belgium to Hungary",
          "Belgium to Hungary",
          "Belgium to Hungary",
          "Belgium to Hungary",
          "Belgium to Hungary",
          "Belgium to Hungary",
          "Belgium to Hungary",
          "Belgium to Hungary",
          "Belgium to Hungary"
         ],
         "type": "scatter",
         "x": [
          0.11049744460709056,
          0.4033768269660699,
          null,
          0.4033768269660699,
          0.36615376778232467,
          null,
          0.4033768269660699,
          0.3638182237666142,
          null
         ],
         "y": [
          0.061524874004192556,
          0.02827666932166354,
          null,
          0.02827666932166354,
          0.0429216460011849,
          null,
          0.02827666932166354,
          0.02234806157208709,
          null
         ]
        },
        {
         "hoverinfo": "text",
         "line": {
          "color": "white",
          "width": 2
         },
         "mode": "lines",
         "opacity": 0.5,
         "text": [
          "Belgium to Germany",
          "Belgium to Germany",
          "Belgium to Germany",
          "Belgium to Germany",
          "Belgium to Germany",
          "Belgium to Germany",
          "Belgium to Germany",
          "Belgium to Germany",
          "Belgium to Germany"
         ],
         "type": "scatter",
         "x": [
          0.08282961697794933,
          0.06605119952448749,
          null,
          0.06605119952448749,
          0.08103567238676562,
          null,
          0.06605119952448749,
          0.09756910060597726,
          null
         ],
         "y": [
          0.013090008958376143,
          0.03535304464405162,
          null,
          0.03535304464405162,
          -0.0017288891968251716,
          null,
          0.03535304464405162,
          0.010731384347537523,
          null
         ]
        },
        {
         "hoverinfo": "text",
         "line": {
          "color": "white",
          "width": 2
         },
         "mode": "lines",
         "opacity": 0.5,
         "text": [
          "Belgium to United Kingdom",
          "Belgium to United Kingdom",
          "Belgium to United Kingdom",
          "Belgium to United Kingdom",
          "Belgium to United Kingdom",
          "Belgium to United Kingdom",
          "Belgium to United Kingdom",
          "Belgium to United Kingdom",
          "Belgium to United Kingdom"
         ],
         "type": "scatter",
         "x": [
          -0.02981721793361125,
          -0.10140974246911444,
          null,
          -0.10140974246911444,
          -0.06425004029057163,
          null,
          -0.10140974246911444,
          -0.06182867904244368,
          null
         ],
         "y": [
          0.07775050118327642,
          0.08618081095335361,
          null,
          0.08618081095335361,
          0.07138117626737614,
          null,
          0.08618081095335361,
          0.0919438024378392,
          null
         ]
        },
        {
         "hoverinfo": "text",
         "line": {
          "color": "white",
          "width": 2
         },
         "mode": "lines",
         "opacity": 0.5,
         "text": [
          "Belgium to Poland",
          "Belgium to Poland",
          "Belgium to Poland",
          "Belgium to Poland",
          "Belgium to Poland",
          "Belgium to Poland",
          "Belgium to Poland",
          "Belgium to Poland",
          "Belgium to Poland"
         ],
         "type": "scatter",
         "x": [
          0.10106348955751394,
          0.20641745436551706,
          null,
          0.20641745436551706,
          0.1784697258504155,
          null,
          0.20641745436551706,
          0.16790500786011037,
          null
         ],
         "y": [
          0.03345641842510149,
          -0.029045817601677966,
          null,
          -0.029045817601677966,
          -0.0004278103351619614,
          null,
          -0.029045817601677966,
          -0.018235760560738216,
          null
         ]
        },
        {
         "hoverinfo": "text",
         "line": {
          "color": "white",
          "width": 2
         },
         "mode": "lines",
         "opacity": 0.5,
         "text": [
          "Belgium to Serbia",
          "Belgium to Serbia",
          "Belgium to Serbia",
          "Belgium to Serbia",
          "Belgium to Serbia",
          "Belgium to Serbia",
          "Belgium to Serbia",
          "Belgium to Serbia",
          "Belgium to Serbia"
         ],
         "type": "scatter",
         "x": [
          0.10096014313789672,
          0.6107661365250194,
          null,
          0.6107661365250194,
          0.5722854389262441,
          null,
          0.6107661365250194,
          0.5829008980860351,
          null
         ],
         "y": [
          0.10569958831861326,
          0.41012212452707364,
          null,
          0.41012212452707364,
          0.39920207805326974,
          null,
          0.41012212452707364,
          0.3814247380708651,
          null
         ]
        },
        {
         "hoverinfo": "text",
         "line": {
          "color": "white",
          "width": 2
         },
         "mode": "lines",
         "opacity": 0.5,
         "text": [
          "Portugal to United Kingdom",
          "Portugal to United Kingdom",
          "Portugal to United Kingdom",
          "Portugal to United Kingdom",
          "Portugal to United Kingdom",
          "Portugal to United Kingdom",
          "Portugal to United Kingdom",
          "Portugal to United Kingdom",
          "Portugal to United Kingdom"
         ],
         "type": "scatter",
         "x": [
          -0.25693975769318655,
          -0.23401931104936902,
          null,
          -0.23401931104936902,
          -0.2730271646340786,
          null,
          -0.23401931104936902,
          -0.2633671393983963,
          null
         ],
         "y": [
          0.04940486316906853,
          0.061493314655670386,
          null,
          0.061493314655670386,
          0.052625387050800096,
          null,
          0.061493314655670386,
          0.03430953727857662,
          null
         ]
        },
        {
         "hoverinfo": "text",
         "line": {
          "color": "white",
          "width": 2
         },
         "mode": "lines",
         "opacity": 0.5,
         "text": [
          "Portugal to Netherlands",
          "Portugal to Netherlands",
          "Portugal to Netherlands",
          "Portugal to Netherlands",
          "Portugal to Netherlands",
          "Portugal to Netherlands",
          "Portugal to Netherlands",
          "Portugal to Netherlands",
          "Portugal to Netherlands"
         ],
         "type": "scatter",
         "x": [
          -0.24886797588364795,
          -0.10547302622505907,
          null,
          -0.10547302622505907,
          -0.14456897609840125,
          null,
          -0.10547302622505907,
          -0.14355916215421652,
          null
         ],
         "y": [
          0.019902404083516078,
          0.026904048533880953,
          null,
          0.026904048533880953,
          0.03536014884140115,
          null,
          0.026904048533880953,
          0.014679271280471756,
          null
         ]
        },
        {
         "hoverinfo": "text",
         "line": {
          "color": "white",
          "width": 2
         },
         "mode": "lines",
         "opacity": 0.5,
         "text": [
          "Portugal to France",
          "Portugal to France",
          "Portugal to France",
          "Portugal to France",
          "Portugal to France",
          "Portugal to France",
          "Portugal to France",
          "Portugal to France",
          "Portugal to France"
         ],
         "type": "scatter",
         "x": [
          -0.24891596896346768,
          -0.04831823743970825,
          null,
          -0.04831823743970825,
          -0.08625098529292594,
          null,
          -0.04831823743970825,
          -0.08751649169211212,
          null
         ],
         "y": [
          0.0121415468266747,
          -0.00014168001717705311,
          null,
          -0.00014168001717705311,
          0.012553381935158401,
          null,
          -0.00014168001717705311,
          -0.008113807790446122,
          null
         ]
        },
        {
         "hoverinfo": "text",
         "line": {
          "color": "white",
          "width": 2
         },
         "mode": "lines",
         "opacity": 0.5,
         "text": [
          "Austria to Switzerland",
          "Austria to Switzerland",
          "Austria to Switzerland",
          "Austria to Switzerland",
          "Austria to Switzerland",
          "Austria to Switzerland",
          "Austria to Switzerland",
          "Austria to Switzerland",
          "Austria to Switzerland"
         ],
         "type": "scatter",
         "x": [
          0.30313850459597785,
          0.27581238098921923,
          null,
          0.27581238098921923,
          0.30469336560277255,
          null,
          0.27581238098921923,
          0.286988751551678,
          null
         ],
         "y": [
          0.13504778432249853,
          0.08997330359807956,
          null,
          0.08997330359807956,
          0.11764389519645138,
          null,
          0.08997330359807956,
          0.12837723116679048,
          null
         ]
        },
        {
         "hoverinfo": "text",
         "line": {
          "color": "white",
          "width": 2
         },
         "mode": "lines",
         "opacity": 0.5,
         "text": [
          "Austria to Hungary",
          "Austria to Hungary",
          "Austria to Hungary",
          "Austria to Hungary",
          "Austria to Hungary",
          "Austria to Hungary",
          "Austria to Hungary",
          "Austria to Hungary",
          "Austria to Hungary"
         ],
         "type": "scatter",
         "x": [
          0.33483606457453546,
          0.40524039020167363,
          null,
          0.40524039020167363,
          0.37049677647310375,
          null,
          0.40524039020167363,
          0.36523955635444305,
          null
         ],
         "y": [
          0.05672287058991157,
          0.038241828114311836,
          null,
          0.038241828114311836,
          0.058065791592342375,
          null,
          0.038241828114311836,
          0.03803807722569627,
          null
         ]
        },
        {
         "hoverinfo": "text",
         "line": {
          "color": "white",
          "width": 2
         },
         "mode": "lines",
         "opacity": 0.5,
         "text": [
          "Austria to Germany",
          "Austria to Germany",
          "Austria to Germany",
          "Austria to Germany",
          "Austria to Germany",
          "Austria to Germany",
          "Austria to Germany",
          "Austria to Germany",
          "Austria to Germany"
         ],
         "type": "scatter",
         "x": [
          0.20612098691791608,
          0.16896201278756937,
          null,
          0.16896201278756937,
          0.20737013679538746,
          null,
          0.16896201278756937,
          0.19664190649443286,
          null
         ],
         "y": [
          0.03805922046212994,
          0.01554698851866513,
          null,
          0.01554698851866513,
          0.026712023309885008,
          null,
          0.01554698851866513,
          0.04442025428590768,
          null
         ]
        },
        {
         "hoverinfo": "text",
         "line": {
          "color": "white",
          "width": 2
         },
         "mode": "lines",
         "opacity": 0.5,
         "text": [
          "Austria to Slovakia",
          "Austria to Slovakia",
          "Austria to Slovakia",
          "Austria to Slovakia",
          "Austria to Slovakia",
          "Austria to Slovakia",
          "Austria to Slovakia",
          "Austria to Slovakia",
          "Austria to Slovakia"
         ],
         "type": "scatter",
         "x": [
          0.31533002398244053,
          0.49917225727344816,
          null,
          0.49917225727344816,
          0.47995546267650546,
          null,
          0.49917225727344816,
          0.46498899248870257,
          null
         ],
         "y": [
          0.023605394803327906,
          -0.16869080666510058,
          null,
          -0.16869080666510058,
          -0.1336087416961293,
          null,
          -0.16869080666510058,
          -0.14791724448322666,
          null
         ]
        },
        {
         "hoverinfo": "text",
         "line": {
          "color": "white",
          "width": 2
         },
         "mode": "lines",
         "opacity": 0.5,
         "text": [
          "Austria to Czech Republic",
          "Austria to Czech Republic",
          "Austria to Czech Republic",
          "Austria to Czech Republic",
          "Austria to Czech Republic",
          "Austria to Czech Republic",
          "Austria to Czech Republic",
          "Austria to Czech Republic",
          "Austria to Czech Republic"
         ],
         "type": "scatter",
         "x": [
          0.2854265906646056,
          0.31302659811297384,
          null,
          0.31302659811297384,
          0.3126613215323721,
          null,
          0.31302659811297384,
          0.2927096237067463,
          null
         ],
         "y": [
          0.00660558004891823,
          -0.09276074732336967,
          null,
          -0.09276074732336967,
          -0.05275947610733182,
          null,
          -0.09276074732336967,
          -0.058301268556910514,
          null
         ]
        },
        {
         "hoverinfo": "text",
         "line": {
          "color": "white",
          "width": 2
         },
         "mode": "lines",
         "opacity": 0.5,
         "text": [
          "Austria to Croatia",
          "Austria to Croatia",
          "Austria to Croatia",
          "Austria to Croatia",
          "Austria to Croatia",
          "Austria to Croatia",
          "Austria to Croatia",
          "Austria to Croatia",
          "Austria to Croatia"
         ],
         "type": "scatter",
         "x": [
          0.33060689047915937,
          0.6540228023288356,
          null,
          0.6540228023288356,
          0.6146132357309789,
          null,
          0.6540228023288356,
          0.623317430808102,
          null
         ],
         "y": [
          0.10434352298354495,
          0.25418315628219523,
          null,
          0.25418315628219523,
          0.24733452767190534,
          null,
          0.25418315628219523,
          0.22854728662567095,
          null
         ]
        },
        {
         "hoverinfo": "text",
         "line": {
          "color": "white",
          "width": 2
         },
         "mode": "lines",
         "opacity": 0.5,
         "text": [
          "Austria to Slovenia",
          "Austria to Slovenia",
          "Austria to Slovenia",
          "Austria to Slovenia",
          "Austria to Slovenia",
          "Austria to Slovenia",
          "Austria to Slovenia",
          "Austria to Slovenia",
          "Austria to Slovenia"
         ],
         "type": "scatter",
         "x": [
          0.2067909213170979,
          0.07095710383694763,
          null,
          0.07095710383694763,
          0.09811251115806834,
          null,
          0.07095710383694763,
          0.1091588325201203,
          null
         ],
         "y": [
          0.11233308881102805,
          0.19801311839191096,
          null,
          0.19801311839191096,
          0.16864420620597453,
          null,
          0.19801311839191096,
          0.18615659801793602,
          null
         ]
        },
        {
         "hoverinfo": "text",
         "line": {
          "color": "white",
          "width": 2
         },
         "mode": "lines",
         "opacity": 0.5,
         "text": [
          "Italy to Spain",
          "Italy to Spain",
          "Italy to Spain",
          "Italy to Spain",
          "Italy to Spain",
          "Italy to Spain",
          "Italy to Spain",
          "Italy to Spain",
          "Italy to Spain"
         ],
         "type": "scatter",
         "x": [
          -0.007130231016673379,
          -0.00271919014493667,
          null,
          -0.00271919014493667,
          -0.03682013087491697,
          null,
          -0.00271919014493667,
          -0.021781170350333962,
          null
         ],
         "y": [
          -0.07296112964273055,
          -0.06830432211354079,
          null,
          -0.06830432211354079,
          -0.089244923632967,
          null,
          -0.06830432211354079,
          -0.10348988536488105,
          null
         ]
        },
        {
         "hoverinfo": "text",
         "line": {
          "color": "white",
          "width": 2
         },
         "mode": "lines",
         "opacity": 0.5,
         "text": [
          "Italy to Germany",
          "Italy to Germany",
          "Italy to Germany",
          "Italy to Germany",
          "Italy to Germany",
          "Italy to Germany",
          "Italy to Germany",
          "Italy to Germany",
          "Italy to Germany"
         ],
         "type": "scatter",
         "x": [
          0.1120596386448448,
          0.03793584355690857,
          null,
          0.03793584355690857,
          0.07667409916225143,
          null,
          0.03793584355690857,
          0.07647702245912913,
          null
         ],
         "y": [
          -0.021014797858646822,
          -0.021720364605096087,
          null,
          -0.021720364605096087,
          -0.03170609550449349,
          null,
          -0.021720364605096087,
          -0.010999133436658037,
          null
         ]
        },
        {
         "hoverinfo": "text",
         "line": {
          "color": "white",
          "width": 2
         },
         "mode": "lines",
         "opacity": 0.5,
         "text": [
          "Italy to Morocco",
          "Italy to Morocco",
          "Italy to Morocco",
          "Italy to Morocco",
          "Italy to Morocco",
          "Italy to Morocco",
          "Italy to Morocco",
          "Italy to Morocco",
          "Italy to Morocco"
         ],
         "type": "scatter",
         "x": [
          0.055521253156048896,
          0.18552130327061203,
          null,
          0.18552130327061203,
          0.18796151923619767,
          null,
          0.18552130327061203,
          0.16767153215968053,
          null
         ],
         "y": [
          -0.09089359064062885,
          -0.7297199154777246,
          null,
          -0.7297199154777246,
          -0.6897937952220266,
          null,
          -0.7297199154777246,
          -0.6939227730789449,
          null
         ]
        },
        {
         "hoverinfo": "text",
         "line": {
          "color": "white",
          "width": 2
         },
         "mode": "lines",
         "opacity": 0.5,
         "text": [
          "Italy to Romania",
          "Italy to Romania",
          "Italy to Romania",
          "Italy to Romania",
          "Italy to Romania",
          "Italy to Romania",
          "Italy to Romania",
          "Italy to Romania",
          "Italy to Romania"
         ],
         "type": "scatter",
         "x": [
          0.057819918117973254,
          0.08470968165161272,
          null,
          0.08470968165161272,
          0.08581795968294598,
          null,
          0.08470968165161272,
          0.06567565085264343,
          null
         ],
         "y": [
          -0.09038577867222605,
          -0.20314881563867293,
          null,
          -0.20314881563867293,
          -0.16316116018155274,
          null,
          -0.20314881563867293,
          -0.16796435115936076,
          null
         ]
        },
        {
         "hoverinfo": "text",
         "line": {
          "color": "white",
          "width": 2
         },
         "mode": "lines",
         "opacity": 0.5,
         "text": [
          "Italy to Slovenia",
          "Italy to Slovenia",
          "Italy to Slovenia",
          "Italy to Slovenia",
          "Italy to Slovenia",
          "Italy to Slovenia",
          "Italy to Slovenia",
          "Italy to Slovenia",
          "Italy to Slovenia"
         ],
         "type": "scatter",
         "x": [
          0.03320331753091727,
          0.019457190119396187,
          null,
          0.019457190119396187,
          0.013680764433816717,
          null,
          0.019457190119396187,
          0.03424205796292714,
          null
         ],
         "y": [
          0.048456275484872635,
          0.16554856027352838,
          null,
          0.16554856027352838,
          0.12597376181289693,
          null,
          0.16554856027352838,
          0.12838756661418252,
          null
         ]
        },
        {
         "hoverinfo": "text",
         "line": {
          "color": "white",
          "width": 2
         },
         "mode": "lines",
         "opacity": 0.5,
         "text": [
          "Italy to United Kingdom",
          "Italy to United Kingdom",
          "Italy to United Kingdom",
          "Italy to United Kingdom",
          "Italy to United Kingdom",
          "Italy to United Kingdom",
          "Italy to United Kingdom",
          "Italy to United Kingdom",
          "Italy to United Kingdom"
         ],
         "type": "scatter",
         "x": [
          -0.020569422775001386,
          -0.10954287192840773,
          null,
          -0.10954287192840773,
          -0.08057696627593065,
          null,
          -0.10954287192840773,
          -0.07066547392812697,
          null
         ],
         "y": [
          0.0121211086890823,
          0.06063198738137707,
          null,
          0.06063198738137707,
          0.03304761165815236,
          null,
          0.06063198738137707,
          0.051226170083768244,
          null
         ]
        },
        {
         "hoverinfo": "text",
         "line": {
          "color": "white",
          "width": 2
         },
         "mode": "lines",
         "opacity": 0.5,
         "text": [
          "Italy to Turkey",
          "Italy to Turkey",
          "Italy to Turkey",
          "Italy to Turkey",
          "Italy to Turkey",
          "Italy to Turkey",
          "Italy to Turkey",
          "Italy to Turkey",
          "Italy to Turkey"
         ],
         "type": "scatter",
         "x": [
          -0.024513012418450462,
          0.01331592943269122,
          null,
          0.01331592943269122,
          -0.026469523616787533,
          null,
          0.01331592943269122,
          -0.019061734758668264,
          null
         ],
         "y": [
          -0.04695313287112042,
          -0.03246067474131263,
          null,
          -0.03246067474131263,
          -0.036615772442436995,
          null,
          -0.03246067474131263,
          -0.05595182143043202,
          null
         ]
        },
        {
         "hoverinfo": "text",
         "line": {
          "color": "white",
          "width": 2
         },
         "mode": "lines",
         "opacity": 0.5,
         "text": [
          "Italy to Albania",
          "Italy to Albania",
          "Italy to Albania",
          "Italy to Albania",
          "Italy to Albania",
          "Italy to Albania",
          "Italy to Albania",
          "Italy to Albania",
          "Italy to Albania"
         ],
         "type": "scatter",
         "x": [
          0.009698140693781353,
          -0.08464584225957511,
          null,
          -0.08464584225957511,
          -0.05803407458387844,
          null,
          -0.08464584225957511,
          -0.07653044781566452,
          null
         ],
         "y": [
          -0.08477809303886419,
          -0.2723117713309651,
          null,
          -0.2723117713309651,
          -0.24244962652526053,
          null,
          -0.2723117713309651,
          -0.23314451147988707,
          null
         ]
        },
        {
         "hoverinfo": "text",
         "line": {
          "color": "white",
          "width": 2
         },
         "mode": "lines",
         "opacity": 0.5,
         "text": [
          "Italy to Algeria",
          "Italy to Algeria",
          "Italy to Algeria",
          "Italy to Algeria",
          "Italy to Algeria",
          "Italy to Algeria",
          "Italy to Algeria",
          "Italy to Algeria",
          "Italy to Algeria"
         ],
         "type": "scatter",
         "x": [
          -0.014129091376784995,
          -0.7223950908381818,
          null,
          -0.7223950908381818,
          -0.6983859582288496,
          null,
          -0.7223950908381818,
          -0.6856060729328899,
          null
         ],
         "y": [
          0.021904333717141674,
          0.5775276354834094,
          null,
          0.5775276354834094,
          0.5455346371978478,
          null,
          0.5775276354834094,
          0.5618254525295472,
          null
         ]
        },
        {
         "hoverinfo": "text",
         "line": {
          "color": "white",
          "width": 2
         },
         "mode": "lines",
         "opacity": 0.5,
         "text": [
          "Italy to United States",
          "Italy to United States",
          "Italy to United States",
          "Italy to United States",
          "Italy to United States",
          "Italy to United States",
          "Italy to United States",
          "Italy to United States",
          "Italy to United States"
         ],
         "type": "scatter",
         "x": [
          0.07369807159723152,
          0.056140981444437583,
          null,
          0.056140981444437583,
          0.08299633550264682,
          null,
          0.056140981444437583,
          0.0645791995492341,
          null
         ],
         "y": [
          0.04113946089153259,
          0.006947198774412092,
          null,
          0.006947198774412092,
          0.03658560024888849,
          null,
          0.006947198774412092,
          0.04604248440797543,
          null
         ]
        },
        {
         "hoverinfo": "text",
         "line": {
          "color": "white",
          "width": 2
         },
         "mode": "lines",
         "opacity": 0.5,
         "text": [
          "Italy to Czech Republic",
          "Italy to Czech Republic",
          "Italy to Czech Republic",
          "Italy to Czech Republic",
          "Italy to Czech Republic",
          "Italy to Czech Republic",
          "Italy to Czech Republic",
          "Italy to Czech Republic",
          "Italy to Czech Republic"
         ],
         "type": "scatter",
         "x": [
          0.10513463024442454,
          0.2682310410294228,
          null,
          0.2682310410294228,
          0.23785560977334114,
          null,
          0.2682310410294228,
          0.2289119169296256,
          null
         ],
         "y": [
          -0.05219291922761798,
          -0.13030361949137145,
          null,
          -0.13030361949137145,
          -0.10427716152912617,
          null,
          -0.13030361949137145,
          -0.1229517613535801,
          null
         ]
        },
        {
         "hoverinfo": "text",
         "line": {
          "color": "white",
          "width": 2
         },
         "mode": "lines",
         "opacity": 0.5,
         "text": [
          "Italy to Switzerland",
          "Italy to Switzerland",
          "Italy to Switzerland",
          "Italy to Switzerland",
          "Italy to Switzerland",
          "Italy to Switzerland",
          "Italy to Switzerland",
          "Italy to Switzerland",
          "Italy to Switzerland"
         ],
         "type": "scatter",
         "x": [
          0.10106055733599056,
          0.25280281074547445,
          null,
          0.25280281074547445,
          0.21463525006870937,
          null,
          0.25280281074547445,
          0.22573363476605793,
          null
         ],
         "y": [
          0.016168246582769833,
          0.11251146989327028,
          null,
          0.11251146989327028,
          0.10054166755897825,
          null,
          0.11251146989327028,
          0.08306153665511257,
          null
         ]
        },
        {
         "hoverinfo": "text",
         "line": {
          "color": "white",
          "width": 2
         },
         "mode": "lines",
         "opacity": 0.5,
         "text": [
          "Italy to France",
          "Italy to France",
          "Italy to France",
          "Italy to France",
          "Italy to France",
          "Italy to France",
          "Italy to France",
          "Italy to France",
          "Italy to France"
         ],
         "type": "scatter",
         "x": [
          -0.011203747680842042,
          0.07481631531681257,
          null,
          0.07481631531681257,
          0.05291867113325553,
          null,
          0.07481631531681257,
          0.039114928169175694,
          null
         ],
         "y": [
          0.025395388037923388,
          -0.0515406029827053,
          null,
          -0.0515406029827053,
          -0.01806566097941744,
          null,
          -0.0515406029827053,
          -0.033499274909425794,
          null
         ]
        },
        {
         "hoverinfo": "text",
         "line": {
          "color": "white",
          "width": 2
         },
         "mode": "lines",
         "opacity": 0.5,
         "text": [
          "Italy to Netherlands",
          "Italy to Netherlands",
          "Italy to Netherlands",
          "Italy to Netherlands",
          "Italy to Netherlands",
          "Italy to Netherlands",
          "Italy to Netherlands",
          "Italy to Netherlands",
          "Italy to Netherlands"
         ],
         "type": "scatter",
         "x": [
          -0.01692690028382192,
          0.023432672214261367,
          null,
          0.023432672214261367,
          -0.002669123696226787,
          null,
          0.023432672214261367,
          -0.014328551312748121,
          null
         ],
         "y": [
          0.01808039329978266,
          -0.009419022436665182,
          null,
          -0.009419022436665182,
          0.020893787931594784,
          null,
          -0.009419022436665182,
          0.003781743447104198,
          null
         ]
        },
        {
         "hoverinfo": "text",
         "line": {
          "color": "white",
          "width": 2
         },
         "mode": "lines",
         "opacity": 0.5,
         "text": [
          "Italy to Lebanon",
          "Italy to Lebanon",
          "Italy to Lebanon",
          "Italy to Lebanon",
          "Italy to Lebanon",
          "Italy to Lebanon",
          "Italy to Lebanon",
          "Italy to Lebanon",
          "Italy to Lebanon"
         ],
         "type": "scatter",
         "x": [
          -0.029036665471359697,
          -0.9295254965476792,
          null,
          -0.9295254965476792,
          -0.8916464435235733,
          null,
          -0.9295254965476792,
          -0.8902954514514929,
          null
         ],
         "y": [
          -0.01707888627737188,
          0.041801726000158544,
          null,
          0.041801726000158544,
          0.02895008018813302,
          null,
          0.041801726000158544,
          0.049611400758557536,
          null
         ]
        },
        {
         "hoverinfo": "text",
         "line": {
          "color": "white",
          "width": 2
         },
         "mode": "lines",
         "opacity": 0.5,
         "text": [
          "Italy to Serbia",
          "Italy to Serbia",
          "Italy to Serbia",
          "Italy to Serbia",
          "Italy to Serbia",
          "Italy to Serbia",
          "Italy to Serbia",
          "Italy to Serbia",
          "Italy to Serbia"
         ],
         "type": "scatter",
         "x": [
          0.09812975443740438,
          0.6147111909248284,
          null,
          0.6147111909248284,
          0.5775224708126718,
          null,
          0.6147111909248284,
          0.5898704552755221,
          null
         ],
         "y": [
          0.02043086687686652,
          0.40421262990264967,
          null,
          0.40421262990264967,
          0.38948134849854865,
          null,
          0.40421262990264967,
          0.37286060592032266,
          null
         ]
        },
        {
         "hoverinfo": "text",
         "line": {
          "color": "white",
          "width": 2
         },
         "mode": "lines",
         "opacity": 0.5,
         "text": [
          "Italy to Japan",
          "Italy to Japan",
          "Italy to Japan",
          "Italy to Japan",
          "Italy to Japan",
          "Italy to Japan",
          "Italy to Japan",
          "Italy to Japan",
          "Italy to Japan"
         ],
         "type": "scatter",
         "x": [
          0.10834470160385143,
          0.04630183963611326,
          null,
          0.04630183963611326,
          0.07958868039985315,
          null,
          0.04630183963611326,
          0.08621813599869235,
          null
         ],
         "y": [
          -0.044300349594634164,
          -0.0233309752569817,
          null,
          -0.0233309752569817,
          -0.045509068555887586,
          null,
          -0.0233309752569817,
          -0.02589434707946568,
          null
         ]
        },
        {
         "hoverinfo": "text",
         "line": {
          "color": "white",
          "width": 2
         },
         "mode": "lines",
         "opacity": 0.5,
         "text": [
          "Italy to Bosnia and Herzegovina",
          "Italy to Bosnia and Herzegovina",
          "Italy to Bosnia and Herzegovina",
          "Italy to Bosnia and Herzegovina",
          "Italy to Bosnia and Herzegovina",
          "Italy to Bosnia and Herzegovina",
          "Italy to Bosnia and Herzegovina",
          "Italy to Bosnia and Herzegovina",
          "Italy to Bosnia and Herzegovina"
         ],
         "type": "scatter",
         "x": [
          0.06606372538996114,
          0.2650880108012406,
          null,
          0.2650880108012406,
          0.2419126035783626,
          null,
          0.2650880108012406,
          0.26131883882180945,
          null
         ],
         "y": [
          0.04450553982732955,
          0.5794681457046493,
          null,
          0.5794681457046493,
          0.5468655068673882,
          null,
          0.5794681457046493,
          0.539645728629733,
          null
         ]
        },
        {
         "hoverinfo": "text",
         "line": {
          "color": "white",
          "width": 2
         },
         "mode": "lines",
         "opacity": 0.5,
         "text": [
          "Italy to The former Yugoslav Republic of Macedonia",
          "Italy to The former Yugoslav Republic of Macedonia",
          "Italy to The former Yugoslav Republic of Macedonia",
          "Italy to The former Yugoslav Republic of Macedonia",
          "Italy to The former Yugoslav Republic of Macedonia",
          "Italy to The former Yugoslav Republic of Macedonia",
          "Italy to The former Yugoslav Republic of Macedonia",
          "Italy to The former Yugoslav Republic of Macedonia",
          "Italy to The former Yugoslav Republic of Macedonia"
         ],
         "type": "scatter",
         "x": [
          0.03767400057172245,
          0.01888012266923698,
          null,
          0.01888012266923698,
          0.031275951080174204,
          null,
          0.01888012266923698,
          0.010602046285394991,
          null
         ],
         "y": [
          -0.0922116650329851,
          -0.44436061214995826,
          null,
          -0.44436061214995826,
          -0.4063342547726252,
          null,
          -0.44436061214995826,
          -0.40523090644233345,
          null
         ]
        },
        {
         "hoverinfo": "text",
         "line": {
          "color": "white",
          "width": 2
         },
         "mode": "lines",
         "opacity": 0.5,
         "text": [
          "Italy to Austria",
          "Italy to Austria",
          "Italy to Austria",
          "Italy to Austria",
          "Italy to Austria",
          "Italy to Austria",
          "Italy to Austria",
          "Italy to Austria",
          "Italy to Austria"
         ],
         "type": "scatter",
         "x": [
          0.10636547314025277,
          0.20159772032540133,
          null,
          0.20159772032540133,
          0.16200313525841256,
          null,
          0.20159772032540133,
          0.17015069794366103,
          null
         ],
         "y": [
          0.006103126893261986,
          0.04686418464232321,
          null,
          0.04686418464232321,
          0.041178396365171316,
          null,
          0.04686418464232321,
          0.022142855020275538,
          null
         ]
        },
        {
         "hoverinfo": "text",
         "line": {
          "color": "white",
          "width": 2
         },
         "mode": "lines",
         "opacity": 0.5,
         "text": [
          "Italy to Portugal",
          "Italy to Portugal",
          "Italy to Portugal",
          "Italy to Portugal",
          "Italy to Portugal",
          "Italy to Portugal",
          "Italy to Portugal",
          "Italy to Portugal",
          "Italy to Portugal"
         ],
         "type": "scatter",
         "x": [
          -0.028795836089363265,
          -0.24917526198786116,
          null,
          -0.24917526198786116,
          -0.21184114398709866,
          null,
          -0.24917526198786116,
          -0.2096645125087358,
          null
         ],
         "y": [
          -0.014262634249541242,
          0.009033656094868007,
          null,
          0.009033656094868007,
          -0.005323253630290266,
          null,
          0.009033656094868007,
          0.015267266553422334,
          null
         ]
        },
        {
         "hoverinfo": "text",
         "line": {
          "color": "white",
          "width": 2
         },
         "mode": "lines",
         "opacity": 0.5,
         "text": [
          "Italy to Denmark",
          "Italy to Denmark",
          "Italy to Denmark",
          "Italy to Denmark",
          "Italy to Denmark",
          "Italy to Denmark",
          "Italy to Denmark",
          "Italy to Denmark",
          "Italy to Denmark"
         ],
         "type": "scatter",
         "x": [
          -0.018558179326030766,
          -0.23722010081296852,
          null,
          -0.23722010081296852,
          -0.19893623526733598,
          null,
          -0.23722010081296852,
          -0.2098600985054565,
          null
         ],
         "y": [
          -0.05894784760920782,
          -0.1947488949165346,
          null,
          -0.1947488949165346,
          -0.18315929929638744,
          null,
          -0.1947488949165346,
          -0.16557007791708203,
          null
         ]
        },
        {
         "hoverinfo": "text",
         "line": {
          "color": "white",
          "width": 2
         },
         "mode": "lines",
         "opacity": 0.5,
         "text": [
          "Italy to Luxembourg",
          "Italy to Luxembourg",
          "Italy to Luxembourg",
          "Italy to Luxembourg",
          "Italy to Luxembourg",
          "Italy to Luxembourg",
          "Italy to Luxembourg",
          "Italy to Luxembourg",
          "Italy to Luxembourg"
         ],
         "type": "scatter",
         "x": [
          0.04972493822902161,
          0.05747828105645031,
          null,
          0.05747828105645031,
          0.04265959536468303,
          null,
          0.05747828105645031,
          0.06322735665177413,
          null
         ],
         "y": [
          0.04845008286376409,
          0.11406978871118957,
          null,
          0.11406978871118957,
          0.07690492100100703,
          null,
          0.11406978871118957,
          0.07447472629999985,
          null
         ]
        },
        {
         "hoverinfo": "text",
         "line": {
          "color": "white",
          "width": 2
         },
         "mode": "lines",
         "opacity": 0.5,
         "text": [
          "Italy to Greece",
          "Italy to Greece",
          "Italy to Greece",
          "Italy to Greece",
          "Italy to Greece",
          "Italy to Greece",
          "Italy to Greece",
          "Italy to Greece",
          "Italy to Greece"
         ],
         "type": "scatter",
         "x": [
          0.07831365015198893,
          0.13419190030242453,
          null,
          0.13419190030242453,
          0.12284718410087812,
          null,
          0.13419190030242453,
          0.10518757106220486,
          null
         ],
         "y": [
          -0.08192045175439633,
          -0.17319269804805149,
          null,
          -0.17319269804805149,
          -0.1348336644261403,
          null,
          -0.17319269804805149,
          -0.14564515856762822,
          null
         ]
        },
        {
         "hoverinfo": "text",
         "line": {
          "color": "white",
          "width": 2
         },
         "mode": "lines",
         "opacity": 0.5,
         "text": [
          "Italy to Belgium",
          "Italy to Belgium",
          "Italy to Belgium",
          "Italy to Belgium",
          "Italy to Belgium",
          "Italy to Belgium",
          "Italy to Belgium",
          "Italy to Belgium",
          "Italy to Belgium"
         ],
         "type": "scatter",
         "x": [
          0.040574502566840843,
          0.041186507695764624,
          null,
          0.041186507695764624,
          0.0510985728551169,
          null,
          0.041186507695764624,
          0.030326729167212352,
          null
         ],
         "y": [
          0.04893269304811494,
          -0.0011285368908970639,
          null,
          -0.0011285368908970639,
          0.03775922063013894,
          null,
          -0.0011285368908970639,
          0.03750528159820562,
          null
         ]
        },
        {
         "hoverinfo": "text",
         "line": {
          "color": "white",
          "width": 2
         },
         "mode": "lines",
         "opacity": 0.5,
         "text": [
          "Italy to Tunisia",
          "Italy to Tunisia",
          "Italy to Tunisia",
          "Italy to Tunisia",
          "Italy to Tunisia",
          "Italy to Tunisia",
          "Italy to Tunisia",
          "Italy to Tunisia",
          "Italy to Tunisia"
         ],
         "type": "scatter",
         "x": [
          -0.029155974786367896,
          -0.5228335207841074,
          null,
          -0.5228335207841074,
          -0.48452160068712946,
          null,
          -0.5228335207841074,
          -0.48390633783712467,
          null
         ],
         "y": [
          -0.019588405650006892,
          -0.0049122795705666515,
          null,
          -0.0049122795705666515,
          -0.0164084533210472,
          null,
          -0.0049122795705666515,
          0.0042877019636863144,
          null
         ]
        },
        {
         "hoverinfo": "text",
         "line": {
          "color": "white",
          "width": 2
         },
         "mode": "lines",
         "opacity": 0.5,
         "text": [
          "Italy to Australia",
          "Italy to Australia",
          "Italy to Australia",
          "Italy to Australia",
          "Italy to Australia",
          "Italy to Australia",
          "Italy to Australia",
          "Italy to Australia",
          "Italy to Australia"
         ],
         "type": "scatter",
         "x": [
          0.0857175038717204,
          0.4651746514983466,
          null,
          0.4651746514983466,
          0.43288501800948165,
          null,
          0.4651746514983466,
          0.44901562378304216,
          null
         ],
         "y": [
          0.03333298289178456,
          0.5048301524623309,
          null,
          0.5048301524623309,
          0.4812209221324481,
          null,
          0.5048301524623309,
          0.46823914248842186,
          null
         ]
        },
        {
         "hoverinfo": "text",
         "line": {
          "color": "white",
          "width": 2
         },
         "mode": "lines",
         "opacity": 0.5,
         "text": [
          "Italy to Argentina",
          "Italy to Argentina",
          "Italy to Argentina",
          "Italy to Argentina",
          "Italy to Argentina",
          "Italy to Argentina",
          "Italy to Argentina",
          "Italy to Argentina",
          "Italy to Argentina"
         ],
         "type": "scatter",
         "x": [
          0.08355917200729251,
          0.2360195107233225,
          null,
          0.2360195107233225,
          0.22128582327399066,
          null,
          0.2360195107233225,
          0.20466566462481295,
          null
         ],
         "y": [
          -0.07837639266779513,
          -0.28356646180153855,
          null,
          -0.28356646180153855,
          -0.24637826484960212,
          null,
          -0.28356646180153855,
          -0.2587273822448885,
          null
         ]
        },
        {
         "hoverinfo": "text",
         "line": {
          "color": "white",
          "width": 2
         },
         "mode": "lines",
         "opacity": 0.5,
         "text": [
          "Italy to South Africa",
          "Italy to South Africa",
          "Italy to South Africa",
          "Italy to South Africa",
          "Italy to South Africa",
          "Italy to South Africa",
          "Italy to South Africa",
          "Italy to South Africa",
          "Italy to South Africa"
         ],
         "type": "scatter",
         "x": [
          -0.02734645141764782,
          -0.9095404908131184,
          null,
          -0.9095404908131184,
          -0.8742587670609127,
          null,
          -0.9095404908131184,
          -0.8695623638659168,
          null
         ],
         "y": [
          -0.0056679114728487336,
          0.19978555710870735,
          null,
          0.19978555710870735,
          0.18093904133173408,
          null,
          0.19978555710870735,
          0.20110485754912716,
          null
         ]
        },
        {
         "hoverinfo": "text",
         "line": {
          "color": "white",
          "width": 2
         },
         "mode": "lines",
         "opacity": 0.5,
         "text": [
          "Italy to Cyprus",
          "Italy to Cyprus",
          "Italy to Cyprus",
          "Italy to Cyprus",
          "Italy to Cyprus",
          "Italy to Cyprus",
          "Italy to Cyprus",
          "Italy to Cyprus",
          "Italy to Cyprus"
         ],
         "type": "scatter",
         "x": [
          0.10326254905932378,
          0.6189937234956218,
          null,
          0.6189937234956218,
          0.5901755924346914,
          null,
          0.6189937234956218,
          0.5801662983494859,
          null
         ],
         "y": [
          -0.0558278519287196,
          -0.3406247544274558,
          null,
          -0.3406247544274558,
          -0.3128843713118941,
          null,
          -0.3406247544274558,
          -0.33100994346913165,
          null
         ]
        },
        {
         "hoverinfo": "text",
         "line": {
          "color": "white",
          "width": 2
         },
         "mode": "lines",
         "opacity": 0.5,
         "text": [
          "Italy to Georgia",
          "Italy to Georgia",
          "Italy to Georgia",
          "Italy to Georgia",
          "Italy to Georgia",
          "Italy to Georgia",
          "Italy to Georgia",
          "Italy to Georgia",
          "Italy to Georgia"
         ],
         "type": "scatter",
         "x": [
          0.01624186229556923,
          -0.2459045097472472,
          null,
          -0.2459045097472472,
          -0.22244912425698846,
          null,
          -0.2459045097472472,
          -0.241792020297626,
          null
         ],
         "y": [
          -0.08766470371053685,
          -0.7741159063525369,
          null,
          -0.7741159063525369,
          -0.7417149658715373,
          null,
          -0.7741159063525369,
          -0.7343281760443543,
          null
         ]
        },
        {
         "hoverinfo": "text",
         "line": {
          "color": "white",
          "width": 2
         },
         "mode": "lines",
         "opacity": 0.5,
         "text": [
          "Italy to Hungary",
          "Italy to Hungary",
          "Italy to Hungary",
          "Italy to Hungary",
          "Italy to Hungary",
          "Italy to Hungary",
          "Italy to Hungary",
          "Italy to Hungary",
          "Italy to Hungary"
         ],
         "type": "scatter",
         "x": [
          0.11173161970562376,
          0.40325731756685324,
          null,
          0.40325731756685324,
          0.3637998781999802,
          null,
          0.40325731756685324,
          0.3658028383440167,
          null
         ],
         "y": [
          -0.014855128619893826,
          0.01347845587957925,
          null,
          0.01347845587957925,
          0.020045124605259874,
          null,
          0.01347845587957925,
          -0.0005633618691810397,
          null
         ]
        },
        {
         "hoverinfo": "text",
         "line": {
          "color": "white",
          "width": 2
         },
         "mode": "lines",
         "opacity": 0.5,
         "text": [
          "Italy to Ireland",
          "Italy to Ireland",
          "Italy to Ireland",
          "Italy to Ireland",
          "Italy to Ireland",
          "Italy to Ireland",
          "Italy to Ireland",
          "Italy to Ireland",
          "Italy to Ireland"
         ],
         "type": "scatter",
         "x": [
          -0.011511293445511273,
          -0.11616735445033988,
          null,
          -0.11616735445033988,
          -0.09405174473129474,
          null,
          -0.11616735445033988,
          -0.08035007747190753,
          null
         ],
         "y": [
          0.025049252591123703,
          0.11742537105537905,
          null,
          0.11742537105537905,
          0.08409617677226461,
          null,
          0.11742537105537905,
          0.09961924697805741,
          null
         ]
        },
        {
         "hoverinfo": "text",
         "line": {
          "color": "white",
          "width": 2
         },
         "mode": "lines",
         "opacity": 0.5,
         "text": [
          "Italy to Poland",
          "Italy to Poland",
          "Italy to Poland",
          "Italy to Poland",
          "Italy to Poland",
          "Italy to Poland",
          "Italy to Poland",
          "Italy to Poland",
          "Italy to Poland"
         ],
         "type": "scatter",
         "x": [
          0.11079284799058386,
          0.1978027616317637,
          null,
          0.1978027616317637,
          0.16181392273121503,
          null,
          0.1978027616317637,
          0.15790487484070187,
          null
         ],
         "y": [
          -0.03502019205373535,
          -0.0517474231890118,
          null,
          -0.0517474231890118,
          -0.034286147088049654,
          null,
          -0.0517474231890118,
          -0.05461993395335882,
          null
         ]
        },
        {
         "hoverinfo": "text",
         "line": {
          "color": "white",
          "width": 2
         },
         "mode": "lines",
         "opacity": 0.5,
         "text": [
          "Italy to Slovakia",
          "Italy to Slovakia",
          "Italy to Slovakia",
          "Italy to Slovakia",
          "Italy to Slovakia",
          "Italy to Slovakia",
          "Italy to Slovakia",
          "Italy to Slovakia",
          "Italy to Slovakia"
         ],
         "type": "scatter",
         "x": [
          0.1072138290434744,
          0.48220093470868225,
          null,
          0.48220093470868225,
          0.4499863920730119,
          null,
          0.48220093470868225,
          0.4424464958649935,
          null
         ],
         "y": [
          -0.04740491526303479,
          -0.19402186804327587,
          null,
          -0.19402186804327587,
          -0.17031021494347326,
          null,
          -0.19402186804327587,
          -0.18959424541095798,
          null
         ]
        },
        {
         "hoverinfo": "text",
         "line": {
          "color": "white",
          "width": 2
         },
         "mode": "lines",
         "opacity": 0.5,
         "text": [
          "Italy to Croatia",
          "Italy to Croatia",
          "Italy to Croatia",
          "Italy to Croatia",
          "Italy to Croatia",
          "Italy to Croatia",
          "Italy to Croatia",
          "Italy to Croatia",
          "Italy to Croatia"
         ],
         "type": "scatter",
         "x": [
          0.10580452671810886,
          0.653737648586154,
          null,
          0.653737648586154,
          0.6142635525115041,
          null,
          0.653737648586154,
          0.6227849614439872,
          null
         ],
         "y": [
          0.007378757597474184,
          0.254806550223728,
          null,
          0.254806550223728,
          0.24834078452391264,
          null,
          0.254806550223728,
          0.22946998483544487,
          null
         ]
        },
        {
         "hoverinfo": "text",
         "line": {
          "color": "white",
          "width": 2
         },
         "mode": "lines",
         "opacity": 0.5,
         "text": [
          "Italy to Republic of Moldova",
          "Italy to Republic of Moldova",
          "Italy to Republic of Moldova",
          "Italy to Republic of Moldova",
          "Italy to Republic of Moldova",
          "Italy to Republic of Moldova",
          "Italy to Republic of Moldova",
          "Italy to Republic of Moldova",
          "Italy to Republic of Moldova"
         ],
         "type": "scatter",
         "x": [
          -0.004288860637189397,
          -0.5180534694188096,
          null,
          -0.5180534694188096,
          -0.48514789212564496,
          null,
          -0.5180534694188096,
          -0.500927540869582,
          null
         ],
         "y": [
          -0.07551044176090911,
          -0.6802460764268181,
          null,
          -0.6802460764268181,
          -0.6575038018011273,
          null,
          -0.6802460764268181,
          -0.6440979002145453,
          null
         ]
        },
        {
         "hoverinfo": "text",
         "line": {
          "color": "white",
          "width": 2
         },
         "mode": "lines",
         "opacity": 0.5,
         "text": [
          "Italy to Ukraine",
          "Italy to Ukraine",
          "Italy to Ukraine",
          "Italy to Ukraine",
          "Italy to Ukraine",
          "Italy to Ukraine",
          "Italy to Ukraine",
          "Italy to Ukraine",
          "Italy to Ukraine"
         ],
         "type": "scatter",
         "x": [
          -0.02039167088455307,
          -0.7627231790032594,
          null,
          -0.7627231790032594,
          -0.723894662689791,
          null,
          -0.7627231790032594,
          -0.7339013431612512,
          null
         ],
         "y": [
          -0.05581916229995568,
          -0.4656130898958941,
          null,
          -0.4656130898958941,
          -0.45600379854246614,
          null,
          -0.4656130898958941,
          -0.43787694131472515,
          null
         ]
        },
        {
         "hoverinfo": "text",
         "line": {
          "color": "white",
          "width": 2
         },
         "mode": "lines",
         "opacity": 0.5,
         "text": [
          "Italy to New Zealand",
          "Italy to New Zealand",
          "Italy to New Zealand",
          "Italy to New Zealand",
          "Italy to New Zealand",
          "Italy to New Zealand",
          "Italy to New Zealand",
          "Italy to New Zealand",
          "Italy to New Zealand"
         ],
         "type": "scatter",
         "x": [
          0.11088581785772236,
          0.7004514396442868,
          null,
          0.7004514396442868,
          0.6605760185032054,
          null,
          0.7004514396442868,
          0.664340440866052,
          null
         ],
         "y": [
          -0.008846908614047045,
          0.10015689733277308,
          null,
          0.10015689733277308,
          0.10331263949968335,
          null,
          0.10015689733277308,
          0.08295213964657039,
          null
         ]
        },
        {
         "hoverinfo": "text",
         "line": {
          "color": "white",
          "width": 2
         },
         "mode": "lines",
         "opacity": 0.5,
         "text": [
          "Italy to Montenegro",
          "Italy to Montenegro",
          "Italy to Montenegro",
          "Italy to Montenegro",
          "Italy to Montenegro",
          "Italy to Montenegro",
          "Italy to Montenegro",
          "Italy to Montenegro",
          "Italy to Montenegro"
         ],
         "type": "scatter",
         "x": [
          0.05545110046772673,
          0.2053524459769759,
          null,
          0.2053524459769759,
          0.1875390104351141,
          null,
          0.2053524459769759,
          0.20783312494825334,
          null
         ],
         "y": [
          0.04753376966151335,
          0.787995957496964,
          null,
          0.787995957496964,
          0.7521808241385513,
          null,
          0.787995957496964,
          0.7480724243977203,
          null
         ]
        },
        {
         "hoverinfo": "text",
         "line": {
          "color": "white",
          "width": 2
         },
         "mode": "lines",
         "opacity": 0.5,
         "text": [
          "Italy to Azerbaijan",
          "Italy to Azerbaijan",
          "Italy to Azerbaijan",
          "Italy to Azerbaijan",
          "Italy to Azerbaijan",
          "Italy to Azerbaijan",
          "Italy to Azerbaijan",
          "Italy to Azerbaijan",
          "Italy to Azerbaijan"
         ],
         "type": "scatter",
         "x": [
          -0.013551035860273973,
          -0.6578573344740904,
          null,
          -0.6578573344740904,
          -0.6212779838689287,
          null,
          -0.6578573344740904,
          -0.634270995555104,
          null
         ],
         "y": [
          -0.06600536000731959,
          -0.5852845741904692,
          null,
          -0.5852845741904692,
          -0.5690999582724267,
          null,
          -0.5852845741904692,
          -0.5529786103523695,
          null
         ]
        },
        {
         "hoverinfo": "text",
         "line": {
          "color": "white",
          "width": 2
         },
         "mode": "lines",
         "opacity": 0.5,
         "text": [
          "Italy to Korea, Republic of",
          "Italy to Korea, Republic of",
          "Italy to Korea, Republic of",
          "Italy to Korea, Republic of",
          "Italy to Korea, Republic of",
          "Italy to Korea, Republic of",
          "Italy to Korea, Republic of",
          "Italy to Korea, Republic of",
          "Italy to Korea, Republic of"
         ],
         "type": "scatter",
         "x": [
          0.11165944570450603,
          0.10031846487906756,
          null,
          0.10031846487906756,
          0.13762011406982336,
          null,
          0.10031846487906756,
          0.13982958224443418,
          null
         ],
         "y": [
          -0.029224697612350584,
          -0.028007343764329583,
          null,
          -0.028007343764329583,
          -0.042421226890563275,
          null,
          -0.028007343764329583,
          -0.02183930812344992,
          null
         ]
        },
        {
         "hoverinfo": "text",
         "line": {
          "color": "white",
          "width": 2
         },
         "mode": "lines",
         "opacity": 0.5,
         "text": [
          "Italy to Uruguay",
          "Italy to Uruguay",
          "Italy to Uruguay",
          "Italy to Uruguay",
          "Italy to Uruguay",
          "Italy to Uruguay",
          "Italy to Uruguay",
          "Italy to Uruguay",
          "Italy to Uruguay"
         ],
         "type": "scatter",
         "x": [
          0.039355794950105875,
          0.01926671238550461,
          null,
          0.01926671238550461,
          0.030752862395105454,
          null,
          0.01926671238550461,
          0.010058395462737199,
          null
         ],
         "y": [
          -0.09228133370355852,
          -0.7734271004283569,
          null,
          -0.7734271004283569,
          -0.7351158711828357,
          null,
          -0.7734271004283569,
          -0.7345055276467258,
          null
         ]
        },
        {
         "hoverinfo": "text",
         "line": {
          "color": "white",
          "width": 2
         },
         "mode": "lines",
         "opacity": 0.5,
         "text": [
          "Netherlands to Belgium",
          "Netherlands to Belgium",
          "Netherlands to Belgium",
          "Netherlands to Belgium",
          "Netherlands to Belgium",
          "Netherlands to Belgium",
          "Netherlands to Belgium",
          "Netherlands to Belgium",
          "Netherlands to Belgium"
         ],
         "type": "scatter",
         "x": [
          0.027724191348924163,
          -0.022333085117801285,
          null,
          -0.022333085117801285,
          0.016720308520337575,
          null,
          -0.022333085117801285,
          0.007166199332494724,
          null
         ],
         "y": [
          0.0629380315871255,
          0.03690155534216264,
          null,
          0.03690155534216264,
          0.04554544843081429,
          null,
          0.03690155534216264,
          0.06391408316360114,
          null
         ]
        },
        {
         "hoverinfo": "text",
         "line": {
          "color": "white",
          "width": 2
         },
         "mode": "lines",
         "opacity": 0.5,
         "text": [
          "Netherlands to Germany",
          "Netherlands to Germany",
          "Netherlands to Germany",
          "Netherlands to Germany",
          "Netherlands to Germany",
          "Netherlands to Germany",
          "Netherlands to Germany",
          "Netherlands to Germany",
          "Netherlands to Germany"
         ],
         "type": "scatter",
         "x": [
          0.031556382058319024,
          0.04206919611195177,
          null,
          0.04206919611195177,
          0.009178894573932339,
          null,
          0.04206919611195177,
          0.0021954296093450523,
          null
         ],
         "y": [
          0.0065329249021725995,
          0.0027673434061547576,
          null,
          0.0027673434061547576,
          0.025547203071257744,
          null,
          0.0027673434061547576,
          0.006050129801768703,
          null
         ]
        },
        {
         "hoverinfo": "text",
         "line": {
          "color": "white",
          "width": 2
         },
         "mode": "lines",
         "opacity": 0.5,
         "text": [
          "Netherlands to France",
          "Netherlands to France",
          "Netherlands to France",
          "Netherlands to France",
          "Netherlands to France",
          "Netherlands to France",
          "Netherlands to France",
          "Netherlands to France",
          "Netherlands to France"
         ],
         "type": "scatter",
         "x": [
          0.02537415557831417,
          -0.03813149197382624,
          null,
          -0.03813149197382624,
          -0.010528631704834222,
          null,
          -0.03813149197382624,
          0.00024716843613162287,
          null
         ],
         "y": [
          -0.006408234744624611,
          0.03229845057191297,
          null,
          0.03229845057191297,
          0.0033506861721157404,
          null,
          0.03229845057191297,
          0.021030381353417775,
          null
         ]
        },
        {
         "hoverinfo": "text",
         "line": {
          "color": "white",
          "width": 2
         },
         "mode": "lines",
         "opacity": 0.5,
         "text": [
          "Netherlands to United Kingdom",
          "Netherlands to United Kingdom",
          "Netherlands to United Kingdom",
          "Netherlands to United Kingdom",
          "Netherlands to United Kingdom",
          "Netherlands to United Kingdom",
          "Netherlands to United Kingdom",
          "Netherlands to United Kingdom",
          "Netherlands to United Kingdom"
         ],
         "type": "scatter",
         "x": [
          -0.09887074641049585,
          -0.10761145232439585,
          null,
          -0.10761145232439585,
          -0.0770372959620604,
          null,
          -0.10761145232439585,
          -0.0682453709645584,
          null
         ],
         "y": [
          0.06034399680808955,
          0.06444453003444009,
          null,
          0.06444453003444009,
          0.03866835953288546,
          null,
          0.06444453003444009,
          0.05740878974898243,
          null
         ]
        },
        {
         "hoverinfo": "text",
         "line": {
          "color": "white",
          "width": 2
         },
         "mode": "lines",
         "opacity": 0.5,
         "text": [
          "Netherlands to Denmark",
          "Netherlands to Denmark",
          "Netherlands to Denmark",
          "Netherlands to Denmark",
          "Netherlands to Denmark",
          "Netherlands to Denmark",
          "Netherlands to Denmark",
          "Netherlands to Denmark",
          "Netherlands to Denmark"
         ],
         "type": "scatter",
         "x": [
          -0.08486443225677275,
          -0.2472837519137091,
          null,
          -0.2472837519137091,
          -0.21264595846271273,
          null,
          -0.2472837519137091,
          -0.22728886547037302,
          null
         ],
         "y": [
          -0.019598064823578634,
          -0.18206324693009354,
          null,
          -0.18206324693009354,
          -0.16205860169756345,
          null,
          -0.18206324693009354,
          -0.14741981923952902,
          null
         ]
        },
        {
         "hoverinfo": "text",
         "line": {
          "color": "white",
          "width": 2
         },
         "mode": "lines",
         "opacity": 0.5,
         "text": [
          "Netherlands to Greece",
          "Netherlands to Greece",
          "Netherlands to Greece",
          "Netherlands to Greece",
          "Netherlands to Greece",
          "Netherlands to Greece",
          "Netherlands to Greece",
          "Netherlands to Greece",
          "Netherlands to Greece"
         ],
         "type": "scatter",
         "x": [
          0.00853808818074308,
          0.1275975582421878,
          null,
          0.1275975582421878,
          0.1119752646826464,
          null,
          0.1275975582421878,
          0.09565630388050944,
          null
         ],
         "y": [
          -0.025313402208449624,
          -0.17776431682192795,
          null,
          -0.17776431682192795,
          -0.14094041427445297,
          null,
          -0.17776431682192795,
          -0.15368502852910282,
          null
         ]
        },
        {
         "hoverinfo": "text",
         "line": {
          "color": "white",
          "width": 2
         },
         "mode": "lines",
         "opacity": 0.5,
         "text": [
          "Netherlands to Luxembourg",
          "Netherlands to Luxembourg",
          "Netherlands to Luxembourg",
          "Netherlands to Luxembourg",
          "Netherlands to Luxembourg",
          "Netherlands to Luxembourg",
          "Netherlands to Luxembourg",
          "Netherlands to Luxembourg",
          "Netherlands to Luxembourg"
         ],
         "type": "scatter",
         "x": [
          0.0037436918006619677,
          0.027089623453327362,
          null,
          0.027089623453327362,
          -0.0027337055626172092,
          null,
          0.027089623453327362,
          0.01459260032410493,
          null
         ],
         "y": [
          0.0894421938895961,
          0.12511310845742785,
          null,
          0.12511310845742785,
          0.09845163360941359,
          null,
          0.12511310845742785,
          0.08711192942871535,
          null
         ]
        },
        {
         "hoverinfo": "text",
         "line": {
          "color": "white",
          "width": 2
         },
         "mode": "lines",
         "opacity": 0.5,
         "text": [
          "Netherlands to Spain",
          "Netherlands to Spain",
          "Netherlands to Spain",
          "Netherlands to Spain",
          "Netherlands to Spain",
          "Netherlands to Spain",
          "Netherlands to Spain",
          "Netherlands to Spain",
          "Netherlands to Spain"
         ],
         "type": "scatter",
         "x": [
          -0.04259095844721164,
          -0.043628366745881,
          null,
          -0.043628366745881,
          -0.029174371258239247,
          null,
          -0.043628366745881,
          -0.04971837257363141,
          null
         ],
         "y": [
          -0.0398600886424132,
          -0.04936993234178788,
          null,
          -0.04936993234178788,
          -0.012154866129320242,
          null,
          -0.04936993234178788,
          -0.009913741854450098,
          null
         ]
        },
        {
         "hoverinfo": "text",
         "line": {
          "color": "white",
          "width": 2
         },
         "mode": "lines",
         "opacity": 0.5,
         "text": [
          "Netherlands to Italy",
          "Netherlands to Italy",
          "Netherlands to Italy",
          "Netherlands to Italy",
          "Netherlands to Italy",
          "Netherlands to Italy",
          "Netherlands to Italy",
          "Netherlands to Italy",
          "Netherlands to Italy"
         ],
         "type": "scatter",
         "x": [
          0.023432672214261367,
          -0.01692690028382192,
          null,
          -0.01692690028382192,
          0.009172016437583343,
          null,
          -0.01692690028382192,
          0.020830261673221058,
          null
         ],
         "y": [
          -0.009419022436665182,
          0.01808039329978266,
          null,
          0.01808039329978266,
          -0.012229280830320443,
          null,
          0.01808039329978266,
          0.004880903883387994,
          null
         ]
        },
        {
         "hoverinfo": "text",
         "line": {
          "color": "white",
          "width": 2
         },
         "mode": "lines",
         "opacity": 0.5,
         "text": [
          "Netherlands to Switzerland",
          "Netherlands to Switzerland",
          "Netherlands to Switzerland",
          "Netherlands to Switzerland",
          "Netherlands to Switzerland",
          "Netherlands to Switzerland",
          "Netherlands to Switzerland",
          "Netherlands to Switzerland",
          "Netherlands to Switzerland"
         ],
         "type": "scatter",
         "x": [
          0.03182068225305762,
          0.2456727817969248,
          null,
          0.2456727817969248,
          0.20577289305100566,
          null,
          0.2456727817969248,
          0.2125348397314902,
          null
         ],
         "y": [
          0.05341268530506512,
          0.12730246194304526,
          null,
          0.12730246194304526,
          0.12446971154963682,
          null,
          0.12730246194304526,
          0.10489928376681361,
          null
         ]
        },
        {
         "hoverinfo": "text",
         "line": {
          "color": "white",
          "width": 2
         },
         "mode": "lines",
         "opacity": 0.5,
         "text": [
          "Netherlands to Ireland",
          "Netherlands to Ireland",
          "Netherlands to Ireland",
          "Netherlands to Ireland",
          "Netherlands to Ireland",
          "Netherlands to Ireland",
          "Netherlands to Ireland",
          "Netherlands to Ireland",
          "Netherlands to Ireland"
         ],
         "type": "scatter",
         "x": [
          -0.08494059878849813,
          -0.1191079531388356,
          null,
          -0.1191079531388356,
          -0.09906127890528145,
          null,
          -0.1191079531388356,
          -0.08444143123860473,
          null
         ],
         "y": [
          0.08021860513234204,
          0.11429144928623097,
          null,
          0.11429144928623097,
          0.07968026378106692,
          null,
          0.11429144928623097,
          0.09434062050044024,
          null
         ]
        },
        {
         "hoverinfo": "text",
         "line": {
          "color": "white",
          "width": 2
         },
         "mode": "lines",
         "opacity": 0.5,
         "text": [
          "Ireland to France",
          "Ireland to France",
          "Ireland to France",
          "Ireland to France",
          "Ireland to France",
          "Ireland to France",
          "Ireland to France",
          "Ireland to France",
          "Ireland to France"
         ],
         "type": "scatter",
         "x": [
          -0.11613631227900803,
          -0.03080544394279463,
          null,
          -0.03080544394279463,
          -0.052944229527980544,
          null,
          -0.03080544394279463,
          -0.06663617647682221,
          null
         ],
         "y": [
          0.11746056335089462,
          0.04224290525977901,
          null,
          0.04224290525977901,
          0.07555886887641872,
          null,
          0.04224290525977901,
          0.060025983310754115,
          null
         ]
        },
        {
         "hoverinfo": "text",
         "line": {
          "color": "white",
          "width": 2
         },
         "mode": "lines",
         "opacity": 0.5,
         "text": [
          "Ireland to Netherlands",
          "Ireland to Netherlands",
          "Ireland to Netherlands",
          "Ireland to Netherlands",
          "Ireland to Netherlands",
          "Ireland to Netherlands",
          "Ireland to Netherlands",
          "Ireland to Netherlands",
          "Ireland to Netherlands"
         ],
         "type": "scatter",
         "x": [
          -0.1191079531388356,
          -0.08494059878849813,
          null,
          -0.08494059878849813,
          -0.10498983931552851,
          null,
          -0.08494059878849813,
          -0.1196114414337141,
          null
         ],
         "y": [
          0.11429144928623097,
          0.08021860513234204,
          null,
          0.08021860513234204,
          0.11483398717678839,
          null,
          0.08021860513234204,
          0.10017178508102109,
          null
         ]
        },
        {
         "hoverinfo": "text",
         "line": {
          "color": "white",
          "width": 2
         },
         "mode": "lines",
         "opacity": 0.5,
         "text": [
          "Ireland to Belgium",
          "Ireland to Belgium",
          "Ireland to Belgium",
          "Ireland to Belgium",
          "Ireland to Belgium",
          "Ireland to Belgium",
          "Ireland to Belgium",
          "Ireland to Belgium",
          "Ireland to Belgium"
         ],
         "type": "scatter",
         "x": [
          -0.10476071688322235,
          -0.024032596711945367,
          null,
          -0.024032596711945367,
          -0.0549765478083038,
          null,
          -0.024032596711945367,
          -0.06350522749025417,
          null
         ],
         "y": [
          0.1350716961887775,
          0.09858114352389591,
          null,
          0.09858114352389591,
          0.12392990959469405,
          null,
          0.09858114352389591,
          0.10506184334761692,
          null
         ]
        },
        {
         "hoverinfo": "text",
         "line": {
          "color": "white",
          "width": 2
         },
         "mode": "lines",
         "opacity": 0.5,
         "text": [
          "Ireland to United Kingdom",
          "Ireland to United Kingdom",
          "Ireland to United Kingdom",
          "Ireland to United Kingdom",
          "Ireland to United Kingdom",
          "Ireland to United Kingdom",
          "Ireland to United Kingdom",
          "Ireland to United Kingdom",
          "Ireland to United Kingdom"
         ],
         "type": "scatter",
         "x": [
          -0.17158016821939448,
          -0.16908645034178782,
          null,
          -0.16908645034178782,
          -0.18079009168248178,
          null,
          -0.16908645034178782,
          -0.1600805930394862,
          null
         ],
         "y": [
          0.09357963822655924,
          0.16502214139935567,
          null,
          0.16502214139935567,
          0.126739125359107,
          null,
          0.16502214139935567,
          0.1260162563046662,
          null
         ]
        },
        {
         "hoverinfo": "text",
         "line": {
          "color": "white",
          "width": 2
         },
         "mode": "lines",
         "opacity": 0.5,
         "text": [
          "Luxembourg to France",
          "Luxembourg to France",
          "Luxembourg to France",
          "Luxembourg to France",
          "Luxembourg to France",
          "Luxembourg to France",
          "Luxembourg to France",
          "Luxembourg to France",
          "Luxembourg to France"
         ],
         "type": "scatter",
         "x": [
          0.04986647999017348,
          0.03807363096934692,
          null,
          0.03807363096934692,
          0.056855381679483494,
          null,
          0.03807363096934692,
          0.03668471721515472,
          null
         ],
         "y": [
          0.11539472555746301,
          0.06435399098166154,
          null,
          0.06435399098166154,
          0.09966276497509535,
          null,
          0.06435399098166154,
          0.10432316159152683,
          null
         ]
        },
        {
         "hoverinfo": "text",
         "line": {
          "color": "white",
          "width": 2
         },
         "mode": "lines",
         "opacity": 0.5,
         "text": [
          "Luxembourg to Netherlands",
          "Luxembourg to Netherlands",
          "Luxembourg to Netherlands",
          "Luxembourg to Netherlands",
          "Luxembourg to Netherlands",
          "Luxembourg to Netherlands",
          "Luxembourg to Netherlands",
          "Luxembourg to Netherlands",
          "Luxembourg to Netherlands"
         ],
         "type": "scatter",
         "x": [
          0.027089623453327362,
          0.0037436918006619677,
          null,
          0.0037436918006619677,
          0.033562147112407084,
          null,
          0.0037436918006619677,
          0.016238741591459622,
          null
         ],
         "y": [
          0.12511310845742785,
          0.0894421938895961,
          null,
          0.0894421938895961,
          0.1160991739111654,
          null,
          0.0894421938895961,
          0.12743704343232193,
          null
         ]
        },
        {
         "hoverinfo": "text",
         "line": {
          "color": "white",
          "width": 2
         },
         "mode": "lines",
         "opacity": 0.5,
         "text": [
          "Luxembourg to Belgium",
          "Luxembourg to Belgium",
          "Luxembourg to Belgium",
          "Luxembourg to Belgium",
          "Luxembourg to Belgium",
          "Luxembourg to Belgium",
          "Luxembourg to Belgium",
          "Luxembourg to Belgium",
          "Luxembourg to Belgium"
         ],
         "type": "scatter",
         "x": [
          0.050473405815279156,
          0.05561514777087619,
          null,
          0.05561514777087619,
          0.0371350774814803,
          null,
          0.05561514777087619,
          0.057357194142475074,
          null
         ],
         "y": [
          0.11525731044553214,
          0.1384407771955922,
          null,
          0.1384407771955922,
          0.10294826378371666,
          null,
          0.1384407771955922,
          0.09846332379205014,
          null
         ]
        },
        {
         "hoverinfo": "text",
         "line": {
          "color": "white",
          "width": 2
         },
         "mode": "lines",
         "opacity": 0.5,
         "text": [
          "Luxembourg to Germany",
          "Luxembourg to Germany",
          "Luxembourg to Germany",
          "Luxembourg to Germany",
          "Luxembourg to Germany",
          "Luxembourg to Germany",
          "Luxembourg to Germany",
          "Luxembourg to Germany",
          "Luxembourg to Germany"
         ],
         "type": "scatter",
         "x": [
          0.08017959270092814,
          0.09414343282437512,
          null,
          0.09414343282437512,
          0.09639296744643838,
          null,
          0.09414343282437512,
          0.07612034023661182,
          null
         ],
         "y": [
          0.11506848142295527,
          0.04809028759720828,
          null,
          0.04809028759720828,
          0.0880327810315337,
          null,
          0.04809028759720828,
          0.08380626891285888,
          null
         ]
        },
        {
         "hoverinfo": "text",
         "line": {
          "color": "white",
          "width": 2
         },
         "mode": "lines",
         "opacity": 0.5,
         "text": [
          "Luxembourg to Hungary",
          "Luxembourg to Hungary",
          "Luxembourg to Hungary",
          "Luxembourg to Hungary",
          "Luxembourg to Hungary",
          "Luxembourg to Hungary",
          "Luxembourg to Hungary",
          "Luxembourg to Hungary",
          "Luxembourg to Hungary"
         ],
         "type": "scatter",
         "x": [
          0.13129561083737679,
          0.40802086975865015,
          null,
          0.40802086975865015,
          0.3760315802024688,
          null,
          0.40802086975865015,
          0.368309924653594,
          null
         ],
         "y": [
          0.15786910279130625,
          0.046648155952285615,
          null,
          0.046648155952285615,
          0.07066297135305928,
          null,
          0.046648155952285615,
          0.05145095137845871,
          null
         ]
        },
        {
         "hoverinfo": "text",
         "line": {
          "color": "white",
          "width": 2
         },
         "mode": "lines",
         "opacity": 0.5,
         "text": [
          "Switzerland to Hungary",
          "Switzerland to Hungary",
          "Switzerland to Hungary",
          "Switzerland to Hungary",
          "Switzerland to Hungary",
          "Switzerland to Hungary",
          "Switzerland to Hungary",
          "Switzerland to Hungary",
          "Switzerland to Hungary"
         ],
         "type": "scatter",
         "x": [
          0.3673815433818025,
          0.4185950860102175,
          null,
          0.4185950860102175,
          0.39503161537949716,
          null,
          0.4185950860102175,
          0.3820260996346007,
          null
         ],
         "y": [
          0.1060076748754699,
          0.06466942876920842,
          null,
          0.06466942876920842,
          0.0969942731853773,
          null,
          0.06466942876920842,
          0.08088182989163006,
          null
         ]
        },
        {
         "hoverinfo": "text",
         "line": {
          "color": "white",
          "width": 2
         },
         "mode": "lines",
         "opacity": 0.5,
         "text": [
          "Switzerland to Germany",
          "Switzerland to Germany",
          "Switzerland to Germany",
          "Switzerland to Germany",
          "Switzerland to Germany",
          "Switzerland to Germany",
          "Switzerland to Germany",
          "Switzerland to Germany",
          "Switzerland to Germany"
         ],
         "type": "scatter",
         "x": [
          0.2583692886115067,
          0.16261388570978966,
          null,
          0.16261388570978966,
          0.1988484896244044,
          null,
          0.16261388570978966,
          0.1855235744697789,
          null
         ],
         "y": [
          0.10491552663298842,
          0.02440308728826157,
          null,
          0.02440308728826157,
          0.041343884740529926,
          null,
          0.02440308728826157,
          0.057191550199600046,
          null
         ]
        },
        {
         "hoverinfo": "text",
         "line": {
          "color": "white",
          "width": 2
         },
         "mode": "lines",
         "opacity": 0.5,
         "text": [
          "Switzerland to France",
          "Switzerland to France",
          "Switzerland to France",
          "Switzerland to France",
          "Switzerland to France",
          "Switzerland to France",
          "Switzerland to France",
          "Switzerland to France",
          "Switzerland to France"
         ],
         "type": "scatter",
         "x": [
          0.250111538212411,
          0.0844887215431025,
          null,
          0.0844887215431025,
          0.1234510923253049,
          null,
          0.0844887215431025,
          0.11370623096299258,
          null
         ],
         "y": [
          0.11712735654486006,
          0.02878120489535094,
          null,
          0.02878120489535094,
          0.037830991833682485,
          null,
          0.02878120489535094,
          0.05609973567388385,
          null
         ]
        },
        {
         "hoverinfo": "text",
         "line": {
          "color": "white",
          "width": 2
         },
         "mode": "lines",
         "opacity": 0.5,
         "text": [
          "Poland to Romania",
          "Poland to Romania",
          "Poland to Romania",
          "Poland to Romania",
          "Poland to Romania",
          "Poland to Romania",
          "Poland to Romania",
          "Poland to Romania",
          "Poland to Romania"
         ],
         "type": "scatter",
         "x": [
          0.22293282179446938,
          0.14531671163554213,
          null,
          0.14531671163554213,
          0.1775819129113984,
          null,
          0.14531671163554213,
          0.16143889903612824,
          null
         ],
         "y": [
          -0.12014458837592923,
          -0.21678356126876414,
          null,
          -0.21678356126876414,
          -0.19314296814371706,
          null,
          -0.21678356126876414,
          -0.18017760642401348,
          null
         ]
        },
        {
         "hoverinfo": "text",
         "line": {
          "color": "white",
          "width": 2
         },
         "mode": "lines",
         "opacity": 0.5,
         "text": [
          "Poland to Germany",
          "Poland to Germany",
          "Poland to Germany",
          "Poland to Germany",
          "Poland to Germany",
          "Poland to Germany",
          "Poland to Germany",
          "Poland to Germany",
          "Poland to Germany"
         ],
         "type": "scatter",
         "x": [
          0.19910675967865002,
          0.1766086561835289,
          null,
          0.1766086561835289,
          0.2110643291646233,
          null,
          0.1766086561835289,
          0.21660283460644122,
          null
         ],
         "y": [
          -0.04618745437125511,
          -0.03994126342628215,
          null,
          -0.03994126342628215,
          -0.060250644059873085,
          null,
          -0.03994126342628215,
          -0.040301866499552384,
          null
         ]
        },
        {
         "hoverinfo": "text",
         "line": {
          "color": "white",
          "width": 2
         },
         "mode": "lines",
         "opacity": 0.5,
         "text": [
          "Poland to Slovakia",
          "Poland to Slovakia",
          "Poland to Slovakia",
          "Poland to Slovakia",
          "Poland to Slovakia",
          "Poland to Slovakia",
          "Poland to Slovakia",
          "Poland to Slovakia",
          "Poland to Slovakia"
         ],
         "type": "scatter",
         "x": [
          0.3290211023832103,
          0.48611359502937185,
          null,
          0.48611359502937185,
          0.4572637826206636,
          null,
          0.48611359502937185,
          0.44727492910277056,
          null
         ],
         "y": [
          -0.09915137827181789,
          -0.18566896036828714,
          null,
          -0.18566896036828714,
          -0.1579609693957984,
          null,
          -0.18566896036828714,
          -0.17609804250263617,
          null
         ]
        },
        {
         "hoverinfo": "text",
         "line": {
          "color": "white",
          "width": 2
         },
         "mode": "lines",
         "opacity": 0.5,
         "text": [
          "Poland to Serbia",
          "Poland to Serbia",
          "Poland to Serbia",
          "Poland to Serbia",
          "Poland to Serbia",
          "Poland to Serbia",
          "Poland to Serbia",
          "Poland to Serbia",
          "Poland to Serbia"
         ],
         "type": "scatter",
         "x": [
          0.31095349375198844,
          0.6276073852706698,
          null,
          0.6276073852706698,
          0.5955258918714587,
          null,
          0.6276073852706698,
          0.6117696781604104,
          null
         ],
         "y": [
          -0.009674580651490308,
          0.3909245220972122,
          null,
          0.3909245220972122,
          0.36703315976761164,
          null,
          0.3909245220972122,
          0.35419324868915397,
          null
         ]
        },
        {
         "hoverinfo": "text",
         "line": {
          "color": "white",
          "width": 2
         },
         "mode": "lines",
         "opacity": 0.5,
         "text": [
          "Poland to Denmark",
          "Poland to Denmark",
          "Poland to Denmark",
          "Poland to Denmark",
          "Poland to Denmark",
          "Poland to Denmark",
          "Poland to Denmark",
          "Poland to Denmark",
          "Poland to Denmark"
         ],
         "type": "scatter",
         "x": [
          0.19943309331027226,
          -0.229491439788846,
          null,
          -0.229491439788846,
          -0.18950488501686924,
          null,
          -0.229491439788846,
          -0.19537758642002928,
          null
         ],
         "y": [
          -0.08511202482583521,
          -0.21197827303370156,
          null,
          -0.21197827303370156,
          -0.21094723528663548,
          null,
          -0.21197827303370156,
          -0.19109209076649325,
          null
         ]
        },
        {
         "hoverinfo": "text",
         "line": {
          "color": "white",
          "width": 2
         },
         "mode": "lines",
         "opacity": 0.5,
         "text": [
          "United Kingdom to Netherlands",
          "United Kingdom to Netherlands",
          "United Kingdom to Netherlands",
          "United Kingdom to Netherlands",
          "United Kingdom to Netherlands",
          "United Kingdom to Netherlands",
          "United Kingdom to Netherlands",
          "United Kingdom to Netherlands",
          "United Kingdom to Netherlands"
         ],
         "type": "scatter",
         "x": [
          -0.10761145232439585,
          -0.09887074641049585,
          null,
          -0.09887074641049585,
          -0.1294608731867572,
          null,
          -0.09887074641049585,
          -0.1382568999321484,
          null
         ],
         "y": [
          0.06444453003444009,
          0.06034399680808955,
          null,
          0.06034399680808955,
          0.08613265006493684,
          null,
          0.06034399680808955,
          0.06738256226977692,
          null
         ]
        },
        {
         "hoverinfo": "text",
         "line": {
          "color": "white",
          "width": 2
         },
         "mode": "lines",
         "opacity": 0.5,
         "text": [
          "United Kingdom to Germany",
          "United Kingdom to Germany",
          "United Kingdom to Germany",
          "United Kingdom to Germany",
          "United Kingdom to Germany",
          "United Kingdom to Germany",
          "United Kingdom to Germany",
          "United Kingdom to Germany",
          "United Kingdom to Germany"
         ],
         "type": "scatter",
         "x": [
          -0.10625703943925105,
          0.04326455097567328,
          null,
          0.04326455097567328,
          0.011490156970335279,
          null,
          0.04326455097567328,
          0.003597675375620668,
          null
         ],
         "y": [
          0.0675198251446673,
          0.0058721683710019484,
          null,
          0.0058721683710019484,
          0.0301710547741498,
          null,
          0.0058721683710019484,
          0.01102842427713128,
          null
         ]
        },
        {
         "hoverinfo": "text",
         "line": {
          "color": "white",
          "width": 2
         },
         "mode": "lines",
         "opacity": 0.5,
         "text": [
          "United Kingdom to Ireland",
          "United Kingdom to Ireland",
          "United Kingdom to Ireland",
          "United Kingdom to Ireland",
          "United Kingdom to Ireland",
          "United Kingdom to Ireland",
          "United Kingdom to Ireland",
          "United Kingdom to Ireland",
          "United Kingdom to Ireland"
         ],
         "type": "scatter",
         "x": [
          -0.16908645034178782,
          -0.17158016821939448,
          null,
          -0.17158016821939448,
          -0.1598952483897189,
          null,
          -0.17158016821939448,
          -0.1805716127992623,
          null
         ],
         "y": [
          0.16502214139935567,
          0.09357963822655924,
          null,
          0.09357963822655924,
          0.131801402213662,
          null,
          0.09357963822655924,
          0.1325231167316812,
          null
         ]
        },
        {
         "hoverinfo": "text",
         "line": {
          "color": "white",
          "width": 2
         },
         "mode": "lines",
         "opacity": 0.5,
         "text": [
          "United Kingdom to France",
          "United Kingdom to France",
          "United Kingdom to France",
          "United Kingdom to France",
          "United Kingdom to France",
          "United Kingdom to France",
          "United Kingdom to France",
          "United Kingdom to France",
          "United Kingdom to France"
         ],
         "type": "scatter",
         "x": [
          -0.10864784536589188,
          -0.04072755766346876,
          null,
          -0.04072755766346876,
          -0.070433439668461,
          null,
          -0.04072755766346876,
          -0.07984823223900595,
          null
         ],
         "y": [
          0.06232793402402106,
          0.027654007010609192,
          null,
          0.027654007010609192,
          0.054443259245390986,
          null,
          0.027654007010609192,
          0.03600123899182316,
          null
         ]
        },
        {
         "hoverinfo": "text",
         "line": {
          "color": "white",
          "width": 2
         },
         "mode": "lines",
         "opacity": 0.5,
         "text": [
          "United Kingdom to Belgium",
          "United Kingdom to Belgium",
          "United Kingdom to Belgium",
          "United Kingdom to Belgium",
          "United Kingdom to Belgium",
          "United Kingdom to Belgium",
          "United Kingdom to Belgium",
          "United Kingdom to Belgium",
          "United Kingdom to Belgium"
         ],
         "type": "scatter",
         "x": [
          -0.10140974246911444,
          -0.02981721793361125,
          null,
          -0.02981721793361125,
          -0.06697991876322182,
          null,
          -0.02981721793361125,
          -0.06940141608650437,
          null
         ],
         "y": [
          0.08618081095335361,
          0.07775050118327642,
          null,
          0.07775050118327642,
          0.09255121150569508,
          null,
          0.07775050118327642,
          0.07198694190174028,
          null
         ]
        },
        {
         "hoverinfo": "text",
         "line": {
          "color": "white",
          "width": 2
         },
         "mode": "lines",
         "opacity": 0.5,
         "text": [
          "United Kingdom to Luxembourg",
          "United Kingdom to Luxembourg",
          "United Kingdom to Luxembourg",
          "United Kingdom to Luxembourg",
          "United Kingdom to Luxembourg",
          "United Kingdom to Luxembourg",
          "United Kingdom to Luxembourg",
          "United Kingdom to Luxembourg",
          "United Kingdom to Luxembourg"
         ],
         "type": "scatter",
         "x": [
          -0.10549293526994527,
          -0.0002918161099139671,
          null,
          -0.0002918161099139671,
          -0.040093331916858294,
          null,
          -0.0002918161099139671,
          -0.03276769287487531,
          null
         ],
         "y": [
          0.1194268684046799,
          0.1592201591496859,
          null,
          0.1592201591496859,
          0.15523366508372524,
          null,
          0.1592201591496859,
          0.1358669961130559,
          null
         ]
        },
        {
         "hoverinfo": "text",
         "line": {
          "color": "white",
          "width": 2
         },
         "mode": "lines",
         "opacity": 0.5,
         "text": [
          "United Kingdom to Denmark",
          "United Kingdom to Denmark",
          "United Kingdom to Denmark",
          "United Kingdom to Denmark",
          "United Kingdom to Denmark",
          "United Kingdom to Denmark",
          "United Kingdom to Denmark",
          "United Kingdom to Denmark",
          "United Kingdom to Denmark"
         ],
         "type": "scatter",
         "x": [
          -0.19692208682064083,
          -0.2718441639836896,
          null,
          -0.2718441639836896,
          -0.24830283294084168,
          null,
          -0.2718441639836896,
          -0.2676255855059436,
          null
         ],
         "y": [
          0.028529925233958225,
          -0.1660995117802885,
          null,
          -0.1660995117802885,
          -0.13376188729176947,
          null,
          -0.1660995117802885,
          -0.1263236419537653,
          null
         ]
        },
        {
         "hoverinfo": "text",
         "line": {
          "color": "white",
          "width": 2
         },
         "mode": "lines",
         "opacity": 0.5,
         "text": [
          "Slovakia to Hungary",
          "Slovakia to Hungary",
          "Slovakia to Hungary",
          "Slovakia to Hungary",
          "Slovakia to Hungary",
          "Slovakia to Hungary",
          "Slovakia to Hungary",
          "Slovakia to Hungary",
          "Slovakia to Hungary"
         ],
         "type": "scatter",
         "x": [
          0.527062311411315,
          0.49446571365139663,
          null,
          0.49446571365139663,
          0.49601903128493186,
          null,
          0.49446571365139663,
          0.5157945934918413,
          null
         ],
         "y": [
          -0.1522825852288136,
          -0.04714681090885886,
          null,
          -0.04714681090885886,
          -0.08711414552817259,
          null,
          -0.04714681090885886,
          -0.08098287919397021,
          null
         ]
        },
        {
         "hoverinfo": "text",
         "line": {
          "color": "white",
          "width": 2
         },
         "mode": "lines",
         "opacity": 0.5,
         "text": [
          "Slovakia to Czech Republic",
          "Slovakia to Czech Republic",
          "Slovakia to Czech Republic",
          "Slovakia to Czech Republic",
          "Slovakia to Czech Republic",
          "Slovakia to Czech Republic",
          "Slovakia to Czech Republic",
          "Slovakia to Czech Republic",
          "Slovakia to Czech Republic"
         ],
         "type": "scatter",
         "x": [
          0.47984110255453327,
          0.40006365650954867,
          null,
          0.40006365650954867,
          0.4346135536686024,
          null,
          0.40006365650954867,
          0.4400620672226686,
          null
         ],
         "y": [
          -0.20115480730435428,
          -0.179394454811993,
          null,
          -0.179394454811993,
          -0.1995490989624723,
          null,
          -0.179394454811993,
          -0.17957394007101665,
          null
         ]
        },
        {
         "hoverinfo": "text",
         "line": {
          "color": "white",
          "width": 2
         },
         "mode": "lines",
         "opacity": 0.5,
         "text": [
          "Slovenia to Algeria",
          "Slovenia to Algeria",
          "Slovenia to Algeria",
          "Slovenia to Algeria",
          "Slovenia to Algeria",
          "Slovenia to Algeria",
          "Slovenia to Algeria",
          "Slovenia to Algeria",
          "Slovenia to Algeria"
         ],
         "type": "scatter",
         "x": [
          -0.052238301099491666,
          -0.7145010494270836,
          null,
          -0.7145010494270836,
          -0.6843266326266214,
          null,
          -0.7145010494270836,
          -0.6752401298374352,
          null
         ],
         "y": [
          0.2666853458994572,
          0.5901255189684477,
          null,
          0.5901255189684477,
          0.5638673027763115,
          null,
          0.5901255189684477,
          0.5824724450882249,
          null
         ]
        },
        {
         "hoverinfo": "text",
         "line": {
          "color": "white",
          "width": 2
         },
         "mode": "lines",
         "opacity": 0.5,
         "text": [
          "Slovenia to The former Yugoslav Republic of Macedonia",
          "Slovenia to The former Yugoslav Republic of Macedonia",
          "Slovenia to The former Yugoslav Republic of Macedonia",
          "Slovenia to The former Yugoslav Republic of Macedonia",
          "Slovenia to The former Yugoslav Republic of Macedonia",
          "Slovenia to The former Yugoslav Republic of Macedonia",
          "Slovenia to The former Yugoslav Republic of Macedonia",
          "Slovenia to The former Yugoslav Republic of Macedonia",
          "Slovenia to The former Yugoslav Republic of Macedonia"
         ],
         "type": "scatter",
         "x": [
          0.011589031627987573,
          0.014749923301363285,
          null,
          0.014749923301363285,
          0.024908547374507678,
          null,
          0.014749923301363285,
          0.004190191846209076,
          null
         ],
         "y": [
          0.16506781595703812,
          -0.44426119747262766,
          null,
          -0.44426119747262766,
          -0.40554648153264083,
          null,
          -0.44426119747262766,
          -0.40565395793172854,
          null
         ]
        },
        {
         "hoverinfo": "text",
         "line": {
          "color": "white",
          "width": 2
         },
         "mode": "lines",
         "opacity": 0.5,
         "text": [
          "Slovenia to Germany",
          "Slovenia to Germany",
          "Slovenia to Germany",
          "Slovenia to Germany",
          "Slovenia to Germany",
          "Slovenia to Germany",
          "Slovenia to Germany",
          "Slovenia to Germany",
          "Slovenia to Germany"
         ],
         "type": "scatter",
         "x": [
          0.03625906957995489,
          0.08352124431018992,
          null,
          0.08352124431018992,
          0.07950474249876399,
          null,
          0.08352124431018992,
          0.060143067145864815,
          null
         ],
         "y": [
          0.1696534730574199,
          0.04499026014619102,
          null,
          0.04499026014619102,
          0.08478982926875911,
          null,
          0.04499026014619102,
          0.07744944716029675,
          null
         ]
        },
        {
         "hoverinfo": "text",
         "line": {
          "color": "white",
          "width": 2
         },
         "mode": "lines",
         "opacity": 0.5,
         "text": [
          "Slovenia to Hungary",
          "Slovenia to Hungary",
          "Slovenia to Hungary",
          "Slovenia to Hungary",
          "Slovenia to Hungary",
          "Slovenia to Hungary",
          "Slovenia to Hungary",
          "Slovenia to Hungary",
          "Slovenia to Hungary"
         ],
         "type": "scatter",
         "x": [
          0.07524156680635294,
          0.4095322021545155,
          null,
          0.4095322021545155,
          0.3788808154715156,
          null,
          0.4095322021545155,
          0.3701370921377224,
          null
         ],
         "y": [
          0.20586785802842705,
          0.05013436489861217,
          null,
          0.05013436489861217,
          0.07583482587480249,
          null,
          0.05013436489861217,
          0.05706592365146364,
          null
         ]
        },
        {
         "hoverinfo": "text",
         "line": {
          "color": "white",
          "width": 2
         },
         "mode": "lines",
         "opacity": 0.5,
         "text": [
          "Slovenia to Croatia",
          "Slovenia to Croatia",
          "Slovenia to Croatia",
          "Slovenia to Croatia",
          "Slovenia to Croatia",
          "Slovenia to Croatia",
          "Slovenia to Croatia",
          "Slovenia to Croatia",
          "Slovenia to Croatia"
         ],
         "type": "scatter",
         "x": [
          0.08168418872074948,
          0.6476428182719047,
          null,
          0.6476428182719047,
          0.6083911806017869,
          null,
          0.6476428182719047,
          0.6097991902151747,
          null
         ],
         "y": [
          0.240494464797708,
          0.27906973869084806,
          null,
          0.27906973869084806,
          0.2867711640793795,
          null,
          0.27906973869084806,
          0.2661135498876078,
          null
         ]
        },
        {
         "hoverinfo": "text",
         "line": {
          "color": "white",
          "width": 2
         },
         "mode": "lines",
         "opacity": 0.5,
         "text": [
          "The former Yugoslav Republic of Macedonia to Germany",
          "The former Yugoslav Republic of Macedonia to Germany",
          "The former Yugoslav Republic of Macedonia to Germany",
          "The former Yugoslav Republic of Macedonia to Germany",
          "The former Yugoslav Republic of Macedonia to Germany",
          "The former Yugoslav Republic of Macedonia to Germany",
          "The former Yugoslav Republic of Macedonia to Germany",
          "The former Yugoslav Republic of Macedonia to Germany",
          "The former Yugoslav Republic of Macedonia to Germany"
         ],
         "type": "scatter",
         "x": [
          0.028246609365456192,
          0.09542732011533459,
          null,
          0.09542732011533459,
          0.07807129604858559,
          null,
          0.09542732011533459,
          0.09841643192765878,
          null
         ],
         "y": [
          -0.44549155000828966,
          -0.09044182972944378,
          null,
          -0.09044182972944378,
          -0.12648156885508965,
          null,
          -0.09044182972944378,
          -0.13033117139139158,
          null
         ]
        },
        {
         "hoverinfo": "text",
         "line": {
          "color": "white",
          "width": 2
         },
         "mode": "lines",
         "opacity": 0.5,
         "text": [
          "The former Yugoslav Republic of Macedonia to Romania",
          "The former Yugoslav Republic of Macedonia to Romania",
          "The former Yugoslav Republic of Macedonia to Romania",
          "The former Yugoslav Republic of Macedonia to Romania",
          "The former Yugoslav Republic of Macedonia to Romania",
          "The former Yugoslav Republic of Macedonia to Romania",
          "The former Yugoslav Republic of Macedonia to Romania",
          "The former Yugoslav Republic of Macedonia to Romania",
          "The former Yugoslav Republic of Macedonia to Romania"
         ],
         "type": "scatter",
         "x": [
          0.03866980587438297,
          0.07753824117424041,
          null,
          0.07753824117424041,
          0.05489154703204827,
          null,
          0.07753824117424041,
          0.07441266152129036,
          null
         ],
         "y": [
          -0.4483035508572587,
          -0.3384292607276308,
          null,
          -0.3384292607276308,
          -0.37140332629948,
          null,
          -0.3384292607276308,
          -0.3783089862500021,
          null
         ]
        },
        {
         "hoverinfo": "text",
         "line": {
          "color": "white",
          "width": 2
         },
         "mode": "lines",
         "opacity": 0.5,
         "text": [
          "India to Italy",
          "India to Italy",
          "India to Italy",
          "India to Italy",
          "India to Italy",
          "India to Italy",
          "India to Italy",
          "India to Italy",
          "India to Italy"
         ],
         "type": "scatter",
         "x": [
          -0.17175275038522536,
          -0.026406127250315596,
          null,
          -0.026406127250315596,
          -0.060645712004570786,
          null,
          -0.026406127250315596,
          -0.06639896199102502,
          null
         ],
         "y": [
          0.039977615363957,
          -0.0020633960734305207,
          null,
          -0.0020633960734305207,
          0.01861757298355758,
          null,
          -0.0020633960734305207,
          -0.0012729438723265043,
          null
         ]
        },
        {
         "hoverinfo": "text",
         "line": {
          "color": "white",
          "width": 2
         },
         "mode": "lines",
         "opacity": 0.5,
         "text": [
          "India to Turkey",
          "India to Turkey",
          "India to Turkey",
          "India to Turkey",
          "India to Turkey",
          "India to Turkey",
          "India to Turkey",
          "India to Turkey",
          "India to Turkey"
         ],
         "type": "scatter",
         "x": [
          -0.17977551700036123,
          -0.112456119582861,
          null,
          -0.112456119582861,
          -0.1396805601006067,
          null,
          -0.112456119582861,
          -0.15068695166909588,
          null
         ],
         "y": [
          0.022060407204256872,
          -0.020185935617210653,
          null,
          -0.020185935617210653,
          0.009121614370886797,
          null,
          -0.020185935617210653,
          -0.008417073063708789,
          null
         ]
        },
        {
         "hoverinfo": "text",
         "line": {
          "color": "white",
          "width": 2
         },
         "mode": "lines",
         "opacity": 0.5,
         "text": [
          "India to Romania",
          "India to Romania",
          "India to Romania",
          "India to Romania",
          "India to Romania",
          "India to Romania",
          "India to Romania",
          "India to Romania",
          "India to Romania"
         ],
         "type": "scatter",
         "x": [
          -0.18897558020795238,
          0.05047062638007537,
          null,
          0.05047062638007537,
          0.029996174285782815,
          null,
          0.05047062638007537,
          0.015557664207446247,
          null
         ],
         "y": [
          0.010352987601069806,
          -0.22259930271248954,
          null,
          -0.22259930271248954,
          -0.188236169651681,
          null,
          -0.22259930271248954,
          -0.2030771825753507,
          null
         ]
        },
        {
         "hoverinfo": "text",
         "line": {
          "color": "white",
          "width": 2
         },
         "mode": "lines",
         "opacity": 0.5,
         "text": [
          "India to Ireland",
          "India to Ireland",
          "India to Ireland",
          "India to Ireland",
          "India to Ireland",
          "India to Ireland",
          "India to Ireland",
          "India to Ireland",
          "India to Ireland"
         ],
         "type": "scatter",
         "x": [
          -0.2001216779132664,
          -0.20859152358004773,
          null,
          -0.20859152358004773,
          -0.17841797943056217,
          null,
          -0.20859152358004773,
          -0.19558322753540003,
          null
         ],
         "y": [
          0.11816413871716035,
          0.10559876412882167,
          null,
          0.10559876412882167,
          0.13184428355085787,
          null,
          0.10559876412882167,
          0.14341482275856568,
          null
         ]
        },
        {
         "hoverinfo": "text",
         "line": {
          "color": "white",
          "width": 2
         },
         "mode": "lines",
         "opacity": 0.5,
         "text": [
          "India to Germany",
          "India to Germany",
          "India to Germany",
          "India to Germany",
          "India to Germany",
          "India to Germany",
          "India to Germany",
          "India to Germany",
          "India to Germany"
         ],
         "type": "scatter",
         "x": [
          -0.170793613907388,
          0.03975454251167841,
          null,
          0.03975454251167841,
          0.004450138956462728,
          null,
          0.03975454251167841,
          -0.0002225744918167849,
          null
         ],
         "y": [
          0.04366312450570799,
          -0.005110007769971628,
          null,
          -0.005110007769971628,
          0.01369520554846989,
          null,
          -0.005110007769971628,
          -0.006476417090223654,
          null
         ]
        },
        {
         "hoverinfo": "text",
         "line": {
          "color": "white",
          "width": 2
         },
         "mode": "lines",
         "opacity": 0.5,
         "text": [
          "India to United States",
          "India to United States",
          "India to United States",
          "India to United States",
          "India to United States",
          "India to United States",
          "India to United States",
          "India to United States",
          "India to United States"
         ],
         "type": "scatter",
         "x": [
          -0.16900565652058444,
          0.017810155964790547,
          null,
          0.017810155964790547,
          -0.021128982119403936,
          null,
          0.017810155964790547,
          -0.020487128276210832,
          null
         ],
         "y": [
          0.06179054153172015,
          0.0675843973337038,
          null,
          0.0675843973337038,
          0.0767344002509415,
          null,
          0.0675843973337038,
          0.05603896326263613,
          null
         ]
        },
        {
         "hoverinfo": "text",
         "line": {
          "color": "white",
          "width": 2
         },
         "mode": "lines",
         "opacity": 0.5,
         "text": [
          "India to Algeria",
          "India to Algeria",
          "India to Algeria",
          "India to Algeria",
          "India to Algeria",
          "India to Algeria",
          "India to Algeria",
          "India to Algeria",
          "India to Algeria"
         ],
         "type": "scatter",
         "x": [
          -0.28847408398739904,
          -0.7290846518250307,
          null,
          -0.7290846518250307,
          -0.7098182057627803,
          null,
          -0.7290846518250307,
          -0.6948723778839316,
          null
         ],
         "y": [
          0.11058059296513753,
          0.5701396554348928,
          null,
          0.5701396554348928,
          0.5350855710137975,
          null,
          0.5701396554348928,
          0.5494151508509452,
          null
         ]
        },
        {
         "hoverinfo": "text",
         "line": {
          "color": "white",
          "width": 2
         },
         "mode": "lines",
         "opacity": 0.5,
         "text": [
          "India to Spain",
          "India to Spain",
          "India to Spain",
          "India to Spain",
          "India to Spain",
          "India to Spain",
          "India to Spain",
          "India to Spain",
          "India to Spain"
         ],
         "type": "scatter",
         "x": [
          -0.18843240698430724,
          -0.10245156777476579,
          null,
          -0.10245156777476579,
          -0.12330627511652337,
          null,
          -0.10245156777476579,
          -0.13757949072665082,
          null
         ],
         "y": [
          0.010917533824037658,
          -0.07089470638082973,
          null,
          -0.07089470638082973,
          -0.036760273169963456,
          null,
          -0.07089470638082973,
          -0.051760773747315095,
          null
         ]
        },
        {
         "hoverinfo": "text",
         "line": {
          "color": "white",
          "width": 2
         },
         "mode": "lines",
         "opacity": 0.5,
         "text": [
          "India to United Kingdom",
          "India to United Kingdom",
          "India to United Kingdom",
          "India to United Kingdom",
          "India to United Kingdom",
          "India to United Kingdom",
          "India to United Kingdom",
          "India to United Kingdom",
          "India to United Kingdom"
         ],
         "type": "scatter",
         "x": [
          -0.176732061821805,
          -0.2344147864790671,
          null,
          -0.2344147864790671,
          -0.1953063962438104,
          null,
          -0.2344147864790671,
          -0.20474216645160134,
          null
         ],
         "y": [
          0.09178705245500358,
          0.06225432281493505,
          null,
          0.06225432281493505,
          0.07064680164969869,
          null,
          0.06225432281493505,
          0.08907661780419193,
          null
         ]
        },
        {
         "hoverinfo": "text",
         "line": {
          "color": "white",
          "width": 2
         },
         "mode": "lines",
         "opacity": 0.5,
         "text": [
          "India to Netherlands",
          "India to Netherlands",
          "India to Netherlands",
          "India to Netherlands",
          "India to Netherlands",
          "India to Netherlands",
          "India to Netherlands",
          "India to Netherlands",
          "India to Netherlands"
         ],
         "type": "scatter",
         "x": [
          -0.16968225215585708,
          -0.10484652951116646,
          null,
          -0.10484652951116646,
          -0.1416315628311971,
          null,
          -0.10484652951116646,
          -0.14456133332771678,
          null
         ],
         "y": [
          0.04960833055174054,
          0.040341319510856205,
          null,
          0.040341319510856205,
          0.0560573804755497,
          null,
          0.040341319510856205,
          0.03555931089369042,
          null
         ]
        },
        {
         "hoverinfo": "text",
         "line": {
          "color": "white",
          "width": 2
         },
         "mode": "lines",
         "opacity": 0.5,
         "text": [
          "India to Lebanon",
          "India to Lebanon",
          "India to Lebanon",
          "India to Lebanon",
          "India to Lebanon",
          "India to Lebanon",
          "India to Lebanon",
          "India to Lebanon",
          "India to Lebanon"
         ],
         "type": "scatter",
         "x": [
          -0.31021109076377074,
          -0.9293856248527312,
          null,
          -0.9293856248527312,
          -0.890574598596597,
          null,
          -0.9293856248527312,
          -0.8909337401927342,
          null
         ],
         "y": [
          0.05837624003655158,
          0.047634878885714355,
          null,
          0.047634878885714355,
          0.037953778935234356,
          null,
          0.047634878885714355,
          0.05865631352008948,
          null
         ]
        },
        {
         "hoverinfo": "text",
         "line": {
          "color": "white",
          "width": 2
         },
         "mode": "lines",
         "opacity": 0.5,
         "text": [
          "Denmark to Germany",
          "Denmark to Germany",
          "Denmark to Germany",
          "Denmark to Germany",
          "Denmark to Germany",
          "Denmark to Germany",
          "Denmark to Germany",
          "Denmark to Germany",
          "Denmark to Germany"
         ],
         "type": "scatter",
         "x": [
          -0.2345538542602254,
          0.045895380361057475,
          null,
          0.045895380361057475,
          0.006838747826127596,
          null,
          0.045895380361057475,
          0.016389911321252382,
          null
         ],
         "y": [
          -0.19943163231823446,
          -0.05362621276229809,
          null,
          -0.05362621276229809,
          -0.062263346605734085,
          null,
          -0.05362621276229809,
          -0.08063450635406494,
          null
         ]
        },
        {
         "hoverinfo": "text",
         "line": {
          "color": "white",
          "width": 2
         },
         "mode": "lines",
         "opacity": 0.5,
         "text": [
          "Bosnia and Herzegovina to Montenegro",
          "Bosnia and Herzegovina to Montenegro",
          "Bosnia and Herzegovina to Montenegro",
          "Bosnia and Herzegovina to Montenegro",
          "Bosnia and Herzegovina to Montenegro",
          "Bosnia and Herzegovina to Montenegro",
          "Bosnia and Herzegovina to Montenegro",
          "Bosnia and Herzegovina to Montenegro",
          "Bosnia and Herzegovina to Montenegro"
         ],
         "type": "scatter",
         "x": [
          0.2674289255388753,
          0.24165068113510701,
          null,
          0.24165068113510701,
          0.24401812188502178,
          null,
          0.24165068113510701,
          0.2636643042141179,
          null
         ],
         "y": [
          0.712677658254956,
          0.7901998143444531,
          null,
          0.7901998143444531,
          0.7502730958491927,
          null,
          0.7901998143444531,
          0.756805982212765,
          null
         ]
        },
        {
         "hoverinfo": "text",
         "line": {
          "color": "white",
          "width": 2
         },
         "mode": "lines",
         "opacity": 0.5,
         "text": [
          "Bosnia and Herzegovina to Serbia",
          "Bosnia and Herzegovina to Serbia",
          "Bosnia and Herzegovina to Serbia",
          "Bosnia and Herzegovina to Serbia",
          "Bosnia and Herzegovina to Serbia",
          "Bosnia and Herzegovina to Serbia",
          "Bosnia and Herzegovina to Serbia",
          "Bosnia and Herzegovina to Serbia",
          "Bosnia and Herzegovina to Serbia"
         ],
         "type": "scatter",
         "x": [
          0.35231630336110586,
          0.6088007022304066,
          null,
          0.6088007022304066,
          0.5793447425580516,
          null,
          0.6088007022304066,
          0.56975989019947,
          null
         ],
         "y": [
          0.6129677576158843,
          0.4790234846045636,
          null,
          0.4790234846045636,
          0.5060858899282179,
          null,
          0.4790234846045636,
          0.4877322352661819,
          null
         ]
        },
        {
         "hoverinfo": "text",
         "line": {
          "color": "white",
          "width": 2
         },
         "mode": "lines",
         "opacity": 0.5,
         "text": [
          "Czech Republic to Germany",
          "Czech Republic to Germany",
          "Czech Republic to Germany",
          "Czech Republic to Germany",
          "Czech Republic to Germany",
          "Czech Republic to Germany",
          "Czech Republic to Germany",
          "Czech Republic to Germany",
          "Czech Republic to Germany"
         ],
         "type": "scatter",
         "x": [
          0.27205663365327737,
          0.16842884386040136,
          null,
          0.16842884386040136,
          0.19569084251464772,
          null,
          0.16842884386040136,
          0.20667328919531633,
          null
         ],
         "y": [
          -0.1233484612789703,
          -0.05850917999480924,
          null,
          -0.05850917999480924,
          -0.08777890387961014,
          null,
          -0.05850917999480924,
          -0.07022650511367978,
          null
         ]
        },
        {
         "hoverinfo": "text",
         "line": {
          "color": "white",
          "width": 2
         },
         "mode": "lines",
         "opacity": 0.5,
         "text": [
          "Czech Republic to Slovakia",
          "Czech Republic to Slovakia",
          "Czech Republic to Slovakia",
          "Czech Republic to Slovakia",
          "Czech Republic to Slovakia",
          "Czech Republic to Slovakia",
          "Czech Republic to Slovakia",
          "Czech Republic to Slovakia",
          "Czech Republic to Slovakia"
         ],
         "type": "scatter",
         "x": [
          0.40006365650954867,
          0.47984110255453327,
          null,
          0.47984110255453327,
          0.44528910844061,
          null,
          0.47984110255453327,
          0.43984031822611025,
          null
         ],
         "y": [
          -0.179394454811993,
          -0.20115480730435428,
          null,
          -0.20115480730435428,
          -0.1809990479556442,
          null,
          -0.20115480730435428,
          -0.20097540473276732,
          null
         ]
        },
        {
         "hoverinfo": "text",
         "line": {
          "color": "white",
          "width": 2
         },
         "mode": "lines",
         "opacity": 0.5,
         "text": [
          "Czech Republic to Austria",
          "Czech Republic to Austria",
          "Czech Republic to Austria",
          "Czech Republic to Austria",
          "Czech Republic to Austria",
          "Czech Republic to Austria",
          "Czech Republic to Austria",
          "Czech Republic to Austria",
          "Czech Republic to Austria"
         ],
         "type": "scatter",
         "x": [
          0.31302659811297384,
          0.2854265906646056,
          null,
          0.2854265906646056,
          0.28579179281690126,
          null,
          0.2854265906646056,
          0.30574056202629085,
          null
         ],
         "y": [
          -0.09276074732336967,
          0.00660558004891823,
          null,
          0.00660558004891823,
          -0.0333898139916427,
          null,
          0.00660558004891823,
          -0.027848846148428447,
          null
         ]
        },
        {
         "hoverinfo": "text",
         "line": {
          "color": "white",
          "width": 2
         },
         "mode": "lines",
         "opacity": 0.5,
         "text": [
          "Czech Republic to Romania",
          "Czech Republic to Romania",
          "Czech Republic to Romania",
          "Czech Republic to Romania",
          "Czech Republic to Romania",
          "Czech Republic to Romania",
          "Czech Republic to Romania",
          "Czech Republic to Romania",
          "Czech Republic to Romania"
         ],
         "type": "scatter",
         "x": [
          0.2682832534605228,
          0.1647363416209885,
          null,
          0.1647363416209885,
          0.20404163717536108,
          null,
          0.1647363416209885,
          0.19506633395798034,
          null
         ],
         "y": [
          -0.1914241798057296,
          -0.24123289331520603,
          null,
          -0.24123289331520603,
          -0.23381410908250524,
          null,
          -0.24123289331520603,
          -0.2151553899273054,
          null
         ]
        },
        {
         "hoverinfo": "text",
         "line": {
          "color": "white",
          "width": 2
         },
         "mode": "lines",
         "opacity": 0.5,
         "text": [
          "Czech Republic to Switzerland",
          "Czech Republic to Switzerland",
          "Czech Republic to Switzerland",
          "Czech Republic to Switzerland",
          "Czech Republic to Switzerland",
          "Czech Republic to Switzerland",
          "Czech Republic to Switzerland",
          "Czech Republic to Switzerland",
          "Czech Republic to Switzerland"
         ],
         "type": "scatter",
         "x": [
          0.3275102305824918,
          0.31684313281089854,
          null,
          0.31684313281089854,
          0.30892888200439406,
          null,
          0.31684313281089854,
          0.3295899744709178,
          null
         ],
         "y": [
          -0.09032280497370494,
          0.07988004263970842,
          null,
          0.07988004263970842,
          0.04067847481896108,
          null,
          0.07988004263970842,
          0.04197336363551039,
          null
         ]
        },
        {
         "hoverinfo": "text",
         "line": {
          "color": "white",
          "width": 2
         },
         "mode": "lines",
         "opacity": 0.5,
         "text": [
          "Turkey to United Kingdom",
          "Turkey to United Kingdom",
          "Turkey to United Kingdom",
          "Turkey to United Kingdom",
          "Turkey to United Kingdom",
          "Turkey to United Kingdom",
          "Turkey to United Kingdom",
          "Turkey to United Kingdom",
          "Turkey to United Kingdom"
         ],
         "type": "scatter",
         "x": [
          -0.09612268806074459,
          -0.1280623655903458,
          null,
          -0.1280623655903458,
          -0.11242976476872707,
          null,
          -0.1280623655903458,
          -0.09611616504552138,
          null
         ],
         "y": [
          -0.0020787342226668976,
          0.038792082589646004,
          null,
          0.038792082589646004,
          0.0019761403774837816,
          null,
          0.038792082589646004,
          0.014724841780463023,
          null
         ]
        },
        {
         "hoverinfo": "text",
         "line": {
          "color": "white",
          "width": 2
         },
         "mode": "lines",
         "opacity": 0.5,
         "text": [
          "Turkey to France",
          "Turkey to France",
          "Turkey to France",
          "Turkey to France",
          "Turkey to France",
          "Turkey to France",
          "Turkey to France",
          "Turkey to France",
          "Turkey to France"
         ],
         "type": "scatter",
         "x": [
          0.004895638735937846,
          -0.035355830047648605,
          null,
          -0.035355830047648605,
          0.0021208372337108913,
          null,
          -0.035355830047648605,
          -0.009888495661773283,
          null
         ],
         "y": [
          -0.01676184966706557,
          -0.0454231129811966,
          null,
          -0.0454231129811966,
          -0.03144628992327839,
          null,
          -0.0454231129811966,
          -0.014580495508159583,
          null
         ]
        },
        {
         "hoverinfo": "text",
         "line": {
          "color": "white",
          "width": 2
         },
         "mode": "lines",
         "opacity": 0.5,
         "text": [
          "Turkey to United States",
          "Turkey to United States",
          "Turkey to United States",
          "Turkey to United States",
          "Turkey to United States",
          "Turkey to United States",
          "Turkey to United States",
          "Turkey to United States",
          "Turkey to United States"
         ],
         "type": "scatter",
         "x": [
          -0.00024480457057459576,
          0.03601109866456242,
          null,
          0.03601109866456242,
          0.000405349301789662,
          null,
          0.03601109866456242,
          0.014291499454501123,
          null
         ],
         "y": [
          -0.010364700750389456,
          0.022411612712853878,
          null,
          0.022411612712853878,
          0.0041798441950908795,
          null,
          0.022411612712853878,
          -0.01118043666083262,
          null
         ]
        },
        {
         "hoverinfo": "text",
         "line": {
          "color": "white",
          "width": 2
         },
         "mode": "lines",
         "opacity": 0.5,
         "text": [
          "Turkey to Algeria",
          "Turkey to Algeria",
          "Turkey to Algeria",
          "Turkey to Algeria",
          "Turkey to Algeria",
          "Turkey to Algeria",
          "Turkey to Algeria",
          "Turkey to Algeria",
          "Turkey to Algeria"
         ],
         "type": "scatter",
         "x": [
          -0.10419920256095336,
          -0.7263977386016947,
          null,
          -0.7263977386016947,
          -0.7052626928418163,
          null,
          -0.7263977386016947,
          -0.6911141239342165,
          null
         ],
         "y": [
          -0.009466903138117301,
          0.5728591246351881,
          null,
          0.5728591246351881,
          0.538898868376634,
          null,
          0.5728591246351881,
          0.55401620287619,
          null
         ]
        },
        {
         "hoverinfo": "text",
         "line": {
          "color": "white",
          "width": 2
         },
         "mode": "lines",
         "opacity": 0.5,
         "text": [
          "Turkey to Netherlands",
          "Turkey to Netherlands",
          "Turkey to Netherlands",
          "Turkey to Netherlands",
          "Turkey to Netherlands",
          "Turkey to Netherlands",
          "Turkey to Netherlands",
          "Turkey to Netherlands",
          "Turkey to Netherlands"
         ],
         "type": "scatter",
         "x": [
          -0.038717841650214364,
          -0.04884914536702747,
          null,
          -0.04884914536702747,
          -0.031089176415083106,
          null,
          -0.04884914536702747,
          -0.05138474301051064,
          null
         ],
         "y": [
          0.011513424019234345,
          -0.03889180085959713,
          null,
          -0.03889180085959713,
          -0.003059437007017378,
          null,
          -0.03889180085959713,
          0.001019920990356353,
          null
         ]
        },
        {
         "hoverinfo": "text",
         "line": {
          "color": "white",
          "width": 2
         },
         "mode": "lines",
         "opacity": 0.5,
         "text": [
          "Turkey to Germany",
          "Turkey to Germany",
          "Turkey to Germany",
          "Turkey to Germany",
          "Turkey to Germany",
          "Turkey to Germany",
          "Turkey to Germany",
          "Turkey to Germany",
          "Turkey to Germany"
         ],
         "type": "scatter",
         "x": [
          0.016229774944598638,
          0.039692948309473466,
          null,
          0.039692948309473466,
          -0.00028074351580169993,
          null,
          0.039692948309473466,
          0.004313661621990525,
          null
         ],
         "y": [
          -0.04205692500895003,
          -0.03671798515827314,
          null,
          -0.03671798515827314,
          -0.03519587699078453,
          null,
          -0.03671798515827314,
          -0.055386646730557806,
          null
         ]
        },
        {
         "hoverinfo": "text",
         "line": {
          "color": "white",
          "width": 2
         },
         "mode": "lines",
         "opacity": 0.5,
         "text": [
          "Turkey to Georgia",
          "Turkey to Georgia",
          "Turkey to Georgia",
          "Turkey to Georgia",
          "Turkey to Georgia",
          "Turkey to Georgia",
          "Turkey to Georgia",
          "Turkey to Georgia",
          "Turkey to Georgia"
         ],
         "type": "scatter",
         "x": [
          -0.0716293858685139,
          -0.25210602053084535,
          null,
          -0.25210602053084535,
          -0.23174357143639596,
          null,
          -0.25210602053084535,
          -0.25168597463452924,
          null
         ],
         "y": [
          -0.12574957477844068,
          -0.7720707829881133,
          null,
          -0.7720707829881133,
          -0.7376420783826242,
          null,
          -0.7720707829881133,
          -0.7320734256331447,
          null
         ]
        },
        {
         "hoverinfo": "text",
         "line": {
          "color": "white",
          "width": 2
         },
         "mode": "lines",
         "opacity": 0.5,
         "text": [
          "Turkey to Romania",
          "Turkey to Romania",
          "Turkey to Romania",
          "Turkey to Romania",
          "Turkey to Romania",
          "Turkey to Romania",
          "Turkey to Romania",
          "Turkey to Romania",
          "Turkey to Romania"
         ],
         "type": "scatter",
         "x": [
          -0.011446129594071076,
          0.059902970415975774,
          null,
          0.059902970415975774,
          0.04577907925359097,
          null,
          0.059902970415975774,
          0.0289589688533945,
          null
         ],
         "y": [
          -0.11509727608929662,
          -0.21447706592508264,
          null,
          -0.21447706592508264,
          -0.17705235989374363,
          null,
          -0.21447706592508264,
          -0.18912826535397076,
          null
         ]
        },
        {
         "hoverinfo": "text",
         "line": {
          "color": "white",
          "width": 2
         },
         "mode": "lines",
         "opacity": 0.5,
         "text": [
          "Turkey to Italy",
          "Turkey to Italy",
          "Turkey to Italy",
          "Turkey to Italy",
          "Turkey to Italy",
          "Turkey to Italy",
          "Turkey to Italy",
          "Turkey to Italy",
          "Turkey to Italy"
         ],
         "type": "scatter",
         "x": [
          0.01331592943269122,
          -0.024513012418450462,
          null,
          -0.024513012418450462,
          0.015268802123879016,
          null,
          -0.024513012418450462,
          0.00786178343511993,
          null
         ],
         "y": [
          -0.03246067474131263,
          -0.04695313287112042,
          null,
          -0.04695313287112042,
          -0.042798600573664115,
          null,
          -0.04695313287112042,
          -0.023464295089515596,
          null
         ]
        },
        {
         "hoverinfo": "text",
         "line": {
          "color": "white",
          "width": 2
         },
         "mode": "lines",
         "opacity": 0.5,
         "text": [
          "Turkey to Belgium",
          "Turkey to Belgium",
          "Turkey to Belgium",
          "Turkey to Belgium",
          "Turkey to Belgium",
          "Turkey to Belgium",
          "Turkey to Belgium",
          "Turkey to Belgium",
          "Turkey to Belgium"
         ],
         "type": "scatter",
         "x": [
          -0.01096759418115182,
          -0.001344154503923993,
          null,
          -0.001344154503923993,
          -0.03250437959834604,
          null,
          -0.001344154503923993,
          -0.015782975548177477,
          null
         ],
         "y": [
          -0.0007028835122158475,
          0.012467291965953468,
          null,
          0.012467291965953468,
          -0.012626158984361261,
          null,
          0.012467291965953468,
          -0.02484438657284887,
          null
         ]
        },
        {
         "hoverinfo": "text",
         "line": {
          "color": "white",
          "width": 2
         },
         "mode": "lines",
         "opacity": 0.5,
         "text": [
          "Turkey to Bulgaria",
          "Turkey to Bulgaria",
          "Turkey to Bulgaria",
          "Turkey to Bulgaria",
          "Turkey to Bulgaria",
          "Turkey to Bulgaria",
          "Turkey to Bulgaria",
          "Turkey to Bulgaria",
          "Turkey to Bulgaria"
         ],
         "type": "scatter",
         "x": [
          -0.10779174150089126,
          -0.17344816839672145,
          null,
          -0.17344816839672145,
          -0.1368085305914576,
          null,
          -0.17344816839672145,
          -0.14973986638705314,
          null
         ],
         "y": [
          -0.10183591246653406,
          -0.15434162539470236,
          null,
          -0.15434162539470236,
          -0.13829651516440056,
          null,
          -0.15434162539470236,
          -0.12212633342610749,
          null
         ]
        },
        {
         "hoverinfo": "text",
         "line": {
          "color": "white",
          "width": 2
         },
         "mode": "lines",
         "opacity": 0.5,
         "text": [
          "Turkey to Azerbaijan",
          "Turkey to Azerbaijan",
          "Turkey to Azerbaijan",
          "Turkey to Azerbaijan",
          "Turkey to Azerbaijan",
          "Turkey to Azerbaijan",
          "Turkey to Azerbaijan",
          "Turkey to Azerbaijan",
          "Turkey to Azerbaijan"
         ],
         "type": "scatter",
         "x": [
          -0.10601774569246243,
          -0.6594633835895832,
          null,
          -0.6594633835895832,
          -0.6234809386870341,
          null,
          -0.6594633835895832,
          -0.6370374143469129,
          null
         ],
         "y": [
          -0.10396707014514461,
          -0.5833626117561245,
          null,
          -0.5833626117561245,
          -0.5658911274897023,
          null,
          -0.5833626117561245,
          -0.5502406400883082,
          null
         ]
        },
        {
         "hoverinfo": "text",
         "line": {
          "color": "white",
          "width": 2
         },
         "mode": "lines",
         "opacity": 0.5,
         "text": [
          "Turkey to Spain",
          "Turkey to Spain",
          "Turkey to Spain",
          "Turkey to Spain",
          "Turkey to Spain",
          "Turkey to Spain",
          "Turkey to Spain",
          "Turkey to Spain",
          "Turkey to Spain"
         ],
         "type": "scatter",
         "x": [
          -0.051096464989404365,
          -0.052825715119886964,
          null,
          -0.052825715119886964,
          -0.06232337375942745,
          null,
          -0.052825715119886964,
          -0.04164671031971418,
          null
         ],
         "y": [
          -0.12833501923219404,
          -0.048970180227557586,
          null,
          -0.048970180227557586,
          -0.08777861714453278,
          null,
          -0.048970180227557586,
          -0.0873281017985942,
          null
         ]
        },
        {
         "hoverinfo": "text",
         "line": {
          "color": "white",
          "width": 2
         },
         "mode": "lines",
         "opacity": 0.5,
         "text": [
          "Turkey to Australia",
          "Turkey to Australia",
          "Turkey to Australia",
          "Turkey to Australia",
          "Turkey to Australia",
          "Turkey to Australia",
          "Turkey to Australia",
          "Turkey to Australia",
          "Turkey to Australia"
         ],
         "type": "scatter",
         "x": [
          -0.005097052882155749,
          0.46191644930454145,
          null,
          0.46191644930454145,
          0.42825325184728386,
          null,
          0.46191644930454145,
          0.443566068213254,
          null
         ],
         "y": [
          -0.0054961188168646605,
          0.5076195064674998,
          null,
          0.5076195064674998,
          0.4860139003088811,
          null,
          0.5076195064674998,
          0.47207690394134566,
          null
         ]
        },
        {
         "hoverinfo": "text",
         "line": {
          "color": "white",
          "width": 2
         },
         "mode": "lines",
         "opacity": 0.5,
         "text": [
          "Turkey to Republic of Moldova",
          "Turkey to Republic of Moldova",
          "Turkey to Republic of Moldova",
          "Turkey to Republic of Moldova",
          "Turkey to Republic of Moldova",
          "Turkey to Republic of Moldova",
          "Turkey to Republic of Moldova",
          "Turkey to Republic of Moldova",
          "Turkey to Republic of Moldova"
         ],
         "type": "scatter",
         "x": [
          -0.09521694183245623,
          -0.521198147171224,
          null,
          -0.521198147171224,
          -0.48964344997444337,
          null,
          -0.521198147171224,
          -0.5061620988586585,
          null
         ],
         "y": [
          -0.11407091776134297,
          -0.6777253481298645,
          null,
          -0.6777253481298645,
          -0.6531431059927204,
          null,
          -0.6777253481298645,
          -0.640659153358727,
          null
         ]
        },
        {
         "hoverinfo": "text",
         "line": {
          "color": "white",
          "width": 2
         },
         "mode": "lines",
         "opacity": 0.5,
         "text": [
          "Turkey to Morocco",
          "Turkey to Morocco",
          "Turkey to Morocco",
          "Turkey to Morocco",
          "Turkey to Morocco",
          "Turkey to Morocco",
          "Turkey to Morocco",
          "Turkey to Morocco",
          "Turkey to Morocco"
         ],
         "type": "scatter",
         "x": [
          -0.029881803305549348,
          0.176851600784529,
          null,
          0.176851600784529,
          0.17420473404339043,
          null,
          0.176851600784529,
          0.1546029846691051,
          null
         ],
         "y": [
          -0.1245862292089297,
          -0.7320670246129041,
          null,
          -0.7320670246129041,
          -0.6921543000585726,
          null,
          -0.7320670246129041,
          -0.6988250245851713,
          null
         ]
        },
        {
         "hoverinfo": "text",
         "line": {
          "color": "white",
          "width": 2
         },
         "mode": "lines",
         "opacity": 0.5,
         "text": [
          "Turkey to Lebanon",
          "Turkey to Lebanon",
          "Turkey to Lebanon",
          "Turkey to Lebanon",
          "Turkey to Lebanon",
          "Turkey to Lebanon",
          "Turkey to Lebanon",
          "Turkey to Lebanon",
          "Turkey to Lebanon"
         ],
         "type": "scatter",
         "x": [
          -0.1228370704461008,
          -0.9297978505206195,
          null,
          -0.9297978505206195,
          -0.892523470727674,
          null,
          -0.9297978505206195,
          -0.8902611024443227,
          null
         ],
         "y": [
          -0.05000998859289146,
          0.03869308061219787,
          null,
          0.03869308061219787,
          0.024180704081604533,
          null,
          0.03869308061219787,
          0.04476218376389171,
          null
         ]
        },
        {
         "hoverinfo": "text",
         "line": {
          "color": "white",
          "width": 2
         },
         "mode": "lines",
         "opacity": 0.5,
         "text": [
          "Turkey to Portugal",
          "Turkey to Portugal",
          "Turkey to Portugal",
          "Turkey to Portugal",
          "Turkey to Portugal",
          "Turkey to Portugal",
          "Turkey to Portugal",
          "Turkey to Portugal",
          "Turkey to Portugal"
         ],
         "type": "scatter",
         "x": [
          -0.12067804708269723,
          -0.2513658099422085,
          null,
          -0.2513658099422085,
          -0.21691554930489648,
          null,
          -0.2513658099422085,
          -0.21136831052535918,
          null
         ],
         "y": [
          -0.038805265737255026,
          -0.0024634601208984724,
          null,
          -0.0024634601208984724,
          -0.022788857196782534,
          null,
          -0.0024634601208984724,
          -0.0028406400119640254,
          null
         ]
        },
        {
         "hoverinfo": "text",
         "line": {
          "color": "white",
          "width": 2
         },
         "mode": "lines",
         "opacity": 0.5,
         "text": [
          "Turkey to Greece",
          "Turkey to Greece",
          "Turkey to Greece",
          "Turkey to Greece",
          "Turkey to Greece",
          "Turkey to Greece",
          "Turkey to Greece",
          "Turkey to Greece",
          "Turkey to Greece"
         ],
         "type": "scatter",
         "x": [
          0.00290689366072492,
          0.11552589784600728,
          null,
          0.11552589784600728,
          0.091534649283498,
          null,
          0.11552589784600728,
          0.07874511412237928,
          null
         ],
         "y": [
          -0.10135013668601087,
          -0.18980276081991723,
          null,
          -0.18980276081991723,
          -0.1577952548199411,
          null,
          -0.18980276081991723,
          -0.1740790717934097,
          null
         ]
        },
        {
         "hoverinfo": "text",
         "line": {
          "color": "white",
          "width": 2
         },
         "mode": "lines",
         "opacity": 0.5,
         "text": [
          "Turkey to Iran (Islamic Republic of)",
          "Turkey to Iran (Islamic Republic of)",
          "Turkey to Iran (Islamic Republic of)",
          "Turkey to Iran (Islamic Republic of)",
          "Turkey to Iran (Islamic Republic of)",
          "Turkey to Iran (Islamic Republic of)",
          "Turkey to Iran (Islamic Republic of)",
          "Turkey to Iran (Islamic Republic of)",
          "Turkey to Iran (Islamic Republic of)"
         ],
         "type": "scatter",
         "x": [
          -0.11205482440942624,
          -0.8222965442028506,
          null,
          -0.8222965442028506,
          -0.7953852737130431,
          null,
          -0.8222965442028506,
          -0.7841939624241615,
          null
         ],
         "y": [
          -0.019553937838793396,
          0.4367231988062261,
          null,
          0.4367231988062261,
          0.4071297230334233,
          null,
          0.4367231988062261,
          0.42455013224560323,
          null
         ]
        },
        {
         "hoverinfo": "text",
         "line": {
          "color": "white",
          "width": 2
         },
         "mode": "lines",
         "opacity": 0.5,
         "text": [
          "Turkey to Uzbekistan",
          "Turkey to Uzbekistan",
          "Turkey to Uzbekistan",
          "Turkey to Uzbekistan",
          "Turkey to Uzbekistan",
          "Turkey to Uzbekistan",
          "Turkey to Uzbekistan",
          "Turkey to Uzbekistan",
          "Turkey to Uzbekistan"
         ],
         "type": "scatter",
         "x": [
          -0.05647286561528242,
          -0.10090989240682728,
          null,
          -0.10090989240682728,
          -0.10914734893084786,
          null,
          -0.10090989240682728,
          -0.0884733538530585,
          null
         ],
         "y": [
          0.012793863333703193,
          0.8293057987721995,
          null,
          0.8293057987721995,
          0.7901650284399185,
          null,
          0.8293057987721995,
          0.7912901690787416,
          null
         ]
        },
        {
         "hoverinfo": "text",
         "line": {
          "color": "white",
          "width": 2
         },
         "mode": "lines",
         "opacity": 0.5,
         "text": [
          "Turkey to Denmark",
          "Turkey to Denmark",
          "Turkey to Denmark",
          "Turkey to Denmark",
          "Turkey to Denmark",
          "Turkey to Denmark",
          "Turkey to Denmark",
          "Turkey to Denmark",
          "Turkey to Denmark"
         ],
         "type": "scatter",
         "x": [
          -0.11015129394917383,
          -0.23969974513750672,
          null,
          -0.23969974513750672,
          -0.2022267419570449,
          null,
          -0.23969974513750672,
          -0.21424231534170363,
          null
         ],
         "y": [
          -0.09871162197806219,
          -0.1910248682511605,
          null,
          -0.1910248682511605,
          -0.17703458242201667,
          null,
          -0.1910248682511605,
          -0.16017242372668558,
          null
         ]
        },
        {
         "hoverinfo": "text",
         "line": {
          "color": "white",
          "width": 2
         },
         "mode": "lines",
         "opacity": 0.5,
         "text": [
          "Turkey to Switzerland",
          "Turkey to Switzerland",
          "Turkey to Switzerland",
          "Turkey to Switzerland",
          "Turkey to Switzerland",
          "Turkey to Switzerland",
          "Turkey to Switzerland",
          "Turkey to Switzerland",
          "Turkey to Switzerland"
         ],
         "type": "scatter",
         "x": [
          0.008721818110291178,
          0.25106879102349255,
          null,
          0.25106879102349255,
          0.2123749976757144,
          null,
          0.25106879102349255,
          0.22262885600670626,
          null
         ],
         "y": [
          -0.022751912471146593,
          0.11539188124370645,
          null,
          0.11539188124370645,
          0.10525213526135666,
          null,
          0.11539188124370645,
          0.08726370696118126,
          null
         ]
        },
        {
         "hoverinfo": "text",
         "line": {
          "color": "white",
          "width": 2
         },
         "mode": "lines",
         "opacity": 0.5,
         "text": [
          "Turkey to Hungary",
          "Turkey to Hungary",
          "Turkey to Hungary",
          "Turkey to Hungary",
          "Turkey to Hungary",
          "Turkey to Hungary",
          "Turkey to Hungary",
          "Turkey to Hungary",
          "Turkey to Hungary"
         ],
         "type": "scatter",
         "x": [
          0.01722596270065481,
          0.4036902156241409,
          null,
          0.4036902156241409,
          0.3639522961176289,
          null,
          0.4036902156241409,
          0.36698986456577587,
          null
         ],
         "y": [
          -0.04736591098506258,
          0.009949490541267743,
          null,
          0.009949490541267743,
          0.014522097085636655,
          null,
          0.009949490541267743,
          -0.005959475783053817,
          null
         ]
        },
        {
         "hoverinfo": "text",
         "line": {
          "color": "white",
          "width": 2
         },
         "mode": "lines",
         "opacity": 0.5,
         "text": [
          "Turkey to Austria",
          "Turkey to Austria",
          "Turkey to Austria",
          "Turkey to Austria",
          "Turkey to Austria",
          "Turkey to Austria",
          "Turkey to Austria",
          "Turkey to Austria",
          "Turkey to Austria"
         ],
         "type": "scatter",
         "x": [
          0.012601011904137607,
          0.2012894226138352,
          null,
          0.2012894226138352,
          0.1616337867671984,
          null,
          0.2012894226138352,
          0.16956676698775447,
          null
         ],
         "y": [
          -0.030668254278641813,
          0.04759581811074674,
          null,
          0.04759581811074674,
          0.042355553270083585,
          null,
          0.04759581811074674,
          0.02322979771285562,
          null
         ]
        },
        {
         "hoverinfo": "text",
         "line": {
          "color": "white",
          "width": 2
         },
         "mode": "lines",
         "opacity": 0.5,
         "text": [
          "Turkey to Montenegro",
          "Turkey to Montenegro",
          "Turkey to Montenegro",
          "Turkey to Montenegro",
          "Turkey to Montenegro",
          "Turkey to Montenegro",
          "Turkey to Montenegro",
          "Turkey to Montenegro",
          "Turkey to Montenegro"
         ],
         "type": "scatter",
         "x": [
          -0.03250954913045126,
          0.19924033662747262,
          null,
          0.19924033662747262,
          0.178306584561714,
          null,
          0.19924033662747262,
          0.19815380760270399,
          null
         ],
         "y": [
          0.009970046739144228,
          0.7895199327158529,
          null,
          0.7895199327158529,
          0.7554346685944462,
          null,
          0.7895199327158529,
          0.7495343520591331,
          null
         ]
        },
        {
         "hoverinfo": "text",
         "line": {
          "color": "white",
          "width": 2
         },
         "mode": "lines",
         "opacity": 0.5,
         "text": [
          "Turkey to Uruguay",
          "Turkey to Uruguay",
          "Turkey to Uruguay",
          "Turkey to Uruguay",
          "Turkey to Uruguay",
          "Turkey to Uruguay",
          "Turkey to Uruguay",
          "Turkey to Uruguay",
          "Turkey to Uruguay"
         ],
         "type": "scatter",
         "x": [
          -0.04638830182490281,
          0.01093805021283201,
          null,
          0.01093805021283201,
          0.01783312189331066,
          null,
          0.01093805021283201,
          -0.002791975809079585,
          null
         ],
         "y": [
          -0.12807498569694714,
          -0.7736731961384486,
          null,
          -0.7736731961384486,
          -0.7342705296222071,
          null,
          -0.7736731961384486,
          -0.7361019501182977,
          null
         ]
        },
        {
         "hoverinfo": "text",
         "line": {
          "color": "white",
          "width": 2
         },
         "mode": "lines",
         "opacity": 0.5,
         "text": [
          "Turkey to New Zealand",
          "Turkey to New Zealand",
          "Turkey to New Zealand",
          "Turkey to New Zealand",
          "Turkey to New Zealand",
          "Turkey to New Zealand",
          "Turkey to New Zealand",
          "Turkey to New Zealand",
          "Turkey to New Zealand"
         ],
         "type": "scatter",
         "x": [
          0.01651625370862271,
          0.7007482448457052,
          null,
          0.7007482448457052,
          0.6608134536115278,
          null,
          0.7007482448457052,
          0.6650213844802821,
          null
         ],
         "y": [
          -0.043373880179739796,
          0.09864412119498557,
          null,
          0.09864412119498557,
          0.10092875451858002,
          null,
          0.09864412119498557,
          0.0806552760744621,
          null
         ]
        },
        {
         "hoverinfo": "text",
         "line": {
          "color": "white",
          "width": 2
         },
         "mode": "lines",
         "opacity": 0.5,
         "text": [
          "Turkey to The former Yugoslav Republic of Macedonia",
          "Turkey to The former Yugoslav Republic of Macedonia",
          "Turkey to The former Yugoslav Republic of Macedonia",
          "Turkey to The former Yugoslav Republic of Macedonia",
          "Turkey to The former Yugoslav Republic of Macedonia",
          "Turkey to The former Yugoslav Republic of Macedonia",
          "Turkey to The former Yugoslav Republic of Macedonia",
          "Turkey to The former Yugoslav Republic of Macedonia",
          "Turkey to The former Yugoslav Republic of Macedonia"
         ],
         "type": "scatter",
         "x": [
          -0.04228132911046802,
          0.004762693403746177,
          null,
          0.004762693403746177,
          0.00933962648247725,
          null,
          0.004762693403746177,
          -0.01114307018400279,
          null
         ],
         "y": [
          -0.1275887398453598,
          -0.4450232850410638,
          null,
          -0.4450232850410638,
          -0.40528427723036103,
          null,
          -0.4450232850410638,
          -0.4083198282164414,
          null
         ]
        },
        {
         "hoverinfo": "text",
         "line": {
          "color": "white",
          "width": 2
         },
         "mode": "lines",
         "opacity": 0.5,
         "text": [
          "Turkey to Bosnia and Herzegovina",
          "Turkey to Bosnia and Herzegovina",
          "Turkey to Bosnia and Herzegovina",
          "Turkey to Bosnia and Herzegovina",
          "Turkey to Bosnia and Herzegovina",
          "Turkey to Bosnia and Herzegovina",
          "Turkey to Bosnia and Herzegovina",
          "Turkey to Bosnia and Herzegovina",
          "Turkey to Bosnia and Herzegovina"
         ],
         "type": "scatter",
         "x": [
          -0.021727201954553247,
          0.25880617919807375,
          null,
          0.25880617919807375,
          0.2325884873355472,
          null,
          0.25880617919807375,
          0.2512060813252235,
          null
         ],
         "y": [
          0.005776005985478436,
          0.5821579318430202,
          null,
          0.5821579318430202,
          0.5519477532256396,
          null,
          0.5821579318430202,
          0.5428863037762399,
          null
         ]
        },
        {
         "hoverinfo": "text",
         "line": {
          "color": "white",
          "width": 2
         },
         "mode": "lines",
         "opacity": 0.5,
         "text": [
          "Turkey to Serbia",
          "Turkey to Serbia",
          "Turkey to Serbia",
          "Turkey to Serbia",
          "Turkey to Serbia",
          "Turkey to Serbia",
          "Turkey to Serbia",
          "Turkey to Serbia",
          "Turkey to Serbia"
         ],
         "type": "scatter",
         "x": [
          0.005327294150824072,
          0.6134408922637274,
          null,
          0.6134408922637274,
          0.5758161251814562,
          null,
          0.6134408922637274,
          0.5876463408343623,
          null
         ],
         "y": [
          -0.01737492214092355,
          0.4059786712169595,
          null,
          0.4059786712169595,
          0.39239976586625114,
          null,
          0.4059786712169595,
          0.37540661068652603,
          null
         ]
        },
        {
         "hoverinfo": "text",
         "line": {
          "color": "white",
          "width": 2
         },
         "mode": "lines",
         "opacity": 0.5,
         "text": [
          "Turkey to Ireland",
          "Turkey to Ireland",
          "Turkey to Ireland",
          "Turkey to Ireland",
          "Turkey to Ireland",
          "Turkey to Ireland",
          "Turkey to Ireland",
          "Turkey to Ireland",
          "Turkey to Ireland"
         ],
         "type": "scatter",
         "x": [
          -0.0854616363991039,
          -0.13628977044442853,
          null,
          -0.13628977044442853,
          -0.12749801248656487,
          null,
          -0.13628977044442853,
          -0.10916578617660544,
          null
         ],
         "y": [
          0.004805592990542715,
          0.10162928295247978,
          null,
          0.10162928295247978,
          0.06260908588770146,
          null,
          0.10162928295247978,
          0.07223268001263859,
          null
         ]
        },
        {
         "hoverinfo": "text",
         "line": {
          "color": "white",
          "width": 2
         },
         "mode": "lines",
         "opacity": 0.5,
         "text": [
          "Turkey to Slovakia",
          "Turkey to Slovakia",
          "Turkey to Slovakia",
          "Turkey to Slovakia",
          "Turkey to Slovakia",
          "Turkey to Slovakia",
          "Turkey to Slovakia",
          "Turkey to Slovakia",
          "Turkey to Slovakia"
         ],
         "type": "scatter",
         "x": [
          0.015552855164503651,
          0.4797891496399717,
          null,
          0.4797891496399717,
          0.4451815254998507,
          null,
          0.4797891496399717,
          0.4397890015511479,
          null
         ],
         "y": [
          -0.07612019526529894,
          -0.20134633574449198,
          null,
          -0.20134633574449198,
          -0.18128820290678124,
          null,
          -0.20134633574449198,
          -0.20127929522461216,
          null
         ]
        },
        {
         "hoverinfo": "text",
         "line": {
          "color": "white",
          "width": 2
         },
         "mode": "lines",
         "opacity": 0.5,
         "text": [
          "Turkey to Slovenia",
          "Turkey to Slovenia",
          "Turkey to Slovenia",
          "Turkey to Slovenia",
          "Turkey to Slovenia",
          "Turkey to Slovenia",
          "Turkey to Slovenia",
          "Turkey to Slovenia",
          "Turkey to Slovenia"
         ],
         "type": "scatter",
         "x": [
          -0.03761614861280575,
          -0.0037961026845620676,
          null,
          -0.0037961026845620676,
          -0.022129501910305834,
          null,
          -0.0037961026845620676,
          -0.001896385332478809,
          null
         ],
         "y": [
          0.011282838353011665,
          0.1666822497019091,
          null,
          0.1666822497019091,
          0.13112843606331046,
          null,
          0.1666822497019091,
          0.12672504427659315,
          null
         ]
        },
        {
         "hoverinfo": "text",
         "line": {
          "color": "white",
          "width": 2
         },
         "mode": "lines",
         "opacity": 0.5,
         "text": [
          "Turkey to Japan",
          "Turkey to Japan",
          "Turkey to Japan",
          "Turkey to Japan",
          "Turkey to Japan",
          "Turkey to Japan",
          "Turkey to Japan",
          "Turkey to Japan",
          "Turkey to Japan"
         ],
         "type": "scatter",
         "x": [
          0.017812511219564064,
          0.042761271072719334,
          null,
          0.042761271072719334,
          0.0034867472175253225,
          null,
          0.042761271072719334,
          0.004954205115601781,
          null
         ],
         "y": [
          -0.05272178781192563,
          -0.050949284743170495,
          null,
          -0.050949284743170495,
          -0.0433606235892073,
          null,
          -0.050949284743170495,
          -0.06401457333072325,
          null
         ]
        },
        {
         "hoverinfo": "text",
         "line": {
          "color": "white",
          "width": 2
         },
         "mode": "lines",
         "opacity": 0.5,
         "text": [
          "Hungary to Germany",
          "Hungary to Germany",
          "Hungary to Germany",
          "Hungary to Germany",
          "Hungary to Germany",
          "Hungary to Germany",
          "Hungary to Germany",
          "Hungary to Germany",
          "Hungary to Germany"
         ],
         "type": "scatter",
         "x": [
          0.4033751856541306,
          0.1787335578581778,
          null,
          0.1787335578581778,
          0.21829035113919584,
          null,
          0.1787335578581778,
          0.21595908647060155,
          null
         ],
         "y": [
          0.012358516536795108,
          -0.013096291831899805,
          null,
          -0.013096291831899805,
          -0.01903297330952486,
          null,
          -0.013096291831899805,
          0.00154078783480939,
          null
         ]
        },
        {
         "hoverinfo": "text",
         "line": {
          "color": "white",
          "width": 2
         },
         "mode": "lines",
         "opacity": 0.5,
         "text": [
          "Hungary to Switzerland",
          "Hungary to Switzerland",
          "Hungary to Switzerland",
          "Hungary to Switzerland",
          "Hungary to Switzerland",
          "Hungary to Switzerland",
          "Hungary to Switzerland",
          "Hungary to Switzerland",
          "Hungary to Switzerland"
         ],
         "type": "scatter",
         "x": [
          0.4185950860102175,
          0.3673815433818025,
          null,
          0.3673815433818025,
          0.3909429832517513,
          null,
          0.3673815433818025,
          0.40394745842808416,
          null
         ],
         "y": [
          0.06466942876920842,
          0.1060076748754699,
          null,
          0.1060076748754699,
          0.07368545573713703,
          null,
          0.1060076748754699,
          0.08979653192996047,
          null
         ]
        },
        {
         "hoverinfo": "text",
         "line": {
          "color": "white",
          "width": 2
         },
         "mode": "lines",
         "opacity": 0.5,
         "text": [
          "Hungary to Austria",
          "Hungary to Austria",
          "Hungary to Austria",
          "Hungary to Austria",
          "Hungary to Austria",
          "Hungary to Austria",
          "Hungary to Austria",
          "Hungary to Austria",
          "Hungary to Austria"
         ],
         "type": "scatter",
         "x": [
          0.40524039020167363,
          0.33483606457453546,
          null,
          0.33483606457453546,
          0.36957727576204213,
          null,
          0.33483606457453546,
          0.3748341935345232,
          null
         ],
         "y": [
          0.038241828114311836,
          0.05672287058991157,
          null,
          0.05672287058991157,
          0.03690015556317786,
          null,
          0.05672287058991157,
          0.056926501398533974,
          null
         ]
        },
        {
         "hoverinfo": "text",
         "line": {
          "color": "white",
          "width": 2
         },
         "mode": "lines",
         "opacity": 0.5,
         "text": [
          "Hungary to Slovakia",
          "Hungary to Slovakia",
          "Hungary to Slovakia",
          "Hungary to Slovakia",
          "Hungary to Slovakia",
          "Hungary to Slovakia",
          "Hungary to Slovakia",
          "Hungary to Slovakia",
          "Hungary to Slovakia"
         ],
         "type": "scatter",
         "x": [
          0.49446571365139663,
          0.527062311411315,
          null,
          0.527062311411315,
          0.525508778691836,
          null,
          0.527062311411315,
          0.5057307553091502,
          null
         ],
         "y": [
          -0.04714681090885886,
          -0.1522825852288136,
          null,
          -0.1522825852288136,
          -0.1123102706258425,
          null,
          -0.1522825852288136,
          -0.11844231169431646,
          null
         ]
        },
        {
         "hoverinfo": "text",
         "line": {
          "color": "white",
          "width": 2
         },
         "mode": "lines",
         "opacity": 0.5,
         "text": [
          "Albania to Belgium",
          "Albania to Belgium",
          "Albania to Belgium",
          "Albania to Belgium",
          "Albania to Belgium",
          "Albania to Belgium",
          "Albania to Belgium",
          "Albania to Belgium",
          "Albania to Belgium"
         ],
         "type": "scatter",
         "x": [
          -0.09089379110409929,
          0.014831423838988951,
          null,
          0.014831423838988951,
          -0.008769709881077184,
          null,
          0.014831423838988951,
          0.010540352673289111,
          null
         ],
         "y": [
          -0.26953887320486714,
          0.003627224901208523,
          null,
          0.003627224901208523,
          -0.028668995486773402,
          null,
          0.003627224901208523,
          -0.036142689261037815,
          null
         ]
        },
        {
         "hoverinfo": "text",
         "line": {
          "color": "white",
          "width": 2
         },
         "mode": "lines",
         "opacity": 0.5,
         "text": [
          "Albania to Germany",
          "Albania to Germany",
          "Albania to Germany",
          "Albania to Germany",
          "Albania to Germany",
          "Albania to Germany",
          "Albania to Germany",
          "Albania to Germany",
          "Albania to Germany"
         ],
         "type": "scatter",
         "x": [
          -0.07528671679880036,
          0.06745882147283794,
          null,
          0.06745882147283794,
          0.03655508565245591,
          null,
          0.06745882147283794,
          0.05339384935324713,
          null
         ],
         "y": [
          -0.2779678503574442,
          -0.07848311656717522,
          null,
          -0.07848311656717522,
          -0.10388001291258155,
          null,
          -0.07848311656717522,
          -0.11592934188976828,
          null
         ]
        },
        {
         "hoverinfo": "text",
         "line": {
          "color": "white",
          "width": 2
         },
         "mode": "lines",
         "opacity": 0.5,
         "text": [
          "Bulgaria to Italy",
          "Bulgaria to Italy",
          "Bulgaria to Italy",
          "Bulgaria to Italy",
          "Bulgaria to Italy",
          "Bulgaria to Italy",
          "Bulgaria to Italy",
          "Bulgaria to Italy",
          "Bulgaria to Italy"
         ],
         "type": "scatter",
         "x": [
          -0.1695137891254257,
          -0.017653361824505748,
          null,
          -0.017653361824505748,
          -0.05565099442874213,
          null,
          -0.017653361824505748,
          -0.044310900137074234,
          null
         ],
         "y": [
          -0.15977104031610367,
          -0.060366749841652495,
          null,
          -0.060366749841652495,
          -0.07286550345438865,
          null,
          -0.060366749841652495,
          -0.09018980428804271,
          null
         ]
        },
        {
         "hoverinfo": "text",
         "line": {
          "color": "white",
          "width": 2
         },
         "mode": "lines",
         "opacity": 0.5,
         "text": [
          "Bulgaria to Romania",
          "Bulgaria to Romania",
          "Bulgaria to Romania",
          "Bulgaria to Romania",
          "Bulgaria to Romania",
          "Bulgaria to Romania",
          "Bulgaria to Romania",
          "Bulgaria to Romania",
          "Bulgaria to Romania"
         ],
         "type": "scatter",
         "x": [
          -0.1596675770137299,
          0.0321543498714624,
          null,
          0.0321543498714624,
          -0.003310259886020829,
          null,
          0.0321543498714624,
          -0.007809610022248087,
          null
         ],
         "y": [
          -0.21379754694068692,
          -0.25650077761901546,
          null,
          -0.25650077761901546,
          -0.2379993638021584,
          null,
          -0.25650077761901546,
          -0.25821038812643043,
          null
         ]
        },
        {
         "hoverinfo": "text",
         "line": {
          "color": "white",
          "width": 2
         },
         "mode": "lines",
         "opacity": 0.5,
         "text": [
          "Bulgaria to The former Yugoslav Republic of Macedonia",
          "Bulgaria to The former Yugoslav Republic of Macedonia",
          "Bulgaria to The former Yugoslav Republic of Macedonia",
          "Bulgaria to The former Yugoslav Republic of Macedonia",
          "Bulgaria to The former Yugoslav Republic of Macedonia",
          "Bulgaria to The former Yugoslav Republic of Macedonia",
          "Bulgaria to The former Yugoslav Republic of Macedonia",
          "Bulgaria to The former Yugoslav Republic of Macedonia",
          "Bulgaria to The former Yugoslav Republic of Macedonia"
         ],
         "type": "scatter",
         "x": [
          -0.18550972257323045,
          -0.027978981097663586,
          null,
          -0.027978981097663586,
          -0.04335348966812769,
          null,
          -0.027978981097663586,
          -0.05975762496847736,
          null
         ],
         "y": [
          -0.2544033172723018,
          -0.45893269015944493,
          null,
          -0.45893269015944493,
          -0.42200483240326436,
          null,
          -0.45893269015944493,
          -0.43463948152048637,
          null
         ]
        },
        {
         "hoverinfo": "text",
         "line": {
          "color": "white",
          "width": 2
         },
         "mode": "lines",
         "opacity": 0.5,
         "text": [
          "Taiwan to France",
          "Taiwan to France",
          "Taiwan to France",
          "Taiwan to France",
          "Taiwan to France",
          "Taiwan to France",
          "Taiwan to France",
          "Taiwan to France",
          "Taiwan to France"
         ],
         "type": "scatter",
         "x": [
          0.13215991368287838,
          0.03789517624328144,
          null,
          0.03789517624328144,
          0.036402406299423595,
          null,
          0.03789517624328144,
          0.05658803796078907,
          null
         ],
         "y": [
          -0.48617655500821577,
          -0.07331134892679642,
          null,
          -0.07331134892679642,
          -0.11328262574858519,
          null,
          -0.07331134892679642,
          -0.10867387504809453,
          null
         ]
        },
        {
         "hoverinfo": "text",
         "line": {
          "color": "white",
          "width": 2
         },
         "mode": "lines",
         "opacity": 0.5,
         "text": [
          "Argentina to Uruguay",
          "Argentina to Uruguay",
          "Argentina to Uruguay",
          "Argentina to Uruguay",
          "Argentina to Uruguay",
          "Argentina to Uruguay",
          "Argentina to Uruguay",
          "Argentina to Uruguay",
          "Argentina to Uruguay"
         ],
         "type": "scatter",
         "x": [
          0.24565602433659967,
          0.04966948976770379,
          null,
          0.04966948976770379,
          0.07663341070955731,
          null,
          0.04966948976770379,
          0.05824836146762673,
          null
         ],
         "y": [
          -0.40296648603051666,
          -0.7813107426617797,
          null,
          -0.7813107426617797,
          -0.7517656050190649,
          null,
          -0.7813107426617797,
          -0.7422419424339539,
          null
         ]
        },
        {
         "hoverinfo": "text",
         "line": {
          "color": "white",
          "width": 2
         },
         "mode": "lines",
         "opacity": 0.5,
         "text": [
          "Croatia to Serbia",
          "Croatia to Serbia",
          "Croatia to Serbia",
          "Croatia to Serbia",
          "Croatia to Serbia",
          "Croatia to Serbia",
          "Croatia to Serbia",
          "Croatia to Serbia",
          "Croatia to Serbia"
         ],
         "type": "scatter",
         "x": [
          0.6985922477121312,
          0.6909151969924423,
          null,
          0.6909151969924423,
          0.6916396928136616,
          null,
          0.6909151969924423,
          0.711534062867228,
          null
         ],
         "y": [
          0.35174846748270927,
          0.37845439702696193,
          null,
          0.37845439702696193,
          0.3384715288496135,
          null,
          0.37845439702696193,
          0.34419046537982334,
          null
         ]
        },
        {
         "hoverinfo": "text",
         "line": {
          "color": "white",
          "width": 2
         },
         "mode": "lines",
         "opacity": 0.5,
         "text": [
          "Greece to United States",
          "Greece to United States",
          "Greece to United States",
          "Greece to United States",
          "Greece to United States",
          "Greece to United States",
          "Greece to United States",
          "Greece to United States",
          "Greece to United States"
         ],
         "type": "scatter",
         "x": [
          0.15249014108667136,
          0.10697878644748918,
          null,
          0.10697878644748918,
          0.10715388720121029,
          null,
          0.10697878644748918,
          0.12712934565873005,
          null
         ],
         "y": [
          -0.16528828552394076,
          0.00163585529639039,
          null,
          0.00163585529639039,
          -0.038361979724202785,
          null,
          0.00163585529639039,
          -0.03291573555096162,
          null
         ]
        },
        {
         "hoverinfo": "text",
         "line": {
          "color": "white",
          "width": 2
         },
         "mode": "lines",
         "opacity": 0.5,
         "text": [
          "Greece to Germany",
          "Greece to Germany",
          "Greece to Germany",
          "Greece to Germany",
          "Greece to Germany",
          "Greece to Germany",
          "Greece to Germany",
          "Greece to Germany",
          "Greece to Germany"
         ],
         "type": "scatter",
         "x": [
          0.15112622343182008,
          0.12849913326242474,
          null,
          0.12849913326242474,
          0.129476981792357,
          null,
          0.12849913326242474,
          0.14933820363854244,
          null
         ],
         "y": [
          -0.16567490111500355,
          -0.08879935124223438,
          null,
          -0.08879935124223438,
          -0.12878380865852057,
          null,
          -0.08879935124223438,
          -0.12293798285630916,
          null
         ]
        },
        {
         "hoverinfo": "text",
         "line": {
          "color": "white",
          "width": 2
         },
         "mode": "lines",
         "opacity": 0.5,
         "text": [
          "Greece to Turkey",
          "Greece to Turkey",
          "Greece to Turkey",
          "Greece to Turkey",
          "Greece to Turkey",
          "Greece to Turkey",
          "Greece to Turkey",
          "Greece to Turkey",
          "Greece to Turkey"
         ],
         "type": "scatter",
         "x": [
          0.11552589784600728,
          0.00290689366072492,
          null,
          0.00290689366072492,
          0.02689720071882709,
          null,
          0.00290689366072492,
          0.03968627059685978,
          null
         ],
         "y": [
          -0.18980276081991723,
          -0.10135013668601087,
          null,
          -0.10135013668601087,
          -0.13335645984446937,
          null,
          -0.10135013668601087,
          -0.11707327209391905,
          null
         ]
        },
        {
         "hoverinfo": "text",
         "line": {
          "color": "white",
          "width": 2
         },
         "mode": "lines",
         "opacity": 0.5,
         "text": [
          "Greece to The former Yugoslav Republic of Macedonia",
          "Greece to The former Yugoslav Republic of Macedonia",
          "Greece to The former Yugoslav Republic of Macedonia",
          "Greece to The former Yugoslav Republic of Macedonia",
          "Greece to The former Yugoslav Republic of Macedonia",
          "Greece to The former Yugoslav Republic of Macedonia",
          "Greece to The former Yugoslav Republic of Macedonia",
          "Greece to The former Yugoslav Republic of Macedonia",
          "Greece to The former Yugoslav Republic of Macedonia"
         ],
         "type": "scatter",
         "x": [
          0.13683876464239444,
          0.04934523309105643,
          null,
          0.04934523309105643,
          0.07712595903878178,
          null,
          0.04934523309105643,
          0.05901516162962525,
          null
         ],
         "y": [
          -0.2952020840685217,
          -0.45310928300791664,
          null,
          -0.45310928300791664,
          -0.4243315112724469,
          null,
          -0.45310928300791664,
          -0.41429663864682736,
          null
         ]
        },
        {
         "hoverinfo": "text",
         "line": {
          "color": "white",
          "width": 2
         },
         "mode": "lines",
         "opacity": 0.5,
         "text": [
          "Greece to Cyprus",
          "Greece to Cyprus",
          "Greece to Cyprus",
          "Greece to Cyprus",
          "Greece to Cyprus",
          "Greece to Cyprus",
          "Greece to Cyprus",
          "Greece to Cyprus",
          "Greece to Cyprus"
         ],
         "type": "scatter",
         "x": [
          0.23912503904780058,
          0.6127611079996363,
          null,
          0.6127611079996363,
          0.578294722873853,
          null,
          0.6127611079996363,
          0.5727623612006326,
          null
         ],
         "y": [
          -0.25229649145407745,
          -0.355895204795593,
          null,
          -0.355895204795593,
          -0.3355952413886786,
          null,
          -0.355895204795593,
          -0.35554811335220227,
          null
         ]
        },
        {
         "hoverinfo": "text",
         "line": {
          "color": "white",
          "width": 2
         },
         "mode": "lines",
         "opacity": 0.5,
         "text": [
          "Greece to Italy",
          "Greece to Italy",
          "Greece to Italy",
          "Greece to Italy",
          "Greece to Italy",
          "Greece to Italy",
          "Greece to Italy",
          "Greece to Italy",
          "Greece to Italy"
         ],
         "type": "scatter",
         "x": [
          0.13419190030242453,
          0.07831365015198893,
          null,
          0.07831365015198893,
          0.08965749199551439,
          null,
          0.07831365015198893,
          0.10731581278524496,
          null
         ],
         "y": [
          -0.17319269804805149,
          -0.08192045175439633,
          null,
          -0.08192045175439633,
          -0.12027666659489653,
          null,
          -0.08192045175439633,
          -0.10946598727752047,
          null
         ]
        },
        {
         "hoverinfo": "text",
         "line": {
          "color": "white",
          "width": 2
         },
         "mode": "lines",
         "opacity": 0.5,
         "text": [
          "Greece to Lebanon",
          "Greece to Lebanon",
          "Greece to Lebanon",
          "Greece to Lebanon",
          "Greece to Lebanon",
          "Greece to Lebanon",
          "Greece to Lebanon",
          "Greece to Lebanon",
          "Greece to Lebanon"
         ],
         "type": "scatter",
         "x": [
          0.10237664981816058,
          -0.9313089373447081,
          null,
          -0.9313089373447081,
          -0.8961361258988447,
          null,
          -0.9313089373447081,
          -0.8913238701186834,
          null
         ],
         "y": [
          -0.21701184142073723,
          0.029995591250028868,
          null,
          0.029995591250028868,
          0.010946553267254983,
          null,
          0.029995591250028868,
          0.031085046162223677,
          null
         ]
        },
        {
         "hoverinfo": "text",
         "line": {
          "color": "white",
          "width": 2
         },
         "mode": "lines",
         "opacity": 0.5,
         "text": [
          "Greece to Romania",
          "Greece to Romania",
          "Greece to Romania",
          "Greece to Romania",
          "Greece to Romania",
          "Greece to Romania",
          "Greece to Romania",
          "Greece to Romania",
          "Greece to Romania"
         ],
         "type": "scatter",
         "x": [
          0.10916057483893676,
          0.16299889942314066,
          null,
          0.16299889942314066,
          0.12414719129656812,
          null,
          0.16299889942314066,
          0.13411292218402693,
          null
         ],
         "y": [
          -0.2674172500866253,
          -0.2378564341177687,
          null,
          -0.2378564341177687,
          -0.2473776120756015,
          null,
          -0.2378564341177687,
          -0.2655278701664906,
          null
         ]
        },
        {
         "hoverinfo": "text",
         "line": {
          "color": "white",
          "width": 2
         },
         "mode": "lines",
         "opacity": 0.5,
         "text": [
          "Greece to Spain",
          "Greece to Spain",
          "Greece to Spain",
          "Greece to Spain",
          "Greece to Spain",
          "Greece to Spain",
          "Greece to Spain",
          "Greece to Spain",
          "Greece to Spain"
         ],
         "type": "scatter",
         "x": [
          0.10820364751647434,
          0.011576805814407051,
          null,
          0.011576805814407051,
          0.04124913048928072,
          null,
          0.011576805814407051,
          0.05068535912491928,
          null
         ],
         "y": [
          -0.20123916655809265,
          -0.15176537509167373,
          null,
          -0.15176537509167373,
          -0.17858850779713734,
          null,
          -0.15176537509167373,
          -0.1601587270862496,
          null
         ]
        },
        {
         "hoverinfo": "text",
         "line": {
          "color": "white",
          "width": 2
         },
         "mode": "lines",
         "opacity": 0.5,
         "text": [
          "Tunisia to Spain",
          "Tunisia to Spain",
          "Tunisia to Spain",
          "Tunisia to Spain",
          "Tunisia to Spain",
          "Tunisia to Spain",
          "Tunisia to Spain",
          "Tunisia to Spain",
          "Tunisia to Spain"
         ],
         "type": "scatter",
         "x": [
          -0.524385518946543,
          -0.12032907374746446,
          null,
          -0.12032907374746446,
          -0.15592044219698814,
          null,
          -0.12032907374746446,
          -0.16027999989735744,
          null
         ],
         "y": [
          -0.01768370775637194,
          -0.10470836931152017,
          null,
          -0.10470836931152017,
          -0.08645257547721312,
          null,
          -0.10470836931152017,
          -0.10669407230952077,
          null
         ]
        },
        {
         "hoverinfo": "text",
         "hovertext": [
          "Japan<br> degree centrality: 0.55",
          "China<br> degree centrality: 1.0333333333333332",
          "United States<br> degree centrality: 0.6333333333333333",
          "Korea, Republic of<br> degree centrality: 0.48333333333333334",
          "Romania<br> degree centrality: 0.31666666666666665",
          "Germany<br> degree centrality: 0.8666666666666667",
          "Serbia<br> degree centrality: 0.15",
          "France<br> degree centrality: 0.6",
          "Australia<br> degree centrality: 0.08333333333333333",
          "New Zealand<br> degree centrality: 0.11666666666666667",
          "Spain<br> degree centrality: 0.7666666666666666",
          "Belgium<br> degree centrality: 0.4",
          "Portugal<br> degree centrality: 0.13333333333333333",
          "Austria<br> degree centrality: 0.3",
          "Italy<br> degree centrality: 0.9333333333333333",
          "Netherlands<br> degree centrality: 0.43333333333333335",
          "Ireland<br> degree centrality: 0.25",
          "Luxembourg<br> degree centrality: 0.23333333333333334",
          "Morocco<br> degree centrality: 0.08333333333333333",
          "Switzerland<br> degree centrality: 0.26666666666666666",
          "Poland<br> degree centrality: 0.2",
          "United Kingdom<br> degree centrality: 0.3333333333333333",
          "Slovakia<br> degree centrality: 0.21666666666666667",
          "Slovenia<br> degree centrality: 0.21666666666666667",
          "Uruguay<br> degree centrality: 0.1",
          "The former Yugoslav Republic of Macedonia<br> degree centrality: 0.16666666666666666",
          "India<br> degree centrality: 0.21666666666666667",
          "Denmark<br> degree centrality: 0.2",
          "Bosnia and Herzegovina<br> degree centrality: 0.15",
          "Czech Republic<br> degree centrality: 0.25",
          "Turkey<br> degree centrality: 0.75",
          "Hungary<br> degree centrality: 0.31666666666666665",
          "Albania<br> degree centrality: 0.08333333333333333",
          "Algeria<br> degree centrality: 0.13333333333333333",
          "Uzbekistan<br> degree centrality: 0.03333333333333333",
          "Republic of Moldova<br> degree centrality: 0.1",
          "Montenegro<br> degree centrality: 0.08333333333333333",
          "Lebanon<br> degree centrality: 0.1",
          "Georgia<br> degree centrality: 0.06666666666666667",
          "Canada<br> degree centrality: 0.05",
          "Bulgaria<br> degree centrality: 0.15",
          "Azerbaijan<br> degree centrality: 0.08333333333333333",
          "Taiwan<br> degree centrality: 0.06666666666666667",
          "Russia<br> degree centrality: 0.016666666666666666",
          "Argentina<br> degree centrality: 0.08333333333333333",
          "Croatia<br> degree centrality: 0.11666666666666667",
          "Greece<br> degree centrality: 0.26666666666666666",
          "Viet Nam<br> degree centrality: 0.016666666666666666",
          "Ukraine<br> degree centrality: 0.03333333333333333",
          "Mexico<br> degree centrality: 0.03333333333333333",
          "Tunisia<br> degree centrality: 0.05",
          "Iran (Islamic Republic of)<br> degree centrality: 0.03333333333333333",
          "South Africa<br> degree centrality: 0.03333333333333333",
          "Cyprus<br> degree centrality: 0.06666666666666667",
          "Brazil<br> degree centrality: 0.016666666666666666",
          "Kazakhstan<br> degree centrality: 0.016666666666666666",
          "Pakistan<br> degree centrality: 0.016666666666666666",
          "Sweden<br> degree centrality: 0.03333333333333333",
          "Chile<br> degree centrality: 0.03333333333333333",
          "Kyrgyzstan<br> degree centrality: 0.016666666666666666",
          "Armenia<br> degree centrality: 0.016666666666666666"
         ],
         "marker": {
          "color": "blue",
          "colorbar": {
           "bgcolor": "#19191a",
           "thickness": 35,
           "tickfont": {
            "color": "white"
           },
           "title": {
            "font": {
             "color": "white",
             "size": 14
            },
            "side": "right",
            "text": "Probability of Introduction"
           },
           "xanchor": "left"
          },
          "colorscale": [
           [
            0,
            "rgb(36, 86, 104)"
           ],
           [
            0.16666666666666666,
            "rgb(15, 114, 121)"
           ],
           [
            0.3333333333333333,
            "rgb(13, 143, 129)"
           ],
           [
            0.5,
            "rgb(57, 171, 126)"
           ],
           [
            0.6666666666666666,
            "rgb(110, 197, 116)"
           ],
           [
            0.8333333333333334,
            "rgb(169, 220, 103)"
           ],
           [
            1,
            "rgb(237, 239, 93)"
           ]
          ],
          "line": {
           "color": "grey",
           "width": 3
          },
          "reversescale": false,
          "showscale": false,
          "size": 50
         },
         "mode": "markers",
         "type": "scatter",
         "x": [
          0.11320870325900366,
          0.08756670506959215,
          0.08840121506070808,
          0.17054007260261259,
          0.10109176178862496,
          0.10855764422079237,
          0.6714031073812717,
          0.022174729655009502,
          0.509454317389106,
          0.7698994195210481,
          -0.05128725914257107,
          0.04032317228164445,
          -0.31940893605818543,
          0.2665253554846931,
          0.04143783798096102,
          -0.03493206605052157,
          -0.16911648587681216,
          0.0657653813045109,
          0.1996047184456999,
          0.312425530100504,
          0.26715777164138654,
          -0.17155013268437014,
          0.5479769257711956,
          0.011222669669352441,
          0.017184669354649462,
          0.015116285259998417,
          -0.23959671561650198,
          -0.2972161181199603,
          0.28971389821024074,
          0.33192783329288633,
          -0.05263492096672026,
          0.473551099291516,
          -0.11638553954675478,
          -0.7779620201959278,
          -0.10474783705538944,
          -0.56378016803696,
          0.21936570846374162,
          -1,
          -0.271100485432639,
          0.48473410853652127,
          -0.22860498893089246,
          -0.7128462083153254,
          0.1478803602711503,
          0.5874067304068135,
          0.278140844749654,
          0.7181043373233018,
          0.17106771247345245,
          0.05647759457314178,
          -0.8245526878687734,
          0.5927438095187568,
          -0.5934273335514363,
          -0.8817164476455566,
          -0.9783247802117272,
          0.6808184345739845,
          0.3747598852357846,
          -0.6403048226750226,
          0.7381446231963469,
          -0.41634504483786294,
          0.7695069600567283,
          -0.9861268876744749,
          -0.9094140469219996
         ],
         "y": [
          -0.04594429489713947,
          0.009929823155331795,
          0.06977368962042108,
          -0.03554501142220377,
          -0.2718475643564226,
          -0.021048132509266515,
          0.4463305267339926,
          -0.0044581849903055125,
          0.5598501653085918,
          0.11299701867320243,
          -0.11957842180179495,
          0.06949118611169428,
          0.01645805179980316,
          0.07465434149006159,
          -0.021687029954476394,
          0.030348400817593872,
          0.16416165360097915,
          0.18420690152943006,
          -0.7989264761638771,
          0.1503667464305165,
          -0.06508058528827075,
          0.09444012602493576,
          -0.21973975335183427,
          0.23569186571287742,
          -0.8440214041774391,
          -0.514885247228467,
          0.059601249245002874,
          -0.23200971257126604,
          0.6456607154864553,
          -0.16080950876451303,
          -0.057726777657956654,
          0.020310357214161818,
          -0.3354028344153529,
          0.6211189991550274,
          0.8998264397638593,
          -0.7340694882332508,
          0.8572167571129538,
          0.04640986967726306,
          -0.8400935801085974,
          0.6829252797094295,
          -0.19845076020327979,
          -0.6296029042433124,
          -0.5550297189447067,
          -0.5177333404504434,
          -0.34025582451485725,
          0.2838723377756786,
          -0.23342611984797143,
          0.8945561713477332,
          -0.4997452222413734,
          0.5758313698293224,
          -0.0028136552660971486,
          0.47489603862538937,
          0.215804675590335,
          -0.37476557640169905,
          -0.698292502712622,
          0.743177925540722,
          -0.21390687038709044,
          0.867146356398359,
          -0.04766865206538878,
          -0.12569284567964317,
          -0.3467970386302061
         ]
        }
       ],
       "layout": {
        "annotations": [
         {
          "arrowhead": 1,
          "ax": -10,
          "ay": -10,
          "font": {
           "color": "white",
           "size": 12
          },
          "showarrow": false,
          "text": "JPN",
          "x": 0.11320870325900366,
          "xanchor": "right",
          "xref": "x",
          "xshift": 15,
          "y": -0.04594429489713947,
          "yref": "y"
         },
         {
          "arrowhead": 1,
          "ax": -10,
          "ay": -10,
          "font": {
           "color": "white",
           "size": 12
          },
          "showarrow": false,
          "text": "CHN",
          "x": 0.08756670506959215,
          "xanchor": "right",
          "xref": "x",
          "xshift": 15,
          "y": 0.009929823155331795,
          "yref": "y"
         },
         {
          "arrowhead": 1,
          "ax": -10,
          "ay": -10,
          "font": {
           "color": "white",
           "size": 12
          },
          "showarrow": false,
          "text": "USA",
          "x": 0.08840121506070808,
          "xanchor": "right",
          "xref": "x",
          "xshift": 15,
          "y": 0.06977368962042108,
          "yref": "y"
         },
         {
          "arrowhead": 1,
          "ax": -10,
          "ay": -10,
          "font": {
           "color": "white",
           "size": 12
          },
          "showarrow": false,
          "text": "KOR",
          "x": 0.17054007260261259,
          "xanchor": "right",
          "xref": "x",
          "xshift": 15,
          "y": -0.03554501142220377,
          "yref": "y"
         },
         {
          "arrowhead": 1,
          "ax": -10,
          "ay": -10,
          "font": {
           "color": "white",
           "size": 12
          },
          "showarrow": false,
          "text": "ROU",
          "x": 0.10109176178862496,
          "xanchor": "right",
          "xref": "x",
          "xshift": 15,
          "y": -0.2718475643564226,
          "yref": "y"
         },
         {
          "arrowhead": 1,
          "ax": -10,
          "ay": -10,
          "font": {
           "color": "white",
           "size": 12
          },
          "showarrow": false,
          "text": "DEU",
          "x": 0.10855764422079237,
          "xanchor": "right",
          "xref": "x",
          "xshift": 15,
          "y": -0.021048132509266515,
          "yref": "y"
         },
         {
          "arrowhead": 1,
          "ax": -10,
          "ay": -10,
          "font": {
           "color": "white",
           "size": 12
          },
          "showarrow": false,
          "text": "SRB",
          "x": 0.6714031073812717,
          "xanchor": "right",
          "xref": "x",
          "xshift": 15,
          "y": 0.4463305267339926,
          "yref": "y"
         },
         {
          "arrowhead": 1,
          "ax": -10,
          "ay": -10,
          "font": {
           "color": "white",
           "size": 12
          },
          "showarrow": false,
          "text": "FRA",
          "x": 0.022174729655009502,
          "xanchor": "right",
          "xref": "x",
          "xshift": 15,
          "y": -0.0044581849903055125,
          "yref": "y"
         },
         {
          "arrowhead": 1,
          "ax": -10,
          "ay": -10,
          "font": {
           "color": "white",
           "size": 12
          },
          "showarrow": false,
          "text": "AUS",
          "x": 0.509454317389106,
          "xanchor": "right",
          "xref": "x",
          "xshift": 15,
          "y": 0.5598501653085918,
          "yref": "y"
         },
         {
          "arrowhead": 1,
          "ax": -10,
          "ay": -10,
          "font": {
           "color": "white",
           "size": 12
          },
          "showarrow": false,
          "text": "NZL",
          "x": 0.7698994195210481,
          "xanchor": "right",
          "xref": "x",
          "xshift": 15,
          "y": 0.11299701867320243,
          "yref": "y"
         },
         {
          "arrowhead": 1,
          "ax": -10,
          "ay": -10,
          "font": {
           "color": "white",
           "size": 12
          },
          "showarrow": false,
          "text": "ESP",
          "x": -0.05128725914257107,
          "xanchor": "right",
          "xref": "x",
          "xshift": 15,
          "y": -0.11957842180179495,
          "yref": "y"
         },
         {
          "arrowhead": 1,
          "ax": -10,
          "ay": -10,
          "font": {
           "color": "white",
           "size": 12
          },
          "showarrow": false,
          "text": "BEL",
          "x": 0.04032317228164445,
          "xanchor": "right",
          "xref": "x",
          "xshift": 15,
          "y": 0.06949118611169428,
          "yref": "y"
         },
         {
          "arrowhead": 1,
          "ax": -10,
          "ay": -10,
          "font": {
           "color": "white",
           "size": 12
          },
          "showarrow": false,
          "text": "PRT",
          "x": -0.31940893605818543,
          "xanchor": "right",
          "xref": "x",
          "xshift": 15,
          "y": 0.01645805179980316,
          "yref": "y"
         },
         {
          "arrowhead": 1,
          "ax": -10,
          "ay": -10,
          "font": {
           "color": "white",
           "size": 12
          },
          "showarrow": false,
          "text": "AUT",
          "x": 0.2665253554846931,
          "xanchor": "right",
          "xref": "x",
          "xshift": 15,
          "y": 0.07465434149006159,
          "yref": "y"
         },
         {
          "arrowhead": 1,
          "ax": -10,
          "ay": -10,
          "font": {
           "color": "white",
           "size": 12
          },
          "showarrow": false,
          "text": "ITA",
          "x": 0.04143783798096102,
          "xanchor": "right",
          "xref": "x",
          "xshift": 15,
          "y": -0.021687029954476394,
          "yref": "y"
         },
         {
          "arrowhead": 1,
          "ax": -10,
          "ay": -10,
          "font": {
           "color": "white",
           "size": 12
          },
          "showarrow": false,
          "text": "NLD",
          "x": -0.03493206605052157,
          "xanchor": "right",
          "xref": "x",
          "xshift": 15,
          "y": 0.030348400817593872,
          "yref": "y"
         },
         {
          "arrowhead": 1,
          "ax": -10,
          "ay": -10,
          "font": {
           "color": "white",
           "size": 12
          },
          "showarrow": false,
          "text": "IRL",
          "x": -0.16911648587681216,
          "xanchor": "right",
          "xref": "x",
          "xshift": 15,
          "y": 0.16416165360097915,
          "yref": "y"
         },
         {
          "arrowhead": 1,
          "ax": -10,
          "ay": -10,
          "font": {
           "color": "white",
           "size": 12
          },
          "showarrow": false,
          "text": "LUX",
          "x": 0.0657653813045109,
          "xanchor": "right",
          "xref": "x",
          "xshift": 15,
          "y": 0.18420690152943006,
          "yref": "y"
         },
         {
          "arrowhead": 1,
          "ax": -10,
          "ay": -10,
          "font": {
           "color": "white",
           "size": 12
          },
          "showarrow": false,
          "text": "MAR",
          "x": 0.1996047184456999,
          "xanchor": "right",
          "xref": "x",
          "xshift": 15,
          "y": -0.7989264761638771,
          "yref": "y"
         },
         {
          "arrowhead": 1,
          "ax": -10,
          "ay": -10,
          "font": {
           "color": "white",
           "size": 12
          },
          "showarrow": false,
          "text": "CHE",
          "x": 0.312425530100504,
          "xanchor": "right",
          "xref": "x",
          "xshift": 15,
          "y": 0.1503667464305165,
          "yref": "y"
         },
         {
          "arrowhead": 1,
          "ax": -10,
          "ay": -10,
          "font": {
           "color": "white",
           "size": 12
          },
          "showarrow": false,
          "text": "POL",
          "x": 0.26715777164138654,
          "xanchor": "right",
          "xref": "x",
          "xshift": 15,
          "y": -0.06508058528827075,
          "yref": "y"
         },
         {
          "arrowhead": 1,
          "ax": -10,
          "ay": -10,
          "font": {
           "color": "white",
           "size": 12
          },
          "showarrow": false,
          "text": "GBR",
          "x": -0.17155013268437014,
          "xanchor": "right",
          "xref": "x",
          "xshift": 15,
          "y": 0.09444012602493576,
          "yref": "y"
         },
         {
          "arrowhead": 1,
          "ax": -10,
          "ay": -10,
          "font": {
           "color": "white",
           "size": 12
          },
          "showarrow": false,
          "text": "SVK",
          "x": 0.5479769257711956,
          "xanchor": "right",
          "xref": "x",
          "xshift": 15,
          "y": -0.21973975335183427,
          "yref": "y"
         },
         {
          "arrowhead": 1,
          "ax": -10,
          "ay": -10,
          "font": {
           "color": "white",
           "size": 12
          },
          "showarrow": false,
          "text": "SVN",
          "x": 0.011222669669352441,
          "xanchor": "right",
          "xref": "x",
          "xshift": 15,
          "y": 0.23569186571287742,
          "yref": "y"
         },
         {
          "arrowhead": 1,
          "ax": -10,
          "ay": -10,
          "font": {
           "color": "white",
           "size": 12
          },
          "showarrow": false,
          "text": "URY",
          "x": 0.017184669354649462,
          "xanchor": "right",
          "xref": "x",
          "xshift": 15,
          "y": -0.8440214041774391,
          "yref": "y"
         },
         {
          "arrowhead": 1,
          "ax": -10,
          "ay": -10,
          "font": {
           "color": "white",
           "size": 12
          },
          "showarrow": false,
          "text": "MKD",
          "x": 0.015116285259998417,
          "xanchor": "right",
          "xref": "x",
          "xshift": 15,
          "y": -0.514885247228467,
          "yref": "y"
         },
         {
          "arrowhead": 1,
          "ax": -10,
          "ay": -10,
          "font": {
           "color": "white",
           "size": 12
          },
          "showarrow": false,
          "text": "IND",
          "x": -0.23959671561650198,
          "xanchor": "right",
          "xref": "x",
          "xshift": 15,
          "y": 0.059601249245002874,
          "yref": "y"
         },
         {
          "arrowhead": 1,
          "ax": -10,
          "ay": -10,
          "font": {
           "color": "white",
           "size": 12
          },
          "showarrow": false,
          "text": "DNK",
          "x": -0.2972161181199603,
          "xanchor": "right",
          "xref": "x",
          "xshift": 15,
          "y": -0.23200971257126604,
          "yref": "y"
         },
         {
          "arrowhead": 1,
          "ax": -10,
          "ay": -10,
          "font": {
           "color": "white",
           "size": 12
          },
          "showarrow": false,
          "text": "BIH",
          "x": 0.28971389821024074,
          "xanchor": "right",
          "xref": "x",
          "xshift": 15,
          "y": 0.6456607154864553,
          "yref": "y"
         },
         {
          "arrowhead": 1,
          "ax": -10,
          "ay": -10,
          "font": {
           "color": "white",
           "size": 12
          },
          "showarrow": false,
          "text": "CZE",
          "x": 0.33192783329288633,
          "xanchor": "right",
          "xref": "x",
          "xshift": 15,
          "y": -0.16080950876451303,
          "yref": "y"
         },
         {
          "arrowhead": 1,
          "ax": -10,
          "ay": -10,
          "font": {
           "color": "white",
           "size": 12
          },
          "showarrow": false,
          "text": "TUR",
          "x": -0.05263492096672026,
          "xanchor": "right",
          "xref": "x",
          "xshift": 15,
          "y": -0.057726777657956654,
          "yref": "y"
         },
         {
          "arrowhead": 1,
          "ax": -10,
          "ay": -10,
          "font": {
           "color": "white",
           "size": 12
          },
          "showarrow": false,
          "text": "HUN",
          "x": 0.473551099291516,
          "xanchor": "right",
          "xref": "x",
          "xshift": 15,
          "y": 0.020310357214161818,
          "yref": "y"
         },
         {
          "arrowhead": 1,
          "ax": -10,
          "ay": -10,
          "font": {
           "color": "white",
           "size": 12
          },
          "showarrow": false,
          "text": "ALB",
          "x": -0.11638553954675478,
          "xanchor": "right",
          "xref": "x",
          "xshift": 15,
          "y": -0.3354028344153529,
          "yref": "y"
         },
         {
          "arrowhead": 1,
          "ax": -10,
          "ay": -10,
          "font": {
           "color": "white",
           "size": 12
          },
          "showarrow": false,
          "text": "DZA",
          "x": -0.7779620201959278,
          "xanchor": "right",
          "xref": "x",
          "xshift": 15,
          "y": 0.6211189991550274,
          "yref": "y"
         },
         {
          "arrowhead": 1,
          "ax": -10,
          "ay": -10,
          "font": {
           "color": "white",
           "size": 12
          },
          "showarrow": false,
          "text": "UZB",
          "x": -0.10474783705538944,
          "xanchor": "right",
          "xref": "x",
          "xshift": 15,
          "y": 0.8998264397638593,
          "yref": "y"
         },
         {
          "arrowhead": 1,
          "ax": -10,
          "ay": -10,
          "font": {
           "color": "white",
           "size": 12
          },
          "showarrow": false,
          "text": "MDA",
          "x": -0.56378016803696,
          "xanchor": "right",
          "xref": "x",
          "xshift": 15,
          "y": -0.7340694882332508,
          "yref": "y"
         },
         {
          "arrowhead": 1,
          "ax": -10,
          "ay": -10,
          "font": {
           "color": "white",
           "size": 12
          },
          "showarrow": false,
          "text": "MNE",
          "x": 0.21936570846374162,
          "xanchor": "right",
          "xref": "x",
          "xshift": 15,
          "y": 0.8572167571129538,
          "yref": "y"
         },
         {
          "arrowhead": 1,
          "ax": -10,
          "ay": -10,
          "font": {
           "color": "white",
           "size": 12
          },
          "showarrow": false,
          "text": "LBN",
          "x": -1,
          "xanchor": "right",
          "xref": "x",
          "xshift": 15,
          "y": 0.04640986967726306,
          "yref": "y"
         },
         {
          "arrowhead": 1,
          "ax": -10,
          "ay": -10,
          "font": {
           "color": "white",
           "size": 12
          },
          "showarrow": false,
          "text": "GEO",
          "x": -0.271100485432639,
          "xanchor": "right",
          "xref": "x",
          "xshift": 15,
          "y": -0.8400935801085974,
          "yref": "y"
         },
         {
          "arrowhead": 1,
          "ax": -10,
          "ay": -10,
          "font": {
           "color": "white",
           "size": 12
          },
          "showarrow": false,
          "text": "CAN",
          "x": 0.48473410853652127,
          "xanchor": "right",
          "xref": "x",
          "xshift": 15,
          "y": 0.6829252797094295,
          "yref": "y"
         },
         {
          "arrowhead": 1,
          "ax": -10,
          "ay": -10,
          "font": {
           "color": "white",
           "size": 12
          },
          "showarrow": false,
          "text": "BGR",
          "x": -0.22860498893089246,
          "xanchor": "right",
          "xref": "x",
          "xshift": 15,
          "y": -0.19845076020327979,
          "yref": "y"
         },
         {
          "arrowhead": 1,
          "ax": -10,
          "ay": -10,
          "font": {
           "color": "white",
           "size": 12
          },
          "showarrow": false,
          "text": "AZE",
          "x": -0.7128462083153254,
          "xanchor": "right",
          "xref": "x",
          "xshift": 15,
          "y": -0.6296029042433124,
          "yref": "y"
         },
         {
          "arrowhead": 1,
          "ax": -10,
          "ay": -10,
          "font": {
           "color": "white",
           "size": 12
          },
          "showarrow": false,
          "text": "TWN",
          "x": 0.1478803602711503,
          "xanchor": "right",
          "xref": "x",
          "xshift": 15,
          "y": -0.5550297189447067,
          "yref": "y"
         },
         {
          "arrowhead": 1,
          "ax": -10,
          "ay": -10,
          "font": {
           "color": "white",
           "size": 12
          },
          "showarrow": false,
          "text": "RUS",
          "x": 0.5874067304068135,
          "xanchor": "right",
          "xref": "x",
          "xshift": 15,
          "y": -0.5177333404504434,
          "yref": "y"
         },
         {
          "arrowhead": 1,
          "ax": -10,
          "ay": -10,
          "font": {
           "color": "white",
           "size": 12
          },
          "showarrow": false,
          "text": "ARG",
          "x": 0.278140844749654,
          "xanchor": "right",
          "xref": "x",
          "xshift": 15,
          "y": -0.34025582451485725,
          "yref": "y"
         },
         {
          "arrowhead": 1,
          "ax": -10,
          "ay": -10,
          "font": {
           "color": "white",
           "size": 12
          },
          "showarrow": false,
          "text": "HRV",
          "x": 0.7181043373233018,
          "xanchor": "right",
          "xref": "x",
          "xshift": 15,
          "y": 0.2838723377756786,
          "yref": "y"
         },
         {
          "arrowhead": 1,
          "ax": -10,
          "ay": -10,
          "font": {
           "color": "white",
           "size": 12
          },
          "showarrow": false,
          "text": "GRC",
          "x": 0.17106771247345245,
          "xanchor": "right",
          "xref": "x",
          "xshift": 15,
          "y": -0.23342611984797143,
          "yref": "y"
         },
         {
          "arrowhead": 1,
          "ax": -10,
          "ay": -10,
          "font": {
           "color": "white",
           "size": 12
          },
          "showarrow": false,
          "text": "VNM",
          "x": 0.05647759457314178,
          "xanchor": "right",
          "xref": "x",
          "xshift": 15,
          "y": 0.8945561713477332,
          "yref": "y"
         },
         {
          "arrowhead": 1,
          "ax": -10,
          "ay": -10,
          "font": {
           "color": "white",
           "size": 12
          },
          "showarrow": false,
          "text": "UKR",
          "x": -0.8245526878687734,
          "xanchor": "right",
          "xref": "x",
          "xshift": 15,
          "y": -0.4997452222413734,
          "yref": "y"
         },
         {
          "arrowhead": 1,
          "ax": -10,
          "ay": -10,
          "font": {
           "color": "white",
           "size": 12
          },
          "showarrow": false,
          "text": "MEX",
          "x": 0.5927438095187568,
          "xanchor": "right",
          "xref": "x",
          "xshift": 15,
          "y": 0.5758313698293224,
          "yref": "y"
         },
         {
          "arrowhead": 1,
          "ax": -10,
          "ay": -10,
          "font": {
           "color": "white",
           "size": 12
          },
          "showarrow": false,
          "text": "TUN",
          "x": -0.5934273335514363,
          "xanchor": "right",
          "xref": "x",
          "xshift": 15,
          "y": -0.0028136552660971486,
          "yref": "y"
         },
         {
          "arrowhead": 1,
          "ax": -10,
          "ay": -10,
          "font": {
           "color": "white",
           "size": 12
          },
          "showarrow": false,
          "text": "IRN",
          "x": -0.8817164476455566,
          "xanchor": "right",
          "xref": "x",
          "xshift": 15,
          "y": 0.47489603862538937,
          "yref": "y"
         },
         {
          "arrowhead": 1,
          "ax": -10,
          "ay": -10,
          "font": {
           "color": "white",
           "size": 12
          },
          "showarrow": false,
          "text": "ZAF",
          "x": -0.9783247802117272,
          "xanchor": "right",
          "xref": "x",
          "xshift": 15,
          "y": 0.215804675590335,
          "yref": "y"
         },
         {
          "arrowhead": 1,
          "ax": -10,
          "ay": -10,
          "font": {
           "color": "white",
           "size": 12
          },
          "showarrow": false,
          "text": "CYP",
          "x": 0.6808184345739845,
          "xanchor": "right",
          "xref": "x",
          "xshift": 15,
          "y": -0.37476557640169905,
          "yref": "y"
         },
         {
          "arrowhead": 1,
          "ax": -10,
          "ay": -10,
          "font": {
           "color": "white",
           "size": 12
          },
          "showarrow": false,
          "text": "BRA",
          "x": 0.3747598852357846,
          "xanchor": "right",
          "xref": "x",
          "xshift": 15,
          "y": -0.698292502712622,
          "yref": "y"
         },
         {
          "arrowhead": 1,
          "ax": -10,
          "ay": -10,
          "font": {
           "color": "white",
           "size": 12
          },
          "showarrow": false,
          "text": "KAZ",
          "x": -0.6403048226750226,
          "xanchor": "right",
          "xref": "x",
          "xshift": 15,
          "y": 0.743177925540722,
          "yref": "y"
         },
         {
          "arrowhead": 1,
          "ax": -10,
          "ay": -10,
          "font": {
           "color": "white",
           "size": 12
          },
          "showarrow": false,
          "text": "PAK",
          "x": 0.7381446231963469,
          "xanchor": "right",
          "xref": "x",
          "xshift": 15,
          "y": -0.21390687038709044,
          "yref": "y"
         },
         {
          "arrowhead": 1,
          "ax": -10,
          "ay": -10,
          "font": {
           "color": "white",
           "size": 12
          },
          "showarrow": false,
          "text": "SWE",
          "x": -0.41634504483786294,
          "xanchor": "right",
          "xref": "x",
          "xshift": 15,
          "y": 0.867146356398359,
          "yref": "y"
         },
         {
          "arrowhead": 1,
          "ax": -10,
          "ay": -10,
          "font": {
           "color": "white",
           "size": 12
          },
          "showarrow": false,
          "text": "CHL",
          "x": 0.7695069600567283,
          "xanchor": "right",
          "xref": "x",
          "xshift": 15,
          "y": -0.04766865206538878,
          "yref": "y"
         },
         {
          "arrowhead": 1,
          "ax": -10,
          "ay": -10,
          "font": {
           "color": "white",
           "size": 12
          },
          "showarrow": false,
          "text": "KGZ",
          "x": -0.9861268876744749,
          "xanchor": "right",
          "xref": "x",
          "xshift": 15,
          "y": -0.12569284567964317,
          "yref": "y"
         },
         {
          "arrowhead": 1,
          "ax": -10,
          "ay": -10,
          "font": {
           "color": "white",
           "size": 12
          },
          "showarrow": false,
          "text": "ARM",
          "x": -0.9094140469219996,
          "xanchor": "right",
          "xref": "x",
          "xshift": 15,
          "y": -0.3467970386302061,
          "yref": "y"
         }
        ],
        "hovermode": "closest",
        "margin": {
         "b": 0,
         "l": 0,
         "pad": 0,
         "r": 0,
         "t": 0
        },
        "paper_bgcolor": "#19191a",
        "plot_bgcolor": "#19191a",
        "showlegend": false,
        "template": {
         "data": {
          "bar": [
           {
            "error_x": {
             "color": "#2a3f5f"
            },
            "error_y": {
             "color": "#2a3f5f"
            },
            "marker": {
             "line": {
              "color": "#E5ECF6",
              "width": 0.5
             }
            },
            "type": "bar"
           }
          ],
          "barpolar": [
           {
            "marker": {
             "line": {
              "color": "#E5ECF6",
              "width": 0.5
             }
            },
            "type": "barpolar"
           }
          ],
          "carpet": [
           {
            "aaxis": {
             "endlinecolor": "#2a3f5f",
             "gridcolor": "white",
             "linecolor": "white",
             "minorgridcolor": "white",
             "startlinecolor": "#2a3f5f"
            },
            "baxis": {
             "endlinecolor": "#2a3f5f",
             "gridcolor": "white",
             "linecolor": "white",
             "minorgridcolor": "white",
             "startlinecolor": "#2a3f5f"
            },
            "type": "carpet"
           }
          ],
          "choropleth": [
           {
            "colorbar": {
             "outlinewidth": 0,
             "ticks": ""
            },
            "type": "choropleth"
           }
          ],
          "contour": [
           {
            "colorbar": {
             "outlinewidth": 0,
             "ticks": ""
            },
            "colorscale": [
             [
              0,
              "#0d0887"
             ],
             [
              0.1111111111111111,
              "#46039f"
             ],
             [
              0.2222222222222222,
              "#7201a8"
             ],
             [
              0.3333333333333333,
              "#9c179e"
             ],
             [
              0.4444444444444444,
              "#bd3786"
             ],
             [
              0.5555555555555556,
              "#d8576b"
             ],
             [
              0.6666666666666666,
              "#ed7953"
             ],
             [
              0.7777777777777778,
              "#fb9f3a"
             ],
             [
              0.8888888888888888,
              "#fdca26"
             ],
             [
              1,
              "#f0f921"
             ]
            ],
            "type": "contour"
           }
          ],
          "contourcarpet": [
           {
            "colorbar": {
             "outlinewidth": 0,
             "ticks": ""
            },
            "type": "contourcarpet"
           }
          ],
          "heatmap": [
           {
            "colorbar": {
             "outlinewidth": 0,
             "ticks": ""
            },
            "colorscale": [
             [
              0,
              "#0d0887"
             ],
             [
              0.1111111111111111,
              "#46039f"
             ],
             [
              0.2222222222222222,
              "#7201a8"
             ],
             [
              0.3333333333333333,
              "#9c179e"
             ],
             [
              0.4444444444444444,
              "#bd3786"
             ],
             [
              0.5555555555555556,
              "#d8576b"
             ],
             [
              0.6666666666666666,
              "#ed7953"
             ],
             [
              0.7777777777777778,
              "#fb9f3a"
             ],
             [
              0.8888888888888888,
              "#fdca26"
             ],
             [
              1,
              "#f0f921"
             ]
            ],
            "type": "heatmap"
           }
          ],
          "heatmapgl": [
           {
            "colorbar": {
             "outlinewidth": 0,
             "ticks": ""
            },
            "colorscale": [
             [
              0,
              "#0d0887"
             ],
             [
              0.1111111111111111,
              "#46039f"
             ],
             [
              0.2222222222222222,
              "#7201a8"
             ],
             [
              0.3333333333333333,
              "#9c179e"
             ],
             [
              0.4444444444444444,
              "#bd3786"
             ],
             [
              0.5555555555555556,
              "#d8576b"
             ],
             [
              0.6666666666666666,
              "#ed7953"
             ],
             [
              0.7777777777777778,
              "#fb9f3a"
             ],
             [
              0.8888888888888888,
              "#fdca26"
             ],
             [
              1,
              "#f0f921"
             ]
            ],
            "type": "heatmapgl"
           }
          ],
          "histogram": [
           {
            "marker": {
             "colorbar": {
              "outlinewidth": 0,
              "ticks": ""
             }
            },
            "type": "histogram"
           }
          ],
          "histogram2d": [
           {
            "colorbar": {
             "outlinewidth": 0,
             "ticks": ""
            },
            "colorscale": [
             [
              0,
              "#0d0887"
             ],
             [
              0.1111111111111111,
              "#46039f"
             ],
             [
              0.2222222222222222,
              "#7201a8"
             ],
             [
              0.3333333333333333,
              "#9c179e"
             ],
             [
              0.4444444444444444,
              "#bd3786"
             ],
             [
              0.5555555555555556,
              "#d8576b"
             ],
             [
              0.6666666666666666,
              "#ed7953"
             ],
             [
              0.7777777777777778,
              "#fb9f3a"
             ],
             [
              0.8888888888888888,
              "#fdca26"
             ],
             [
              1,
              "#f0f921"
             ]
            ],
            "type": "histogram2d"
           }
          ],
          "histogram2dcontour": [
           {
            "colorbar": {
             "outlinewidth": 0,
             "ticks": ""
            },
            "colorscale": [
             [
              0,
              "#0d0887"
             ],
             [
              0.1111111111111111,
              "#46039f"
             ],
             [
              0.2222222222222222,
              "#7201a8"
             ],
             [
              0.3333333333333333,
              "#9c179e"
             ],
             [
              0.4444444444444444,
              "#bd3786"
             ],
             [
              0.5555555555555556,
              "#d8576b"
             ],
             [
              0.6666666666666666,
              "#ed7953"
             ],
             [
              0.7777777777777778,
              "#fb9f3a"
             ],
             [
              0.8888888888888888,
              "#fdca26"
             ],
             [
              1,
              "#f0f921"
             ]
            ],
            "type": "histogram2dcontour"
           }
          ],
          "mesh3d": [
           {
            "colorbar": {
             "outlinewidth": 0,
             "ticks": ""
            },
            "type": "mesh3d"
           }
          ],
          "parcoords": [
           {
            "line": {
             "colorbar": {
              "outlinewidth": 0,
              "ticks": ""
             }
            },
            "type": "parcoords"
           }
          ],
          "pie": [
           {
            "automargin": true,
            "type": "pie"
           }
          ],
          "scatter": [
           {
            "marker": {
             "colorbar": {
              "outlinewidth": 0,
              "ticks": ""
             }
            },
            "type": "scatter"
           }
          ],
          "scatter3d": [
           {
            "line": {
             "colorbar": {
              "outlinewidth": 0,
              "ticks": ""
             }
            },
            "marker": {
             "colorbar": {
              "outlinewidth": 0,
              "ticks": ""
             }
            },
            "type": "scatter3d"
           }
          ],
          "scattercarpet": [
           {
            "marker": {
             "colorbar": {
              "outlinewidth": 0,
              "ticks": ""
             }
            },
            "type": "scattercarpet"
           }
          ],
          "scattergeo": [
           {
            "marker": {
             "colorbar": {
              "outlinewidth": 0,
              "ticks": ""
             }
            },
            "type": "scattergeo"
           }
          ],
          "scattergl": [
           {
            "marker": {
             "colorbar": {
              "outlinewidth": 0,
              "ticks": ""
             }
            },
            "type": "scattergl"
           }
          ],
          "scattermapbox": [
           {
            "marker": {
             "colorbar": {
              "outlinewidth": 0,
              "ticks": ""
             }
            },
            "type": "scattermapbox"
           }
          ],
          "scatterpolar": [
           {
            "marker": {
             "colorbar": {
              "outlinewidth": 0,
              "ticks": ""
             }
            },
            "type": "scatterpolar"
           }
          ],
          "scatterpolargl": [
           {
            "marker": {
             "colorbar": {
              "outlinewidth": 0,
              "ticks": ""
             }
            },
            "type": "scatterpolargl"
           }
          ],
          "scatterternary": [
           {
            "marker": {
             "colorbar": {
              "outlinewidth": 0,
              "ticks": ""
             }
            },
            "type": "scatterternary"
           }
          ],
          "surface": [
           {
            "colorbar": {
             "outlinewidth": 0,
             "ticks": ""
            },
            "colorscale": [
             [
              0,
              "#0d0887"
             ],
             [
              0.1111111111111111,
              "#46039f"
             ],
             [
              0.2222222222222222,
              "#7201a8"
             ],
             [
              0.3333333333333333,
              "#9c179e"
             ],
             [
              0.4444444444444444,
              "#bd3786"
             ],
             [
              0.5555555555555556,
              "#d8576b"
             ],
             [
              0.6666666666666666,
              "#ed7953"
             ],
             [
              0.7777777777777778,
              "#fb9f3a"
             ],
             [
              0.8888888888888888,
              "#fdca26"
             ],
             [
              1,
              "#f0f921"
             ]
            ],
            "type": "surface"
           }
          ],
          "table": [
           {
            "cells": {
             "fill": {
              "color": "#EBF0F8"
             },
             "line": {
              "color": "white"
             }
            },
            "header": {
             "fill": {
              "color": "#C8D4E3"
             },
             "line": {
              "color": "white"
             }
            },
            "type": "table"
           }
          ]
         },
         "layout": {
          "annotationdefaults": {
           "arrowcolor": "#2a3f5f",
           "arrowhead": 0,
           "arrowwidth": 1
          },
          "autotypenumbers": "strict",
          "coloraxis": {
           "colorbar": {
            "outlinewidth": 0,
            "ticks": ""
           }
          },
          "colorscale": {
           "diverging": [
            [
             0,
             "#8e0152"
            ],
            [
             0.1,
             "#c51b7d"
            ],
            [
             0.2,
             "#de77ae"
            ],
            [
             0.3,
             "#f1b6da"
            ],
            [
             0.4,
             "#fde0ef"
            ],
            [
             0.5,
             "#f7f7f7"
            ],
            [
             0.6,
             "#e6f5d0"
            ],
            [
             0.7,
             "#b8e186"
            ],
            [
             0.8,
             "#7fbc41"
            ],
            [
             0.9,
             "#4d9221"
            ],
            [
             1,
             "#276419"
            ]
           ],
           "sequential": [
            [
             0,
             "#0d0887"
            ],
            [
             0.1111111111111111,
             "#46039f"
            ],
            [
             0.2222222222222222,
             "#7201a8"
            ],
            [
             0.3333333333333333,
             "#9c179e"
            ],
            [
             0.4444444444444444,
             "#bd3786"
            ],
            [
             0.5555555555555556,
             "#d8576b"
            ],
            [
             0.6666666666666666,
             "#ed7953"
            ],
            [
             0.7777777777777778,
             "#fb9f3a"
            ],
            [
             0.8888888888888888,
             "#fdca26"
            ],
            [
             1,
             "#f0f921"
            ]
           ],
           "sequentialminus": [
            [
             0,
             "#0d0887"
            ],
            [
             0.1111111111111111,
             "#46039f"
            ],
            [
             0.2222222222222222,
             "#7201a8"
            ],
            [
             0.3333333333333333,
             "#9c179e"
            ],
            [
             0.4444444444444444,
             "#bd3786"
            ],
            [
             0.5555555555555556,
             "#d8576b"
            ],
            [
             0.6666666666666666,
             "#ed7953"
            ],
            [
             0.7777777777777778,
             "#fb9f3a"
            ],
            [
             0.8888888888888888,
             "#fdca26"
            ],
            [
             1,
             "#f0f921"
            ]
           ]
          },
          "colorway": [
           "#636efa",
           "#EF553B",
           "#00cc96",
           "#ab63fa",
           "#FFA15A",
           "#19d3f3",
           "#FF6692",
           "#B6E880",
           "#FF97FF",
           "#FECB52"
          ],
          "font": {
           "color": "#2a3f5f"
          },
          "geo": {
           "bgcolor": "white",
           "lakecolor": "white",
           "landcolor": "#E5ECF6",
           "showlakes": true,
           "showland": true,
           "subunitcolor": "white"
          },
          "hoverlabel": {
           "align": "left"
          },
          "hovermode": "closest",
          "mapbox": {
           "style": "light"
          },
          "paper_bgcolor": "white",
          "plot_bgcolor": "#E5ECF6",
          "polar": {
           "angularaxis": {
            "gridcolor": "white",
            "linecolor": "white",
            "ticks": ""
           },
           "bgcolor": "#E5ECF6",
           "radialaxis": {
            "gridcolor": "white",
            "linecolor": "white",
            "ticks": ""
           }
          },
          "scene": {
           "xaxis": {
            "backgroundcolor": "#E5ECF6",
            "gridcolor": "white",
            "gridwidth": 2,
            "linecolor": "white",
            "showbackground": true,
            "ticks": "",
            "zerolinecolor": "white"
           },
           "yaxis": {
            "backgroundcolor": "#E5ECF6",
            "gridcolor": "white",
            "gridwidth": 2,
            "linecolor": "white",
            "showbackground": true,
            "ticks": "",
            "zerolinecolor": "white"
           },
           "zaxis": {
            "backgroundcolor": "#E5ECF6",
            "gridcolor": "white",
            "gridwidth": 2,
            "linecolor": "white",
            "showbackground": true,
            "ticks": "",
            "zerolinecolor": "white"
           }
          },
          "shapedefaults": {
           "line": {
            "color": "#2a3f5f"
           }
          },
          "ternary": {
           "aaxis": {
            "gridcolor": "white",
            "linecolor": "white",
            "ticks": ""
           },
           "baxis": {
            "gridcolor": "white",
            "linecolor": "white",
            "ticks": ""
           },
           "bgcolor": "#E5ECF6",
           "caxis": {
            "gridcolor": "white",
            "linecolor": "white",
            "ticks": ""
           }
          },
          "title": {
           "x": 0.05
          },
          "xaxis": {
           "automargin": true,
           "gridcolor": "white",
           "linecolor": "white",
           "ticks": "",
           "title": {
            "standoff": 15
           },
           "zerolinecolor": "white",
           "zerolinewidth": 2
          },
          "yaxis": {
           "automargin": true,
           "gridcolor": "white",
           "linecolor": "white",
           "ticks": "",
           "title": {
            "standoff": 15
           },
           "zerolinecolor": "white",
           "zerolinewidth": 2
          }
         }
        },
        "title": {
         "font": {
          "size": 16
         }
        },
        "xaxis": {
         "showgrid": false,
         "showticklabels": false,
         "zeroline": false
        },
        "yaxis": {
         "showgrid": false,
         "showticklabels": false,
         "zeroline": false
        }
       }
      }
     },
     "metadata": {}
    }
   ],
   "source": [
    "arrowangle = 15\n",
    "edge_trace_list = []\n",
    "edge_x = []\n",
    "edge_y = []\n",
    "for edge in G.edges():\n",
    "        \n",
    "    start = G.nodes[edge[0]][\"pos\"]\n",
    "    \n",
    "    end = G.nodes[edge[1]][\"pos\"]\n",
    "    edge_x_pos = []\n",
    "    edge_y_pos = []\n",
    "    # edge_x, edge_y = addEdge(start, end, edge_x, edge_y, 1, 'end', .02, 6, 40)\n",
    "    edge_x_pos, edge_y_pos = addEdge(\n",
    "        start, end, edge_x_pos, edge_y_pos, 1, \"end\", 0.04, arrowangle, 50\n",
    "    )\n",
    "    #edge_x.extend(edge_x_pos)\n",
    "    #edge_y.extend(edge_y_pos)\n",
    "    \n",
    "    edge_text = (\n",
    "        edge[0] + ' to ' + edge[1]\n",
    "    )\n",
    "\n",
    "    edge_text_list = []\n",
    "    for i in range(\n",
    "                9\n",
    "            ):  # each label needs to be duplicated 9 times for each of the 9 points of the drawn arrows from addEdge()\n",
    "                edge_text_list.append(edge_text)\n",
    "\n",
    "    trace = go.Scatter(  # creates a trace for each edge, appends to list to be drawn later)\n",
    "            x=edge_x_pos,\n",
    "            y=edge_y_pos,\n",
    "            line=dict(width=2, color='white'),\n",
    "            hoverinfo=\"text\",\n",
    "            text=(edge_text_list),\n",
    "            mode=\"lines\",\n",
    "            opacity = 0.5\n",
    "        )\n",
    "    edge_trace_list.append(trace)\n",
    "\n",
    "node_trace = go.Scatter(\n",
    "        x=x_pos,\n",
    "        y=y_pos,\n",
    "        mode=\"markers\",\n",
    "        hoverinfo=\"text\",\n",
    "        hovertext=hover_labels,\n",
    "        marker=dict(\n",
    "            showscale=False,\n",
    "            colorscale='aggrnyl',\n",
    "            reversescale=False,\n",
    "            color='blue',\n",
    "            size=50,\n",
    "            colorbar=dict(\n",
    "                thickness=35,\n",
    "                title=\"Probability of Introduction\",\n",
    "                titlefont=dict(color=\"white\", size=14),\n",
    "                tickfont=dict(color=\"white\"),\n",
    "                xanchor=\"left\",\n",
    "                titleside=\"right\",\n",
    "                bgcolor=\"#19191a\",\n",
    "            ),\n",
    "            line_width=3,\n",
    "            line_color='grey',\n",
    "        ),\n",
    "    )\n",
    "    \n",
    "fig = go.Figure(\n",
    "        data=[],\n",
    "        layout=go.Layout(\n",
    "            plot_bgcolor=\"#19191a\",\n",
    "            paper_bgcolor=\"#19191a\",\n",
    "            titlefont_size=16,\n",
    "            showlegend=False,\n",
    "            hovermode=\"closest\",\n",
    "            margin=dict(b=0, l=0, r=0, t=0, pad=0),\n",
    "            xaxis=dict(showgrid=False, zeroline=False, showticklabels=False),\n",
    "            yaxis=dict(showgrid=False, zeroline=False, showticklabels=False),\n",
    "        ),\n",
    "    )\n",
    "\n",
    "\n",
    "\n",
    "\n",
    "for trace in edge_trace_list:\n",
    "    fig.add_trace(trace)\n",
    "fig.add_trace(node_trace)\n",
    "\n",
    "\n",
    "\n",
    "annotations = []\n",
    "for (\n",
    "        node\n",
    "    ) in (\n",
    "        G.nodes()\n",
    "    ):  # sets color for node ISO code annotations, which float over each node\n",
    "        if node != \"Origin\":\n",
    "            x, y = G.nodes[node][\"pos\"]\n",
    "            node_text = country_codes_dict[node]\n",
    "            \n",
    "\n",
    "            annotations.append(\n",
    "                dict(\n",
    "                    x=x,\n",
    "                    y=y,\n",
    "                    xref=\"x\",\n",
    "                    yref=\"y\",\n",
    "                    text=node_text,  # node name that will be displayed\n",
    "                    xanchor=\"right\",\n",
    "                    xshift=15,\n",
    "                    font=dict(color='white', size=12),\n",
    "                    showarrow=False,\n",
    "                    arrowhead=1,\n",
    "                    ax=-10,\n",
    "                    ay=-10,\n",
    "                ),\n",
    "            )\n",
    "fig.update_layout(\n",
    "        #height=850,  # sets fig size - could potentially be adaptive\n",
    "        showlegend=False,\n",
    "        annotations=annotations,  # shows iSO annotations\n",
    "    )\n",
    "fig\n"
   ]
  },
  {
   "cell_type": "code",
   "execution_count": 10,
   "metadata": {},
   "outputs": [],
   "source": [
    "import dash_cytoscape as cyto\n",
    "import dash_html_components as html\n",
    "import dash"
   ]
  },
  {
   "cell_type": "code",
   "execution_count": 11,
   "metadata": {},
   "outputs": [
    {
     "output_type": "execute_result",
     "data": {
      "text/plain": [
       "<jupyter_plotly_dash.dash_wrapper.JupyterDash at 0x2ea58782608>"
      ],
      "text/html": "<div>\n  <iframe src=\"/app/endpoints/cf6c4489550d42a7a3709caac176f68f/\" width=800 height=600 frameborder=\"0\"></iframe>\n  <hr/><a href=\"/app/endpoints/cf6c4489550d42a7a3709caac176f68f/\" target=\"_new\">Open in new window</a> for /app/endpoints/cf6c4489550d42a7a3709caac176f68f/\n</div>"
     },
     "metadata": {},
     "execution_count": 11
    }
   ],
   "source": [
    "from jupyter_plotly_dash import JupyterDash\n",
    "import dash\n",
    "import dash_cytoscape as cyto\n",
    "import dash_html_components as html\n",
    "\n",
    "app = JupyterDash('YourAppExample')\n",
    "\n",
    "app.layout = html.Div([\n",
    "    cyto.Cytoscape(\n",
    "        id='cytoscape',\n",
    "        elements=[\n",
    "            {'data': {'id': 'one', 'label': 'Node 1'}, 'position': {'x': 50, 'y': 50}},\n",
    "            {'data': {'id': 'two', 'label': 'Node 2'}, 'position': {'x': 200, 'y': 200}},\n",
    "            {'data': {'source': 'one', 'target': 'two','label': 'Node 1 to 2'}}\n",
    "        ],\n",
    "        layout={'name': 'preset'}\n",
    "    )\n",
    "])\n",
    "\n",
    "app"
   ]
  },
  {
   "cell_type": "code",
   "execution_count": 16,
   "metadata": {},
   "outputs": [
    {
     "output_type": "execute_result",
     "data": {
      "text/plain": [
       "{'total_intros': 8290, 'pos': array([ 0.1132087 , -0.04594429])}"
      ]
     },
     "metadata": {},
     "execution_count": 16
    }
   ],
   "source": [
    "G.nodes['Japan']"
   ]
  },
  {
   "cell_type": "code",
   "execution_count": 19,
   "metadata": {},
   "outputs": [
    {
     "output_type": "execute_result",
     "data": {
      "text/plain": [
       "{'num_intros': 2118, 'log_intros': 7.658227526161352}"
      ]
     },
     "metadata": {},
     "execution_count": 19
    }
   ],
   "source": [
    "G['China']['United States']"
   ]
  },
  {
   "cell_type": "code",
   "execution_count": 21,
   "metadata": {},
   "outputs": [],
   "source": [
    "x = 4\n",
    "if (x ==2 or x + 1 == 4) and x < 5:\n",
    "    print(\"foo\")"
   ]
  },
  {
   "cell_type": "code",
   "execution_count": null,
   "metadata": {},
   "outputs": [],
   "source": []
  }
 ]
}