{
 "metadata": {
  "language_info": {
   "codemirror_mode": {
    "name": "ipython",
    "version": 3
   },
   "file_extension": ".py",
   "mimetype": "text/x-python",
   "name": "python",
   "nbconvert_exporter": "python",
   "pygments_lexer": "ipython3",
   "version": "3.7.9-final"
  },
  "orig_nbformat": 2,
  "kernelspec": {
   "name": "python3",
   "display_name": "Python 3.7.9 64-bit ('Pandemics': conda)",
   "metadata": {
    "interpreter": {
     "hash": "bb7966aca5b9fc14511bbf201f0548cc70f99052f45c746f9d637a8f88e745d3"
    }
   }
  }
 },
 "nbformat": 4,
 "nbformat_minor": 2,
 "cells": [
  {
   "cell_type": "code",
   "execution_count": 12,
   "metadata": {},
   "outputs": [],
   "source": [
    "import networkx as nx\n",
    "import plotly.graph_objects as go\n",
    "import pandas as pd\n",
    "import chart_studio.plotly as py\n",
    "import plotly\n",
    "import math\n",
    "from addEdge import addEdge\n",
    "from ast import literal_eval\n",
    "import pickle\n"
   ]
  },
  {
   "cell_type": "code",
   "execution_count": 74,
   "metadata": {},
   "outputs": [],
   "source": [
    "filepath = r\"H:\\Shared drives\\Pandemic Data\\slf_model\\outputs\\slf_scenarios\"\n",
    "header_path = os.path.join(filepath, \"header.csv\")\n",
    "header = pd.read_csv(header_path)\n",
    "\n",
    "countries_list = literal_eval(\n",
    "                        header[\n",
    "                            header.attributes.str.contains(\"starting_countries\")\n",
    "                        ].values[0, 2]\n",
    "                    )\n",
    "\n",
    "starting_countries = countries_list[0]\n",
    "starting_countries\n",
    "\n",
    "viz_data_path = os.path.join(filepath, \"summary_data\")\n",
    "\n",
    "summary_data = pickle.load(open(os.path.join(viz_data_path, \"summary_data.p\"), \"rb\"))\n",
    "def country_codes():\n",
    "    # takes custom data file made from probability file\n",
    "    names_data = pd.read_csv(\"country_names.csv\")\n",
    "\n",
    "    country_codes_dict = {}\n",
    "    country_codes_dict[\"Origin\"] = \"ORG\"\n",
    "    for index, row in names_data.iterrows():\n",
    "\n",
    "        country_codes_dict[row[\"NAME\"]] = row[\"ISO3\"]\n",
    "    country_codes_dict[\"Taiwan\"] = \"TWN\"\n",
    "    return country_codes_dict\n",
    "\n",
    "prop_dict = summary_data['BAU_alpha0.2_lamda3.64_6801-6804']['network']['prop_dict']\n",
    "prop_countries = starting_countries\n",
    "for country in prop_dict:\n",
    "    if prop_dict[country] > 0:\n",
    "        prop_countries.append(country)\n",
    "\n",
    "\n"
   ]
  },
  {
   "cell_type": "code",
   "execution_count": 75,
   "metadata": {
    "tags": []
   },
   "outputs": [],
   "source": [
    "G = summary_data['BAU_alpha0.2_lamda3.64_6801-6804']['network']['diGraph']\n",
    "#prop50countries = summary_data['BAU_alpha0.2_lamda3.64_6801-6804']['cartographic']['data']['fi_prop50']['countries']\n",
    "\n",
    "G = G.subgraph(prop_countries)\n",
    "country_codes_dict = country_codes()\n",
    "H = nx.restricted_view(G, ['China'], [])\n",
    "for u,v in G.edges():\n",
    "    G[u][v]['log_intros'] = math.log( G[u][v]['num_intros'])\n"
   ]
  },
  {
   "cell_type": "code",
   "execution_count": 76,
   "metadata": {},
   "outputs": [],
   "source": [
    "cent = nx.degree_centrality(G)\n",
    "t0 = []\n",
    "t1 = []\n",
    "t2 = []\n",
    "t3 = []\n",
    "for country in cent:\n",
    "    if country in starting_countries:\n",
    "        t0.append(country)\n",
    "    elif cent[country] > 0.5:\n",
    "       t1.append(country)\n",
    "    elif cent[country] > 0.1 :\n",
    "        t2.append(country)\n",
    "    else:\n",
    "        t3.append(country)\n"
   ]
  },
  {
   "cell_type": "code",
   "execution_count": 77,
   "metadata": {},
   "outputs": [],
   "source": [
    "shells = [t0, t1,t2,t3]\r\n",
    "pos = nx.shell_layout(G, shells)"
   ]
  },
  {
   "cell_type": "code",
   "execution_count": 82,
   "metadata": {},
   "outputs": [],
   "source": [
    "\n",
    "x_pos = []\n",
    "y_pos = []\n",
    "iso_labels = []\n",
    "hover_labels = []\n",
    "for country in pos:\n",
    "    x_pos.append(pos[country][0])\n",
    "    y_pos.append(pos[country][1])\n",
    "    iso_labels.append(country_codes_dict[country])\n",
    "    G.nodes[country]['pos'] = pos[country]\n",
    "    hover_labels.append(country + '<br> degree centrality: ' + str(cent[country]))\n"
   ]
  },
  {
   "cell_type": "code",
   "execution_count": 83,
   "metadata": {},
   "outputs": [
    {
     "output_type": "display_data",
     "data": {
      "application/vnd.plotly.v1+json": {
       "config": {
        "plotlyServerURL": "https://plot.ly"
       },
       "data": [
        {
         "hoverinfo": "text",
         "line": {
          "color": "white",
          "width": 2
         },
         "mode": "lines",
         "opacity": 0.5,
         "text": [
          "China to Japan",
          "China to Japan",
          "China to Japan",
          "China to Japan",
          "China to Japan",
          "China to Japan",
          "China to Japan",
          "China to Japan",
          "China to Japan"
         ],
         "type": "scatter",
         "x": [
          0.09664586290406736,
          -0.016252265420432413,
          null,
          -0.016252265420432413,
          0.020702589275077087,
          null,
          -0.016252265420432413,
          0.02340519623208772,
          null
         ],
         "y": [
          0.2978935677894195,
          0.3127568822018067,
          null,
          0.3127568822018067,
          0.2974496448157142,
          null,
          0.3127568822018067,
          0.3179778531114464,
          null
         ]
        },
        {
         "hoverinfo": "text",
         "line": {
          "color": "white",
          "width": 2
         },
         "mode": "lines",
         "opacity": 0.5,
         "text": [
          "China to United States",
          "China to United States",
          "China to United States",
          "China to United States",
          "China to United States",
          "China to United States",
          "China to United States",
          "China to United States",
          "China to United States"
         ],
         "type": "scatter",
         "x": [
          0.09844814558060765,
          -0.2204566182616532,
          null,
          -0.2204566182616532,
          -0.18045659653662952,
          null,
          -0.2204566182616532,
          -0.18581557780524866,
          null
         ],
         "y": [
          0.2703960629250527,
          0.18494578282575602,
          null,
          0.18494578282575602,
          0.18494577184454689,
          null,
          0.18494578282575602,
          0.2049457841782618,
          null
         ]
        },
        {
         "hoverinfo": "text",
         "line": {
          "color": "white",
          "width": 2
         },
         "mode": "lines",
         "opacity": 0.5,
         "text": [
          "China to Korea, Republic of",
          "China to Korea, Republic of",
          "China to Korea, Republic of",
          "China to Korea, Republic of",
          "China to Korea, Republic of",
          "China to Korea, Republic of",
          "China to Korea, Republic of",
          "China to Korea, Republic of",
          "China to Korea, Republic of"
         ],
         "type": "scatter",
         "x": [
          0.10550360982584919,
          -0.27217032616305314,
          null,
          -0.27217032616305314,
          -0.2438860862677404,
          null,
          -0.27217032616305314,
          -0.23353333253675274,
          null
         ],
         "y": [
          0.3239876544277865,
          0.5420377636153502,
          null,
          0.5420377636153502,
          0.5137535169148977,
          null,
          0.5420377636153502,
          0.5316850073935085,
          null
         ]
        },
        {
         "hoverinfo": "text",
         "line": {
          "color": "white",
          "width": 2
         },
         "mode": "lines",
         "opacity": 0.5,
         "text": [
          "China to Romania",
          "China to Romania",
          "China to Romania",
          "China to Romania",
          "China to Romania",
          "China to Romania",
          "China to Romania",
          "China to Romania",
          "China to Romania"
         ],
         "type": "scatter",
         "x": [
          0.09895305737646026,
          -0.39872871741445465,
          null,
          -0.39872871741445465,
          -0.3646263232237673,
          null,
          -0.39872871741445465,
          -0.3587426271290346,
          null
         ],
         "y": [
          0.30874401785915134,
          0.45624622247631313,
          null,
          0.45624622247631313,
          0.4353411213034852,
          null,
          0.45624622247631313,
          0.45519307088730393,
          null
         ]
        },
        {
         "hoverinfo": "text",
         "line": {
          "color": "white",
          "width": 2
         },
         "mode": "lines",
         "opacity": 0.5,
         "text": [
          "China to Germany",
          "China to Germany",
          "China to Germany",
          "China to Germany",
          "China to Germany",
          "China to Germany",
          "China to Germany",
          "China to Germany",
          "China to Germany"
         ],
         "type": "scatter",
         "x": [
          0.1106360790061875,
          -0.26594471304892736,
          null,
          -0.26594471304892736,
          -0.22898953671547997,
          null,
          -0.26594471304892736,
          -0.24159425651588418,
          null
         ],
         "y": [
          0.2456813807747501,
          -0.04327925100542484,
          null,
          -0.04327925100542484,
          -0.027971921059313377,
          null,
          -0.04327925100542484,
          -0.011545126241258342,
          null
         ]
        },
        {
         "hoverinfo": "text",
         "line": {
          "color": "white",
          "width": 2
         },
         "mode": "lines",
         "opacity": 0.5,
         "text": [
          "China to Serbia",
          "China to Serbia",
          "China to Serbia",
          "China to Serbia",
          "China to Serbia",
          "China to Serbia",
          "China to Serbia",
          "China to Serbia",
          "China to Serbia"
         ],
         "type": "scatter",
         "x": [
          0.09624961669168959,
          -0.4998258417340327,
          null,
          -0.4998258417340327,
          -0.46209656803300114,
          null,
          -0.4998258417340327,
          -0.4605087828031992,
          null
         ],
         "y": [
          0.29409097834903747,
          0.3399355192534253,
          null,
          0.3399355192534253,
          0.32665042037461706,
          null,
          0.3399355192534253,
          0.347294922983105,
          null
         ]
        },
        {
         "hoverinfo": "text",
         "line": {
          "color": "white",
          "width": 2
         },
         "mode": "lines",
         "opacity": 0.5,
         "text": [
          "China to France",
          "China to France",
          "China to France",
          "China to France",
          "China to France",
          "China to France",
          "China to France",
          "China to France",
          "China to France"
         ],
         "type": "scatter",
         "x": [
          0.13135416175394815,
          -0.13135414685278696,
          null,
          -0.13135414685278696,
          -0.10306989055264726,
          null,
          -0.13135414685278696,
          -0.12100139015027589,
          null
         ],
         "y": [
          0.22751211217455114,
          -0.22751211217455114,
          null,
          -0.22751211217455114,
          -0.1992278566134312,
          null,
          -0.22751211217455114,
          -0.18887510018142015,
          null
         ]
        },
        {
         "hoverinfo": "text",
         "line": {
          "color": "white",
          "width": 2
         },
         "mode": "lines",
         "opacity": 0.5,
         "text": [
          "China to Australia",
          "China to Australia",
          "China to Australia",
          "China to Australia",
          "China to Australia",
          "China to Australia",
          "China to Australia",
          "China to Australia",
          "China to Australia"
         ],
         "type": "scatter",
         "x": [
          0.0981091809241788,
          -0.9314425241916195,
          null,
          -0.9314425241916195,
          -0.8914499161325113,
          null,
          -0.9314425241916195,
          -0.8964232230412906,
          null
         ],
         "y": [
          0.2717115765818449,
          0.016963495211305624,
          null,
          0.016963495211305624,
          0.0161941219962116,
          null,
          0.016963495211305624,
          0.03629350249159696,
          null
         ]
        },
        {
         "hoverinfo": "text",
         "line": {
          "color": "white",
          "width": 2
         },
         "mode": "lines",
         "opacity": 0.5,
         "text": [
          "China to New Zealand",
          "China to New Zealand",
          "China to New Zealand",
          "China to New Zealand",
          "China to New Zealand",
          "China to New Zealand",
          "China to New Zealand",
          "China to New Zealand",
          "China to New Zealand"
         ],
         "type": "scatter",
         "x": [
          0.09653858319416321,
          -0.568084964906123,
          null,
          -0.568084964906123,
          -0.5284937997074212,
          null,
          -0.568084964906123,
          -0.5309456990610074,
          null
         ],
         "y": [
          0.2803119106369763,
          0.20105104314510533,
          null,
          0.20105104314510533,
          0.1953464211098785,
          null,
          0.20105104314510533,
          0.21590627814296132,
          null
         ]
        },
        {
         "hoverinfo": "text",
         "line": {
          "color": "white",
          "width": 2
         },
         "mode": "lines",
         "opacity": 0.5,
         "text": [
          "China to Spain",
          "China to Spain",
          "China to Spain",
          "China to Spain",
          "China to Spain",
          "China to Spain",
          "China to Spain",
          "China to Spain",
          "China to Spain"
         ],
         "type": "scatter",
         "x": [
          0.15744824522491663,
          0.09549141860250264,
          null,
          0.09549141860250264,
          0.1107987103215046,
          null,
          0.09549141860250264,
          0.0902703872853508,
          null
         ],
         "y": [
          0.21865436577372338,
          -0.25195449733309533,
          null,
          -0.25195449733309533,
          -0.21499942771520195,
          null,
          -0.25195449733309533,
          -0.2122968223858762,
          null
         ]
        },
        {
         "hoverinfo": "text",
         "line": {
          "color": "white",
          "width": 2
         },
         "mode": "lines",
         "opacity": 0.5,
         "text": [
          "China to Belgium",
          "China to Belgium",
          "China to Belgium",
          "China to Belgium",
          "China to Belgium",
          "China to Belgium",
          "China to Belgium",
          "China to Belgium",
          "China to Belgium"
         ],
         "type": "scatter",
         "x": [
          0.09926859614635547,
          -0.5986838447787866,
          null,
          -0.5986838447787866,
          -0.5587185417745973,
          null,
          -0.5986838447787866,
          -0.5649058091295956,
          null
         ],
         "y": [
          0.267570845575858,
          0.04902142306990542,
          null,
          0.04902142306990542,
          0.050687287114664456,
          null,
          0.04902142306990542,
          0.07044675515401246,
          null
         ]
        },
        {
         "hoverinfo": "text",
         "line": {
          "color": "white",
          "width": 2
         },
         "mode": "lines",
         "opacity": 0.5,
         "text": [
          "China to Austria",
          "China to Austria",
          "China to Austria",
          "China to Austria",
          "China to Austria",
          "China to Austria",
          "China to Austria",
          "China to Austria",
          "China to Austria"
         ],
         "type": "scatter",
         "x": [
          0.11060094278873317,
          -0.5410754327160251,
          null,
          -0.5410754327160251,
          -0.5041077504879022,
          null,
          -0.5410754327160251,
          -0.516699036436582,
          null
         ],
         "y": [
          0.24572720996373265,
          -0.2534756349705991,
          null,
          -0.2534756349705991,
          -0.23819852367231564,
          null,
          -0.2534756349705991,
          -0.22176142737578194,
          null
         ]
        },
        {
         "hoverinfo": "text",
         "line": {
          "color": "white",
          "width": 2
         },
         "mode": "lines",
         "opacity": 0.5,
         "text": [
          "China to Italy",
          "China to Italy",
          "China to Italy",
          "China to Italy",
          "China to Italy",
          "China to Italy",
          "China to Italy",
          "China to Italy",
          "China to Italy"
         ],
         "type": "scatter",
         "x": [
          0.1849457491166188,
          0.2703960370295451,
          null,
          0.2703960370295451,
          0.270396035463064,
          null,
          0.2703960370295451,
          0.25039598259052825,
          null
         ],
         "y": [
          0.22045664701714768,
          -0.09844821903958574,
          null,
          -0.09844821903958574,
          -0.05844811287477683,
          null,
          -0.09844821903958574,
          -0.06380711173002723,
          null
         ]
        },
        {
         "hoverinfo": "text",
         "line": {
          "color": "white",
          "width": 2
         },
         "mode": "lines",
         "opacity": 0.5,
         "text": [
          "China to Netherlands",
          "China to Netherlands",
          "China to Netherlands",
          "China to Netherlands",
          "China to Netherlands",
          "China to Netherlands",
          "China to Netherlands",
          "China to Netherlands",
          "China to Netherlands"
         ],
         "type": "scatter",
         "x": [
          0.11865682145590983,
          -0.45665351292128764,
          null,
          -0.45665351292128764,
          -0.4227957998944479,
          null,
          -0.45665351292128764,
          -0.43798145866652965,
          null
         ],
         "y": [
          0.23687799383297406,
          -0.3838165860284849,
          null,
          -0.3838165860284849,
          -0.3625174153474278,
          null,
          -0.3838165860284849,
          -0.3484421066257289,
          null
         ]
        },
        {
         "hoverinfo": "text",
         "line": {
          "color": "white",
          "width": 2
         },
         "mode": "lines",
         "opacity": 0.5,
         "text": [
          "China to Ireland",
          "China to Ireland",
          "China to Ireland",
          "China to Ireland",
          "China to Ireland",
          "China to Ireland",
          "China to Ireland",
          "China to Ireland",
          "China to Ireland"
         ],
         "type": "scatter",
         "x": [
          0.12799459200376137,
          -0.34180342655652624,
          null,
          -0.34180342655652624,
          -0.31198420750419253,
          null,
          -0.34180342655652624,
          -0.3293097660093664,
          null
         ],
         "y": [
          0.22957894923075403,
          -0.4883367490945693,
          null,
          -0.4883367490945693,
          -0.46167566774822116,
          null,
          -0.4883367490945693,
          -0.45033796583010155,
          null
         ]
        },
        {
         "hoverinfo": "text",
         "line": {
          "color": "white",
          "width": 2
         },
         "mode": "lines",
         "opacity": 0.5,
         "text": [
          "China to Luxembourg",
          "China to Luxembourg",
          "China to Luxembourg",
          "China to Luxembourg",
          "China to Luxembourg",
          "China to Luxembourg",
          "China to Luxembourg",
          "China to Luxembourg",
          "China to Luxembourg"
         ],
         "type": "scatter",
         "x": [
          0.1383957765381662,
          -0.20411046364715973,
          null,
          -0.20411046364715973,
          -0.1791571108596796,
          null,
          -0.20411046364715973,
          -0.19813135481531183,
          null
         ],
         "y": [
          0.2239553943984135,
          -0.560134919058524,
          null,
          -0.560134919058524,
          -0.5288726618751138,
          null,
          -0.560134919058524,
          -0.5205843337643081,
          null
         ]
        },
        {
         "hoverinfo": "text",
         "line": {
          "color": "white",
          "width": 2
         },
         "mode": "lines",
         "opacity": 0.5,
         "text": [
          "China to Switzerland",
          "China to Switzerland",
          "China to Switzerland",
          "China to Switzerland",
          "China to Switzerland",
          "China to Switzerland",
          "China to Switzerland",
          "China to Switzerland",
          "China to Switzerland"
         ],
         "type": "scatter",
         "x": [
          0.14964403808963908,
          -0.052662944802171124,
          null,
          -0.052662944802171124,
          -0.03330280215364216,
          null,
          -0.052662944802171124,
          -0.05339787015611235,
          null
         ],
         "y": [
          0.22013231801761007,
          -0.5944718091465315,
          null,
          -0.5944718091465315,
          -0.5594692077296158,
          null,
          -0.5944718091465315,
          -0.5544785957966769,
          null
         ]
        },
        {
         "hoverinfo": "text",
         "line": {
          "color": "white",
          "width": 2
         },
         "mode": "lines",
         "opacity": 0.5,
         "text": [
          "China to Poland",
          "China to Poland",
          "China to Poland",
          "China to Poland",
          "China to Poland",
          "China to Poland",
          "China to Poland",
          "China to Poland",
          "China to Poland"
         ],
         "type": "scatter",
         "x": [
          0.16152026195488972,
          0.10253492306508022,
          null,
          0.10253492306508022,
          0.11567557325308425,
          null,
          0.10253492306508022,
          0.09502516278987234,
          null
         ],
         "y": [
          0.21823791590109848,
          -0.5890776607073882,
          null,
          -0.5890776607073882,
          -0.55129786638686,
          null,
          -0.5890776607073882,
          -0.5497890739820577,
          null
         ]
        },
        {
         "hoverinfo": "text",
         "line": {
          "color": "white",
          "width": 2
         },
         "mode": "lines",
         "opacity": 0.5,
         "text": [
          "China to United Kingdom",
          "China to United Kingdom",
          "China to United Kingdom",
          "China to United Kingdom",
          "China to United Kingdom",
          "China to United Kingdom",
          "China to United Kingdom",
          "China to United Kingdom",
          "China to United Kingdom"
         ],
         "type": "scatter",
         "x": [
          0.17379822351999502,
          0.2512120702021577,
          null,
          0.2512120702021577,
          0.25761044454224363,
          null,
          0.2512120702021577,
          0.2370106979029878,
          null
         ],
         "y": [
          0.21841114723143862,
          -0.5443114932721643,
          null,
          -0.5443114932721643,
          -0.5048264392309507,
          null,
          -0.5443114932721643,
          -0.5069172462326289,
          null
         ]
        },
        {
         "hoverinfo": "text",
         "line": {
          "color": "white",
          "width": 2
         },
         "mode": "lines",
         "opacity": 0.5,
         "text": [
          "China to Slovenia",
          "China to Slovenia",
          "China to Slovenia",
          "China to Slovenia",
          "China to Slovenia",
          "China to Slovenia",
          "China to Slovenia",
          "China to Slovenia",
          "China to Slovenia"
         ],
         "type": "scatter",
         "x": [
          0.19856695795375537,
          0.4905620667902784,
          null,
          0.4905620667902784,
          0.4823467598143637,
          null,
          0.4905620667902784,
          0.46387374981835705,
          null
         ],
         "y": [
          0.22566514884458255,
          -0.35108849083409976,
          null,
          -0.35108849083409976,
          -0.3119411859723163,
          null,
          -0.35108849083409976,
          -0.3212935838220585,
          null
         ]
        },
        {
         "hoverinfo": "text",
         "line": {
          "color": "white",
          "width": 2
         },
         "mode": "lines",
         "opacity": 0.5,
         "text": [
          "China to Uruguay",
          "China to Uruguay",
          "China to Uruguay",
          "China to Uruguay",
          "China to Uruguay",
          "China to Uruguay",
          "China to Uruguay",
          "China to Uruguay",
          "China to Uruguay"
         ],
         "type": "scatter",
         "x": [
          0.1081776567228805,
          -0.8424798496492873,
          null,
          -0.8424798496492873,
          -0.8046795016945489,
          null,
          -0.8424798496492873,
          -0.8162846885723738,
          null
         ],
         "y": [
          0.24909072410731653,
          -0.39429932129054407,
          null,
          -0.39429932129054407,
          -0.3812175202429819,
          null,
          -0.39429932129054407,
          -0.36406997527873214,
          null
         ]
        },
        {
         "hoverinfo": "text",
         "line": {
          "color": "white",
          "width": 2
         },
         "mode": "lines",
         "opacity": 0.5,
         "text": [
          "China to The former Yugoslav Republic of Macedonia",
          "China to The former Yugoslav Republic of Macedonia",
          "China to The former Yugoslav Republic of Macedonia",
          "China to The former Yugoslav Republic of Macedonia",
          "China to The former Yugoslav Republic of Macedonia",
          "China to The former Yugoslav Republic of Macedonia",
          "China to The former Yugoslav Republic of Macedonia",
          "China to The former Yugoslav Republic of Macedonia",
          "China to The former Yugoslav Republic of Macedonia"
         ],
         "type": "scatter",
         "x": [
          0.21045283688567262,
          0.5652441857907953,
          null,
          0.5652441857907953,
          0.5494128794507802,
          null,
          0.5652441857907953,
          0.5331669710070227,
          null
         ],
         "y": [
          0.23326161346582108,
          -0.21574413619188004,
          null,
          -0.21574413619188004,
          -0.17901033355542825,
          null,
          -0.21574413619188004,
          -0.19184738310111651,
          null
         ]
        },
        {
         "hoverinfo": "text",
         "line": {
          "color": "white",
          "width": 2
         },
         "mode": "lines",
         "opacity": 0.5,
         "text": [
          "China to India",
          "China to India",
          "China to India",
          "China to India",
          "China to India",
          "China to India",
          "China to India",
          "China to India",
          "China to India"
         ],
         "type": "scatter",
         "x": [
          0.22141468893516034,
          0.6025827192164662,
          null,
          0.6025827192164662,
          0.5791716104186417,
          null,
          0.6025827192164662,
          0.5660914253982913,
          null
         ],
         "y": [
          0.24405965075818398,
          -0.06656348572102881,
          null,
          -0.06656348572102881,
          -0.03413012798403381,
          null,
          -0.06656348572102881,
          -0.050180928389674834,
          null
         ]
        },
        {
         "hoverinfo": "text",
         "line": {
          "color": "white",
          "width": 2
         },
         "mode": "lines",
         "opacity": 0.5,
         "text": [
          "China to Denmark",
          "China to Denmark",
          "China to Denmark",
          "China to Denmark",
          "China to Denmark",
          "China to Denmark",
          "China to Denmark",
          "China to Denmark",
          "China to Denmark"
         ],
         "type": "scatter",
         "x": [
          0.2306338975184858,
          0.6003613343483507,
          null,
          0.6003613343483507,
          0.5697545943727099,
          null,
          0.6003613343483507,
          0.5609784837125875,
          null
         ],
         "y": [
          0.2587405182253408,
          0.08571979777702815,
          null,
          0.08571979777702815,
          0.11147307035669544,
          null,
          0.08571979777702815,
          0.09271941607378485,
          null
         ]
        },
        {
         "hoverinfo": "text",
         "line": {
          "color": "white",
          "width": 2
         },
         "mode": "lines",
         "opacity": 0.5,
         "text": [
          "China to Bosnia and Herzegovina",
          "China to Bosnia and Herzegovina",
          "China to Bosnia and Herzegovina",
          "China to Bosnia and Herzegovina",
          "China to Bosnia and Herzegovina",
          "China to Bosnia and Herzegovina",
          "China to Bosnia and Herzegovina",
          "China to Bosnia and Herzegovina",
          "China to Bosnia and Herzegovina"
         ],
         "type": "scatter",
         "x": [
          0.23651043938438968,
          0.5597404701824896,
          null,
          0.5597404701824896,
          0.5230663010150266,
          null,
          0.5597404701824896,
          0.5199951307523307,
          null
         ],
         "y": [
          0.2781996329817054,
          0.2297199467626336,
          null,
          0.2297199467626336,
          0.24568910129952937,
          null,
          0.2297199467626336,
          0.22521255568481335,
          null
         ]
        },
        {
         "hoverinfo": "text",
         "line": {
          "color": "white",
          "width": 2
         },
         "mode": "lines",
         "opacity": 0.5,
         "text": [
          "China to Hungary",
          "China to Hungary",
          "China to Hungary",
          "China to Hungary",
          "China to Hungary",
          "China to Hungary",
          "China to Hungary",
          "China to Hungary",
          "China to Hungary"
         ],
         "type": "scatter",
         "x": [
          0.22343956765034909,
          0.38931406203409913,
          null,
          0.38931406203409913,
          0.35209716896322835,
          null,
          0.38931406203409913,
          0.3644130914335902,
          null
         ],
         "y": [
          0.3306838155967339,
          0.4534213064926521,
          null,
          0.4534213064926521,
          0.4387616979950637,
          null,
          0.4534213064926521,
          0.42211726658877097,
          null
         ]
        },
        {
         "hoverinfo": "text",
         "line": {
          "color": "white",
          "width": 2
         },
         "mode": "lines",
         "opacity": 0.5,
         "text": [
          "China to Czech Republic",
          "China to Czech Republic",
          "China to Czech Republic",
          "China to Czech Republic",
          "China to Czech Republic",
          "China to Czech Republic",
          "China to Czech Republic",
          "China to Czech Republic",
          "China to Czech Republic"
         ],
         "type": "scatter",
         "x": [
          0.235832226817282,
          0.48611523454937144,
          null,
          0.48611523454937144,
          0.44618289385090687,
          null,
          0.48611523454937144,
          0.4503704305819168,
          null
         ],
         "y": [
          0.3029585250606886,
          0.3546444109687456,
          null,
          0.3546444109687456,
          0.3569691759487638,
          null,
          0.3546444109687456,
          0.3366915461500375,
          null
         ]
        },
        {
         "hoverinfo": "text",
         "line": {
          "color": "white",
          "width": 2
         },
         "mode": "lines",
         "opacity": 0.5,
         "text": [
          "China to Uzbekistan",
          "China to Uzbekistan",
          "China to Uzbekistan",
          "China to Uzbekistan",
          "China to Uzbekistan",
          "China to Uzbekistan",
          "China to Uzbekistan",
          "China to Uzbekistan",
          "China to Uzbekistan"
         ],
         "type": "scatter",
         "x": [
          0.12472514015031369,
          -0.5815481017191461,
          null,
          -0.5815481017191461,
          -0.5502735450540873,
          null,
          -0.5815481017191461,
          -0.5669325179943084,
          null
         ],
         "y": [
          0.23185263012947033,
          -0.7250090930372615,
          null,
          -0.7250090930372615,
          -0.7000711393588633,
          null,
          -0.7250090930372615,
          -0.6877749133008397,
          null
         ]
        },
        {
         "hoverinfo": "text",
         "line": {
          "color": "white",
          "width": 2
         },
         "mode": "lines",
         "opacity": 0.5,
         "text": [
          "China to Republic of Moldova",
          "China to Republic of Moldova",
          "China to Republic of Moldova",
          "China to Republic of Moldova",
          "China to Republic of Moldova",
          "China to Republic of Moldova",
          "China to Republic of Moldova",
          "China to Republic of Moldova",
          "China to Republic of Moldova"
         ],
         "type": "scatter",
         "x": [
          0.13483955374613218,
          -0.4020568024243396,
          null,
          -0.4020568024243396,
          -0.3754031370435544,
          null,
          -0.4020568024243396,
          -0.39388697528244154,
          null
         ],
         "y": [
          0.22562814389806002,
          -0.8379217747364542,
          null,
          -0.8379217747364542,
          -0.8080959263727906,
          null,
          -0.8379217747364542,
          -0.7987649996737064,
          null
         ]
        },
        {
         "hoverinfo": "text",
         "line": {
          "color": "white",
          "width": 2
         },
         "mode": "lines",
         "opacity": 0.5,
         "text": [
          "China to Turkey",
          "China to Turkey",
          "China to Turkey",
          "China to Turkey",
          "China to Turkey",
          "China to Turkey",
          "China to Turkey",
          "China to Turkey",
          "China to Turkey"
         ],
         "type": "scatter",
         "x": [
          0.20966043968061565,
          0.2789815078272426,
          null,
          0.2789815078272426,
          0.26367408503564876,
          null,
          0.2789815078272426,
          0.24724723146067334,
          null
         ],
         "y": [
          0.2326445849478062,
          0.14230363351704517,
          null,
          0.14230363351704517,
          0.17925895224220534,
          null,
          0.14230363351704517,
          0.1666541669421877,
          null
         ]
        },
        {
         "hoverinfo": "text",
         "line": {
          "color": "white",
          "width": 2
         },
         "mode": "lines",
         "opacity": 0.5,
         "text": [
          "China to Montenegro",
          "China to Montenegro",
          "China to Montenegro",
          "China to Montenegro",
          "China to Montenegro",
          "China to Montenegro",
          "China to Montenegro",
          "China to Montenegro",
          "China to Montenegro"
         ],
         "type": "scatter",
         "x": [
          0.14587797405073086,
          -0.2017323243791763,
          null,
          -0.2017323243791763,
          -0.18046530527355284,
          null,
          -0.2017323243791763,
          -0.20025349728550815,
          null
         ],
         "y": [
          0.22117907564543945,
          -0.907431818651192,
          null,
          -0.907431818651192,
          -0.8735539152220505,
          null,
          -0.907431818651192,
          -0.8674591841017878,
          null
         ]
        },
        {
         "hoverinfo": "text",
         "line": {
          "color": "white",
          "width": 2
         },
         "mode": "lines",
         "opacity": 0.5,
         "text": [
          "China to Algeria",
          "China to Algeria",
          "China to Algeria",
          "China to Algeria",
          "China to Algeria",
          "China to Algeria",
          "China to Algeria",
          "China to Algeria",
          "China to Algeria"
         ],
         "type": "scatter",
         "x": [
          0.19674203659768844,
          0.27878876660589436,
          null,
          0.27878876660589436,
          0.2529681623908826,
          null,
          0.27878876660589436,
          0.2717024662916082,
          null
         ],
         "y": [
          0.3525763497444938,
          0.5269011213687111,
          null,
          0.5269011213687111,
          0.496351123614756,
          null,
          0.5269011213687111,
          0.48753374512072256,
          null
         ]
        },
        {
         "hoverinfo": "text",
         "line": {
          "color": "white",
          "width": 2
         },
         "mode": "lines",
         "opacity": 0.5,
         "text": [
          "China to Canada",
          "China to Canada",
          "China to Canada",
          "China to Canada",
          "China to Canada",
          "China to Canada",
          "China to Canada",
          "China to Canada",
          "China to Canada"
         ],
         "type": "scatter",
         "x": [
          0.18214474946793752,
          0.4184058126753883,
          null,
          0.4184058126753883,
          0.4200392440712655,
          null,
          0.4184058126753883,
          0.3998370694829331,
          null
         ],
         "y": [
          0.2197671098292624,
          -0.8320607406676566,
          null,
          -0.8320607406676566,
          -0.7920940681144086,
          null,
          -0.8320607406676566,
          -0.796631871233871,
          null
         ]
        },
        {
         "hoverinfo": "text",
         "line": {
          "color": "white",
          "width": 2
         },
         "mode": "lines",
         "opacity": 0.5,
         "text": [
          "China to Bulgaria",
          "China to Bulgaria",
          "China to Bulgaria",
          "China to Bulgaria",
          "China to Bulgaria",
          "China to Bulgaria",
          "China to Bulgaria",
          "China to Bulgaria",
          "China to Bulgaria"
         ],
         "type": "scatter",
         "x": [
          0.1638404731227433,
          0.15506014185413963,
          null,
          0.15506014185413963,
          0.14626200507338918,
          null,
          0.15506014185413963,
          0.16695046306767541,
          null
         ],
         "y": [
          0.3592435892055734,
          0.5784841899444357,
          null,
          0.5784841899444357,
          0.5394647276011639,
          null,
          0.5784841899444357,
          0.5402932759227769,
          null
         ]
        },
        {
         "hoverinfo": "text",
         "line": {
          "color": "white",
          "width": 2
         },
         "mode": "lines",
         "opacity": 0.5,
         "text": [
          "China to Azerbaijan",
          "China to Azerbaijan",
          "China to Azerbaijan",
          "China to Azerbaijan",
          "China to Azerbaijan",
          "China to Azerbaijan",
          "China to Azerbaijan",
          "China to Azerbaijan",
          "China to Azerbaijan"
         ],
         "type": "scatter",
         "x": [
          0.19438643477855516,
          0.5957702574879091,
          null,
          0.5957702574879091,
          0.5901275163245554,
          null,
          0.5957702574879091,
          0.5710834914117736,
          null
         ],
         "y": [
          0.2237174458165107,
          -0.716873610701078,
          null,
          -0.716873610701078,
          -0.6772735929376958,
          null,
          -0.716873610701078,
          -0.6854003599093509,
          null
         ]
        },
        {
         "hoverinfo": "text",
         "line": {
          "color": "white",
          "width": 2
         },
         "mode": "lines",
         "opacity": 0.5,
         "text": [
          "China to Morocco",
          "China to Morocco",
          "China to Morocco",
          "China to Morocco",
          "China to Morocco",
          "China to Morocco",
          "China to Morocco",
          "China to Morocco",
          "China to Morocco"
         ],
         "type": "scatter",
         "x": [
          0.10220903631917856,
          -0.9104702222036543,
          null,
          -0.9104702222036543,
          -0.8709761478900356,
          null,
          -0.9104702222036543,
          -0.8794382403214996,
          null
         ],
         "y": [
          0.25981158709388147,
          -0.19365753924708734,
          null,
          -0.19365753924708734,
          -0.1873157597023081,
          null,
          -0.19365753924708734,
          -0.1684183598992987,
          null
         ]
        },
        {
         "hoverinfo": "text",
         "line": {
          "color": "white",
          "width": 2
         },
         "mode": "lines",
         "opacity": 0.5,
         "text": [
          "China to Slovakia",
          "China to Slovakia",
          "China to Slovakia",
          "China to Slovakia",
          "China to Slovakia",
          "China to Slovakia",
          "China to Slovakia",
          "China to Slovakia",
          "China to Slovakia"
         ],
         "type": "scatter",
         "x": [
          0.1862372192280511,
          0.3834954765898963,
          null,
          0.3834954765898963,
          0.3827362901720109,
          null,
          0.3834954765898963,
          0.36284158125911353,
          null
         ],
         "y": [
          0.2208158657579928,
          -0.4631606922178775,
          null,
          -0.4631606922178775,
          -0.4231678510045057,
          null,
          -0.4631606922178775,
          -0.428905468966523,
          null
         ]
        },
        {
         "hoverinfo": "text",
         "line": {
          "color": "white",
          "width": 2
         },
         "mode": "lines",
         "opacity": 0.5,
         "text": [
          "China to Russia",
          "China to Russia",
          "China to Russia",
          "China to Russia",
          "China to Russia",
          "China to Russia",
          "China to Russia",
          "China to Russia",
          "China to Russia"
         ],
         "type": "scatter",
         "x": [
          0.21700698294302542,
          0.8506285234484998,
          null,
          0.8506285234484998,
          0.8303499399981465,
          null,
          0.8506285234484998,
          0.8158274063121047,
          null
         ],
         "y": [
          0.23913989720971737,
          -0.3843484943929449,
          null,
          -0.3843484943929449,
          -0.34986979696169196,
          null,
          -0.3843484943929449,
          -0.36462835825325923,
          null
         ]
        },
        {
         "hoverinfo": "text",
         "line": {
          "color": "white",
          "width": 2
         },
         "mode": "lines",
         "opacity": 0.5,
         "text": [
          "China to Taiwan",
          "China to Taiwan",
          "China to Taiwan",
          "China to Taiwan",
          "China to Taiwan",
          "China to Taiwan",
          "China to Taiwan",
          "China to Taiwan",
          "China to Taiwan"
         ],
         "type": "scatter",
         "x": [
          0.20615534293138418,
          0.7423430551341829,
          null,
          0.7423430551341829,
          0.7293231059426016,
          null,
          0.7423430551341829,
          0.7121565882765654,
          null
         ],
         "y": [
          0.23012147199393632,
          -0.5649358118701112,
          null,
          -0.5649358118701112,
          -0.5271140916666601,
          null,
          -0.5649358118701112,
          -0.538691215954886,
          null
         ]
        },
        {
         "hoverinfo": "text",
         "line": {
          "color": "white",
          "width": 2
         },
         "mode": "lines",
         "opacity": 0.5,
         "text": [
          "China to Croatia",
          "China to Croatia",
          "China to Croatia",
          "China to Croatia",
          "China to Croatia",
          "China to Croatia",
          "China to Croatia",
          "China to Croatia",
          "China to Croatia"
         ],
         "type": "scatter",
         "x": [
          0.13620613907752274,
          0.0164988858503318,
          null,
          0.0164988858503318,
          0.02382263879936967,
          null,
          0.0164988858503318,
          0.04250330871852486,
          null
         ],
         "y": [
          0.352393661153647,
          0.6028019744035277,
          null,
          0.6028019744035277,
          0.5634782408769575,
          null,
          0.6028019744035277,
          0.5724084986723871,
          null
         ]
        },
        {
         "hoverinfo": "text",
         "line": {
          "color": "white",
          "width": 2
         },
         "mode": "lines",
         "opacity": 0.5,
         "text": [
          "China to Viet Nam",
          "China to Viet Nam",
          "China to Viet Nam",
          "China to Viet Nam",
          "China to Viet Nam",
          "China to Viet Nam",
          "China to Viet Nam",
          "China to Viet Nam",
          "China to Viet Nam"
         ],
         "type": "scatter",
         "x": [
          0.23340101280435088,
          0.9332656439282083,
          null,
          0.9332656439282083,
          0.9001457864168363,
          null,
          0.9332656439282083,
          0.8933683138846993,
          null
         ],
         "y": [
          0.2655577124563189,
          0.023117621605161422,
          null,
          0.023117621605161422,
          0.04554700574304141,
          null,
          0.023117621605161422,
          0.025982109304119216,
          null
         ]
        },
        {
         "hoverinfo": "text",
         "line": {
          "color": "white",
          "width": 2
         },
         "mode": "lines",
         "opacity": 0.5,
         "text": [
          "China to Ukraine",
          "China to Ukraine",
          "China to Ukraine",
          "China to Ukraine",
          "China to Ukraine",
          "China to Ukraine",
          "China to Ukraine",
          "China to Ukraine",
          "China to Ukraine"
         ],
         "type": "scatter",
         "x": [
          0.2370562778657001,
          0.9045383406931835,
          null,
          0.9045383406931835,
          0.8668745218973103,
          null,
          0.9045383406931835,
          0.8651854672592252,
          null
         ],
         "y": [
          0.2829139213512941,
          0.22828196180357493,
          null,
          0.22828196180357493,
          0.24175206090997156,
          null,
          0.22828196180357493,
          0.22111550042327185,
          null
         ]
        },
        {
         "hoverinfo": "text",
         "line": {
          "color": "white",
          "width": 2
         },
         "mode": "lines",
         "opacity": 0.5,
         "text": [
          "China to Georgia",
          "China to Georgia",
          "China to Georgia",
          "China to Georgia",
          "China to Georgia",
          "China to Georgia",
          "China to Georgia",
          "China to Georgia",
          "China to Georgia"
         ],
         "type": "scatter",
         "x": [
          0.1697854110682754,
          0.21940228252761082,
          null,
          0.21940228252761082,
          0.22803879424288928,
          null,
          0.21940228252761082,
          0.20735338365427455,
          null
         ],
         "y": [
          0.2181190539067942,
          -0.9043717969125468,
          null,
          -0.9043717969125468,
          -0.8653151220748481,
          null,
          -0.9043717969125468,
          -0.866229468458112,
          null
         ]
        },
        {
         "hoverinfo": "text",
         "line": {
          "color": "white",
          "width": 2
         },
         "mode": "lines",
         "opacity": 0.5,
         "text": [
          "China to Greece",
          "China to Greece",
          "China to Greece",
          "China to Greece",
          "China to Greece",
          "China to Greece",
          "China to Greece",
          "China to Greece",
          "China to Greece"
         ],
         "type": "scatter",
         "x": [
          0.1172646532537755,
          -0.12987796466372575,
          null,
          -0.12987796466372575,
          -0.11024993874279539,
          null,
          -0.12987796466372575,
          -0.09545305877488305,
          null
         ],
         "y": [
          0.33914626656738356,
          0.5916372734430687,
          null,
          0.5916372734430687,
          0.5567841998127137,
          null,
          0.5916372734430687,
          0.5712676392396768,
          null
         ]
        },
        {
         "hoverinfo": "text",
         "line": {
          "color": "white",
          "width": 2
         },
         "mode": "lines",
         "opacity": 0.5,
         "text": [
          "China to Argentina",
          "China to Argentina",
          "China to Argentina",
          "China to Argentina",
          "China to Argentina",
          "China to Argentina",
          "China to Argentina",
          "China to Argentina",
          "China to Argentina"
         ],
         "type": "scatter",
         "x": [
          0.22635545174280164,
          0.9152391072114372,
          null,
          0.9152391072114372,
          0.8881187957857238,
          null,
          0.9152391072114372,
          0.8770511199973615,
          null
         ],
         "y": [
          0.2509241542594328,
          -0.18476985309289842,
          null,
          -0.18476985309289842,
          -0.15536763597117334,
          null,
          -0.18476985309289842,
          -0.17286694185075543,
          null
         ]
        },
        {
         "hoverinfo": "text",
         "line": {
          "color": "white",
          "width": 2
         },
         "mode": "lines",
         "opacity": 0.5,
         "text": [
          "China to Iran (Islamic Republic of)",
          "China to Iran (Islamic Republic of)",
          "China to Iran (Islamic Republic of)",
          "China to Iran (Islamic Republic of)",
          "China to Iran (Islamic Republic of)",
          "China to Iran (Islamic Republic of)",
          "China to Iran (Islamic Republic of)",
          "China to Iran (Islamic Republic of)",
          "China to Iran (Islamic Republic of)"
         ],
         "type": "scatter",
         "x": [
          0.21466098198760275,
          0.5754954122556376,
          null,
          0.5754954122556376,
          0.5416440656871804,
          null,
          0.5754954122556376,
          0.5568339481555273,
          null
         ],
         "y": [
          0.34048669623533134,
          0.7300199658950245,
          null,
          0.7300199658950245,
          0.7087106419340548,
          null,
          0.7300199658950245,
          0.6946398767231237,
          null
         ]
        },
        {
         "hoverinfo": "text",
         "line": {
          "color": "white",
          "width": 2
         },
         "mode": "lines",
         "opacity": 0.5,
         "text": [
          "China to South Africa",
          "China to South Africa",
          "China to South Africa",
          "China to South Africa",
          "China to South Africa",
          "China to South Africa",
          "China to South Africa",
          "China to South Africa",
          "China to South Africa"
         ],
         "type": "scatter",
         "x": [
          0.19491577315307204,
          0.4056344909670299,
          null,
          0.4056344909670299,
          0.3806916255442083,
          null,
          0.4056344909670299,
          0.3996686791560049,
          null
         ],
         "y": [
          0.35340442652570214,
          0.8362396419538358,
          null,
          0.8362396419538358,
          0.8049689553772059,
          null,
          0.8362396419538358,
          0.7966870002732824,
          null
         ]
        },
        {
         "hoverinfo": "text",
         "line": {
          "color": "white",
          "width": 2
         },
         "mode": "lines",
         "opacity": 0.5,
         "text": [
          "China to Cyprus",
          "China to Cyprus",
          "China to Cyprus",
          "China to Cyprus",
          "China to Cyprus",
          "China to Cyprus",
          "China to Cyprus",
          "China to Cyprus",
          "China to Cyprus"
         ],
         "type": "scatter",
         "x": [
          0.17239587269536366,
          0.2167914781738151,
          null,
          0.2167914781738151,
          0.2033384797726471,
          null,
          0.2167914781738151,
          0.22397585150350283,
          null
         ],
         "y": [
          0.3590673939400183,
          0.9045357271022333,
          null,
          0.9045357271022333,
          0.866865703697892,
          null,
          0.9045357271022333,
          0.8651860306723353,
          null
         ]
        },
        {
         "hoverinfo": "text",
         "line": {
          "color": "white",
          "width": 2
         },
         "mode": "lines",
         "opacity": 0.5,
         "text": [
          "China to Brazil",
          "China to Brazil",
          "China to Brazil",
          "China to Brazil",
          "China to Brazil",
          "China to Brazil",
          "China to Brazil",
          "China to Brazil",
          "China to Brazil"
         ],
         "type": "scatter",
         "x": [
          0.15055520481069326,
          0.016111114155627843,
          null,
          0.016111114155627843,
          0.01484548119940585,
          null,
          0.016111114155627843,
          0.035004996685037135,
          null
         ],
         "y": [
          0.3574378797988811,
          0.931237279417046,
          null,
          0.931237279417046,
          0.8912573737743174,
          null,
          0.931237279417046,
          0.8959808490114272,
          null
         ]
        },
        {
         "hoverinfo": "text",
         "line": {
          "color": "white",
          "width": 2
         },
         "mode": "lines",
         "opacity": 0.5,
         "text": [
          "China to Mexico",
          "China to Mexico",
          "China to Mexico",
          "China to Mexico",
          "China to Mexico",
          "China to Mexico",
          "China to Mexico",
          "China to Mexico",
          "China to Mexico"
         ],
         "type": "scatter",
         "x": [
          0.23594997937649054,
          0.8316855866196795,
          null,
          0.8316855866196795,
          0.7917741997880857,
          null,
          0.8316855866196795,
          0.7957909396725447,
          null
         ],
         "y": [
          0.3023759558503173,
          0.42018284055547495,
          null,
          0.42018284055547495,
          0.42284358465688887,
          null,
          0.42018284055547495,
          0.40253141912447216,
          null
         ]
        },
        {
         "hoverinfo": "text",
         "line": {
          "color": "white",
          "width": 2
         },
         "mode": "lines",
         "opacity": 0.5,
         "text": [
          "China to Kazakhstan",
          "China to Kazakhstan",
          "China to Kazakhstan",
          "China to Kazakhstan",
          "China to Kazakhstan",
          "China to Kazakhstan",
          "China to Kazakhstan",
          "China to Kazakhstan",
          "China to Kazakhstan"
         ],
         "type": "scatter",
         "x": [
          0.1318265392436528,
          -0.1876812322988057,
          null,
          -0.1876812322988057,
          -0.17762653320376487,
          null,
          -0.1876812322988057,
          -0.15961578955743627,
          null
         ],
         "y": [
          0.3501085120330997,
          0.9134944897998624,
          null,
          0.9134944897998624,
          0.874778854004551,
          null,
          0.9134944897998624,
          0.884993115224977,
          null
         ]
        },
        {
         "hoverinfo": "text",
         "line": {
          "color": "white",
          "width": 2
         },
         "mode": "lines",
         "opacity": 0.5,
         "text": [
          "China to Pakistan",
          "China to Pakistan",
          "China to Pakistan",
          "China to Pakistan",
          "China to Pakistan",
          "China to Pakistan",
          "China to Pakistan",
          "China to Pakistan",
          "China to Pakistan"
         ],
         "type": "scatter",
         "x": [
          0.11721306712527968,
          -0.38443061382671095,
          null,
          -0.38443061382671095,
          -0.36476694176628827,
          null,
          -0.38443061382671095,
          -0.3499848727790121,
          null
         ],
         "y": [
          0.33909572148921774,
          0.8505481085717411,
          null,
          0.8505481085717411,
          0.815715105548368,
          null,
          0.8505481085717411,
          0.8302136790936112,
          null
         ]
        },
        {
         "hoverinfo": "text",
         "line": {
          "color": "white",
          "width": 2
         },
         "mode": "lines",
         "opacity": 0.5,
         "text": [
          "China to Albania",
          "China to Albania",
          "China to Albania",
          "China to Albania",
          "China to Albania",
          "China to Albania",
          "China to Albania",
          "China to Albania",
          "China to Albania"
         ],
         "type": "scatter",
         "x": [
          0.11576178287116651,
          -0.7309265098437465,
          null,
          -0.7309265098437465,
          -0.6959016355159352,
          null,
          -0.7309265098437465,
          -0.7102540195872036,
          null
         ],
         "y": [
          0.2397202366630755,
          -0.5745349937717639,
          null,
          -0.5745349937717639,
          -0.5552151124203658,
          null,
          -0.5745349937717639,
          -0.5402910485594462,
          null
         ]
        },
        {
         "hoverinfo": "text",
         "line": {
          "color": "white",
          "width": 2
         },
         "mode": "lines",
         "opacity": 0.5,
         "text": [
          "China to Portugal",
          "China to Portugal",
          "China to Portugal",
          "China to Portugal",
          "China to Portugal",
          "China to Portugal",
          "China to Portugal",
          "China to Portugal",
          "China to Portugal"
         ],
         "type": "scatter",
         "x": [
          0.10405477730068376,
          -0.5894865378502291,
          null,
          -0.5894865378502291,
          -0.5504435387483011,
          null,
          -0.5894865378502291,
          -0.5600229919929605,
          null
         ],
         "y": [
          0.2560003496677707,
          -0.10593305006335481,
          null,
          -0.10593305006335481,
          -0.09723568365348692,
          null,
          -0.10593305006335481,
          -0.07887941025542378,
          null
         ]
        },
        {
         "hoverinfo": "text",
         "line": {
          "color": "white",
          "width": 2
         },
         "mode": "lines",
         "opacity": 0.5,
         "text": [
          "China to Lebanon",
          "China to Lebanon",
          "China to Lebanon",
          "China to Lebanon",
          "China to Lebanon",
          "China to Lebanon",
          "China to Lebanon",
          "China to Lebanon",
          "China to Lebanon"
         ],
         "type": "scatter",
         "x": [
          0.15760804635566866,
          0.009058622301771178,
          null,
          0.009058622301771178,
          0.024281574274841303,
          null,
          0.009058622301771178,
          0.0037471016279672755,
          null
         ],
         "y": [
          0.21863351301140327,
          -0.9299583537954761,
          null,
          -0.9299583537954761,
          -0.8929683861893299,
          null,
          -0.9299583537954761,
          -0.890312626176855,
          null
         ]
        },
        {
         "hoverinfo": "text",
         "line": {
          "color": "white",
          "width": 2
         },
         "mode": "lines",
         "opacity": 0.5,
         "text": [
          "China to Sweden",
          "China to Sweden",
          "China to Sweden",
          "China to Sweden",
          "China to Sweden",
          "China to Sweden",
          "China to Sweden",
          "China to Sweden",
          "China to Sweden"
         ],
         "type": "scatter",
         "x": [
          0.10675323626663039,
          -0.563576138230818,
          null,
          -0.563576138230818,
          -0.5362805670809888,
          null,
          -0.563576138230818,
          -0.5253177155346669,
          null
         ],
         "y": [
          0.3260686435824959,
          0.7444381973617943,
          null,
          0.7444381973617943,
          0.7151986680226075,
          null,
          0.7444381973617943,
          0.7327638077342726,
          null
         ]
        },
        {
         "hoverinfo": "text",
         "line": {
          "color": "white",
          "width": 2
         },
         "mode": "lines",
         "opacity": 0.5,
         "text": [
          "China to Kyrgyzstan",
          "China to Kyrgyzstan",
          "China to Kyrgyzstan",
          "China to Kyrgyzstan",
          "China to Kyrgyzstan",
          "China to Kyrgyzstan",
          "China to Kyrgyzstan",
          "China to Kyrgyzstan",
          "China to Kyrgyzstan"
         ],
         "type": "scatter",
         "x": [
          0.09668596391789032,
          -0.8309880972396524,
          null,
          -0.8309880972396524,
          -0.7940988157644631,
          null,
          -0.8309880972396524,
          -0.7913083570814926,
          null
         ],
         "y": [
          0.298193208290131,
          0.4243658265342403,
          null,
          0.4243658265342403,
          0.408900455987658,
          null,
          0.4243658265342403,
          0.42941706349955505,
          null
         ]
        },
        {
         "hoverinfo": "text",
         "line": {
          "color": "white",
          "width": 2
         },
         "mode": "lines",
         "opacity": 0.5,
         "text": [
          "China to Armenia",
          "China to Armenia",
          "China to Armenia",
          "China to Armenia",
          "China to Armenia",
          "China to Armenia",
          "China to Armenia",
          "China to Armenia",
          "China to Armenia"
         ],
         "type": "scatter",
         "x": [
          0.09615994094567934,
          -0.9044211864347999,
          null,
          -0.9044211864347999,
          -0.8652498781556269,
          null,
          -0.9044211864347999,
          -0.8664477307441232,
          null
         ],
         "y": [
          0.2845893723947444,
          0.22660679388218735,
          null,
          0.22660679388218735,
          0.21850657863930495,
          null,
          0.22660679388218735,
          0.23917745584531575,
          null
         ]
        },
        {
         "hoverinfo": "text",
         "line": {
          "color": "white",
          "width": 2
         },
         "mode": "lines",
         "opacity": 0.5,
         "text": [
          "China to Chile",
          "China to Chile",
          "China to Chile",
          "China to Chile",
          "China to Chile",
          "China to Chile",
          "China to Chile",
          "China to Chile",
          "China to Chile"
         ],
         "type": "scatter",
         "x": [
          0.10006908446059007,
          -0.7152337518285252,
          null,
          -0.7152337518285252,
          -0.6822461104609989,
          null,
          -0.7152337518285252,
          -0.6753539673078385,
          null
         ],
         "y": [
          0.31218375322917785,
          0.5999813819160096,
          null,
          0.5999813819160096,
          0.5773580837450526,
          null,
          0.5999813819160096,
          0.5968828516663339,
          null
         ]
        },
        {
         "hoverinfo": "text",
         "line": {
          "color": "white",
          "width": 2
         },
         "mode": "lines",
         "opacity": 0.5,
         "text": [
          "Japan to Korea, Republic of",
          "Japan to Korea, Republic of",
          "Japan to Korea, Republic of",
          "Japan to Korea, Republic of",
          "Japan to Korea, Republic of",
          "Japan to Korea, Republic of",
          "Japan to Korea, Republic of",
          "Japan to Korea, Republic of",
          "Japan to Korea, Republic of"
         ],
         "type": "scatter",
         "x": [
          -0.13537931925106686,
          -0.2842271130676206,
          null,
          -0.2842271130676206,
          -0.2648030867266996,
          null,
          -0.2842271130676206,
          -0.24992184323159017,
          null
         ],
         "y": [
          0.372734190030523,
          0.5265913595719856,
          null,
          0.5265913595719856,
          0.491624220409956,
          null,
          0.5265913595719856,
          0.5060209419304628,
          null
         ]
        },
        {
         "hoverinfo": "text",
         "line": {
          "color": "white",
          "width": 2
         },
         "mode": "lines",
         "opacity": 0.5,
         "text": [
          "Japan to Netherlands",
          "Japan to Netherlands",
          "Japan to Netherlands",
          "Japan to Netherlands",
          "Japan to Netherlands",
          "Japan to Netherlands",
          "Japan to Netherlands",
          "Japan to Netherlands",
          "Japan to Netherlands"
         ],
         "type": "scatter",
         "x": [
          -0.12041605199214064,
          -0.4705203554547206,
          null,
          -0.4705203554547206,
          -0.4427790830810088,
          null,
          -0.4705203554547206,
          -0.46090421747644733,
          null
         ],
         "y": [
          0.2601517784880093,
          -0.3737902391241482,
          null,
          -0.3737902391241482,
          -0.344973221862819,
          null,
          -0.3737902391241482,
          -0.3349633339276865,
          null
         ]
        },
        {
         "hoverinfo": "text",
         "line": {
          "color": "white",
          "width": 2
         },
         "mode": "lines",
         "opacity": 0.5,
         "text": [
          "Japan to Germany",
          "Japan to Germany",
          "Japan to Germany",
          "Japan to Germany",
          "Japan to Germany",
          "Japan to Germany",
          "Japan to Germany",
          "Japan to Germany",
          "Japan to Germany"
         ],
         "type": "scatter",
         "x": [
          -0.12158555407458184,
          -0.2866627959496415,
          null,
          -0.2866627959496415,
          -0.2583785471871219,
          null,
          -0.2866627959496415,
          -0.27631004048493774,
          null
         ],
         "y": [
          0.2608122436456154,
          -0.02510998231691819,
          null,
          -0.02510998231691819,
          0.003174262664275465,
          null,
          -0.02510998231691819,
          0.013527016744917846,
          null
         ]
        },
        {
         "hoverinfo": "text",
         "line": {
          "color": "white",
          "width": 2
         },
         "mode": "lines",
         "opacity": 0.5,
         "text": [
          "Japan to Italy",
          "Japan to Italy",
          "Japan to Italy",
          "Japan to Italy",
          "Japan to Italy",
          "Japan to Italy",
          "Japan to Italy",
          "Japan to Italy",
          "Japan to Italy"
         ],
         "type": "scatter",
         "x": [
          -0.043279284933832846,
          0.24568135509851333,
          null,
          0.24568135509851333,
          0.23037399946582826,
          null,
          0.24568135509851333,
          0.21394718867177503,
          null
         ],
         "y": [
          0.26594470988287044,
          -0.11063615034593657,
          null,
          -0.11063615034593657,
          -0.07368093517779618,
          null,
          -0.11063615034593657,
          -0.08628567302434952,
          null
         ]
        },
        {
         "hoverinfo": "text",
         "line": {
          "color": "white",
          "width": 2
         },
         "mode": "lines",
         "opacity": 0.5,
         "text": [
          "Japan to Spain",
          "Japan to Spain",
          "Japan to Spain",
          "Japan to Spain",
          "Japan to Spain",
          "Japan to Spain",
          "Japan to Spain",
          "Japan to Spain",
          "Japan to Spain"
         ],
         "type": "scatter",
         "x": [
          -0.06799396141589498,
          0.0679939092618308,
          null,
          0.0679939092618308,
          0.06799390566567898,
          null,
          0.0679939092618308,
          0.04799387279226357,
          null
         ],
         "y": [
          0.25375678003656665,
          -0.25375678003656665,
          null,
          -0.25375678003656665,
          -0.21375671332614984,
          null,
          -0.25375678003656665,
          -0.21911570791034937,
          null
         ]
        },
        {
         "hoverinfo": "text",
         "line": {
          "color": "white",
          "width": 2
         },
         "mode": "lines",
         "opacity": 0.5,
         "text": [
          "Japan to United States",
          "Japan to United States",
          "Japan to United States",
          "Japan to United States",
          "Japan to United States",
          "Japan to United States",
          "Japan to United States",
          "Japan to United States",
          "Japan to United States"
         ],
         "type": "scatter",
         "x": [
          -0.1423036344441304,
          -0.23264455421839858,
          null,
          -0.23264455421839858,
          -0.1956893923446314,
          null,
          -0.23264455421839858,
          -0.20829409702360188,
          null
         ],
         "y": [
          0.2789815090354434,
          0.20966046827473728,
          null,
          0.20966046827473728,
          0.2249677718524409,
          null,
          0.20966046827473728,
          0.24139456297335266,
          null
         ]
        },
        {
         "hoverinfo": "text",
         "line": {
          "color": "white",
          "width": 2
         },
         "mode": "lines",
         "opacity": 0.5,
         "text": [
          "Japan to France",
          "Japan to France",
          "Japan to France",
          "Japan to France",
          "Japan to France",
          "Japan to France",
          "Japan to France",
          "Japan to France",
          "Japan to France"
         ],
         "type": "scatter",
         "x": [
          -0.09549146319861505,
          -0.1574482378817072,
          null,
          -0.1574482378817072,
          -0.14214095015162884,
          null,
          -0.1574482378817072,
          -0.16266927347944266,
          null
         ],
         "y": [
          0.2519544963380726,
          -0.21865436477870065,
          null,
          -0.21865436477870065,
          -0.18169929350865832,
          null,
          -0.21865436477870065,
          -0.17899669039514035,
          null
         ]
        },
        {
         "hoverinfo": "text",
         "line": {
          "color": "white",
          "width": 2
         },
         "mode": "lines",
         "opacity": 0.5,
         "text": [
          "Japan to United Kingdom",
          "Japan to United Kingdom",
          "Japan to United Kingdom",
          "Japan to United Kingdom",
          "Japan to United Kingdom",
          "Japan to United Kingdom",
          "Japan to United Kingdom",
          "Japan to United Kingdom",
          "Japan to United Kingdom"
         ],
         "type": "scatter",
         "x": [
          -0.06188431090079932,
          0.23395488864146857,
          null,
          0.23395488864146857,
          0.23032834101625102,
          null,
          0.23395488864146857,
          0.21089655885823663,
          null
         ],
         "y": [
          0.2556949801317012,
          -0.548295194613055,
          null,
          -0.548295194613055,
          -0.5084598997895361,
          null,
          -0.548295194613055,
          -0.5156100911412537,
          null
         ]
        },
        {
         "hoverinfo": "text",
         "line": {
          "color": "white",
          "width": 2
         },
         "mode": "lines",
         "opacity": 0.5,
         "text": [
          "Japan to Taiwan",
          "Japan to Taiwan",
          "Japan to Taiwan",
          "Japan to Taiwan",
          "Japan to Taiwan",
          "Japan to Taiwan",
          "Japan to Taiwan",
          "Japan to Taiwan",
          "Japan to Taiwan"
         ],
         "type": "scatter",
         "x": [
          -0.03850730499594603,
          0.7340659870800296,
          null,
          0.7340659870800296,
          0.7155604603638432,
          null,
          0.7340659870800296,
          0.700308778450161,
          null
         ],
         "y": [
          0.26995295571002065,
          -0.5714671640268236,
          null,
          -0.5714671640268236,
          -0.5360052592603445,
          null,
          -0.5714671640268236,
          -0.5500090169905614,
          null
         ]
        },
        {
         "hoverinfo": "text",
         "line": {
          "color": "white",
          "width": 2
         },
         "mode": "lines",
         "opacity": 0.5,
         "text": [
          "Japan to Czech Republic",
          "Japan to Czech Republic",
          "Japan to Czech Republic",
          "Japan to Czech Republic",
          "Japan to Czech Republic",
          "Japan to Czech Republic",
          "Japan to Czech Republic",
          "Japan to Czech Republic",
          "Japan to Czech Republic"
         ],
         "type": "scatter",
         "x": [
          -0.01583644110232571,
          0.4848441864874957,
          null,
          0.4848441864874957,
          0.4455546503005745,
          null,
          0.4848441864874957,
          0.44706595449372877,
          null
         ],
         "y": [
          0.3271302349137226,
          0.36377283267508354,
          null,
          0.36377283267508354,
          0.3712778237810539,
          null,
          0.36377283267508354,
          0.3506275775345695,
          null
         ]
        },
        {
         "hoverinfo": "text",
         "line": {
          "color": "white",
          "width": 2
         },
         "mode": "lines",
         "opacity": 0.5,
         "text": [
          "Japan to Romania",
          "Japan to Romania",
          "Japan to Romania",
          "Japan to Romania",
          "Japan to Romania",
          "Japan to Romania",
          "Japan to Romania",
          "Japan to Romania",
          "Japan to Romania"
         ],
         "type": "scatter",
         "x": [
          -0.15171099990276696,
          -0.4010043761167109,
          null,
          -0.4010043761167109,
          -0.36909939884870124,
          null,
          -0.4010043761167109,
          -0.36131082606918186,
          null
         ],
         "y": [
          0.34854155788199215,
          0.4497488140128443,
          null,
          0.4497488140128443,
          0.42562275556030893,
          null,
          0.4497488140128443,
          0.44480752313376526,
          null
         ]
        },
        {
         "hoverinfo": "text",
         "line": {
          "color": "white",
          "width": 2
         },
         "mode": "lines",
         "opacity": 0.5,
         "text": [
          "Japan to China",
          "Japan to China",
          "Japan to China",
          "Japan to China",
          "Japan to China",
          "Japan to China",
          "Japan to China",
          "Japan to China",
          "Japan to China"
         ],
         "type": "scatter",
         "x": [
          -0.016252265420432413,
          0.09664586290406736,
          null,
          0.09664586290406736,
          0.059690353353591394,
          null,
          0.09664586290406736,
          0.05698773620160624,
          null
         ],
         "y": [
          0.3127568822018067,
          0.2978935677894195,
          null,
          0.2978935677894195,
          0.3132010010333205,
          null,
          0.2978935677894195,
          0.29267243907013424,
          null
         ]
        },
        {
         "hoverinfo": "text",
         "line": {
          "color": "white",
          "width": 2
         },
         "mode": "lines",
         "opacity": 0.5,
         "text": [
          "Japan to Ireland",
          "Japan to Ireland",
          "Japan to Ireland",
          "Japan to Ireland",
          "Japan to Ireland",
          "Japan to Ireland",
          "Japan to Ireland",
          "Japan to Ireland",
          "Japan to Ireland"
         ],
         "type": "scatter",
         "x": [
          -0.1089111030586296,
          -0.35783744747561874,
          null,
          -0.35783744747561874,
          -0.33564629482213454,
          null,
          -0.35783744747561874,
          -0.3552592870038032,
          null
         ],
         "y": [
          0.25507678856882315,
          -0.4805344568732665,
          null,
          -0.4805344568732665,
          -0.44725457394254603,
          null,
          -0.4805344568732665,
          -0.44061765649354834,
          null
         ]
        },
        {
         "hoverinfo": "text",
         "line": {
          "color": "white",
          "width": 2
         },
         "mode": "lines",
         "opacity": 0.5,
         "text": [
          "Japan to Belgium",
          "Japan to Belgium",
          "Japan to Belgium",
          "Japan to Belgium",
          "Japan to Belgium",
          "Japan to Belgium",
          "Japan to Belgium",
          "Japan to Belgium",
          "Japan to Belgium"
         ],
         "type": "scatter",
         "x": [
          -0.1492604511059567,
          -0.6030945135079578,
          null,
          -0.6030945135079578,
          -0.5639530711805821,
          null,
          -0.6030945135079578,
          -0.5733185429593288,
          null
         ],
         "y": [
          0.2900303523335264,
          0.059862047871608946,
          null,
          0.059862047871608946,
          0.06810507356689272,
          null,
          0.059862047871608946,
          0.08657143869146045,
          null
         ]
        },
        {
         "hoverinfo": "text",
         "line": {
          "color": "white",
          "width": 2
         },
         "mode": "lines",
         "opacity": 0.5,
         "text": [
          "Japan to New Zealand",
          "Japan to New Zealand",
          "Japan to New Zealand",
          "Japan to New Zealand",
          "Japan to New Zealand",
          "Japan to New Zealand",
          "Japan to New Zealand",
          "Japan to New Zealand",
          "Japan to New Zealand"
         ],
         "type": "scatter",
         "x": [
          -0.15503674330040995,
          -0.5694493543930333,
          null,
          -0.5694493543930333,
          -0.5294694364249456,
          null,
          -0.5694493543930333,
          -0.5341917125583111,
          null
         ],
         "y": [
          0.30586795143363715,
          0.20879513390781643,
          null,
          0.20879513390781643,
          0.2075270994415359,
          null,
          0.20879513390781643,
          0.22768694283118715,
          null
         ]
        },
        {
         "hoverinfo": "text",
         "line": {
          "color": "white",
          "width": 2
         },
         "mode": "lines",
         "opacity": 0.5,
         "text": [
          "Japan to Hungary",
          "Japan to Hungary",
          "Japan to Hungary",
          "Japan to Hungary",
          "Japan to Hungary",
          "Japan to Hungary",
          "Japan to Hungary",
          "Japan to Hungary",
          "Japan to Hungary"
         ],
         "type": "scatter",
         "x": [
          -0.01912252444347176,
          0.3789364381464365,
          null,
          0.3789364381464365,
          0.33899298957490553,
          null,
          0.3789364381464365,
          0.34540741821929144,
          null
         ],
         "y": [
          0.3438544201076495,
          0.47355083354110844,
          null,
          0.47355083354110844,
          0.47142479103999246,
          null,
          0.47355083354110844,
          0.4517379024398511,
          null
         ]
        },
        {
         "hoverinfo": "text",
         "line": {
          "color": "white",
          "width": 2
         },
         "mode": "lines",
         "opacity": 0.5,
         "text": [
          "Japan to Poland",
          "Japan to Poland",
          "Japan to Poland",
          "Japan to Poland",
          "Japan to Poland",
          "Japan to Poland",
          "Japan to Poland",
          "Japan to Poland",
          "Japan to Poland"
         ],
         "type": "scatter",
         "x": [
          -0.0732828146661158,
          0.08439828370460228,
          null,
          0.08439828370460228,
          0.08746780632174836,
          null,
          0.08439828370460228,
          0.06711551470127934,
          null
         ],
         "y": [
          0.2525552348067332,
          -0.590094848053651,
          null,
          -0.590094848053651,
          -0.5502127409191263,
          null,
          -0.590094848053651,
          -0.554021168810127,
          null
         ]
        },
        {
         "hoverinfo": "text",
         "line": {
          "color": "white",
          "width": 2
         },
         "mode": "lines",
         "opacity": 0.5,
         "text": [
          "Japan to Turkey",
          "Japan to Turkey",
          "Japan to Turkey",
          "Japan to Turkey",
          "Japan to Turkey",
          "Japan to Turkey",
          "Japan to Turkey",
          "Japan to Turkey",
          "Japan to Turkey"
         ],
         "type": "scatter",
         "x": [
          -0.02511001100300808,
          0.2608122425293829,
          null,
          0.2608122425293829,
          0.2325279236572081,
          null,
          0.2608122425293829,
          0.22217515512738456,
          null
         ],
         "y": [
          0.28666279788301335,
          0.12158555214121,
          null,
          0.12158555214121,
          0.14986984960112068,
          null,
          0.12158555214121,
          0.1319383128336009,
          null
         ]
        },
        {
         "hoverinfo": "text",
         "line": {
          "color": "white",
          "width": 2
         },
         "mode": "lines",
         "opacity": 0.5,
         "text": [
          "Japan to Slovakia",
          "Japan to Slovakia",
          "Japan to Slovakia",
          "Japan to Slovakia",
          "Japan to Slovakia",
          "Japan to Slovakia",
          "Japan to Slovakia",
          "Japan to Slovakia",
          "Japan to Slovakia"
         ],
         "type": "scatter",
         "x": [
          -0.05112971522249602,
          0.36792269505895997,
          null,
          0.36792269505895997,
          0.3576767357952184,
          null,
          0.36792269505895997,
          0.33971667503822794,
          null
         ],
         "y": [
          0.26071489577461276,
          -0.46975959067512546,
          null,
          -0.46975959067512546,
          -0.43109407265074284,
          null,
          -0.46975959067512546,
          -0.4413972494473958,
          null
         ]
        },
        {
         "hoverinfo": "text",
         "line": {
          "color": "white",
          "width": 2
         },
         "mode": "lines",
         "opacity": 0.5,
         "text": [
          "Japan to Switzerland",
          "Japan to Switzerland",
          "Japan to Switzerland",
          "Japan to Switzerland",
          "Japan to Switzerland",
          "Japan to Switzerland",
          "Japan to Switzerland",
          "Japan to Switzerland",
          "Japan to Switzerland"
         ],
         "type": "scatter",
         "x": [
          -0.08508388384403612,
          -0.07087473884997939,
          null,
          -0.07087473884997939,
          -0.06117387290910423,
          null,
          -0.07087473884997939,
          -0.081876755007697,
          null
         ],
         "y": [
          0.2513603030824841,
          -0.5923996626520336,
          null,
          -0.5923996626520336,
          -0.5535932376495881,
          null,
          -0.5923996626520336,
          -0.5539418797994227,
          null
         ]
        },
        {
         "hoverinfo": "text",
         "line": {
          "color": "white",
          "width": 2
         },
         "mode": "lines",
         "opacity": 0.5,
         "text": [
          "Japan to Denmark",
          "Japan to Denmark",
          "Japan to Denmark",
          "Japan to Denmark",
          "Japan to Denmark",
          "Japan to Denmark",
          "Japan to Denmark",
          "Japan to Denmark",
          "Japan to Denmark"
         ],
         "type": "scatter",
         "x": [
          -0.019709842038406714,
          0.5977653579237598,
          null,
          0.5977653579237598,
          0.5648106937948059,
          null,
          0.5977653579237598,
          0.5578900790566339,
          null
         ],
         "y": [
          0.2983695978266592,
          0.07939084973508163,
          null,
          0.07939084973508163,
          0.10206225485161766,
          null,
          0.07939084973508163,
          0.08254753044101332,
          null
         ]
        },
        {
         "hoverinfo": "text",
         "line": {
          "color": "white",
          "width": 2
         },
         "mode": "lines",
         "opacity": 0.5,
         "text": [
          "Japan to Slovenia",
          "Japan to Slovenia",
          "Japan to Slovenia",
          "Japan to Slovenia",
          "Japan to Slovenia",
          "Japan to Slovenia",
          "Japan to Slovenia",
          "Japan to Slovenia",
          "Japan to Slovenia"
         ],
         "type": "scatter",
         "x": [
          -0.0412636720977986,
          0.47745298086034893,
          null,
          0.47745298086034893,
          0.46080753969921084,
          null,
          0.47745298086034893,
          0.44485154651258796,
          null
         ],
         "y": [
          0.26755061169236755,
          -0.3596738221225128,
          null,
          -0.3596738221225128,
          -0.3233017032324803,
          null,
          -0.3596738221225128,
          -0.33649736375484585,
          null
         ]
        },
        {
         "hoverinfo": "text",
         "line": {
          "color": "white",
          "width": 2
         },
         "mode": "lines",
         "opacity": 0.5,
         "text": [
          "Japan to Austria",
          "Japan to Austria",
          "Japan to Austria",
          "Japan to Austria",
          "Japan to Austria",
          "Japan to Austria",
          "Japan to Austria",
          "Japan to Austria",
          "Japan to Austria"
         ],
         "type": "scatter",
         "x": [
          -0.1312536928877298,
          -0.5521605130210455,
          null,
          -0.5521605130210455,
          -0.519571351507606,
          null,
          -0.5521605130210455,
          -0.5355342990548035,
          null
         ],
         "y": [
          0.2675268452286028,
          -0.2419751386760973,
          null,
          -0.2419751386760973,
          -0.21878148309123593,
          null,
          -0.2419751386760973,
          -0.2055942629762608,
          null
         ]
        },
        {
         "hoverinfo": "text",
         "line": {
          "color": "white",
          "width": 2
         },
         "mode": "lines",
         "opacity": 0.5,
         "text": [
          "Japan to Sweden",
          "Japan to Sweden",
          "Japan to Sweden",
          "Japan to Sweden",
          "Japan to Sweden",
          "Japan to Sweden",
          "Japan to Sweden",
          "Japan to Sweden",
          "Japan to Sweden"
         ],
         "type": "scatter",
         "x": [
          -0.1399258891947868,
          -0.5698367287508843,
          null,
          -0.5698367287508843,
          -0.5472170305558571,
          null,
          -0.5698367287508843,
          -0.5337524439927654,
          null
         ],
         "y": [
          0.3679020200709974,
          0.7359049524326647,
          null,
          0.7359049524326647,
          0.702914849442088,
          null,
          0.7359049524326647,
          0.7186445342668739,
          null
         ]
        },
        {
         "hoverinfo": "text",
         "line": {
          "color": "white",
          "width": 2
         },
         "mode": "lines",
         "opacity": 0.5,
         "text": [
          "Japan to Bulgaria",
          "Japan to Bulgaria",
          "Japan to Bulgaria",
          "Japan to Bulgaria",
          "Japan to Bulgaria",
          "Japan to Bulgaria",
          "Japan to Bulgaria",
          "Japan to Bulgaria",
          "Japan to Bulgaria"
         ],
         "type": "scatter",
         "x": [
          -0.04466127987209018,
          0.11062217886748965,
          null,
          0.11062217886748965,
          0.0794925269836578,
          null,
          0.11062217886748965,
          0.09622244263221282,
          null
         ],
         "y": [
          0.3790397319106829,
          0.5919881787986983,
          null,
          0.5919881787986983,
          0.566869512584523,
          null,
          0.5919881787986983,
          0.5546699498061246,
          null
         ]
        },
        {
         "hoverinfo": "text",
         "line": {
          "color": "white",
          "width": 2
         },
         "mode": "lines",
         "opacity": 0.5,
         "text": [
          "United States to China",
          "United States to China",
          "United States to China",
          "United States to China",
          "United States to China",
          "United States to China",
          "United States to China",
          "United States to China",
          "United States to China"
         ],
         "type": "scatter",
         "x": [
          -0.2204566182616532,
          0.09844814558060765,
          null,
          0.09844814558060765,
          0.05844816730556031,
          null,
          0.09844814558060765,
          0.06380715445569855,
          null
         ],
         "y": [
          0.18494578282575602,
          0.2703960629250527,
          null,
          0.2703960629250527,
          0.2703960505008376,
          null,
          0.2703960629250527,
          0.2503960630278431,
          null
         ]
        },
        {
         "hoverinfo": "text",
         "line": {
          "color": "white",
          "width": 2
         },
         "mode": "lines",
         "opacity": 0.5,
         "text": [
          "United States to Czech Republic",
          "United States to Czech Republic",
          "United States to Czech Republic",
          "United States to Czech Republic",
          "United States to Czech Republic",
          "United States to Czech Republic",
          "United States to Czech Republic",
          "United States to Czech Republic",
          "United States to Czech Republic"
         ],
         "type": "scatter",
         "x": [
          -0.2199949550708955,
          0.486600630291385,
          null,
          0.486600630291385,
          0.44661476885125856,
          null,
          0.486600630291385,
          0.4514403744915275,
          null
         ],
         "y": [
          0.1831264640927669,
          0.3524679992556218,
          null,
          0.3524679992556218,
          0.3535309672566285,
          null,
          0.3524679992556218,
          0.3333956258278403,
          null
         ]
        },
        {
         "hoverinfo": "text",
         "line": {
          "color": "white",
          "width": 2
         },
         "mode": "lines",
         "opacity": 0.5,
         "text": [
          "United States to India",
          "United States to India",
          "United States to India",
          "United States to India",
          "United States to India",
          "United States to India",
          "United States to India",
          "United States to India",
          "United States to India"
         ],
         "type": "scatter",
         "x": [
          -0.2209123574816827,
          0.5895679794871453,
          null,
          0.5895679794871453,
          0.5554141876238591,
          null,
          0.5895679794871453,
          0.5495793489195503,
          null
         ],
         "y": [
          0.1467644915528621,
          -0.09127679919675248,
          null,
          -0.09127679919675248,
          -0.07045564083990669,
          null,
          -0.09127679919675248,
          -0.09032204305514852,
          null
         ]
        },
        {
         "hoverinfo": "text",
         "line": {
          "color": "white",
          "width": 2
         },
         "mode": "lines",
         "opacity": 0.5,
         "text": [
          "United States to Netherlands",
          "United States to Netherlands",
          "United States to Netherlands",
          "United States to Netherlands",
          "United States to Netherlands",
          "United States to Netherlands",
          "United States to Netherlands",
          "United States to Netherlands",
          "United States to Netherlands"
         ],
         "type": "scatter",
         "x": [
          -0.31251580237171445,
          -0.4808226752398273,
          null,
          -0.4808226752398273,
          -0.45803503587765687,
          null,
          -0.4808226752398273,
          -0.4775251565236926,
          null
         ],
         "y": [
          0.10018726913442257,
          -0.36913433401097895,
          null,
          -0.36913433401097895,
          -0.3362600222834127,
          null,
          -0.36913433401097895,
          -0.32927052524189265,
          null
         ]
        },
        {
         "hoverinfo": "text",
         "line": {
          "color": "white",
          "width": 2
         },
         "mode": "lines",
         "opacity": 0.5,
         "text": [
          "United States to Italy",
          "United States to Italy",
          "United States to Italy",
          "United States to Italy",
          "United States to Italy",
          "United States to Italy",
          "United States to Italy",
          "United States to Italy",
          "United States to Italy"
         ],
         "type": "scatter",
         "x": [
          -0.22751208941922269,
          0.22751208941922269,
          null,
          0.22751208941922269,
          0.19922779363369372,
          null,
          0.22751208941922269,
          0.18887502418769225,
          null
         ],
         "y": [
          0.13135417935051952,
          -0.1313542240540031,
          null,
          -0.1313542240540031,
          -0.10306993094778467,
          null,
          -0.1313542240540031,
          -0.12100145558869736,
          null
         ]
        },
        {
         "hoverinfo": "text",
         "line": {
          "color": "white",
          "width": 2
         },
         "mode": "lines",
         "opacity": 0.5,
         "text": [
          "United States to Australia",
          "United States to Australia",
          "United States to Australia",
          "United States to Australia",
          "United States to Australia",
          "United States to Australia",
          "United States to Australia",
          "United States to Australia",
          "United States to Australia"
         ],
         "type": "scatter",
         "x": [
          -0.3574378548817636,
          -0.9312372745318411,
          null,
          -0.9312372745318411,
          -0.8912572871888415,
          null,
          -0.9312372745318411,
          -0.8959807634799862,
          null
         ],
         "y": [
          0.15055525546279427,
          0.016111343649310737,
          null,
          0.016111343649310737,
          0.014845690909637032,
          null,
          0.016111343649310737,
          0.03500524989588381,
          null
         ]
        },
        {
         "hoverinfo": "text",
         "line": {
          "color": "white",
          "width": 2
         },
         "mode": "lines",
         "opacity": 0.5,
         "text": [
          "United States to Ireland",
          "United States to Ireland",
          "United States to Ireland",
          "United States to Ireland",
          "United States to Ireland",
          "United States to Ireland",
          "United States to Ireland",
          "United States to Ireland",
          "United States to Ireland"
         ],
         "type": "scatter",
         "x": [
          -0.2976801511028639,
          -0.37147046959606494,
          null,
          -0.37147046959606494,
          -0.3562758406056111,
          null,
          -0.37147046959606494,
          -0.37681231280622984,
          null
         ],
         "y": [
          0.09661813045143348,
          -0.4773844029962943,
          null,
          -0.4773844029962943,
          -0.44038284716233955,
          null,
          -0.4773844029962943,
          -0.43774280116931424,
          null
         ]
        },
        {
         "hoverinfo": "text",
         "line": {
          "color": "white",
          "width": 2
         },
         "mode": "lines",
         "opacity": 0.5,
         "text": [
          "United States to Turkey",
          "United States to Turkey",
          "United States to Turkey",
          "United States to Turkey",
          "United States to Turkey",
          "United States to Turkey",
          "United States to Turkey",
          "United States to Turkey",
          "United States to Turkey"
         ],
         "type": "scatter",
         "x": [
          -0.21865433569794765,
          0.251954497059642,
          null,
          0.251954497059642,
          0.21499923657698225,
          null,
          0.251954497059642,
          0.2122966230483421,
          null
         ],
         "y": [
          0.15744827710432385,
          0.095491468679482,
          null,
          0.095491468679482,
          0.11079882793917276,
          null,
          0.095491468679482,
          0.09027040042189928,
          null
         ]
        },
        {
         "hoverinfo": "text",
         "line": {
          "color": "white",
          "width": 2
         },
         "mode": "lines",
         "opacity": 0.5,
         "text": [
          "United States to Germany",
          "United States to Germany",
          "United States to Germany",
          "United States to Germany",
          "United States to Germany",
          "United States to Germany",
          "United States to Germany",
          "United States to Germany",
          "United States to Germany"
         ],
         "type": "scatter",
         "x": [
          -0.2978935460966562,
          -0.3127568740922476,
          null,
          -0.3127568740922476,
          -0.297449722676063,
          null,
          -0.3127568740922476,
          -0.31797784913851423,
          null
         ],
         "y": [
          0.09664589377403349,
          -0.016252236685753763,
          null,
          -0.016252236685753763,
          0.020702477378761158,
          null,
          -0.016252236685753763,
          0.023405060191798555,
          null
         ]
        },
        {
         "hoverinfo": "text",
         "line": {
          "color": "white",
          "width": 2
         },
         "mode": "lines",
         "opacity": 0.5,
         "text": [
          "United States to Korea, Republic of",
          "United States to Korea, Republic of",
          "United States to Korea, Republic of",
          "United States to Korea, Republic of",
          "United States to Korea, Republic of",
          "United States to Korea, Republic of",
          "United States to Korea, Republic of",
          "United States to Korea, Republic of",
          "United States to Korea, Republic of"
         ],
         "type": "scatter",
         "x": [
          -0.29630997291062633,
          -0.3256985295727416,
          null,
          -0.3256985295727416,
          -0.3318137606699926,
          null,
          -0.3256985295727416,
          -0.3112297274729614,
          null
         ],
         "y": [
          0.23687779526972488,
          0.5071391500923662,
          null,
          0.5071391500923662,
          0.46760965493234197,
          null,
          0.5071391500923662,
          0.4698479875363857,
          null
         ]
        },
        {
         "hoverinfo": "text",
         "line": {
          "color": "white",
          "width": 2
         },
         "mode": "lines",
         "opacity": 0.5,
         "text": [
          "United States to Switzerland",
          "United States to Switzerland",
          "United States to Switzerland",
          "United States to Switzerland",
          "United States to Switzerland",
          "United States to Switzerland",
          "United States to Switzerland",
          "United States to Switzerland",
          "United States to Switzerland"
         ],
         "type": "scatter",
         "x": [
          -0.27065132946482046,
          -0.08770936339387551,
          null,
          -0.08770936339387551,
          -0.08755974703765582,
          null,
          -0.08770936339387551,
          -0.10757967667209348,
          null
         ],
         "y": [
          0.09838028041765935,
          -0.5947282442276264,
          null,
          -0.5947282442276264,
          -0.5547284745405746,
          null,
          -0.5947282442276264,
          -0.560012619355003,
          null
         ]
        },
        {
         "hoverinfo": "text",
         "line": {
          "color": "white",
          "width": 2
         },
         "mode": "lines",
         "opacity": 0.5,
         "text": [
          "United States to Mexico",
          "United States to Mexico",
          "United States to Mexico",
          "United States to Mexico",
          "United States to Mexico",
          "United States to Mexico",
          "United States to Mexico",
          "United States to Mexico",
          "United States to Mexico"
         ],
         "type": "scatter",
         "x": [
          -0.2197670760869535,
          0.8320608559369597,
          null,
          0.8320608559369597,
          0.7920942306340912,
          null,
          0.8320608559369597,
          0.796632024698166,
          null
         ],
         "y": [
          0.18214476172953636,
          0.41840556199521034,
          null,
          0.41840556199521034,
          0.42003899884116175,
          null,
          0.41840556199521034,
          0.39983684714784756,
          null
         ]
        },
        {
         "hoverinfo": "text",
         "line": {
          "color": "white",
          "width": 2
         },
         "mode": "lines",
         "opacity": 0.5,
         "text": [
          "United States to United Kingdom",
          "United States to United Kingdom",
          "United States to United Kingdom",
          "United States to United Kingdom",
          "United States to United Kingdom",
          "United States to United Kingdom",
          "United States to United Kingdom",
          "United States to United Kingdom",
          "United States to United Kingdom"
         ],
         "type": "scatter",
         "x": [
          -0.24816693487198319,
          0.21783544244797196,
          null,
          0.21783544244797196,
          0.20415504278004112,
          null,
          0.21783544244797196,
          0.1871939301569003,
          null
         ],
         "y": [
          0.10881362438620926,
          -0.5567224431079805,
          null,
          -0.5567224431079805,
          -0.5191345658185418,
          null,
          -0.5567224431079805,
          -0.5310105863349598,
          null
         ]
        },
        {
         "hoverinfo": "text",
         "line": {
          "color": "white",
          "width": 2
         },
         "mode": "lines",
         "opacity": 0.5,
         "text": [
          "United States to France",
          "United States to France",
          "United States to France",
          "United States to France",
          "United States to France",
          "United States to France",
          "United States to France",
          "United States to France",
          "United States to France"
         ],
         "type": "scatter",
         "x": [
          -0.2703960332722773,
          -0.18494573797272543,
          null,
          -0.18494573797272543,
          -0.18494574174229156,
          null,
          -0.18494573797272543,
          -0.2049457943196666,
          null
         ],
         "y": [
          0.09844817534285903,
          -0.22045664802390458,
          null,
          -0.22045664802390458,
          -0.18045654185910226,
          null,
          -0.22045664802390458,
          -0.18581554181589427,
          null
         ]
        },
        {
         "hoverinfo": "text",
         "line": {
          "color": "white",
          "width": 2
         },
         "mode": "lines",
         "opacity": 0.5,
         "text": [
          "United States to Japan",
          "United States to Japan",
          "United States to Japan",
          "United States to Japan",
          "United States to Japan",
          "United States to Japan",
          "United States to Japan",
          "United States to Japan",
          "United States to Japan"
         ],
         "type": "scatter",
         "x": [
          -0.23264455421839858,
          -0.1423036344441304,
          null,
          -0.1423036344441304,
          -0.17925883199355203,
          null,
          -0.1423036344441304,
          -0.166654084981968,
          null
         ],
         "y": [
          0.20966046827473728,
          0.2789815090354434,
          null,
          0.2789815090354434,
          0.2636741303517754,
          null,
          0.2789815090354434,
          0.24724733145532768,
          null
         ]
        },
        {
         "hoverinfo": "text",
         "line": {
          "color": "white",
          "width": 2
         },
         "mode": "lines",
         "opacity": 0.5,
         "text": [
          "United States to Romania",
          "United States to Romania",
          "United States to Romania",
          "United States to Romania",
          "United States to Romania",
          "United States to Romania",
          "United States to Romania",
          "United States to Romania",
          "United States to Romania"
         ],
         "type": "scatter",
         "x": [
          -0.3238379262481844,
          -0.4312795199359739,
          null,
          -0.4312795199359739,
          -0.42102132418810895,
          null,
          -0.4312795199359739,
          -0.4030645873980316,
          null
         ],
         "y": [
          0.2279159179077737,
          0.41506584974664523,
          null,
          0.41506584974664523,
          0.3764037009000497,
          null,
          0.41506584974664523,
          0.38671254455453075,
          null
         ]
        },
        {
         "hoverinfo": "text",
         "line": {
          "color": "white",
          "width": 2
         },
         "mode": "lines",
         "opacity": 0.5,
         "text": [
          "United States to Slovenia",
          "United States to Slovenia",
          "United States to Slovenia",
          "United States to Slovenia",
          "United States to Slovenia",
          "United States to Slovenia",
          "United States to Slovenia",
          "United States to Slovenia",
          "United States to Slovenia"
         ],
         "type": "scatter",
         "x": [
          -0.23125148912118745,
          0.4650387277190573,
          null,
          0.4650387277190573,
          0.439650695496423,
          null,
          0.4650387277190573,
          0.42759687474325275,
          null
         ],
         "y": [
          0.12555201566708707,
          -0.3729838303376498,
          null,
          -0.3729838303376498,
          -0.3420734860998392,
          null,
          -0.3729838303376498,
          -0.358908703099301,
          null
         ]
        },
        {
         "hoverinfo": "text",
         "line": {
          "color": "white",
          "width": 2
         },
         "mode": "lines",
         "opacity": 0.5,
         "text": [
          "United States to New Zealand",
          "United States to New Zealand",
          "United States to New Zealand",
          "United States to New Zealand",
          "United States to New Zealand",
          "United States to New Zealand",
          "United States to New Zealand",
          "United States to New Zealand",
          "United States to New Zealand"
         ],
         "type": "scatter",
         "x": [
          -0.35910523880694667,
          -0.5677829290511771,
          null,
          -0.5677829290511771,
          -0.5300213783781798,
          null,
          -0.5677829290511771,
          -0.528484225049465,
          null
         ],
         "y": [
          0.1719098073461823,
          0.18744467375485377,
          null,
          0.18744467375485377,
          0.17425219008964785,
          null,
          0.18744467375485377,
          0.19490042309827288,
          null
         ]
        },
        {
         "hoverinfo": "text",
         "line": {
          "color": "white",
          "width": 2
         },
         "mode": "lines",
         "opacity": 0.5,
         "text": [
          "United States to Azerbaijan",
          "United States to Azerbaijan",
          "United States to Azerbaijan",
          "United States to Azerbaijan",
          "United States to Azerbaijan",
          "United States to Azerbaijan",
          "United States to Azerbaijan",
          "United States to Azerbaijan",
          "United States to Azerbaijan"
         ],
         "type": "scatter",
         "x": [
          -0.23972020356878387,
          0.5745351096890842,
          null,
          0.5745351096890842,
          0.5552152126386383,
          null,
          0.5745351096890842,
          0.5402911443126683,
          null
         ],
         "y": [
          0.11576181583935691,
          -0.7309264534049696,
          null,
          -0.7309264534049696,
          -0.6959015659405103,
          null,
          -0.7309264534049696,
          -0.7102539596212798,
          null
         ]
        },
        {
         "hoverinfo": "text",
         "line": {
          "color": "white",
          "width": 2
         },
         "mode": "lines",
         "opacity": 0.5,
         "text": [
          "United States to Poland",
          "United States to Poland",
          "United States to Poland",
          "United States to Poland",
          "United States to Poland",
          "United States to Poland",
          "United States to Poland",
          "United States to Poland",
          "United States to Poland"
         ],
         "type": "scatter",
         "x": [
          -0.25877627048217045,
          0.06748966935597644,
          null,
          0.06748966935597644,
          0.060512070917765566,
          null,
          0.06748966935597644,
          0.04175352025084485,
          null
         ],
         "y": [
          0.1026827130759115,
          -0.5955309305632467,
          null,
          -0.5955309305632467,
          -0.556144187362778,
          null,
          -0.5955309305632467,
          -0.5649098095984122,
          null
         ]
        },
        {
         "hoverinfo": "text",
         "line": {
          "color": "white",
          "width": 2
         },
         "mode": "lines",
         "opacity": 0.5,
         "text": [
          "United States to Bosnia and Herzegovina",
          "United States to Bosnia and Herzegovina",
          "United States to Bosnia and Herzegovina",
          "United States to Bosnia and Herzegovina",
          "United States to Bosnia and Herzegovina",
          "United States to Bosnia and Herzegovina",
          "United States to Bosnia and Herzegovina",
          "United States to Bosnia and Herzegovina",
          "United States to Bosnia and Herzegovina"
         ],
         "type": "scatter",
         "x": [
          -0.2181656169659382,
          0.5590747403866535,
          null,
          0.5590747403866535,
          0.5199091548045344,
          null,
          0.5590747403866535,
          0.5210927741843769,
          null
         ],
         "y": [
          0.17070392313834706,
          0.2152071839249464,
          null,
          0.2152071839249464,
          0.22333433219308213,
          null,
          0.2152071839249464,
          0.20266270799441508,
          null
         ]
        },
        {
         "hoverinfo": "text",
         "line": {
          "color": "white",
          "width": 2
         },
         "mode": "lines",
         "opacity": 0.5,
         "text": [
          "United States to Spain",
          "United States to Spain",
          "United States to Spain",
          "United States to Spain",
          "United States to Spain",
          "United States to Spain",
          "United States to Spain",
          "United States to Spain",
          "United States to Spain"
         ],
         "type": "scatter",
         "x": [
          -0.24568135638691585,
          0.04327923406817119,
          null,
          0.04327923406817119,
          0.02797187928525481,
          null,
          0.04327923406817119,
          0.011545068201357998,
          null
         ],
         "y": [
          0.110636104653827,
          -0.2659447088942445,
          null,
          -0.2659447088942445,
          -0.22898949337411173,
          null,
          -0.2659447088942445,
          -0.24159423084293874,
          null
         ]
        },
        {
         "hoverinfo": "text",
         "line": {
          "color": "white",
          "width": 2
         },
         "mode": "lines",
         "opacity": 0.5,
         "text": [
          "United States to Chile",
          "United States to Chile",
          "United States to Chile",
          "United States to Chile",
          "United States to Chile",
          "United States to Chile",
          "United States to Chile",
          "United States to Chile",
          "United States to Chile"
         ],
         "type": "scatter",
         "x": [
          -0.34048664827651964,
          -0.7300198052375795,
          null,
          -0.7300198052375795,
          -0.708710526279308,
          null,
          -0.7300198052375795,
          -0.6946397665899746,
          null
         ],
         "y": [
          0.21466103139047693,
          0.5754956310736649,
          null,
          0.5754956310736649,
          0.5416443076068397,
          null,
          0.5754956310736649,
          0.5568341644788057,
          null
         ]
        },
        {
         "hoverinfo": "text",
         "line": {
          "color": "white",
          "width": 2
         },
         "mode": "lines",
         "opacity": 0.5,
         "text": [
          "United States to Canada",
          "United States to Canada",
          "United States to Canada",
          "United States to Canada",
          "United States to Canada",
          "United States to Canada",
          "United States to Canada",
          "United States to Canada",
          "United States to Canada"
         ],
         "type": "scatter",
         "x": [
          -0.24909068906802423,
          0.3942994650651861,
          null,
          0.3942994650651861,
          0.3812176498987833,
          null,
          0.3942994650651861,
          0.36407009930108186,
          null
         ],
         "y": [
          0.10817769006950202,
          -0.8424797935889418,
          null,
          -0.8424797935889418,
          -0.8046794305841681,
          null,
          -0.8424797935889418,
          -0.8162846265377357,
          null
         ]
        },
        {
         "hoverinfo": "text",
         "line": {
          "color": "white",
          "width": 2
         },
         "mode": "lines",
         "opacity": 0.5,
         "text": [
          "United States to Denmark",
          "United States to Denmark",
          "United States to Denmark",
          "United States to Denmark",
          "United States to Denmark",
          "United States to Denmark",
          "United States to Denmark",
          "United States to Denmark",
          "United States to Denmark"
         ],
         "type": "scatter",
         "x": [
          -0.21852336291036092,
          0.5941768086310335,
          null,
          0.5941768086310335,
          0.5569950863401203,
          null,
          0.5941768086310335,
          0.5546021502410012,
          null
         ],
         "y": [
          0.15850456172118502,
          0.06394728160013838,
          null,
          0.06394728160013838,
          0.07869596625942488,
          null,
          0.06394728160013838,
          0.05812915604202971,
          null
         ]
        },
        {
         "hoverinfo": "text",
         "line": {
          "color": "white",
          "width": 2
         },
         "mode": "lines",
         "opacity": 0.5,
         "text": [
          "United States to Argentina",
          "United States to Argentina",
          "United States to Argentina",
          "United States to Argentina",
          "United States to Argentina",
          "United States to Argentina",
          "United States to Argentina",
          "United States to Argentina",
          "United States to Argentina"
         ],
         "type": "scatter",
         "x": [
          -0.22117904418975304,
          0.907431816997828,
          null,
          0.907431816997828,
          0.8735538773865155,
          null,
          0.907431816997828,
          0.8674591441346969,
          null
         ],
         "y": [
          0.14587800922114774,
          -0.20173218073565885,
          null,
          -0.20173218073565885,
          -0.18046514767194013,
          null,
          -0.20173218073565885,
          -0.20025335964501112,
          null
         ]
        },
        {
         "hoverinfo": "text",
         "line": {
          "color": "white",
          "width": 2
         },
         "mode": "lines",
         "opacity": 0.5,
         "text": [
          "United States to Luxembourg",
          "United States to Luxembourg",
          "United States to Luxembourg",
          "United States to Luxembourg",
          "United States to Luxembourg",
          "United States to Luxembourg",
          "United States to Luxembourg",
          "United States to Luxembourg",
          "United States to Luxembourg"
         ],
         "type": "scatter",
         "x": [
          -0.28366486477327635,
          -0.23739160848188112,
          null,
          -0.23739160848188112,
          -0.22980587806643218,
          null,
          -0.23739160848188112,
          -0.25045932563161616,
          null
         ],
         "y": [
          0.09621962929872814,
          -0.5544076266398842,
          null,
          -0.5544076266398842,
          -0.515133321848336,
          null,
          -0.5544076266398842,
          -0.5166022157667061,
          null
         ]
        },
        {
         "hoverinfo": "text",
         "line": {
          "color": "white",
          "width": 2
         },
         "mode": "lines",
         "opacity": 0.5,
         "text": [
          "United States to Austria",
          "United States to Austria",
          "United States to Austria",
          "United States to Austria",
          "United States to Austria",
          "United States to Austria",
          "United States to Austria",
          "United States to Austria",
          "United States to Austria"
         ],
         "type": "scatter",
         "x": [
          -0.32782790793872635,
          -0.5579883681347294,
          null,
          -0.5579883681347294,
          -0.5279526949651528,
          null,
          -0.5579883681347294,
          -0.5451851988413425,
          null
         ],
         "y": [
          0.10788785906475612,
          -0.2376447567526681,
          null,
          -0.2376447567526681,
          -0.21122778337020182,
          null,
          -0.2376447567526681,
          -0.19974915012756667,
          null
         ]
        },
        {
         "hoverinfo": "text",
         "line": {
          "color": "white",
          "width": 2
         },
         "mode": "lines",
         "opacity": 0.5,
         "text": [
          "Korea, Republic of to Japan",
          "Korea, Republic of to Japan",
          "Korea, Republic of to Japan",
          "Korea, Republic of to Japan",
          "Korea, Republic of to Japan",
          "Korea, Republic of to Japan",
          "Korea, Republic of to Japan",
          "Korea, Republic of to Japan",
          "Korea, Republic of to Japan"
         ],
         "type": "scatter",
         "x": [
          -0.2842271130676206,
          -0.13537931925106686,
          null,
          -0.13537931925106686,
          -0.15480344575458233,
          null,
          -0.13537931925106686,
          -0.1696847392324238,
          null
         ],
         "y": [
          0.5265913595719856,
          0.372734190030523,
          null,
          0.372734190030523,
          0.40770145599650287,
          null,
          0.372734190030523,
          0.39330466740619086,
          null
         ]
        },
        {
         "hoverinfo": "text",
         "line": {
          "color": "white",
          "width": 2
         },
         "mode": "lines",
         "opacity": 0.5,
         "text": [
          "Korea, Republic of to Poland",
          "Korea, Republic of to Poland",
          "Korea, Republic of to Poland",
          "Korea, Republic of to Poland",
          "Korea, Republic of to Poland",
          "Korea, Republic of to Poland",
          "Korea, Republic of to Poland",
          "Korea, Republic of to Poland",
          "Korea, Republic of to Poland"
         ],
         "type": "scatter",
         "x": [
          -0.31010717188754755,
          0.0741623271051951,
          null,
          0.0741623271051951,
          0.07123279974252103,
          null,
          0.0741623271051951,
          0.05167898016962837,
          null
         ],
         "y": [
          0.5106536756790208,
          -0.5928183208740281,
          null,
          -0.5928183208740281,
          -0.5529257172372094,
          null,
          -0.5928183208740281,
          -0.5597350763827766,
          null
         ]
        },
        {
         "hoverinfo": "text",
         "line": {
          "color": "white",
          "width": 2
         },
         "mode": "lines",
         "opacity": 0.5,
         "text": [
          "Korea, Republic of to Turkey",
          "Korea, Republic of to Turkey",
          "Korea, Republic of to Turkey",
          "Korea, Republic of to Turkey",
          "Korea, Republic of to Turkey",
          "Korea, Republic of to Turkey",
          "Korea, Republic of to Turkey",
          "Korea, Republic of to Turkey",
          "Korea, Republic of to Turkey"
         ],
         "type": "scatter",
         "x": [
          -0.2768166406048499,
          0.2654585583103858,
          null,
          0.2654585583103858,
          0.24074814445004405,
          null,
          0.2654585583103858,
          0.2283313680314584,
          null
         ],
         "y": [
          0.5349975779617742,
          0.12862574011435962,
          null,
          0.12862574011435962,
          0.16008042839004835,
          null,
          0.12862574011435962,
          0.14351109229905576,
          null
         ]
        },
        {
         "hoverinfo": "text",
         "line": {
          "color": "white",
          "width": 2
         },
         "mode": "lines",
         "opacity": 0.5,
         "text": [
          "Korea, Republic of to Germany",
          "Korea, Republic of to Germany",
          "Korea, Republic of to Germany",
          "Korea, Republic of to Germany",
          "Korea, Republic of to Germany",
          "Korea, Republic of to Germany",
          "Korea, Republic of to Germany",
          "Korea, Republic of to Germany",
          "Korea, Republic of to Germany"
         ],
         "type": "scatter",
         "x": [
          -0.3321247851371237,
          -0.3231838787079386,
          null,
          -0.3231838787079386,
          -0.31349360027649903,
          null,
          -0.3231838787079386,
          -0.3341965589615427,
          null
         ],
         "y": [
          0.5067356007156737,
          -0.015658371335066118,
          null,
          -0.015658371335066118,
          0.023151043754884255,
          null,
          -0.015658371335066118,
          0.022796707254565812,
          null
         ]
        },
        {
         "hoverinfo": "text",
         "line": {
          "color": "white",
          "width": 2
         },
         "mode": "lines",
         "opacity": 0.5,
         "text": [
          "Korea, Republic of to Italy",
          "Korea, Republic of to Italy",
          "Korea, Republic of to Italy",
          "Korea, Republic of to Italy",
          "Korea, Republic of to Italy",
          "Korea, Republic of to Italy",
          "Korea, Republic of to Italy",
          "Korea, Republic of to Italy",
          "Korea, Republic of to Italy"
         ],
         "type": "scatter",
         "x": [
          -0.2880346902455327,
          0.2433764465893742,
          null,
          0.2433764465893742,
          0.22653747815631653,
          null,
          0.2433764465893742,
          0.210652008251893,
          null
         ],
         "y": [
          0.5231661286838754,
          -0.11248260109503111,
          null,
          -0.11248260109503111,
          -0.07619967329317315,
          null,
          -0.11248260109503111,
          -0.08948014811147428,
          null
         ]
        },
        {
         "hoverinfo": "text",
         "line": {
          "color": "white",
          "width": 2
         },
         "mode": "lines",
         "opacity": 0.5,
         "text": [
          "Korea, Republic of to Czech Republic",
          "Korea, Republic of to Czech Republic",
          "Korea, Republic of to Czech Republic",
          "Korea, Republic of to Czech Republic",
          "Korea, Republic of to Czech Republic",
          "Korea, Republic of to Czech Republic",
          "Korea, Republic of to Czech Republic",
          "Korea, Republic of to Czech Republic",
          "Korea, Republic of to Czech Republic"
         ],
         "type": "scatter",
         "x": [
          -0.2645743614765085,
          0.48652179304083953,
          null,
          0.48652179304083953,
          0.45126962132615983,
          null,
          0.48652179304083953,
          0.4465414975674245,
          null
         ],
         "y": [
          0.5612229853527916,
          0.38505505028792497,
          null,
          0.38505505028792497,
          0.4039570887477873,
          null,
          0.38505505028792497,
          0.3837986099201364,
          null
         ]
        },
        {
         "hoverinfo": "text",
         "line": {
          "color": "white",
          "width": 2
         },
         "mode": "lines",
         "opacity": 0.5,
         "text": [
          "Korea, Republic of to United States",
          "Korea, Republic of to United States",
          "Korea, Republic of to United States",
          "Korea, Republic of to United States",
          "Korea, Republic of to United States",
          "Korea, Republic of to United States",
          "Korea, Republic of to United States",
          "Korea, Republic of to United States",
          "Korea, Republic of to United States"
         ],
         "type": "scatter",
         "x": [
          -0.3256985295727416,
          -0.29630997291062633,
          null,
          -0.29630997291062633,
          -0.29019465719836124,
          null,
          -0.29630997291062633,
          -0.31077898561610157,
          null
         ],
         "y": [
          0.5071391500923662,
          0.23687779526972488,
          null,
          0.23687779526972488,
          0.2764078581986428,
          null,
          0.23687779526972488,
          0.27416949183549777,
          null
         ]
        },
        {
         "hoverinfo": "text",
         "line": {
          "color": "white",
          "width": 2
         },
         "mode": "lines",
         "opacity": 0.5,
         "text": [
          "Korea, Republic of to Austria",
          "Korea, Republic of to Austria",
          "Korea, Republic of to Austria",
          "Korea, Republic of to Austria",
          "Korea, Republic of to Austria",
          "Korea, Republic of to Austria",
          "Korea, Republic of to Austria",
          "Korea, Republic of to Austria",
          "Korea, Republic of to Austria"
         ],
         "type": "scatter",
         "x": [
          -0.3537462364161444,
          -0.5767282833134698,
          null,
          -0.5767282833134698,
          -0.5556500699487289,
          null,
          -0.5767282833134698,
          -0.5754718567336055,
          null
         ],
         "y": [
          0.5097395671061364,
          -0.22881289250172054,
          null,
          -0.22881289250172054,
          -0.19481720918094073,
          null,
          -0.22881289250172054,
          -0.18883266044454386,
          null
         ]
        },
        {
         "hoverinfo": "text",
         "line": {
          "color": "white",
          "width": 2
         },
         "mode": "lines",
         "opacity": 0.5,
         "text": [
          "Korea, Republic of to China",
          "Korea, Republic of to China",
          "Korea, Republic of to China",
          "Korea, Republic of to China",
          "Korea, Republic of to China",
          "Korea, Republic of to China",
          "Korea, Republic of to China",
          "Korea, Republic of to China",
          "Korea, Republic of to China"
         ],
         "type": "scatter",
         "x": [
          -0.27217032616305314,
          0.10550360982584919,
          null,
          0.10550360982584919,
          0.07721930279772896,
          null,
          0.10550360982584919,
          0.06686653572804105,
          null
         ],
         "y": [
          0.5420377636153502,
          0.3239876544277865,
          null,
          0.3239876544277865,
          0.35227194579382104,
          null,
          0.3239876544277865,
          0.33434041576475315,
          null
         ]
        },
        {
         "hoverinfo": "text",
         "line": {
          "color": "white",
          "width": 2
         },
         "mode": "lines",
         "opacity": 0.5,
         "text": [
          "Korea, Republic of to Switzerland",
          "Korea, Republic of to Switzerland",
          "Korea, Republic of to Switzerland",
          "Korea, Republic of to Switzerland",
          "Korea, Republic of to Switzerland",
          "Korea, Republic of to Switzerland",
          "Korea, Republic of to Switzerland",
          "Korea, Republic of to Switzerland",
          "Korea, Republic of to Switzerland"
         ],
         "type": "scatter",
         "x": [
          -0.3186496040806834,
          -0.08436933243417104,
          null,
          -0.08436933243417104,
          -0.08227589631267399,
          null,
          -0.08436933243417104,
          -0.10252897323666486,
          null
         ],
         "y": [
          0.5082685857635427,
          -0.5939329772811819,
          null,
          -0.5939329772811819,
          -0.5539877579513615,
          null,
          -0.5939329772811819,
          -0.5582926845210676,
          null
         ]
        },
        {
         "hoverinfo": "text",
         "line": {
          "color": "white",
          "width": 2
         },
         "mode": "lines",
         "opacity": 0.5,
         "text": [
          "Korea, Republic of to Argentina",
          "Korea, Republic of to Argentina",
          "Korea, Republic of to Argentina",
          "Korea, Republic of to Argentina",
          "Korea, Republic of to Argentina",
          "Korea, Republic of to Argentina",
          "Korea, Republic of to Argentina",
          "Korea, Republic of to Argentina",
          "Korea, Republic of to Argentina"
         ],
         "type": "scatter",
         "x": [
          -0.2730780936236797,
          0.9146726227755961,
          null,
          0.9146726227755961,
          0.8871088803135116,
          null,
          0.9146726227755961,
          0.8763082654620961,
          null
         ],
         "y": [
          0.5405101729983953,
          -0.18568077222057858,
          null,
          -0.18568077222057858,
          -0.15669385998465238,
          null,
          -0.18568077222057858,
          -0.17435924107803877,
          null
         ]
        },
        {
         "hoverinfo": "text",
         "line": {
          "color": "white",
          "width": 2
         },
         "mode": "lines",
         "opacity": 0.5,
         "text": [
          "Korea, Republic of to Uruguay",
          "Korea, Republic of to Uruguay",
          "Korea, Republic of to Uruguay",
          "Korea, Republic of to Uruguay",
          "Korea, Republic of to Uruguay",
          "Korea, Republic of to Uruguay",
          "Korea, Republic of to Uruguay",
          "Korea, Republic of to Uruguay",
          "Korea, Republic of to Uruguay"
         ],
         "type": "scatter",
         "x": [
          -0.3679032992400308,
          -0.8663989234886984,
          null,
          -0.8663989234886984,
          -0.8384589301246776,
          null,
          -0.8663989234886984,
          -0.8565143757152159,
          null
         ],
         "y": [
          0.515764458275603,
          -0.37229795584754827,
          null,
          -0.37229795584754827,
          -0.34367356332489196,
          null,
          -0.37229795584754827,
          -0.3335385080730202,
          null
         ]
        },
        {
         "hoverinfo": "text",
         "line": {
          "color": "white",
          "width": 2
         },
         "mode": "lines",
         "opacity": 0.5,
         "text": [
          "Korea, Republic of to Hungary",
          "Korea, Republic of to Hungary",
          "Korea, Republic of to Hungary",
          "Korea, Republic of to Hungary",
          "Korea, Republic of to Hungary",
          "Korea, Republic of to Hungary",
          "Korea, Republic of to Hungary",
          "Korea, Republic of to Hungary",
          "Korea, Republic of to Hungary"
         ],
         "type": "scatter",
         "x": [
          -0.26309526342747014,
          0.375848863309596,
          null,
          0.375848863309596,
          0.33850557521633984,
          null,
          0.375848863309596,
          0.3363412601207841,
          null
         ],
         "y": [
          0.5699679435482999,
          0.5028122781523684,
          null,
          0.5028122781523684,
          0.5171470122307907,
          null,
          0.5028122781523684,
          0.49655487797414855,
          null
         ]
        },
        {
         "hoverinfo": "text",
         "line": {
          "color": "white",
          "width": 2
         },
         "mode": "lines",
         "opacity": 0.5,
         "text": [
          "Korea, Republic of to Romania",
          "Korea, Republic of to Romania",
          "Korea, Republic of to Romania",
          "Korea, Republic of to Romania",
          "Korea, Republic of to Romania",
          "Korea, Republic of to Romania",
          "Korea, Republic of to Romania",
          "Korea, Republic of to Romania",
          "Korea, Republic of to Romania"
         ],
         "type": "scatter",
         "x": [
          -0.3895883005040218,
          -0.41018738933629495,
          null,
          -0.41018738933629495,
          -0.3731526414075662,
          null,
          -0.41018738933629495,
          -0.3856710896142858,
          null
         ],
         "y": [
          0.5346504489404394,
          0.5190148910063074,
          null,
          0.5190148910063074,
          0.5341283566203536,
          null,
          0.5190148910063074,
          0.5506209101316584,
          null
         ]
        },
        {
         "hoverinfo": "text",
         "line": {
          "color": "white",
          "width": 2
         },
         "mode": "lines",
         "opacity": 0.5,
         "text": [
          "Korea, Republic of to Serbia",
          "Korea, Republic of to Serbia",
          "Korea, Republic of to Serbia",
          "Korea, Republic of to Serbia",
          "Korea, Republic of to Serbia",
          "Korea, Republic of to Serbia",
          "Korea, Republic of to Serbia",
          "Korea, Republic of to Serbia",
          "Korea, Republic of to Serbia"
         ],
         "type": "scatter",
         "x": [
          -0.3837930072462316,
          -0.5197832475984339,
          null,
          -0.5197832475984339,
          -0.48493471239819486,
          null,
          -0.5197832475984339,
          -0.499421591880004,
          null
         ],
         "y": [
          0.5279365366057761,
          0.39476506060796906,
          null,
          0.39476506060796906,
          0.4144011827072759,
          null,
          0.39476506060796906,
          0.4291947087779013,
          null
         ]
        },
        {
         "hoverinfo": "text",
         "line": {
          "color": "white",
          "width": 2
         },
         "mode": "lines",
         "opacity": 0.5,
         "text": [
          "Korea, Republic of to Canada",
          "Korea, Republic of to Canada",
          "Korea, Republic of to Canada",
          "Korea, Republic of to Canada",
          "Korea, Republic of to Canada",
          "Korea, Republic of to Canada",
          "Korea, Republic of to Canada",
          "Korea, Republic of to Canada",
          "Korea, Republic of to Canada"
         ],
         "type": "scatter",
         "x": [
          -0.3008007015803073,
          0.4013512339213107,
          null,
          0.4013512339213107,
          0.3927424619341705,
          null,
          0.4013512339213107,
          0.37436449645077247,
          null
         ],
         "y": [
          0.5146644078657753,
          -0.8382829390928871,
          null,
          -0.8382829390928871,
          -0.7992202946243131,
          null,
          -0.8382829390928871,
          -0.8087580826376725,
          null
         ]
        },
        {
         "hoverinfo": "text",
         "line": {
          "color": "white",
          "width": 2
         },
         "mode": "lines",
         "opacity": 0.5,
         "text": [
          "Korea, Republic of to Croatia",
          "Korea, Republic of to Croatia",
          "Korea, Republic of to Croatia",
          "Korea, Republic of to Croatia",
          "Korea, Republic of to Croatia",
          "Korea, Republic of to Croatia",
          "Korea, Republic of to Croatia",
          "Korea, Republic of to Croatia",
          "Korea, Republic of to Croatia"
         ],
         "type": "scatter",
         "x": [
          -0.26531001817649075,
          -0.08198498669797712,
          null,
          -0.08198498669797712,
          -0.12198275872291556,
          null,
          -0.08198498669797712,
          -0.11641462628435137,
          null
         ],
         "y": [
          0.5963427261251649,
          0.6475280090432921,
          null,
          0.6475280090432921,
          0.6471091148792901,
          null,
          0.6475280090432921,
          0.6271663500433001,
          null
         ]
        },
        {
         "hoverinfo": "text",
         "line": {
          "color": "white",
          "width": 2
         },
         "mode": "lines",
         "opacity": 0.5,
         "text": [
          "Korea, Republic of to Slovakia",
          "Korea, Republic of to Slovakia",
          "Korea, Republic of to Slovakia",
          "Korea, Republic of to Slovakia",
          "Korea, Republic of to Slovakia",
          "Korea, Republic of to Slovakia",
          "Korea, Republic of to Slovakia",
          "Korea, Republic of to Slovakia",
          "Korea, Republic of to Slovakia"
         ],
         "type": "scatter",
         "x": [
          -0.2942500955547357,
          0.3639827615703607,
          null,
          0.3639827615703607,
          0.3512243826893874,
          null,
          0.3639827615703607,
          0.3339783057016455,
          null
         ],
         "y": [
          0.5185251957700113,
          -0.47219492261861357,
          null,
          -0.47219492261861357,
          -0.4342841713252427,
          null,
          -0.47219492261861357,
          -0.4457424383624873,
          null
         ]
        },
        {
         "hoverinfo": "text",
         "line": {
          "color": "white",
          "width": 2
         },
         "mode": "lines",
         "opacity": 0.5,
         "text": [
          "Korea, Republic of to Denmark",
          "Korea, Republic of to Denmark",
          "Korea, Republic of to Denmark",
          "Korea, Republic of to Denmark",
          "Korea, Republic of to Denmark",
          "Korea, Republic of to Denmark",
          "Korea, Republic of to Denmark",
          "Korea, Republic of to Denmark",
          "Korea, Republic of to Denmark"
         ],
         "type": "scatter",
         "x": [
          -0.2707452463107358,
          0.60174044837525,
          null,
          0.60174044837525,
          0.5722965500961525,
          null,
          0.60174044837525,
          0.5627037598786664,
          null
         ],
         "y": [
          0.544629974387799,
          0.08850544122585229,
          null,
          0.08850544122585229,
          0.11558049042673271,
          null,
          0.08850544122585229,
          0.09723117250297955,
          null
         ]
        },
        {
         "hoverinfo": "text",
         "line": {
          "color": "white",
          "width": 2
         },
         "mode": "lines",
         "opacity": 0.5,
         "text": [
          "Korea, Republic of to Taiwan",
          "Korea, Republic of to Taiwan",
          "Korea, Republic of to Taiwan",
          "Korea, Republic of to Taiwan",
          "Korea, Republic of to Taiwan",
          "Korea, Republic of to Taiwan",
          "Korea, Republic of to Taiwan",
          "Korea, Republic of to Taiwan",
          "Korea, Republic of to Taiwan"
         ],
         "type": "scatter",
         "x": [
          -0.28527420870846243,
          0.7337725769717071,
          null,
          0.7337725769717071,
          0.7150668197557632,
          null,
          0.7337725769717071,
          0.699894570750796,
          null
         ],
         "y": [
          0.5255988593689004,
          -0.571738099633793,
          null,
          -0.571738099633793,
          -0.5363814090840335,
          null,
          -0.571738099633793,
          -0.550471186031928,
          null
         ]
        },
        {
         "hoverinfo": "text",
         "line": {
          "color": "white",
          "width": 2
         },
         "mode": "lines",
         "opacity": 0.5,
         "text": [
          "Korea, Republic of to Netherlands",
          "Korea, Republic of to Netherlands",
          "Korea, Republic of to Netherlands",
          "Korea, Republic of to Netherlands",
          "Korea, Republic of to Netherlands",
          "Korea, Republic of to Netherlands",
          "Korea, Republic of to Netherlands",
          "Korea, Republic of to Netherlands",
          "Korea, Republic of to Netherlands"
         ],
         "type": "scatter",
         "x": [
          -0.3451114116076077,
          -0.4928853096600925,
          null,
          -0.4928853096600925,
          -0.47623410010845063,
          null,
          -0.4928853096600925,
          -0.4966496391807468,
          null
         ],
         "y": [
          0.5077142879989008,
          -0.3659777805831294,
          null,
          -0.3659777805831294,
          -0.329608380590901,
          null,
          -0.3659777805831294,
          -0.3261553514936411,
          null
         ]
        },
        {
         "hoverinfo": "text",
         "line": {
          "color": "white",
          "width": 2
         },
         "mode": "lines",
         "opacity": 0.5,
         "text": [
          "Korea, Republic of to France",
          "Korea, Republic of to France",
          "Korea, Republic of to France",
          "Korea, Republic of to France",
          "Korea, Republic of to France",
          "Korea, Republic of to France",
          "Korea, Republic of to France",
          "Korea, Republic of to France",
          "Korea, Republic of to France"
         ],
         "type": "scatter",
         "x": [
          -0.319986497842224,
          -0.18001351705893717,
          null,
          -0.18001351705893717,
          -0.17714901897924515,
          null,
          -0.18001351705893717,
          -0.1974814710085655,
          null
         ],
         "y": [
          0.5079978865054172,
          -0.21932278689413484,
          null,
          -0.21932278689413484,
          -0.17942542278266813,
          null,
          -0.21932278689413484,
          -0.1833384069897211,
          null
         ]
        },
        {
         "hoverinfo": "text",
         "line": {
          "color": "white",
          "width": 2
         },
         "mode": "lines",
         "opacity": 0.5,
         "text": [
          "Korea, Republic of to Spain",
          "Korea, Republic of to Spain",
          "Korea, Republic of to Spain",
          "Korea, Republic of to Spain",
          "Korea, Republic of to Spain",
          "Korea, Republic of to Spain",
          "Korea, Republic of to Spain",
          "Korea, Republic of to Spain",
          "Korea, Republic of to Spain"
         ],
         "type": "scatter",
         "x": [
          -0.30347169662488666,
          0.056411330649983535,
          null,
          0.056411330649983535,
          0.049456619480440056,
          null,
          0.056411330649983535,
          0.030692980059818586,
          null
         ],
         "y": [
          0.5133489236465938,
          -0.25797395559468345,
          null,
          -0.25797395559468345,
          -0.21858316751196963,
          null,
          -0.25797395559468345,
          -0.2273378880247357,
          null
         ]
        },
        {
         "hoverinfo": "text",
         "line": {
          "color": "white",
          "width": 2
         },
         "mode": "lines",
         "opacity": 0.5,
         "text": [
          "Korea, Republic of to Belgium",
          "Korea, Republic of to Belgium",
          "Korea, Republic of to Belgium",
          "Korea, Republic of to Belgium",
          "Korea, Republic of to Belgium",
          "Korea, Republic of to Belgium",
          "Korea, Republic of to Belgium",
          "Korea, Republic of to Belgium",
          "Korea, Republic of to Belgium"
         ],
         "type": "scatter",
         "x": [
          -0.3699190297521732,
          -0.6294962486825803,
          null,
          -0.6294962486825803,
          -0.6006258525965226,
          null,
          -0.6294962486825803,
          -0.6183366070080218,
          null
         ],
         "y": [
          0.5169401574358293,
          0.08832721082121639,
          null,
          0.08832721082121639,
          0.11601292032778907,
          null,
          0.08832721082121639,
          0.1267389366187335,
          null
         ]
        },
        {
         "hoverinfo": "text",
         "line": {
          "color": "white",
          "width": 2
         },
         "mode": "lines",
         "opacity": 0.5,
         "text": [
          "Korea, Republic of to Ireland",
          "Korea, Republic of to Ireland",
          "Korea, Republic of to Ireland",
          "Korea, Republic of to Ireland",
          "Korea, Republic of to Ireland",
          "Korea, Republic of to Ireland",
          "Korea, Republic of to Ireland",
          "Korea, Republic of to Ireland",
          "Korea, Republic of to Ireland"
         ],
         "type": "scatter",
         "x": [
          -0.3362908244425026,
          -0.3775180399125847,
          null,
          -0.3775180399125847,
          -0.3655564738898586,
          null,
          -0.3775180399125847,
          -0.38624373718280464,
          null
         ],
         "y": [
          0.5067872082527205,
          -0.47686990850525346,
          null,
          -0.47686990850525346,
          -0.43870047387536243,
          null,
          -0.47686990850525346,
          -0.4378334254563153,
          null
         ]
        },
        {
         "hoverinfo": "text",
         "line": {
          "color": "white",
          "width": 2
         },
         "mode": "lines",
         "opacity": 0.5,
         "text": [
          "Romania to Italy",
          "Romania to Italy",
          "Romania to Italy",
          "Romania to Italy",
          "Romania to Italy",
          "Romania to Italy",
          "Romania to Italy",
          "Romania to Italy",
          "Romania to Italy"
         ],
         "type": "scatter",
         "x": [
          -0.4126701507770921,
          0.2349029634201433,
          null,
          0.2349029634201433,
          0.21219745457721714,
          null,
          0.2349029634201433,
          0.19877383490960998,
          null
         ],
         "y": [
          0.43052813112970256,
          -0.1208797812485304,
          null,
          -0.1208797812485304,
          -0.0879486191551163,
          null,
          -0.1208797812485304,
          -0.10371331272095374,
          null
         ]
        },
        {
         "hoverinfo": "text",
         "line": {
          "color": "white",
          "width": 2
         },
         "mode": "lines",
         "opacity": 0.5,
         "text": [
          "Romania to Hungary",
          "Romania to Hungary",
          "Romania to Hungary",
          "Romania to Hungary",
          "Romania to Hungary",
          "Romania to Hungary",
          "Romania to Hungary",
          "Romania to Hungary",
          "Romania to Hungary"
         ],
         "type": "scatter",
         "x": [
          -0.3958328061913649,
          0.37547746237270035,
          null,
          0.37547746237270035,
          0.3366323190604614,
          null,
          0.37547746237270035,
          0.33706594561738057,
          null
         ],
         "y": [
          0.4777941486526288,
          0.4939508953403674,
          null,
          0.4939508953403674,
          0.5034921670069148,
          null,
          0.4939508953403674,
          0.48279130733188663,
          null
         ]
        },
        {
         "hoverinfo": "text",
         "line": {
          "color": "white",
          "width": 2
         },
         "mode": "lines",
         "opacity": 0.5,
         "text": [
          "Romania to Republic of Moldova",
          "Romania to Republic of Moldova",
          "Romania to Republic of Moldova",
          "Romania to Republic of Moldova",
          "Romania to Republic of Moldova",
          "Romania to Republic of Moldova",
          "Romania to Republic of Moldova",
          "Romania to Republic of Moldova",
          "Romania to Republic of Moldova"
         ],
         "type": "scatter",
         "x": [
          -0.4647732377793047,
          -0.4355529844020155,
          null,
          -0.4355529844020155,
          -0.4261161569298098,
          null,
          -0.4355529844020155,
          -0.44681604088600485,
          null
         ],
         "y": [
          0.4057098065267637,
          -0.8303635154615476,
          null,
          -0.8303635154615476,
          -0.7914923378494468,
          null,
          -0.8303635154615476,
          -0.7919816744383485,
          null
         ]
        },
        {
         "hoverinfo": "text",
         "line": {
          "color": "white",
          "width": 2
         },
         "mode": "lines",
         "opacity": 0.5,
         "text": [
          "Romania to Bulgaria",
          "Romania to Bulgaria",
          "Romania to Bulgaria",
          "Romania to Bulgaria",
          "Romania to Bulgaria",
          "Romania to Bulgaria",
          "Romania to Bulgaria",
          "Romania to Bulgaria",
          "Romania to Bulgaria"
         ],
         "type": "scatter",
         "x": [
          -0.3984189610336572,
          0.08421060250742733,
          null,
          0.08421060250742733,
          0.04421280893273324,
          null,
          0.08421060250742733,
          0.04978093720615064,
          null
         ],
         "y": [
          0.495307545395972,
          0.6300601556576474,
          null,
          0.6300601556576474,
          0.6296412755981786,
          null,
          0.6300601556576474,
          0.6096984980976616,
          null
         ]
        },
        {
         "hoverinfo": "text",
         "line": {
          "color": "white",
          "width": 2
         },
         "mode": "lines",
         "opacity": 0.5,
         "text": [
          "Germany to France",
          "Germany to France",
          "Germany to France",
          "Germany to France",
          "Germany to France",
          "Germany to France",
          "Germany to France",
          "Germany to France",
          "Germany to France"
         ],
         "type": "scatter",
         "x": [
          -0.27898150921539283,
          -0.20966042339130422,
          null,
          -0.20966042339130422,
          -0.22496784526731206,
          null,
          -0.20966042339130422,
          -0.24139469915455392,
          null
         ],
         "y": [
          -0.14230360477988815,
          -0.23264458388264084,
          null,
          -0.23264458388264084,
          -0.19568926477827836,
          null,
          -0.23264458388264084,
          -0.20829404967130646,
          null
         ]
        },
        {
         "hoverinfo": "text",
         "line": {
          "color": "white",
          "width": 2
         },
         "mode": "lines",
         "opacity": 0.5,
         "text": [
          "Germany to Romania",
          "Germany to Romania",
          "Germany to Romania",
          "Germany to Romania",
          "Germany to Romania",
          "Germany to Romania",
          "Germany to Romania",
          "Germany to Romania",
          "Germany to Romania"
         ],
         "type": "scatter",
         "x": [
          -0.3395411757312093,
          -0.4488764318146434,
          null,
          -0.4488764318146434,
          -0.44929404062130035,
          null,
          -0.4488764318146434,
          -0.42923922294593564,
          null
         ],
         "y": [
          -0.017867398752076977,
          0.4079094504250125,
          null,
          0.4079094504250125,
          0.36791171301677894,
          null,
          0.4079094504250125,
          0.3730615893322546,
          null
         ]
        },
        {
         "hoverinfo": "text",
         "line": {
          "color": "white",
          "width": 2
         },
         "mode": "lines",
         "opacity": 0.5,
         "text": [
          "Germany to Netherlands",
          "Germany to Netherlands",
          "Germany to Netherlands",
          "Germany to Netherlands",
          "Germany to Netherlands",
          "Germany to Netherlands",
          "Germany to Netherlands",
          "Germany to Netherlands",
          "Germany to Netherlands"
         ],
         "type": "scatter",
         "x": [
          -0.35470361254077537,
          -0.4719350264324607,
          null,
          -0.4719350264324607,
          -0.44485623447464495,
          null,
          -0.4719350264324607,
          -0.46320428636917715,
          null
         ],
         "y": [
          -0.14885695373563518,
          -0.3730298271224047,
          null,
          -0.3730298271224047,
          -0.34358946377044747,
          null,
          -0.3730298271224047,
          -0.3339943285840575,
          null
         ]
        },
        {
         "hoverinfo": "text",
         "line": {
          "color": "white",
          "width": 2
         },
         "mode": "lines",
         "opacity": 0.5,
         "text": [
          "Germany to United Kingdom",
          "Germany to United Kingdom",
          "Germany to United Kingdom",
          "Germany to United Kingdom",
          "Germany to United Kingdom",
          "Germany to United Kingdom",
          "Germany to United Kingdom",
          "Germany to United Kingdom",
          "Germany to United Kingdom"
         ],
         "type": "scatter",
         "x": [
          -0.26975017452752,
          0.20611852074181441,
          null,
          0.20611852074181441,
          0.18451691301166576,
          null,
          0.20611852074181441,
          0.17057817965753852,
          null
         ],
         "y": [
          -0.1338169865590043,
          -0.5670315481442504,
          null,
          -0.5670315481442504,
          -0.5333659480894887,
          null,
          -0.5670315481442504,
          -0.5486770871282542,
          null
         ]
        },
        {
         "hoverinfo": "text",
         "line": {
          "color": "white",
          "width": 2
         },
         "mode": "lines",
         "opacity": 0.5,
         "text": [
          "Germany to Slovakia",
          "Germany to Slovakia",
          "Germany to Slovakia",
          "Germany to Slovakia",
          "Germany to Slovakia",
          "Germany to Slovakia",
          "Germany to Slovakia",
          "Germany to Slovakia",
          "Germany to Slovakia"
         ],
         "type": "scatter",
         "x": [
          -0.2617739001710268,
          0.3428646484811159,
          null,
          0.3428646484811159,
          0.3153432764248009,
          null,
          0.3428646484811159,
          0.3045168612733428,
          null
         ],
         "y": [
          -0.12320111082530119,
          -0.4940919042971124,
          null,
          -0.4940919042971124,
          -0.46506474457711017,
          null,
          -0.4940919042971124,
          -0.4827143326080396,
          null
         ]
        },
        {
         "hoverinfo": "text",
         "line": {
          "color": "white",
          "width": 2
         },
         "mode": "lines",
         "opacity": 0.5,
         "text": [
          "Germany to Czech Republic",
          "Germany to Czech Republic",
          "Germany to Czech Republic",
          "Germany to Czech Republic",
          "Germany to Czech Republic",
          "Germany to Czech Republic",
          "Germany to Czech Republic",
          "Germany to Czech Republic",
          "Germany to Czech Republic"
         ],
         "type": "scatter",
         "x": [
          -0.259287186711018,
          0.4925927005698132,
          null,
          0.4925927005698132,
          0.4535294742181084,
          null,
          0.4925927005698132,
          0.46306598736944293,
          null
         ],
         "y": [
          -0.0537446997350124,
          0.3363994471019176,
          null,
          0.3363994471019176,
          0.3277933807539419,
          null,
          0.3363994471019176,
          0.30941476184206385,
          null
         ]
        },
        {
         "hoverinfo": "text",
         "line": {
          "color": "white",
          "width": 2
         },
         "mode": "lines",
         "opacity": 0.5,
         "text": [
          "Germany to Poland",
          "Germany to Poland",
          "Germany to Poland",
          "Germany to Poland",
          "Germany to Poland",
          "Germany to Poland",
          "Germany to Poland",
          "Germany to Poland",
          "Germany to Poland"
         ],
         "type": "scatter",
         "x": [
          -0.2802757977815107,
          0.05568903529362233,
          null,
          0.05568903529362233,
          0.04123191001283101,
          null,
          0.05568903529362233,
          0.024520780680543593,
          null
         ],
         "y": [
          -0.143273405840631,
          -0.6025145276281877,
          null,
          -0.6025145276281877,
          -0.5652184939197492,
          null,
          -0.6025145276281877,
          -0.5774437776166749,
          null
         ]
        },
        {
         "hoverinfo": "text",
         "line": {
          "color": "white",
          "width": 2
         },
         "mode": "lines",
         "opacity": 0.5,
         "text": [
          "Germany to Denmark",
          "Germany to Denmark",
          "Germany to Denmark",
          "Germany to Denmark",
          "Germany to Denmark",
          "Germany to Denmark",
          "Germany to Denmark",
          "Germany to Denmark",
          "Germany to Denmark"
         ],
         "type": "scatter",
         "x": [
          -0.2520716405389738,
          0.5944249248979521,
          null,
          0.5944249248979521,
          0.55470665836532,
          null,
          0.5944249248979521,
          0.5576584332723065,
          null
         ],
         "y": [
          -0.07620474713840715,
          0.045716874478247085,
          null,
          0.045716874478247085,
          0.0504558021064568,
          null,
          0.045716874478247085,
          0.02996177292465657,
          null
         ]
        },
        {
         "hoverinfo": "text",
         "line": {
          "color": "white",
          "width": 2
         },
         "mode": "lines",
         "opacity": 0.5,
         "text": [
          "Germany to Slovenia",
          "Germany to Slovenia",
          "Germany to Slovenia",
          "Germany to Slovenia",
          "Germany to Slovenia",
          "Germany to Slovenia",
          "Germany to Slovenia",
          "Germany to Slovenia",
          "Germany to Slovenia"
         ],
         "type": "scatter",
         "x": [
          -0.25613754015900525,
          0.4566246173951808,
          null,
          0.4566246173951808,
          0.42435322653514296,
          null,
          0.4566246173951808,
          0.41685984258893144,
          null
         ],
         "y": [
          -0.11183239600343786,
          -0.38853913464860834,
          null,
          -0.38853913464860834,
          -0.364905273636609,
          null,
          -0.38853913464860834,
          -0.38420730605272524,
          null
         ]
        },
        {
         "hoverinfo": "text",
         "line": {
          "color": "white",
          "width": 2
         },
         "mode": "lines",
         "opacity": 0.5,
         "text": [
          "Germany to Austria",
          "Germany to Austria",
          "Germany to Austria",
          "Germany to Austria",
          "Germany to Austria",
          "Germany to Austria",
          "Germany to Austria",
          "Germany to Austria",
          "Germany to Austria"
         ],
         "type": "scatter",
         "x": [
          -0.3781034158993775,
          -0.5410130215357727,
          null,
          -0.5410130215357727,
          -0.5040231642053373,
          null,
          -0.5410130215357727,
          -0.5165905192678524,
          null
         ],
         "y": [
          -0.12913938216124035,
          -0.25355723150815507,
          null,
          -0.25355723150815507,
          -0.2383339237829574,
          null,
          -0.25355723150815507,
          -0.22187853162328827,
          null
         ]
        },
        {
         "hoverinfo": "text",
         "line": {
          "color": "white",
          "width": 2
         },
         "mode": "lines",
         "opacity": 0.5,
         "text": [
          "Germany to Ireland",
          "Germany to Ireland",
          "Germany to Ireland",
          "Germany to Ireland",
          "Germany to Ireland",
          "Germany to Ireland",
          "Germany to Ireland",
          "Germany to Ireland",
          "Germany to Ireland"
         ],
         "type": "scatter",
         "x": [
          -0.3308631613722855,
          -0.37158762068833767,
          null,
          -0.37158762068833767,
          -0.3564549192915527,
          null,
          -0.37158762068833767,
          -0.3769957351598247,
          null
         ],
         "y": [
          -0.15633654620997328,
          -0.477369442316371,
          null,
          -0.477369442316371,
          -0.44034260569839684,
          null,
          -0.477369442316371,
          -0.437736910485037,
          null
         ]
        },
        {
         "hoverinfo": "text",
         "line": {
          "color": "white",
          "width": 2
         },
         "mode": "lines",
         "opacity": 0.5,
         "text": [
          "Germany to Spain",
          "Germany to Spain",
          "Germany to Spain",
          "Germany to Spain",
          "Germany to Spain",
          "Germany to Spain",
          "Germany to Spain",
          "Germany to Spain",
          "Germany to Spain"
         ],
         "type": "scatter",
         "x": [
          -0.26081224641616196,
          0.025109962735722975,
          null,
          0.025109962735722975,
          -0.0031743530232545975,
          null,
          0.025109962735722975,
          -0.013527123526768492,
          null
         ],
         "y": [
          -0.12158552907098741,
          -0.28666279115091353,
          null,
          -0.28666279115091353,
          -0.2583784905778008,
          null,
          -0.28666279115091353,
          -0.27631002620581196,
          null
         ]
        },
        {
         "hoverinfo": "text",
         "line": {
          "color": "white",
          "width": 2
         },
         "mode": "lines",
         "opacity": 0.5,
         "text": [
          "Germany to Hungary",
          "Germany to Hungary",
          "Germany to Hungary",
          "Germany to Hungary",
          "Germany to Hungary",
          "Germany to Hungary",
          "Germany to Hungary",
          "Germany to Hungary",
          "Germany to Hungary"
         ],
         "type": "scatter",
         "x": [
          -0.26567492990811636,
          0.38978661208470633,
          null,
          0.38978661208470633,
          0.35273571412236243,
          null,
          0.38978661208470633,
          0.3652366896728869,
          null
         ],
         "y": [
          -0.04363314212000346,
          0.45279007554686046,
          null,
          0.45279007554686046,
          0.4377158826336694,
          null,
          0.45279007554686046,
          0.4212099925613177,
          null
         ]
        },
        {
         "hoverinfo": "text",
         "line": {
          "color": "white",
          "width": 2
         },
         "mode": "lines",
         "opacity": 0.5,
         "text": [
          "Germany to Belgium",
          "Germany to Belgium",
          "Germany to Belgium",
          "Germany to Belgium",
          "Germany to Belgium",
          "Germany to Belgium",
          "Germany to Belgium",
          "Germany to Belgium",
          "Germany to Belgium"
         ],
         "type": "scatter",
         "x": [
          -0.38900591309201843,
          -0.5990512830482708,
          null,
          -0.5990512830482708,
          -0.5656413943647441,
          null,
          -0.5990512830482708,
          -0.5591200653317365,
          null
         ],
         "y": [
          -0.06402923712529737,
          0.005673317108531778,
          null,
          0.005673317108531778,
          -0.016321493649448182,
          null,
          0.005673317108531778,
          0.003330196582453198,
          null
         ]
        },
        {
         "hoverinfo": "text",
         "line": {
          "color": "white",
          "width": 2
         },
         "mode": "lines",
         "opacity": 0.5,
         "text": [
          "Germany to Switzerland",
          "Germany to Switzerland",
          "Germany to Switzerland",
          "Germany to Switzerland",
          "Germany to Switzerland",
          "Germany to Switzerland",
          "Germany to Switzerland",
          "Germany to Switzerland",
          "Germany to Switzerland"
         ],
         "type": "scatter",
         "x": [
          -0.2936707312360657,
          -0.0979901229843246,
          null,
          -0.0979901229843246,
          -0.10398982657676195,
          null,
          -0.0979901229843246,
          -0.12295978632573903,
          null
         ],
         "y": [
          -0.1509780720189547,
          -0.5983096077724959,
          null,
          -0.5983096077724959,
          -0.5587620725421221,
          null,
          -0.5983096077724959,
          -0.5670602894021507,
          null
         ]
        },
        {
         "hoverinfo": "text",
         "line": {
          "color": "white",
          "width": 2
         },
         "mode": "lines",
         "opacity": 0.5,
         "text": [
          "Germany to Luxembourg",
          "Germany to Luxembourg",
          "Germany to Luxembourg",
          "Germany to Luxembourg",
          "Germany to Luxembourg",
          "Germany to Luxembourg",
          "Germany to Luxembourg",
          "Germany to Luxembourg",
          "Germany to Luxembourg"
         ],
         "type": "scatter",
         "x": [
          -0.31038596615058645,
          -0.24397066846626536,
          null,
          -0.24397066846626536,
          -0.24009844189078663,
          null,
          -0.24397066846626536,
          -0.26052335347093425,
          null
         ],
         "y": [
          -0.15594065592937384,
          -0.5551870573932656,
          null,
          -0.5551870573932656,
          -0.5153747942167802,
          null,
          -0.5551870573932656,
          -0.5187725128125381,
          null
         ]
        },
        {
         "hoverinfo": "text",
         "line": {
          "color": "white",
          "width": 2
         },
         "mode": "lines",
         "opacity": 0.5,
         "text": [
          "Germany to New Zealand",
          "Germany to New Zealand",
          "Germany to New Zealand",
          "Germany to New Zealand",
          "Germany to New Zealand",
          "Germany to New Zealand",
          "Germany to New Zealand",
          "Germany to New Zealand",
          "Germany to New Zealand"
         ],
         "type": "scatter",
         "x": [
          -0.3749386113212034,
          -0.5852497178986147,
          null,
          -0.5852497178986147,
          -0.5631235659262188,
          null,
          -0.5852497178986147,
          -0.5494263609235771,
          null
         ],
         "y": [
          -0.039552827159456426,
          0.14596759227900905,
          null,
          0.14596759227900905,
          0.11264449772111396,
          null,
          0.14596759227900905,
          0.12817202184535886,
          null
         ]
        },
        {
         "hoverinfo": "text",
         "line": {
          "color": "white",
          "width": 2
         },
         "mode": "lines",
         "opacity": 0.5,
         "text": [
          "Germany to Italy",
          "Germany to Italy",
          "Germany to Italy",
          "Germany to Italy",
          "Germany to Italy",
          "Germany to Italy",
          "Germany to Italy",
          "Germany to Italy",
          "Germany to Italy"
         ],
         "type": "scatter",
         "x": [
          -0.25195449816522353,
          0.21865433680352916,
          null,
          0.21865433680352916,
          0.18169907815676556,
          null,
          0.21865433680352916,
          0.17899646216611675,
          null
         ],
         "y": [
          -0.09549144727488393,
          -0.1574483134100831,
          null,
          -0.1574483134100831,
          -0.1421409497183019,
          null,
          -0.1574483134100831,
          -0.16266937691141484,
          null
         ]
        },
        {
         "hoverinfo": "text",
         "line": {
          "color": "white",
          "width": 2
         },
         "mode": "lines",
         "opacity": 0.5,
         "text": [
          "Germany to Turkey",
          "Germany to Turkey",
          "Germany to Turkey",
          "Germany to Turkey",
          "Germany to Turkey",
          "Germany to Turkey",
          "Germany to Turkey",
          "Germany to Turkey",
          "Germany to Turkey"
         ],
         "type": "scatter",
         "x": [
          -0.2537567806285387,
          0.2537567806285387,
          null,
          0.2537567806285387,
          0.2137567942797839,
          null,
          0.2537567806285387,
          0.21911578143686422,
          null
         ],
         "y": [
          -0.06799392940430354,
          0.06799395920662593,
          null,
          0.06799395920662593,
          0.06799394893187005,
          null,
          0.06799395920662593,
          0.047993957134048915,
          null
         ]
        },
        {
         "hoverinfo": "text",
         "line": {
          "color": "white",
          "width": 2
         },
         "mode": "lines",
         "opacity": 0.5,
         "text": [
          "Germany to Bulgaria",
          "Germany to Bulgaria",
          "Germany to Bulgaria",
          "Germany to Bulgaria",
          "Germany to Bulgaria",
          "Germany to Bulgaria",
          "Germany to Bulgaria",
          "Germany to Bulgaria",
          "Germany to Bulgaria"
         ],
         "type": "scatter",
         "x": [
          -0.28369866064716415,
          0.1139573281161888,
          null,
          0.1139573281161888,
          0.08431676910994369,
          null,
          0.1139573281161888,
          0.10171765326927613,
          null
         ],
         "y": [
          -0.02691993170912945,
          0.5896995221966096,
          null,
          0.5896995221966096,
          0.5628399177268751,
          null,
          0.5896995221966096,
          0.5516181428870949,
          null
         ]
        },
        {
         "hoverinfo": "text",
         "line": {
          "color": "white",
          "width": 2
         },
         "mode": "lines",
         "opacity": 0.5,
         "text": [
          "Germany to Republic of Moldova",
          "Germany to Republic of Moldova",
          "Germany to Republic of Moldova",
          "Germany to Republic of Moldova",
          "Germany to Republic of Moldova",
          "Germany to Republic of Moldova",
          "Germany to Republic of Moldova",
          "Germany to Republic of Moldova",
          "Germany to Republic of Moldova"
         ],
         "type": "scatter",
         "x": [
          -0.33158626622080845,
          -0.42427292996525723,
          null,
          -0.42427292996525723,
          -0.4087586025794267,
          null,
          -0.42427292996525723,
          -0.4292714659538733,
          null
         ],
         "y": [
          -0.15624102052813726,
          -0.8310007989727859,
          null,
          -0.8310007989727859,
          -0.7941321237180381,
          null,
          -0.8310007989727859,
          -0.7913144259053804,
          null
         ]
        },
        {
         "hoverinfo": "text",
         "line": {
          "color": "white",
          "width": 2
         },
         "mode": "lines",
         "opacity": 0.5,
         "text": [
          "Germany to Croatia",
          "Germany to Croatia",
          "Germany to Croatia",
          "Germany to Croatia",
          "Germany to Croatia",
          "Germany to Croatia",
          "Germany to Croatia",
          "Germany to Croatia",
          "Germany to Croatia"
         ],
         "type": "scatter",
         "x": [
          -0.2952304277052274,
          -0.04070649487477632,
          null,
          -0.04070649487477632,
          -0.06491963378996134,
          null,
          -0.04070649487477632,
          -0.04575615700651998,
          null
         ],
         "y": [
          -0.0209078787593808,
          0.6011553256540265,
          null,
          0.6011553256540265,
          0.5693162631056903,
          null,
          0.6011553256540265,
          0.5614753191968931,
          null
         ]
        },
        {
         "hoverinfo": "text",
         "line": {
          "color": "white",
          "width": 2
         },
         "mode": "lines",
         "opacity": 0.5,
         "text": [
          "Germany to Algeria",
          "Germany to Algeria",
          "Germany to Algeria",
          "Germany to Algeria",
          "Germany to Algeria",
          "Germany to Algeria",
          "Germany to Algeria",
          "Germany to Algeria",
          "Germany to Algeria"
         ],
         "type": "scatter",
         "x": [
          -0.2738313482993411,
          0.26072020399506557,
          null,
          0.26072020399506557,
          0.22680738350199234,
          null,
          0.26072020399506557,
          0.2419565134831405,
          null
         ],
         "y": [
          -0.03460048908064302,
          0.539129771531319,
          null,
          0.539129771531319,
          0.5179184244332034,
          null,
          0.539129771531319,
          0.5038037958493249,
          null
         ]
        },
        {
         "hoverinfo": "text",
         "line": {
          "color": "white",
          "width": 2
         },
         "mode": "lines",
         "opacity": 0.5,
         "text": [
          "Germany to Greece",
          "Germany to Greece",
          "Germany to Greece",
          "Germany to Greece",
          "Germany to Greece",
          "Germany to Greece",
          "Germany to Greece",
          "Germany to Greece",
          "Germany to Greece"
         ],
         "type": "scatter",
         "x": [
          -0.30839743325156205,
          -0.1928578256662465,
          null,
          -0.1928578256662465,
          -0.210445567119798,
          null,
          -0.1928578256662465,
          -0.19012626441517144,
          null
         ],
         "y": [
          -0.01696550885853655,
          0.5728008602064598,
          null,
          0.5728008602064598,
          0.5368748759163732,
          null,
          0.5728008602064598,
          0.5328941744285084,
          null
         ]
        },
        {
         "hoverinfo": "text",
         "line": {
          "color": "white",
          "width": 2
         },
         "mode": "lines",
         "opacity": 0.5,
         "text": [
          "Germany to Bosnia and Herzegovina",
          "Germany to Bosnia and Herzegovina",
          "Germany to Bosnia and Herzegovina",
          "Germany to Bosnia and Herzegovina",
          "Germany to Bosnia and Herzegovina",
          "Germany to Bosnia and Herzegovina",
          "Germany to Bosnia and Herzegovina",
          "Germany to Bosnia and Herzegovina",
          "Germany to Bosnia and Herzegovina"
         ],
         "type": "scatter",
         "x": [
          -0.25473125738608143,
          0.5623402194451024,
          null,
          0.5623402194451024,
          0.5223879891192816,
          null,
          0.5623402194451024,
          0.5287176676508789,
          null
         ],
         "y": [
          -0.06468297158309017,
          0.19765436266490016,
          null,
          0.19765436266490016,
          0.19570017345333143,
          null,
          0.19765436266490016,
          0.1759858700009698,
          null
         ]
        },
        {
         "hoverinfo": "text",
         "line": {
          "color": "white",
          "width": 2
         },
         "mode": "lines",
         "opacity": 0.5,
         "text": [
          "Germany to Japan",
          "Germany to Japan",
          "Germany to Japan",
          "Germany to Japan",
          "Germany to Japan",
          "Germany to Japan",
          "Germany to Japan",
          "Germany to Japan",
          "Germany to Japan"
         ],
         "type": "scatter",
         "x": [
          -0.2866627959496415,
          -0.12158555407458184,
          null,
          -0.12158555407458184,
          -0.14986984302137396,
          null,
          -0.12158555407458184,
          -0.13193831568076772,
          null
         ],
         "y": [
          -0.02510998231691819,
          0.2608122436456154,
          null,
          0.2608122436456154,
          0.23252794134618443,
          null,
          0.2608122436456154,
          0.22217517485259353,
          null
         ]
        },
        {
         "hoverinfo": "text",
         "line": {
          "color": "white",
          "width": 2
         },
         "mode": "lines",
         "opacity": 0.5,
         "text": [
          "Germany to The former Yugoslav Republic of Macedonia",
          "Germany to The former Yugoslav Republic of Macedonia",
          "Germany to The former Yugoslav Republic of Macedonia",
          "Germany to The former Yugoslav Republic of Macedonia",
          "Germany to The former Yugoslav Republic of Macedonia",
          "Germany to The former Yugoslav Republic of Macedonia",
          "Germany to The former Yugoslav Republic of Macedonia",
          "Germany to The former Yugoslav Republic of Macedonia",
          "Germany to The former Yugoslav Republic of Macedonia"
         ],
         "type": "scatter",
         "x": [
          -0.25270300734264295,
          0.5397580825112526,
          null,
          0.5397580825112526,
          0.5038775854101841,
          null,
          0.5397580825112526,
          0.4998445139049217,
          null
         ],
         "y": [
          -0.10002953238251379,
          -0.2574011790060742,
          null,
          -0.2574011790060742,
          -0.23972088577329073,
          null,
          -0.2574011790060742,
          -0.26002984447065985,
          null
         ]
        },
        {
         "hoverinfo": "text",
         "line": {
          "color": "white",
          "width": 2
         },
         "mode": "lines",
         "opacity": 0.5,
         "text": [
          "Germany to United States",
          "Germany to United States",
          "Germany to United States",
          "Germany to United States",
          "Germany to United States",
          "Germany to United States",
          "Germany to United States",
          "Germany to United States",
          "Germany to United States"
         ],
         "type": "scatter",
         "x": [
          -0.3127568740922476,
          -0.2978935460966562,
          null,
          -0.2978935460966562,
          -0.31320107387296053,
          null,
          -0.2978935460966562,
          -0.29267243069985155,
          null
         ],
         "y": [
          -0.016252236685753763,
          0.09664589377403349,
          null,
          0.09664589377403349,
          0.05969024713359325,
          null,
          0.09664589377403349,
          0.05698760108197902,
          null
         ]
        },
        {
         "hoverinfo": "text",
         "line": {
          "color": "white",
          "width": 2
         },
         "mode": "lines",
         "opacity": 0.5,
         "text": [
          "Germany to Azerbaijan",
          "Germany to Azerbaijan",
          "Germany to Azerbaijan",
          "Germany to Azerbaijan",
          "Germany to Azerbaijan",
          "Germany to Azerbaijan",
          "Germany to Azerbaijan",
          "Germany to Azerbaijan",
          "Germany to Azerbaijan"
         ],
         "type": "scatter",
         "x": [
          -0.2650866197473637,
          0.5666013645059697,
          null,
          0.5666013645059697,
          0.5416140504476636,
          null,
          0.5666013645059697,
          0.5293441340907775,
          null
         ],
         "y": [
          -0.12812478847385603,
          -0.7399795650732403,
          null,
          -0.7399795650732403,
          -0.708744401736522,
          null,
          -0.7399795650732403,
          -0.7254227771614389,
          null
         ]
        },
        {
         "hoverinfo": "text",
         "line": {
          "color": "white",
          "width": 2
         },
         "mode": "lines",
         "opacity": 0.5,
         "text": [
          "France to Romania",
          "France to Romania",
          "France to Romania",
          "France to Romania",
          "France to Romania",
          "France to Romania",
          "France to Romania",
          "France to Romania",
          "France to Romania"
         ],
         "type": "scatter",
         "x": [
          -0.1924345206539556,
          -0.440674437947996,
          null,
          -0.440674437947996,
          -0.4362166205057845,
          null,
          -0.440674437947996,
          -0.4169384631011141,
          null
         ],
         "y": [
          -0.22291873712662857,
          0.4105586590302388,
          null,
          0.4105586590302388,
          0.370807875637252,
          null,
          0.4105586590302388,
          0.37836237951268537,
          null
         ]
        },
        {
         "hoverinfo": "text",
         "line": {
          "color": "white",
          "width": 2
         },
         "mode": "lines",
         "opacity": 0.5,
         "text": [
          "France to Netherlands",
          "France to Netherlands",
          "France to Netherlands",
          "France to Netherlands",
          "France to Netherlands",
          "France to Netherlands",
          "France to Netherlands",
          "France to Netherlands",
          "France to Netherlands"
         ],
         "type": "scatter",
         "x": [
          -0.23143587048511244,
          -0.4398941195442226,
          null,
          -0.4398941195442226,
          -0.4003330862985082,
          null,
          -0.4398941195442226,
          -0.4085881332471492,
          null
         ],
         "y": [
          -0.31683253204442197,
          -0.40745637858294315,
          null,
          -0.40745637858294315,
          -0.4015466315955912,
          null,
          -0.40745637858294315,
          -0.38255787093910065,
          null
         ]
        },
        {
         "hoverinfo": "text",
         "line": {
          "color": "white",
          "width": 2
         },
         "mode": "lines",
         "opacity": 0.5,
         "text": [
          "France to Germany",
          "France to Germany",
          "France to Germany",
          "France to Germany",
          "France to Germany",
          "France to Germany",
          "France to Germany",
          "France to Germany",
          "France to Germany"
         ],
         "type": "scatter",
         "x": [
          -0.20966042339130422,
          -0.27898150921539283,
          null,
          -0.27898150921539283,
          -0.2636742490669776,
          null,
          -0.27898150921539283,
          -0.2472475128556863,
          null
         ],
         "y": [
          -0.23264458388264084,
          -0.14230360477988815,
          null,
          -0.14230360477988815,
          -0.1792586451975718,
          null,
          -0.14230360477988815,
          -0.1666539785052753,
          null
         ]
        },
        {
         "hoverinfo": "text",
         "line": {
          "color": "white",
          "width": 2
         },
         "mode": "lines",
         "opacity": 0.5,
         "text": [
          "France to Spain",
          "France to Spain",
          "France to Spain",
          "France to Spain",
          "France to Spain",
          "France to Spain",
          "France to Spain",
          "France to Spain",
          "France to Spain"
         ],
         "type": "scatter",
         "x": [
          -0.09664584831916143,
          0.016252213582623493,
          null,
          0.016252213582623493,
          -0.020703295442828118,
          null,
          0.016252213582623493,
          -0.023405913299083404,
          null
         ],
         "y": [
          -0.29789357019161755,
          -0.31275687979960864,
          null,
          -0.31275687979960864,
          -0.2974494452878473,
          null,
          -0.31275687979960864,
          -0.3179780071583824,
          null
         ]
        },
        {
         "hoverinfo": "text",
         "line": {
          "color": "white",
          "width": 2
         },
         "mode": "lines",
         "opacity": 0.5,
         "text": [
          "France to Italy",
          "France to Italy",
          "France to Italy",
          "France to Italy",
          "France to Italy",
          "France to Italy",
          "France to Italy",
          "France to Italy",
          "France to Italy"
         ],
         "type": "scatter",
         "x": [
          -0.0984481291546439,
          0.22045661673685063,
          null,
          0.22045661673685063,
          0.18045663846181925,
          null,
          0.22045661673685063,
          0.18581562394360002,
          null
         ],
         "y": [
          -0.27039606861569376,
          -0.18494582183859856,
          null,
          -0.18494582183859856,
          -0.184945830926103,
          null,
          -0.18494582183859856,
          -0.20494581884612395,
          null
         ]
        },
        {
         "hoverinfo": "text",
         "line": {
          "color": "white",
          "width": 2
         },
         "mode": "lines",
         "opacity": 0.5,
         "text": [
          "France to Turkey",
          "France to Turkey",
          "France to Turkey",
          "France to Turkey",
          "France to Turkey",
          "France to Turkey",
          "France to Turkey",
          "France to Turkey",
          "France to Turkey"
         ],
         "type": "scatter",
         "x": [
          -0.11063606638867217,
          0.26594471533257324,
          null,
          0.26594471533257324,
          0.22898953125367505,
          null,
          0.26594471533257324,
          0.24159426208210288,
          null
         ],
         "y": [
          -0.24568137779864527,
          0.0432792778316424,
          null,
          0.0432792778316424,
          0.02797192790487095,
          null,
          0.0432792778316424,
          0.01154513189099135,
          null
         ]
        },
        {
         "hoverinfo": "text",
         "line": {
          "color": "white",
          "width": 2
         },
         "mode": "lines",
         "opacity": 0.5,
         "text": [
          "France to Hungary",
          "France to Hungary",
          "France to Hungary",
          "France to Hungary",
          "France to Hungary",
          "France to Hungary",
          "France to Hungary",
          "France to Hungary",
          "France to Hungary"
         ],
         "type": "scatter",
         "x": [
          -0.12317922404175619,
          0.4025995551622472,
          null,
          0.4025995551622472,
          0.37065139284898846,
          null,
          0.4025995551622472,
          0.38696612362564353,
          null
         ],
         "y": [
          -0.23302684280842792,
          0.43978164646595963,
          null,
          0.43978164646595963,
          0.4157126692041456,
          null,
          0.43978164646595963,
          0.40296321955748937,
          null
         ]
        },
        {
         "hoverinfo": "text",
         "line": {
          "color": "white",
          "width": 2
         },
         "mode": "lines",
         "opacity": 0.5,
         "text": [
          "France to Bosnia and Herzegovina",
          "France to Bosnia and Herzegovina",
          "France to Bosnia and Herzegovina",
          "France to Bosnia and Herzegovina",
          "France to Bosnia and Herzegovina",
          "France to Bosnia and Herzegovina",
          "France to Bosnia and Herzegovina",
          "France to Bosnia and Herzegovina",
          "France to Bosnia and Herzegovina"
         ],
         "type": "scatter",
         "x": [
          -0.10712421855179127,
          0.5700418295547133,
          null,
          0.5700418295547133,
          0.5319001580283004,
          null,
          0.5700418295547133,
          0.5430353929305842,
          null
         ],
         "y": [
          -0.2506937103890044,
          0.18126297170148914,
          null,
          0.18126297170148914,
          0.16921253198039693,
          null,
          0.18126297170148914,
          0.15175614901304377,
          null
         ]
        },
        {
         "hoverinfo": "text",
         "line": {
          "color": "white",
          "width": 2
         },
         "mode": "lines",
         "opacity": 0.5,
         "text": [
          "France to Greece",
          "France to Greece",
          "France to Greece",
          "France to Greece",
          "France to Greece",
          "France to Greece",
          "France to Greece",
          "France to Greece",
          "France to Greece"
         ],
         "type": "scatter",
         "x": [
          -0.16762361447860888,
          -0.1783229954952986,
          null,
          -0.1783229954952986,
          -0.18815108802923403,
          null,
          -0.1783229954952986,
          -0.16744785493897096,
          null
         ],
         "y": [
          -0.2180566430296429,
          0.5714898646082409,
          null,
          0.5714898646082409,
          0.5327168278853212,
          null,
          0.5714898646082409,
          0.5329973835573577,
          null
         ]
        },
        {
         "hoverinfo": "text",
         "line": {
          "color": "white",
          "width": 2
         },
         "mode": "lines",
         "opacity": 0.5,
         "text": [
          "France to Belgium",
          "France to Belgium",
          "France to Belgium",
          "France to Belgium",
          "France to Belgium",
          "France to Belgium",
          "France to Belgium",
          "France to Belgium",
          "France to Belgium"
         ],
         "type": "scatter",
         "x": [
          -0.22631600652583567,
          -0.6064325406705526,
          null,
          -0.6064325406705526,
          -0.5793429769913512,
          null,
          -0.6064325406705526,
          -0.5682570556563948,
          null
         ],
         "y": [
          -0.2508618822282079,
          -0.00989616755788296,
          null,
          -0.00989616755788296,
          -0.03932663693894915,
          null,
          -0.00989616755788296,
          -0.021838919847585625,
          null
         ]
        },
        {
         "hoverinfo": "text",
         "line": {
          "color": "white",
          "width": 2
         },
         "mode": "lines",
         "opacity": 0.5,
         "text": [
          "France to Portugal",
          "France to Portugal",
          "France to Portugal",
          "France to Portugal",
          "France to Portugal",
          "France to Portugal",
          "France to Portugal",
          "France to Portugal",
          "France to Portugal"
         ],
         "type": "scatter",
         "x": [
          -0.23414098263524416,
          -0.5846240764782583,
          null,
          -0.5846240764782583,
          -0.5507684360371434,
          null,
          -0.5846240764782583,
          -0.5446530483998,
          null
         ],
         "y": [
          -0.2678160135458278,
          -0.1594670052816106,
          null,
          -0.1594670052816106,
          -0.1807693720717327,
          null,
          -0.1594670052816106,
          -0.16098757586203283,
          null
         ]
        },
        {
         "hoverinfo": "text",
         "line": {
          "color": "white",
          "width": 2
         },
         "mode": "lines",
         "opacity": 0.5,
         "text": [
          "France to Japan",
          "France to Japan",
          "France to Japan",
          "France to Japan",
          "France to Japan",
          "France to Japan",
          "France to Japan",
          "France to Japan",
          "France to Japan"
         ],
         "type": "scatter",
         "x": [
          -0.1574482378817072,
          -0.09549146319861505,
          null,
          -0.09549146319861505,
          -0.11079884121683908,
          null,
          -0.09549146319861505,
          -0.09027039393097662,
          null
         ],
         "y": [
          -0.21865436477870065,
          0.2519544963380726,
          null,
          0.2519544963380726,
          0.21499920134456874,
          null,
          0.2519544963380726,
          0.21229658306023835,
          null
         ]
        },
        {
         "hoverinfo": "text",
         "line": {
          "color": "white",
          "width": 2
         },
         "mode": "lines",
         "opacity": 0.5,
         "text": [
          "France to Czech Republic",
          "France to Czech Republic",
          "France to Czech Republic",
          "France to Czech Republic",
          "France to Czech Republic",
          "France to Czech Republic",
          "France to Czech Republic",
          "France to Czech Republic",
          "France to Czech Republic"
         ],
         "type": "scatter",
         "x": [
          -0.11445472965822386,
          0.5030688924609201,
          null,
          0.5030688924609201,
          0.46753367111659705,
          null,
          0.5030688924609201,
          0.48147665162035325,
          null
         ],
         "y": [
          -0.24111670200566063,
          0.32136931960324056,
          null,
          0.32136931960324056,
          0.30300499245780066,
          null,
          0.32136931960324056,
          0.28769773509971985,
          null
         ]
        },
        {
         "hoverinfo": "text",
         "line": {
          "color": "white",
          "width": 2
         },
         "mode": "lines",
         "opacity": 0.5,
         "text": [
          "France to United Kingdom",
          "France to United Kingdom",
          "France to United Kingdom",
          "France to United Kingdom",
          "France to United Kingdom",
          "France to United Kingdom",
          "France to United Kingdom",
          "France to United Kingdom",
          "France to United Kingdom"
         ],
         "type": "scatter",
         "x": [
          -0.11062195787985063,
          0.20229895303804613,
          null,
          0.20229895303804613,
          0.17793805233578944,
          null,
          0.20229895303804613,
          0.16533870891102936,
          null
         ],
         "y": [
          -0.3316505478211645,
          -0.5716001166514154,
          null,
          -0.5716001166514154,
          -0.5398739461318308,
          null,
          -0.5716001166514154,
          -0.5563048973677865,
          null
         ]
        },
        {
         "hoverinfo": "text",
         "line": {
          "color": "white",
          "width": 2
         },
         "mode": "lines",
         "opacity": 0.5,
         "text": [
          "France to Austria",
          "France to Austria",
          "France to Austria",
          "France to Austria",
          "France to Austria",
          "France to Austria",
          "France to Austria",
          "France to Austria",
          "France to Austria"
         ],
         "type": "scatter",
         "x": [
          -0.23728020370350245,
          -0.5265275847877466,
          null,
          -0.5265275847877466,
          -0.487709777081626,
          null,
          -0.5265275847877466,
          -0.48808241030793853,
          null
         ],
         "y": [
          -0.2899461842882523,
          -0.2951525591504684,
          null,
          -0.2951525591504684,
          -0.3048084929246449,
          null,
          -0.2951525591504684,
          -0.2841059392431051,
          null
         ]
        },
        {
         "hoverinfo": "text",
         "line": {
          "color": "white",
          "width": 2
         },
         "mode": "lines",
         "opacity": 0.5,
         "text": [
          "France to Switzerland",
          "France to Switzerland",
          "France to Switzerland",
          "France to Switzerland",
          "France to Switzerland",
          "France to Switzerland",
          "France to Switzerland",
          "France to Switzerland",
          "France to Switzerland"
         ],
         "type": "scatter",
         "x": [
          -0.14895440198914006,
          -0.0873978032873492,
          null,
          -0.0873978032873492,
          -0.08706579917124756,
          null,
          -0.0873978032873492,
          -0.10710966376063889,
          null
         ],
         "y": [
          -0.35704304045244295,
          -0.5946467691083328,
          null,
          -0.5946467691083328,
          -0.5546480001643433,
          null,
          -0.5946467691083328,
          -0.5598408170246831,
          null
         ]
        },
        {
         "hoverinfo": "text",
         "line": {
          "color": "white",
          "width": 2
         },
         "mode": "lines",
         "opacity": 0.5,
         "text": [
          "France to Luxembourg",
          "France to Luxembourg",
          "France to Luxembourg",
          "France to Luxembourg",
          "France to Luxembourg",
          "France to Luxembourg",
          "France to Luxembourg",
          "France to Luxembourg",
          "France to Luxembourg"
         ],
         "type": "scatter",
         "x": [
          -0.18021563548420286,
          -0.2188323501887479,
          null,
          -0.2188323501887479,
          -0.20125967639741704,
          null,
          -0.2188323501887479,
          -0.22158050788559203,
          null
         ],
         "y": [
          -0.35798832820996646,
          -0.5555415148819982,
          null,
          -0.5555415148819982,
          -0.5196084356568909,
          null,
          -0.5555415148819982,
          -0.515636218541191,
          null
         ]
        },
        {
         "hoverinfo": "text",
         "line": {
          "color": "white",
          "width": 2
         },
         "mode": "lines",
         "opacity": 0.5,
         "text": [
          "France to Algeria",
          "France to Algeria",
          "France to Algeria",
          "France to Algeria",
          "France to Algeria",
          "France to Algeria",
          "France to Algeria",
          "France to Algeria",
          "France to Algeria"
         ],
         "type": "scatter",
         "x": [
          -0.13307573160844283,
          0.2752732362480684,
          null,
          0.2752732362480684,
          0.24778975078095378,
          null,
          0.2752732362480684,
          0.2660033499813227,
          null
         ],
         "y": [
          -0.2265499519696461,
          0.5286771046509968,
          null,
          0.5286771046509968,
          0.49961408398636487,
          null,
          0.5286771046509968,
          0.4897660477111561,
          null
         ]
        },
        {
         "hoverinfo": "text",
         "line": {
          "color": "white",
          "width": 2
         },
         "mode": "lines",
         "opacity": 0.5,
         "text": [
          "France to Morocco",
          "France to Morocco",
          "France to Morocco",
          "France to Morocco",
          "France to Morocco",
          "France to Morocco",
          "France to Morocco",
          "France to Morocco",
          "France to Morocco"
         ],
         "type": "scatter",
         "x": [
          -0.23705626564728485,
          -0.904538218801148,
          null,
          -0.904538218801148,
          -0.8668745581948414,
          null,
          -0.904538218801148,
          -0.8651855142196075,
          null
         ],
         "y": [
          -0.2829139541286264,
          -0.22828231645643374,
          null,
          -0.22828231645643374,
          -0.2417523518503611,
          null,
          -0.22828231645643374,
          -0.221115878994297,
          null
         ]
        },
        {
         "hoverinfo": "text",
         "line": {
          "color": "white",
          "width": 2
         },
         "mode": "lines",
         "opacity": 0.5,
         "text": [
          "France to United States",
          "France to United States",
          "France to United States",
          "France to United States",
          "France to United States",
          "France to United States",
          "France to United States",
          "France to United States",
          "France to United States"
         ],
         "type": "scatter",
         "x": [
          -0.18494573797272543,
          -0.2703960332722773,
          null,
          -0.2703960332722773,
          -0.27039603577417853,
          null,
          -0.2703960332722773,
          -0.25039608852119094,
          null
         ],
         "y": [
          -0.22045664802390458,
          0.09844817534285903,
          null,
          0.09844817534285903,
          0.05844828150726636,
          null,
          0.09844817534285903,
          0.0638072498816046,
          null
         ]
        },
        {
         "hoverinfo": "text",
         "line": {
          "color": "white",
          "width": 2
         },
         "mode": "lines",
         "opacity": 0.5,
         "text": [
          "Australia to New Zealand",
          "Australia to New Zealand",
          "Australia to New Zealand",
          "Australia to New Zealand",
          "Australia to New Zealand",
          "Australia to New Zealand",
          "Australia to New Zealand",
          "Australia to New Zealand",
          "Australia to New Zealand"
         ],
         "type": "scatter",
         "x": [
          -0.9376648632036684,
          -0.7005481752408507,
          null,
          -0.7005481752408507,
          -0.7395167197609646,
          null,
          -0.7005481752408507,
          -0.7297833671763678,
          null
         ],
         "y": [
          0.033199631636013985,
          0.15948807550736394,
          null,
          0.15948807550736394,
          0.15046296037255116,
          null,
          0.15948807550736394,
          0.1321878242684797,
          null
         ]
        },
        {
         "hoverinfo": "text",
         "line": {
          "color": "white",
          "width": 2
         },
         "mode": "lines",
         "opacity": 0.5,
         "text": [
          "Spain to Portugal",
          "Spain to Portugal",
          "Spain to Portugal",
          "Spain to Portugal",
          "Spain to Portugal",
          "Spain to Portugal",
          "Spain to Portugal",
          "Spain to Portugal",
          "Spain to Portugal"
         ],
         "type": "scatter",
         "x": [
          0.017730010517586367,
          -0.5835554207048308,
          null,
          -0.5835554207048308,
          -0.5485526498243369,
          null,
          -0.5835554207048308,
          -0.5435622194288305,
          null
         ],
         "y": [
          -0.3049532977895219,
          -0.1556298525972884,
          null,
          -0.1556298525972884,
          -0.17498967757858114,
          null,
          -0.1556298525972884,
          -0.15489456740366156,
          null
         ]
        },
        {
         "hoverinfo": "text",
         "line": {
          "color": "white",
          "width": 2
         },
         "mode": "lines",
         "opacity": 0.5,
         "text": [
          "Spain to France",
          "Spain to France",
          "Spain to France",
          "Spain to France",
          "Spain to France",
          "Spain to France",
          "Spain to France",
          "Spain to France",
          "Spain to France"
         ],
         "type": "scatter",
         "x": [
          0.016252213582623493,
          -0.09664584831916143,
          null,
          -0.09664584831916143,
          -0.059690994148922774,
          null,
          -0.09664584831916143,
          -0.05698838648765081,
          null
         ],
         "y": [
          -0.31275687979960864,
          -0.29789357019161755,
          null,
          -0.29789357019161755,
          -0.31320080884548684,
          null,
          -0.29789357019161755,
          -0.29267260064254014,
          null
         ]
        },
        {
         "hoverinfo": "text",
         "line": {
          "color": "white",
          "width": 2
         },
         "mode": "lines",
         "opacity": 0.5,
         "text": [
          "Spain to Germany",
          "Spain to Germany",
          "Spain to Germany",
          "Spain to Germany",
          "Spain to Germany",
          "Spain to Germany",
          "Spain to Germany",
          "Spain to Germany",
          "Spain to Germany"
         ],
         "type": "scatter",
         "x": [
          0.025109962735722975,
          -0.26081224641616196,
          null,
          -0.26081224641616196,
          -0.23252801933273187,
          null,
          -0.26081224641616196,
          -0.22217526644827648,
          null
         ],
         "y": [
          -0.28666279115091353,
          -0.12158552907098741,
          null,
          -0.12158552907098741,
          -0.14986977064544174,
          null,
          -0.12158552907098741,
          -0.13193828725952578,
          null
         ]
        },
        {
         "hoverinfo": "text",
         "line": {
          "color": "white",
          "width": 2
         },
         "mode": "lines",
         "opacity": 0.5,
         "text": [
          "Spain to Morocco",
          "Spain to Morocco",
          "Spain to Morocco",
          "Spain to Morocco",
          "Spain to Morocco",
          "Spain to Morocco",
          "Spain to Morocco",
          "Spain to Morocco",
          "Spain to Morocco"
         ],
         "type": "scatter",
         "x": [
          0.01595613423810789,
          -0.9046109697602828,
          null,
          -0.9046109697602828,
          -0.8671085704030214,
          null,
          -0.9046109697602828,
          -0.8651765457855212,
          null
         ],
         "y": [
          -0.31538529709947927,
          -0.2291111050449528,
          null,
          -0.2291111050449528,
          -0.2430238919019608,
          null,
          -0.2291111050449528,
          -0.22240873222192928,
          null
         ]
        },
        {
         "hoverinfo": "text",
         "line": {
          "color": "white",
          "width": 2
         },
         "mode": "lines",
         "opacity": 0.5,
         "text": [
          "Spain to United Kingdom",
          "Spain to United Kingdom",
          "Spain to United Kingdom",
          "Spain to United Kingdom",
          "Spain to United Kingdom",
          "Spain to United Kingdom",
          "Spain to United Kingdom",
          "Spain to United Kingdom",
          "Spain to United Kingdom"
         ],
         "type": "scatter",
         "x": [
          0.1220740161385235,
          0.22254262794593008,
          null,
          0.22254262794593008,
          0.21188085188256137,
          null,
          0.22254262794593008,
          0.19403275276532628,
          null
         ],
         "y": [
          -0.38285368083659693,
          -0.5536971151953549,
          null,
          -0.5536971151953549,
          -0.5151441026748236,
          null,
          -0.5536971151953549,
          -0.5256401149918396,
          null
         ]
        },
        {
         "hoverinfo": "text",
         "line": {
          "color": "white",
          "width": 2
         },
         "mode": "lines",
         "opacity": 0.5,
         "text": [
          "Spain to Netherlands",
          "Spain to Netherlands",
          "Spain to Netherlands",
          "Spain to Netherlands",
          "Spain to Netherlands",
          "Spain to Netherlands",
          "Spain to Netherlands",
          "Spain to Netherlands",
          "Spain to Netherlands"
         ],
         "type": "scatter",
         "x": [
          0.016918733301919717,
          -0.43530907440499667,
          null,
          -0.43530907440499667,
          -0.3954121538871407,
          null,
          -0.43530907440499667,
          -0.3993222320934374,
          null
         ],
         "y": [
          -0.33531228187726303,
          -0.42227676030947403,
          null,
          -0.42227676030947403,
          -0.4251469515301287,
          null,
          -0.42227676030947403,
          -0.40481395856135205,
          null
         ]
        },
        {
         "hoverinfo": "text",
         "line": {
          "color": "white",
          "width": 2
         },
         "mode": "lines",
         "opacity": 0.5,
         "text": [
          "Spain to Turkey",
          "Spain to Turkey",
          "Spain to Turkey",
          "Spain to Turkey",
          "Spain to Turkey",
          "Spain to Turkey",
          "Spain to Turkey",
          "Spain to Turkey",
          "Spain to Turkey"
         ],
         "type": "scatter",
         "x": [
          0.1215855058473686,
          0.28666279202279055,
          null,
          0.28666279202279055,
          0.2583785012600693,
          null,
          0.28666279202279055,
          0.2763100279359917,
          null
         ],
         "y": [
          -0.26081224591278357,
          0.02511001438640874,
          null,
          0.02511001438640874,
          -0.0031742860970778095,
          null,
          0.02511001438640874,
          -0.013527053741923714,
          null
         ]
        },
        {
         "hoverinfo": "text",
         "line": {
          "color": "white",
          "width": 2
         },
         "mode": "lines",
         "opacity": 0.5,
         "text": [
          "Spain to Ireland",
          "Spain to Ireland",
          "Spain to Ireland",
          "Spain to Ireland",
          "Spain to Ireland",
          "Spain to Ireland",
          "Spain to Ireland",
          "Spain to Ireland",
          "Spain to Ireland"
         ],
         "type": "scatter",
         "x": [
          0.022678527159440937,
          -0.316881011349905,
          null,
          -0.316881011349905,
          -0.2775872114730248,
          null,
          -0.316881011349905,
          -0.2865931515485715,
          null
         ],
         "y": [
          -0.35269389664769457,
          -0.5167143532073469,
          null,
          -0.5167143532073469,
          -0.5092312150008137,
          null,
          -0.5167143532073469,
          -0.49058686548201913,
          null
         ]
        },
        {
         "hoverinfo": "text",
         "line": {
          "color": "white",
          "width": 2
         },
         "mode": "lines",
         "opacity": 0.5,
         "text": [
          "Spain to Algeria",
          "Spain to Algeria",
          "Spain to Algeria",
          "Spain to Algeria",
          "Spain to Algeria",
          "Spain to Algeria",
          "Spain to Algeria",
          "Spain to Algeria",
          "Spain to Algeria"
         ],
         "type": "scatter",
         "x": [
          0.10300537354161768,
          0.292131780024266,
          null,
          0.292131780024266,
          0.272919922856636,
          null,
          0.292131780024266,
          0.29303596945231547,
          null
         ],
         "y": [
          -0.253361017201272,
          0.5221880383232508,
          null,
          0.5221880383232508,
          0.4871037467450604,
          null,
          0.5221880383232508,
          0.4821982219589425,
          null
         ]
        },
        {
         "hoverinfo": "text",
         "line": {
          "color": "white",
          "width": 2
         },
         "mode": "lines",
         "opacity": 0.5,
         "text": [
          "Spain to United States",
          "Spain to United States",
          "Spain to United States",
          "Spain to United States",
          "Spain to United States",
          "Spain to United States",
          "Spain to United States",
          "Spain to United States",
          "Spain to United States"
         ],
         "type": "scatter",
         "x": [
          0.04327923406817119,
          -0.24568135638691585,
          null,
          -0.24568135638691585,
          -0.23037404040211912,
          null,
          -0.24568135638691585,
          -0.2139472575484577,
          null
         ],
         "y": [
          -0.2659447088942445,
          0.110636104653827,
          null,
          0.110636104653827,
          0.07368095599008986,
          null,
          0.110636104653827,
          0.08628566510279845,
          null
         ]
        },
        {
         "hoverinfo": "text",
         "line": {
          "color": "white",
          "width": 2
         },
         "mode": "lines",
         "opacity": 0.5,
         "text": [
          "Spain to Belgium",
          "Spain to Belgium",
          "Spain to Belgium",
          "Spain to Belgium",
          "Spain to Belgium",
          "Spain to Belgium",
          "Spain to Belgium",
          "Spain to Belgium",
          "Spain to Belgium"
         ],
         "type": "scatter",
         "x": [
          0.022234522885124564,
          -0.6020434211552548,
          null,
          -0.6020434211552548,
          -0.5713753835232428,
          null,
          -0.6020434211552548,
          -0.5626440539155064,
          null
         ],
         "y": [
          -0.29219336395517115,
          -0.0018648173902916614,
          null,
          -0.0018648173902916614,
          -0.027544952522709203,
          null,
          -0.0018648173902916614,
          -0.008770447971576511,
          null
         ]
        },
        {
         "hoverinfo": "text",
         "line": {
          "color": "white",
          "width": 2
         },
         "mode": "lines",
         "opacity": 0.5,
         "text": [
          "Spain to Czech Republic",
          "Spain to Czech Republic",
          "Spain to Czech Republic",
          "Spain to Czech Republic",
          "Spain to Czech Republic",
          "Spain to Czech Republic",
          "Spain to Czech Republic",
          "Spain to Czech Republic",
          "Spain to Czech Republic"
         ],
         "type": "scatter",
         "x": [
          0.1259395094109958,
          0.5156143023179585,
          null,
          0.5156143023179585,
          0.48534820191999406,
          null,
          0.5156143023179585,
          0.5024794456078123,
          null
         ],
         "y": [
          -0.26354191658722054,
          0.31049440262542854,
          null,
          0.31049440262542854,
          0.2843416924094657,
          null,
          0.31049440262542854,
          0.27271244100160974,
          null
         ]
        },
        {
         "hoverinfo": "text",
         "line": {
          "color": "white",
          "width": 2
         },
         "mode": "lines",
         "opacity": 0.5,
         "text": [
          "Spain to Greece",
          "Spain to Greece",
          "Spain to Greece",
          "Spain to Greece",
          "Spain to Greece",
          "Spain to Greece",
          "Spain to Greece",
          "Spain to Greece",
          "Spain to Greece"
         ],
         "type": "scatter",
         "x": [
          0.06751810042441375,
          -0.16052506147206314,
          null,
          -0.16052506147206314,
          -0.1602458091256577,
          null,
          -0.16052506147206314,
          -0.1402837291954015,
          null
         ],
         "y": [
          -0.25388605446894263,
          0.5740191444881687,
          null,
          0.5740191444881687,
          0.5340201591869524,
          null,
          0.5740191444881687,
          0.5395186332649178,
          null
         ]
        },
        {
         "hoverinfo": "text",
         "line": {
          "color": "white",
          "width": 2
         },
         "mode": "lines",
         "opacity": 0.5,
         "text": [
          "Spain to Japan",
          "Spain to Japan",
          "Spain to Japan",
          "Spain to Japan",
          "Spain to Japan",
          "Spain to Japan",
          "Spain to Japan",
          "Spain to Japan",
          "Spain to Japan"
         ],
         "type": "scatter",
         "x": [
          0.0679939092618308,
          -0.06799396141589498,
          null,
          -0.06799396141589498,
          -0.06799396176053055,
          null,
          -0.06799396141589498,
          -0.04799399506948858,
          null
         ],
         "y": [
          -0.25375678003656665,
          0.25375678003656665,
          null,
          0.25375678003656665,
          0.21375684674682754,
          null,
          0.25375678003656665,
          0.21911582148565195,
          null
         ]
        },
        {
         "hoverinfo": "text",
         "line": {
          "color": "white",
          "width": 2
         },
         "mode": "lines",
         "opacity": 0.5,
         "text": [
          "Spain to Italy",
          "Spain to Italy",
          "Spain to Italy",
          "Spain to Italy",
          "Spain to Italy",
          "Spain to Italy",
          "Spain to Italy",
          "Spain to Italy",
          "Spain to Italy"
         ],
         "type": "scatter",
         "x": [
          0.14230359361729558,
          0.23264454289116923,
          null,
          0.23264454289116923,
          0.19568934130887422,
          null,
          0.23264454289116923,
          0.20829408399260702,
          null
         ],
         "y": [
          -0.27898152379737695,
          -0.20966049821628732,
          null,
          -0.20966049821628732,
          -0.2249678671636476,
          null,
          -0.20966049821628732,
          -0.2413946693809499,
          null
         ]
        },
        {
         "hoverinfo": "text",
         "line": {
          "color": "white",
          "width": 2
         },
         "mode": "lines",
         "opacity": 0.5,
         "text": [
          "Spain to Lebanon",
          "Spain to Lebanon",
          "Spain to Lebanon",
          "Spain to Lebanon",
          "Spain to Lebanon",
          "Spain to Lebanon",
          "Spain to Lebanon",
          "Spain to Lebanon",
          "Spain to Lebanon"
         ],
         "type": "scatter",
         "x": [
          0.07735843990489313,
          0.008914579114847575,
          null,
          0.008914579114847575,
          0.024061415889523714,
          null,
          0.008914579114847575,
          0.0035215560814349667,
          null
         ],
         "y": [
          -0.39203541578814477,
          -0.9299398749871544,
          null,
          -0.9299398749871544,
          -0.8929187380526373,
          null,
          -0.9299398749871544,
          -0.8903052115375422,
          null
         ]
        },
        {
         "hoverinfo": "text",
         "line": {
          "color": "white",
          "width": 2
         },
         "mode": "lines",
         "opacity": 0.5,
         "text": [
          "Spain to Luxembourg",
          "Spain to Luxembourg",
          "Spain to Luxembourg",
          "Spain to Luxembourg",
          "Spain to Luxembourg",
          "Spain to Luxembourg",
          "Spain to Luxembourg",
          "Spain to Luxembourg",
          "Spain to Luxembourg"
         ],
         "type": "scatter",
         "x": [
          0.03508257888260234,
          -0.181190915629295,
          null,
          -0.181190915629295,
          -0.14605361190215313,
          null,
          -0.181190915629295,
          -0.16031842518871778,
          null
         ],
         "y": [
          -0.37063154098476025,
          -0.5761984336665764,
          null,
          -0.5761984336665764,
          -0.5570838192513419,
          null,
          -0.5761984336665764,
          -0.5420760401358681,
          null
         ]
        },
        {
         "hoverinfo": "text",
         "line": {
          "color": "white",
          "width": 2
         },
         "mode": "lines",
         "opacity": 0.5,
         "text": [
          "Spain to Serbia",
          "Spain to Serbia",
          "Spain to Serbia",
          "Spain to Serbia",
          "Spain to Serbia",
          "Spain to Serbia",
          "Spain to Serbia",
          "Spain to Serbia",
          "Spain to Serbia"
         ],
         "type": "scatter",
         "x": [
          0.036743056551083515,
          -0.5207129312311258,
          null,
          -0.5207129312311258,
          -0.5009964871332008,
          null,
          -0.5207129312311258,
          -0.4862364085248868,
          null
         ],
         "y": [
          -0.27162973859706735,
          0.2950057862083039,
          null,
          0.2950057862083039,
          0.2602026237180237,
          null,
          0.2950057862083039,
          0.2747235854086461,
          null
         ]
        },
        {
         "hoverinfo": "text",
         "line": {
          "color": "white",
          "width": 2
         },
         "mode": "lines",
         "opacity": 0.5,
         "text": [
          "Spain to Switzerland",
          "Spain to Switzerland",
          "Spain to Switzerland",
          "Spain to Switzerland",
          "Spain to Switzerland",
          "Spain to Switzerland",
          "Spain to Switzerland",
          "Spain to Switzerland",
          "Spain to Switzerland"
         ],
         "type": "scatter",
         "x": [
          0.05690142792803362,
          -0.04031398427826479,
          null,
          -0.04031398427826479,
          -0.014830620468850784,
          null,
          -0.04031398427826479,
          -0.033660588705011346,
          null
         ],
         "y": [
          -0.3862030181385403,
          -0.5987869229816074,
          null,
          -0.5987869229816074,
          -0.5679552332624472,
          null,
          -0.5987869229816074,
          -0.5593442145385082,
          null
         ]
        },
        {
         "hoverinfo": "text",
         "line": {
          "color": "white",
          "width": 2
         },
         "mode": "lines",
         "opacity": 0.5,
         "text": [
          "Spain to Hungary",
          "Spain to Hungary",
          "Spain to Hungary",
          "Spain to Hungary",
          "Spain to Hungary",
          "Spain to Hungary",
          "Spain to Hungary",
          "Spain to Hungary",
          "Spain to Hungary"
         ],
         "type": "scatter",
         "x": [
          0.1147267338501894,
          0.4176332461965597,
          null,
          0.4176332461965597,
          0.392591595093267,
          null,
          0.4176332461965597,
          0.4115423517884295,
          null
         ],
         "y": [
          -0.2573357049262773,
          0.43079037702443707,
          null,
          0.43079037702443707,
          0.3995987538243813,
          null,
          0.43079037702443707,
          0.39125681339627033,
          null
         ]
        },
        {
         "hoverinfo": "text",
         "line": {
          "color": "white",
          "width": 2
         },
         "mode": "lines",
         "opacity": 0.5,
         "text": [
          "Spain to Republic of Moldova",
          "Spain to Republic of Moldova",
          "Spain to Republic of Moldova",
          "Spain to Republic of Moldova",
          "Spain to Republic of Moldova",
          "Spain to Republic of Moldova",
          "Spain to Republic of Moldova",
          "Spain to Republic of Moldova",
          "Spain to Republic of Moldova"
         ],
         "type": "scatter",
         "x": [
          0.03907437755846356,
          -0.38668527587437007,
          null,
          -0.38668527587437007,
          -0.3531628418388803,
          null,
          -0.38668527587437007,
          -0.3685655222857303,
          null
         ],
         "y": [
          -0.37451270596567554,
          -0.8484313748639448,
          null,
          -0.8484313748639448,
          -0.8266083230983798,
          null,
          -0.8484313748639448,
          -0.8127708406291178,
          null
         ]
        },
        {
         "hoverinfo": "text",
         "line": {
          "color": "white",
          "width": 2
         },
         "mode": "lines",
         "opacity": 0.5,
         "text": [
          "Spain to Tunisia",
          "Spain to Tunisia",
          "Spain to Tunisia",
          "Spain to Tunisia",
          "Spain to Tunisia",
          "Spain to Tunisia",
          "Spain to Tunisia",
          "Spain to Tunisia",
          "Spain to Tunisia"
         ],
         "type": "scatter",
         "x": [
          0.12812478082338324,
          0.7399797291859055,
          null,
          0.7399797291859055,
          0.7087445650385754,
          null,
          0.7399797291859055,
          0.7254229337494393,
          null
         ],
         "y": [
          -0.26508663056277076,
          0.5666011369027977,
          null,
          0.5666011369027977,
          0.5416138364898005,
          null,
          0.5666011369027977,
          0.5293439178994838,
          null
         ]
        },
        {
         "hoverinfo": "text",
         "line": {
          "color": "white",
          "width": 2
         },
         "mode": "lines",
         "opacity": 0.5,
         "text": [
          "Spain to Austria",
          "Spain to Austria",
          "Spain to Austria",
          "Spain to Austria",
          "Spain to Austria",
          "Spain to Austria",
          "Spain to Austria",
          "Spain to Austria",
          "Spain to Austria"
         ],
         "type": "scatter",
         "x": [
          0.015697318266361587,
          -0.5265654578313526,
          null,
          -0.5265654578313526,
          -0.48834240849537647,
          null,
          -0.5265654578313526,
          -0.48756880457594803,
          null
         ],
         "y": [
          -0.3193365843909212,
          -0.29906229060717143,
          null,
          -0.29906229060717143,
          -0.310851333647858,
          null,
          -0.29906229060717143,
          -0.2901603766987261,
          null
         ]
        },
        {
         "hoverinfo": "text",
         "line": {
          "color": "white",
          "width": 2
         },
         "mode": "lines",
         "opacity": 0.5,
         "text": [
          "Spain to Montenegro",
          "Spain to Montenegro",
          "Spain to Montenegro",
          "Spain to Montenegro",
          "Spain to Montenegro",
          "Spain to Montenegro",
          "Spain to Montenegro",
          "Spain to Montenegro",
          "Spain to Montenegro"
         ],
         "type": "scatter",
         "x": [
          0.056079291545160434,
          -0.19232729151130498,
          null,
          -0.19232729151130498,
          -0.16645018794977998,
          null,
          -0.19232729151130498,
          -0.18516807507332692,
          null
         ],
         "y": [
          -0.385820652128367,
          -0.9110825408686117,
          null,
          -0.9110825408686117,
          -0.880580515623285,
          null,
          -0.9110825408686117,
          -0.871728460358522,
          null
         ]
        },
        {
         "hoverinfo": "text",
         "line": {
          "color": "white",
          "width": 2
         },
         "mode": "lines",
         "opacity": 0.5,
         "text": [
          "Spain to The former Yugoslav Republic of Macedonia",
          "Spain to The former Yugoslav Republic of Macedonia",
          "Spain to The former Yugoslav Republic of Macedonia",
          "Spain to The former Yugoslav Republic of Macedonia",
          "Spain to The former Yugoslav Republic of Macedonia",
          "Spain to The former Yugoslav Republic of Macedonia",
          "Spain to The former Yugoslav Republic of Macedonia",
          "Spain to The former Yugoslav Republic of Macedonia",
          "Spain to The former Yugoslav Republic of Macedonia"
         ],
         "type": "scatter",
         "x": [
          0.15656665339615267,
          0.538736719642616,
          null,
          0.538736719642616,
          0.4992793676556651,
          null,
          0.538736719642616,
          0.5012827235848981,
          null
         ],
         "y": [
          -0.3151419962061492,
          -0.27799097651113597,
          null,
          -0.27799097651113597,
          -0.27142512276922787,
          null,
          -0.27799097651113597,
          -0.2920334563665859,
          null
         ]
        },
        {
         "hoverinfo": "text",
         "line": {
          "color": "white",
          "width": 2
         },
         "mode": "lines",
         "opacity": 0.5,
         "text": [
          "Spain to Denmark",
          "Spain to Denmark",
          "Spain to Denmark",
          "Spain to Denmark",
          "Spain to Denmark",
          "Spain to Denmark",
          "Spain to Denmark",
          "Spain to Denmark",
          "Spain to Denmark"
         ],
         "type": "scatter",
         "x": [
          0.14539330472526435,
          0.6052082775038731,
          null,
          0.6052082775038731,
          0.5672017023273409,
          null,
          0.6052082775038731,
          0.5785286112800422,
          null
         ],
         "y": [
          -0.2833400603101858,
          0.017149926321328536,
          null,
          0.017149926321328536,
          0.004679939541550583,
          null,
          0.017149926321328536,
          -0.012652686603081376,
          null
         ]
        },
        {
         "hoverinfo": "text",
         "line": {
          "color": "white",
          "width": 2
         },
         "mode": "lines",
         "opacity": 0.5,
         "text": [
          "Spain to Albania",
          "Spain to Albania",
          "Spain to Albania",
          "Spain to Albania",
          "Spain to Albania",
          "Spain to Albania",
          "Spain to Albania",
          "Spain to Albania",
          "Spain to Albania"
         ],
         "type": "scatter",
         "x": [
          0.019557560918720657,
          -0.7151159375289997,
          null,
          -0.7151159375289997,
          -0.6752209842712059,
          null,
          -0.7151159375289997,
          -0.6820144358158775,
          null
         ],
         "y": [
          -0.3451472537158582,
          -0.6003179533840564,
          null,
          -0.6003179533840564,
          -0.5974208708022164,
          null,
          -0.6003179533840564,
          -0.5778615296424247,
          null
         ]
        },
        {
         "hoverinfo": "text",
         "line": {
          "color": "white",
          "width": 2
         },
         "mode": "lines",
         "opacity": 0.5,
         "text": [
          "Spain to Bosnia and Herzegovina",
          "Spain to Bosnia and Herzegovina",
          "Spain to Bosnia and Herzegovina",
          "Spain to Bosnia and Herzegovina",
          "Spain to Bosnia and Herzegovina",
          "Spain to Bosnia and Herzegovina",
          "Spain to Bosnia and Herzegovina",
          "Spain to Bosnia and Herzegovina",
          "Spain to Bosnia and Herzegovina"
         ],
         "type": "scatter",
         "x": [
          0.13630863939437105,
          0.579548620534809,
          null,
          0.579548620534809,
          0.5448690930322851,
          null,
          0.579548620534809,
          0.5594818515330497,
          null
         ],
         "y": [
          -0.2721322759649153,
          0.1694014057180281,
          null,
          0.1694014057180281,
          0.14946824010469303,
          null,
          0.1694014057180281,
          0.1347990141677756,
          null
         ]
        },
        {
         "hoverinfo": "text",
         "line": {
          "color": "white",
          "width": 2
         },
         "mode": "lines",
         "opacity": 0.5,
         "text": [
          "Spain to Georgia",
          "Spain to Georgia",
          "Spain to Georgia",
          "Spain to Georgia",
          "Spain to Georgia",
          "Spain to Georgia",
          "Spain to Georgia",
          "Spain to Georgia",
          "Spain to Georgia"
         ],
         "type": "scatter",
         "x": [
          0.10069921864213141,
          0.2080948253160557,
          null,
          0.2080948253160557,
          0.2103371175141848,
          null,
          0.2080948253160557,
          0.19006811506641147,
          null
         ],
         "y": [
          -0.3911112079630632,
          -0.9057919850339156,
          null,
          -0.9057919850339156,
          -0.8658548005220522,
          null,
          -0.9057919850339156,
          -0.870084222591951,
          null
         ]
        },
        {
         "hoverinfo": "text",
         "line": {
          "color": "white",
          "width": 2
         },
         "mode": "lines",
         "opacity": 0.5,
         "text": [
          "Spain to Slovakia",
          "Spain to Slovakia",
          "Spain to Slovakia",
          "Spain to Slovakia",
          "Spain to Slovakia",
          "Spain to Slovakia",
          "Spain to Slovakia",
          "Spain to Slovakia",
          "Spain to Slovakia"
         ],
         "type": "scatter",
         "x": [
          0.14522060739131665,
          0.3441184387889316,
          null,
          0.3441184387889316,
          0.3175717415601643,
          null,
          0.3441184387889316,
          0.3061677219897521,
          null
         ],
         "y": [
          -0.36087350467117346,
          -0.4921217717799374,
          null,
          -0.4921217717799374,
          -0.4622005665549512,
          null,
          -0.4921217717799374,
          -0.4794825965576353,
          null
         ]
        },
        {
         "hoverinfo": "text",
         "line": {
          "color": "white",
          "width": 2
         },
         "mode": "lines",
         "opacity": 0.5,
         "text": [
          "Spain to Uruguay",
          "Spain to Uruguay",
          "Spain to Uruguay",
          "Spain to Uruguay",
          "Spain to Uruguay",
          "Spain to Uruguay",
          "Spain to Uruguay",
          "Spain to Uruguay",
          "Spain to Uruguay"
         ],
         "type": "scatter",
         "x": [
          0.01609742088804031,
          -0.8307932634521463,
          null,
          -0.8307932634521463,
          -0.7912359952379157,
          null,
          -0.8307932634521463,
          -0.7935681270338694,
          null
         ],
         "y": [
          -0.3299300205337012,
          -0.42592902664075255,
          null,
          -0.42592902664075255,
          -0.43186410112162965,
          null,
          -0.42592902664075255,
          -0.41129031780742953,
          null
         ]
        },
        {
         "hoverinfo": "text",
         "line": {
          "color": "white",
          "width": 2
         },
         "mode": "lines",
         "opacity": 0.5,
         "text": [
          "Spain to Bulgaria",
          "Spain to Bulgaria",
          "Spain to Bulgaria",
          "Spain to Bulgaria",
          "Spain to Bulgaria",
          "Spain to Bulgaria",
          "Spain to Bulgaria",
          "Spain to Bulgaria",
          "Spain to Bulgaria"
         ],
         "type": "scatter",
         "x": [
          0.0910594619682011,
          0.14744750337098272,
          null,
          0.14744750337098272,
          0.13449996040019824,
          null,
          0.14744750337098272,
          0.1551579482427118,
          null
         ],
         "y": [
          -0.25151267320580006,
          0.578590002364583,
          null,
          0.578590002364583,
          0.5407433103625449,
          null,
          0.578590002364583,
          0.5393400341562203,
          null
         ]
        },
        {
         "hoverinfo": "text",
         "line": {
          "color": "white",
          "width": 2
         },
         "mode": "lines",
         "opacity": 0.5,
         "text": [
          "Spain to Cyprus",
          "Spain to Cyprus",
          "Spain to Cyprus",
          "Spain to Cyprus",
          "Spain to Cyprus",
          "Spain to Cyprus",
          "Spain to Cyprus",
          "Spain to Cyprus",
          "Spain to Cyprus"
         ],
         "type": "scatter",
         "x": [
          0.09365199057940901,
          0.21514171065207063,
          null,
          0.21514171065207063,
          0.20080874601881152,
          null,
          0.21514171065207063,
          0.2214009776121228,
          null
         ],
         "y": [
          -0.25173683102756006,
          0.9046895020785855,
          null,
          0.9046895020785855,
          0.8673455451905885,
          null,
          0.9046895020785855,
          0.8651822044191196,
          null
         ]
        },
        {
         "hoverinfo": "text",
         "line": {
          "color": "white",
          "width": 2
         },
         "mode": "lines",
         "opacity": 0.5,
         "text": [
          "Belgium to Luxembourg",
          "Belgium to Luxembourg",
          "Belgium to Luxembourg",
          "Belgium to Luxembourg",
          "Belgium to Luxembourg",
          "Belgium to Luxembourg",
          "Belgium to Luxembourg",
          "Belgium to Luxembourg",
          "Belgium to Luxembourg"
         ],
         "type": "scatter",
         "x": [
          -0.6269986260136753,
          -0.27146462319286774,
          null,
          -0.27146462319286774,
          -0.2842230091558307,
          null,
          -0.27146462319286774,
          -0.30146909127548266,
          null
         ],
         "y": [
          -0.030907952407335466,
          -0.5660296220388659,
          null,
          -0.5660296220388659,
          -0.5281188585840614,
          null,
          -0.5660296220388659,
          -0.539577130791624,
          null
         ]
        },
        {
         "hoverinfo": "text",
         "line": {
          "color": "white",
          "width": 2
         },
         "mode": "lines",
         "opacity": 0.5,
         "text": [
          "Belgium to Netherlands",
          "Belgium to Netherlands",
          "Belgium to Netherlands",
          "Belgium to Netherlands",
          "Belgium to Netherlands",
          "Belgium to Netherlands",
          "Belgium to Netherlands",
          "Belgium to Netherlands",
          "Belgium to Netherlands"
         ],
         "type": "scatter",
         "x": [
          -0.6428556941938176,
          -0.5278895593691096,
          null,
          -0.5278895593691096,
          -0.5308190995299678,
          null,
          -0.5278895593691096,
          -0.5503729456245631,
          null
         ],
         "y": [
          -0.038779470239829666,
          -0.3689171717417721,
          null,
          -0.3689171717417721,
          -0.329024511632285,
          null,
          -0.3689171717417721,
          -0.33583388474284726,
          null
         ]
        },
        {
         "hoverinfo": "text",
         "line": {
          "color": "white",
          "width": 2
         },
         "mode": "lines",
         "opacity": 0.5,
         "text": [
          "Belgium to France",
          "Belgium to France",
          "Belgium to France",
          "Belgium to France",
          "Belgium to France",
          "Belgium to France",
          "Belgium to France",
          "Belgium to France",
          "Belgium to France"
         ],
         "type": "scatter",
         "x": [
          -0.6064325406705526,
          -0.22631600652583567,
          null,
          -0.22631600652583567,
          -0.25340563224185925,
          null,
          -0.22631600652583567,
          -0.2644915678802947,
          null
         ],
         "y": [
          -0.00989616755788296,
          -0.2508618822282079,
          null,
          -0.2508618822282079,
          -0.2214313676174671,
          null,
          -0.2508618822282079,
          -0.23891912178686905,
          null
         ]
        },
        {
         "hoverinfo": "text",
         "line": {
          "color": "white",
          "width": 2
         },
         "mode": "lines",
         "opacity": 0.5,
         "text": [
          "Belgium to Spain",
          "Belgium to Spain",
          "Belgium to Spain",
          "Belgium to Spain",
          "Belgium to Spain",
          "Belgium to Spain",
          "Belgium to Spain",
          "Belgium to Spain",
          "Belgium to Spain"
         ],
         "type": "scatter",
         "x": [
          -0.6020434211552548,
          0.022234522885124564,
          null,
          0.022234522885124564,
          -0.008433562287773904,
          null,
          0.022234522885124564,
          -0.01716489855959722,
          null
         ],
         "y": [
          -0.0018648173902916614,
          -0.29219336395517115,
          null,
          -0.29219336395517115,
          -0.26651320275603746,
          null,
          -0.29219336395517115,
          -0.2852877345698912,
          null
         ]
        },
        {
         "hoverinfo": "text",
         "line": {
          "color": "white",
          "width": 2
         },
         "mode": "lines",
         "opacity": 0.5,
         "text": [
          "Belgium to Romania",
          "Belgium to Romania",
          "Belgium to Romania",
          "Belgium to Romania",
          "Belgium to Romania",
          "Belgium to Romania",
          "Belgium to Romania",
          "Belgium to Romania",
          "Belgium to Romania"
         ],
         "type": "scatter",
         "x": [
          -0.6373561360523528,
          -0.4951680860831911,
          null,
          -0.4951680860831911,
          -0.5203409226926564,
          null,
          -0.4951680860831911,
          -0.5014254631922587,
          null
         ],
         "y": [
          0.09243626009378358,
          0.41179593045559004,
          null,
          0.41179593045559004,
          0.3807100526955014,
          null,
          0.41179593045559004,
          0.3722883523116829,
          null
         ]
        },
        {
         "hoverinfo": "text",
         "line": {
          "color": "white",
          "width": 2
         },
         "mode": "lines",
         "opacity": 0.5,
         "text": [
          "Belgium to Slovenia",
          "Belgium to Slovenia",
          "Belgium to Slovenia",
          "Belgium to Slovenia",
          "Belgium to Slovenia",
          "Belgium to Slovenia",
          "Belgium to Slovenia",
          "Belgium to Slovenia",
          "Belgium to Slovenia"
         ],
         "type": "scatter",
         "x": [
          -0.5998863640848382,
          0.45626682673132263,
          null,
          0.45626682673132263,
          0.42366169777247786,
          null,
          0.45626682673132263,
          0.4164443300363211,
          null
         ],
         "y": [
          0.003299210664350797,
          -0.38948060243995886,
          null,
          -0.38948060243995886,
          -0.3663093489940103,
          null,
          -0.38948060243995886,
          -0.38571627279766213,
          null
         ]
        },
        {
         "hoverinfo": "text",
         "line": {
          "color": "white",
          "width": 2
         },
         "mode": "lines",
         "opacity": 0.5,
         "text": [
          "Belgium to Hungary",
          "Belgium to Hungary",
          "Belgium to Hungary",
          "Belgium to Hungary",
          "Belgium to Hungary",
          "Belgium to Hungary",
          "Belgium to Hungary",
          "Belgium to Hungary",
          "Belgium to Hungary"
         ],
         "type": "scatter",
         "x": [
          -0.6009753224928899,
          0.3809803900797887,
          null,
          0.3809803900797887,
          0.34135047889807396,
          null,
          0.3809803900797887,
          0.3493741949047573,
          null
         ],
         "y": [
          0.05528540297763222,
          0.4680616693256629,
          null,
          0.4680616693256629,
          0.46263304000955385,
          null,
          0.4680616693256629,
          0.44354538283932615,
          null
         ]
        },
        {
         "hoverinfo": "text",
         "line": {
          "color": "white",
          "width": 2
         },
         "mode": "lines",
         "opacity": 0.5,
         "text": [
          "Belgium to Germany",
          "Belgium to Germany",
          "Belgium to Germany",
          "Belgium to Germany",
          "Belgium to Germany",
          "Belgium to Germany",
          "Belgium to Germany",
          "Belgium to Germany",
          "Belgium to Germany"
         ],
         "type": "scatter",
         "x": [
          -0.5990512830482708,
          -0.38900591309201843,
          null,
          -0.38900591309201843,
          -0.4224159801297435,
          null,
          -0.38900591309201843,
          -0.4289373234378346,
          null
         ],
         "y": [
          0.005673317108531778,
          -0.06402923712529737,
          null,
          -0.06402923712529737,
          -0.042034350027287164,
          null,
          -0.06402923712529737,
          -0.06168613966391249,
          null
         ]
        },
        {
         "hoverinfo": "text",
         "line": {
          "color": "white",
          "width": 2
         },
         "mode": "lines",
         "opacity": 0.5,
         "text": [
          "Belgium to United Kingdom",
          "Belgium to United Kingdom",
          "Belgium to United Kingdom",
          "Belgium to United Kingdom",
          "Belgium to United Kingdom",
          "Belgium to United Kingdom",
          "Belgium to United Kingdom",
          "Belgium to United Kingdom",
          "Belgium to United Kingdom"
         ],
         "type": "scatter",
         "x": [
          -0.608088246160854,
          0.20034997778545724,
          null,
          0.20034997778545724,
          0.174531659543763,
          null,
          0.20034997778545724,
          0.16271473112921922,
          null
         ],
         "y": [
          -0.012389541598430753,
          -0.5742688542283858,
          null,
          -0.5742688542283858,
          -0.5437169998765065,
          null,
          -0.5742688542283858,
          -0.5607193313477833,
          null
         ]
        },
        {
         "hoverinfo": "text",
         "line": {
          "color": "white",
          "width": 2
         },
         "mode": "lines",
         "opacity": 0.5,
         "text": [
          "Belgium to Poland",
          "Belgium to Poland",
          "Belgium to Poland",
          "Belgium to Poland",
          "Belgium to Poland",
          "Belgium to Poland",
          "Belgium to Poland",
          "Belgium to Poland",
          "Belgium to Poland"
         ],
         "type": "scatter",
         "x": [
          -0.6135973071006106,
          0.04490393002303103,
          null,
          0.04490393002303103,
          0.023118359092144304,
          null,
          0.04490393002303103,
          0.00926365263162926,
          null
         ],
         "y": [
          -0.019340245236148447,
          -0.6122575493562321,
          null,
          -0.6122575493562321,
          -0.57871071029762,
          null,
          -0.6122575493562321,
          -0.5940979199802493,
          null
         ]
        },
        {
         "hoverinfo": "text",
         "line": {
          "color": "white",
          "width": 2
         },
         "mode": "lines",
         "opacity": 0.5,
         "text": [
          "Belgium to Serbia",
          "Belgium to Serbia",
          "Belgium to Serbia",
          "Belgium to Serbia",
          "Belgium to Serbia",
          "Belgium to Serbia",
          "Belgium to Serbia",
          "Belgium to Serbia",
          "Belgium to Serbia"
         ],
         "type": "scatter",
         "x": [
          -0.6456690387225904,
          -0.5906557484173022,
          null,
          -0.5906557484173022,
          -0.6117340381169413,
          null,
          -0.5906557484173022,
          -0.5919121742122264,
          null
         ],
         "y": [
          0.09552780015578287,
          0.27774064766058904,
          null,
          0.27774064766058904,
          0.2437448305540067,
          null,
          0.27774064766058904,
          0.23776026157405958,
          null
         ]
        },
        {
         "hoverinfo": "text",
         "line": {
          "color": "white",
          "width": 2
         },
         "mode": "lines",
         "opacity": 0.5,
         "text": [
          "Portugal to United Kingdom",
          "Portugal to United Kingdom",
          "Portugal to United Kingdom",
          "Portugal to United Kingdom",
          "Portugal to United Kingdom",
          "Portugal to United Kingdom",
          "Portugal to United Kingdom",
          "Portugal to United Kingdom",
          "Portugal to United Kingdom"
         ],
         "type": "scatter",
         "x": [
          -0.5895102906842792,
          0.19575551039176825,
          null,
          0.19575551039176825,
          0.16631161050871882,
          null,
          0.19575551039176825,
          0.1567188199064532,
          null
         ],
         "y": [
          -0.1713281443592728,
          -0.5818552205088913,
          null,
          -0.5818552205088913,
          -0.5547801701086741,
          null,
          -0.5818552205088913,
          -0.5731294889950839,
          null
         ]
        },
        {
         "hoverinfo": "text",
         "line": {
          "color": "white",
          "width": 2
         },
         "mode": "lines",
         "opacity": 0.5,
         "text": [
          "Portugal to Netherlands",
          "Portugal to Netherlands",
          "Portugal to Netherlands",
          "Portugal to Netherlands",
          "Portugal to Netherlands",
          "Portugal to Netherlands",
          "Portugal to Netherlands",
          "Portugal to Netherlands",
          "Portugal to Netherlands"
         ],
         "type": "scatter",
         "x": [
          -0.6206960468146429,
          -0.5360657186653986,
          null,
          -0.5360657186653986,
          -0.5439720515418109,
          null,
          -0.5360657186653986,
          -0.5625182835043163,
          null
         ],
         "y": [
          -0.20186749724898345,
          -0.37235411377396577,
          null,
          -0.37235411377396577,
          -0.3331431543396288,
          null,
          -0.37235411377396577,
          -0.34234959323527503,
          null
         ]
        },
        {
         "hoverinfo": "text",
         "line": {
          "color": "white",
          "width": 2
         },
         "mode": "lines",
         "opacity": 0.5,
         "text": [
          "Portugal to France",
          "Portugal to France",
          "Portugal to France",
          "Portugal to France",
          "Portugal to France",
          "Portugal to France",
          "Portugal to France",
          "Portugal to France",
          "Portugal to France"
         ],
         "type": "scatter",
         "x": [
          -0.5846240764782583,
          -0.23414098263524416,
          null,
          -0.23414098263524416,
          -0.2679967353046552,
          null,
          -0.23414098263524416,
          -0.27411213090608755,
          null
         ],
         "y": [
          -0.1594670052816106,
          -0.2678160135458278,
          null,
          -0.2678160135458278,
          -0.24651360075604645,
          null,
          -0.2678160135458278,
          -0.2662954592426801,
          null
         ]
        },
        {
         "hoverinfo": "text",
         "line": {
          "color": "white",
          "width": 2
         },
         "mode": "lines",
         "opacity": 0.5,
         "text": [
          "Austria to Switzerland",
          "Austria to Switzerland",
          "Austria to Switzerland",
          "Austria to Switzerland",
          "Austria to Switzerland",
          "Austria to Switzerland",
          "Austria to Switzerland",
          "Austria to Switzerland",
          "Austria to Switzerland"
         ],
         "type": "scatter",
         "x": [
          -0.5391474778870051,
          -0.12767923221793714,
          null,
          -0.12767923221793714,
          -0.15349757076624893,
          null,
          -0.12767923221793714,
          -0.16531449862574088,
          null
         ],
         "y": [
          -0.33673022148349097,
          -0.6227080130841512,
          null,
          -0.6227080130841512,
          -0.5921561544012339,
          null,
          -0.6227080130841512,
          -0.6091584966060685,
          null
         ]
        },
        {
         "hoverinfo": "text",
         "line": {
          "color": "white",
          "width": 2
         },
         "mode": "lines",
         "opacity": 0.5,
         "text": [
          "Austria to Hungary",
          "Austria to Hungary",
          "Austria to Hungary",
          "Austria to Hungary",
          "Austria to Hungary",
          "Austria to Hungary",
          "Austria to Hungary",
          "Austria to Hungary",
          "Austria to Hungary"
         ],
         "type": "scatter",
         "x": [
          -0.5408862291295511,
          0.389832055421589,
          null,
          0.389832055421589,
          0.3527972331503775,
          null,
          0.389832055421589,
          0.365315779501974,
          null
         ],
         "y": [
          -0.2537237612880419,
          0.4527301399387072,
          null,
          0.4527301399387072,
          0.43761649795491536,
          null,
          0.4527301399387072,
          0.42112393090143463,
          null
         ]
        },
        {
         "hoverinfo": "text",
         "line": {
          "color": "white",
          "width": 2
         },
         "mode": "lines",
         "opacity": 0.5,
         "text": [
          "Austria to Germany",
          "Austria to Germany",
          "Austria to Germany",
          "Austria to Germany",
          "Austria to Germany",
          "Austria to Germany",
          "Austria to Germany",
          "Austria to Germany",
          "Austria to Germany"
         ],
         "type": "scatter",
         "x": [
          -0.5410130215357727,
          -0.3781034158993775,
          null,
          -0.3781034158993775,
          -0.41509329278793833,
          null,
          -0.3781034158993775,
          -0.40252591431045665,
          null
         ],
         "y": [
          -0.25355723150815507,
          -0.12913938216124035,
          null,
          -0.12913938216124035,
          -0.1443627314757872,
          null,
          -0.12913938216124035,
          -0.16081812784260274,
          null
         ]
        },
        {
         "hoverinfo": "text",
         "line": {
          "color": "white",
          "width": 2
         },
         "mode": "lines",
         "opacity": 0.5,
         "text": [
          "Austria to Slovakia",
          "Austria to Slovakia",
          "Austria to Slovakia",
          "Austria to Slovakia",
          "Austria to Slovakia",
          "Austria to Slovakia",
          "Austria to Slovakia",
          "Austria to Slovakia",
          "Austria to Slovakia"
         ],
         "type": "scatter",
         "x": [
          -0.5283821354826113,
          0.33430702790814837,
          null,
          0.33430702790814837,
          0.2990548607923198,
          null,
          0.33430702790814837,
          0.29432673669454174,
          null
         ],
         "y": [
          -0.31255085947090094,
          -0.5148927104277045,
          null,
          -0.5148927104277045,
          -0.49599067252201506,
          null,
          -0.5148927104277045,
          -0.5161491489759953,
          null
         ]
        },
        {
         "hoverinfo": "text",
         "line": {
          "color": "white",
          "width": 2
         },
         "mode": "lines",
         "opacity": 0.5,
         "text": [
          "Austria to Czech Republic",
          "Austria to Czech Republic",
          "Austria to Czech Republic",
          "Austria to Czech Republic",
          "Austria to Czech Republic",
          "Austria to Czech Republic",
          "Austria to Czech Republic",
          "Austria to Czech Republic",
          "Austria to Czech Republic"
         ],
         "type": "scatter",
         "x": [
          -0.5359781079696286,
          0.4941177659438718,
          null,
          0.4941177659438718,
          0.4554807342394581,
          null,
          0.4941177659438718,
          0.4658335003869519,
          null
         ],
         "y": [
          -0.26111107477956147,
          0.33361526737027497,
          null,
          0.33361526737027497,
          0.3232624965184207,
          null,
          0.33361526737027497,
          0.3053309889608033,
          null
         ]
        },
        {
         "hoverinfo": "text",
         "line": {
          "color": "white",
          "width": 2
         },
         "mode": "lines",
         "opacity": 0.5,
         "text": [
          "Austria to Croatia",
          "Austria to Croatia",
          "Austria to Croatia",
          "Austria to Croatia",
          "Austria to Croatia",
          "Austria to Croatia",
          "Austria to Croatia",
          "Austria to Croatia",
          "Austria to Croatia"
         ],
         "type": "scatter",
         "x": [
          -0.5605554954346422,
          -0.05054728302991354,
          null,
          -0.05054728302991354,
          -0.07941769569770558,
          null,
          -0.05054728302991354,
          -0.06170692428811043,
          null
         ],
         "y": [
          -0.2360134795264154,
          0.6061103716448694,
          null,
          0.6061103716448694,
          0.5784246325851672,
          null,
          0.6061103716448694,
          0.5676986119627242,
          null
         ]
        },
        {
         "hoverinfo": "text",
         "line": {
          "color": "white",
          "width": 2
         },
         "mode": "lines",
         "opacity": 0.5,
         "text": [
          "Austria to Slovenia",
          "Austria to Slovenia",
          "Austria to Slovenia",
          "Austria to Slovenia",
          "Austria to Slovenia",
          "Austria to Slovenia",
          "Austria to Slovenia",
          "Austria to Slovenia",
          "Austria to Slovenia"
         ],
         "type": "scatter",
         "x": [
          -0.5269030367936487,
          0.4522242581452723,
          null,
          0.4522242581452723,
          0.4148809937692297,
          null,
          0.4522242581452723,
          0.41271667954585256,
          null
         ],
         "y": [
          -0.303805897371346,
          -0.4067161880568919,
          null,
          -0.4067161880568919,
          -0.39238146207783503,
          null,
          -0.4067161880568919,
          -0.4129735833907612,
          null
         ]
        },
        {
         "hoverinfo": "text",
         "line": {
          "color": "white",
          "width": 2
         },
         "mode": "lines",
         "opacity": 0.5,
         "text": [
          "Italy to Spain",
          "Italy to Spain",
          "Italy to Spain",
          "Italy to Spain",
          "Italy to Spain",
          "Italy to Spain",
          "Italy to Spain",
          "Italy to Spain",
          "Italy to Spain"
         ],
         "type": "scatter",
         "x": [
          0.23264454289116923,
          0.14230359361729558,
          null,
          0.14230359361729558,
          0.17925875952399478,
          null,
          0.14230359361729558,
          0.16665405917284914,
          null
         ],
         "y": [
          -0.20966049821628732,
          -0.27898152379737695,
          null,
          -0.27898152379737695,
          -0.26367422995594386,
          null,
          -0.27898152379737695,
          -0.2472474355141532,
          null
         ]
        },
        {
         "hoverinfo": "text",
         "line": {
          "color": "white",
          "width": 2
         },
         "mode": "lines",
         "opacity": 0.5,
         "text": [
          "Italy to Germany",
          "Italy to Germany",
          "Italy to Germany",
          "Italy to Germany",
          "Italy to Germany",
          "Italy to Germany",
          "Italy to Germany",
          "Italy to Germany",
          "Italy to Germany"
         ],
         "type": "scatter",
         "x": [
          0.21865433680352916,
          -0.25195449816522353,
          null,
          -0.25195449816522353,
          -0.21499939661674233,
          null,
          -0.25195449816522353,
          -0.21229678307185035,
          null
         ],
         "y": [
          -0.1574483134100831,
          -0.09549144727488393,
          null,
          -0.09549144727488393,
          -0.1107987639807936,
          null,
          -0.09549144727488393,
          -0.09027042163173504,
          null
         ]
        },
        {
         "hoverinfo": "text",
         "line": {
          "color": "white",
          "width": 2
         },
         "mode": "lines",
         "opacity": 0.5,
         "text": [
          "Italy to Morocco",
          "Italy to Morocco",
          "Italy to Morocco",
          "Italy to Morocco",
          "Italy to Morocco",
          "Italy to Morocco",
          "Italy to Morocco",
          "Italy to Morocco",
          "Italy to Morocco"
         ],
         "type": "scatter",
         "x": [
          0.21811902411420692,
          -0.9043717373176371,
          null,
          -0.9043717373176371,
          -0.8653151524097197,
          null,
          -0.9043717373176371,
          -0.8662294948498551,
          null
         ],
         "y": [
          -0.16978548579432035,
          -0.21940235681317782,
          null,
          -0.21940235681317782,
          -0.22803885231810084,
          null,
          -0.21940235681317782,
          -0.20735348886615257,
          null
         ]
        },
        {
         "hoverinfo": "text",
         "line": {
          "color": "white",
          "width": 2
         },
         "mode": "lines",
         "opacity": 0.5,
         "text": [
          "Italy to Romania",
          "Italy to Romania",
          "Italy to Romania",
          "Italy to Romania",
          "Italy to Romania",
          "Italy to Romania",
          "Italy to Romania",
          "Italy to Romania",
          "Italy to Romania"
         ],
         "type": "scatter",
         "x": [
          0.2349029634201433,
          -0.4126701507770921,
          null,
          -0.4126701507770921,
          -0.3899646700904517,
          null,
          -0.4126701507770921,
          -0.37654106076090027,
          null
         ],
         "y": [
          -0.1208797812485304,
          0.43052813112970256,
          null,
          0.43052813112970256,
          0.3975969972568539,
          null,
          0.43052813112970256,
          0.41336167296370957,
          null
         ]
        },
        {
         "hoverinfo": "text",
         "line": {
          "color": "white",
          "width": 2
         },
         "mode": "lines",
         "opacity": 0.5,
         "text": [
          "Italy to Slovenia",
          "Italy to Slovenia",
          "Italy to Slovenia",
          "Italy to Slovenia",
          "Italy to Slovenia",
          "Italy to Slovenia",
          "Italy to Slovenia",
          "Italy to Slovenia",
          "Italy to Slovenia"
         ],
         "type": "scatter",
         "x": [
          0.3371790651100776,
          0.47395843231500173,
          null,
          0.47395843231500173,
          0.4549482341630152,
          null,
          0.47395843231500173,
          0.43989810627797893,
          null
         ],
         "y": [
          -0.2180015035369975,
          -0.362763728906812,
          null,
          -0.362763728906812,
          -0.327569705893959,
          null,
          -0.362763728906812,
          -0.3417899099923004,
          null
         ]
        },
        {
         "hoverinfo": "text",
         "line": {
          "color": "white",
          "width": 2
         },
         "mode": "lines",
         "opacity": 0.5,
         "text": [
          "Italy to United Kingdom",
          "Italy to United Kingdom",
          "Italy to United Kingdom",
          "Italy to United Kingdom",
          "Italy to United Kingdom",
          "Italy to United Kingdom",
          "Italy to United Kingdom",
          "Italy to United Kingdom",
          "Italy to United Kingdom"
         ],
         "type": "scatter",
         "x": [
          0.2839034729556715,
          0.26311529344752677,
          null,
          0.26311529344752677,
          0.2760547242341902,
          null,
          0.26311529344752677,
          0.2553967049801793,
          null
         ],
         "y": [
          -0.23713035248825176,
          -0.5441118840067662,
          null,
          -0.5441118840067662,
          -0.5062629555285494,
          null,
          -0.5441118840067662,
          -0.5048640350452784,
          null
         ]
        },
        {
         "hoverinfo": "text",
         "line": {
          "color": "white",
          "width": 2
         },
         "mode": "lines",
         "opacity": 0.5,
         "text": [
          "Italy to Turkey",
          "Italy to Turkey",
          "Italy to Turkey",
          "Italy to Turkey",
          "Italy to Turkey",
          "Italy to Turkey",
          "Italy to Turkey",
          "Italy to Turkey",
          "Italy to Turkey"
         ],
         "type": "scatter",
         "x": [
          0.2978935434275465,
          0.3127568767613573,
          null,
          0.3127568767613573,
          0.2974493503938196,
          null,
          0.3127568767613573,
          0.3179779936698626,
          null
         ],
         "y": [
          -0.09664593812612199,
          0.01625226613668107,
          null,
          0.01625226613668107,
          -0.020703381087105135,
          null,
          0.01625226613668107,
          -0.023406026356182497,
          null
         ]
        },
        {
         "hoverinfo": "text",
         "line": {
          "color": "white",
          "width": 2
         },
         "mode": "lines",
         "opacity": 0.5,
         "text": [
          "Italy to Albania",
          "Italy to Albania",
          "Italy to Albania",
          "Italy to Albania",
          "Italy to Albania",
          "Italy to Albania",
          "Italy to Albania",
          "Italy to Albania",
          "Italy to Albania"
         ],
         "type": "scatter",
         "x": [
          0.22371741149226032,
          -0.7168736657837947,
          null,
          -0.7168736657837947,
          -0.6772736688720746,
          null,
          -0.7168736657837947,
          -0.6854004256766857,
          null
         ],
         "y": [
          -0.19438649868780544,
          -0.5957701488751752,
          null,
          -0.5957701488751752,
          -0.5901274224587235,
          null,
          -0.5957701488751752,
          -0.5710834059960624,
          null
         ]
        },
        {
         "hoverinfo": "text",
         "line": {
          "color": "white",
          "width": 2
         },
         "mode": "lines",
         "opacity": 0.5,
         "text": [
          "Italy to Algeria",
          "Italy to Algeria",
          "Italy to Algeria",
          "Italy to Algeria",
          "Italy to Algeria",
          "Italy to Algeria",
          "Italy to Algeria",
          "Italy to Algeria",
          "Italy to Algeria"
         ],
         "type": "scatter",
         "x": [
          0.29055684742356225,
          0.30698242846106605,
          null,
          0.30698242846106605,
          0.29560376826268003,
          null,
          0.30698242846106605,
          0.31630218989501835,
          null
         ],
         "y": [
          -0.09606680374314035,
          0.520202384402053,
          null,
          0.520202384402053,
          0.4818544439484821,
          null,
          0.520202384402053,
          0.4813027636872546,
          null
         ]
        },
        {
         "hoverinfo": "text",
         "line": {
          "color": "white",
          "width": 2
         },
         "mode": "lines",
         "opacity": 0.5,
         "text": [
          "Italy to United States",
          "Italy to United States",
          "Italy to United States",
          "Italy to United States",
          "Italy to United States",
          "Italy to United States",
          "Italy to United States",
          "Italy to United States",
          "Italy to United States"
         ],
         "type": "scatter",
         "x": [
          0.22751208941922269,
          -0.22751208941922269,
          null,
          -0.22751208941922269,
          -0.19922784935447543,
          null,
          -0.22751208941922269,
          -0.18887509097971278,
          null
         ],
         "y": [
          -0.1313542240540031,
          0.13135417935051952,
          null,
          0.13135417935051952,
          0.10306992331711715,
          null,
          0.13135417935051952,
          0.12100141513082342,
          null
         ]
        },
        {
         "hoverinfo": "text",
         "line": {
          "color": "white",
          "width": 2
         },
         "mode": "lines",
         "opacity": 0.5,
         "text": [
          "Italy to Czech Republic",
          "Italy to Czech Republic",
          "Italy to Czech Republic",
          "Italy to Czech Republic",
          "Italy to Czech Republic",
          "Italy to Czech Republic",
          "Italy to Czech Republic",
          "Italy to Czech Republic",
          "Italy to Czech Republic"
         ],
         "type": "scatter",
         "x": [
          0.32014701006529006,
          0.523808923982409,
          null,
          0.523808923982409,
          0.4973234654386924,
          null,
          0.523808923982409,
          0.5158595293815872,
          null
         ],
         "y": [
          -0.10344164639661843,
          0.30570269197176037,
          null,
          0.30570269197176037,
          0.2757273213139276,
          null,
          0.30570269197176037,
          0.2665005302223642,
          null
         ]
        },
        {
         "hoverinfo": "text",
         "line": {
          "color": "white",
          "width": 2
         },
         "mode": "lines",
         "opacity": 0.5,
         "text": [
          "Italy to Switzerland",
          "Italy to Switzerland",
          "Italy to Switzerland",
          "Italy to Switzerland",
          "Italy to Switzerland",
          "Italy to Switzerland",
          "Italy to Switzerland",
          "Italy to Switzerland",
          "Italy to Switzerland"
         ],
         "type": "scatter",
         "x": [
          0.24733341198425135,
          -0.02834384601573787,
          null,
          -0.02834384601573787,
          0.0026667558472380608,
          null,
          -0.02834384601573787,
          -0.014120583461896943,
          null
         ],
         "y": [
          -0.2239271278925231,
          -0.6057542536906907,
          null,
          -0.6057542536906907,
          -0.5804888407984081,
          null,
          -0.6057542536906907,
          -0.5683684633573832,
          null
         ]
        },
        {
         "hoverinfo": "text",
         "line": {
          "color": "white",
          "width": 2
         },
         "mode": "lines",
         "opacity": 0.5,
         "text": [
          "Italy to France",
          "Italy to France",
          "Italy to France",
          "Italy to France",
          "Italy to France",
          "Italy to France",
          "Italy to France",
          "Italy to France",
          "Italy to France"
         ],
         "type": "scatter",
         "x": [
          0.22045661673685063,
          -0.0984481291546439,
          null,
          -0.0984481291546439,
          -0.05844810742960444,
          null,
          -0.0984481291546439,
          -0.06380708702986738,
          null
         ],
         "y": [
          -0.18494582183859856,
          -0.27039606861569376,
          null,
          -0.27039606861569376,
          -0.27039608293361955,
          null,
          -0.27039606861569376,
          -0.2503960701528615,
          null
         ]
        },
        {
         "hoverinfo": "text",
         "line": {
          "color": "white",
          "width": 2
         },
         "mode": "lines",
         "opacity": 0.5,
         "text": [
          "Italy to Netherlands",
          "Italy to Netherlands",
          "Italy to Netherlands",
          "Italy to Netherlands",
          "Italy to Netherlands",
          "Italy to Netherlands",
          "Italy to Netherlands",
          "Italy to Netherlands",
          "Italy to Netherlands"
         ],
         "type": "scatter",
         "x": [
          0.22178908163086283,
          -0.43777730041519514,
          null,
          -0.43777730041519514,
          -0.39786189044946507,
          null,
          -0.43777730041519514,
          -0.4045095902350804,
          null
         ],
         "y": [
          -0.18934154627630465,
          -0.4129389363734985,
          null,
          -0.4129389363734985,
          -0.41033883866814236,
          null,
          -0.4129389363734985,
          -0.3907294807254734,
          null
         ]
        },
        {
         "hoverinfo": "text",
         "line": {
          "color": "white",
          "width": 2
         },
         "mode": "lines",
         "opacity": 0.5,
         "text": [
          "Italy to Lebanon",
          "Italy to Lebanon",
          "Italy to Lebanon",
          "Italy to Lebanon",
          "Italy to Lebanon",
          "Italy to Lebanon",
          "Italy to Lebanon",
          "Italy to Lebanon",
          "Italy to Lebanon"
         ],
         "type": "scatter",
         "x": [
          0.26555767129047597,
          0.02311747004800942,
          null,
          0.02311747004800942,
          0.04554683455515769,
          null,
          0.02311747004800942,
          0.025981967439936953,
          null
         ],
         "y": [
          -0.2334010833737189,
          -0.9332656478646463,
          null,
          -0.9332656478646463,
          -0.9001458437406384,
          null,
          -0.9332656478646463,
          -0.8933683738713167,
          null
         ]
        },
        {
         "hoverinfo": "text",
         "line": {
          "color": "white",
          "width": 2
         },
         "mode": "lines",
         "opacity": 0.5,
         "text": [
          "Italy to Serbia",
          "Italy to Serbia",
          "Italy to Serbia",
          "Italy to Serbia",
          "Italy to Serbia",
          "Italy to Serbia",
          "Italy to Serbia",
          "Italy to Serbia",
          "Italy to Serbia"
         ],
         "type": "scatter",
         "x": [
          0.22801109208771408,
          -0.5095788444490117,
          null,
          -0.5095788444490117,
          -0.4816922613851561,
          null,
          -0.5095788444490117,
          -0.47109014661195414,
          null
         ],
         "y": [
          -0.13050369485695848,
          0.309188302005129,
          null,
          0.309188302005129,
          0.28051188504710156,
          null,
          0.309188302005129,
          0.29829708796189014,
          null
         ]
        },
        {
         "hoverinfo": "text",
         "line": {
          "color": "white",
          "width": 2
         },
         "mode": "lines",
         "opacity": 0.5,
         "text": [
          "Italy to Japan",
          "Italy to Japan",
          "Italy to Japan",
          "Italy to Japan",
          "Italy to Japan",
          "Italy to Japan",
          "Italy to Japan",
          "Italy to Japan",
          "Italy to Japan"
         ],
         "type": "scatter",
         "x": [
          0.24568135509851333,
          -0.043279284933832846,
          null,
          -0.043279284933832846,
          -0.02797196809926325,
          null,
          -0.043279284933832846,
          -0.01154518553544015,
          null
         ],
         "y": [
          -0.11063615034593657,
          0.26594470988287044,
          null,
          0.26594470988287044,
          0.228989561571114,
          null,
          0.26594470988287044,
          0.24159427106155254,
          null
         ]
        },
        {
         "hoverinfo": "text",
         "line": {
          "color": "white",
          "width": 2
         },
         "mode": "lines",
         "opacity": 0.5,
         "text": [
          "Italy to Bosnia and Herzegovina",
          "Italy to Bosnia and Herzegovina",
          "Italy to Bosnia and Herzegovina",
          "Italy to Bosnia and Herzegovina",
          "Italy to Bosnia and Herzegovina",
          "Italy to Bosnia and Herzegovina",
          "Italy to Bosnia and Herzegovina",
          "Italy to Bosnia and Herzegovina",
          "Italy to Bosnia and Herzegovina"
         ],
         "type": "scatter",
         "x": [
          0.33543294120045897,
          0.5828264410474658,
          null,
          0.5828264410474658,
          0.5494875831932776,
          null,
          0.5828264410474658,
          0.5650054101230075,
          null
         ],
         "y": [
          -0.11373661068394816,
          0.16631429997399486,
          null,
          0.16631429997399486,
          0.1442117661531407,
          null,
          0.16631429997399486,
          0.13050351527003634,
          null
         ]
        },
        {
         "hoverinfo": "text",
         "line": {
          "color": "white",
          "width": 2
         },
         "mode": "lines",
         "opacity": 0.5,
         "text": [
          "Italy to The former Yugoslav Republic of Macedonia",
          "Italy to The former Yugoslav Republic of Macedonia",
          "Italy to The former Yugoslav Republic of Macedonia",
          "Italy to The former Yugoslav Republic of Macedonia",
          "Italy to The former Yugoslav Republic of Macedonia",
          "Italy to The former Yugoslav Republic of Macedonia",
          "Italy to The former Yugoslav Republic of Macedonia",
          "Italy to The former Yugoslav Republic of Macedonia",
          "Italy to The former Yugoslav Republic of Macedonia"
         ],
         "type": "scatter",
         "x": [
          0.35581873846700496,
          0.5418867568905085,
          null,
          0.5418867568905085,
          0.5083645242597035,
          null,
          0.5418867568905085,
          0.5019438619810939,
          null
         ],
         "y": [
          -0.18856710539690766,
          -0.2492573077834436,
          null,
          -0.2492573077834436,
          -0.22743372806431197,
          null,
          -0.2492573077834436,
          -0.24711864966056327,
          null
         ]
        },
        {
         "hoverinfo": "text",
         "line": {
          "color": "white",
          "width": 2
         },
         "mode": "lines",
         "opacity": 0.5,
         "text": [
          "Italy to Austria",
          "Italy to Austria",
          "Italy to Austria",
          "Italy to Austria",
          "Italy to Austria",
          "Italy to Austria",
          "Italy to Austria",
          "Italy to Austria",
          "Italy to Austria"
         ],
         "type": "scatter",
         "x": [
          0.2187958575168655,
          -0.5272618747631118,
          null,
          -0.5272618747631118,
          -0.4875322954761111,
          null,
          -0.5272618747631118,
          -0.49053327248397843,
          null
         ],
         "y": [
          -0.1769028430090324,
          -0.2861874724521264,
          null,
          -0.2861874724521264,
          -0.29083102712197184,
          null,
          -0.2861874724521264,
          -0.2703441191165741,
          null
         ]
        },
        {
         "hoverinfo": "text",
         "line": {
          "color": "white",
          "width": 2
         },
         "mode": "lines",
         "opacity": 0.5,
         "text": [
          "Italy to Portugal",
          "Italy to Portugal",
          "Italy to Portugal",
          "Italy to Portugal",
          "Italy to Portugal",
          "Italy to Portugal",
          "Italy to Portugal",
          "Italy to Portugal",
          "Italy to Portugal"
         ],
         "type": "scatter",
         "x": [
          0.21808152069531234,
          -0.5815048085638121,
          null,
          -0.5815048085638121,
          -0.5431937576882622,
          null,
          -0.5815048085638121,
          -0.5425764834745841,
          null
         ],
         "y": [
          -0.1645612543022204,
          -0.140713336547656,
          null,
          -0.140713336547656,
          -0.15221330011830342,
          null,
          -0.140713336547656,
          -0.13151707170465723,
          null
         ]
        },
        {
         "hoverinfo": "text",
         "line": {
          "color": "white",
          "width": 2
         },
         "mode": "lines",
         "opacity": 0.5,
         "text": [
          "Italy to Denmark",
          "Italy to Denmark",
          "Italy to Denmark",
          "Italy to Denmark",
          "Italy to Denmark",
          "Italy to Denmark",
          "Italy to Denmark",
          "Italy to Denmark",
          "Italy to Denmark"
         ],
         "type": "scatter",
         "x": [
          0.3494443948086841,
          0.603559309739198,
          null,
          0.603559309739198,
          0.5650389845408066,
          null,
          0.603559309739198,
          0.5755891854330144,
          null
         ],
         "y": [
          -0.13068080331726784,
          0.01979922886534448,
          null,
          0.01979922886534448,
          0.009020317110022071,
          null,
          0.01979922886534448,
          -0.008795745139111164,
          null
         ]
        },
        {
         "hoverinfo": "text",
         "line": {
          "color": "white",
          "width": 2
         },
         "mode": "lines",
         "opacity": 0.5,
         "text": [
          "Italy to Luxembourg",
          "Italy to Luxembourg",
          "Italy to Luxembourg",
          "Italy to Luxembourg",
          "Italy to Luxembourg",
          "Italy to Luxembourg",
          "Italy to Luxembourg",
          "Italy to Luxembourg",
          "Italy to Luxembourg"
         ],
         "type": "scatter",
         "x": [
          0.23563873963882986,
          -0.17934495406677786,
          null,
          -0.17934495406677786,
          -0.14349373131947035,
          null,
          -0.17934495406677786,
          -0.15716662457356184,
          null
         ],
         "y": [
          -0.21330396941407792,
          -0.5782174457003249,
          null,
          -0.5782174457003249,
          -0.5604779653749513,
          null,
          -0.5782174457003249,
          -0.5449289937149633,
          null
         ]
        },
        {
         "hoverinfo": "text",
         "line": {
          "color": "white",
          "width": 2
         },
         "mode": "lines",
         "opacity": 0.5,
         "text": [
          "Italy to Greece",
          "Italy to Greece",
          "Italy to Greece",
          "Italy to Greece",
          "Italy to Greece",
          "Italy to Greece",
          "Italy to Greece",
          "Italy to Greece",
          "Italy to Greece"
         ],
         "type": "scatter",
         "x": [
          0.2533054715077337,
          -0.14391031023663842,
          null,
          -0.14391031023663842,
          -0.13352144542778172,
          null,
          -0.14391031023663842,
          -0.11559963224169525,
          null
         ],
         "y": [
          -0.10553672285768803,
          0.580978372413848,
          null,
          0.580978372413848,
          0.5423510581058658,
          null,
          0.580978372413848,
          0.5527205693475976,
          null
         ]
        },
        {
         "hoverinfo": "text",
         "line": {
          "color": "white",
          "width": 2
         },
         "mode": "lines",
         "opacity": 0.5,
         "text": [
          "Italy to Belgium",
          "Italy to Belgium",
          "Italy to Belgium",
          "Italy to Belgium",
          "Italy to Belgium",
          "Italy to Belgium",
          "Italy to Belgium",
          "Italy to Belgium",
          "Italy to Belgium"
         ],
         "type": "scatter",
         "x": [
          0.21947271363679025,
          -0.5968794895881757,
          null,
          -0.5968794895881757,
          -0.5610881864147729,
          null,
          -0.5968794895881757,
          -0.5569533074685846,
          null
         ],
         "y": [
          -0.1525629631016968,
          0.013813341293167924,
          null,
          0.013813341293167924,
          -0.00404666738057927,
          null,
          0.013813341293167924,
          0.016241771656593847,
          null
         ]
        },
        {
         "hoverinfo": "text",
         "line": {
          "color": "white",
          "width": 2
         },
         "mode": "lines",
         "opacity": 0.5,
         "text": [
          "Italy to Tunisia",
          "Italy to Tunisia",
          "Italy to Tunisia",
          "Italy to Tunisia",
          "Italy to Tunisia",
          "Italy to Tunisia",
          "Italy to Tunisia",
          "Italy to Tunisia",
          "Italy to Tunisia"
         ],
         "type": "scatter",
         "x": [
          0.3260685949913675,
          0.7444380373366659,
          null,
          0.7444380373366659,
          0.7151984959880384,
          null,
          0.7444380373366659,
          0.7327636562650084,
          null
         ],
         "y": [
          -0.10675329904587035,
          0.5635763649228311,
          null,
          0.5635763649228311,
          0.5362807558603124,
          null,
          0.5635763649228311,
          0.5253179033886075,
          null
         ]
        },
        {
         "hoverinfo": "text",
         "line": {
          "color": "white",
          "width": 2
         },
         "mode": "lines",
         "opacity": 0.5,
         "text": [
          "Italy to Australia",
          "Italy to Australia",
          "Italy to Australia",
          "Italy to Australia",
          "Italy to Australia",
          "Italy to Australia",
          "Italy to Australia",
          "Italy to Australia",
          "Italy to Australia"
         ],
         "type": "scatter",
         "x": [
          0.2186334832288701,
          -0.9299583538152654,
          null,
          -0.9299583538152654,
          -0.8929683721379489,
          null,
          -0.9299583538152654,
          -0.8903126094555068,
          null
         ],
         "y": [
          -0.15760812070846336,
          -0.009058697952678375,
          null,
          -0.009058697952678375,
          -0.02428165903604161,
          null,
          -0.009058697952678375,
          -0.003747178133034602,
          null
         ]
        },
        {
         "hoverinfo": "text",
         "line": {
          "color": "white",
          "width": 2
         },
         "mode": "lines",
         "opacity": 0.5,
         "text": [
          "Italy to Argentina",
          "Italy to Argentina",
          "Italy to Argentina",
          "Italy to Argentina",
          "Italy to Argentina",
          "Italy to Argentina",
          "Italy to Argentina",
          "Italy to Argentina",
          "Italy to Argentina"
         ],
         "type": "scatter",
         "x": [
          0.35906736337607165,
          0.9045356682592127,
          null,
          0.9045356682592127,
          0.8668657085255715,
          null,
          0.9045356682592127,
          0.8651860390687994,
          null
         ],
         "y": [
          -0.17239595655888817,
          -0.2167916327288697,
          null,
          -0.2167916327288697,
          -0.2033386585257835,
          null,
          -0.2167916327288697,
          -0.22397599517936093,
          null
         ]
        },
        {
         "hoverinfo": "text",
         "line": {
          "color": "white",
          "width": 2
         },
         "mode": "lines",
         "opacity": 0.5,
         "text": [
          "Italy to South Africa",
          "Italy to South Africa",
          "Italy to South Africa",
          "Italy to South Africa",
          "Italy to South Africa",
          "Italy to South Africa",
          "Italy to South Africa",
          "Italy to South Africa",
          "Italy to South Africa"
         ],
         "type": "scatter",
         "x": [
          0.2981931614483233,
          0.42436557535282415,
          null,
          0.42436557535282415,
          0.40890017978458154,
          null,
          0.42436557535282415,
          0.4294168393054065,
          null
         ],
         "y": [
          -0.09668603610616411,
          0.8309882141314098,
          null,
          0.8309882141314098,
          0.7940988353428984,
          null,
          0.8309882141314098,
          0.7913083771866107,
          null
         ]
        },
        {
         "hoverinfo": "text",
         "line": {
          "color": "white",
          "width": 2
         },
         "mode": "lines",
         "opacity": 0.5,
         "text": [
          "Italy to Cyprus",
          "Italy to Cyprus",
          "Italy to Cyprus",
          "Italy to Cyprus",
          "Italy to Cyprus",
          "Italy to Cyprus",
          "Italy to Cyprus",
          "Italy to Cyprus",
          "Italy to Cyprus"
         ],
         "type": "scatter",
         "x": [
          0.28458932564325073,
          0.2266064979069736,
          null,
          0.2266064979069736,
          0.21850633685656679,
          null,
          0.2266064979069736,
          0.23917710877826032,
          null
         ],
         "y": [
          -0.09616001643367322,
          0.9044212470216325,
          null,
          0.9044212470216325,
          0.865250134790264,
          null,
          0.9044212470216325,
          0.8664479882095726,
          null
         ]
        },
        {
         "hoverinfo": "text",
         "line": {
          "color": "white",
          "width": 2
         },
         "mode": "lines",
         "opacity": 0.5,
         "text": [
          "Italy to Georgia",
          "Italy to Georgia",
          "Italy to Georgia",
          "Italy to Georgia",
          "Italy to Georgia",
          "Italy to Georgia",
          "Italy to Georgia",
          "Italy to Georgia",
          "Italy to Georgia"
         ],
         "type": "scatter",
         "x": [
          0.28291392024807155,
          0.22828224602886021,
          null,
          0.22828224602886021,
          0.24175225985668392,
          null,
          0.22828224602886021,
          0.22111581536636532,
          null
         ],
         "y": [
          -0.23705635472045933,
          -0.9045382787395856,
          null,
          -0.9045382787395856,
          -0.8668746690861499,
          null,
          -0.9045382787395856,
          -0.8651856290675776,
          null
         ]
        },
        {
         "hoverinfo": "text",
         "line": {
          "color": "white",
          "width": 2
         },
         "mode": "lines",
         "opacity": 0.5,
         "text": [
          "Italy to Hungary",
          "Italy to Hungary",
          "Italy to Hungary",
          "Italy to Hungary",
          "Italy to Hungary",
          "Italy to Hungary",
          "Italy to Hungary",
          "Italy to Hungary",
          "Italy to Hungary"
         ],
         "type": "scatter",
         "x": [
          0.3050107180198072,
          0.42975138434568655,
          null,
          0.42975138434568655,
          0.41074257935758923,
          null,
          0.42975138434568655,
          0.43088664725392006,
          null
         ],
         "y": [
          -0.09795691265405432,
          0.426720144289148,
          null,
          0.426720144289148,
          0.3915254024421277,
          null,
          0.426720144289148,
          0.3867362012759445,
          null
         ]
        },
        {
         "hoverinfo": "text",
         "line": {
          "color": "white",
          "width": 2
         },
         "mode": "lines",
         "opacity": 0.5,
         "text": [
          "Italy to Ireland",
          "Italy to Ireland",
          "Italy to Ireland",
          "Italy to Ireland",
          "Italy to Ireland",
          "Italy to Ireland",
          "Italy to Ireland",
          "Italy to Ireland",
          "Italy to Ireland"
         ],
         "type": "scatter",
         "x": [
          0.22729211346842712,
          -0.3190924753401465,
          null,
          -0.3190924753401465,
          -0.28039135838068846,
          null,
          -0.3190924753401465,
          -0.29063160441580227,
          null
         ],
         "y": [
          -0.20159545836195314,
          -0.5125042319561545,
          null,
          -0.5125042319561545,
          -0.5023936729213961,
          null,
          -0.5125042319561545,
          -0.48439767250586246,
          null
         ]
        },
        {
         "hoverinfo": "text",
         "line": {
          "color": "white",
          "width": 2
         },
         "mode": "lines",
         "opacity": 0.5,
         "text": [
          "Italy to Poland",
          "Italy to Poland",
          "Italy to Poland",
          "Italy to Poland",
          "Italy to Poland",
          "Italy to Poland",
          "Italy to Poland",
          "Italy to Poland",
          "Italy to Poland"
         ],
         "type": "scatter",
         "x": [
          0.2631210662658108,
          0.12294259143520472,
          null,
          0.12294259143520472,
          0.14657381746830644,
          null,
          0.12294259143520472,
          0.12727121771270025,
          null
         ],
         "y": [
          -0.23250654048504021,
          -0.5936750947755418,
          null,
          -0.5936750947755418,
          -0.5614018631960563,
          null,
          -0.5936750947755418,
          -0.5539100433489383,
          null
         ]
        },
        {
         "hoverinfo": "text",
         "line": {
          "color": "white",
          "width": 2
         },
         "mode": "lines",
         "opacity": 0.5,
         "text": [
          "Italy to Slovakia",
          "Italy to Slovakia",
          "Italy to Slovakia",
          "Italy to Slovakia",
          "Italy to Slovakia",
          "Italy to Slovakia",
          "Italy to Slovakia",
          "Italy to Slovakia",
          "Italy to Slovakia"
         ],
         "type": "scatter",
         "x": [
          0.3098301654540222,
          0.3819110030449707,
          null,
          0.3819110030449707,
          0.3802150435150211,
          null,
          0.3819110030449707,
          0.36046017957423804,
          null
         ],
         "y": [
          -0.23404888818758013,
          -0.4636378287265968,
          null,
          -0.4636378287265968,
          -0.4236736698585848,
          null,
          -0.4636378287265968,
          -0.429875831670996,
          null
         ]
        },
        {
         "hoverinfo": "text",
         "line": {
          "color": "white",
          "width": 2
         },
         "mode": "lines",
         "opacity": 0.5,
         "text": [
          "Italy to Croatia",
          "Italy to Croatia",
          "Italy to Croatia",
          "Italy to Croatia",
          "Italy to Croatia",
          "Italy to Croatia",
          "Italy to Croatia",
          "Italy to Croatia",
          "Italy to Croatia"
         ],
         "type": "scatter",
         "x": [
          0.2645634805007844,
          0.010150017108115712,
          null,
          0.010150017108115712,
          0.013610111353013534,
          null,
          0.010150017108115712,
          0.03307156089823145,
          null
         ],
         "y": [
          -0.10028511471914435,
          0.6001388598220267,
          null,
          0.6001388598220267,
          0.5602888312729349,
          null,
          0.6001388598220267,
          0.567357769879427,
          null
         ]
        },
        {
         "hoverinfo": "text",
         "line": {
          "color": "white",
          "width": 2
         },
         "mode": "lines",
         "opacity": 0.5,
         "text": [
          "Italy to Republic of Moldova",
          "Italy to Republic of Moldova",
          "Italy to Republic of Moldova",
          "Italy to Republic of Moldova",
          "Italy to Republic of Moldova",
          "Italy to Republic of Moldova",
          "Italy to Republic of Moldova",
          "Italy to Republic of Moldova",
          "Italy to Republic of Moldova"
         ],
         "type": "scatter",
         "x": [
          0.23913985865891327,
          -0.38434863465607516,
          null,
          -0.38434863465607516,
          -0.3498699525060827,
          null,
          -0.38434863465607516,
          -0.36462849953299487,
          null
         ],
         "y": [
          -0.21700704884025768,
          -0.8506284724524288,
          null,
          -0.8506284724524288,
          -0.8303499134367843,
          null,
          -0.8506284724524288,
          -0.8158273841177426,
          null
         ]
        },
        {
         "hoverinfo": "text",
         "line": {
          "color": "white",
          "width": 2
         },
         "mode": "lines",
         "opacity": 0.5,
         "text": [
          "Italy to Ukraine",
          "Italy to Ukraine",
          "Italy to Ukraine",
          "Italy to Ukraine",
          "Italy to Ukraine",
          "Italy to Ukraine",
          "Italy to Ukraine",
          "Italy to Ukraine",
          "Italy to Ukraine"
         ],
         "type": "scatter",
         "x": [
          0.35010850665618976,
          0.9134945845837394,
          null,
          0.9134945845837394,
          0.8747789111224282,
          null,
          0.9134945845837394,
          0.8849931721426325,
          null
         ],
         "y": [
          -0.13182665681866507,
          0.18768064951924185,
          null,
          0.18768064951924185,
          0.1776259609172186,
          null,
          0.18768064951924185,
          0.15961519703209226,
          null
         ]
        },
        {
         "hoverinfo": "text",
         "line": {
          "color": "white",
          "width": 2
         },
         "mode": "lines",
         "opacity": 0.5,
         "text": [
          "Italy to New Zealand",
          "Italy to New Zealand",
          "Italy to New Zealand",
          "Italy to New Zealand",
          "Italy to New Zealand",
          "Italy to New Zealand",
          "Italy to New Zealand",
          "Italy to New Zealand",
          "Italy to New Zealand"
         ],
         "type": "scatter",
         "x": [
          0.22282588858980545,
          -0.5723637976207198,
          null,
          -0.5723637976207198,
          -0.5400818240469427,
          null,
          -0.5723637976207198,
          -0.5325971277640751,
          null
         ],
         "y": [
          -0.14113698176976902,
          0.16715804509755833,
          null,
          0.16715804509755833,
          0.14353872378264682,
          null,
          0.16715804509755833,
          0.1628440996055862,
          null
         ]
        },
        {
         "hoverinfo": "text",
         "line": {
          "color": "white",
          "width": 2
         },
         "mode": "lines",
         "opacity": 0.5,
         "text": [
          "Italy to Montenegro",
          "Italy to Montenegro",
          "Italy to Montenegro",
          "Italy to Montenegro",
          "Italy to Montenegro",
          "Italy to Montenegro",
          "Italy to Montenegro",
          "Italy to Montenegro",
          "Italy to Montenegro"
         ],
         "type": "scatter",
         "x": [
          0.25092411568338,
          -0.1847699933307799,
          null,
          -0.1847699933307799,
          -0.1553677921452764,
          null,
          -0.1847699933307799,
          -0.172867079935146,
          null
         ],
         "y": [
          -0.22635552069953938,
          -0.9152391127605055,
          null,
          -0.9152391127605055,
          -0.8881188332441193,
          null,
          -0.9152391127605055,
          -0.8770511611488286,
          null
         ]
        },
        {
         "hoverinfo": "text",
         "line": {
          "color": "white",
          "width": 2
         },
         "mode": "lines",
         "opacity": 0.5,
         "text": [
          "Italy to Azerbaijan",
          "Italy to Azerbaijan",
          "Italy to Azerbaijan",
          "Italy to Azerbaijan",
          "Italy to Azerbaijan",
          "Italy to Azerbaijan",
          "Italy to Azerbaijan",
          "Italy to Azerbaijan",
          "Italy to Azerbaijan"
         ],
         "type": "scatter",
         "x": [
          0.32243735940482987,
          0.5897278055426799,
          null,
          0.5897278055426799,
          0.5803505602094877,
          null,
          0.5897278055426799,
          0.5621641986937949,
          null
         ],
         "y": [
          -0.22869900067145635,
          -0.7197990546674032,
          null,
          -0.7197990546674032,
          -0.6809137063217602,
          null,
          -0.7197990546674032,
          -0.6908119778316653,
          null
         ]
        },
        {
         "hoverinfo": "text",
         "line": {
          "color": "white",
          "width": 2
         },
         "mode": "lines",
         "opacity": 0.5,
         "text": [
          "Italy to Korea, Republic of",
          "Italy to Korea, Republic of",
          "Italy to Korea, Republic of",
          "Italy to Korea, Republic of",
          "Italy to Korea, Republic of",
          "Italy to Korea, Republic of",
          "Italy to Korea, Republic of",
          "Italy to Korea, Republic of",
          "Italy to Korea, Republic of"
         ],
         "type": "scatter",
         "x": [
          0.2433764465893742,
          -0.2880346902455327,
          null,
          -0.2880346902455327,
          -0.2711957454032329,
          null,
          -0.2880346902455327,
          -0.25531029039798303,
          null
         ],
         "y": [
          -0.11248260109503111,
          0.5231661286838754,
          null,
          0.5231661286838754,
          0.4868832370014892,
          null,
          0.5231661286838754,
          0.5001636951853198,
          null
         ]
        },
        {
         "hoverinfo": "text",
         "line": {
          "color": "white",
          "width": 2
         },
         "mode": "lines",
         "opacity": 0.5,
         "text": [
          "Italy to Uruguay",
          "Italy to Uruguay",
          "Italy to Uruguay",
          "Italy to Uruguay",
          "Italy to Uruguay",
          "Italy to Uruguay",
          "Italy to Uruguay",
          "Italy to Uruguay",
          "Italy to Uruguay"
         ],
         "type": "scatter",
         "x": [
          0.21976707717559035,
          -0.8320607974209516,
          null,
          -0.8320607974209516,
          -0.7920941536651582,
          null,
          -0.8320607974209516,
          -0.7966319476089561,
          null
         ],
         "y": [
          -0.18214481127960686,
          -0.418405676357913,
          null,
          -0.418405676357913,
          -0.42003911838886443,
          null,
          -0.418405676357913,
          -0.3998369567744295,
          null
         ]
        },
        {
         "hoverinfo": "text",
         "line": {
          "color": "white",
          "width": 2
         },
         "mode": "lines",
         "opacity": 0.5,
         "text": [
          "Netherlands to Belgium",
          "Netherlands to Belgium",
          "Netherlands to Belgium",
          "Netherlands to Belgium",
          "Netherlands to Belgium",
          "Netherlands to Belgium",
          "Netherlands to Belgium",
          "Netherlands to Belgium",
          "Netherlands to Belgium"
         ],
         "type": "scatter",
         "x": [
          -0.5278895593691096,
          -0.6428556941938176,
          null,
          -0.6428556941938176,
          -0.6399261735060783,
          null,
          -0.6428556941938176,
          -0.6203724060094395,
          null
         ],
         "y": [
          -0.3689171717417721,
          -0.038779470239829666,
          null,
          -0.038779470239829666,
          -0.07867196793559703,
          null,
          -0.038779470239829666,
          -0.0718626263209067,
          null
         ]
        },
        {
         "hoverinfo": "text",
         "line": {
          "color": "white",
          "width": 2
         },
         "mode": "lines",
         "opacity": 0.5,
         "text": [
          "Netherlands to Germany",
          "Netherlands to Germany",
          "Netherlands to Germany",
          "Netherlands to Germany",
          "Netherlands to Germany",
          "Netherlands to Germany",
          "Netherlands to Germany",
          "Netherlands to Germany",
          "Netherlands to Germany"
         ],
         "type": "scatter",
         "x": [
          -0.4719350264324607,
          -0.35470361254077537,
          null,
          -0.35470361254077537,
          -0.3817824619481377,
          null,
          -0.35470361254077537,
          -0.3634343603031958,
          null
         ],
         "y": [
          -0.3730298271224047,
          -0.14885695373563518,
          null,
          -0.14885695373563518,
          -0.17829740119485216,
          null,
          -0.14885695373563518,
          -0.18789255383777925,
          null
         ]
        },
        {
         "hoverinfo": "text",
         "line": {
          "color": "white",
          "width": 2
         },
         "mode": "lines",
         "opacity": 0.5,
         "text": [
          "Netherlands to France",
          "Netherlands to France",
          "Netherlands to France",
          "Netherlands to France",
          "Netherlands to France",
          "Netherlands to France",
          "Netherlands to France",
          "Netherlands to France",
          "Netherlands to France"
         ],
         "type": "scatter",
         "x": [
          -0.4398941195442226,
          -0.23143587048511244,
          null,
          -0.23143587048511244,
          -0.2709968875655618,
          null,
          -0.23143587048511244,
          -0.2627418276725571,
          null
         ],
         "y": [
          -0.40745637858294315,
          -0.31683253204442197,
          null,
          -0.31683253204442197,
          -0.32274230925197106,
          null,
          -0.31683253204442197,
          -0.3417310577770904,
          null
         ]
        },
        {
         "hoverinfo": "text",
         "line": {
          "color": "white",
          "width": 2
         },
         "mode": "lines",
         "opacity": 0.5,
         "text": [
          "Netherlands to United Kingdom",
          "Netherlands to United Kingdom",
          "Netherlands to United Kingdom",
          "Netherlands to United Kingdom",
          "Netherlands to United Kingdom",
          "Netherlands to United Kingdom",
          "Netherlands to United Kingdom",
          "Netherlands to United Kingdom",
          "Netherlands to United Kingdom"
         ],
         "type": "scatter",
         "x": [
          -0.4359043398081188,
          0.1895846285997753,
          null,
          0.1895846285997753,
          0.1543324542572756,
          null,
          0.1895846285997753,
          0.14960432621344258,
          null
         ],
         "y": [
          -0.45174103854377706,
          -0.5984482181243137,
          null,
          -0.5984482181243137,
          -0.5795461703901337,
          null,
          -0.5984482181243137,
          -0.5997046517742176,
          null
         ]
        },
        {
         "hoverinfo": "text",
         "line": {
          "color": "white",
          "width": 2
         },
         "mode": "lines",
         "opacity": 0.5,
         "text": [
          "Netherlands to Denmark",
          "Netherlands to Denmark",
          "Netherlands to Denmark",
          "Netherlands to Denmark",
          "Netherlands to Denmark",
          "Netherlands to Denmark",
          "Netherlands to Denmark",
          "Netherlands to Denmark",
          "Netherlands to Denmark"
         ],
         "type": "scatter",
         "x": [
          -0.43955676215594136,
          0.5992219890922816,
          null,
          0.5992219890922816,
          0.5595920771724572,
          null,
          0.5992219890922816,
          0.5676157908949101,
          null
         ],
         "y": [
          -0.40824546540452444,
          0.02841687077952827,
          null,
          0.02841687077952827,
          0.022988246229655968,
          null,
          0.02841687077952827,
          0.0039005880518187784,
          null
         ]
        },
        {
         "hoverinfo": "text",
         "line": {
          "color": "white",
          "width": 2
         },
         "mode": "lines",
         "opacity": 0.5,
         "text": [
          "Netherlands to Greece",
          "Netherlands to Greece",
          "Netherlands to Greece",
          "Netherlands to Greece",
          "Netherlands to Greece",
          "Netherlands to Greece",
          "Netherlands to Greece",
          "Netherlands to Greece",
          "Netherlands to Greece"
         ],
         "type": "scatter",
         "x": [
          -0.4842504841797671,
          -0.19969283216067932,
          null,
          -0.19969283216067932,
          -0.22077107222162265,
          null,
          -0.19969283216067932,
          -0.2009492581727994,
          null
         ],
         "y": [
          -0.3680030598931898,
          0.574497689276277,
          null,
          0.574497689276277,
          0.5405019585808296,
          null,
          0.574497689276277,
          0.5345174028433335,
          null
         ]
        },
        {
         "hoverinfo": "text",
         "line": {
          "color": "white",
          "width": 2
         },
         "mode": "lines",
         "opacity": 0.5,
         "text": [
          "Netherlands to Luxembourg",
          "Netherlands to Luxembourg",
          "Netherlands to Luxembourg",
          "Netherlands to Luxembourg",
          "Netherlands to Luxembourg",
          "Netherlands to Luxembourg",
          "Netherlands to Luxembourg",
          "Netherlands to Luxembourg",
          "Netherlands to Luxembourg"
         ],
         "type": "scatter",
         "x": [
          -0.4466696862639629,
          -0.29037500577552683,
          null,
          -0.29037500577552683,
          -0.31619338254246987,
          null,
          -0.29037500577552683,
          -0.3280103248616904,
          null
         ],
         "y": [
          -0.47592039851198364,
          -0.5845480367754919,
          null,
          -0.5845480367754919,
          -0.553996138932466,
          null,
          -0.5845480367754919,
          -0.570998505493076,
          null
         ]
        },
        {
         "hoverinfo": "text",
         "line": {
          "color": "white",
          "width": 2
         },
         "mode": "lines",
         "opacity": 0.5,
         "text": [
          "Netherlands to Spain",
          "Netherlands to Spain",
          "Netherlands to Spain",
          "Netherlands to Spain",
          "Netherlands to Spain",
          "Netherlands to Spain",
          "Netherlands to Spain",
          "Netherlands to Spain",
          "Netherlands to Spain"
         ],
         "type": "scatter",
         "x": [
          -0.43530907440499667,
          0.016918733301919717,
          null,
          0.016918733301919717,
          -0.02297813197476227,
          null,
          0.016918733301919717,
          -0.019068050630641473,
          null
         ],
         "y": [
          -0.42227676030947403,
          -0.33531228187726303,
          null,
          -0.33531228187726303,
          -0.3324421117340844,
          null,
          -0.33531228187726303,
          -0.3527750742584277,
          null
         ]
        },
        {
         "hoverinfo": "text",
         "line": {
          "color": "white",
          "width": 2
         },
         "mode": "lines",
         "opacity": 0.5,
         "text": [
          "Netherlands to Italy",
          "Netherlands to Italy",
          "Netherlands to Italy",
          "Netherlands to Italy",
          "Netherlands to Italy",
          "Netherlands to Italy",
          "Netherlands to Italy",
          "Netherlands to Italy",
          "Netherlands to Italy"
         ],
         "type": "scatter",
         "x": [
          -0.43777730041519514,
          0.22178908163086283,
          null,
          0.22178908163086283,
          0.1818736838681571,
          null,
          0.22178908163086283,
          0.18852138707240895,
          null
         ],
         "y": [
          -0.4129389363734985,
          -0.18934154627630465,
          null,
          -0.18934154627630465,
          -0.19194165408872427,
          null,
          -0.18934154627630465,
          -0.2115510045757913,
          null
         ]
        },
        {
         "hoverinfo": "text",
         "line": {
          "color": "white",
          "width": 2
         },
         "mode": "lines",
         "opacity": 0.5,
         "text": [
          "Netherlands to Switzerland",
          "Netherlands to Switzerland",
          "Netherlands to Switzerland",
          "Netherlands to Switzerland",
          "Netherlands to Switzerland",
          "Netherlands to Switzerland",
          "Netherlands to Switzerland",
          "Netherlands to Switzerland",
          "Netherlands to Switzerland"
         ],
         "type": "scatter",
         "x": [
          -0.44207522091563467,
          -0.13227369072739362,
          null,
          -0.13227369072739362,
          -0.16171761784926253,
          null,
          -0.13227369072739362,
          -0.17131041258710458,
          null
         ],
         "y": [
          -0.46833403484991576,
          -0.6302943669063709,
          null,
          -0.6302943669063709,
          -0.6032193009363811,
          null,
          -0.6302943669063709,
          -0.6215686355281547,
          null
         ]
        },
        {
         "hoverinfo": "text",
         "line": {
          "color": "white",
          "width": 2
         },
         "mode": "lines",
         "opacity": 0.5,
         "text": [
          "Netherlands to Ireland",
          "Netherlands to Ireland",
          "Netherlands to Ireland",
          "Netherlands to Ireland",
          "Netherlands to Ireland",
          "Netherlands to Ireland",
          "Netherlands to Ireland",
          "Netherlands to Ireland",
          "Netherlands to Ireland"
         ],
         "type": "scatter",
         "x": [
          -0.45217873629311606,
          -0.43296010319014505,
          null,
          -0.43296010319014505,
          -0.454746119712996,
          null,
          -0.43296010319014505,
          -0.46860099650681514,
          null
         ],
         "y": [
          -0.48287109092817687,
          -0.5001756195630036,
          null,
          -0.5001756195630036,
          -0.4666283204417764,
          null,
          -0.5001756195630036,
          -0.4820158145570909,
          null
         ]
        },
        {
         "hoverinfo": "text",
         "line": {
          "color": "white",
          "width": 2
         },
         "mode": "lines",
         "opacity": 0.5,
         "text": [
          "Ireland to France",
          "Ireland to France",
          "Ireland to France",
          "Ireland to France",
          "Ireland to France",
          "Ireland to France",
          "Ireland to France",
          "Ireland to France",
          "Ireland to France"
         ],
         "type": "scatter",
         "x": [
          -0.33548918548306084,
          -0.21165294763366127,
          null,
          -0.21165294763366127,
          -0.2442445554186499,
          null,
          -0.21165294763366127,
          -0.22828295662292972,
          null
         ],
         "y": [
          -0.49298919988490675,
          -0.3431189184107628,
          null,
          -0.3431189184107628,
          -0.3663092210161836,
          null,
          -0.3431189184107628,
          -0.379498113481,
          null
         ]
        },
        {
         "hoverinfo": "text",
         "line": {
          "color": "white",
          "width": 2
         },
         "mode": "lines",
         "opacity": 0.5,
         "text": [
          "Ireland to Netherlands",
          "Ireland to Netherlands",
          "Ireland to Netherlands",
          "Ireland to Netherlands",
          "Ireland to Netherlands",
          "Ireland to Netherlands",
          "Ireland to Netherlands",
          "Ireland to Netherlands",
          "Ireland to Netherlands"
         ],
         "type": "scatter",
         "x": [
          -0.43296010319014505,
          -0.45217873629311606,
          null,
          -0.45217873629311606,
          -0.43039361778607615,
          null,
          -0.45217873629311606,
          -0.41653910104692615,
          null
         ],
         "y": [
          -0.5001756195630036,
          -0.48287109092817687,
          null,
          -0.48287109092817687,
          -0.5164174293174546,
          null,
          -0.48287109092817687,
          -0.5010305129237206,
          null
         ]
        },
        {
         "hoverinfo": "text",
         "line": {
          "color": "white",
          "width": 2
         },
         "mode": "lines",
         "opacity": 0.5,
         "text": [
          "Ireland to Belgium",
          "Ireland to Belgium",
          "Ireland to Belgium",
          "Ireland to Belgium",
          "Ireland to Belgium",
          "Ireland to Belgium",
          "Ireland to Belgium",
          "Ireland to Belgium",
          "Ireland to Belgium"
         ],
         "type": "scatter",
         "x": [
          -0.4118778649067629,
          -0.6346795317435514,
          null,
          -0.6346795317435514,
          -0.6267732417319303,
          null,
          -0.6346795317435514,
          -0.6082270827482622,
          null
         ],
         "y": [
          -0.4841733230079189,
          -0.03534252664198728,
          null,
          -0.03534252664198728,
          -0.07455332863306366,
          null,
          -0.03534252664198728,
          -0.06534693226321031,
          null
         ]
        },
        {
         "hoverinfo": "text",
         "line": {
          "color": "white",
          "width": 2
         },
         "mode": "lines",
         "opacity": 0.5,
         "text": [
          "Ireland to United Kingdom",
          "Ireland to United Kingdom",
          "Ireland to United Kingdom",
          "Ireland to United Kingdom",
          "Ireland to United Kingdom",
          "Ireland to United Kingdom",
          "Ireland to United Kingdom",
          "Ireland to United Kingdom",
          "Ireland to United Kingdom"
         ],
         "type": "scatter",
         "x": [
          -0.3102373818560319,
          0.18810552756030133,
          null,
          0.18810552756030133,
          0.15076222026781264,
          null,
          0.18810552756030133,
          0.1485979043770423,
          null
         ],
         "y": [
          -0.5548152763852218,
          -0.6071931879511735,
          null,
          -0.6071931879511735,
          -0.5928584471379033,
          null,
          -0.6071931879511735,
          -0.6134505918964601,
          null
         ]
        },
        {
         "hoverinfo": "text",
         "line": {
          "color": "white",
          "width": 2
         },
         "mode": "lines",
         "opacity": 0.5,
         "text": [
          "Luxembourg to France",
          "Luxembourg to France",
          "Luxembourg to France",
          "Luxembourg to France",
          "Luxembourg to France",
          "Luxembourg to France",
          "Luxembourg to France",
          "Luxembourg to France",
          "Luxembourg to France"
         ],
         "type": "scatter",
         "x": [
          -0.2188323501887479,
          -0.18021563548420286,
          null,
          -0.18021563548420286,
          -0.19778846665804087,
          null,
          -0.18021563548420286,
          -0.17746744449691504,
          null
         ],
         "y": [
          -0.5555415148819982,
          -0.35798832820996646,
          null,
          -0.35798832820996646,
          -0.39392174661045976,
          null,
          -0.35798832820996646,
          -0.39789399697652783,
          null
         ]
        },
        {
         "hoverinfo": "text",
         "line": {
          "color": "white",
          "width": 2
         },
         "mode": "lines",
         "opacity": 0.5,
         "text": [
          "Luxembourg to Netherlands",
          "Luxembourg to Netherlands",
          "Luxembourg to Netherlands",
          "Luxembourg to Netherlands",
          "Luxembourg to Netherlands",
          "Luxembourg to Netherlands",
          "Luxembourg to Netherlands",
          "Luxembourg to Netherlands",
          "Luxembourg to Netherlands"
         ],
         "type": "scatter",
         "x": [
          -0.29037500577552683,
          -0.4466696862639629,
          null,
          -0.4466696862639629,
          -0.42085144946975045,
          null,
          -0.4466696862639629,
          -0.40903454447968557,
          null
         ],
         "y": [
          -0.5845480367754919,
          -0.47592039851198364,
          null,
          -0.47592039851198364,
          -0.5064721841911182,
          null,
          -0.47592039851198364,
          -0.48946990264398554,
          null
         ]
        },
        {
         "hoverinfo": "text",
         "line": {
          "color": "white",
          "width": 2
         },
         "mode": "lines",
         "opacity": 0.5,
         "text": [
          "Luxembourg to Belgium",
          "Luxembourg to Belgium",
          "Luxembourg to Belgium",
          "Luxembourg to Belgium",
          "Luxembourg to Belgium",
          "Luxembourg to Belgium",
          "Luxembourg to Belgium",
          "Luxembourg to Belgium",
          "Luxembourg to Belgium"
         ],
         "type": "scatter",
         "x": [
          -0.27146462319286774,
          -0.6269986260136753,
          null,
          -0.6269986260136753,
          -0.6142402657040998,
          null,
          -0.6269986260136753,
          -0.5969942074591819,
          null
         ],
         "y": [
          -0.5660296220388659,
          -0.030907952407335466,
          null,
          -0.030907952407335466,
          -0.06881866123886739,
          null,
          -0.030907952407335466,
          -0.05736040917612944,
          null
         ]
        },
        {
         "hoverinfo": "text",
         "line": {
          "color": "white",
          "width": 2
         },
         "mode": "lines",
         "opacity": 0.5,
         "text": [
          "Luxembourg to Germany",
          "Luxembourg to Germany",
          "Luxembourg to Germany",
          "Luxembourg to Germany",
          "Luxembourg to Germany",
          "Luxembourg to Germany",
          "Luxembourg to Germany",
          "Luxembourg to Germany",
          "Luxembourg to Germany"
         ],
         "type": "scatter",
         "x": [
          -0.24397066846626536,
          -0.31038596615058645,
          null,
          -0.31038596615058645,
          -0.3142581706933966,
          null,
          -0.31038596615058645,
          -0.29383339208232684,
          null
         ],
         "y": [
          -0.5551870573932656,
          -0.15594065592937384,
          null,
          -0.15594065592937384,
          -0.1957526590713393,
          null,
          -0.15594065592937384,
          -0.1923549642972669,
          null
         ]
        },
        {
         "hoverinfo": "text",
         "line": {
          "color": "white",
          "width": 2
         },
         "mode": "lines",
         "opacity": 0.5,
         "text": [
          "Luxembourg to Hungary",
          "Luxembourg to Hungary",
          "Luxembourg to Hungary",
          "Luxembourg to Hungary",
          "Luxembourg to Hungary",
          "Luxembourg to Hungary",
          "Luxembourg to Hungary",
          "Luxembourg to Hungary",
          "Luxembourg to Hungary"
         ],
         "type": "scatter",
         "x": [
          -0.195795693470761,
          0.40950132258109734,
          null,
          0.40950132258109734,
          0.3806309113181498,
          null,
          0.40950132258109734,
          0.39834168202832343,
          null
         ],
         "y": [
          -0.5644445786622061,
          0.43501985765962736,
          null,
          0.43501985765962736,
          0.4073341196223413,
          null,
          0.43501985765962736,
          0.3966080995653427,
          null
         ]
        },
        {
         "hoverinfo": "text",
         "line": {
          "color": "white",
          "width": 2
         },
         "mode": "lines",
         "opacity": 0.5,
         "text": [
          "Switzerland to Hungary",
          "Switzerland to Hungary",
          "Switzerland to Hungary",
          "Switzerland to Hungary",
          "Switzerland to Hungary",
          "Switzerland to Hungary",
          "Switzerland to Hungary",
          "Switzerland to Hungary",
          "Switzerland to Hungary"
         ],
         "type": "scatter",
         "x": [
          -0.04095979898566647,
          0.4173612084924643,
          null,
          0.4173612084924643,
          0.39218839071267053,
          null,
          0.4173612084924643,
          0.41110383590409016,
          null
         ],
         "y": [
          -0.5984954975201126,
          0.4309108100487228,
          null,
          0.4309108100487228,
          0.3998249558611951,
          null,
          0.4309108100487228,
          0.39140326173408807,
          null
         ]
        },
        {
         "hoverinfo": "text",
         "line": {
          "color": "white",
          "width": 2
         },
         "mode": "lines",
         "opacity": 0.5,
         "text": [
          "Switzerland to Germany",
          "Switzerland to Germany",
          "Switzerland to Germany",
          "Switzerland to Germany",
          "Switzerland to Germany",
          "Switzerland to Germany",
          "Switzerland to Germany",
          "Switzerland to Germany",
          "Switzerland to Germany"
         ],
         "type": "scatter",
         "x": [
          -0.0979901229843246,
          -0.2936707312360657,
          null,
          -0.2936707312360657,
          -0.2876710490825975,
          null,
          -0.2936707312360657,
          -0.26870113523007666,
          null
         ],
         "y": [
          -0.5983096077724959,
          -0.1509780720189547,
          null,
          -0.1509780720189547,
          -0.19052550971186158,
          null,
          -0.1509780720189547,
          -0.18222731663886022,
          null
         ]
        },
        {
         "hoverinfo": "text",
         "line": {
          "color": "white",
          "width": 2
         },
         "mode": "lines",
         "opacity": 0.5,
         "text": [
          "Switzerland to France",
          "Switzerland to France",
          "Switzerland to France",
          "Switzerland to France",
          "Switzerland to France",
          "Switzerland to France",
          "Switzerland to France",
          "Switzerland to France",
          "Switzerland to France"
         ],
         "type": "scatter",
         "x": [
          -0.0873978032873492,
          -0.14895440198914006,
          null,
          -0.14895440198914006,
          -0.1492864118422908,
          null,
          -0.14895440198914006,
          -0.12924269330959676,
          null
         ],
         "y": [
          -0.5946467691083328,
          -0.35704304045244295,
          null,
          -0.35704304045244295,
          -0.3970415157458001,
          null,
          -0.35704304045244295,
          -0.39184874109570983,
          null
         ]
        },
        {
         "hoverinfo": "text",
         "line": {
          "color": "white",
          "width": 2
         },
         "mode": "lines",
         "opacity": 0.5,
         "text": [
          "Poland to Romania",
          "Poland to Romania",
          "Poland to Romania",
          "Poland to Romania",
          "Poland to Romania",
          "Poland to Romania",
          "Poland to Romania",
          "Poland to Romania",
          "Poland to Romania"
         ],
         "type": "scatter",
         "x": [
          0.06598617126491127,
          -0.43503995974805415,
          null,
          -0.43503995974805415,
          -0.42713367317369605,
          null,
          -0.43503995974805415,
          -0.40858750068850824,
          null
         ],
         "y": [
          -0.5962552597106062,
          0.4130554368079268,
          null,
          0.4130554368079268,
          0.37384460873482284,
          null,
          0.4130554368079268,
          0.3830510068803738,
          null
         ]
        },
        {
         "hoverinfo": "text",
         "line": {
          "color": "white",
          "width": 2
         },
         "mode": "lines",
         "opacity": 0.5,
         "text": [
          "Poland to Germany",
          "Poland to Germany",
          "Poland to Germany",
          "Poland to Germany",
          "Poland to Germany",
          "Poland to Germany",
          "Poland to Germany",
          "Poland to Germany",
          "Poland to Germany"
         ],
         "type": "scatter",
         "x": [
          0.05568903529362233,
          -0.2802757977815107,
          null,
          -0.2802757977815107,
          -0.26581870374949085,
          null,
          -0.2802757977815107,
          -0.2491075990540719,
          null
         ],
         "y": [
          -0.6025145276281877,
          -0.143273405840631,
          null,
          -0.143273405840631,
          -0.18056938190224942,
          null,
          -0.143273405840631,
          -0.16834412155291895,
          null
         ]
        },
        {
         "hoverinfo": "text",
         "line": {
          "color": "white",
          "width": 2
         },
         "mode": "lines",
         "opacity": 0.5,
         "text": [
          "Poland to Slovakia",
          "Poland to Slovakia",
          "Poland to Slovakia",
          "Poland to Slovakia",
          "Poland to Slovakia",
          "Poland to Slovakia",
          "Poland to Slovakia",
          "Poland to Slovakia",
          "Poland to Slovakia"
         ],
         "type": "scatter",
         "x": [
          0.16249511910239783,
          0.3379594482704011,
          null,
          0.3379594482704011,
          0.2983295447012838,
          null,
          0.3379594482704011,
          0.3063532613380813,
          null
         ],
         "y": [
          -0.6321466293698051,
          -0.5583882603282234,
          null,
          -0.5583882603282234,
          -0.5638168929443501,
          null,
          -0.5583882603282234,
          -0.5829045458661605,
          null
         ]
        },
        {
         "hoverinfo": "text",
         "line": {
          "color": "white",
          "width": 2
         },
         "mode": "lines",
         "opacity": 0.5,
         "text": [
          "Poland to Serbia",
          "Poland to Serbia",
          "Poland to Serbia",
          "Poland to Serbia",
          "Poland to Serbia",
          "Poland to Serbia",
          "Poland to Serbia",
          "Poland to Serbia",
          "Poland to Serbia"
         ],
         "type": "scatter",
         "x": [
          0.05830525520588749,
          -0.5311596086933791,
          null,
          -0.5311596086933791,
          -0.5184012473341605,
          null,
          -0.5311596086933791,
          -0.5011551831306037,
          null
         ],
         "y": [
          -0.6006898380194057,
          0.2865262723837245,
          null,
          0.2865262723837245,
          0.24861555135366392,
          null,
          0.2865262723837245,
          0.26007380557551635,
          null
         ]
        },
        {
         "hoverinfo": "text",
         "line": {
          "color": "white",
          "width": 2
         },
         "mode": "lines",
         "opacity": 0.5,
         "text": [
          "Poland to Denmark",
          "Poland to Denmark",
          "Poland to Denmark",
          "Poland to Denmark",
          "Poland to Denmark",
          "Poland to Denmark",
          "Poland to Denmark",
          "Poland to Denmark",
          "Poland to Denmark"
         ],
         "type": "scatter",
         "x": [
          0.14125709999664057,
          0.6204600034250475,
          null,
          0.6204600034250475,
          0.5883472940551029,
          null,
          0.6204600034250475,
          0.6045740803011331,
          null
         ],
         "y": [
          -0.6041665613081647,
          0.0004368140723897476,
          null,
          0.0004368140723897476,
          -0.023412183877218773,
          null,
          0.0004368140723897476,
          -0.03627337869174653,
          null
         ]
        },
        {
         "hoverinfo": "text",
         "line": {
          "color": "white",
          "width": 2
         },
         "mode": "lines",
         "opacity": 0.5,
         "text": [
          "United Kingdom to Netherlands",
          "United Kingdom to Netherlands",
          "United Kingdom to Netherlands",
          "United Kingdom to Netherlands",
          "United Kingdom to Netherlands",
          "United Kingdom to Netherlands",
          "United Kingdom to Netherlands",
          "United Kingdom to Netherlands",
          "United Kingdom to Netherlands"
         ],
         "type": "scatter",
         "x": [
          0.1895846285997753,
          -0.4359043398081188,
          null,
          -0.4359043398081188,
          -0.40065224179593645,
          null,
          -0.4359043398081188,
          -0.39592411711184256,
          null
         ],
         "y": [
          -0.5984482181243137,
          -0.45174103854377706,
          null,
          -0.45174103854377706,
          -0.47064305910583193,
          null,
          -0.45174103854377706,
          -0.4504846195272812,
          null
         ]
        },
        {
         "hoverinfo": "text",
         "line": {
          "color": "white",
          "width": 2
         },
         "mode": "lines",
         "opacity": 0.5,
         "text": [
          "United Kingdom to Germany",
          "United Kingdom to Germany",
          "United Kingdom to Germany",
          "United Kingdom to Germany",
          "United Kingdom to Germany",
          "United Kingdom to Germany",
          "United Kingdom to Germany",
          "United Kingdom to Germany",
          "United Kingdom to Germany"
         ],
         "type": "scatter",
         "x": [
          0.20611852074181441,
          -0.26975017452752,
          null,
          -0.26975017452752,
          -0.24814860266464386,
          null,
          -0.26975017452752,
          -0.23420988394320713,
          null
         ],
         "y": [
          -0.5670315481442504,
          -0.1338169865590043,
          null,
          -0.1338169865590043,
          -0.16748254773777832,
          null,
          -0.1338169865590043,
          -0.15217143184104373,
          null
         ]
        },
        {
         "hoverinfo": "text",
         "line": {
          "color": "white",
          "width": 2
         },
         "mode": "lines",
         "opacity": 0.5,
         "text": [
          "United Kingdom to Ireland",
          "United Kingdom to Ireland",
          "United Kingdom to Ireland",
          "United Kingdom to Ireland",
          "United Kingdom to Ireland",
          "United Kingdom to Ireland",
          "United Kingdom to Ireland",
          "United Kingdom to Ireland",
          "United Kingdom to Ireland"
         ],
         "type": "scatter",
         "x": [
          0.18810552756030133,
          -0.3102373818560319,
          null,
          -0.3102373818560319,
          -0.27289425281902563,
          null,
          -0.3102373818560319,
          -0.2707299387557611,
          null
         ],
         "y": [
          -0.6071931879511735,
          -0.5548152763852218,
          null,
          -0.5548152763852218,
          -0.5691499657800677,
          null,
          -0.5548152763852218,
          -0.5485579170380146,
          null
         ]
        },
        {
         "hoverinfo": "text",
         "line": {
          "color": "white",
          "width": 2
         },
         "mode": "lines",
         "opacity": 0.5,
         "text": [
          "United Kingdom to France",
          "United Kingdom to France",
          "United Kingdom to France",
          "United Kingdom to France",
          "United Kingdom to France",
          "United Kingdom to France",
          "United Kingdom to France",
          "United Kingdom to France",
          "United Kingdom to France"
         ],
         "type": "scatter",
         "x": [
          0.20229895303804613,
          -0.11062195787985063,
          null,
          -0.11062195787985063,
          -0.08626112139178016,
          null,
          -0.11062195787985063,
          -0.07366179796095801,
          null
         ],
         "y": [
          -0.5716001166514154,
          -0.3316505478211645,
          null,
          -0.3316505478211645,
          -0.3633766611467339,
          null,
          -0.3316505478211645,
          -0.34694574968041636,
          null
         ]
        },
        {
         "hoverinfo": "text",
         "line": {
          "color": "white",
          "width": 2
         },
         "mode": "lines",
         "opacity": 0.5,
         "text": [
          "United Kingdom to Belgium",
          "United Kingdom to Belgium",
          "United Kingdom to Belgium",
          "United Kingdom to Belgium",
          "United Kingdom to Belgium",
          "United Kingdom to Belgium",
          "United Kingdom to Belgium",
          "United Kingdom to Belgium",
          "United Kingdom to Belgium"
         ],
         "type": "scatter",
         "x": [
          0.20034997778545724,
          -0.608088246160854,
          null,
          -0.608088246160854,
          -0.5822699549799665,
          null,
          -0.608088246160854,
          -0.5704530337822377,
          null
         ],
         "y": [
          -0.5742688542283858,
          -0.012389541598430753,
          null,
          -0.012389541598430753,
          -0.04294137426575885,
          null,
          -0.012389541598430753,
          -0.025939059230064426,
          null
         ]
        },
        {
         "hoverinfo": "text",
         "line": {
          "color": "white",
          "width": 2
         },
         "mode": "lines",
         "opacity": 0.5,
         "text": [
          "United Kingdom to Luxembourg",
          "United Kingdom to Luxembourg",
          "United Kingdom to Luxembourg",
          "United Kingdom to Luxembourg",
          "United Kingdom to Luxembourg",
          "United Kingdom to Luxembourg",
          "United Kingdom to Luxembourg",
          "United Kingdom to Luxembourg",
          "United Kingdom to Luxembourg"
         ],
         "type": "scatter",
         "x": [
          0.1877341260854793,
          -0.16177183293743852,
          null,
          -0.16177183293743852,
          -0.12292595695757128,
          null,
          -0.16177183293743852,
          -0.12335957861002016,
          null
         ],
         "y": [
          -0.6160545572779733,
          -0.6233756318547171,
          null,
          -0.6233756318547171,
          -0.6329171096479044,
          null,
          -0.6233756318547171,
          -0.6122158560233287,
          null
         ]
        },
        {
         "hoverinfo": "text",
         "line": {
          "color": "white",
          "width": 2
         },
         "mode": "lines",
         "opacity": 0.5,
         "text": [
          "United Kingdom to Denmark",
          "United Kingdom to Denmark",
          "United Kingdom to Denmark",
          "United Kingdom to Denmark",
          "United Kingdom to Denmark",
          "United Kingdom to Denmark",
          "United Kingdom to Denmark",
          "United Kingdom to Denmark",
          "United Kingdom to Denmark"
         ],
         "type": "scatter",
         "x": [
          0.2949293004844471,
          0.6277429116394238,
          null,
          0.6277429116394238,
          0.5988724899216062,
          null,
          0.6277429116394238,
          0.6165832620312083,
          null
         ],
         "y": [
          -0.5541654079910356,
          -0.0046249404791754226,
          null,
          -0.0046249404791754226,
          -0.03231067851394428,
          null,
          -0.0046249404791754226,
          -0.04303670379871505,
          null
         ]
        },
        {
         "hoverinfo": "text",
         "line": {
          "color": "white",
          "width": 2
         },
         "mode": "lines",
         "opacity": 0.5,
         "text": [
          "Slovakia to Hungary",
          "Slovakia to Hungary",
          "Slovakia to Hungary",
          "Slovakia to Hungary",
          "Slovakia to Hungary",
          "Slovakia to Hungary",
          "Slovakia to Hungary",
          "Slovakia to Hungary",
          "Slovakia to Hungary"
         ],
         "type": "scatter",
         "x": [
          0.40602350263684006,
          0.44312950940043716,
          null,
          0.44312950940043716,
          0.4311678171991765,
          null,
          0.44312950940043716,
          0.45185528777243905,
          null
         ],
         "y": [
          -0.4604569356117603,
          0.4248669128094074,
          null,
          0.4248669128094074,
          0.3866970974283198,
          null,
          0.4248669128094074,
          0.3858300369309932,
          null
         ]
        },
        {
         "hoverinfo": "text",
         "line": {
          "color": "white",
          "width": 2
         },
         "mode": "lines",
         "opacity": 0.5,
         "text": [
          "Slovakia to Czech Republic",
          "Slovakia to Czech Republic",
          "Slovakia to Czech Republic",
          "Slovakia to Czech Republic",
          "Slovakia to Czech Republic",
          "Slovakia to Czech Republic",
          "Slovakia to Czech Republic",
          "Slovakia to Czech Republic",
          "Slovakia to Czech Republic"
         ],
         "type": "scatter",
         "x": [
          0.4148440814525169,
          0.5435027622669656,
          null,
          0.5435027622669656,
          0.5268515078604522,
          null,
          0.5435027622669656,
          0.5472671012287531,
          null
         ],
         "y": [
          -0.46138401549517793,
          0.29929180663287325,
          null,
          0.29929180663287325,
          0.2629223100674619,
          null,
          0.29929180663287325,
          0.2594692714811194,
          null
         ]
        },
        {
         "hoverinfo": "text",
         "line": {
          "color": "white",
          "width": 2
         },
         "mode": "lines",
         "opacity": 0.5,
         "text": [
          "Slovenia to Algeria",
          "Slovenia to Algeria",
          "Slovenia to Algeria",
          "Slovenia to Algeria",
          "Slovenia to Algeria",
          "Slovenia to Algeria",
          "Slovenia to Algeria",
          "Slovenia to Algeria",
          "Slovenia to Algeria"
         ],
         "type": "scatter",
         "x": [
          0.5077786074857666,
          0.3235479069967316,
          null,
          0.3235479069967316,
          0.3214544687983673,
          null,
          0.3235479069967316,
          0.3417075029797783,
          null
         ],
         "y": [
          -0.3450168263428322,
          0.5217206370346656,
          null,
          0.5217206370346656,
          0.48177550374649974,
          null,
          0.5217206370346656,
          0.4860804177503764,
          null
         ]
        },
        {
         "hoverinfo": "text",
         "line": {
          "color": "white",
          "width": 2
         },
         "mode": "lines",
         "opacity": 0.5,
         "text": [
          "Slovenia to The former Yugoslav Republic of Macedonia",
          "Slovenia to The former Yugoslav Republic of Macedonia",
          "Slovenia to The former Yugoslav Republic of Macedonia",
          "Slovenia to The former Yugoslav Republic of Macedonia",
          "Slovenia to The former Yugoslav Republic of Macedonia",
          "Slovenia to The former Yugoslav Republic of Macedonia",
          "Slovenia to The former Yugoslav Republic of Macedonia",
          "Slovenia to The former Yugoslav Republic of Macedonia",
          "Slovenia to The former Yugoslav Republic of Macedonia"
         ],
         "type": "scatter",
         "x": [
          0.559048013396613,
          0.5724447205587703,
          null,
          0.5724447205587703,
          0.5435740719649228,
          null,
          0.5724447205587703,
          0.5612850448328088,
          null
         ],
         "y": [
          -0.353688392972195,
          -0.3315677901752354,
          null,
          -0.3315677901752354,
          -0.3592538689353235,
          null,
          -0.3315677901752354,
          -0.3699799620095722,
          null
         ]
        },
        {
         "hoverinfo": "text",
         "line": {
          "color": "white",
          "width": 2
         },
         "mode": "lines",
         "opacity": 0.5,
         "text": [
          "Slovenia to Germany",
          "Slovenia to Germany",
          "Slovenia to Germany",
          "Slovenia to Germany",
          "Slovenia to Germany",
          "Slovenia to Germany",
          "Slovenia to Germany",
          "Slovenia to Germany",
          "Slovenia to Germany"
         ],
         "type": "scatter",
         "x": [
          0.4566246173951808,
          -0.25613754015900525,
          null,
          -0.25613754015900525,
          -0.22386619649794,
          null,
          -0.25613754015900525,
          -0.21637281746635945,
          null
         ],
         "y": [
          -0.38853913464860834,
          -0.11183239600343786,
          null,
          -0.11183239600343786,
          -0.1354662345392486,
          null,
          -0.11183239600343786,
          -0.11616422873385698,
          null
         ]
        },
        {
         "hoverinfo": "text",
         "line": {
          "color": "white",
          "width": 2
         },
         "mode": "lines",
         "opacity": 0.5,
         "text": [
          "Slovenia to Hungary",
          "Slovenia to Hungary",
          "Slovenia to Hungary",
          "Slovenia to Hungary",
          "Slovenia to Hungary",
          "Slovenia to Hungary",
          "Slovenia to Hungary",
          "Slovenia to Hungary",
          "Slovenia to Hungary"
         ],
         "type": "scatter",
         "x": [
          0.5165526083379506,
          0.4519967326254131,
          null,
          0.4519967326254131,
          0.4449133721579072,
          null,
          0.4519967326254131,
          0.46554621169781896,
          null
         ],
         "y": [
          -0.34372119402762463,
          0.42505265569563916,
          null,
          0.42505265569563916,
          0.38568495733278246,
          null,
          0.42505265569563916,
          0.38741754859112926,
          null
         ]
        },
        {
         "hoverinfo": "text",
         "line": {
          "color": "white",
          "width": 2
         },
         "mode": "lines",
         "opacity": 0.5,
         "text": [
          "Slovenia to Croatia",
          "Slovenia to Croatia",
          "Slovenia to Croatia",
          "Slovenia to Croatia",
          "Slovenia to Croatia",
          "Slovenia to Croatia",
          "Slovenia to Croatia",
          "Slovenia to Croatia",
          "Slovenia to Croatia"
         ],
         "type": "scatter",
         "x": [
          0.49106000468534483,
          0.01744073152142512,
          null,
          0.01744073152142512,
          0.02534702168552952,
          null,
          0.01744073152142512,
          0.043893192739614104,
          null
         ],
         "y": [
          -0.3508388600229832,
          0.6032608351587864,
          null,
          0.6032608351587864,
          0.5640500089860193,
          null,
          0.6032608351587864,
          0.5732564086718466,
          null
         ]
        },
        {
         "hoverinfo": "text",
         "line": {
          "color": "white",
          "width": 2
         },
         "mode": "lines",
         "opacity": 0.5,
         "text": [
          "The former Yugoslav Republic of Macedonia to Germany",
          "The former Yugoslav Republic of Macedonia to Germany",
          "The former Yugoslav Republic of Macedonia to Germany",
          "The former Yugoslav Republic of Macedonia to Germany",
          "The former Yugoslav Republic of Macedonia to Germany",
          "The former Yugoslav Republic of Macedonia to Germany",
          "The former Yugoslav Republic of Macedonia to Germany",
          "The former Yugoslav Republic of Macedonia to Germany",
          "The former Yugoslav Republic of Macedonia to Germany"
         ],
         "type": "scatter",
         "x": [
          0.5397580825112526,
          -0.25270300734264295,
          null,
          -0.25270300734264295,
          -0.21682257824495688,
          null,
          -0.25270300734264295,
          -0.21278950896987717,
          null
         ],
         "y": [
          -0.2574011790060742,
          -0.10002953238251379,
          null,
          -0.10002953238251379,
          -0.11770980293348036,
          null,
          -0.10002953238251379,
          -0.09740088127658972,
          null
         ]
        },
        {
         "hoverinfo": "text",
         "line": {
          "color": "white",
          "width": 2
         },
         "mode": "lines",
         "opacity": 0.5,
         "text": [
          "The former Yugoslav Republic of Macedonia to Romania",
          "The former Yugoslav Republic of Macedonia to Romania",
          "The former Yugoslav Republic of Macedonia to Romania",
          "The former Yugoslav Republic of Macedonia to Romania",
          "The former Yugoslav Republic of Macedonia to Romania",
          "The former Yugoslav Republic of Macedonia to Romania",
          "The former Yugoslav Republic of Macedonia to Romania",
          "The former Yugoslav Republic of Macedonia to Romania",
          "The former Yugoslav Republic of Macedonia to Romania"
         ],
         "type": "scatter",
         "x": [
          0.551036697402776,
          -0.4084486482294209,
          null,
          -0.4084486482294209,
          -0.38263034784120836,
          null,
          -0.4084486482294209,
          -0.37081343001399714,
          null
         ],
         "y": [
          -0.230851044347897,
          0.43600844352544826,
          null,
          0.43600844352544826,
          0.40545661513206005,
          null,
          0.43600844352544826,
          0.42245893419881764,
          null
         ]
        },
        {
         "hoverinfo": "text",
         "line": {
          "color": "white",
          "width": 2
         },
         "mode": "lines",
         "opacity": 0.5,
         "text": [
          "India to Italy",
          "India to Italy",
          "India to Italy",
          "India to Italy",
          "India to Italy",
          "India to Italy",
          "India to Italy",
          "India to Italy",
          "India to Italy"
         ],
         "type": "scatter",
         "x": [
          0.5874923937168559,
          0.35851348711581615,
          null,
          0.35851348711581615,
          0.39826112492785615,
          null,
          0.35851348711581615,
          0.39517937371499073,
          null
         ],
         "y": [
          -0.12169062670935278,
          -0.15615509870778435,
          null,
          -0.15615509870778435,
          -0.16064194373483437,
          null,
          -0.15615509870778435,
          -0.14016700157803355,
          null
         ]
        },
        {
         "hoverinfo": "text",
         "line": {
          "color": "white",
          "width": 2
         },
         "mode": "lines",
         "opacity": 0.5,
         "text": [
          "India to Turkey",
          "India to Turkey",
          "India to Turkey",
          "India to Turkey",
          "India to Turkey",
          "India to Turkey",
          "India to Turkey",
          "India to Turkey",
          "India to Turkey"
         ],
         "type": "scatter",
         "x": [
          0.596471256124136,
          0.3828347860702305,
          null,
          0.3828347860702305,
          0.4108766190041923,
          null,
          0.3828347860702305,
          0.4213820017523946,
          null
         ],
         "y": [
          -0.07534587461814456,
          0.05043993968829684,
          null,
          0.05043993968829684,
          0.02191538770294868,
          null,
          0.05043993968829684,
          0.03975786950439637,
          null
         ]
        },
        {
         "hoverinfo": "text",
         "line": {
          "color": "white",
          "width": 2
         },
         "mode": "lines",
         "opacity": 0.5,
         "text": [
          "India to Romania",
          "India to Romania",
          "India to Romania",
          "India to Romania",
          "India to Romania",
          "India to Romania",
          "India to Romania",
          "India to Romania",
          "India to Romania"
         ],
         "type": "scatter",
         "x": [
          0.5947426170674195,
          -0.4038541824189057,
          null,
          -0.4038541824189057,
          -0.3744103071653351,
          null,
          -0.4038541824189057,
          -0.3648175261717741,
          null
         ],
         "y": [
          -0.07845872426270804,
          0.44359481120347344,
          null,
          0.44359481120347344,
          0.4165197866201145,
          null,
          0.44359481120347344,
          0.4348690897329817,
          null
         ]
        },
        {
         "hoverinfo": "text",
         "line": {
          "color": "white",
          "width": 2
         },
         "mode": "lines",
         "opacity": 0.5,
         "text": [
          "India to Ireland",
          "India to Ireland",
          "India to Ireland",
          "India to Ireland",
          "India to Ireland",
          "India to Ireland",
          "India to Ireland",
          "India to Ireland",
          "India to Ireland"
         ],
         "type": "scatter",
         "x": [
          0.5922241750951286,
          -0.3153689149613853,
          null,
          -0.3153689149613853,
          -0.27573900091672515,
          null,
          -0.3153689149613853,
          -0.2837627186956978,
          null
         ],
         "y": [
          -0.13854730330401996,
          -0.5200646499544944,
          null,
          -0.5200646499544944,
          -0.5146360178609305,
          null,
          -0.5200646499544944,
          -0.4955483596313385,
          null
         ]
        },
        {
         "hoverinfo": "text",
         "line": {
          "color": "white",
          "width": 2
         },
         "mode": "lines",
         "opacity": 0.5,
         "text": [
          "India to Germany",
          "India to Germany",
          "India to Germany",
          "India to Germany",
          "India to Germany",
          "India to Germany",
          "India to Germany",
          "India to Germany",
          "India to Germany"
         ],
         "type": "scatter",
         "x": [
          0.5867285804628423,
          -0.25137311981907395,
          null,
          -0.25137311981907395,
          -0.21301197541107797,
          null,
          -0.25137311981907395,
          -0.2124855575188355,
          null
         ],
         "y": [
          -0.10938342149353637,
          -0.08806860213183747,
          null,
          -0.08806860213183747,
          -0.09940027558117863,
          null,
          -0.08806860213183747,
          -0.07870154700235855,
          null
         ]
        },
        {
         "hoverinfo": "text",
         "line": {
          "color": "white",
          "width": 2
         },
         "mode": "lines",
         "opacity": 0.5,
         "text": [
          "India to United States",
          "India to United States",
          "India to United States",
          "India to United States",
          "India to United States",
          "India to United States",
          "India to United States",
          "India to United States",
          "India to United States"
         ],
         "type": "scatter",
         "x": [
          0.5895679794871453,
          -0.2209123574816827,
          null,
          -0.2209123574816827,
          -0.18675861590008552,
          null,
          -0.2209123574816827,
          -0.18092378046477642,
          null
         ],
         "y": [
          -0.09127679919675248,
          0.1467644915528621,
          null,
          0.1467644915528621,
          0.12594335320695363,
          null,
          0.1467644915528621,
          0.14580972760039365,
          null
         ]
        },
        {
         "hoverinfo": "text",
         "line": {
          "color": "white",
          "width": 2
         },
         "mode": "lines",
         "opacity": 0.5,
         "text": [
          "India to Algeria",
          "India to Algeria",
          "India to Algeria",
          "India to Algeria",
          "India to Algeria",
          "India to Algeria",
          "India to Algeria",
          "India to Algeria",
          "India to Algeria"
         ],
         "type": "scatter",
         "x": [
          0.6259283876683105,
          0.3402665102217805,
          null,
          0.3402665102217805,
          0.3481727968301598,
          null,
          0.3402665102217805,
          0.36671896164329293,
          null
         ],
         "y": [
          -0.047919353207097545,
          0.5275426709256034,
          null,
          0.5275426709256034,
          0.48833185818749286,
          null,
          0.5275426709256034,
          0.4975382542955548,
          null
         ]
        },
        {
         "hoverinfo": "text",
         "line": {
          "color": "white",
          "width": 2
         },
         "mode": "lines",
         "opacity": 0.5,
         "text": [
          "India to Spain",
          "India to Spain",
          "India to Spain",
          "India to Spain",
          "India to Spain",
          "India to Spain",
          "India to Spain",
          "India to Spain",
          "India to Spain"
         ],
         "type": "scatter",
         "x": [
          0.5910755848008725,
          0.15252817371305494,
          null,
          0.15252817371305494,
          0.1923596892348062,
          null,
          0.15252817371305494,
          0.18518950536967033,
          null
         ],
         "y": [
          -0.1356359670371458,
          -0.29751831791692523,
          null,
          -0.29751831791692523,
          -0.29385077260401443,
          null,
          -0.29751831791692523,
          -0.2744263727455383,
          null
         ]
        },
        {
         "hoverinfo": "text",
         "line": {
          "color": "white",
          "width": 2
         },
         "mode": "lines",
         "opacity": 0.5,
         "text": [
          "India to United Kingdom",
          "India to United Kingdom",
          "India to United Kingdom",
          "India to United Kingdom",
          "India to United Kingdom",
          "India to United Kingdom",
          "India to United Kingdom",
          "India to United Kingdom",
          "India to United Kingdom"
         ],
         "type": "scatter",
         "x": [
          0.6134621923941768,
          0.3022121960144842,
          null,
          0.3022121960144842,
          0.33432488424694656,
          null,
          0.3022121960144842,
          0.31809810806652483,
          null
         ],
         "y": [
          -0.16652734694630864,
          -0.5592271524891161,
          null,
          -0.5592271524891161,
          -0.5353781690069533,
          null,
          -0.5592271524891161,
          -0.5225169828228965,
          null
         ]
        },
        {
         "hoverinfo": "text",
         "line": {
          "color": "white",
          "width": 2
         },
         "mode": "lines",
         "opacity": 0.5,
         "text": [
          "India to Netherlands",
          "India to Netherlands",
          "India to Netherlands",
          "India to Netherlands",
          "India to Netherlands",
          "India to Netherlands",
          "India to Netherlands",
          "India to Netherlands",
          "India to Netherlands"
         ],
         "type": "scatter",
         "x": [
          0.5893073977949139,
          -0.4366399945737835,
          null,
          -0.4366399945737835,
          -0.39664218165381726,
          null,
          -0.4366399945737835,
          -0.4022103091922187,
          null
         ],
         "y": [
          -0.13017146602219878,
          -0.4166212795680112,
          null,
          -0.4166212795680112,
          -0.41620240616212456,
          null,
          -0.4166212795680112,
          -0.39625961809756055,
          null
         ]
        },
        {
         "hoverinfo": "text",
         "line": {
          "color": "white",
          "width": 2
         },
         "mode": "lines",
         "opacity": 0.5,
         "text": [
          "India to Lebanon",
          "India to Lebanon",
          "India to Lebanon",
          "India to Lebanon",
          "India to Lebanon",
          "India to Lebanon",
          "India to Lebanon",
          "India to Lebanon",
          "India to Lebanon"
         ],
         "type": "scatter",
         "x": [
          0.6153363463559159,
          0.04199441698803207,
          null,
          0.04199441698803207,
          0.07329217847975739,
          null,
          0.04199441698803207,
          0.056644662434282324,
          null
         ],
         "y": [
          -0.16796244747629485,
          -0.9432165467024771,
          null,
          -0.9432165467024771,
          -0.9183077245281367,
          null,
          -0.9432165467024771,
          -0.9059959931752866,
          null
         ]
        },
        {
         "hoverinfo": "text",
         "line": {
          "color": "white",
          "width": 2
         },
         "mode": "lines",
         "opacity": 0.5,
         "text": [
          "Denmark to Germany",
          "Denmark to Germany",
          "Denmark to Germany",
          "Denmark to Germany",
          "Denmark to Germany",
          "Denmark to Germany",
          "Denmark to Germany",
          "Denmark to Germany",
          "Denmark to Germany"
         ],
         "type": "scatter",
         "x": [
          0.5944249248979521,
          -0.2520716405389738,
          null,
          -0.2520716405389738,
          -0.21235332871775445,
          null,
          -0.2520716405389738,
          -0.21530510232832883,
          null
         ],
         "y": [
          0.045716874478247085,
          -0.07620474713840715,
          null,
          -0.07620474713840715,
          -0.08094368949448164,
          null,
          -0.07620474713840715,
          -0.06044963569522806,
          null
         ]
        },
        {
         "hoverinfo": "text",
         "line": {
          "color": "white",
          "width": 2
         },
         "mode": "lines",
         "opacity": 0.5,
         "text": [
          "Bosnia and Herzegovina to Montenegro",
          "Bosnia and Herzegovina to Montenegro",
          "Bosnia and Herzegovina to Montenegro",
          "Bosnia and Herzegovina to Montenegro",
          "Bosnia and Herzegovina to Montenegro",
          "Bosnia and Herzegovina to Montenegro",
          "Bosnia and Herzegovina to Montenegro",
          "Bosnia and Herzegovina to Montenegro",
          "Bosnia and Herzegovina to Montenegro"
         ],
         "type": "scatter",
         "x": [
          0.5885622023854413,
          -0.1814989566121259,
          null,
          -0.1814989566121259,
          -0.1506295947698552,
          null,
          -0.1814989566121259,
          -0.16748420796741986,
          null
         ],
         "y": [
          0.16175457793017847,
          -0.9174380596234463,
          null,
          -0.9174380596234463,
          -0.8920002538048175,
          null,
          -0.9174380596234463,
          -0.8799735926468428,
          null
         ]
        },
        {
         "hoverinfo": "text",
         "line": {
          "color": "white",
          "width": 2
         },
         "mode": "lines",
         "opacity": 0.5,
         "text": [
          "Bosnia and Herzegovina to Serbia",
          "Bosnia and Herzegovina to Serbia",
          "Bosnia and Herzegovina to Serbia",
          "Bosnia and Herzegovina to Serbia",
          "Bosnia and Herzegovina to Serbia",
          "Bosnia and Herzegovina to Serbia",
          "Bosnia and Herzegovina to Serbia",
          "Bosnia and Herzegovina to Serbia",
          "Bosnia and Herzegovina to Serbia"
         ],
         "type": "scatter",
         "x": [
          0.5593461440008585,
          -0.5000047729414407,
          null,
          -0.5000047729414407,
          -0.4626615978614932,
          null,
          -0.5000047729414407,
          -0.46049728165232856,
          null
         ],
         "y": [
          0.2266267435028428,
          0.3379690154121047,
          null,
          0.3379690154121047,
          0.3236343093882895,
          null,
          0.3379690154121047,
          0.3442263833796727,
          null
         ]
        },
        {
         "hoverinfo": "text",
         "line": {
          "color": "white",
          "width": 2
         },
         "mode": "lines",
         "opacity": 0.5,
         "text": [
          "Czech Republic to Germany",
          "Czech Republic to Germany",
          "Czech Republic to Germany",
          "Czech Republic to Germany",
          "Czech Republic to Germany",
          "Czech Republic to Germany",
          "Czech Republic to Germany",
          "Czech Republic to Germany",
          "Czech Republic to Germany"
         ],
         "type": "scatter",
         "x": [
          0.4925927005698132,
          -0.259287186711018,
          null,
          -0.259287186711018,
          -0.2202239593123257,
          null,
          -0.259287186711018,
          -0.2297604684272908,
          null
         ],
         "y": [
          0.3363994471019176,
          -0.0537446997350124,
          null,
          -0.0537446997350124,
          -0.045138641740315115,
          null,
          -0.0537446997350124,
          -0.026760021185816225,
          null
         ]
        },
        {
         "hoverinfo": "text",
         "line": {
          "color": "white",
          "width": 2
         },
         "mode": "lines",
         "opacity": 0.5,
         "text": [
          "Czech Republic to Slovakia",
          "Czech Republic to Slovakia",
          "Czech Republic to Slovakia",
          "Czech Republic to Slovakia",
          "Czech Republic to Slovakia",
          "Czech Republic to Slovakia",
          "Czech Republic to Slovakia",
          "Czech Republic to Slovakia",
          "Czech Republic to Slovakia"
         ],
         "type": "scatter",
         "x": [
          0.5435027622669656,
          0.4148440814525169,
          null,
          0.4148440814525169,
          0.4314952900407183,
          null,
          0.4148440814525169,
          0.4110797549259752,
          null
         ],
         "y": [
          0.29929180663287325,
          -0.46138401549517793,
          null,
          -0.46138401549517793,
          -0.4250146231599025,
          null,
          -0.46138401549517793,
          -0.4215615935185257,
          null
         ]
        },
        {
         "hoverinfo": "text",
         "line": {
          "color": "white",
          "width": 2
         },
         "mode": "lines",
         "opacity": 0.5,
         "text": [
          "Czech Republic to Austria",
          "Czech Republic to Austria",
          "Czech Republic to Austria",
          "Czech Republic to Austria",
          "Czech Republic to Austria",
          "Czech Republic to Austria",
          "Czech Republic to Austria",
          "Czech Republic to Austria",
          "Czech Republic to Austria"
         ],
         "type": "scatter",
         "x": [
          0.4941177659438718,
          -0.5359781079696286,
          null,
          -0.5359781079696286,
          -0.49734107676773337,
          null,
          -0.5359781079696286,
          -0.5076938397654913,
          null
         ],
         "y": [
          0.33361526737027497,
          -0.26111107477956147,
          null,
          -0.26111107477956147,
          -0.25075831009252963,
          null,
          -0.26111107477956147,
          -0.2328268019602418,
          null
         ]
        },
        {
         "hoverinfo": "text",
         "line": {
          "color": "white",
          "width": 2
         },
         "mode": "lines",
         "opacity": 0.5,
         "text": [
          "Czech Republic to Romania",
          "Czech Republic to Romania",
          "Czech Republic to Romania",
          "Czech Republic to Romania",
          "Czech Republic to Romania",
          "Czech Republic to Romania",
          "Czech Republic to Romania",
          "Czech Republic to Romania",
          "Czech Republic to Romania"
         ],
         "type": "scatter",
         "x": [
          0.48504269489454027,
          -0.3962042070309996,
          null,
          -0.3962042070309996,
          -0.35886103866544683,
          null,
          -0.3962042070309996,
          -0.3566967250705929,
          null
         ],
         "y": [
          0.37631009116703984,
          0.4689327667660046,
          null,
          0.4689327667660046,
          0.45459806776992745,
          null,
          0.4689327667660046,
          0.47519013746257494,
          null
         ]
        },
        {
         "hoverinfo": "text",
         "line": {
          "color": "white",
          "width": 2
         },
         "mode": "lines",
         "opacity": 0.5,
         "text": [
          "Czech Republic to Switzerland",
          "Czech Republic to Switzerland",
          "Czech Republic to Switzerland",
          "Czech Republic to Switzerland",
          "Czech Republic to Switzerland",
          "Czech Republic to Switzerland",
          "Czech Republic to Switzerland",
          "Czech Republic to Switzerland",
          "Czech Republic to Switzerland"
         ],
         "type": "scatter",
         "x": [
          0.518695154824854,
          -0.033099913635851005,
          null,
          -0.033099913635851005,
          -0.004229514002593644,
          null,
          -0.033099913635851005,
          -0.02194027525992637,
          null
         ],
         "y": [
          0.30851767125958807,
          -0.6026045447909296,
          null,
          -0.6026045447909296,
          -0.5749188225431593,
          null,
          -0.6026045447909296,
          -0.5641928061856119,
          null
         ]
        },
        {
         "hoverinfo": "text",
         "line": {
          "color": "white",
          "width": 2
         },
         "mode": "lines",
         "opacity": 0.5,
         "text": [
          "Turkey to United Kingdom",
          "Turkey to United Kingdom",
          "Turkey to United Kingdom",
          "Turkey to United Kingdom",
          "Turkey to United Kingdom",
          "Turkey to United Kingdom",
          "Turkey to United Kingdom",
          "Turkey to United Kingdom",
          "Turkey to United Kingdom"
         ],
         "type": "scatter",
         "x": [
          0.31558935092555174,
          0.26472957683934084,
          null,
          0.26472957683934084,
          0.27853345476597025,
          null,
          0.26472957683934084,
          0.257912824902732,
          null
         ],
         "y": [
          0.015937361362037453,
          -0.5442398073697661,
          null,
          -0.5442398073697661,
          -0.5066972855861478,
          null,
          -0.5442398073697661,
          -0.5048250908197073,
          null
         ]
        },
        {
         "hoverinfo": "text",
         "line": {
          "color": "white",
          "width": 2
         },
         "mode": "lines",
         "opacity": 0.5,
         "text": [
          "Turkey to France",
          "Turkey to France",
          "Turkey to France",
          "Turkey to France",
          "Turkey to France",
          "Turkey to France",
          "Turkey to France",
          "Turkey to France",
          "Turkey to France"
         ],
         "type": "scatter",
         "x": [
          0.26594471533257324,
          -0.11063606638867217,
          null,
          -0.11063606638867217,
          -0.07368089086828652,
          null,
          -0.11063606638867217,
          -0.08628561154121146,
          null
         ],
         "y": [
          0.0432792778316424,
          -0.24568137779864527,
          null,
          -0.24568137779864527,
          -0.23037404588963312,
          null,
          -0.24568137779864527,
          -0.21394725174108775,
          null
         ]
        },
        {
         "hoverinfo": "text",
         "line": {
          "color": "white",
          "width": 2
         },
         "mode": "lines",
         "opacity": 0.5,
         "text": [
          "Turkey to United States",
          "Turkey to United States",
          "Turkey to United States",
          "Turkey to United States",
          "Turkey to United States",
          "Turkey to United States",
          "Turkey to United States",
          "Turkey to United States",
          "Turkey to United States"
         ],
         "type": "scatter",
         "x": [
          0.251954497059642,
          -0.21865433569794765,
          null,
          -0.21865433569794765,
          -0.18169923231368745,
          null,
          -0.21865433569794765,
          -0.17899662123080176,
          null
         ],
         "y": [
          0.095491468679482,
          0.15744827710432385,
          null,
          0.15744827710432385,
          0.1421409648305313,
          null,
          0.15744827710432385,
          0.16266930750368827,
          null
         ]
        },
        {
         "hoverinfo": "text",
         "line": {
          "color": "white",
          "width": 2
         },
         "mode": "lines",
         "opacity": 0.5,
         "text": [
          "Turkey to Algeria",
          "Turkey to Algeria",
          "Turkey to Algeria",
          "Turkey to Algeria",
          "Turkey to Algeria",
          "Turkey to Algeria",
          "Turkey to Algeria",
          "Turkey to Algeria",
          "Turkey to Algeria"
         ],
         "type": "scatter",
         "x": [
          0.3201405863332143,
          0.31069885091310834,
          null,
          0.31069885091310834,
          0.3013535006238693,
          null,
          0.31069885091310834,
          0.32205159222837665,
          null
         ],
         "y": [
          0.15687422414448526,
          0.5202011470017168,
          null,
          0.5202011470017168,
          0.4813090428556896,
          null,
          0.5202011470017168,
          0.48184692166000764,
          null
         ]
        },
        {
         "hoverinfo": "text",
         "line": {
          "color": "white",
          "width": 2
         },
         "mode": "lines",
         "opacity": 0.5,
         "text": [
          "Turkey to Netherlands",
          "Turkey to Netherlands",
          "Turkey to Netherlands",
          "Turkey to Netherlands",
          "Turkey to Netherlands",
          "Turkey to Netherlands",
          "Turkey to Netherlands",
          "Turkey to Netherlands",
          "Turkey to Netherlands"
         ],
         "type": "scatter",
         "x": [
          0.26225609004408434,
          -0.4449441474667223,
          null,
          -0.4449441474667223,
          -0.4067466017380501,
          null,
          -0.4449441474667223,
          -0.41780016416178056,
          null
         ],
         "y": [
          0.04857017223711993,
          -0.39791086439963363,
          null,
          -0.39791086439963363,
          -0.38603874108302133,
          null,
          -0.39791086439963363,
          -0.36853053114624973,
          null
         ]
        },
        {
         "hoverinfo": "text",
         "line": {
          "color": "white",
          "width": 2
         },
         "mode": "lines",
         "opacity": 0.5,
         "text": [
          "Turkey to Germany",
          "Turkey to Germany",
          "Turkey to Germany",
          "Turkey to Germany",
          "Turkey to Germany",
          "Turkey to Germany",
          "Turkey to Germany",
          "Turkey to Germany",
          "Turkey to Germany"
         ],
         "type": "scatter",
         "x": [
          0.2537567806285387,
          -0.2537567806285387,
          null,
          -0.2537567806285387,
          -0.21375676697726564,
          null,
          -0.2537567806285387,
          -0.2191157504385929,
          null
         ],
         "y": [
          0.06799395920662593,
          -0.06799392940430354,
          null,
          -0.06799392940430354,
          -0.06799393383674147,
          null,
          -0.06799392940430354,
          -0.04799392641727086,
          null
         ]
        },
        {
         "hoverinfo": "text",
         "line": {
          "color": "white",
          "width": 2
         },
         "mode": "lines",
         "opacity": 0.5,
         "text": [
          "Turkey to Georgia",
          "Turkey to Georgia",
          "Turkey to Georgia",
          "Turkey to Georgia",
          "Turkey to Georgia",
          "Turkey to Georgia",
          "Turkey to Georgia",
          "Turkey to Georgia",
          "Turkey to Georgia"
         ],
         "type": "scatter",
         "x": [
          0.3153852928935615,
          0.22911103474506458,
          null,
          0.22911103474506458,
          0.243023808593115,
          null,
          0.22911103474506458,
          0.22240866601677853,
          null
         ],
         "y": [
          0.01595618678634461,
          -0.9046110297591,
          null,
          -0.9046110297591,
          -0.867108661123489,
          null,
          -0.9046110297591,
          -0.8651766388945469,
          null
         ]
        },
        {
         "hoverinfo": "text",
         "line": {
          "color": "white",
          "width": 2
         },
         "mode": "lines",
         "opacity": 0.5,
         "text": [
          "Turkey to Romania",
          "Turkey to Romania",
          "Turkey to Romania",
          "Turkey to Romania",
          "Turkey to Romania",
          "Turkey to Romania",
          "Turkey to Romania",
          "Turkey to Romania",
          "Turkey to Romania"
         ],
         "type": "scatter",
         "x": [
          0.25867311676959354,
          -0.40314014276484805,
          null,
          -0.40314014276484805,
          -0.3730998731448268,
          null,
          -0.40314014276484805,
          -0.3639186338001661,
          null
         ],
         "y": [
          0.11758959467593755,
          0.44499854569252406,
          null,
          0.44499854569252406,
          0.41858680101810475,
          null,
          0.44499854569252406,
          0.43714543865621924,
          null
         ]
        },
        {
         "hoverinfo": "text",
         "line": {
          "color": "white",
          "width": 2
         },
         "mode": "lines",
         "opacity": 0.5,
         "text": [
          "Turkey to Italy",
          "Turkey to Italy",
          "Turkey to Italy",
          "Turkey to Italy",
          "Turkey to Italy",
          "Turkey to Italy",
          "Turkey to Italy",
          "Turkey to Italy",
          "Turkey to Italy"
         ],
         "type": "scatter",
         "x": [
          0.3127568767613573,
          0.2978935434275465,
          null,
          0.2978935434275465,
          0.31320069343512225,
          null,
          0.2978935434275465,
          0.29267256686956417,
          null
         ],
         "y": [
          0.01625226613668107,
          -0.09664593812612199,
          null,
          -0.09664593812612199,
          -0.05969122347795776,
          null,
          -0.09664593812612199,
          -0.056988641447418956,
          null
         ]
        },
        {
         "hoverinfo": "text",
         "line": {
          "color": "white",
          "width": 2
         },
         "mode": "lines",
         "opacity": 0.5,
         "text": [
          "Turkey to Belgium",
          "Turkey to Belgium",
          "Turkey to Belgium",
          "Turkey to Belgium",
          "Turkey to Belgium",
          "Turkey to Belgium",
          "Turkey to Belgium",
          "Turkey to Belgium",
          "Turkey to Belgium"
         ],
         "type": "scatter",
         "x": [
          0.25147314785812636,
          -0.5955797624478175,
          null,
          -0.5955797624478175,
          -0.5563994890834432,
          null,
          -0.5955797624478175,
          -0.5576202567878672,
          null
         ],
         "y": [
          0.08210911051166053,
          0.0320810581671,
          null,
          0.0320810581671,
          0.02402427096873338,
          null,
          0.0320810581671,
          0.04469381246261642,
          null
         ]
        },
        {
         "hoverinfo": "text",
         "line": {
          "color": "white",
          "width": 2
         },
         "mode": "lines",
         "opacity": 0.5,
         "text": [
          "Turkey to Bulgaria",
          "Turkey to Bulgaria",
          "Turkey to Bulgaria",
          "Turkey to Bulgaria",
          "Turkey to Bulgaria",
          "Turkey to Bulgaria",
          "Turkey to Bulgaria",
          "Turkey to Bulgaria",
          "Turkey to Bulgaria"
         ],
         "type": "scatter",
         "x": [
          0.30158134164832245,
          0.17262790737130035,
          null,
          0.17262790737130035,
          0.17387314447109486,
          null,
          0.17262790737130035,
          0.19369658492373143,
          null
         ],
         "y": [
          0.15388945862072084,
          0.5814362205622854,
          null,
          0.5814362205622854,
          0.5414556793817371,
          null,
          0.5814362205622854,
          0.5474346747927779,
          null
         ]
        },
        {
         "hoverinfo": "text",
         "line": {
          "color": "white",
          "width": 2
         },
         "mode": "lines",
         "opacity": 0.5,
         "text": [
          "Turkey to Azerbaijan",
          "Turkey to Azerbaijan",
          "Turkey to Azerbaijan",
          "Turkey to Azerbaijan",
          "Turkey to Azerbaijan",
          "Turkey to Azerbaijan",
          "Turkey to Azerbaijan",
          "Turkey to Azerbaijan",
          "Turkey to Azerbaijan"
         ],
         "type": "scatter",
         "x": [
          0.3451472620685625,
          0.6003180642406416,
          null,
          0.6003180642406416,
          0.5974209678168475,
          null,
          0.6003180642406416,
          0.5778616129671817,
          null
         ],
         "y": [
          0.019557615973891024,
          -0.7151158808254612,
          null,
          -0.7151158808254612,
          -0.6752208964789791,
          null,
          -0.7151158808254612,
          -0.6820143591097222,
          null
         ]
        },
        {
         "hoverinfo": "text",
         "line": {
          "color": "white",
          "width": 2
         },
         "mode": "lines",
         "opacity": 0.5,
         "text": [
          "Turkey to Spain",
          "Turkey to Spain",
          "Turkey to Spain",
          "Turkey to Spain",
          "Turkey to Spain",
          "Turkey to Spain",
          "Turkey to Spain",
          "Turkey to Spain",
          "Turkey to Spain"
         ],
         "type": "scatter",
         "x": [
          0.28666279202279055,
          0.1215855058473686,
          null,
          0.1215855058473686,
          0.1498697564258293,
          null,
          0.1215855058473686,
          0.13193826379268617,
          null
         ],
         "y": [
          0.02511001438640874,
          -0.26081224591278357,
          null,
          -0.26081224591278357,
          -0.23252800274751534,
          null,
          -0.26081224591278357,
          -0.22217524751561454,
          null
         ]
        },
        {
         "hoverinfo": "text",
         "line": {
          "color": "white",
          "width": 2
         },
         "mode": "lines",
         "opacity": 0.5,
         "text": [
          "Turkey to Australia",
          "Turkey to Australia",
          "Turkey to Australia",
          "Turkey to Australia",
          "Turkey to Australia",
          "Turkey to Australia",
          "Turkey to Australia",
          "Turkey to Australia",
          "Turkey to Australia"
         ],
         "type": "scatter",
         "x": [
          0.25150020696370057,
          -0.9295249161884015,
          null,
          -0.9295249161884015,
          -0.8902956594349876,
          null,
          -0.9295249161884015,
          -0.8916440496346796,
          null
         ],
         "y": [
          0.08167379987939954,
          0.004599171946748137,
          null,
          0.004599171946748137,
          -0.003215495320618336,
          null,
          0.004599171946748137,
          0.017446099947793017,
          null
         ]
        },
        {
         "hoverinfo": "text",
         "line": {
          "color": "white",
          "width": 2
         },
         "mode": "lines",
         "opacity": 0.5,
         "text": [
          "Turkey to Republic of Moldova",
          "Turkey to Republic of Moldova",
          "Turkey to Republic of Moldova",
          "Turkey to Republic of Moldova",
          "Turkey to Republic of Moldova",
          "Turkey to Republic of Moldova",
          "Turkey to Republic of Moldova",
          "Turkey to Republic of Moldova",
          "Turkey to Republic of Moldova"
         ],
         "type": "scatter",
         "x": [
          0.2790415343390569,
          -0.3909501489745244,
          null,
          -0.3909501489745244,
          -0.35924211134597805,
          null,
          -0.3909501489745244,
          -0.3756823910534959,
          null
         ],
         "y": [
          0.03019647604993262,
          -0.8448922068553296,
          null,
          -0.8448922068553296,
          -0.8205077905164386,
          null,
          -0.8448922068553296,
          -0.8079206640351205,
          null
         ]
        },
        {
         "hoverinfo": "text",
         "line": {
          "color": "white",
          "width": 2
         },
         "mode": "lines",
         "opacity": 0.5,
         "text": [
          "Turkey to Morocco",
          "Turkey to Morocco",
          "Turkey to Morocco",
          "Turkey to Morocco",
          "Turkey to Morocco",
          "Turkey to Morocco",
          "Turkey to Morocco",
          "Turkey to Morocco",
          "Turkey to Morocco"
         ],
         "type": "scatter",
         "x": [
          0.2532709438987154,
          -0.9062234957404512,
          null,
          -0.9062234957404512,
          -0.8662392239156105,
          null,
          -0.9062234957404512,
          -0.8710351608032629,
          null
         ],
         "y": [
          0.06991447296336555,
          -0.20616252508357427,
          null,
          -0.20616252508357427,
          -0.20728440465368195,
          null,
          -0.20616252508357427,
          -0.18714196537885394,
          null
         ]
        },
        {
         "hoverinfo": "text",
         "line": {
          "color": "white",
          "width": 2
         },
         "mode": "lines",
         "opacity": 0.5,
         "text": [
          "Turkey to Lebanon",
          "Turkey to Lebanon",
          "Turkey to Lebanon",
          "Turkey to Lebanon",
          "Turkey to Lebanon",
          "Turkey to Lebanon",
          "Turkey to Lebanon",
          "Turkey to Lebanon",
          "Turkey to Lebanon"
         ],
         "type": "scatter",
         "x": [
          0.301904871198744,
          0.02007043150143574,
          null,
          0.02007043150143574,
          0.040976323415492705,
          null,
          0.02007043150143574,
          0.021124499113491214,
          null
         ],
         "y": [
          0.018559922539560153,
          -0.9322868632906359,
          null,
          -0.9322868632906359,
          -0.8981849315420568,
          null,
          -0.9322868632906359,
          -0.8923007781212149,
          null
         ]
        },
        {
         "hoverinfo": "text",
         "line": {
          "color": "white",
          "width": 2
         },
         "mode": "lines",
         "opacity": 0.5,
         "text": [
          "Turkey to Portugal",
          "Turkey to Portugal",
          "Turkey to Portugal",
          "Turkey to Portugal",
          "Turkey to Portugal",
          "Turkey to Portugal",
          "Turkey to Portugal",
          "Turkey to Portugal",
          "Turkey to Portugal"
         ],
         "type": "scatter",
         "x": [
          0.25316037837600347,
          -0.5832835048828089,
          null,
          -0.5832835048828089,
          -0.5433078631527272,
          null,
          -0.5832835048828089,
          -0.5479655577817054,
          null
         ],
         "y": [
          0.07038600614026772,
          -0.12272080650285469,
          null,
          -0.12272080650285469,
          -0.12411685816338942,
          null,
          -0.12272080650285469,
          -0.10394200184083235,
          null
         ]
        },
        {
         "hoverinfo": "text",
         "line": {
          "color": "white",
          "width": 2
         },
         "mode": "lines",
         "opacity": 0.5,
         "text": [
          "Turkey to Greece",
          "Turkey to Greece",
          "Turkey to Greece",
          "Turkey to Greece",
          "Turkey to Greece",
          "Turkey to Greece",
          "Turkey to Greece",
          "Turkey to Greece",
          "Turkey to Greece"
         ],
         "type": "scatter",
         "x": [
          0.2746773671694563,
          -0.13198204453666668,
          null,
          -0.13198204453666668,
          -0.11379488469559486,
          null,
          -0.13198204453666668,
          -0.09841841046291863,
          null
         ],
         "y": [
          0.13872110065731108,
          0.5896603393861383,
          null,
          0.5896603393861383,
          0.5540341561287548,
          null,
          0.5896603393861383,
          0.5679007395659004,
          null
         ]
        },
        {
         "hoverinfo": "text",
         "line": {
          "color": "white",
          "width": 2
         },
         "mode": "lines",
         "opacity": 0.5,
         "text": [
          "Turkey to Iran (Islamic Republic of)",
          "Turkey to Iran (Islamic Republic of)",
          "Turkey to Iran (Islamic Republic of)",
          "Turkey to Iran (Islamic Republic of)",
          "Turkey to Iran (Islamic Republic of)",
          "Turkey to Iran (Islamic Republic of)",
          "Turkey to Iran (Islamic Republic of)",
          "Turkey to Iran (Islamic Republic of)",
          "Turkey to Iran (Islamic Republic of)"
         ],
         "type": "scatter",
         "x": [
          0.35006461306668213,
          0.5954004152192981,
          null,
          0.5954004152192981,
          0.5705347828823002,
          null,
          0.5954004152192981,
          0.589532210945509,
          null
         ],
         "y": [
          0.15107182928517426,
          0.7170327328781787,
          null,
          0.7170327328781787,
          0.6857006028557489,
          null,
          0.7170327328781787,
          0.6774654961555784,
          null
         ]
        },
        {
         "hoverinfo": "text",
         "line": {
          "color": "white",
          "width": 2
         },
         "mode": "lines",
         "opacity": 0.5,
         "text": [
          "Turkey to Uzbekistan",
          "Turkey to Uzbekistan",
          "Turkey to Uzbekistan",
          "Turkey to Uzbekistan",
          "Turkey to Uzbekistan",
          "Turkey to Uzbekistan",
          "Turkey to Uzbekistan",
          "Turkey to Uzbekistan",
          "Turkey to Uzbekistan"
         ],
         "type": "scatter",
         "x": [
          0.26995294944196313,
          -0.5714672769680557,
          null,
          -0.5714672769680557,
          -0.5360053847179097,
          null,
          -0.5714672769680557,
          -0.5500091317547174,
          null
         ],
         "y": [
          0.038507311822573956,
          -0.734065874697368,
          null,
          -0.734065874697368,
          -0.7155603660142585,
          null,
          -0.734065874697368,
          -0.7003086879427687,
          null
         ]
        },
        {
         "hoverinfo": "text",
         "line": {
          "color": "white",
          "width": 2
         },
         "mode": "lines",
         "opacity": 0.5,
         "text": [
          "Turkey to Denmark",
          "Turkey to Denmark",
          "Turkey to Denmark",
          "Turkey to Denmark",
          "Turkey to Denmark",
          "Turkey to Denmark",
          "Turkey to Denmark",
          "Turkey to Denmark",
          "Turkey to Denmark"
         ],
         "type": "scatter",
         "x": [
          0.39232189621775676,
          0.5939819696918196,
          null,
          0.5939819696918196,
          0.5564153054071497,
          null,
          0.5939819696918196,
          0.5545786638796625,
          null
         ],
         "y": [
          0.0800084181799415,
          0.06204979785542456,
          null,
          0.06204979785542456,
          0.07578903826780745,
          null,
          0.06204979785542456,
          0.055164996938914974,
          null
         ]
        },
        {
         "hoverinfo": "text",
         "line": {
          "color": "white",
          "width": 2
         },
         "mode": "lines",
         "opacity": 0.5,
         "text": [
          "Turkey to Switzerland",
          "Turkey to Switzerland",
          "Turkey to Switzerland",
          "Turkey to Switzerland",
          "Turkey to Switzerland",
          "Turkey to Switzerland",
          "Turkey to Switzerland",
          "Turkey to Switzerland",
          "Turkey to Switzerland"
         ],
         "type": "scatter",
         "x": [
          0.28925876701590153,
          -0.03696903968569371,
          null,
          -0.03696903968569371,
          -0.009895779490518584,
          null,
          -0.03696903968569371,
          -0.028245655732766814,
          null
         ],
         "y": [
          0.023682966597604604,
          -0.600424557693529,
          null,
          -0.600424557693529,
          -0.5709790634148074,
          null,
          -0.600424557693529,
          -0.5613873815235791,
          null
         ]
        },
        {
         "hoverinfo": "text",
         "line": {
          "color": "white",
          "width": 2
         },
         "mode": "lines",
         "opacity": 0.5,
         "text": [
          "Turkey to Hungary",
          "Turkey to Hungary",
          "Turkey to Hungary",
          "Turkey to Hungary",
          "Turkey to Hungary",
          "Turkey to Hungary",
          "Turkey to Hungary",
          "Turkey to Hungary",
          "Turkey to Hungary"
         ],
         "type": "scatter",
         "x": [
          0.34247593403098014,
          0.42558632969620797,
          null,
          0.42558632969620797,
          0.4044639338875456,
          null,
          0.42558632969620797,
          0.4242779889859951,
          null
         ],
         "y": [
          0.15385718646163077,
          0.42784583566075235,
          null,
          0.42784583566075235,
          0.3938774543629949,
          null,
          0.42784583566075235,
          0.387867156627127,
          null
         ]
        },
        {
         "hoverinfo": "text",
         "line": {
          "color": "white",
          "width": 2
         },
         "mode": "lines",
         "opacity": 0.5,
         "text": [
          "Turkey to Austria",
          "Turkey to Austria",
          "Turkey to Austria",
          "Turkey to Austria",
          "Turkey to Austria",
          "Turkey to Austria",
          "Turkey to Austria",
          "Turkey to Austria",
          "Turkey to Austria"
         ],
         "type": "scatter",
         "x": [
          0.2567762220560957,
          -0.5319420779406477,
          null,
          -0.5319420779406477,
          -0.4922939709603534,
          null,
          -0.5319420779406477,
          -0.5002528733551518,
          null
         ],
         "y": [
          0.05912582986637772,
          -0.26927635484024703,
          null,
          -0.26927635484024703,
          -0.26398222829744283,
          null,
          -0.26927635484024703,
          -0.24486745327318193,
          null
         ]
        },
        {
         "hoverinfo": "text",
         "line": {
          "color": "white",
          "width": 2
         },
         "mode": "lines",
         "opacity": 0.5,
         "text": [
          "Turkey to Montenegro",
          "Turkey to Montenegro",
          "Turkey to Montenegro",
          "Turkey to Montenegro",
          "Turkey to Montenegro",
          "Turkey to Montenegro",
          "Turkey to Montenegro",
          "Turkey to Montenegro",
          "Turkey to Montenegro"
         ],
         "type": "scatter",
         "x": [
          0.28973430051021365,
          -0.19028001679591922,
          null,
          -0.19028001679591922,
          -0.16343080387003864,
          null,
          -0.19028001679591922,
          -0.18185288491410148,
          null
         ],
         "y": [
          0.02343669102377406,
          -0.9120915339965295,
          null,
          -0.9120915339965295,
          -0.8824415968293048,
          null,
          -0.9120915339965295,
          -0.8729893287261602,
          null
         ]
        },
        {
         "hoverinfo": "text",
         "line": {
          "color": "white",
          "width": 2
         },
         "mode": "lines",
         "opacity": 0.5,
         "text": [
          "Turkey to Uruguay",
          "Turkey to Uruguay",
          "Turkey to Uruguay",
          "Turkey to Uruguay",
          "Turkey to Uruguay",
          "Turkey to Uruguay",
          "Turkey to Uruguay",
          "Turkey to Uruguay",
          "Turkey to Uruguay"
         ],
         "type": "scatter",
         "x": [
          0.2569846806150529,
          -0.8359782394987199,
          null,
          -0.8359782394987199,
          -0.7963715658001027,
          null,
          -0.8359782394987199,
          -0.8044756879593358,
          null
         ],
         "y": [
          0.058630497573151294,
          -0.4062411947233817,
          null,
          -0.4062411947233817,
          -0.40064552663734293,
          null,
          -0.4062411947233817,
          -0.3815918671604177,
          null
         ]
        },
        {
         "hoverinfo": "text",
         "line": {
          "color": "white",
          "width": 2
         },
         "mode": "lines",
         "opacity": 0.5,
         "text": [
          "Turkey to New Zealand",
          "Turkey to New Zealand",
          "Turkey to New Zealand",
          "Turkey to New Zealand",
          "Turkey to New Zealand",
          "Turkey to New Zealand",
          "Turkey to New Zealand",
          "Turkey to New Zealand",
          "Turkey to New Zealand"
         ],
         "type": "scatter",
         "x": [
          0.251780065432495,
          -0.568017813101715,
          null,
          -0.568017813101715,
          -0.5307563328872243,
          null,
          -0.568017813101715,
          -0.5284755677613934,
          null
         ],
         "y": [
          0.094052581346904,
          0.18490827246817473,
          null,
          0.18490827246817473,
          0.17036255868425182,
          null,
          0.18490827246817473,
          0.19094205492236535,
          null
         ]
        },
        {
         "hoverinfo": "text",
         "line": {
          "color": "white",
          "width": 2
         },
         "mode": "lines",
         "opacity": 0.5,
         "text": [
          "Turkey to The former Yugoslav Republic of Macedonia",
          "Turkey to The former Yugoslav Republic of Macedonia",
          "Turkey to The former Yugoslav Republic of Macedonia",
          "Turkey to The former Yugoslav Republic of Macedonia",
          "Turkey to The former Yugoslav Republic of Macedonia",
          "Turkey to The former Yugoslav Republic of Macedonia",
          "Turkey to The former Yugoslav Republic of Macedonia",
          "Turkey to The former Yugoslav Republic of Macedonia",
          "Turkey to The former Yugoslav Republic of Macedonia"
         ],
         "type": "scatter",
         "x": [
          0.3661986163018402,
          0.5648070404173676,
          null,
          0.5648070404173676,
          0.5486855226286748,
          null,
          0.5648070404173676,
          0.532541700249334,
          null
         ],
         "y": [
          0.0312077516190419,
          -0.21609237431210374,
          null,
          -0.21609237431210374,
          -0.17948498188117804,
          null,
          -0.21609237431210374,
          -0.19245020139496233,
          null
         ]
        },
        {
         "hoverinfo": "text",
         "line": {
          "color": "white",
          "width": 2
         },
         "mode": "lines",
         "opacity": 0.5,
         "text": [
          "Turkey to Bosnia and Herzegovina",
          "Turkey to Bosnia and Herzegovina",
          "Turkey to Bosnia and Herzegovina",
          "Turkey to Bosnia and Herzegovina",
          "Turkey to Bosnia and Herzegovina",
          "Turkey to Bosnia and Herzegovina",
          "Turkey to Bosnia and Herzegovina",
          "Turkey to Bosnia and Herzegovina",
          "Turkey to Bosnia and Herzegovina"
         ],
         "type": "scatter",
         "x": [
          0.38680268471047674,
          0.5647568588991424,
          null,
          0.5647568588991424,
          0.5251836912110167,
          null,
          0.5647568588991424,
          0.5333994153748245,
          null
         ],
         "y": [
          0.11429625714947247,
          0.19122122262786365,
          null,
          0.19122122262786365,
          0.1853933726242227,
          null,
          0.19122122262786365,
          0.1663875726312025,
          null
         ]
        },
        {
         "hoverinfo": "text",
         "line": {
          "color": "white",
          "width": 2
         },
         "mode": "lines",
         "opacity": 0.5,
         "text": [
          "Turkey to Serbia",
          "Turkey to Serbia",
          "Turkey to Serbia",
          "Turkey to Serbia",
          "Turkey to Serbia",
          "Turkey to Serbia",
          "Turkey to Serbia",
          "Turkey to Serbia",
          "Turkey to Serbia"
         ],
         "type": "scatter",
         "x": [
          0.2541517992255788,
          -0.502419390225182,
          null,
          -0.502419390225182,
          -0.46820195461790354,
          null,
          -0.502419390225182,
          -0.46242807520940066,
          null
         ],
         "y": [
          0.10596733808834924,
          0.32565705954711066,
          null,
          0.32565705954711066,
          0.3049407664920707,
          null,
          0.32565705954711066,
          0.3248249412928421,
          null
         ]
        },
        {
         "hoverinfo": "text",
         "line": {
          "color": "white",
          "width": 2
         },
         "mode": "lines",
         "opacity": 0.5,
         "text": [
          "Turkey to Ireland",
          "Turkey to Ireland",
          "Turkey to Ireland",
          "Turkey to Ireland",
          "Turkey to Ireland",
          "Turkey to Ireland",
          "Turkey to Ireland",
          "Turkey to Ireland",
          "Turkey to Ireland"
         ],
         "type": "scatter",
         "x": [
          0.2695358695783398,
          -0.32803607008836483,
          null,
          -0.32803607008836483,
          -0.2924131819841129,
          null,
          -0.32803607008836483,
          -0.3062825754287325,
          null
         ],
         "y": [
          0.03896557855582566,
          -0.5001254783866438,
          null,
          -0.5001254783866438,
          -0.48193181559700327,
          null,
          -0.5001254783866438,
          -0.4665578601708015,
          null
         ]
        },
        {
         "hoverinfo": "text",
         "line": {
          "color": "white",
          "width": 2
         },
         "mode": "lines",
         "opacity": 0.5,
         "text": [
          "Turkey to Slovakia",
          "Turkey to Slovakia",
          "Turkey to Slovakia",
          "Turkey to Slovakia",
          "Turkey to Slovakia",
          "Turkey to Slovakia",
          "Turkey to Slovakia",
          "Turkey to Slovakia",
          "Turkey to Slovakia"
         ],
         "type": "scatter",
         "x": [
          0.33117391945121133,
          0.3938674104094759,
          null,
          0.3938674104094759,
          0.39909967929527546,
          null,
          0.3938674104094759,
          0.37857046183076754,
          null
         ],
         "y": [
          0.016249664190681856,
          -0.46099659061756937,
          null,
          -0.46099659061756937,
          -0.421340137911086,
          null,
          -0.46099659061756937,
          -0.4240369607068788,
          null
         ]
        },
        {
         "hoverinfo": "text",
         "line": {
          "color": "white",
          "width": 2
         },
         "mode": "lines",
         "opacity": 0.5,
         "text": [
          "Turkey to Slovenia",
          "Turkey to Slovenia",
          "Turkey to Slovenia",
          "Turkey to Slovenia",
          "Turkey to Slovenia",
          "Turkey to Slovenia",
          "Turkey to Slovenia",
          "Turkey to Slovenia",
          "Turkey to Slovenia"
         ],
         "type": "scatter",
         "x": [
          0.34824298033941126,
          0.4961946784473624,
          null,
          0.4961946784473624,
          0.4914343772885341,
          null,
          0.4961946784473624,
          0.47221423699367904,
          null
         ],
         "y": [
          0.02071469509938624,
          -0.3485401370559063,
          null,
          -0.3485401370559063,
          -0.3088243376149591,
          null,
          -0.3485401370559063,
          -0.3165253963878524,
          null
         ]
        },
        {
         "hoverinfo": "text",
         "line": {
          "color": "white",
          "width": 2
         },
         "mode": "lines",
         "opacity": 0.5,
         "text": [
          "Turkey to Japan",
          "Turkey to Japan",
          "Turkey to Japan",
          "Turkey to Japan",
          "Turkey to Japan",
          "Turkey to Japan",
          "Turkey to Japan",
          "Turkey to Japan",
          "Turkey to Japan"
         ],
         "type": "scatter",
         "x": [
          0.2608122425293829,
          -0.02511001100300808,
          null,
          -0.02511001100300808,
          0.0031742191936159347,
          null,
          -0.02511001100300808,
          0.01352697010438745,
          null
         ],
         "y": [
          0.12158555214121,
          0.28666279788301335,
          null,
          0.28666279788301335,
          0.2583785594217489,
          null,
          0.28666279788301335,
          0.2763100439471735,
          null
         ]
        },
        {
         "hoverinfo": "text",
         "line": {
          "color": "white",
          "width": 2
         },
         "mode": "lines",
         "opacity": 0.5,
         "text": [
          "Hungary to Germany",
          "Hungary to Germany",
          "Hungary to Germany",
          "Hungary to Germany",
          "Hungary to Germany",
          "Hungary to Germany",
          "Hungary to Germany",
          "Hungary to Germany",
          "Hungary to Germany"
         ],
         "type": "scatter",
         "x": [
          0.38978661208470633,
          -0.26567492990811636,
          null,
          -0.26567492990811636,
          -0.22862403670624565,
          null,
          -0.26567492990811636,
          -0.24112500646381269,
          null
         ],
         "y": [
          0.45279007554686046,
          -0.04363314212000346,
          null,
          -0.04363314212000346,
          -0.028558959517162363,
          null,
          -0.04363314212000346,
          -0.012053070443722273,
          null
         ]
        },
        {
         "hoverinfo": "text",
         "line": {
          "color": "white",
          "width": 2
         },
         "mode": "lines",
         "opacity": 0.5,
         "text": [
          "Hungary to Switzerland",
          "Hungary to Switzerland",
          "Hungary to Switzerland",
          "Hungary to Switzerland",
          "Hungary to Switzerland",
          "Hungary to Switzerland",
          "Hungary to Switzerland",
          "Hungary to Switzerland",
          "Hungary to Switzerland"
         ],
         "type": "scatter",
         "x": [
          0.4173612084924643,
          -0.04095979898566647,
          null,
          -0.04095979898566647,
          -0.015786996040582448,
          null,
          -0.04095979898566647,
          -0.034702427790582864,
          null
         ],
         "y": [
          0.4309108100487228,
          -0.5984954975201126,
          null,
          -0.5984954975201126,
          -0.5674096662404747,
          null,
          -0.5984954975201126,
          -0.5589879764616473,
          null
         ]
        },
        {
         "hoverinfo": "text",
         "line": {
          "color": "white",
          "width": 2
         },
         "mode": "lines",
         "opacity": 0.5,
         "text": [
          "Hungary to Austria",
          "Hungary to Austria",
          "Hungary to Austria",
          "Hungary to Austria",
          "Hungary to Austria",
          "Hungary to Austria",
          "Hungary to Austria",
          "Hungary to Austria",
          "Hungary to Austria"
         ],
         "type": "scatter",
         "x": [
          0.389832055421589,
          -0.5408862291295511,
          null,
          -0.5408862291295511,
          -0.5038514102297337,
          null,
          -0.5408862291295511,
          -0.516369952496659,
          null
         ],
         "y": [
          0.4527301399387072,
          -0.2537237612880419,
          null,
          -0.2537237612880419,
          -0.23861012657023034,
          null,
          -0.2537237612880419,
          -0.22211756022898993,
          null
         ]
        },
        {
         "hoverinfo": "text",
         "line": {
          "color": "white",
          "width": 2
         },
         "mode": "lines",
         "opacity": 0.5,
         "text": [
          "Hungary to Slovakia",
          "Hungary to Slovakia",
          "Hungary to Slovakia",
          "Hungary to Slovakia",
          "Hungary to Slovakia",
          "Hungary to Slovakia",
          "Hungary to Slovakia",
          "Hungary to Slovakia",
          "Hungary to Slovakia"
         ],
         "type": "scatter",
         "x": [
          0.44312950940043716,
          0.40602350263684006,
          null,
          0.40602350263684006,
          0.4179850689555948,
          null,
          0.40602350263684006,
          0.3972978167253487,
          null
         ],
         "y": [
          0.4248669128094074,
          -0.4604569356117603,
          null,
          -0.4604569356117603,
          -0.4222875231865898,
          null,
          -0.4604569356117603,
          -0.4214204716446599,
          null
         ]
        },
        {
         "hoverinfo": "text",
         "line": {
          "color": "white",
          "width": 2
         },
         "mode": "lines",
         "opacity": 0.5,
         "text": [
          "Albania to Belgium",
          "Albania to Belgium",
          "Albania to Belgium",
          "Albania to Belgium",
          "Albania to Belgium",
          "Albania to Belgium",
          "Albania to Belgium",
          "Albania to Belgium",
          "Albania to Belgium"
         ],
         "type": "scatter",
         "x": [
          -0.7694754714370365,
          -0.6784378176330929,
          null,
          -0.6784378176330929,
          -0.6953905294449304,
          null,
          -0.6784378176330929,
          -0.6750043031583245,
          null
         ],
         "y": [
          -0.553954155330556,
          -0.04161865156422315,
          null,
          -0.04161865156422315,
          -0.07784863869793543,
          null,
          -0.04161865156422315,
          -0.08147109670672009,
          null
         ]
        },
        {
         "hoverinfo": "text",
         "line": {
          "color": "white",
          "width": 2
         },
         "mode": "lines",
         "opacity": 0.5,
         "text": [
          "Albania to Germany",
          "Albania to Germany",
          "Albania to Germany",
          "Albania to Germany",
          "Albania to Germany",
          "Albania to Germany",
          "Albania to Germany",
          "Albania to Germany",
          "Albania to Germany"
         ],
         "type": "scatter",
         "x": [
          -0.7359046907021789,
          -0.36790198377825933,
          null,
          -0.36790198377825933,
          -0.4008921003998667,
          null,
          -0.36790198377825933,
          -0.3851623866305348,
          null
         ],
         "y": [
          -0.5698370553122534,
          -0.13992589045896392,
          null,
          -0.13992589045896392,
          -0.16254564289065948,
          null,
          -0.13992589045896392,
          -0.17601022900293078,
          null
         ]
        },
        {
         "hoverinfo": "text",
         "line": {
          "color": "white",
          "width": 2
         },
         "mode": "lines",
         "opacity": 0.5,
         "text": [
          "Bulgaria to Italy",
          "Bulgaria to Italy",
          "Bulgaria to Italy",
          "Bulgaria to Italy",
          "Bulgaria to Italy",
          "Bulgaria to Italy",
          "Bulgaria to Italy",
          "Bulgaria to Italy",
          "Bulgaria to Italy"
         ],
         "type": "scatter",
         "x": [
          0.16388517612481024,
          0.27702391153311823,
          null,
          0.27702391153311823,
          0.28086075993630577,
          null,
          0.27702391153311823,
          0.2604389026367077,
          null
         ],
         "y": [
          0.5793953177547596,
          -0.09700942905904275,
          null,
          -0.09700942905904275,
          -0.05719379489096139,
          null,
          -0.09700942905904275,
          -0.060609654200102815,
          null
         ]
        },
        {
         "hoverinfo": "text",
         "line": {
          "color": "white",
          "width": 2
         },
         "mode": "lines",
         "opacity": 0.5,
         "text": [
          "Bulgaria to Romania",
          "Bulgaria to Romania",
          "Bulgaria to Romania",
          "Bulgaria to Romania",
          "Bulgaria to Romania",
          "Bulgaria to Romania",
          "Bulgaria to Romania",
          "Bulgaria to Romania",
          "Bulgaria to Romania"
         ],
         "type": "scatter",
         "x": [
          0.08421060250742733,
          -0.3984189610336572,
          null,
          -0.3984189610336572,
          -0.35842114108304163,
          null,
          -0.3984189610336572,
          -0.36398926533928594,
          null
         ],
         "y": [
          0.6300601556576474,
          0.495307545395972,
          null,
          0.495307545395972,
          0.49572641035368775,
          null,
          0.495307545395972,
          0.5156692030654167,
          null
         ]
        },
        {
         "hoverinfo": "text",
         "line": {
          "color": "white",
          "width": 2
         },
         "mode": "lines",
         "opacity": 0.5,
         "text": [
          "Bulgaria to The former Yugoslav Republic of Macedonia",
          "Bulgaria to The former Yugoslav Republic of Macedonia",
          "Bulgaria to The former Yugoslav Republic of Macedonia",
          "Bulgaria to The former Yugoslav Republic of Macedonia",
          "Bulgaria to The former Yugoslav Republic of Macedonia",
          "Bulgaria to The former Yugoslav Republic of Macedonia",
          "Bulgaria to The former Yugoslav Republic of Macedonia",
          "Bulgaria to The former Yugoslav Republic of Macedonia",
          "Bulgaria to The former Yugoslav Republic of Macedonia"
         ],
         "type": "scatter",
         "x": [
          0.18363632035729915,
          0.5776280038309333,
          null,
          0.5776280038309333,
          0.5697217016375633,
          null,
          0.5776280038309333,
          0.5511755097264596,
          null
         ],
         "y": [
          0.5857929781494057,
          -0.20789804015730973,
          null,
          -0.20789804015730973,
          -0.16868716904727232,
          null,
          -0.20789804015730973,
          -0.17789358076818498,
          null
         ]
        },
        {
         "hoverinfo": "text",
         "line": {
          "color": "white",
          "width": 2
         },
         "mode": "lines",
         "opacity": 0.5,
         "text": [
          "Taiwan to France",
          "Taiwan to France",
          "Taiwan to France",
          "Taiwan to France",
          "Taiwan to France",
          "Taiwan to France",
          "Taiwan to France",
          "Taiwan to France",
          "Taiwan to France"
         ],
         "type": "scatter",
         "x": [
          0.7152341554220965,
          -0.10006905592048669,
          null,
          -0.10006905592048669,
          -0.06708140142764563,
          null,
          -0.10006905592048669,
          -0.06018926960215071,
          null
         ],
         "y": [
          -0.5999809437166906,
          -0.31218371459133853,
          null,
          -0.31218371459133853,
          -0.33480699362388205,
          null,
          -0.31218371459133853,
          -0.3152822217040045,
          null
         ]
        },
        {
         "hoverinfo": "text",
         "line": {
          "color": "white",
          "width": 2
         },
         "mode": "lines",
         "opacity": 0.5,
         "text": [
          "Argentina to Uruguay",
          "Argentina to Uruguay",
          "Argentina to Uruguay",
          "Argentina to Uruguay",
          "Argentina to Uruguay",
          "Argentina to Uruguay",
          "Argentina to Uruguay",
          "Argentina to Uruguay",
          "Argentina to Uruguay"
         ],
         "type": "scatter",
         "x": [
          0.9047469777990913,
          -0.8307879252363777,
          null,
          -0.8307879252363777,
          -0.791234676555317,
          null,
          -0.8307879252363777,
          -0.7935529604499818,
          null
         ],
         "y": [
          -0.23042835273424286,
          -0.4259762617143045,
          null,
          -0.4259762617143045,
          -0.4319379549670927,
          null,
          -0.4259762617143045,
          -0.411362615180259,
          null
         ]
        },
        {
         "hoverinfo": "text",
         "line": {
          "color": "white",
          "width": 2
         },
         "mode": "lines",
         "opacity": 0.5,
         "text": [
          "Croatia to Serbia",
          "Croatia to Serbia",
          "Croatia to Serbia",
          "Croatia to Serbia",
          "Croatia to Serbia",
          "Croatia to Serbia",
          "Croatia to Serbia",
          "Croatia to Serbia",
          "Croatia to Serbia"
         ],
         "type": "scatter",
         "x": [
          -0.07512467554042837,
          -0.5090798380391787,
          null,
          -0.5090798380391787,
          -0.4704428057032216,
          null,
          -0.5090798380391787,
          -0.4807955639754456,
          null
         ],
         "y": [
          0.6312079756370783,
          0.38066383909070484,
          null,
          0.38066383909070484,
          0.39101659402279787,
          null,
          0.38066383909070484,
          0.40894810402903053,
          null
         ]
        },
        {
         "hoverinfo": "text",
         "line": {
          "color": "white",
          "width": 2
         },
         "mode": "lines",
         "opacity": 0.5,
         "text": [
          "Greece to United States",
          "Greece to United States",
          "Greece to United States",
          "Greece to United States",
          "Greece to United States",
          "Greece to United States",
          "Greece to United States",
          "Greece to United States",
          "Greece to United States"
         ],
         "type": "scatter",
         "x": [
          -0.19511638956287183,
          -0.2728387079932424,
          null,
          -0.2728387079932424,
          -0.2540859335946904,
          null,
          -0.2728387079932424,
          -0.2742641587385812,
          null
         ],
         "y": [
          0.573281798854139,
          0.23549326847526775,
          null,
          0.23549326847526775,
          0.2708249280071143,
          null,
          0.23549326847526775,
          0.27546777038698544,
          null
         ]
        },
        {
         "hoverinfo": "text",
         "line": {
          "color": "white",
          "width": 2
         },
         "mode": "lines",
         "opacity": 0.5,
         "text": [
          "Greece to Germany",
          "Greece to Germany",
          "Greece to Germany",
          "Greece to Germany",
          "Greece to Germany",
          "Greece to Germany",
          "Greece to Germany",
          "Greece to Germany",
          "Greece to Germany"
         ],
         "type": "scatter",
         "x": [
          -0.1928578256662465,
          -0.30839743325156205,
          null,
          -0.30839743325156205,
          -0.29080974442412405,
          null,
          -0.30839743325156205,
          -0.31112898341903633,
          null
         ],
         "y": [
          0.5728008602064598,
          -0.01696550885853655,
          null,
          -0.01696550885853655,
          0.018960362113246164,
          null,
          -0.01696550885853655,
          0.02294105246982822,
          null
         ]
        },
        {
         "hoverinfo": "text",
         "line": {
          "color": "white",
          "width": 2
         },
         "mode": "lines",
         "opacity": 0.5,
         "text": [
          "Greece to Turkey",
          "Greece to Turkey",
          "Greece to Turkey",
          "Greece to Turkey",
          "Greece to Turkey",
          "Greece to Turkey",
          "Greece to Turkey",
          "Greece to Turkey",
          "Greece to Turkey"
         ],
         "type": "scatter",
         "x": [
          -0.13198204453666668,
          0.2746773671694563,
          null,
          0.2746773671694563,
          0.25649017351425196,
          null,
          0.2746773671694563,
          0.24111368039583259,
          null
         ],
         "y": [
          0.5896603393861383,
          0.13872110065731108,
          null,
          0.13872110065731108,
          0.1743473307466503,
          null,
          0.13872110065731108,
          0.16048072412814623,
          null
         ]
        },
        {
         "hoverinfo": "text",
         "line": {
          "color": "white",
          "width": 2
         },
         "mode": "lines",
         "opacity": 0.5,
         "text": [
          "Greece to The former Yugoslav Republic of Macedonia",
          "Greece to The former Yugoslav Republic of Macedonia",
          "Greece to The former Yugoslav Republic of Macedonia",
          "Greece to The former Yugoslav Republic of Macedonia",
          "Greece to The former Yugoslav Republic of Macedonia",
          "Greece to The former Yugoslav Republic of Macedonia",
          "Greece to The former Yugoslav Republic of Macedonia",
          "Greece to The former Yugoslav Republic of Macedonia",
          "Greece to The former Yugoslav Republic of Macedonia"
         ],
         "type": "scatter",
         "x": [
          -0.13313213076660443,
          0.5628825285680037,
          null,
          0.5628825285680037,
          0.54547327035955,
          null,
          0.5628825285680037,
          0.52979928757252,
          null
         ],
         "y": [
          0.588645611220484,
          -0.21769491236794491,
          null,
          -0.21769491236794491,
          -0.18168215011610497,
          null,
          -0.21769491236794491,
          -0.1952115745016291,
          null
         ]
        },
        {
         "hoverinfo": "text",
         "line": {
          "color": "white",
          "width": 2
         },
         "mode": "lines",
         "opacity": 0.5,
         "text": [
          "Greece to Cyprus",
          "Greece to Cyprus",
          "Greece to Cyprus",
          "Greece to Cyprus",
          "Greece to Cyprus",
          "Greece to Cyprus",
          "Greece to Cyprus",
          "Greece to Cyprus",
          "Greece to Cyprus"
         ],
         "type": "scatter",
         "x": [
          -0.12489048137003242,
          0.16813120736414253,
          null,
          0.16813120736414253,
          0.13177212035808208,
          null,
          0.16813120736414253,
          0.14498024511582527,
          null
         ],
         "y": [
          0.6871602881195935,
          0.9298760545012561,
          null,
          0.9298760545012561,
          0.9132021929865766,
          null,
          0.9298760545012561,
          0.8972565233473297,
          null
         ]
        },
        {
         "hoverinfo": "text",
         "line": {
          "color": "white",
          "width": 2
         },
         "mode": "lines",
         "opacity": 0.5,
         "text": [
          "Greece to Italy",
          "Greece to Italy",
          "Greece to Italy",
          "Greece to Italy",
          "Greece to Italy",
          "Greece to Italy",
          "Greece to Italy",
          "Greece to Italy",
          "Greece to Italy"
         ],
         "type": "scatter",
         "x": [
          -0.14391031023663842,
          0.2533054715077337,
          null,
          0.2533054715077337,
          0.24291658833261573,
          null,
          0.2533054715077337,
          0.22499475318748804,
          null
         ],
         "y": [
          0.580978372413848,
          -0.10553672285768803,
          null,
          -0.10553672285768803,
          -0.06690935971039855,
          null,
          -0.10553672285768803,
          -0.07727888667848751,
          null
         ]
        },
        {
         "hoverinfo": "text",
         "line": {
          "color": "white",
          "width": 2
         },
         "mode": "lines",
         "opacity": 0.5,
         "text": [
          "Greece to Lebanon",
          "Greece to Lebanon",
          "Greece to Lebanon",
          "Greece to Lebanon",
          "Greece to Lebanon",
          "Greece to Lebanon",
          "Greece to Lebanon",
          "Greece to Lebanon",
          "Greece to Lebanon"
         ],
         "type": "scatter",
         "x": [
          -0.17161491015549632,
          -0.0076650460621325,
          null,
          -0.0076650460621325,
          -0.0015667772165039546,
          null,
          -0.0076650460621325,
          -0.022150019311937656,
          null
         ],
         "y": [
          0.571900564199393,
          -0.9297921834048678,
          null,
          -0.9297921834048678,
          -0.8902597254264144,
          null,
          -0.9297921834048678,
          -0.8925069360986722,
          null
         ]
        },
        {
         "hoverinfo": "text",
         "line": {
          "color": "white",
          "width": 2
         },
         "mode": "lines",
         "opacity": 0.5,
         "text": [
          "Greece to Romania",
          "Greece to Romania",
          "Greece to Romania",
          "Greece to Romania",
          "Greece to Romania",
          "Greece to Romania",
          "Greece to Romania",
          "Greece to Romania",
          "Greece to Romania"
         ],
         "type": "scatter",
         "x": [
          -0.24044300855938197,
          -0.4052792763536811,
          null,
          -0.4052792763536811,
          -0.36664224596445,
          null,
          -0.4052792763536811,
          -0.3769949998186251,
          null
         ],
         "y": [
          0.6067958743419378,
          0.5116275875721247,
          null,
          0.5116275875721247,
          0.5219803341897438,
          null,
          0.5116275875721247,
          0.5399118443365417,
          null
         ]
        },
        {
         "hoverinfo": "text",
         "line": {
          "color": "white",
          "width": 2
         },
         "mode": "lines",
         "opacity": 0.5,
         "text": [
          "Greece to Spain",
          "Greece to Spain",
          "Greece to Spain",
          "Greece to Spain",
          "Greece to Spain",
          "Greece to Spain",
          "Greece to Spain",
          "Greece to Spain",
          "Greece to Spain"
         ],
         "type": "scatter",
         "x": [
          -0.16052506147206314,
          0.06751810042441375,
          null,
          0.06751810042441375,
          0.06723884504686092,
          null,
          0.06751810042441375,
          0.047276725619760526,
          null
         ],
         "y": [
          0.5740191444881687,
          -0.25388605446894263,
          null,
          -0.25388605446894263,
          -0.21388698936184453,
          null,
          -0.25388605446894263,
          -0.21938547564734434,
          null
         ]
        },
        {
         "hoverinfo": "text",
         "line": {
          "color": "white",
          "width": 2
         },
         "mode": "lines",
         "opacity": 0.5,
         "text": [
          "Tunisia to Spain",
          "Tunisia to Spain",
          "Tunisia to Spain",
          "Tunisia to Spain",
          "Tunisia to Spain",
          "Tunisia to Spain",
          "Tunisia to Spain",
          "Tunisia to Spain",
          "Tunisia to Spain"
         ],
         "type": "scatter",
         "x": [
          0.7399797291859055,
          0.12812478082338324,
          null,
          0.12812478082338324,
          0.15935993493022135,
          null,
          0.12812478082338324,
          0.14268157452053198,
          null
         ],
         "y": [
          0.5666011369027977,
          -0.26508663056277076,
          null,
          -0.26508663056277076,
          -0.24009934406178096,
          null,
          -0.26508663056277076,
          -0.22782942862785457,
          null
         ]
        },
        {
         "hoverinfo": "text",
         "hovertext": [
          "China<br> degree centrality: 1.0333333333333332",
          "Japan<br> degree centrality: 0.55",
          "United States<br> degree centrality: 0.6333333333333333",
          "Germany<br> degree centrality: 0.8666666666666667",
          "France<br> degree centrality: 0.6",
          "Spain<br> degree centrality: 0.7666666666666666",
          "Italy<br> degree centrality: 0.9333333333333333",
          "Turkey<br> degree centrality: 0.75",
          "Korea, Republic of<br> degree centrality: 0.48333333333333334",
          "Romania<br> degree centrality: 0.31666666666666665",
          "Serbia<br> degree centrality: 0.15",
          "New Zealand<br> degree centrality: 0.11666666666666667",
          "Belgium<br> degree centrality: 0.4",
          "Portugal<br> degree centrality: 0.13333333333333333",
          "Austria<br> degree centrality: 0.3",
          "Netherlands<br> degree centrality: 0.43333333333333335",
          "Ireland<br> degree centrality: 0.25",
          "Luxembourg<br> degree centrality: 0.23333333333333334",
          "Switzerland<br> degree centrality: 0.26666666666666666",
          "Poland<br> degree centrality: 0.2",
          "United Kingdom<br> degree centrality: 0.3333333333333333",
          "Slovakia<br> degree centrality: 0.21666666666666667",
          "Slovenia<br> degree centrality: 0.21666666666666667",
          "The former Yugoslav Republic of Macedonia<br> degree centrality: 0.16666666666666666",
          "India<br> degree centrality: 0.21666666666666667",
          "Denmark<br> degree centrality: 0.2",
          "Bosnia and Herzegovina<br> degree centrality: 0.15",
          "Czech Republic<br> degree centrality: 0.25",
          "Hungary<br> degree centrality: 0.31666666666666665",
          "Algeria<br> degree centrality: 0.13333333333333333",
          "Bulgaria<br> degree centrality: 0.15",
          "Croatia<br> degree centrality: 0.11666666666666667",
          "Greece<br> degree centrality: 0.26666666666666666",
          "Australia<br> degree centrality: 0.08333333333333333",
          "Morocco<br> degree centrality: 0.08333333333333333",
          "Uruguay<br> degree centrality: 0.1",
          "Albania<br> degree centrality: 0.08333333333333333",
          "Uzbekistan<br> degree centrality: 0.03333333333333333",
          "Republic of Moldova<br> degree centrality: 0.1",
          "Montenegro<br> degree centrality: 0.08333333333333333",
          "Lebanon<br> degree centrality: 0.1",
          "Georgia<br> degree centrality: 0.06666666666666667",
          "Canada<br> degree centrality: 0.05",
          "Azerbaijan<br> degree centrality: 0.08333333333333333",
          "Taiwan<br> degree centrality: 0.06666666666666667",
          "Russia<br> degree centrality: 0.016666666666666666",
          "Argentina<br> degree centrality: 0.08333333333333333",
          "Viet Nam<br> degree centrality: 0.016666666666666666",
          "Ukraine<br> degree centrality: 0.03333333333333333",
          "Mexico<br> degree centrality: 0.03333333333333333",
          "Tunisia<br> degree centrality: 0.05",
          "Iran (Islamic Republic of)<br> degree centrality: 0.03333333333333333",
          "South Africa<br> degree centrality: 0.03333333333333333",
          "Cyprus<br> degree centrality: 0.06666666666666667",
          "Brazil<br> degree centrality: 0.016666666666666666",
          "Kazakhstan<br> degree centrality: 0.016666666666666666",
          "Pakistan<br> degree centrality: 0.016666666666666666",
          "Sweden<br> degree centrality: 0.03333333333333333",
          "Chile<br> degree centrality: 0.03333333333333333",
          "Kyrgyzstan<br> degree centrality: 0.016666666666666666",
          "Armenia<br> degree centrality: 0.016666666666666666"
         ],
         "marker": {
          "color": "blue",
          "colorbar": {
           "bgcolor": "#19191a",
           "thickness": 35,
           "tickfont": {
            "color": "white"
           },
           "title": {
            "font": {
             "color": "white",
             "size": 14
            },
            "side": "right",
            "text": "Probability of Introduction"
           },
           "xanchor": "left"
          },
          "colorscale": [
           [
            0,
            "rgb(36, 86, 104)"
           ],
           [
            0.16666666666666666,
            "rgb(15, 114, 121)"
           ],
           [
            0.3333333333333333,
            "rgb(13, 143, 129)"
           ],
           [
            0.5,
            "rgb(57, 171, 126)"
           ],
           [
            0.6666666666666666,
            "rgb(110, 197, 116)"
           ],
           [
            0.8333333333333334,
            "rgb(169, 220, 103)"
           ],
           [
            1,
            "rgb(237, 239, 93)"
           ]
          ],
          "line": {
           "color": "grey",
           "width": 3
          },
          "reversescale": false,
          "showscale": false,
          "size": 50
         },
         "mode": "markers",
         "type": "scatter",
         "x": [
          0.1666666567325592,
          -0.08627305924892426,
          -0.28867512941360474,
          -0.3219752907752991,
          -0.166666641831398,
          0.08627300709486008,
          0.28867512941360474,
          0.3219752907752991,
          -0.3333333730697632,
          -0.4664423167705536,
          -0.5702428817749023,
          -0.638213038444519,
          -0.6660819053649902,
          -0.6520984172821045,
          -0.5971411466598511,
          -0.504663348197937,
          -0.3804754912853241,
          -0.23238134384155273,
          -0.06968556344509125,
          0.09738852828741074,
          0.2583436369895935,
          0.4030660390853882,
          0.5224623680114746,
          0.6090303659439087,
          0.6573307514190674,
          0.6643285751342773,
          0.6295842528343201,
          0.5552808046340942,
          0.44608697295188904,
          0.30886414647102356,
          0.15223395824432373,
          -0.013961631804704666,
          -0.17927996814250946,
          -1,
          -0.9749278426170349,
          -0.9009688496589661,
          -0.7818313837051392,
          -0.6234896183013916,
          -0.4338839054107666,
          -0.22252100706100464,
          1.1924880638503055e-8,
          0.22252103686332703,
          0.4338839054107666,
          0.623490035533905,
          0.7818317413330078,
          0.9009688496589661,
          0.9749279022216797,
          1,
          0.9749279618263245,
          0.9009689092636108,
          0.7818315029144287,
          0.6234897375106812,
          0.4338836073875427,
          0.22252069413661957,
          -3.3776623808989825e-7,
          -0.2225213497877121,
          -0.4338842034339905,
          -0.6234895586967468,
          -0.7818313241004944,
          -0.9009687900543213,
          -0.9749279022216797
         ],
         "y": [
          0.2886751592159271,
          0.3219752907752991,
          0.1666666865348816,
          -0.08627302944660187,
          -0.2886751592159271,
          -0.3219752907752991,
          -0.16666673123836517,
          0.08627305924892426,
          0.5773502588272095,
          0.47631508111953735,
          0.34535133838653564,
          0.19268779456615448,
          0.027917109429836273,
          -0.13860785961151123,
          -0.2964235842227936,
          -0.435613751411438,
          -0.5474329590797424,
          -0.6248546838760376,
          -0.6630146503448486,
          -0.6595149040222168,
          -0.6145755052566528,
          -0.5310199856758118,
          -0.41409850120544434,
          -0.2711576819419861,
          -0.11117899417877197,
          0.0557851567864418,
          0.21924442052841187,
          0.3689277768135071,
          0.49542996287345886,
          0.5908023118972778,
          0.649052619934082,
          0.6665204763412476,
          0.6421083807945251,
          -8.742277657347586e-8,
          -0.222521111369133,
          -0.43388375639915466,
          -0.6234899163246155,
          -0.7818316221237183,
          -0.9009687900543213,
          -0.9749279022216797,
          -1,
          -0.9749279022216797,
          -0.9009687900543213,
          -0.7818313241004944,
          -0.623489499092102,
          -0.43388375639915466,
          -0.2225208580493927,
          1.7484555314695172e-7,
          0.22252072393894196,
          0.4338836371898651,
          0.6234897971153259,
          0.7818315029144287,
          0.9009689092636108,
          0.9749279618263245,
          1,
          0.9749278426170349,
          0.9009686708450317,
          0.781831681728363,
          0.6234899759292603,
          0.4338838756084442,
          0.22252100706100464
         ]
        }
       ],
       "layout": {
        "annotations": [
         {
          "arrowhead": 1,
          "ax": -10,
          "ay": -10,
          "font": {
           "color": "white",
           "size": 12
          },
          "showarrow": false,
          "text": "CHN",
          "x": 0.1666666567325592,
          "xanchor": "right",
          "xref": "x",
          "xshift": 15,
          "y": 0.2886751592159271,
          "yref": "y"
         },
         {
          "arrowhead": 1,
          "ax": -10,
          "ay": -10,
          "font": {
           "color": "white",
           "size": 12
          },
          "showarrow": false,
          "text": "JPN",
          "x": -0.08627305924892426,
          "xanchor": "right",
          "xref": "x",
          "xshift": 15,
          "y": 0.3219752907752991,
          "yref": "y"
         },
         {
          "arrowhead": 1,
          "ax": -10,
          "ay": -10,
          "font": {
           "color": "white",
           "size": 12
          },
          "showarrow": false,
          "text": "USA",
          "x": -0.28867512941360474,
          "xanchor": "right",
          "xref": "x",
          "xshift": 15,
          "y": 0.1666666865348816,
          "yref": "y"
         },
         {
          "arrowhead": 1,
          "ax": -10,
          "ay": -10,
          "font": {
           "color": "white",
           "size": 12
          },
          "showarrow": false,
          "text": "KOR",
          "x": -0.3333333730697632,
          "xanchor": "right",
          "xref": "x",
          "xshift": 15,
          "y": 0.5773502588272095,
          "yref": "y"
         },
         {
          "arrowhead": 1,
          "ax": -10,
          "ay": -10,
          "font": {
           "color": "white",
           "size": 12
          },
          "showarrow": false,
          "text": "ROU",
          "x": -0.4664423167705536,
          "xanchor": "right",
          "xref": "x",
          "xshift": 15,
          "y": 0.47631508111953735,
          "yref": "y"
         },
         {
          "arrowhead": 1,
          "ax": -10,
          "ay": -10,
          "font": {
           "color": "white",
           "size": 12
          },
          "showarrow": false,
          "text": "DEU",
          "x": -0.3219752907752991,
          "xanchor": "right",
          "xref": "x",
          "xshift": 15,
          "y": -0.08627302944660187,
          "yref": "y"
         },
         {
          "arrowhead": 1,
          "ax": -10,
          "ay": -10,
          "font": {
           "color": "white",
           "size": 12
          },
          "showarrow": false,
          "text": "SRB",
          "x": -0.5702428817749023,
          "xanchor": "right",
          "xref": "x",
          "xshift": 15,
          "y": 0.34535133838653564,
          "yref": "y"
         },
         {
          "arrowhead": 1,
          "ax": -10,
          "ay": -10,
          "font": {
           "color": "white",
           "size": 12
          },
          "showarrow": false,
          "text": "FRA",
          "x": -0.166666641831398,
          "xanchor": "right",
          "xref": "x",
          "xshift": 15,
          "y": -0.2886751592159271,
          "yref": "y"
         },
         {
          "arrowhead": 1,
          "ax": -10,
          "ay": -10,
          "font": {
           "color": "white",
           "size": 12
          },
          "showarrow": false,
          "text": "AUS",
          "x": -1,
          "xanchor": "right",
          "xref": "x",
          "xshift": 15,
          "y": -8.742277657347586e-8,
          "yref": "y"
         },
         {
          "arrowhead": 1,
          "ax": -10,
          "ay": -10,
          "font": {
           "color": "white",
           "size": 12
          },
          "showarrow": false,
          "text": "NZL",
          "x": -0.638213038444519,
          "xanchor": "right",
          "xref": "x",
          "xshift": 15,
          "y": 0.19268779456615448,
          "yref": "y"
         },
         {
          "arrowhead": 1,
          "ax": -10,
          "ay": -10,
          "font": {
           "color": "white",
           "size": 12
          },
          "showarrow": false,
          "text": "ESP",
          "x": 0.08627300709486008,
          "xanchor": "right",
          "xref": "x",
          "xshift": 15,
          "y": -0.3219752907752991,
          "yref": "y"
         },
         {
          "arrowhead": 1,
          "ax": -10,
          "ay": -10,
          "font": {
           "color": "white",
           "size": 12
          },
          "showarrow": false,
          "text": "BEL",
          "x": -0.6660819053649902,
          "xanchor": "right",
          "xref": "x",
          "xshift": 15,
          "y": 0.027917109429836273,
          "yref": "y"
         },
         {
          "arrowhead": 1,
          "ax": -10,
          "ay": -10,
          "font": {
           "color": "white",
           "size": 12
          },
          "showarrow": false,
          "text": "PRT",
          "x": -0.6520984172821045,
          "xanchor": "right",
          "xref": "x",
          "xshift": 15,
          "y": -0.13860785961151123,
          "yref": "y"
         },
         {
          "arrowhead": 1,
          "ax": -10,
          "ay": -10,
          "font": {
           "color": "white",
           "size": 12
          },
          "showarrow": false,
          "text": "AUT",
          "x": -0.5971411466598511,
          "xanchor": "right",
          "xref": "x",
          "xshift": 15,
          "y": -0.2964235842227936,
          "yref": "y"
         },
         {
          "arrowhead": 1,
          "ax": -10,
          "ay": -10,
          "font": {
           "color": "white",
           "size": 12
          },
          "showarrow": false,
          "text": "ITA",
          "x": 0.28867512941360474,
          "xanchor": "right",
          "xref": "x",
          "xshift": 15,
          "y": -0.16666673123836517,
          "yref": "y"
         },
         {
          "arrowhead": 1,
          "ax": -10,
          "ay": -10,
          "font": {
           "color": "white",
           "size": 12
          },
          "showarrow": false,
          "text": "NLD",
          "x": -0.504663348197937,
          "xanchor": "right",
          "xref": "x",
          "xshift": 15,
          "y": -0.435613751411438,
          "yref": "y"
         },
         {
          "arrowhead": 1,
          "ax": -10,
          "ay": -10,
          "font": {
           "color": "white",
           "size": 12
          },
          "showarrow": false,
          "text": "IRL",
          "x": -0.3804754912853241,
          "xanchor": "right",
          "xref": "x",
          "xshift": 15,
          "y": -0.5474329590797424,
          "yref": "y"
         },
         {
          "arrowhead": 1,
          "ax": -10,
          "ay": -10,
          "font": {
           "color": "white",
           "size": 12
          },
          "showarrow": false,
          "text": "LUX",
          "x": -0.23238134384155273,
          "xanchor": "right",
          "xref": "x",
          "xshift": 15,
          "y": -0.6248546838760376,
          "yref": "y"
         },
         {
          "arrowhead": 1,
          "ax": -10,
          "ay": -10,
          "font": {
           "color": "white",
           "size": 12
          },
          "showarrow": false,
          "text": "MAR",
          "x": -0.9749278426170349,
          "xanchor": "right",
          "xref": "x",
          "xshift": 15,
          "y": -0.222521111369133,
          "yref": "y"
         },
         {
          "arrowhead": 1,
          "ax": -10,
          "ay": -10,
          "font": {
           "color": "white",
           "size": 12
          },
          "showarrow": false,
          "text": "CHE",
          "x": -0.06968556344509125,
          "xanchor": "right",
          "xref": "x",
          "xshift": 15,
          "y": -0.6630146503448486,
          "yref": "y"
         },
         {
          "arrowhead": 1,
          "ax": -10,
          "ay": -10,
          "font": {
           "color": "white",
           "size": 12
          },
          "showarrow": false,
          "text": "POL",
          "x": 0.09738852828741074,
          "xanchor": "right",
          "xref": "x",
          "xshift": 15,
          "y": -0.6595149040222168,
          "yref": "y"
         },
         {
          "arrowhead": 1,
          "ax": -10,
          "ay": -10,
          "font": {
           "color": "white",
           "size": 12
          },
          "showarrow": false,
          "text": "GBR",
          "x": 0.2583436369895935,
          "xanchor": "right",
          "xref": "x",
          "xshift": 15,
          "y": -0.6145755052566528,
          "yref": "y"
         },
         {
          "arrowhead": 1,
          "ax": -10,
          "ay": -10,
          "font": {
           "color": "white",
           "size": 12
          },
          "showarrow": false,
          "text": "SVK",
          "x": 0.4030660390853882,
          "xanchor": "right",
          "xref": "x",
          "xshift": 15,
          "y": -0.5310199856758118,
          "yref": "y"
         },
         {
          "arrowhead": 1,
          "ax": -10,
          "ay": -10,
          "font": {
           "color": "white",
           "size": 12
          },
          "showarrow": false,
          "text": "SVN",
          "x": 0.5224623680114746,
          "xanchor": "right",
          "xref": "x",
          "xshift": 15,
          "y": -0.41409850120544434,
          "yref": "y"
         },
         {
          "arrowhead": 1,
          "ax": -10,
          "ay": -10,
          "font": {
           "color": "white",
           "size": 12
          },
          "showarrow": false,
          "text": "URY",
          "x": -0.9009688496589661,
          "xanchor": "right",
          "xref": "x",
          "xshift": 15,
          "y": -0.43388375639915466,
          "yref": "y"
         },
         {
          "arrowhead": 1,
          "ax": -10,
          "ay": -10,
          "font": {
           "color": "white",
           "size": 12
          },
          "showarrow": false,
          "text": "MKD",
          "x": 0.6090303659439087,
          "xanchor": "right",
          "xref": "x",
          "xshift": 15,
          "y": -0.2711576819419861,
          "yref": "y"
         },
         {
          "arrowhead": 1,
          "ax": -10,
          "ay": -10,
          "font": {
           "color": "white",
           "size": 12
          },
          "showarrow": false,
          "text": "IND",
          "x": 0.6573307514190674,
          "xanchor": "right",
          "xref": "x",
          "xshift": 15,
          "y": -0.11117899417877197,
          "yref": "y"
         },
         {
          "arrowhead": 1,
          "ax": -10,
          "ay": -10,
          "font": {
           "color": "white",
           "size": 12
          },
          "showarrow": false,
          "text": "DNK",
          "x": 0.6643285751342773,
          "xanchor": "right",
          "xref": "x",
          "xshift": 15,
          "y": 0.0557851567864418,
          "yref": "y"
         },
         {
          "arrowhead": 1,
          "ax": -10,
          "ay": -10,
          "font": {
           "color": "white",
           "size": 12
          },
          "showarrow": false,
          "text": "BIH",
          "x": 0.6295842528343201,
          "xanchor": "right",
          "xref": "x",
          "xshift": 15,
          "y": 0.21924442052841187,
          "yref": "y"
         },
         {
          "arrowhead": 1,
          "ax": -10,
          "ay": -10,
          "font": {
           "color": "white",
           "size": 12
          },
          "showarrow": false,
          "text": "CZE",
          "x": 0.5552808046340942,
          "xanchor": "right",
          "xref": "x",
          "xshift": 15,
          "y": 0.3689277768135071,
          "yref": "y"
         },
         {
          "arrowhead": 1,
          "ax": -10,
          "ay": -10,
          "font": {
           "color": "white",
           "size": 12
          },
          "showarrow": false,
          "text": "TUR",
          "x": 0.3219752907752991,
          "xanchor": "right",
          "xref": "x",
          "xshift": 15,
          "y": 0.08627305924892426,
          "yref": "y"
         },
         {
          "arrowhead": 1,
          "ax": -10,
          "ay": -10,
          "font": {
           "color": "white",
           "size": 12
          },
          "showarrow": false,
          "text": "HUN",
          "x": 0.44608697295188904,
          "xanchor": "right",
          "xref": "x",
          "xshift": 15,
          "y": 0.49542996287345886,
          "yref": "y"
         },
         {
          "arrowhead": 1,
          "ax": -10,
          "ay": -10,
          "font": {
           "color": "white",
           "size": 12
          },
          "showarrow": false,
          "text": "ALB",
          "x": -0.7818313837051392,
          "xanchor": "right",
          "xref": "x",
          "xshift": 15,
          "y": -0.6234899163246155,
          "yref": "y"
         },
         {
          "arrowhead": 1,
          "ax": -10,
          "ay": -10,
          "font": {
           "color": "white",
           "size": 12
          },
          "showarrow": false,
          "text": "DZA",
          "x": 0.30886414647102356,
          "xanchor": "right",
          "xref": "x",
          "xshift": 15,
          "y": 0.5908023118972778,
          "yref": "y"
         },
         {
          "arrowhead": 1,
          "ax": -10,
          "ay": -10,
          "font": {
           "color": "white",
           "size": 12
          },
          "showarrow": false,
          "text": "UZB",
          "x": -0.6234896183013916,
          "xanchor": "right",
          "xref": "x",
          "xshift": 15,
          "y": -0.7818316221237183,
          "yref": "y"
         },
         {
          "arrowhead": 1,
          "ax": -10,
          "ay": -10,
          "font": {
           "color": "white",
           "size": 12
          },
          "showarrow": false,
          "text": "MDA",
          "x": -0.4338839054107666,
          "xanchor": "right",
          "xref": "x",
          "xshift": 15,
          "y": -0.9009687900543213,
          "yref": "y"
         },
         {
          "arrowhead": 1,
          "ax": -10,
          "ay": -10,
          "font": {
           "color": "white",
           "size": 12
          },
          "showarrow": false,
          "text": "MNE",
          "x": -0.22252100706100464,
          "xanchor": "right",
          "xref": "x",
          "xshift": 15,
          "y": -0.9749279022216797,
          "yref": "y"
         },
         {
          "arrowhead": 1,
          "ax": -10,
          "ay": -10,
          "font": {
           "color": "white",
           "size": 12
          },
          "showarrow": false,
          "text": "LBN",
          "x": 1.1924880638503055e-8,
          "xanchor": "right",
          "xref": "x",
          "xshift": 15,
          "y": -1,
          "yref": "y"
         },
         {
          "arrowhead": 1,
          "ax": -10,
          "ay": -10,
          "font": {
           "color": "white",
           "size": 12
          },
          "showarrow": false,
          "text": "GEO",
          "x": 0.22252103686332703,
          "xanchor": "right",
          "xref": "x",
          "xshift": 15,
          "y": -0.9749279022216797,
          "yref": "y"
         },
         {
          "arrowhead": 1,
          "ax": -10,
          "ay": -10,
          "font": {
           "color": "white",
           "size": 12
          },
          "showarrow": false,
          "text": "CAN",
          "x": 0.4338839054107666,
          "xanchor": "right",
          "xref": "x",
          "xshift": 15,
          "y": -0.9009687900543213,
          "yref": "y"
         },
         {
          "arrowhead": 1,
          "ax": -10,
          "ay": -10,
          "font": {
           "color": "white",
           "size": 12
          },
          "showarrow": false,
          "text": "BGR",
          "x": 0.15223395824432373,
          "xanchor": "right",
          "xref": "x",
          "xshift": 15,
          "y": 0.649052619934082,
          "yref": "y"
         },
         {
          "arrowhead": 1,
          "ax": -10,
          "ay": -10,
          "font": {
           "color": "white",
           "size": 12
          },
          "showarrow": false,
          "text": "AZE",
          "x": 0.623490035533905,
          "xanchor": "right",
          "xref": "x",
          "xshift": 15,
          "y": -0.7818313241004944,
          "yref": "y"
         },
         {
          "arrowhead": 1,
          "ax": -10,
          "ay": -10,
          "font": {
           "color": "white",
           "size": 12
          },
          "showarrow": false,
          "text": "TWN",
          "x": 0.7818317413330078,
          "xanchor": "right",
          "xref": "x",
          "xshift": 15,
          "y": -0.623489499092102,
          "yref": "y"
         },
         {
          "arrowhead": 1,
          "ax": -10,
          "ay": -10,
          "font": {
           "color": "white",
           "size": 12
          },
          "showarrow": false,
          "text": "RUS",
          "x": 0.9009688496589661,
          "xanchor": "right",
          "xref": "x",
          "xshift": 15,
          "y": -0.43388375639915466,
          "yref": "y"
         },
         {
          "arrowhead": 1,
          "ax": -10,
          "ay": -10,
          "font": {
           "color": "white",
           "size": 12
          },
          "showarrow": false,
          "text": "ARG",
          "x": 0.9749279022216797,
          "xanchor": "right",
          "xref": "x",
          "xshift": 15,
          "y": -0.2225208580493927,
          "yref": "y"
         },
         {
          "arrowhead": 1,
          "ax": -10,
          "ay": -10,
          "font": {
           "color": "white",
           "size": 12
          },
          "showarrow": false,
          "text": "HRV",
          "x": -0.013961631804704666,
          "xanchor": "right",
          "xref": "x",
          "xshift": 15,
          "y": 0.6665204763412476,
          "yref": "y"
         },
         {
          "arrowhead": 1,
          "ax": -10,
          "ay": -10,
          "font": {
           "color": "white",
           "size": 12
          },
          "showarrow": false,
          "text": "GRC",
          "x": -0.17927996814250946,
          "xanchor": "right",
          "xref": "x",
          "xshift": 15,
          "y": 0.6421083807945251,
          "yref": "y"
         },
         {
          "arrowhead": 1,
          "ax": -10,
          "ay": -10,
          "font": {
           "color": "white",
           "size": 12
          },
          "showarrow": false,
          "text": "VNM",
          "x": 1,
          "xanchor": "right",
          "xref": "x",
          "xshift": 15,
          "y": 1.7484555314695172e-7,
          "yref": "y"
         },
         {
          "arrowhead": 1,
          "ax": -10,
          "ay": -10,
          "font": {
           "color": "white",
           "size": 12
          },
          "showarrow": false,
          "text": "UKR",
          "x": 0.9749279618263245,
          "xanchor": "right",
          "xref": "x",
          "xshift": 15,
          "y": 0.22252072393894196,
          "yref": "y"
         },
         {
          "arrowhead": 1,
          "ax": -10,
          "ay": -10,
          "font": {
           "color": "white",
           "size": 12
          },
          "showarrow": false,
          "text": "MEX",
          "x": 0.9009689092636108,
          "xanchor": "right",
          "xref": "x",
          "xshift": 15,
          "y": 0.4338836371898651,
          "yref": "y"
         },
         {
          "arrowhead": 1,
          "ax": -10,
          "ay": -10,
          "font": {
           "color": "white",
           "size": 12
          },
          "showarrow": false,
          "text": "TUN",
          "x": 0.7818315029144287,
          "xanchor": "right",
          "xref": "x",
          "xshift": 15,
          "y": 0.6234897971153259,
          "yref": "y"
         },
         {
          "arrowhead": 1,
          "ax": -10,
          "ay": -10,
          "font": {
           "color": "white",
           "size": 12
          },
          "showarrow": false,
          "text": "IRN",
          "x": 0.6234897375106812,
          "xanchor": "right",
          "xref": "x",
          "xshift": 15,
          "y": 0.7818315029144287,
          "yref": "y"
         },
         {
          "arrowhead": 1,
          "ax": -10,
          "ay": -10,
          "font": {
           "color": "white",
           "size": 12
          },
          "showarrow": false,
          "text": "ZAF",
          "x": 0.4338836073875427,
          "xanchor": "right",
          "xref": "x",
          "xshift": 15,
          "y": 0.9009689092636108,
          "yref": "y"
         },
         {
          "arrowhead": 1,
          "ax": -10,
          "ay": -10,
          "font": {
           "color": "white",
           "size": 12
          },
          "showarrow": false,
          "text": "CYP",
          "x": 0.22252069413661957,
          "xanchor": "right",
          "xref": "x",
          "xshift": 15,
          "y": 0.9749279618263245,
          "yref": "y"
         },
         {
          "arrowhead": 1,
          "ax": -10,
          "ay": -10,
          "font": {
           "color": "white",
           "size": 12
          },
          "showarrow": false,
          "text": "BRA",
          "x": -3.3776623808989825e-7,
          "xanchor": "right",
          "xref": "x",
          "xshift": 15,
          "y": 1,
          "yref": "y"
         },
         {
          "arrowhead": 1,
          "ax": -10,
          "ay": -10,
          "font": {
           "color": "white",
           "size": 12
          },
          "showarrow": false,
          "text": "KAZ",
          "x": -0.2225213497877121,
          "xanchor": "right",
          "xref": "x",
          "xshift": 15,
          "y": 0.9749278426170349,
          "yref": "y"
         },
         {
          "arrowhead": 1,
          "ax": -10,
          "ay": -10,
          "font": {
           "color": "white",
           "size": 12
          },
          "showarrow": false,
          "text": "PAK",
          "x": -0.4338842034339905,
          "xanchor": "right",
          "xref": "x",
          "xshift": 15,
          "y": 0.9009686708450317,
          "yref": "y"
         },
         {
          "arrowhead": 1,
          "ax": -10,
          "ay": -10,
          "font": {
           "color": "white",
           "size": 12
          },
          "showarrow": false,
          "text": "SWE",
          "x": -0.6234895586967468,
          "xanchor": "right",
          "xref": "x",
          "xshift": 15,
          "y": 0.781831681728363,
          "yref": "y"
         },
         {
          "arrowhead": 1,
          "ax": -10,
          "ay": -10,
          "font": {
           "color": "white",
           "size": 12
          },
          "showarrow": false,
          "text": "CHL",
          "x": -0.7818313241004944,
          "xanchor": "right",
          "xref": "x",
          "xshift": 15,
          "y": 0.6234899759292603,
          "yref": "y"
         },
         {
          "arrowhead": 1,
          "ax": -10,
          "ay": -10,
          "font": {
           "color": "white",
           "size": 12
          },
          "showarrow": false,
          "text": "KGZ",
          "x": -0.9009687900543213,
          "xanchor": "right",
          "xref": "x",
          "xshift": 15,
          "y": 0.4338838756084442,
          "yref": "y"
         },
         {
          "arrowhead": 1,
          "ax": -10,
          "ay": -10,
          "font": {
           "color": "white",
           "size": 12
          },
          "showarrow": false,
          "text": "ARM",
          "x": -0.9749279022216797,
          "xanchor": "right",
          "xref": "x",
          "xshift": 15,
          "y": 0.22252100706100464,
          "yref": "y"
         }
        ],
        "hovermode": "closest",
        "margin": {
         "b": 0,
         "l": 0,
         "pad": 0,
         "r": 0,
         "t": 0
        },
        "paper_bgcolor": "#19191a",
        "plot_bgcolor": "#19191a",
        "showlegend": false,
        "template": {
         "data": {
          "bar": [
           {
            "error_x": {
             "color": "#2a3f5f"
            },
            "error_y": {
             "color": "#2a3f5f"
            },
            "marker": {
             "line": {
              "color": "#E5ECF6",
              "width": 0.5
             }
            },
            "type": "bar"
           }
          ],
          "barpolar": [
           {
            "marker": {
             "line": {
              "color": "#E5ECF6",
              "width": 0.5
             }
            },
            "type": "barpolar"
           }
          ],
          "carpet": [
           {
            "aaxis": {
             "endlinecolor": "#2a3f5f",
             "gridcolor": "white",
             "linecolor": "white",
             "minorgridcolor": "white",
             "startlinecolor": "#2a3f5f"
            },
            "baxis": {
             "endlinecolor": "#2a3f5f",
             "gridcolor": "white",
             "linecolor": "white",
             "minorgridcolor": "white",
             "startlinecolor": "#2a3f5f"
            },
            "type": "carpet"
           }
          ],
          "choropleth": [
           {
            "colorbar": {
             "outlinewidth": 0,
             "ticks": ""
            },
            "type": "choropleth"
           }
          ],
          "contour": [
           {
            "colorbar": {
             "outlinewidth": 0,
             "ticks": ""
            },
            "colorscale": [
             [
              0,
              "#0d0887"
             ],
             [
              0.1111111111111111,
              "#46039f"
             ],
             [
              0.2222222222222222,
              "#7201a8"
             ],
             [
              0.3333333333333333,
              "#9c179e"
             ],
             [
              0.4444444444444444,
              "#bd3786"
             ],
             [
              0.5555555555555556,
              "#d8576b"
             ],
             [
              0.6666666666666666,
              "#ed7953"
             ],
             [
              0.7777777777777778,
              "#fb9f3a"
             ],
             [
              0.8888888888888888,
              "#fdca26"
             ],
             [
              1,
              "#f0f921"
             ]
            ],
            "type": "contour"
           }
          ],
          "contourcarpet": [
           {
            "colorbar": {
             "outlinewidth": 0,
             "ticks": ""
            },
            "type": "contourcarpet"
           }
          ],
          "heatmap": [
           {
            "colorbar": {
             "outlinewidth": 0,
             "ticks": ""
            },
            "colorscale": [
             [
              0,
              "#0d0887"
             ],
             [
              0.1111111111111111,
              "#46039f"
             ],
             [
              0.2222222222222222,
              "#7201a8"
             ],
             [
              0.3333333333333333,
              "#9c179e"
             ],
             [
              0.4444444444444444,
              "#bd3786"
             ],
             [
              0.5555555555555556,
              "#d8576b"
             ],
             [
              0.6666666666666666,
              "#ed7953"
             ],
             [
              0.7777777777777778,
              "#fb9f3a"
             ],
             [
              0.8888888888888888,
              "#fdca26"
             ],
             [
              1,
              "#f0f921"
             ]
            ],
            "type": "heatmap"
           }
          ],
          "heatmapgl": [
           {
            "colorbar": {
             "outlinewidth": 0,
             "ticks": ""
            },
            "colorscale": [
             [
              0,
              "#0d0887"
             ],
             [
              0.1111111111111111,
              "#46039f"
             ],
             [
              0.2222222222222222,
              "#7201a8"
             ],
             [
              0.3333333333333333,
              "#9c179e"
             ],
             [
              0.4444444444444444,
              "#bd3786"
             ],
             [
              0.5555555555555556,
              "#d8576b"
             ],
             [
              0.6666666666666666,
              "#ed7953"
             ],
             [
              0.7777777777777778,
              "#fb9f3a"
             ],
             [
              0.8888888888888888,
              "#fdca26"
             ],
             [
              1,
              "#f0f921"
             ]
            ],
            "type": "heatmapgl"
           }
          ],
          "histogram": [
           {
            "marker": {
             "colorbar": {
              "outlinewidth": 0,
              "ticks": ""
             }
            },
            "type": "histogram"
           }
          ],
          "histogram2d": [
           {
            "colorbar": {
             "outlinewidth": 0,
             "ticks": ""
            },
            "colorscale": [
             [
              0,
              "#0d0887"
             ],
             [
              0.1111111111111111,
              "#46039f"
             ],
             [
              0.2222222222222222,
              "#7201a8"
             ],
             [
              0.3333333333333333,
              "#9c179e"
             ],
             [
              0.4444444444444444,
              "#bd3786"
             ],
             [
              0.5555555555555556,
              "#d8576b"
             ],
             [
              0.6666666666666666,
              "#ed7953"
             ],
             [
              0.7777777777777778,
              "#fb9f3a"
             ],
             [
              0.8888888888888888,
              "#fdca26"
             ],
             [
              1,
              "#f0f921"
             ]
            ],
            "type": "histogram2d"
           }
          ],
          "histogram2dcontour": [
           {
            "colorbar": {
             "outlinewidth": 0,
             "ticks": ""
            },
            "colorscale": [
             [
              0,
              "#0d0887"
             ],
             [
              0.1111111111111111,
              "#46039f"
             ],
             [
              0.2222222222222222,
              "#7201a8"
             ],
             [
              0.3333333333333333,
              "#9c179e"
             ],
             [
              0.4444444444444444,
              "#bd3786"
             ],
             [
              0.5555555555555556,
              "#d8576b"
             ],
             [
              0.6666666666666666,
              "#ed7953"
             ],
             [
              0.7777777777777778,
              "#fb9f3a"
             ],
             [
              0.8888888888888888,
              "#fdca26"
             ],
             [
              1,
              "#f0f921"
             ]
            ],
            "type": "histogram2dcontour"
           }
          ],
          "mesh3d": [
           {
            "colorbar": {
             "outlinewidth": 0,
             "ticks": ""
            },
            "type": "mesh3d"
           }
          ],
          "parcoords": [
           {
            "line": {
             "colorbar": {
              "outlinewidth": 0,
              "ticks": ""
             }
            },
            "type": "parcoords"
           }
          ],
          "pie": [
           {
            "automargin": true,
            "type": "pie"
           }
          ],
          "scatter": [
           {
            "marker": {
             "colorbar": {
              "outlinewidth": 0,
              "ticks": ""
             }
            },
            "type": "scatter"
           }
          ],
          "scatter3d": [
           {
            "line": {
             "colorbar": {
              "outlinewidth": 0,
              "ticks": ""
             }
            },
            "marker": {
             "colorbar": {
              "outlinewidth": 0,
              "ticks": ""
             }
            },
            "type": "scatter3d"
           }
          ],
          "scattercarpet": [
           {
            "marker": {
             "colorbar": {
              "outlinewidth": 0,
              "ticks": ""
             }
            },
            "type": "scattercarpet"
           }
          ],
          "scattergeo": [
           {
            "marker": {
             "colorbar": {
              "outlinewidth": 0,
              "ticks": ""
             }
            },
            "type": "scattergeo"
           }
          ],
          "scattergl": [
           {
            "marker": {
             "colorbar": {
              "outlinewidth": 0,
              "ticks": ""
             }
            },
            "type": "scattergl"
           }
          ],
          "scattermapbox": [
           {
            "marker": {
             "colorbar": {
              "outlinewidth": 0,
              "ticks": ""
             }
            },
            "type": "scattermapbox"
           }
          ],
          "scatterpolar": [
           {
            "marker": {
             "colorbar": {
              "outlinewidth": 0,
              "ticks": ""
             }
            },
            "type": "scatterpolar"
           }
          ],
          "scatterpolargl": [
           {
            "marker": {
             "colorbar": {
              "outlinewidth": 0,
              "ticks": ""
             }
            },
            "type": "scatterpolargl"
           }
          ],
          "scatterternary": [
           {
            "marker": {
             "colorbar": {
              "outlinewidth": 0,
              "ticks": ""
             }
            },
            "type": "scatterternary"
           }
          ],
          "surface": [
           {
            "colorbar": {
             "outlinewidth": 0,
             "ticks": ""
            },
            "colorscale": [
             [
              0,
              "#0d0887"
             ],
             [
              0.1111111111111111,
              "#46039f"
             ],
             [
              0.2222222222222222,
              "#7201a8"
             ],
             [
              0.3333333333333333,
              "#9c179e"
             ],
             [
              0.4444444444444444,
              "#bd3786"
             ],
             [
              0.5555555555555556,
              "#d8576b"
             ],
             [
              0.6666666666666666,
              "#ed7953"
             ],
             [
              0.7777777777777778,
              "#fb9f3a"
             ],
             [
              0.8888888888888888,
              "#fdca26"
             ],
             [
              1,
              "#f0f921"
             ]
            ],
            "type": "surface"
           }
          ],
          "table": [
           {
            "cells": {
             "fill": {
              "color": "#EBF0F8"
             },
             "line": {
              "color": "white"
             }
            },
            "header": {
             "fill": {
              "color": "#C8D4E3"
             },
             "line": {
              "color": "white"
             }
            },
            "type": "table"
           }
          ]
         },
         "layout": {
          "annotationdefaults": {
           "arrowcolor": "#2a3f5f",
           "arrowhead": 0,
           "arrowwidth": 1
          },
          "autotypenumbers": "strict",
          "coloraxis": {
           "colorbar": {
            "outlinewidth": 0,
            "ticks": ""
           }
          },
          "colorscale": {
           "diverging": [
            [
             0,
             "#8e0152"
            ],
            [
             0.1,
             "#c51b7d"
            ],
            [
             0.2,
             "#de77ae"
            ],
            [
             0.3,
             "#f1b6da"
            ],
            [
             0.4,
             "#fde0ef"
            ],
            [
             0.5,
             "#f7f7f7"
            ],
            [
             0.6,
             "#e6f5d0"
            ],
            [
             0.7,
             "#b8e186"
            ],
            [
             0.8,
             "#7fbc41"
            ],
            [
             0.9,
             "#4d9221"
            ],
            [
             1,
             "#276419"
            ]
           ],
           "sequential": [
            [
             0,
             "#0d0887"
            ],
            [
             0.1111111111111111,
             "#46039f"
            ],
            [
             0.2222222222222222,
             "#7201a8"
            ],
            [
             0.3333333333333333,
             "#9c179e"
            ],
            [
             0.4444444444444444,
             "#bd3786"
            ],
            [
             0.5555555555555556,
             "#d8576b"
            ],
            [
             0.6666666666666666,
             "#ed7953"
            ],
            [
             0.7777777777777778,
             "#fb9f3a"
            ],
            [
             0.8888888888888888,
             "#fdca26"
            ],
            [
             1,
             "#f0f921"
            ]
           ],
           "sequentialminus": [
            [
             0,
             "#0d0887"
            ],
            [
             0.1111111111111111,
             "#46039f"
            ],
            [
             0.2222222222222222,
             "#7201a8"
            ],
            [
             0.3333333333333333,
             "#9c179e"
            ],
            [
             0.4444444444444444,
             "#bd3786"
            ],
            [
             0.5555555555555556,
             "#d8576b"
            ],
            [
             0.6666666666666666,
             "#ed7953"
            ],
            [
             0.7777777777777778,
             "#fb9f3a"
            ],
            [
             0.8888888888888888,
             "#fdca26"
            ],
            [
             1,
             "#f0f921"
            ]
           ]
          },
          "colorway": [
           "#636efa",
           "#EF553B",
           "#00cc96",
           "#ab63fa",
           "#FFA15A",
           "#19d3f3",
           "#FF6692",
           "#B6E880",
           "#FF97FF",
           "#FECB52"
          ],
          "font": {
           "color": "#2a3f5f"
          },
          "geo": {
           "bgcolor": "white",
           "lakecolor": "white",
           "landcolor": "#E5ECF6",
           "showlakes": true,
           "showland": true,
           "subunitcolor": "white"
          },
          "hoverlabel": {
           "align": "left"
          },
          "hovermode": "closest",
          "mapbox": {
           "style": "light"
          },
          "paper_bgcolor": "white",
          "plot_bgcolor": "#E5ECF6",
          "polar": {
           "angularaxis": {
            "gridcolor": "white",
            "linecolor": "white",
            "ticks": ""
           },
           "bgcolor": "#E5ECF6",
           "radialaxis": {
            "gridcolor": "white",
            "linecolor": "white",
            "ticks": ""
           }
          },
          "scene": {
           "xaxis": {
            "backgroundcolor": "#E5ECF6",
            "gridcolor": "white",
            "gridwidth": 2,
            "linecolor": "white",
            "showbackground": true,
            "ticks": "",
            "zerolinecolor": "white"
           },
           "yaxis": {
            "backgroundcolor": "#E5ECF6",
            "gridcolor": "white",
            "gridwidth": 2,
            "linecolor": "white",
            "showbackground": true,
            "ticks": "",
            "zerolinecolor": "white"
           },
           "zaxis": {
            "backgroundcolor": "#E5ECF6",
            "gridcolor": "white",
            "gridwidth": 2,
            "linecolor": "white",
            "showbackground": true,
            "ticks": "",
            "zerolinecolor": "white"
           }
          },
          "shapedefaults": {
           "line": {
            "color": "#2a3f5f"
           }
          },
          "ternary": {
           "aaxis": {
            "gridcolor": "white",
            "linecolor": "white",
            "ticks": ""
           },
           "baxis": {
            "gridcolor": "white",
            "linecolor": "white",
            "ticks": ""
           },
           "bgcolor": "#E5ECF6",
           "caxis": {
            "gridcolor": "white",
            "linecolor": "white",
            "ticks": ""
           }
          },
          "title": {
           "x": 0.05
          },
          "xaxis": {
           "automargin": true,
           "gridcolor": "white",
           "linecolor": "white",
           "ticks": "",
           "title": {
            "standoff": 15
           },
           "zerolinecolor": "white",
           "zerolinewidth": 2
          },
          "yaxis": {
           "automargin": true,
           "gridcolor": "white",
           "linecolor": "white",
           "ticks": "",
           "title": {
            "standoff": 15
           },
           "zerolinecolor": "white",
           "zerolinewidth": 2
          }
         }
        },
        "title": {
         "font": {
          "size": 16
         }
        },
        "xaxis": {
         "showgrid": false,
         "showticklabels": false,
         "zeroline": false
        },
        "yaxis": {
         "showgrid": false,
         "showticklabels": false,
         "zeroline": false
        }
       }
      }
     },
     "metadata": {}
    }
   ],
   "source": [
    "arrowangle = 15\n",
    "edge_trace_list = []\n",
    "edge_x = []\n",
    "edge_y = []\n",
    "for edge in G.edges():\n",
    "        \n",
    "    start = G.nodes[edge[0]][\"pos\"]\n",
    "    \n",
    "    end = G.nodes[edge[1]][\"pos\"]\n",
    "    edge_x_pos = []\n",
    "    edge_y_pos = []\n",
    "    # edge_x, edge_y = addEdge(start, end, edge_x, edge_y, 1, 'end', .02, 6, 40)\n",
    "    edge_x_pos, edge_y_pos = addEdge(\n",
    "        start, end, edge_x_pos, edge_y_pos, 1, \"end\", 0.04, arrowangle, 50\n",
    "    )\n",
    "    #edge_x.extend(edge_x_pos)\n",
    "    #edge_y.extend(edge_y_pos)\n",
    "    \n",
    "    edge_text = (\n",
    "        edge[0] + ' to ' + edge[1]\n",
    "    )\n",
    "\n",
    "    edge_text_list = []\n",
    "    for i in range(\n",
    "                9\n",
    "            ):  # each label needs to be duplicated 9 times for each of the 9 points of the drawn arrows from addEdge()\n",
    "                edge_text_list.append(edge_text)\n",
    "\n",
    "    trace = go.Scatter(  # creates a trace for each edge, appends to list to be drawn later)\n",
    "            x=edge_x_pos,\n",
    "            y=edge_y_pos,\n",
    "            line=dict(width=2, color='white'),\n",
    "            hoverinfo=\"text\",\n",
    "            text=(edge_text_list),\n",
    "            mode=\"lines\",\n",
    "            opacity = 0.5\n",
    "        )\n",
    "    edge_trace_list.append(trace)\n",
    "\n",
    "node_trace = go.Scatter(\n",
    "        x=x_pos,\n",
    "        y=y_pos,\n",
    "        mode=\"markers\",\n",
    "        hoverinfo=\"text\",\n",
    "        hovertext=hover_labels,\n",
    "        marker=dict(\n",
    "            showscale=False,\n",
    "            colorscale='aggrnyl',\n",
    "            reversescale=False,\n",
    "            color='blue',\n",
    "            size=50,\n",
    "            colorbar=dict(\n",
    "                thickness=35,\n",
    "                title=\"Probability of Introduction\",\n",
    "                titlefont=dict(color=\"white\", size=14),\n",
    "                tickfont=dict(color=\"white\"),\n",
    "                xanchor=\"left\",\n",
    "                titleside=\"right\",\n",
    "                bgcolor=\"#19191a\",\n",
    "            ),\n",
    "            line_width=3,\n",
    "            line_color='grey',\n",
    "        ),\n",
    "    )\n",
    "    \n",
    "fig = go.Figure(\n",
    "        data=[],\n",
    "        layout=go.Layout(\n",
    "            plot_bgcolor=\"#19191a\",\n",
    "            paper_bgcolor=\"#19191a\",\n",
    "            titlefont_size=16,\n",
    "            showlegend=False,\n",
    "            hovermode=\"closest\",\n",
    "            margin=dict(b=0, l=0, r=0, t=0, pad=0),\n",
    "            xaxis=dict(showgrid=False, zeroline=False, showticklabels=False),\n",
    "            yaxis=dict(showgrid=False, zeroline=False, showticklabels=False),\n",
    "        ),\n",
    "    )\n",
    "\n",
    "\n",
    "\n",
    "\n",
    "for trace in edge_trace_list:\n",
    "    fig.add_trace(trace)\n",
    "fig.add_trace(node_trace)\n",
    "\n",
    "\n",
    "\n",
    "annotations = []\n",
    "for (\n",
    "        node\n",
    "    ) in (\n",
    "        G.nodes()\n",
    "    ):  # sets color for node ISO code annotations, which float over each node\n",
    "        if node != \"Origin\":\n",
    "            x, y = G.nodes[node][\"pos\"]\n",
    "            node_text = country_codes_dict[node]\n",
    "            \n",
    "\n",
    "            annotations.append(\n",
    "                dict(\n",
    "                    x=x,\n",
    "                    y=y,\n",
    "                    xref=\"x\",\n",
    "                    yref=\"y\",\n",
    "                    text=node_text,  # node name that will be displayed\n",
    "                    xanchor=\"right\",\n",
    "                    xshift=15,\n",
    "                    font=dict(color='white', size=12),\n",
    "                    showarrow=False,\n",
    "                    arrowhead=1,\n",
    "                    ax=-10,\n",
    "                    ay=-10,\n",
    "                ),\n",
    "            )\n",
    "fig.update_layout(\n",
    "        #height=850,  # sets fig size - could potentially be adaptive\n",
    "        showlegend=False,\n",
    "        annotations=annotations,  # shows iSO annotations\n",
    "    )\n",
    "fig\n"
   ]
  },
  {
   "cell_type": "code",
   "execution_count": 15,
   "metadata": {},
   "outputs": [],
   "source": []
  },
  {
   "cell_type": "code",
   "execution_count": null,
   "metadata": {},
   "outputs": [],
   "source": []
  }
 ]
}