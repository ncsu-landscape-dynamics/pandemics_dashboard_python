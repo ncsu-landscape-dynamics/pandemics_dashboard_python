{
 "metadata": {
  "language_info": {
   "codemirror_mode": {
    "name": "ipython",
    "version": 3
   },
   "file_extension": ".py",
   "mimetype": "text/x-python",
   "name": "python",
   "nbconvert_exporter": "python",
   "pygments_lexer": "ipython3",
   "version": "3.8.5-final"
  },
  "orig_nbformat": 2,
  "kernelspec": {
   "name": "python3",
   "display_name": "Python 3",
   "language": "python"
  }
 },
 "nbformat": 4,
 "nbformat_minor": 2,
 "cells": [
  {
   "cell_type": "code",
   "execution_count": 1,
   "metadata": {},
   "outputs": [],
   "source": [
    "import pickle\n",
    "import os\n",
    "import preprocess_pandemic_viz_data\n",
    "import time\n",
    "\n",
    "\n",
    "\n",
    "filepath = r\"Q:\\Shared drives\\Pandemic Data\\outputs\\slf_linearTrade_gamma4-1_hiiMask16_phyto0.3-0.8_wTWN\"\n"
   ]
  },
  {
   "cell_type": "code",
   "execution_count": 2,
   "metadata": {},
   "outputs": [
    {
     "output_type": "stream",
     "name": "stdout",
     "text": [
      "slf_linearTrade_gamma4-1_hiiMask16_phyto0.3-0.8_wTWN_alpha0.194_lamda3.34_6801-6804\n",
      "Generating Cartographic Data for:  slf_linearTrade_gamma4-1_hiiMask16_phyto0.3-0.8_wTWN_alpha0.194_lamda3.34_6801-6804 1 of 3\n",
      "slf_linearTrade_gamma4-1_hiiMask16_phyto0.3-0.8_wTWN_alpha0.198_lamda4.37_6801-6804\n",
      "Generating Cartographic Data for:  slf_linearTrade_gamma4-1_hiiMask16_phyto0.3-0.8_wTWN_alpha0.198_lamda4.37_6801-6804 2 of 3\n",
      "slf_linearTrade_gamma4-1_hiiMask16_phyto0.3-0.8_wTWN_alpha0.181_lamda4.17_6801-6804\n",
      "Generating Cartographic Data for:  slf_linearTrade_gamma4-1_hiiMask16_phyto0.3-0.8_wTWN_alpha0.181_lamda4.17_6801-6804 3 of 3\n"
     ]
    }
   ],
   "source": [
    "#generate_viz_data(filepath)\n",
    "preprocess_pandemic_viz_data.generate_viz_data(filepath)"
   ]
  },
  {
   "cell_type": "code",
   "execution_count": 2,
   "metadata": {},
   "outputs": [],
   "source": [
    "dat = pickle.load( open( \"Q:\\Shared drives\\Pandemic Data\\outputs\\slf_linearTrade_gamma4-1_hiiMask16_phyto0.3-0.8_wTWN\\Viz_data\\carto_data.p\", \"rb\" ) )\n",
    "\n"
   ]
  },
  {
   "cell_type": "code",
   "execution_count": 3,
   "metadata": {},
   "outputs": [
    {
     "output_type": "stream",
     "name": "stdout",
     "text": [
      "0.0\n"
     ]
    }
   ],
   "source": [
    "\n",
    "start = time.time()\n",
    "print(dat['slf_linearTrade_gamma4-1_hiiMask16_phyto0.3-0.8_wTWN_alpha0.194_lamda3.34_6801-6804']['fi_mean']['ISO'])\n",
    "print(dat['slf_linearTrade_gamma4-1_hiiMask16_phyto0.3-0.8_wTWN_alpha0.194_lamda3.34_6801-6804']['fi_mean']['data'])\n",
    "end = time.time()\n",
    "print(end - start)\n"
   ]
  },
  {
   "cell_type": "code",
   "execution_count": null,
   "metadata": {},
   "outputs": [],
   "source": []
  }
 ]
}